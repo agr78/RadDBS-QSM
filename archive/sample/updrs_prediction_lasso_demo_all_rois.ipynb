{
 "cells": [
  {
   "cell_type": "code",
   "execution_count": 1,
   "metadata": {},
   "outputs": [],
   "source": [
    "from time import time\n",
    "from scipy import sparse\n",
    "from scipy import linalg\n",
    "import matplotlib.pyplot as plt\n",
    "import nibabel as nib\n",
    "from sklearn.datasets import make_regression\n",
    "from sklearn.linear_model import Lasso\n",
    "from sklearn.preprocessing import StandardScaler\n",
    "import SimpleITK as sitk\n",
    "import six\n",
    "from radiomics import featureextractor \n",
    "from radiomics import imageoperations\n",
    "import numpy as np\n",
    "from numpy import linalg"
   ]
  },
  {
   "cell_type": "code",
   "execution_count": 2,
   "metadata": {},
   "outputs": [],
   "source": [
    "# Load QSM and segmentation\n",
    "seg = nib.load('F:/dbs/PD_auto_qsm_t1/PD_auto_QSM/001/seg.nii')\n",
    "qsm = nib.load('F:/dbs/PD_auto_qsm_t1/PD_auto_QSM/001/QSM.nii')\n",
    "voxel_size = qsm.header['pixdim'][0:3]"
   ]
  },
  {
   "cell_type": "code",
   "execution_count": 3,
   "metadata": {},
   "outputs": [
    {
     "name": "stderr",
     "output_type": "stream",
     "text": [
      "parameter force2D must be set to True to enable shape2D extraction\n",
      "GLCM is symmetrical, therefore Sum Average = 2 * Joint Average, only 1 needs to be calculated\n",
      "parameter force2D must be set to True to enable shape2D extraction\n",
      "GLCM is symmetrical, therefore Sum Average = 2 * Joint Average, only 1 needs to be calculated\n",
      "parameter force2D must be set to True to enable shape2D extraction\n",
      "GLCM is symmetrical, therefore Sum Average = 2 * Joint Average, only 1 needs to be calculated\n",
      "parameter force2D must be set to True to enable shape2D extraction\n",
      "GLCM is symmetrical, therefore Sum Average = 2 * Joint Average, only 1 needs to be calculated\n"
     ]
    }
   ],
   "source": [
    "seg_sitk = sitk.GetImageFromArray(seg.get_fdata())\n",
    "seg_sitk.SetSpacing(voxel_size.tolist())\n",
    "qsm_sitk = sitk.GetImageFromArray(qsm.get_fdata())\n",
    "qsm_sitk.SetSpacing(voxel_size.tolist())\n",
    "qsm_sitk_n = imageoperations.normalizeImage(qsm_sitk)\n",
    "\n",
    "extractor0 = featureextractor.RadiomicsFeatureExtractor()\n",
    "extractor0.enableAllFeatures()\n",
    "# feat_class = 'glcm'\n",
    "# extractor0.enableFeatureClassByName(feat_class)\n",
    "# Perform global extraction to obtain bounding box for each ROI\n",
    "Phi = []\n",
    "for j in range(1,int(np.max(seg.get_fdata()))+1):\n",
    "    featureVector = extractor0.execute(qsm_sitk,seg_sitk,label=j)\n",
    "    Phi.append(featureVector)\n"
   ]
  },
  {
   "cell_type": "code",
   "execution_count": 4,
   "metadata": {},
   "outputs": [],
   "source": [
    "x_row = []\n",
    "for j in range(int(np.max(seg.get_fdata()))):\n",
    "    featureVector = Phi[j]\n",
    "    for key, value in six.iteritems(featureVector):\n",
    "        if 'diagnostic' in key:\n",
    "            next\n",
    "        else:\n",
    "            x_row.append(value)\n",
    "\n",
    "X0 = np.array(x_row)\n",
    "X = sparse.coo_matrix(X0)\n"
   ]
  },
  {
   "cell_type": "code",
   "execution_count": 5,
   "metadata": {},
   "outputs": [
    {
     "data": {
      "text/plain": [
       "array([ 5.27344127e-01,  3.81287663e-01,  5.93355981e+00,  1.55618982e+01,\n",
       "        1.26491106e+01,  1.75730618e+01,  1.16431310e+01,  1.78272965e+01,\n",
       "        4.54828125e+02,  8.20647563e+00,  7.07813904e-01,  4.04076174e+02,\n",
       "        8.88415099e-01,  4.64062500e+02,  1.23000000e+02,  1.96000000e+02,\n",
       "        2.03430140e+07,  2.31189310e+00,  3.50000000e+01,  5.20518100e+00,\n",
       "        2.39000000e+02,  2.39348511e+01,  1.53740606e+02,  1.51000000e+02,\n",
       "        6.00000000e+00,  2.33000000e+02,  1.62543506e+01,  1.57029293e+02,\n",
       "       -6.71941332e-01,  1.14429454e+07,  2.53544904e-01,  1.02202484e+03,\n",
       "        4.56541307e+01,  1.19475961e+02, -4.08465041e+00,  5.07826489e+00,\n",
       "        7.25516286e-01,  7.47684517e-01,  5.15040893e-01,  1.28211484e+00,\n",
       "        4.46955648e-01,  7.71386769e-01,  7.62680950e-01,  9.93039774e-01,\n",
       "        9.54674170e-01, -3.22060433e-01,  8.59564049e-01,  3.83269427e-01,\n",
       "        6.67568272e+00,  1.26247974e-01,  3.70785509e+00,  7.92622887e-01,\n",
       "        2.53097465e-01,  1.33513654e+01,  3.05092479e+00,  1.45094529e+00,\n",
       "        6.44075789e+00,  3.72084848e+01,  4.51011938e-02,  3.86507989e+01,\n",
       "        2.09174545e+02,  1.69425748e+00,  4.59127273e+01,  1.88379394e+02,\n",
       "        8.53288242e+03,  4.46647466e+00,  3.02700692e-02,  4.14160560e-02,\n",
       "        1.56896856e+00,  3.46704651e-03,  9.92723159e+01,  2.11117374e-01,\n",
       "        2.24912083e+00,  4.56812702e+01,  4.79418770e+00,  2.18258803e+02,\n",
       "        1.26187331e-01,  3.52038036e-02,  4.11373724e+00,  1.94583070e+02,\n",
       "        4.04727088e-01,  5.67832168e-01,  1.48383812e+00,  6.49276820e-01,\n",
       "        2.91299693e+01,  2.66399357e-02,  4.62162162e+00,  1.24908692e-01,\n",
       "        5.59970782e+00,  3.62972973e+01,  4.33813514e+03,  1.90285622e+05,\n",
       "        1.04115548e+02,  1.03154047e-01,  9.48648649e+00,  2.56391527e-01,\n",
       "        4.97759995e-01,  1.78088206e+01,  5.31854542e-02,  4.55095261e+00,\n",
       "        4.48484848e-02,  3.84096567e+03,  7.56394258e-01,  1.57361068e-02,\n",
       "        1.64643449e+01,  1.42701184e-02,  7.20588709e-01,  2.99352397e-01,\n",
       "        2.52496708e-01,  5.21151632e+00,  2.06399377e+01,  8.75000000e+00,\n",
       "        1.93552319e+01,  1.05475116e+01,  2.44463699e+01,  3.74273438e+02,\n",
       "        6.17861484e+00,  5.63914384e-01,  4.45379567e+02,  1.18998444e+00,\n",
       "        3.85875000e+02,  7.40000000e+01,  1.62000000e+02,  1.06595910e+07,\n",
       "        2.64178819e+00,  4.70000000e+01,  3.47829230e+00,  2.32000000e+02,\n",
       "        2.87647366e+01,  1.19097668e+02,  1.20000000e+02, -7.00000000e+00,\n",
       "        2.39000000e+02,  1.97439007e+01,  1.24654572e+02,  1.03522934e-02,\n",
       "        5.99601994e+06,  1.93163563e-01,  1.35450795e+03,  4.14854958e+01,\n",
       "        1.65517429e+02,  2.88107641e+00,  7.10377398e+00,  9.23657846e-01,\n",
       "        7.70121329e-01,  6.47064667e-01,  1.38769610e+00,  4.79759860e-01,\n",
       "        7.16482563e-01,  7.03196235e-01,  9.92616933e-01,  9.47771494e-01,\n",
       "       -3.07775367e-01,  8.73912704e-01,  4.56066232e-01,  6.31958247e+00,\n",
       "        7.64762747e-02,  4.27652360e+00,  8.48320450e-01,  1.62502075e-01,\n",
       "        1.26391649e+01,  3.39774293e+00,  2.00685796e+00,  6.49255051e+00,\n",
       "        3.90204082e+01,  5.68810615e-02,  2.49988525e+01,  1.32510204e+02,\n",
       "        2.34357283e+00,  4.19271137e+01,  1.12527697e+02,  4.66516327e+03,\n",
       "        3.11692639e+00,  3.51516893e-02,  6.10860266e-02,  2.39458085e+00,\n",
       "        5.10853680e-03,  8.23393220e+01,  1.76475277e-01,  2.75012168e+00,\n",
       "        4.21926473e+01,  3.08113795e+00,  1.28577229e+02,  9.74908532e-02,\n",
       "        3.83139607e-02,  3.98647962e+00,  2.47348798e+02,  5.18133500e-01,\n",
       "        6.78627495e-01,  7.76730948e-01,  7.40108148e-01,  3.14561157e+01,\n",
       "        3.06748600e-02,  5.55813953e+00,  1.29259059e-01,  6.13737155e+00,\n",
       "        4.15813953e+01,  1.80683721e+03,  7.24818140e+04,  4.99798061e+01,\n",
       "        9.28655351e-02,  1.13255814e+01,  2.63385614e-01,  5.19287576e-01,\n",
       "        1.79873897e+01,  6.11823547e-02,  4.63849027e+00,  6.26822157e-02,\n",
       "        1.55232342e+03,  6.86920229e-01,  1.82878032e-02,  2.35788360e+01,\n",
       "        2.04122637e-02,  8.32040321e-01,  3.52800059e-01,  1.90521249e-01,\n",
       "        1.86107364e+00,  9.76832582e+00,  9.72432517e+00,  5.46008242e+00,\n",
       "        5.22015325e+00,  1.10679718e+01,  3.78984375e+01,  3.44626593e+00,\n",
       "        6.41922639e-01,  8.49993560e+01,  2.24281954e+00,  4.21875000e+01,\n",
       "        1.20000000e+01,  1.93000000e+02,  1.05048600e+06,  3.34038349e+00,\n",
       "        1.17000000e+02,  2.04478034e+00,  2.29000000e+02,  5.77205333e+01,\n",
       "        9.70133333e+01,  9.00000000e+01, -3.60000000e+01,  2.65000000e+02,\n",
       "        4.44422222e+01,  1.18348975e+02,  1.65724679e-01,  5.90898375e+05,\n",
       "        1.07911111e-01,  4.59489316e+03,  4.65421553e+01,  8.71711161e+02,\n",
       "        1.95025974e+01,  2.05864759e+01,  2.15199392e+00,  8.06134602e-01,\n",
       "        1.10604752e+00,  1.71306400e+00,  7.88229459e-01,  5.90817888e-01,\n",
       "        5.49291793e-01,  9.85674117e-01,  9.20378885e-01, -4.87297356e-01,\n",
       "        9.73820110e-01,  4.62705649e-01,  6.46678668e+00,  4.96911551e-02,\n",
       "        4.69219790e+00,  9.03455424e-01,  1.08176218e-01,  1.29335734e+01,\n",
       "        3.73565516e+00,  5.68461745e+00,  5.04137002e+00,  9.80000000e+00,\n",
       "        1.30666667e-01,  5.98648889e+00,  8.09333333e+00,  7.18328889e+00,\n",
       "        4.93466667e+01,  2.76400000e+01,  9.97320000e+02,  1.22843816e+00,\n",
       "        5.57706619e-02,  1.39832376e-01,  8.77281476e+00,  1.72762177e-02,\n",
       "        6.74368046e+00,  1.04486979e-01,  7.45689841e+00,  5.09182491e+01,\n",
       "        1.56693108e+00,  7.36472088e+01,  8.27450884e-02,  5.78899546e-02,\n",
       "        3.79196991e+00,  4.90360691e+01,  7.46015756e-01,  8.59487179e-01,\n",
       "        1.65596768e-01,  8.78765937e-01,  4.59517454e+01,  5.25943366e-02,\n",
       "        1.82352941e+00,  1.07266436e-01,  9.23183391e+00,  5.74117647e+01,\n",
       "        3.22941176e+01,  1.37629412e+03,  1.40664662e+00,  9.68848803e-02,\n",
       "        2.64705882e+00,  1.55709343e-01,  3.50252360e-01,  2.33711928e+01,\n",
       "        6.48779944e-02,  3.85216872e+00,  2.26666667e-01,  1.28304498e+01,\n",
       "        9.40483452e-02,  2.00669904e-01,  3.44011684e+01,  7.35466629e-02,\n",
       "        9.04481672e+00,  5.32944510e-01,  3.51134678e-01,  2.21196801e+00,\n",
       "        6.29948606e+00,  6.25000000e+00,  4.03887361e+00,  4.58938994e+00,\n",
       "        7.11512474e+00,  2.69531250e+01,  3.35727651e+00,  7.08229443e-01,\n",
       "        6.13832055e+01,  2.27740588e+00,  2.98125000e+01,  9.06000000e+01,\n",
       "        2.14000000e+02,  1.36604700e+06,  2.77024173e+00,  6.30000000e+01,\n",
       "        2.22774411e+00,  2.28000000e+02,  3.77871129e+01,  1.54094340e+02,\n",
       "        1.60000000e+02,  5.40000000e+01,  1.74000000e+02,  2.76930399e+01,\n",
       "        1.60544298e+02, -3.65977078e-01,  7.68401438e+05,  1.59131363e-01,\n",
       "        2.02940619e+03,  2.35826649e+01,  1.44984145e+02, -8.03035693e+00,\n",
       "        8.07922848e+00,  2.82616646e+00,  5.04453000e-01,  1.34303427e+00,\n",
       "        1.53026151e+00,  6.57524175e-01,  5.26708287e-01,  4.71501077e-01,\n",
       "        9.60186950e-01,  8.65960149e-01, -4.18909385e-01,  9.35421964e-01,\n",
       "        4.70478701e-01,  4.70959007e+00,  6.78063318e-02,  4.13748351e+00,\n",
       "        7.85510213e-01,  1.17365670e-01,  9.41918015e+00,  3.05168285e+00,\n",
       "        2.72634873e+00,  4.59821662e+00,  8.77358491e+00,  1.65539338e-01,\n",
       "        2.98255607e+00,  8.43396226e+00,  3.24884300e+00,  2.47924528e+01,\n",
       "        1.79433962e+01,  5.62716981e+02,  9.79069252e-01,  1.22002123e-01,\n",
       "        1.78468960e-01,  3.55691717e+00,  4.30604737e-02,  7.47396041e+00,\n",
       "        1.58564399e-01,  3.33290100e+00,  2.40974447e+01,  1.54296588e+00,\n",
       "        4.02781733e+01,  1.64261122e-01,  1.30824882e-01,  3.11785842e+00,\n",
       "        4.02060768e+01,  8.20048656e-01,  8.89695210e-01,  1.59645958e-01,\n",
       "        9.03683502e-01,  2.13692352e+01,  1.23862235e-01,  1.92307692e+00,\n",
       "        1.47928994e-01,  4.74556213e+00,  1.95384615e+01,  2.94615385e+01,\n",
       "        8.34000000e+02,  1.81094638e+00,  2.40763235e-01,  2.84615385e+00,\n",
       "        2.18934911e-01,  4.40121676e-01,  8.75616156e+00,  1.32085806e-01,\n",
       "        3.70043972e+00,  2.45283019e-01,  1.28402367e+01,  1.98096076e-01,\n",
       "        1.68057127e-01,  1.83864516e+01,  9.28445812e-02,  3.21395751e+00])"
      ]
     },
     "execution_count": 5,
     "metadata": {},
     "output_type": "execute_result"
    }
   ],
   "source": [
    "X0"
   ]
  },
  {
   "cell_type": "code",
   "execution_count": 6,
   "metadata": {},
   "outputs": [
    {
     "data": {
      "image/png": "[encoded data removed]",
      "text/plain": [
       "<Figure size 432x288 with 1 Axes>"
      ]
     },
     "metadata": {},
     "output_type": "display_data"
    }
   ],
   "source": [
    "plt.imshow(np.expand_dims(X0,0))\n",
    "plt.xticks([])\n",
    "plt.yticks([])\n",
    "plt.title('Feature matrix $X$');"
   ]
  },
  {
   "cell_type": "code",
   "execution_count": 7,
   "metadata": {},
   "outputs": [],
   "source": [
    "X0 = X0.T"
   ]
  },
  {
   "cell_type": "code",
   "execution_count": 8,
   "metadata": {},
   "outputs": [
    {
     "data": {
      "text/plain": [
       "(428,)"
      ]
     },
     "execution_count": 8,
     "metadata": {},
     "output_type": "execute_result"
    }
   ],
   "source": [
    "X0.shape"
   ]
  },
  {
   "cell_type": "code",
   "execution_count": 9,
   "metadata": {},
   "outputs": [
    {
     "data": {
      "text/plain": [
       "1"
      ]
     },
     "execution_count": 9,
     "metadata": {},
     "output_type": "execute_result"
    }
   ],
   "source": [
    "linalg.matrix_rank(X0)"
   ]
  },
  {
   "cell_type": "code",
   "execution_count": 10,
   "metadata": {},
   "outputs": [],
   "source": [
    "# UPDRS score\n",
    "# Response vector u [=] n_samples x n_targets\n",
    "# 1 x 4\n",
    "u = np.expand_dims(np.array([0,1,24,1]).T,0)"
   ]
  },
  {
   "cell_type": "code",
   "execution_count": 11,
   "metadata": {},
   "outputs": [],
   "source": [
    "# Simple 1D example\n",
    "scaler = StandardScaler()\n",
    "X0 = scaler.fit_transform(X0.reshape(-1,1))\n",
    "X0 = X0.T"
   ]
  },
  {
   "cell_type": "code",
   "execution_count": 12,
   "metadata": {},
   "outputs": [
    {
     "data": {
      "text/plain": [
       "array([[-0.09653406, -0.09653417, -0.09652981, -0.09652223, -0.09652452,\n",
       "        -0.09652065, -0.09652532, -0.09652045, -0.09617674, -0.09652802,\n",
       "        -0.09653392, -0.09621666, -0.09653377, -0.09616948, -0.09643773,\n",
       "        -0.09638031, 15.90374275, -0.09653266, -0.09650695, -0.09653038,\n",
       "        -0.09634649, -0.09651565, -0.09641355, -0.09641571, -0.09652975,\n",
       "        -0.09635121, -0.09652169, -0.09641097, -0.096535  ,  8.90362146,\n",
       "        -0.09653427, -0.09573063, -0.09649857, -0.0964405 , -0.09653769,\n",
       "        -0.09653048, -0.0965339 , -0.09653389, -0.09653407, -0.09653347,\n",
       "        -0.09653412, -0.09653387, -0.09653387, -0.09653369, -0.09653372,\n",
       "        -0.09653473, -0.0965338 , -0.09653417, -0.09652922, -0.09653437,\n",
       "        -0.09653156, -0.09653385, -0.09653427, -0.09652397, -0.09653207,\n",
       "        -0.09653333, -0.09652941, -0.09650521, -0.09653444, -0.09650407,\n",
       "        -0.09636995, -0.09653314, -0.09649836, -0.09638631, -0.08982315,\n",
       "        -0.09653096, -0.09653445, -0.09653444, -0.09653324, -0.09653447,\n",
       "        -0.09645639, -0.09653431, -0.0965327 , -0.09649854, -0.0965307 ,\n",
       "        -0.09636281, -0.09653437, -0.09653445, -0.09653124, -0.09638143,\n",
       "        -0.09653416, -0.09653403, -0.09653331, -0.09653396, -0.09651156,\n",
       "        -0.09653445, -0.09653084, -0.09653438, -0.09653007, -0.09650592,\n",
       "        -0.09312242,  0.05312981, -0.09645258, -0.09653439, -0.09652701,\n",
       "        -0.09653427, -0.09653408, -0.09652047, -0.09653443, -0.09653089,\n",
       "        -0.09653444, -0.09351346, -0.09653388, -0.09653446, -0.09652152,\n",
       "        -0.09653446, -0.09653391, -0.09653424, -0.09653427, -0.09653037,\n",
       "        -0.09651824, -0.09652759, -0.09651925, -0.09652618, -0.09651525,\n",
       "        -0.0962401 , -0.09652961, -0.09653403, -0.09618417, -0.09653354,\n",
       "        -0.09623097, -0.09647627, -0.09640706,  8.28749412, -0.0965324 ,\n",
       "        -0.09649751, -0.09653174, -0.096352  , -0.09651185, -0.0964408 ,\n",
       "        -0.09644009, -0.09653998, -0.09634649, -0.09651894, -0.09643643,\n",
       "        -0.09653447,  4.61948161, -0.09653432, -0.09546912, -0.09650184,\n",
       "        -0.09640429, -0.09653221, -0.09652889, -0.09653375, -0.09653387,\n",
       "        -0.09653396, -0.09653338, -0.0965341 , -0.09653391, -0.09653392,\n",
       "        -0.09653369, -0.09653373, -0.09653472, -0.09653379, -0.09653411,\n",
       "        -0.0965295 , -0.09653441, -0.09653111, -0.09653381, -0.09653435,\n",
       "        -0.09652453, -0.0965318 , -0.0965329 , -0.09652937, -0.09650378,\n",
       "        -0.09653443, -0.09651481, -0.09643025, -0.09653263, -0.0965015 ,\n",
       "        -0.09644597, -0.09286521, -0.09653202, -0.09653445, -0.09653443,\n",
       "        -0.09653259, -0.09653447, -0.09646971, -0.09653433, -0.09653231,\n",
       "        -0.09650129, -0.09653205, -0.09643334, -0.0965344 , -0.09653444,\n",
       "        -0.09653134, -0.09633993, -0.09653407, -0.09653394, -0.09653386,\n",
       "        -0.09653389, -0.09650973, -0.09653445, -0.0965301 , -0.09653437,\n",
       "        -0.09652965, -0.09650177, -0.09511335, -0.03952576, -0.09649516,\n",
       "        -0.0965344 , -0.09652557, -0.09653427, -0.09653407, -0.09652033,\n",
       "        -0.09653443, -0.09653083, -0.09653442, -0.09531353, -0.09653393,\n",
       "        -0.09653446, -0.09651593, -0.09653446, -0.09653382, -0.0965342 ,\n",
       "        -0.09653432, -0.09653301, -0.09652679, -0.09652683, -0.09653018,\n",
       "        -0.09653037, -0.09652577, -0.09650467, -0.09653176, -0.09653397,\n",
       "        -0.09646762, -0.09653271, -0.09650129, -0.09652504, -0.09638267,\n",
       "         0.72969841, -0.09653185, -0.09644245, -0.09653287, -0.09635436,\n",
       "        -0.09648907, -0.09645817, -0.09646369, -0.09656279, -0.09632604,\n",
       "        -0.09649952, -0.09644139, -0.09653434,  0.36822153, -0.09653439,\n",
       "        -0.09292048, -0.09649787, -0.09584885, -0.09651913, -0.09651828,\n",
       "        -0.09653278, -0.09653384, -0.0965336 , -0.09653313, -0.09653385,\n",
       "        -0.09653401, -0.09653404, -0.0965337 , -0.09653375, -0.09653486,\n",
       "        -0.09653371, -0.09653411, -0.09652939, -0.09653443, -0.09653078,\n",
       "        -0.09653376, -0.09653439, -0.0965243 , -0.09653154, -0.09653   ,\n",
       "        -0.09653051, -0.09652677, -0.09653437, -0.09652976, -0.09652811,\n",
       "        -0.09652882, -0.09649566, -0.09651273, -0.09575006, -0.09653351,\n",
       "        -0.09653443, -0.09653436, -0.09652757, -0.09653446, -0.09652917,\n",
       "        -0.09653439, -0.09652861, -0.09649443, -0.09653324, -0.09647655,\n",
       "        -0.09653441, -0.09653443, -0.09653149, -0.09649591, -0.09653389,\n",
       "        -0.0965338 , -0.09653434, -0.09653378, -0.09649833, -0.09653443,\n",
       "        -0.09653304, -0.09653439, -0.09652721, -0.09648932, -0.09650907,\n",
       "        -0.09545198, -0.09653337, -0.0965344 , -0.09653239, -0.09653435,\n",
       "        -0.0965342 , -0.09651609, -0.09653442, -0.09653144, -0.0965343 ,\n",
       "        -0.09652438, -0.0965344 , -0.09653432, -0.09650742, -0.09653442,\n",
       "        -0.09652736, -0.09653405, -0.0965342 , -0.09653273, -0.09652952,\n",
       "        -0.09652956, -0.0965313 , -0.09653086, -0.09652888, -0.09651327,\n",
       "        -0.09653183, -0.09653392, -0.09648619, -0.09653268, -0.09651103,\n",
       "        -0.09646321, -0.09636616,  0.97789485, -0.09653229, -0.09648492,\n",
       "        -0.09653272, -0.09635515, -0.09650475, -0.09641327, -0.09640863,\n",
       "        -0.096492  , -0.09639762, -0.09651269, -0.0964082 , -0.09653476,\n",
       "         0.50783202, -0.09653435, -0.0949383 , -0.09651593, -0.09642044,\n",
       "        -0.09654079, -0.09652812, -0.09653225, -0.09653408, -0.09653342,\n",
       "        -0.09653327, -0.09653396, -0.09653406, -0.0965341 , -0.09653372,\n",
       "        -0.09653379, -0.0965348 , -0.09653374, -0.0965341 , -0.09653077,\n",
       "        -0.09653442, -0.09653122, -0.09653386, -0.09653438, -0.09652707,\n",
       "        -0.09653207, -0.09653233, -0.09653086, -0.09652757, -0.09653434,\n",
       "        -0.09653213, -0.09652784, -0.09653192, -0.09651497, -0.09652036,\n",
       "        -0.09609188, -0.0965337 , -0.09653438, -0.09653433, -0.09653168,\n",
       "        -0.09653444, -0.0965286 , -0.09653435, -0.09653185, -0.09651552,\n",
       "        -0.09653326, -0.09650279, -0.09653434, -0.09653437, -0.09653202,\n",
       "        -0.09650285, -0.09653383, -0.09653377, -0.09653435, -0.09653376,\n",
       "        -0.09651767, -0.09653438, -0.09653296, -0.09653436, -0.09653074,\n",
       "        -0.09651911, -0.0965113 , -0.09587851, -0.09653305, -0.09653428,\n",
       "        -0.09653223, -0.0965343 , -0.09653413, -0.09652759, -0.09653437,\n",
       "        -0.09653156, -0.09653428, -0.09652437, -0.09653432, -0.09653434,\n",
       "        -0.09652001, -0.0965344 , -0.09653195]])"
      ]
     },
     "execution_count": 12,
     "metadata": {},
     "output_type": "execute_result"
    }
   ],
   "source": [
    "X0"
   ]
  },
  {
   "cell_type": "code",
   "execution_count": 13,
   "metadata": {},
   "outputs": [
    {
     "data": {
      "image/png": "[encoded data removed]",
      "text/plain": [
       "<Figure size 432x288 with 1 Axes>"
      ]
     },
     "metadata": {},
     "output_type": "display_data"
    }
   ],
   "source": [
    "plt.imshow(X0)\n",
    "plt.xticks([])\n",
    "plt.yticks([])\n",
    "plt.title('Feature matrix $X$');"
   ]
  },
  {
   "cell_type": "code",
   "execution_count": 14,
   "metadata": {},
   "outputs": [
    {
     "name": "stderr",
     "output_type": "stream",
     "text": [
      "c:\\Users\\agr78\\Anaconda3\\envs\\pdradenv\\lib\\site-packages\\sklearn\\linear_model\\_coordinate_descent.py:648: ConvergenceWarning: Objective did not converge. You might want to increase the number of iterations, check the scale of the features or consider increasing regularisation. Duality gap: 0.000e+00, tolerance: 0.000e+00\n",
      "  coef_, l1_reg, l2_reg, X, y, max_iter, tol, rng, random, positive\n"
     ]
    }
   ],
   "source": [
    "reg = Lasso(alpha=0.1,fit_intercept=False, max_iter=10000, tol=0.1)\n",
    "w_min = reg.fit(X0,u)\n",
    "# reg.predict()"
   ]
  },
  {
   "cell_type": "code",
   "execution_count": 15,
   "metadata": {},
   "outputs": [
    {
     "data": {
      "text/plain": [
       "array([[ 0.00000000e+00,  0.00000000e+00,  0.00000000e+00, ...,\n",
       "         0.00000000e+00,  0.00000000e+00,  0.00000000e+00],\n",
       "       [-0.00000000e+00, -0.00000000e+00, -0.00000000e+00, ...,\n",
       "        -0.00000000e+00, -0.00000000e+00, -0.00000000e+00],\n",
       "       [-2.27220118e+02, -2.55399626e-05, -0.00000000e+00, ...,\n",
       "        -0.00000000e+00, -0.00000000e+00, -0.00000000e+00],\n",
       "       [-0.00000000e+00, -0.00000000e+00, -0.00000000e+00, ...,\n",
       "        -0.00000000e+00, -0.00000000e+00, -0.00000000e+00]])"
      ]
     },
     "execution_count": 15,
     "metadata": {},
     "output_type": "execute_result"
    }
   ],
   "source": [
    "w_min.coef_"
   ]
  },
  {
   "cell_type": "code",
   "execution_count": 16,
   "metadata": {},
   "outputs": [],
   "source": [
    "#Closed form solution to L2 norm of Aw = u\n",
    "L = linalg.det(np.matmul(X0,X0.T))\n",
    "if abs(L) > 0:\n",
    "    wc =np.matmul(X0.T,linalg.inv(np.matmul(X0,X0.T)))*np.squeeze(u)"
   ]
  },
  {
   "cell_type": "code",
   "execution_count": 17,
   "metadata": {},
   "outputs": [
    {
     "data": {
      "text/plain": [
       "(4, 428)"
      ]
     },
     "execution_count": 17,
     "metadata": {},
     "output_type": "execute_result"
    }
   ],
   "source": [
    "(w_min.coef_).shape"
   ]
  },
  {
   "cell_type": "code",
   "execution_count": 18,
   "metadata": {},
   "outputs": [
    {
     "data": {
      "text/plain": [
       "(1, 428)"
      ]
     },
     "execution_count": 18,
     "metadata": {},
     "output_type": "execute_result"
    }
   ],
   "source": [
    "X0.shape"
   ]
  },
  {
   "cell_type": "code",
   "execution_count": 19,
   "metadata": {},
   "outputs": [],
   "source": [
    "# Compute u_est = Aw_min\n",
    "u_est = np.matmul((X0),(w_min.coef_).T)"
   ]
  },
  {
   "cell_type": "code",
   "execution_count": 20,
   "metadata": {},
   "outputs": [
    {
     "data": {
      "text/plain": [
       "array([[ 0.        ,  0.99371217, 23.99371217,  0.99371217]])"
      ]
     },
     "execution_count": 20,
     "metadata": {},
     "output_type": "execute_result"
    }
   ],
   "source": [
    "u_est"
   ]
  },
  {
   "cell_type": "code",
   "execution_count": 21,
   "metadata": {},
   "outputs": [],
   "source": [
    "mse = np.sum(np.sqrt((u-u_est)**2),1)"
   ]
  },
  {
   "cell_type": "code",
   "execution_count": 22,
   "metadata": {},
   "outputs": [
    {
     "data": {
      "text/plain": [
       "array([0.01886348])"
      ]
     },
     "execution_count": 22,
     "metadata": {},
     "output_type": "execute_result"
    }
   ],
   "source": [
    "mse"
   ]
  },
  {
   "cell_type": "code",
   "execution_count": 23,
   "metadata": {},
   "outputs": [],
   "source": [
    "# Compute u_est = Aw_min\n",
    "u_c = np.matmul((X0),(wc))"
   ]
  },
  {
   "cell_type": "code",
   "execution_count": 24,
   "metadata": {},
   "outputs": [
    {
     "data": {
      "text/plain": [
       "array([[ 0.,  1., 24.,  1.]])"
      ]
     },
     "execution_count": 24,
     "metadata": {},
     "output_type": "execute_result"
    }
   ],
   "source": [
    "u_c"
   ]
  }
 ],
 "metadata": {
  "kernelspec": {
   "display_name": "pdradenv",
   "language": "python",
   "name": "python3"
  },
  "language_info": {
   "codemirror_mode": {
    "name": "ipython",
    "version": 3
   },
   "file_extension": ".py",
   "mimetype": "text/x-python",
   "name": "python",
   "nbconvert_exporter": "python",
   "pygments_lexer": "ipython3",
   "version": "3.7.15"
  },
  "orig_nbformat": 4,
  "vscode": {
   "interpreter": {
    "hash": "14732b5bb7ad6abfe54a083b8d194ae3941adfb1b18321b588b21cb8f420fced"
   }
  }
 },
 "nbformat": 4,
 "nbformat_minor": 2
}
