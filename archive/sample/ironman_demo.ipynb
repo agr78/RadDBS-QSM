{
 "cells": [
  {
   "cell_type": "code",
   "execution_count": null,
   "metadata": {},
   "outputs": [],
   "source": [
    "# Preliminary data notebook for\n",
    "# NIH: Imaging Guided Intervention Surgery Study Section\n",
    "\n",
    "# Exploratory aim: evaluate presurgical scans between STN and GPi targets\n",
    "#   Given retrospective GPi acquisitions?\n",
    "#   Search for radiomic differentiators for STN versus GPi selection in presurgical scans"
   ]
  },
  {
   "cell_type": "code",
   "execution_count": 1,
   "metadata": {},
   "outputs": [],
   "source": [
    "# Import libraries\n",
    "from time import time\n",
    "from joblib import Memory\n",
    "from scipy import sparse\n",
    "from scipy import linalg\n",
    "from scipy.cluster.hierarchy import dendrogram, linkage\n",
    "import matplotlib.pyplot as plt\n",
    "import nibabel as nib\n",
    "import tempfile\n",
    "from sklearn.datasets import make_regression\n",
    "from sklearn.linear_model import Lasso\n",
    "from sklearn.preprocessing import StandardScaler\n",
    "from sklearn.cluster import FeatureAgglomeration\n",
    "from sklearn.cluster import ward_tree\n",
    "from sklearn.pipeline import Pipeline\n",
    "from sklearn.model_selection import GridSearchCV\n",
    "from sklearn.model_selection import KFold\n",
    "from sklearn.multiclass import OneVsRestClassifier\n",
    "import SimpleITK as sitk\n",
    "import six\n",
    "from radiomics import featureextractor \n",
    "from radiomics import imageoperations\n",
    "import numpy as np\n",
    "from numpy import linalg\n",
    "import os\n",
    "import pywt\n",
    "\n",
    "%matplotlib widget"
   ]
  },
  {
   "cell_type": "code",
   "execution_count": 2,
   "metadata": {},
   "outputs": [
    {
     "name": "stdout",
     "output_type": "stream",
     "text": [
      "F:\\dbs\\outcome_predictor\\snrn_cases\\074\n",
      "F:\\dbs\\outcome_predictor\\snrn_cases\\056\n",
      "F:\\dbs\\outcome_predictor\\snrn_cases\\070\n",
      "F:\\dbs\\outcome_predictor\\snrn_cases\\073\n",
      "F:\\dbs\\outcome_predictor\\snrn_cases\\047\n",
      "F:\\dbs\\outcome_predictor\\snrn_cases\\034\n",
      "F:\\dbs\\outcome_predictor\\snrn_cases\\044\n",
      "F:\\dbs\\outcome_predictor\\snrn_cases\\046\n",
      "F:\\dbs\\outcome_predictor\\snrn_cases\\040\n",
      "F:\\dbs\\outcome_predictor\\snrn_cases\\029\n",
      "F:\\dbs\\outcome_predictor\\snrn_cases\\032\n",
      "F:\\dbs\\outcome_predictor\\snrn_cases\\039\n"
     ]
    }
   ],
   "source": [
    "# Load data\n",
    "segs = []\n",
    "qsms = []\n",
    "voxel_sizes = []\n",
    "directory = 'F:\\dbs\\outcome_predictor\\snrn_cases'\n",
    "for filename in os.listdir(directory):\n",
    "    f = os.path.join(directory,filename)\n",
    "    print(f)\n",
    "    # Set aside test case\n",
    "    if '47' not in filename:\n",
    "        try:\n",
    "            seg = nib.load(f+'/seg.nii')\n",
    "        except:\n",
    "            seg = nib.load(f+'/seg.nii.gz')\n",
    "    \n",
    "        voxel_size = seg.header['pixdim'][0:3]\n",
    "        voxel_sizes.append(voxel_size)\n",
    "        segs.append(seg.get_fdata())\n",
    "        try:\n",
    "            qsm = nib.load(f+'/qsm.nii')\n",
    "        except:\n",
    "            qsm = nib.load(f+'/qsm.nii.gz')\n",
    "        qsms.append(qsm.get_fdata())\n",
    "    # Training cases\n",
    "    else:\n",
    "        try:\n",
    "            seg_t = nib.load(f+'/seg.nii')\n",
    "        except:\n",
    "            seg_t = nib.load(f+'/seg.nii.gz')\n",
    "        voxel_size_t = seg_t.header['pixdim'][0:3]\n",
    "        try:\n",
    "            qsm_t = nib.load(f+'/qsm.nii')\n",
    "        except:\n",
    "            qsm_t = nib.load(f+'/qsm.nii.gz')\n",
    "\n",
    "n_cases = len(segs)\n",
    "        "
   ]
  },
  {
   "cell_type": "code",
   "execution_count": 3,
   "metadata": {},
   "outputs": [
    {
     "name": "stderr",
     "output_type": "stream",
     "text": [
      "parameter force2D must be set to True to enable shape2D extraction\n",
      "GLCM is symmetrical, therefore Sum Average = 2 * Joint Average, only 1 needs to be calculated\n",
      "parameter force2D must be set to True to enable shape2D extraction\n",
      "GLCM is symmetrical, therefore Sum Average = 2 * Joint Average, only 1 needs to be calculated\n",
      "parameter force2D must be set to True to enable shape2D extraction\n",
      "GLCM is symmetrical, therefore Sum Average = 2 * Joint Average, only 1 needs to be calculated\n",
      "parameter force2D must be set to True to enable shape2D extraction\n",
      "GLCM is symmetrical, therefore Sum Average = 2 * Joint Average, only 1 needs to be calculated\n",
      "parameter force2D must be set to True to enable shape2D extraction\n",
      "GLCM is symmetrical, therefore Sum Average = 2 * Joint Average, only 1 needs to be calculated\n",
      "parameter force2D must be set to True to enable shape2D extraction\n",
      "GLCM is symmetrical, therefore Sum Average = 2 * Joint Average, only 1 needs to be calculated\n",
      "parameter force2D must be set to True to enable shape2D extraction\n",
      "GLCM is symmetrical, therefore Sum Average = 2 * Joint Average, only 1 needs to be calculated\n",
      "parameter force2D must be set to True to enable shape2D extraction\n",
      "GLCM is symmetrical, therefore Sum Average = 2 * Joint Average, only 1 needs to be calculated\n",
      "parameter force2D must be set to True to enable shape2D extraction\n",
      "GLCM is symmetrical, therefore Sum Average = 2 * Joint Average, only 1 needs to be calculated\n",
      "parameter force2D must be set to True to enable shape2D extraction\n",
      "GLCM is symmetrical, therefore Sum Average = 2 * Joint Average, only 1 needs to be calculated\n",
      "parameter force2D must be set to True to enable shape2D extraction\n",
      "GLCM is symmetrical, therefore Sum Average = 2 * Joint Average, only 1 needs to be calculated\n",
      "parameter force2D must be set to True to enable shape2D extraction\n",
      "GLCM is symmetrical, therefore Sum Average = 2 * Joint Average, only 1 needs to be calculated\n",
      "parameter force2D must be set to True to enable shape2D extraction\n",
      "GLCM is symmetrical, therefore Sum Average = 2 * Joint Average, only 1 needs to be calculated\n",
      "parameter force2D must be set to True to enable shape2D extraction\n",
      "GLCM is symmetrical, therefore Sum Average = 2 * Joint Average, only 1 needs to be calculated\n",
      "parameter force2D must be set to True to enable shape2D extraction\n",
      "GLCM is symmetrical, therefore Sum Average = 2 * Joint Average, only 1 needs to be calculated\n",
      "parameter force2D must be set to True to enable shape2D extraction\n",
      "GLCM is symmetrical, therefore Sum Average = 2 * Joint Average, only 1 needs to be calculated\n",
      "parameter force2D must be set to True to enable shape2D extraction\n",
      "GLCM is symmetrical, therefore Sum Average = 2 * Joint Average, only 1 needs to be calculated\n",
      "parameter force2D must be set to True to enable shape2D extraction\n",
      "GLCM is symmetrical, therefore Sum Average = 2 * Joint Average, only 1 needs to be calculated\n",
      "parameter force2D must be set to True to enable shape2D extraction\n",
      "GLCM is symmetrical, therefore Sum Average = 2 * Joint Average, only 1 needs to be calculated\n",
      "parameter force2D must be set to True to enable shape2D extraction\n",
      "GLCM is symmetrical, therefore Sum Average = 2 * Joint Average, only 1 needs to be calculated\n",
      "parameter force2D must be set to True to enable shape2D extraction\n",
      "GLCM is symmetrical, therefore Sum Average = 2 * Joint Average, only 1 needs to be calculated\n",
      "parameter force2D must be set to True to enable shape2D extraction\n",
      "GLCM is symmetrical, therefore Sum Average = 2 * Joint Average, only 1 needs to be calculated\n",
      "parameter force2D must be set to True to enable shape2D extraction\n",
      "GLCM is symmetrical, therefore Sum Average = 2 * Joint Average, only 1 needs to be calculated\n",
      "parameter force2D must be set to True to enable shape2D extraction\n",
      "GLCM is symmetrical, therefore Sum Average = 2 * Joint Average, only 1 needs to be calculated\n",
      "parameter force2D must be set to True to enable shape2D extraction\n",
      "GLCM is symmetrical, therefore Sum Average = 2 * Joint Average, only 1 needs to be calculated\n",
      "parameter force2D must be set to True to enable shape2D extraction\n",
      "GLCM is symmetrical, therefore Sum Average = 2 * Joint Average, only 1 needs to be calculated\n",
      "parameter force2D must be set to True to enable shape2D extraction\n",
      "GLCM is symmetrical, therefore Sum Average = 2 * Joint Average, only 1 needs to be calculated\n",
      "parameter force2D must be set to True to enable shape2D extraction\n",
      "GLCM is symmetrical, therefore Sum Average = 2 * Joint Average, only 1 needs to be calculated\n",
      "parameter force2D must be set to True to enable shape2D extraction\n",
      "GLCM is symmetrical, therefore Sum Average = 2 * Joint Average, only 1 needs to be calculated\n",
      "parameter force2D must be set to True to enable shape2D extraction\n",
      "GLCM is symmetrical, therefore Sum Average = 2 * Joint Average, only 1 needs to be calculated\n",
      "parameter force2D must be set to True to enable shape2D extraction\n",
      "GLCM is symmetrical, therefore Sum Average = 2 * Joint Average, only 1 needs to be calculated\n",
      "parameter force2D must be set to True to enable shape2D extraction\n",
      "GLCM is symmetrical, therefore Sum Average = 2 * Joint Average, only 1 needs to be calculated\n",
      "parameter force2D must be set to True to enable shape2D extraction\n",
      "GLCM is symmetrical, therefore Sum Average = 2 * Joint Average, only 1 needs to be calculated\n",
      "parameter force2D must be set to True to enable shape2D extraction\n",
      "GLCM is symmetrical, therefore Sum Average = 2 * Joint Average, only 1 needs to be calculated\n",
      "parameter force2D must be set to True to enable shape2D extraction\n",
      "GLCM is symmetrical, therefore Sum Average = 2 * Joint Average, only 1 needs to be calculated\n",
      "parameter force2D must be set to True to enable shape2D extraction\n",
      "GLCM is symmetrical, therefore Sum Average = 2 * Joint Average, only 1 needs to be calculated\n",
      "parameter force2D must be set to True to enable shape2D extraction\n",
      "GLCM is symmetrical, therefore Sum Average = 2 * Joint Average, only 1 needs to be calculated\n",
      "parameter force2D must be set to True to enable shape2D extraction\n",
      "GLCM is symmetrical, therefore Sum Average = 2 * Joint Average, only 1 needs to be calculated\n",
      "parameter force2D must be set to True to enable shape2D extraction\n",
      "GLCM is symmetrical, therefore Sum Average = 2 * Joint Average, only 1 needs to be calculated\n",
      "parameter force2D must be set to True to enable shape2D extraction\n",
      "GLCM is symmetrical, therefore Sum Average = 2 * Joint Average, only 1 needs to be calculated\n",
      "parameter force2D must be set to True to enable shape2D extraction\n",
      "GLCM is symmetrical, therefore Sum Average = 2 * Joint Average, only 1 needs to be calculated\n",
      "parameter force2D must be set to True to enable shape2D extraction\n",
      "GLCM is symmetrical, therefore Sum Average = 2 * Joint Average, only 1 needs to be calculated\n",
      "parameter force2D must be set to True to enable shape2D extraction\n",
      "GLCM is symmetrical, therefore Sum Average = 2 * Joint Average, only 1 needs to be calculated\n",
      "parameter force2D must be set to True to enable shape2D extraction\n",
      "GLCM is symmetrical, therefore Sum Average = 2 * Joint Average, only 1 needs to be calculated\n",
      "parameter force2D must be set to True to enable shape2D extraction\n",
      "GLCM is symmetrical, therefore Sum Average = 2 * Joint Average, only 1 needs to be calculated\n",
      "parameter force2D must be set to True to enable shape2D extraction\n",
      "GLCM is symmetrical, therefore Sum Average = 2 * Joint Average, only 1 needs to be calculated\n",
      "parameter force2D must be set to True to enable shape2D extraction\n",
      "GLCM is symmetrical, therefore Sum Average = 2 * Joint Average, only 1 needs to be calculated\n",
      "parameter force2D must be set to True to enable shape2D extraction\n",
      "GLCM is symmetrical, therefore Sum Average = 2 * Joint Average, only 1 needs to be calculated\n"
     ]
    }
   ],
   "source": [
    "# Generate feature structure Phi from all ROIs and all cases\n",
    "extractor = featureextractor.RadiomicsFeatureExtractor()\n",
    "extractor.enableAllFeatures()\n",
    "#extractor.enableAllImageTypes()\n",
    "Phi = []\n",
    "seg_t_sitk = sitk.GetImageFromArray(seg_t.get_fdata())\n",
    "seg_t_sitk.SetSpacing(voxel_size_t.tolist())\n",
    "qsm_t_sitk = sitk.GetImageFromArray(qsm_t.get_fdata())\n",
    "qsm_t_sitk.SetSpacing(voxel_size_t.tolist())\n",
    "# Create separate feature vector for test case\n",
    "for j in range(1,int(np.max(segs[0]))+1):\n",
    "    featureVector_t = extractor.execute(qsm_t_sitk,seg_t_sitk,label=j)\n",
    "\n",
    "# Training cases\n",
    "for i in range(n_cases):\n",
    "    seg_sitk = sitk.GetImageFromArray(segs[i])\n",
    "    seg_sitk.SetSpacing(voxel_sizes[i].tolist())\n",
    "    qsm_sitk = sitk.GetImageFromArray(qsms[i])\n",
    "    qsm_sitk.SetSpacing(voxel_sizes[i].tolist())\n",
    "    for j in range(1,int(np.max(segs[i]))+1):\n",
    "        featureVector = extractor.execute(qsm_sitk,seg_sitk,label=j)\n",
    "        Phi.append(featureVector)\n"
   ]
  },
  {
   "cell_type": "code",
   "execution_count": 4,
   "metadata": {},
   "outputs": [],
   "source": [
    "# Extract numeric feature values\n",
    "x_row = []\n",
    "loop_count = 0\n",
    "for i in range(n_cases):\n",
    "    for j in range(int(np.max(segs[i]))):\n",
    "        featureVector = Phi[j]\n",
    "        loop_count = loop_count+1\n",
    "        for key, value in six.iteritems(featureVector):\n",
    "            if 'diagnostic' in key:\n",
    "                next\n",
    "            else:\n",
    "                x_row.append(value)\n",
    "X0 = np.array(x_row)\n",
    "\n",
    "# Test case\n",
    "x_row_t = []\n",
    "for j in range(int(np.max(segs[0]))):\n",
    "        featureVector = featureVector_t\n",
    "        loop_count = loop_count+1\n",
    "        for key, value in six.iteritems(featureVector):\n",
    "            if 'diagnostic' in key:\n",
    "                next\n",
    "            else:\n",
    "                x_row_t.append(value)\n",
    "X0_t = np.array(x_row_t)"
   ]
  },
  {
   "cell_type": "code",
   "execution_count": 6,
   "metadata": {},
   "outputs": [
    {
     "data": {
      "application/vnd.jupyter.widget-view+json": {
       "model_id": "060fce9604f244cdbe529b3e25b9e671",
       "version_major": 2,
       "version_minor": 0
      },
      "image/png": "[encoded data removed]",
      "text/html": [
       "\n",
       "            <div style=\"display: inline-block;\">\n",
       "                <div class=\"jupyter-widgets widget-label\" style=\"text-align: center;\">\n",
       "                    Figure\n",
       "                </div>\n",
       "                <img src='data:image/png;base64,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' width=640.0/>\n",
       "            </div>\n",
       "        "
      ],
      "text/plain": [
       "Canvas(toolbar=Toolbar(toolitems=[('Home', 'Reset original view', 'home', 'home'), ('Back', 'Back to previous …"
      ]
     },
     "metadata": {},
     "output_type": "display_data"
    }
   ],
   "source": [
    "# Visualize feature matrix X\n",
    "X = X0.reshape((n_cases,int(len(X0)/n_cases)))\n",
    "fig,ax = plt.subplots(1,1)\n",
    "plt.style.use('dark_background')\n",
    "plt.imshow(X)\n",
    "plt.xticks([])\n",
    "plt.yticks([])\n",
    "plt.title('Feature matrix $X$');\n",
    "# Normalize testing and training cases together\n",
    "#   Otherwise the scale during clf.predict() is wrong\n",
    "scaler = StandardScaler()\n",
    "# What are the default parameters for this scaling?\n",
    "X_all = np.vstack((X,X0_t))\n",
    "X_all_t = scaler.fit_transform(X_all)\n",
    "X_t = X_all_t[X.shape[0]:,:]\n",
    "X = X_all_t[:X.shape[0]]"
   ]
  },
  {
   "cell_type": "code",
   "execution_count": 7,
   "metadata": {},
   "outputs": [],
   "source": [
    "# UPDRS targets\n",
    "#   Must be ordered according to list-generating loop\n",
    "#   Larger data arrays will need a text file in each directory\n",
    "#   So targets and inputs can be read simultaneously\n",
    "\n",
    "u = np.array([0,2,6,4],\n",
    "[3,3,0,2],\n",
    "[3,9,15,2],\n",
    "[7,5,17,2],\n",
    "[2,13,30,6],\n",
    "[3,8,32,4],\n",
    "[3,10,24,2],\n",
    "[1,3,18,2],\n",
    "[2,10,26,8],\n",
    "[3,3,25,0],\n",
    "[0,0,13,0],\n",
    "[0,10,33,4]])\n",
    "\n"
   ]
  },
  {
   "cell_type": "code",
   "execution_count": null,
   "metadata": {},
   "outputs": [],
   "source": [
    "# Cross-validation for model selection\n",
    "cv = KFold(3)\n",
    "cachedir = tempfile.mkdtemp()\n",
    "mem = Memory(location=cachedir, verbose=1)\n",
    "# Lasso loss function\n",
    "#   If fit_intercept=False, predictions are negative...odd\n",
    "#   None of the training data is negative, does this indicate a problem?\n",
    "#   Set upper and lower limits based on UPDRS?\n",
    "alphas = ((1e-3,1e-2,1e-1,1e0,1e1,1e2,1e3))\n",
    "lasso = Lasso(alpha=0.1,fit_intercept=False,max_iter=10000,tol=0.0001)\n",
    "ward = FeatureAgglomeration(n_clusters=100, linkage=\"ward\",memory=mem)\n",
    "\n",
    "clf = Pipeline([(\"ward\", ward), (\"Lasso\", lasso)])\n",
    "# # Select the optimal number of clusters with grid search\n",
    "clf = GridSearchCV(clf, {\"Lasso__alpha\" : alphas, \"ward__n_clusters\": [5,10,25,100,1000]}, n_jobs=1, cv=cv, scoring='r2')\n",
    "clf.fit(X,u)  "
   ]
  },
  {
   "cell_type": "code",
   "execution_count": null,
   "metadata": {},
   "outputs": [],
   "source": [
    "# Plot clustered feature matrix\n",
    "ward = FeatureAgglomeration(n_clusters=clf.best_estimator_['ward'].n_clusters, linkage=\"ward\",memory=mem)\n",
    "Xw = ward.fit_transform(X,u)\n",
    "print('Ward clustering found '+str(Xw.shape[1])+ ' distinctive features')\n",
    "fig,ax = plt.subplots(1,1)\n",
    "plt.style.use('dark_background')\n",
    "plt.imshow(Xw)\n",
    "plt.xticks([])\n",
    "plt.yticks([])\n",
    "plt.title('Feature matrix $X$');"
   ]
  },
  {
   "cell_type": "code",
   "execution_count": null,
   "metadata": {},
   "outputs": [],
   "source": [
    "clf.best_estimator_.get_params()"
   ]
  },
  {
   "cell_type": "code",
   "execution_count": null,
   "metadata": {},
   "outputs": [],
   "source": [
    "# Set best parameters from cross-validation\n",
    "# Ward-Lasso w* of length reduced number of features in Xw\n",
    "coef_lasso = clf.best_estimator_.steps[-1][1].coef_\n",
    "# Lasso w* of length of original number of features in X\n",
    "coef_ = clf.best_estimator_.steps[0][1].inverse_transform(coef_lasso)\n",
    "# Summary feature dimensionality reduction and selection\n",
    "print(\"From original \" +str(X.shape[1])+\" features,\"+\" Ward clustering and LASSO cross-validation found \" + str(np.count_nonzero(coef_)) + \" features that should have nonzero weights\")\n",
    "# Predict test case\n",
    "clf.best_estimator_.predict(X_t)"
   ]
  },
  {
   "cell_type": "code",
   "execution_count": null,
   "metadata": {},
   "outputs": [],
   "source": [
    "lasso_c = Lasso(alpha=0.1,fit_intercept=False,max_iter=10000,tol=0.0001)"
   ]
  },
  {
   "cell_type": "code",
   "execution_count": null,
   "metadata": {},
   "outputs": [],
   "source": [
    "# Test impact of Ward feature dimensionality reduction and cross-validation\n",
    "# Makes sense that there is no impact on overall estimator because\n",
    "# Dataset is not homogenously PD patients so cross-validation assumption of iid data fails\n",
    "ovr = OneVsRestClassifier(clf.best_estimator_)\n",
    "ovr_c = OneVsRestClassifier(lasso_c)\n"
   ]
  },
  {
   "cell_type": "code",
   "execution_count": null,
   "metadata": {},
   "outputs": [],
   "source": [
    "# fit model\n",
    "ut = []\n",
    "for k in range(u.shape[1]):\n",
    "    ovr.fit(X,u[:,k])\n",
    "    # make predictions\n",
    "    ut.append(ovr.predict(X_t))"
   ]
  },
  {
   "cell_type": "code",
   "execution_count": null,
   "metadata": {},
   "outputs": [],
   "source": [
    "ut0 = (2,13,30,6)\n"
   ]
  },
  {
   "cell_type": "code",
   "execution_count": null,
   "metadata": {},
   "outputs": [],
   "source": [
    "ut"
   ]
  }
 ],
 "metadata": {
  "kernelspec": {
   "display_name": "pdradenv",
   "language": "python",
   "name": "python3"
  },
  "language_info": {
   "codemirror_mode": {
    "name": "ipython",
    "version": 3
   },
   "file_extension": ".py",
   "mimetype": "text/x-python",
   "name": "python",
   "nbconvert_exporter": "python",
   "pygments_lexer": "ipython3",
   "version": "3.7.15"
  },
  "orig_nbformat": 4,
  "vscode": {
   "interpreter": {
    "hash": "14732b5bb7ad6abfe54a083b8d194ae3941adfb1b18321b588b21cb8f420fced"
   }
  }
 },
 "nbformat": 4,
 "nbformat_minor": 2
}
