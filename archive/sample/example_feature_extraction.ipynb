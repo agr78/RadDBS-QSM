{
 "cells": [
  {
   "cell_type": "code",
   "execution_count": 49,
   "metadata": {},
   "outputs": [],
   "source": [
    "from time import time\n",
    "from scipy import sparse\n",
    "from scipy import linalg\n",
    "import matplotlib.pyplot as plt\n",
    "import nibabel as nib\n",
    "from sklearn.datasets import make_regression\n",
    "from sklearn.linear_model import Lasso\n",
    "from sklearn.preprocessing import StandardScaler\n",
    "import SimpleITK as sitk\n",
    "import six\n",
    "from radiomics import featureextractor \n",
    "from radiomics import imageoperations\n",
    "import numpy as np\n",
    "from numpy import linalg"
   ]
  },
  {
   "cell_type": "code",
   "execution_count": 50,
   "metadata": {},
   "outputs": [],
   "source": [
    "# Load QSM and segmentation\n",
    "seg = nib.load('F:/dbs/PD_auto_qsm_t1/PD_auto_QSM/001/seg.nii')\n",
    "qsm = nib.load('F:/dbs/PD_auto_qsm_t1/PD_auto_QSM/001/QSM.nii')\n",
    "voxel_size = qsm.header['pixdim'][0:3]"
   ]
  },
  {
   "cell_type": "code",
   "execution_count": 60,
   "metadata": {},
   "outputs": [
    {
     "name": "stderr",
     "output_type": "stream",
     "text": [
      "GLCM is symmetrical, therefore Sum Average = 2 * Joint Average, only 1 needs to be calculated\n",
      "GLCM is symmetrical, therefore Sum Average = 2 * Joint Average, only 1 needs to be calculated\n",
      "GLCM is symmetrical, therefore Sum Average = 2 * Joint Average, only 1 needs to be calculated\n",
      "GLCM is symmetrical, therefore Sum Average = 2 * Joint Average, only 1 needs to be calculated\n"
     ]
    }
   ],
   "source": [
    "seg_sitk = sitk.GetImageFromArray(seg.get_fdata())\n",
    "seg_sitk.SetSpacing(voxel_size.tolist())\n",
    "qsm_sitk = sitk.GetImageFromArray(qsm.get_fdata())\n",
    "qsm_sitk.SetSpacing(voxel_size.tolist())\n",
    "qsm_sitk_n = imageoperations.normalizeImage(qsm_sitk)\n",
    "\n",
    "extractor0 = featureextractor.RadiomicsFeatureExtractor()\n",
    "extractor0.disableAllFeatures()\n",
    "# feat_class = 'glcm'\n",
    "# extractor0.enableFeatureClassByName(feat_class)\n",
    "# Perform global extraction to obtain bounding box for each ROI\n",
    "Phi = []\n",
    "for j in range(1,int(np.max(seg.get_fdata()))+1):\n",
    "    featureVector = extractor0.execute(qsm_sitk,seg_sitk,label=j)\n",
    "    Phi.append(featureVector)\n"
   ]
  },
  {
   "cell_type": "code",
   "execution_count": 65,
   "metadata": {},
   "outputs": [
    {
     "data": {
      "text/plain": [
       "OrderedDict([('diagnostics_Versions_PyRadiomics', 'v3.0.1'),\n",
       "             ('diagnostics_Versions_Numpy', '1.21.5'),\n",
       "             ('diagnostics_Versions_SimpleITK', '2.2.1'),\n",
       "             ('diagnostics_Versions_PyWavelet', '1.3.0'),\n",
       "             ('diagnostics_Versions_Python', '3.7.15'),\n",
       "             ('diagnostics_Configuration_Settings',\n",
       "              {'minimumROIDimensions': 2,\n",
       "               'minimumROISize': None,\n",
       "               'normalize': False,\n",
       "               'normalizeScale': 1,\n",
       "               'removeOutliers': None,\n",
       "               'resampledPixelSpacing': None,\n",
       "               'interpolator': 'sitkBSpline',\n",
       "               'preCrop': False,\n",
       "               'padDistance': 5,\n",
       "               'distances': [1],\n",
       "               'force2D': False,\n",
       "               'force2Ddimension': 0,\n",
       "               'resegmentRange': None,\n",
       "               'label': 1,\n",
       "               'additionalInfo': True}),\n",
       "             ('diagnostics_Configuration_EnabledImageTypes', {'Original': {}}),\n",
       "             ('diagnostics_Image-original_Hash',\n",
       "              'c18b282ee3fb5f7b82ebd915205da9e9ce173816'),\n",
       "             ('diagnostics_Image-original_Dimensionality', '3D'),\n",
       "             ('diagnostics_Image-original_Spacing', (1.0, 0.75, 0.75)),\n",
       "             ('diagnostics_Image-original_Size', (160, 320, 260)),\n",
       "             ('diagnostics_Image-original_Mean', -27076.415376953126),\n",
       "             ('diagnostics_Image-original_Minimum', -32768.0),\n",
       "             ('diagnostics_Image-original_Maximum', 1094.0),\n",
       "             ('diagnostics_Mask-original_Hash',\n",
       "              '11ac6d03ac24862b7113c60dd9f9a79a00af88ec'),\n",
       "             ('diagnostics_Mask-original_Spacing', (1.0, 0.75, 0.75)),\n",
       "             ('diagnostics_Mask-original_Size', (160, 320, 260)),\n",
       "             ('diagnostics_Mask-original_BoundingBox',\n",
       "              (76, 156, 99, 8, 19, 19)),\n",
       "             ('diagnostics_Mask-original_VoxelNum', 825),\n",
       "             ('diagnostics_Mask-original_VolumeNum', 1),\n",
       "             ('diagnostics_Mask-original_CenterOfMassIndex',\n",
       "              (80.0630303030303, 163.3709090909091, 106.09575757575757)),\n",
       "             ('diagnostics_Mask-original_CenterOfMass',\n",
       "              (80.0630303030303, 122.52818181818182, 79.57181818181817)),\n",
       "             ('original_glcm_Autocorrelation', array(45.65413065)),\n",
       "             ('original_glcm_ClusterProminence', array(119.47596106)),\n",
       "             ('original_glcm_ClusterShade', array(-4.08465041)),\n",
       "             ('original_glcm_ClusterTendency', array(5.07826489)),\n",
       "             ('original_glcm_Contrast', array(0.72551629)),\n",
       "             ('original_glcm_Correlation', array(0.74768452)),\n",
       "             ('original_glcm_DifferenceAverage', array(0.51504089)),\n",
       "             ('original_glcm_DifferenceEntropy', array(1.28211484)),\n",
       "             ('original_glcm_DifferenceVariance', array(0.44695565)),\n",
       "             ('original_glcm_Id', array(0.77138677)),\n",
       "             ('original_glcm_Idm', array(0.76268095)),\n",
       "             ('original_glcm_Idmn', array(0.99303977)),\n",
       "             ('original_glcm_Idn', array(0.95467417)),\n",
       "             ('original_glcm_Imc1', array(-0.32206043)),\n",
       "             ('original_glcm_Imc2', array(0.85956405)),\n",
       "             ('original_glcm_InverseVariance', array(0.38326943)),\n",
       "             ('original_glcm_JointAverage', array(6.67568272)),\n",
       "             ('original_glcm_JointEnergy', array(0.12624797)),\n",
       "             ('original_glcm_JointEntropy', array(3.70785509)),\n",
       "             ('original_glcm_MCC', array(0.79262289)),\n",
       "             ('original_glcm_MaximumProbability', array(0.25309746)),\n",
       "             ('original_glcm_SumAverage', array(13.35136545)),\n",
       "             ('original_glcm_SumEntropy', array(3.05092479)),\n",
       "             ('original_glcm_SumSquares', array(1.45094529))])"
      ]
     },
     "execution_count": 65,
     "metadata": {},
     "output_type": "execute_result"
    }
   ],
   "source": [
    "Phi[0]"
   ]
  },
  {
   "cell_type": "code",
   "execution_count": 67,
   "metadata": {},
   "outputs": [],
   "source": [
    "x_row = []\n",
    "for j in range(int(np.max(seg.get_fdata()))):\n",
    "    featureVector = Phi[j]\n",
    "    for key, value in six.iteritems(featureVector):\n",
    "        if feat_class in key:\n",
    "            x_row.append(value)\n",
    "\n",
    "X0 = np.array(x_row)\n",
    "X = sparse.coo_matrix(X0)\n"
   ]
  },
  {
   "cell_type": "code",
   "execution_count": 68,
   "metadata": {},
   "outputs": [
    {
     "data": {
      "text/plain": [
       "array([ 4.56541307e+01,  1.19475961e+02, -4.08465041e+00,  5.07826489e+00,\n",
       "        7.25516286e-01,  7.47684517e-01,  5.15040893e-01,  1.28211484e+00,\n",
       "        4.46955648e-01,  7.71386769e-01,  7.62680950e-01,  9.93039774e-01,\n",
       "        9.54674170e-01, -3.22060433e-01,  8.59564049e-01,  3.83269427e-01,\n",
       "        6.67568272e+00,  1.26247974e-01,  3.70785509e+00,  7.92622887e-01,\n",
       "        2.53097465e-01,  1.33513654e+01,  3.05092479e+00,  1.45094529e+00,\n",
       "        4.14854958e+01,  1.65517429e+02,  2.88107641e+00,  7.10377398e+00,\n",
       "        9.23657846e-01,  7.70121329e-01,  6.47064667e-01,  1.38769610e+00,\n",
       "        4.79759860e-01,  7.16482563e-01,  7.03196235e-01,  9.92616933e-01,\n",
       "        9.47771494e-01, -3.07775367e-01,  8.73912704e-01,  4.56066232e-01,\n",
       "        6.31958247e+00,  7.64762747e-02,  4.27652360e+00,  8.48320450e-01,\n",
       "        1.62502075e-01,  1.26391649e+01,  3.39774293e+00,  2.00685796e+00,\n",
       "        4.65421553e+01,  8.71711161e+02,  1.95025974e+01,  2.05864759e+01,\n",
       "        2.15199392e+00,  8.06134602e-01,  1.10604752e+00,  1.71306400e+00,\n",
       "        7.88229459e-01,  5.90817888e-01,  5.49291793e-01,  9.85674117e-01,\n",
       "        9.20378885e-01, -4.87297356e-01,  9.73820110e-01,  4.62705649e-01,\n",
       "        6.46678668e+00,  4.96911551e-02,  4.69219790e+00,  9.03455424e-01,\n",
       "        1.08176218e-01,  1.29335734e+01,  3.73565516e+00,  5.68461745e+00,\n",
       "        2.35826649e+01,  1.44984145e+02, -8.03035693e+00,  8.07922848e+00,\n",
       "        2.82616646e+00,  5.04453000e-01,  1.34303427e+00,  1.53026151e+00,\n",
       "        6.57524175e-01,  5.26708287e-01,  4.71501077e-01,  9.60186950e-01,\n",
       "        8.65960149e-01, -4.18909385e-01,  9.35421964e-01,  4.70478701e-01,\n",
       "        4.70959007e+00,  6.78063318e-02,  4.13748351e+00,  7.85510213e-01,\n",
       "        1.17365670e-01,  9.41918015e+00,  3.05168285e+00,  2.72634873e+00])"
      ]
     },
     "execution_count": 68,
     "metadata": {},
     "output_type": "execute_result"
    }
   ],
   "source": [
    "X0"
   ]
  },
  {
   "cell_type": "code",
   "execution_count": 69,
   "metadata": {},
   "outputs": [
    {
     "data": {
      "image/png": "[encoded data removed]",
      "text/plain": [
       "<Figure size 432x288 with 1 Axes>"
      ]
     },
     "metadata": {},
     "output_type": "display_data"
    }
   ],
   "source": [
    "plt.imshow(np.expand_dims(X0,0))\n",
    "plt.xticks([])\n",
    "plt.yticks([])\n",
    "plt.title('Feature matrix $X$');"
   ]
  },
  {
   "cell_type": "code",
   "execution_count": 70,
   "metadata": {},
   "outputs": [],
   "source": [
    "X0 = X0.T"
   ]
  },
  {
   "cell_type": "code",
   "execution_count": 71,
   "metadata": {},
   "outputs": [
    {
     "data": {
      "text/plain": [
       "(96,)"
      ]
     },
     "execution_count": 71,
     "metadata": {},
     "output_type": "execute_result"
    }
   ],
   "source": [
    "X0.shape"
   ]
  },
  {
   "cell_type": "code",
   "execution_count": 72,
   "metadata": {},
   "outputs": [
    {
     "data": {
      "text/plain": [
       "1"
      ]
     },
     "execution_count": 72,
     "metadata": {},
     "output_type": "execute_result"
    }
   ],
   "source": [
    "linalg.matrix_rank(X0)"
   ]
  },
  {
   "cell_type": "code",
   "execution_count": 73,
   "metadata": {},
   "outputs": [],
   "source": [
    "# UPDRS score\n",
    "# Response vector u [=] n_samples x n_targets\n",
    "# 1 x 4\n",
    "u = np.expand_dims(np.array([0,1,24,1]).T,0)"
   ]
  },
  {
   "cell_type": "code",
   "execution_count": 74,
   "metadata": {},
   "outputs": [],
   "source": [
    "# Simple 1D example\n",
    "scaler = StandardScaler()\n",
    "X0 = scaler.fit_transform(X0.reshape(-1,1))\n",
    "X0 = X0.T"
   ]
  },
  {
   "cell_type": "code",
   "execution_count": 75,
   "metadata": {},
   "outputs": [
    {
     "data": {
      "text/plain": [
       "array([[ 0.30951096,  1.11710491, -0.23461993, -0.13437973, -0.18199781,\n",
       "        -0.18175529, -0.18430036, -0.17590875, -0.1850452 , -0.181496  ,\n",
       "        -0.18159124, -0.17907116, -0.17949087, -0.19345806, -0.18053136,\n",
       "        -0.18574191, -0.11690435, -0.18855367, -0.1493717 , -0.18126368,\n",
       "        -0.18716596, -0.04387391, -0.15655837, -0.17406178,  0.26390705,\n",
       "         1.62078804, -0.15841647, -0.11222113, -0.17983019, -0.18150984,\n",
       "        -0.18285605, -0.17475371, -0.18468633, -0.18209664, -0.18224199,\n",
       "        -0.17907579, -0.17956639, -0.19330178, -0.18037439, -0.18494553,\n",
       "        -0.1208    , -0.18909816, -0.1431506 , -0.18065436, -0.18815706,\n",
       "        -0.05166522, -0.15276426, -0.16798022,  0.31922575,  9.346386  ,\n",
       "         0.02341916,  0.03527655, -0.16639247, -0.18111586, -0.17783488,\n",
       "        -0.17119426, -0.18131174, -0.18347138, -0.18392566, -0.17915174,\n",
       "        -0.17986606, -0.19526571, -0.17928142, -0.1848729 , -0.11918962,\n",
       "        -0.18939118, -0.13860322, -0.1800512 , -0.18875137, -0.04844446,\n",
       "        -0.14906758, -0.12774638,  0.06805417,  1.39615861, -0.27778506,\n",
       "        -0.10154988, -0.15901718, -0.18441619, -0.1752423 , -0.17319408,\n",
       "        -0.18274163, -0.18417272, -0.18477668, -0.17943057, -0.18046139,\n",
       "        -0.19451756, -0.17970149, -0.18478786, -0.13841295, -0.18919301,\n",
       "        -0.14467167, -0.18134149, -0.18865084, -0.08689111, -0.15655008,\n",
       "        -0.16010916]])"
      ]
     },
     "execution_count": 75,
     "metadata": {},
     "output_type": "execute_result"
    }
   ],
   "source": [
    "X0"
   ]
  },
  {
   "cell_type": "code",
   "execution_count": 76,
   "metadata": {},
   "outputs": [
    {
     "data": {
      "image/png": "[encoded data removed]",
      "text/plain": [
       "<Figure size 432x288 with 1 Axes>"
      ]
     },
     "metadata": {},
     "output_type": "display_data"
    }
   ],
   "source": [
    "plt.imshow(X0)\n",
    "plt.xticks([])\n",
    "plt.yticks([])\n",
    "plt.title('Feature matrix $X$');"
   ]
  },
  {
   "cell_type": "code",
   "execution_count": 79,
   "metadata": {},
   "outputs": [
    {
     "name": "stderr",
     "output_type": "stream",
     "text": [
      "c:\\Users\\agr78\\Anaconda3\\envs\\pdradenv\\lib\\site-packages\\sklearn\\linear_model\\_coordinate_descent.py:648: ConvergenceWarning: Objective did not converge. You might want to increase the number of iterations, check the scale of the features or consider increasing regularisation. Duality gap: 0.000e+00, tolerance: 0.000e+00\n",
      "  coef_, l1_reg, l2_reg, X, y, max_iter, tol, rng, random, positive\n"
     ]
    }
   ],
   "source": [
    "reg = Lasso(alpha=0.1,fit_intercept=False, max_iter=10000, tol=0.1)\n",
    "w_min = reg.fit(X0,u)\n",
    "# reg.predict()"
   ]
  },
  {
   "cell_type": "code",
   "execution_count": 80,
   "metadata": {},
   "outputs": [
    {
     "data": {
      "text/plain": [
       "array([[ 0.00000000e+00,  0.00000000e+00,  0.00000000e+00,\n",
       "         0.00000000e+00,  0.00000000e+00,  0.00000000e+00,\n",
       "         0.00000000e+00,  0.00000000e+00,  0.00000000e+00,\n",
       "         0.00000000e+00,  0.00000000e+00,  0.00000000e+00,\n",
       "         0.00000000e+00,  0.00000000e+00,  0.00000000e+00,\n",
       "         0.00000000e+00,  0.00000000e+00,  0.00000000e+00,\n",
       "         0.00000000e+00,  0.00000000e+00,  0.00000000e+00,\n",
       "         0.00000000e+00,  0.00000000e+00,  0.00000000e+00,\n",
       "         0.00000000e+00,  0.00000000e+00,  0.00000000e+00,\n",
       "         0.00000000e+00,  0.00000000e+00,  0.00000000e+00,\n",
       "         0.00000000e+00,  0.00000000e+00,  0.00000000e+00,\n",
       "         0.00000000e+00,  0.00000000e+00,  0.00000000e+00,\n",
       "         0.00000000e+00,  0.00000000e+00,  0.00000000e+00,\n",
       "         0.00000000e+00,  0.00000000e+00,  0.00000000e+00,\n",
       "         0.00000000e+00,  0.00000000e+00,  0.00000000e+00,\n",
       "         0.00000000e+00,  0.00000000e+00,  0.00000000e+00,\n",
       "         0.00000000e+00,  0.00000000e+00,  0.00000000e+00,\n",
       "         0.00000000e+00,  0.00000000e+00,  0.00000000e+00,\n",
       "         0.00000000e+00,  0.00000000e+00,  0.00000000e+00,\n",
       "         0.00000000e+00,  0.00000000e+00,  0.00000000e+00,\n",
       "         0.00000000e+00,  0.00000000e+00,  0.00000000e+00,\n",
       "         0.00000000e+00,  0.00000000e+00,  0.00000000e+00,\n",
       "         0.00000000e+00,  0.00000000e+00,  0.00000000e+00,\n",
       "         0.00000000e+00,  0.00000000e+00,  0.00000000e+00,\n",
       "         0.00000000e+00,  0.00000000e+00,  0.00000000e+00,\n",
       "         0.00000000e+00,  0.00000000e+00,  0.00000000e+00,\n",
       "         0.00000000e+00,  0.00000000e+00,  0.00000000e+00,\n",
       "         0.00000000e+00,  0.00000000e+00,  0.00000000e+00,\n",
       "         0.00000000e+00,  0.00000000e+00,  0.00000000e+00,\n",
       "         0.00000000e+00,  0.00000000e+00,  0.00000000e+00,\n",
       "         0.00000000e+00,  0.00000000e+00,  0.00000000e+00,\n",
       "         0.00000000e+00,  0.00000000e+00,  0.00000000e+00],\n",
       "       [ 0.00000000e+00,  0.00000000e+00, -0.00000000e+00,\n",
       "        -0.00000000e+00, -0.00000000e+00, -0.00000000e+00,\n",
       "        -0.00000000e+00, -0.00000000e+00, -0.00000000e+00,\n",
       "        -0.00000000e+00, -0.00000000e+00, -0.00000000e+00,\n",
       "        -0.00000000e+00, -0.00000000e+00, -0.00000000e+00,\n",
       "        -0.00000000e+00, -0.00000000e+00, -0.00000000e+00,\n",
       "        -0.00000000e+00, -0.00000000e+00, -0.00000000e+00,\n",
       "        -0.00000000e+00, -0.00000000e+00, -0.00000000e+00,\n",
       "         0.00000000e+00,  0.00000000e+00, -0.00000000e+00,\n",
       "        -0.00000000e+00, -0.00000000e+00, -0.00000000e+00,\n",
       "        -0.00000000e+00, -0.00000000e+00, -0.00000000e+00,\n",
       "        -0.00000000e+00, -0.00000000e+00, -0.00000000e+00,\n",
       "        -0.00000000e+00, -0.00000000e+00, -0.00000000e+00,\n",
       "        -0.00000000e+00, -0.00000000e+00, -0.00000000e+00,\n",
       "        -0.00000000e+00, -0.00000000e+00, -0.00000000e+00,\n",
       "        -0.00000000e+00, -0.00000000e+00, -0.00000000e+00,\n",
       "         0.00000000e+00,  1.05848472e-01,  0.00000000e+00,\n",
       "         0.00000000e+00, -0.00000000e+00, -0.00000000e+00,\n",
       "        -0.00000000e+00, -0.00000000e+00, -0.00000000e+00,\n",
       "        -0.00000000e+00, -0.00000000e+00, -0.00000000e+00,\n",
       "        -0.00000000e+00, -0.00000000e+00, -0.00000000e+00,\n",
       "        -0.00000000e+00, -0.00000000e+00, -0.00000000e+00,\n",
       "        -0.00000000e+00, -0.00000000e+00, -0.00000000e+00,\n",
       "        -0.00000000e+00, -0.00000000e+00, -0.00000000e+00,\n",
       "         0.00000000e+00,  0.00000000e+00, -0.00000000e+00,\n",
       "        -0.00000000e+00, -0.00000000e+00, -0.00000000e+00,\n",
       "        -0.00000000e+00, -0.00000000e+00, -0.00000000e+00,\n",
       "        -0.00000000e+00, -0.00000000e+00, -0.00000000e+00,\n",
       "        -0.00000000e+00, -0.00000000e+00, -0.00000000e+00,\n",
       "        -0.00000000e+00, -0.00000000e+00, -0.00000000e+00,\n",
       "        -0.00000000e+00, -0.00000000e+00, -0.00000000e+00,\n",
       "        -0.00000000e+00, -0.00000000e+00, -0.00000000e+00],\n",
       "       [ 7.54885018e+01,  4.18175996e-01, -0.00000000e+00,\n",
       "        -0.00000000e+00, -0.00000000e+00, -0.00000000e+00,\n",
       "        -0.00000000e+00, -0.00000000e+00, -0.00000000e+00,\n",
       "        -0.00000000e+00, -0.00000000e+00, -0.00000000e+00,\n",
       "        -0.00000000e+00, -0.00000000e+00, -0.00000000e+00,\n",
       "        -0.00000000e+00, -0.00000000e+00, -0.00000000e+00,\n",
       "        -0.00000000e+00, -0.00000000e+00, -0.00000000e+00,\n",
       "        -0.00000000e+00, -0.00000000e+00, -0.00000000e+00,\n",
       "         0.00000000e+00,  3.43274070e-02, -0.00000000e+00,\n",
       "        -0.00000000e+00, -0.00000000e+00, -0.00000000e+00,\n",
       "        -0.00000000e+00, -0.00000000e+00, -0.00000000e+00,\n",
       "        -0.00000000e+00, -0.00000000e+00, -0.00000000e+00,\n",
       "        -0.00000000e+00, -0.00000000e+00, -0.00000000e+00,\n",
       "        -0.00000000e+00, -0.00000000e+00, -0.00000000e+00,\n",
       "        -0.00000000e+00, -0.00000000e+00, -0.00000000e+00,\n",
       "        -0.00000000e+00, -0.00000000e+00, -0.00000000e+00,\n",
       "         0.00000000e+00,  1.09131079e-02,  0.00000000e+00,\n",
       "         0.00000000e+00, -0.00000000e+00, -0.00000000e+00,\n",
       "        -0.00000000e+00, -0.00000000e+00, -0.00000000e+00,\n",
       "        -0.00000000e+00, -0.00000000e+00, -0.00000000e+00,\n",
       "        -0.00000000e+00, -0.00000000e+00, -0.00000000e+00,\n",
       "        -0.00000000e+00, -0.00000000e+00, -0.00000000e+00,\n",
       "        -0.00000000e+00, -0.00000000e+00, -0.00000000e+00,\n",
       "        -0.00000000e+00, -0.00000000e+00, -0.00000000e+00,\n",
       "         0.00000000e+00,  0.00000000e+00, -0.00000000e+00,\n",
       "        -0.00000000e+00, -0.00000000e+00, -0.00000000e+00,\n",
       "        -0.00000000e+00, -0.00000000e+00, -0.00000000e+00,\n",
       "        -0.00000000e+00, -0.00000000e+00, -0.00000000e+00,\n",
       "        -0.00000000e+00, -0.00000000e+00, -0.00000000e+00,\n",
       "        -0.00000000e+00, -0.00000000e+00, -0.00000000e+00,\n",
       "        -0.00000000e+00, -0.00000000e+00, -0.00000000e+00,\n",
       "        -0.00000000e+00, -0.00000000e+00, -0.00000000e+00],\n",
       "       [ 0.00000000e+00,  0.00000000e+00, -0.00000000e+00,\n",
       "        -0.00000000e+00, -0.00000000e+00, -0.00000000e+00,\n",
       "        -0.00000000e+00, -0.00000000e+00, -0.00000000e+00,\n",
       "        -0.00000000e+00, -0.00000000e+00, -0.00000000e+00,\n",
       "        -0.00000000e+00, -0.00000000e+00, -0.00000000e+00,\n",
       "        -0.00000000e+00, -0.00000000e+00, -0.00000000e+00,\n",
       "        -0.00000000e+00, -0.00000000e+00, -0.00000000e+00,\n",
       "        -0.00000000e+00, -0.00000000e+00, -0.00000000e+00,\n",
       "         0.00000000e+00,  0.00000000e+00, -0.00000000e+00,\n",
       "        -0.00000000e+00, -0.00000000e+00, -0.00000000e+00,\n",
       "        -0.00000000e+00, -0.00000000e+00, -0.00000000e+00,\n",
       "        -0.00000000e+00, -0.00000000e+00, -0.00000000e+00,\n",
       "        -0.00000000e+00, -0.00000000e+00, -0.00000000e+00,\n",
       "        -0.00000000e+00, -0.00000000e+00, -0.00000000e+00,\n",
       "        -0.00000000e+00, -0.00000000e+00, -0.00000000e+00,\n",
       "        -0.00000000e+00, -0.00000000e+00, -0.00000000e+00,\n",
       "         0.00000000e+00,  1.05848472e-01,  0.00000000e+00,\n",
       "         0.00000000e+00, -0.00000000e+00, -0.00000000e+00,\n",
       "        -0.00000000e+00, -0.00000000e+00, -0.00000000e+00,\n",
       "        -0.00000000e+00, -0.00000000e+00, -0.00000000e+00,\n",
       "        -0.00000000e+00, -0.00000000e+00, -0.00000000e+00,\n",
       "        -0.00000000e+00, -0.00000000e+00, -0.00000000e+00,\n",
       "        -0.00000000e+00, -0.00000000e+00, -0.00000000e+00,\n",
       "        -0.00000000e+00, -0.00000000e+00, -0.00000000e+00,\n",
       "         0.00000000e+00,  0.00000000e+00, -0.00000000e+00,\n",
       "        -0.00000000e+00, -0.00000000e+00, -0.00000000e+00,\n",
       "        -0.00000000e+00, -0.00000000e+00, -0.00000000e+00,\n",
       "        -0.00000000e+00, -0.00000000e+00, -0.00000000e+00,\n",
       "        -0.00000000e+00, -0.00000000e+00, -0.00000000e+00,\n",
       "        -0.00000000e+00, -0.00000000e+00, -0.00000000e+00,\n",
       "        -0.00000000e+00, -0.00000000e+00, -0.00000000e+00,\n",
       "        -0.00000000e+00, -0.00000000e+00, -0.00000000e+00]])"
      ]
     },
     "execution_count": 80,
     "metadata": {},
     "output_type": "execute_result"
    }
   ],
   "source": [
    "w_min.coef_"
   ]
  },
  {
   "cell_type": "code",
   "execution_count": 81,
   "metadata": {},
   "outputs": [],
   "source": [
    "#Closed form solution to L2 norm of Aw = u\n",
    "L = linalg.det(np.matmul(X0,X0.T))\n",
    "if abs(L) > 0:\n",
    "    wc =np.matmul(X0.T,linalg.inv(np.matmul(X0,X0.T)))*np.squeeze(u)"
   ]
  },
  {
   "cell_type": "code",
   "execution_count": 82,
   "metadata": {},
   "outputs": [
    {
     "data": {
      "text/plain": [
       "(4, 96)"
      ]
     },
     "execution_count": 82,
     "metadata": {},
     "output_type": "execute_result"
    }
   ],
   "source": [
    "(w_min.coef_).shape"
   ]
  },
  {
   "cell_type": "code",
   "execution_count": 83,
   "metadata": {},
   "outputs": [
    {
     "data": {
      "text/plain": [
       "(1, 96)"
      ]
     },
     "execution_count": 83,
     "metadata": {},
     "output_type": "execute_result"
    }
   ],
   "source": [
    "X0.shape"
   ]
  },
  {
   "cell_type": "code",
   "execution_count": 84,
   "metadata": {},
   "outputs": [],
   "source": [
    "# Compute u_est = Aw_min\n",
    "u_est = np.matmul((X0),(w_min.coef_).T)"
   ]
  },
  {
   "cell_type": "code",
   "execution_count": 85,
   "metadata": {},
   "outputs": [
    {
     "data": {
      "text/plain": [
       "array([[ 0.        ,  0.98930068, 23.98930068,  0.98930068]])"
      ]
     },
     "execution_count": 85,
     "metadata": {},
     "output_type": "execute_result"
    }
   ],
   "source": [
    "u_est"
   ]
  },
  {
   "cell_type": "code",
   "execution_count": 86,
   "metadata": {},
   "outputs": [],
   "source": [
    "mse = np.sum(np.sqrt((u-u_est)**2),1)"
   ]
  },
  {
   "cell_type": "code",
   "execution_count": 87,
   "metadata": {},
   "outputs": [
    {
     "data": {
      "text/plain": [
       "array([0.03209797])"
      ]
     },
     "execution_count": 87,
     "metadata": {},
     "output_type": "execute_result"
    }
   ],
   "source": [
    "mse"
   ]
  },
  {
   "cell_type": "code",
   "execution_count": 88,
   "metadata": {},
   "outputs": [],
   "source": [
    "# Compute u_est = Aw_min\n",
    "u_c = np.matmul((X0),(wc))"
   ]
  },
  {
   "cell_type": "code",
   "execution_count": 89,
   "metadata": {},
   "outputs": [
    {
     "data": {
      "text/plain": [
       "array([[ 0.,  1., 24.,  1.]])"
      ]
     },
     "execution_count": 89,
     "metadata": {},
     "output_type": "execute_result"
    }
   ],
   "source": [
    "u_c"
   ]
  }
 ],
 "metadata": {
  "kernelspec": {
   "display_name": "pdradenv",
   "language": "python",
   "name": "python3"
  },
  "language_info": {
   "codemirror_mode": {
    "name": "ipython",
    "version": 3
   },
   "file_extension": ".py",
   "mimetype": "text/x-python",
   "name": "python",
   "nbconvert_exporter": "python",
   "pygments_lexer": "ipython3",
   "version": "3.7.15 (default, Nov 24 2022, 18:44:54) [MSC v.1916 64 bit (AMD64)]"
  },
  "orig_nbformat": 4,
  "vscode": {
   "interpreter": {
    "hash": "14732b5bb7ad6abfe54a083b8d194ae3941adfb1b18321b588b21cb8f420fced"
   }
  }
 },
 "nbformat": 4,
 "nbformat_minor": 2
}
