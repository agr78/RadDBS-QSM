{
 "cells": [
  {
   "cell_type": "code",
   "execution_count": 1,
   "metadata": {},
   "outputs": [],
   "source": [
    "import os\n",
    "import SimpleITK as sitk\n",
    "import six\n",
    "import matplotlib.pyplot as plt\n",
    "import pydicom\n",
    "import pydicom.data\n",
    "import PyQt5\n",
    "import numpy as np\n",
    "import os, glob\n",
    "import pydicom\n",
    "import pylab as pl\n",
    "import sys\n",
    "import matplotlib.path as mplPath\n",
    "import keyboard\n",
    "import nibabel as nib\n",
    "from scipy import ndimage\n",
    "from radiomics import featureextractor \n",
    "from radiomics import imageoperations\n",
    "from radiomics import glcm\n",
    "from radiomics import base, cMatrices\n",
    "from collections import OrderedDict\n",
    "import nrrd\n",
    "\n",
    "%matplotlib widget"
   ]
  },
  {
   "cell_type": "code",
   "execution_count": 8,
   "metadata": {},
   "outputs": [],
   "source": [
    "im = [[4,1,4,2,2],[3,3,3,2,2],[4,2,4,1,1],[4,1,3,3,4],[1,1,4,4,2]]"
   ]
  },
  {
   "cell_type": "code",
   "execution_count": 9,
   "metadata": {},
   "outputs": [
    {
     "data": {
      "application/vnd.jupyter.widget-view+json": {
       "model_id": "1bcea818c5f142e4913edf0e942a4ec8",
       "version_major": 2,
       "version_minor": 0
      },
      "image/png": "[encoded data removed]",
      "text/html": [
       "\n",
       "            <div style=\"display: inline-block;\">\n",
       "                <div class=\"jupyter-widgets widget-label\" style=\"text-align: center;\">\n",
       "                    Figure\n",
       "                </div>\n",
       "                <img src='data:image/png;base64,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' width=640.0/>\n",
       "            </div>\n",
       "        "
      ],
      "text/plain": [
       "Canvas(toolbar=Toolbar(toolitems=[('Home', 'Reset original view', 'home', 'home'), ('Back', 'Back to previous …"
      ]
     },
     "metadata": {},
     "output_type": "display_data"
    }
   ],
   "source": [
    "fig,ax = plt.subplots(1,1)\n",
    "plt.imshow(im)\n",
    "plt.set_cmap('gray')\n",
    "plt.style.use('dark_background')\n",
    "ax.set_xticks([])\n",
    "ax.set_yticks([])\n",
    "ax.set_title('Input image')\n",
    "plt.show()"
   ]
  },
  {
   "cell_type": "code",
   "execution_count": 11,
   "metadata": {},
   "outputs": [],
   "source": [
    "input_mask = sitk.GetImageFromArray(np.pad(np.ones_like(im),((1,1),(1,1))))"
   ]
  },
  {
   "cell_type": "code",
   "execution_count": 12,
   "metadata": {},
   "outputs": [],
   "source": [
    "input = sitk.GetImageFromArray(np.pad(im,((1,1),(1,1))))"
   ]
  },
  {
   "cell_type": "code",
   "execution_count": 13,
   "metadata": {},
   "outputs": [
    {
     "ename": "ValueError",
     "evalue": "all the input array dimensions for the concatenation axis must match exactly, but along dimension 1, the array at index 0 has size 2 and the array at index 1 has size 3",
     "output_type": "error",
     "traceback": [
      "\u001b[1;31m---------------------------------------------------------------------------\u001b[0m",
      "\u001b[1;31mValueError\u001b[0m                                Traceback (most recent call last)",
      "\u001b[1;32m~\\AppData\\Local\\Temp\\ipykernel_30300\\467255551.py\u001b[0m in \u001b[0;36m<module>\u001b[1;34m\u001b[0m\n\u001b[0;32m      2\u001b[0m \u001b[0mextractor\u001b[0m \u001b[1;33m=\u001b[0m \u001b[0mfeatureextractor\u001b[0m\u001b[1;33m.\u001b[0m\u001b[0mRadiomicsFeatureExtractor\u001b[0m\u001b[1;33m(\u001b[0m\u001b[1;33m)\u001b[0m\u001b[1;33m\u001b[0m\u001b[1;33m\u001b[0m\u001b[0m\n\u001b[0;32m      3\u001b[0m \u001b[0mextractor\u001b[0m\u001b[1;33m.\u001b[0m\u001b[0menableAllFeatures\u001b[0m\u001b[1;33m(\u001b[0m\u001b[1;33m)\u001b[0m\u001b[1;33m\u001b[0m\u001b[1;33m\u001b[0m\u001b[0m\n\u001b[1;32m----> 4\u001b[1;33m \u001b[0mfeatureVector0\u001b[0m \u001b[1;33m=\u001b[0m \u001b[0mextractor\u001b[0m\u001b[1;33m.\u001b[0m\u001b[0mexecute\u001b[0m\u001b[1;33m(\u001b[0m\u001b[0minput\u001b[0m\u001b[1;33m,\u001b[0m\u001b[0minput_mask\u001b[0m\u001b[1;33m,\u001b[0m\u001b[0mvoxelBased\u001b[0m\u001b[1;33m=\u001b[0m\u001b[1;32mTrue\u001b[0m\u001b[1;33m)\u001b[0m\u001b[1;33m\u001b[0m\u001b[1;33m\u001b[0m\u001b[0m\n\u001b[0m",
      "\u001b[1;32mc:\\Users\\agr78\\Anaconda3\\envs\\pdradenv\\lib\\site-packages\\radiomics\\featureextractor.py\u001b[0m in \u001b[0;36mexecute\u001b[1;34m(self, imageFilepath, maskFilepath, label, label_channel, voxelBased)\u001b[0m\n\u001b[0;32m    328\u001b[0m       \u001b[0mlogger\u001b[0m\u001b[1;33m.\u001b[0m\u001b[0minfo\u001b[0m\u001b[1;33m(\u001b[0m\u001b[1;34m'Calculating features for %s image'\u001b[0m\u001b[1;33m,\u001b[0m \u001b[0mimageTypeName\u001b[0m\u001b[1;33m)\u001b[0m\u001b[1;33m\u001b[0m\u001b[1;33m\u001b[0m\u001b[0m\n\u001b[0;32m    329\u001b[0m       \u001b[0minputImage\u001b[0m\u001b[1;33m,\u001b[0m \u001b[0minputMask\u001b[0m \u001b[1;33m=\u001b[0m \u001b[0mimageoperations\u001b[0m\u001b[1;33m.\u001b[0m\u001b[0mcropToTumorMask\u001b[0m\u001b[1;33m(\u001b[0m\u001b[0minputImage\u001b[0m\u001b[1;33m,\u001b[0m \u001b[0mmask\u001b[0m\u001b[1;33m,\u001b[0m \u001b[0mboundingBox\u001b[0m\u001b[1;33m,\u001b[0m \u001b[0mpadDistance\u001b[0m\u001b[1;33m=\u001b[0m\u001b[0mkernelRadius\u001b[0m\u001b[1;33m)\u001b[0m\u001b[1;33m\u001b[0m\u001b[1;33m\u001b[0m\u001b[0m\n\u001b[1;32m--> 330\u001b[1;33m       \u001b[0mfeatureVector\u001b[0m\u001b[1;33m.\u001b[0m\u001b[0mupdate\u001b[0m\u001b[1;33m(\u001b[0m\u001b[0mself\u001b[0m\u001b[1;33m.\u001b[0m\u001b[0mcomputeFeatures\u001b[0m\u001b[1;33m(\u001b[0m\u001b[0minputImage\u001b[0m\u001b[1;33m,\u001b[0m \u001b[0minputMask\u001b[0m\u001b[1;33m,\u001b[0m \u001b[0mimageTypeName\u001b[0m\u001b[1;33m,\u001b[0m \u001b[1;33m**\u001b[0m\u001b[0minputKwargs\u001b[0m\u001b[1;33m)\u001b[0m\u001b[1;33m)\u001b[0m\u001b[1;33m\u001b[0m\u001b[1;33m\u001b[0m\u001b[0m\n\u001b[0m\u001b[0;32m    331\u001b[0m \u001b[1;33m\u001b[0m\u001b[0m\n\u001b[0;32m    332\u001b[0m     \u001b[0mlogger\u001b[0m\u001b[1;33m.\u001b[0m\u001b[0mdebug\u001b[0m\u001b[1;33m(\u001b[0m\u001b[1;34m'Features extracted'\u001b[0m\u001b[1;33m)\u001b[0m\u001b[1;33m\u001b[0m\u001b[1;33m\u001b[0m\u001b[0m\n",
      "\u001b[1;32mc:\\Users\\agr78\\Anaconda3\\envs\\pdradenv\\lib\\site-packages\\radiomics\\featureextractor.py\u001b[0m in \u001b[0;36mcomputeFeatures\u001b[1;34m(self, image, mask, imageTypeName, **kwargs)\u001b[0m\n\u001b[0;32m    509\u001b[0m         \u001b[0mlogger\u001b[0m\u001b[1;33m.\u001b[0m\u001b[0minfo\u001b[0m\u001b[1;33m(\u001b[0m\u001b[1;34m'Computing %s'\u001b[0m\u001b[1;33m,\u001b[0m \u001b[0mfeatureClassName\u001b[0m\u001b[1;33m)\u001b[0m\u001b[1;33m\u001b[0m\u001b[1;33m\u001b[0m\u001b[0m\n\u001b[0;32m    510\u001b[0m \u001b[1;33m\u001b[0m\u001b[0m\n\u001b[1;32m--> 511\u001b[1;33m         \u001b[0mfeatureClass\u001b[0m \u001b[1;33m=\u001b[0m \u001b[0mfeatureClasses\u001b[0m\u001b[1;33m[\u001b[0m\u001b[0mfeatureClassName\u001b[0m\u001b[1;33m]\u001b[0m\u001b[1;33m(\u001b[0m\u001b[0mimage\u001b[0m\u001b[1;33m,\u001b[0m \u001b[0mmask\u001b[0m\u001b[1;33m,\u001b[0m \u001b[1;33m**\u001b[0m\u001b[0mkwargs\u001b[0m\u001b[1;33m)\u001b[0m\u001b[1;33m\u001b[0m\u001b[1;33m\u001b[0m\u001b[0m\n\u001b[0m\u001b[0;32m    512\u001b[0m \u001b[1;33m\u001b[0m\u001b[0m\n\u001b[0;32m    513\u001b[0m         \u001b[1;32mif\u001b[0m \u001b[0mfeatureNames\u001b[0m \u001b[1;32mis\u001b[0m \u001b[1;32mnot\u001b[0m \u001b[1;32mNone\u001b[0m\u001b[1;33m:\u001b[0m\u001b[1;33m\u001b[0m\u001b[1;33m\u001b[0m\u001b[0m\n",
      "\u001b[1;32mc:\\Users\\agr78\\Anaconda3\\envs\\pdradenv\\lib\\site-packages\\radiomics\\firstorder.py\u001b[0m in \u001b[0;36m__init__\u001b[1;34m(self, inputImage, inputMask, **kwargs)\u001b[0m\n\u001b[0;32m     31\u001b[0m \u001b[1;33m\u001b[0m\u001b[0m\n\u001b[0;32m     32\u001b[0m   \u001b[1;32mdef\u001b[0m \u001b[0m__init__\u001b[0m\u001b[1;33m(\u001b[0m\u001b[0mself\u001b[0m\u001b[1;33m,\u001b[0m \u001b[0minputImage\u001b[0m\u001b[1;33m,\u001b[0m \u001b[0minputMask\u001b[0m\u001b[1;33m,\u001b[0m \u001b[1;33m**\u001b[0m\u001b[0mkwargs\u001b[0m\u001b[1;33m)\u001b[0m\u001b[1;33m:\u001b[0m\u001b[1;33m\u001b[0m\u001b[1;33m\u001b[0m\u001b[0m\n\u001b[1;32m---> 33\u001b[1;33m     \u001b[0msuper\u001b[0m\u001b[1;33m(\u001b[0m\u001b[0mRadiomicsFirstOrder\u001b[0m\u001b[1;33m,\u001b[0m \u001b[0mself\u001b[0m\u001b[1;33m)\u001b[0m\u001b[1;33m.\u001b[0m\u001b[0m__init__\u001b[0m\u001b[1;33m(\u001b[0m\u001b[0minputImage\u001b[0m\u001b[1;33m,\u001b[0m \u001b[0minputMask\u001b[0m\u001b[1;33m,\u001b[0m \u001b[1;33m**\u001b[0m\u001b[0mkwargs\u001b[0m\u001b[1;33m)\u001b[0m\u001b[1;33m\u001b[0m\u001b[1;33m\u001b[0m\u001b[0m\n\u001b[0m\u001b[0;32m     34\u001b[0m \u001b[1;33m\u001b[0m\u001b[0m\n\u001b[0;32m     35\u001b[0m     \u001b[0mself\u001b[0m\u001b[1;33m.\u001b[0m\u001b[0mpixelSpacing\u001b[0m \u001b[1;33m=\u001b[0m \u001b[0minputImage\u001b[0m\u001b[1;33m.\u001b[0m\u001b[0mGetSpacing\u001b[0m\u001b[1;33m(\u001b[0m\u001b[1;33m)\u001b[0m\u001b[1;33m\u001b[0m\u001b[1;33m\u001b[0m\u001b[0m\n",
      "\u001b[1;32mc:\\Users\\agr78\\Anaconda3\\envs\\pdradenv\\lib\\site-packages\\radiomics\\base.py\u001b[0m in \u001b[0;36m__init__\u001b[1;34m(self, inputImage, inputMask, **kwargs)\u001b[0m\n\u001b[0;32m     85\u001b[0m \u001b[1;33m\u001b[0m\u001b[0m\n\u001b[0;32m     86\u001b[0m     \u001b[1;32mif\u001b[0m \u001b[0mself\u001b[0m\u001b[1;33m.\u001b[0m\u001b[0mvoxelBased\u001b[0m\u001b[1;33m:\u001b[0m\u001b[1;33m\u001b[0m\u001b[1;33m\u001b[0m\u001b[0m\n\u001b[1;32m---> 87\u001b[1;33m       \u001b[0mself\u001b[0m\u001b[1;33m.\u001b[0m\u001b[0m_initVoxelBasedCalculation\u001b[0m\u001b[1;33m(\u001b[0m\u001b[1;33m)\u001b[0m\u001b[1;33m\u001b[0m\u001b[1;33m\u001b[0m\u001b[0m\n\u001b[0m\u001b[0;32m     88\u001b[0m     \u001b[1;32melse\u001b[0m\u001b[1;33m:\u001b[0m\u001b[1;33m\u001b[0m\u001b[1;33m\u001b[0m\u001b[0m\n\u001b[0;32m     89\u001b[0m       \u001b[0mself\u001b[0m\u001b[1;33m.\u001b[0m\u001b[0m_initSegmentBasedCalculation\u001b[0m\u001b[1;33m(\u001b[0m\u001b[1;33m)\u001b[0m\u001b[1;33m\u001b[0m\u001b[1;33m\u001b[0m\u001b[0m\n",
      "\u001b[1;32mc:\\Users\\agr78\\Anaconda3\\envs\\pdradenv\\lib\\site-packages\\radiomics\\firstorder.py\u001b[0m in \u001b[0;36m_initVoxelBasedCalculation\u001b[1;34m(self)\u001b[0m\n\u001b[0;32m     57\u001b[0m                                                    \u001b[0mself\u001b[0m\u001b[1;33m.\u001b[0m\u001b[0msettings\u001b[0m\u001b[1;33m.\u001b[0m\u001b[0mget\u001b[0m\u001b[1;33m(\u001b[0m\u001b[1;34m'force2D'\u001b[0m\u001b[1;33m,\u001b[0m \u001b[1;32mFalse\u001b[0m\u001b[1;33m)\u001b[0m\u001b[1;33m,\u001b[0m\u001b[1;33m\u001b[0m\u001b[1;33m\u001b[0m\u001b[0m\n\u001b[0;32m     58\u001b[0m                                                    self.settings.get('force2Ddimension', 0))\n\u001b[1;32m---> 59\u001b[1;33m     \u001b[0mself\u001b[0m\u001b[1;33m.\u001b[0m\u001b[0mkernelOffsets\u001b[0m \u001b[1;33m=\u001b[0m \u001b[0mnumpy\u001b[0m\u001b[1;33m.\u001b[0m\u001b[0mappend\u001b[0m\u001b[1;33m(\u001b[0m\u001b[0mself\u001b[0m\u001b[1;33m.\u001b[0m\u001b[0mkernelOffsets\u001b[0m\u001b[1;33m,\u001b[0m \u001b[1;33m[\u001b[0m\u001b[1;33m[\u001b[0m\u001b[1;36m0\u001b[0m\u001b[1;33m,\u001b[0m \u001b[1;36m0\u001b[0m\u001b[1;33m,\u001b[0m \u001b[1;36m0\u001b[0m\u001b[1;33m]\u001b[0m\u001b[1;33m]\u001b[0m\u001b[1;33m,\u001b[0m \u001b[0maxis\u001b[0m\u001b[1;33m=\u001b[0m\u001b[1;36m0\u001b[0m\u001b[1;33m)\u001b[0m  \u001b[1;31m# add center voxel\u001b[0m\u001b[1;33m\u001b[0m\u001b[1;33m\u001b[0m\u001b[0m\n\u001b[0m\u001b[0;32m     60\u001b[0m     \u001b[0mself\u001b[0m\u001b[1;33m.\u001b[0m\u001b[0mkernelOffsets\u001b[0m \u001b[1;33m=\u001b[0m \u001b[0mself\u001b[0m\u001b[1;33m.\u001b[0m\u001b[0mkernelOffsets\u001b[0m\u001b[1;33m.\u001b[0m\u001b[0mtranspose\u001b[0m\u001b[1;33m(\u001b[0m\u001b[1;33m(\u001b[0m\u001b[1;36m1\u001b[0m\u001b[1;33m,\u001b[0m \u001b[1;36m0\u001b[0m\u001b[1;33m)\u001b[0m\u001b[1;33m)\u001b[0m\u001b[1;33m\u001b[0m\u001b[1;33m\u001b[0m\u001b[0m\n\u001b[0;32m     61\u001b[0m \u001b[1;33m\u001b[0m\u001b[0m\n",
      "\u001b[1;32m<__array_function__ internals>\u001b[0m in \u001b[0;36mappend\u001b[1;34m(*args, **kwargs)\u001b[0m\n",
      "\u001b[1;32mc:\\Users\\agr78\\Anaconda3\\envs\\pdradenv\\lib\\site-packages\\numpy\\lib\\function_base.py\u001b[0m in \u001b[0;36mappend\u001b[1;34m(arr, values, axis)\u001b[0m\n\u001b[0;32m   4815\u001b[0m         \u001b[0mvalues\u001b[0m \u001b[1;33m=\u001b[0m \u001b[0mravel\u001b[0m\u001b[1;33m(\u001b[0m\u001b[0mvalues\u001b[0m\u001b[1;33m)\u001b[0m\u001b[1;33m\u001b[0m\u001b[1;33m\u001b[0m\u001b[0m\n\u001b[0;32m   4816\u001b[0m         \u001b[0maxis\u001b[0m \u001b[1;33m=\u001b[0m \u001b[0marr\u001b[0m\u001b[1;33m.\u001b[0m\u001b[0mndim\u001b[0m\u001b[1;33m-\u001b[0m\u001b[1;36m1\u001b[0m\u001b[1;33m\u001b[0m\u001b[1;33m\u001b[0m\u001b[0m\n\u001b[1;32m-> 4817\u001b[1;33m     \u001b[1;32mreturn\u001b[0m \u001b[0mconcatenate\u001b[0m\u001b[1;33m(\u001b[0m\u001b[1;33m(\u001b[0m\u001b[0marr\u001b[0m\u001b[1;33m,\u001b[0m \u001b[0mvalues\u001b[0m\u001b[1;33m)\u001b[0m\u001b[1;33m,\u001b[0m \u001b[0maxis\u001b[0m\u001b[1;33m=\u001b[0m\u001b[0maxis\u001b[0m\u001b[1;33m)\u001b[0m\u001b[1;33m\u001b[0m\u001b[1;33m\u001b[0m\u001b[0m\n\u001b[0m\u001b[0;32m   4818\u001b[0m \u001b[1;33m\u001b[0m\u001b[0m\n\u001b[0;32m   4819\u001b[0m \u001b[1;33m\u001b[0m\u001b[0m\n",
      "\u001b[1;32m<__array_function__ internals>\u001b[0m in \u001b[0;36mconcatenate\u001b[1;34m(*args, **kwargs)\u001b[0m\n",
      "\u001b[1;31mValueError\u001b[0m: all the input array dimensions for the concatenation axis must match exactly, but along dimension 1, the array at index 0 has size 2 and the array at index 1 has size 3"
     ]
    }
   ],
   "source": [
    "# Prepare extractor\n",
    "extractor = featureextractor.RadiomicsFeatureExtractor()\n",
    "extractor.enableAllFeatures()\n",
    "featureVector0 = extractor.execute(input,input_mask,voxelBased=True)"
   ]
  },
  {
   "cell_type": "code",
   "execution_count": 14,
   "metadata": {},
   "outputs": [
    {
     "data": {
      "text/plain": [
       "(7, 7)"
      ]
     },
     "execution_count": 14,
     "metadata": {},
     "output_type": "execute_result"
    }
   ],
   "source": [
    "input.GetSize()"
   ]
  },
  {
   "cell_type": "code",
   "execution_count": 15,
   "metadata": {},
   "outputs": [
    {
     "data": {
      "text/plain": [
       "(7, 7)"
      ]
     },
     "execution_count": 15,
     "metadata": {},
     "output_type": "execute_result"
    }
   ],
   "source": [
    "input_mask.GetSize()"
   ]
  },
  {
   "cell_type": "code",
   "execution_count": 16,
   "metadata": {},
   "outputs": [
    {
     "data": {
      "text/plain": [
       "array([[[[1., 1., 1., 1.]]]])"
      ]
     },
     "execution_count": 16,
     "metadata": {},
     "output_type": "execute_result"
    }
   ],
   "source": [
    "g = glcm.RadiomicsGLCM(input,input_mask,voxelBased=True)\n",
    "g._calculateMatrix()"
   ]
  }
 ],
 "metadata": {
  "kernelspec": {
   "display_name": "pdradenv",
   "language": "python",
   "name": "python3"
  },
  "language_info": {
   "codemirror_mode": {
    "name": "ipython",
    "version": 3
   },
   "file_extension": ".py",
   "mimetype": "text/x-python",
   "name": "python",
   "nbconvert_exporter": "python",
   "pygments_lexer": "ipython3",
   "version": "3.7.15"
  },
  "orig_nbformat": 4,
  "vscode": {
   "interpreter": {
    "hash": "14732b5bb7ad6abfe54a083b8d194ae3941adfb1b18321b588b21cb8f420fced"
   }
  }
 },
 "nbformat": 4,
 "nbformat_minor": 2
}
