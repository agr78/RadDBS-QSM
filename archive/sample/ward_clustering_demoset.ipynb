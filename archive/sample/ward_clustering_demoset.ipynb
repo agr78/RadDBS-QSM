{
 "cells": [
  {
   "cell_type": "code",
   "execution_count": 1,
   "metadata": {},
   "outputs": [],
   "source": [
    "# Preliminary data notebook for\n",
    "# NIH: Imaging Guided Intervention Surgery Study Section\n",
    "\n",
    "# Exploratory aim: evaluate presurgical scans between STN and GPi targets\n",
    "#   Given retrospective GPi acquisitions?\n",
    "#   Search for radiomic differentiators for STN versus GPi selection in presurgical scans\n",
    "\n",
    "\n"
   ]
  },
  {
   "cell_type": "code",
   "execution_count": 2,
   "metadata": {},
   "outputs": [],
   "source": [
    "# Import libraries\n",
    "from time import time\n",
    "from joblib import Memory\n",
    "from scipy import sparse\n",
    "from scipy import linalg\n",
    "from scipy.cluster.hierarchy import dendrogram, linkage\n",
    "import matplotlib.pyplot as plt\n",
    "import nibabel as nib\n",
    "import tempfile\n",
    "from sklearn.datasets import make_regression\n",
    "from sklearn.linear_model import Lasso\n",
    "from sklearn.preprocessing import StandardScaler\n",
    "from sklearn.cluster import FeatureAgglomeration\n",
    "from sklearn.cluster import ward_tree\n",
    "from sklearn.pipeline import Pipeline\n",
    "from sklearn.model_selection import GridSearchCV\n",
    "from sklearn.model_selection import KFold\n",
    "from sklearn.multiclass import OneVsRestClassifier\n",
    "import SimpleITK as sitk\n",
    "import six\n",
    "from radiomics import featureextractor \n",
    "from radiomics import imageoperations\n",
    "import numpy as np\n",
    "from numpy import linalg\n",
    "import os\n",
    "import pywt\n"
   ]
  },
  {
   "cell_type": "code",
   "execution_count": 3,
   "metadata": {},
   "outputs": [
    {
     "name": "stdout",
     "output_type": "stream",
     "text": [
      "D:/Elements Drive 2020/datasets/PD/12_28_2022/_QSM/047\n",
      "D:/Elements Drive 2020/datasets/PD/12_28_2022/_QSM/050\n",
      "D:/Elements Drive 2020/datasets/PD/12_28_2022/_QSM/045\n",
      "D:/Elements Drive 2020/datasets/PD/12_28_2022/_QSM/034\n",
      "D:/Elements Drive 2020/datasets/PD/12_28_2022/_QSM/046\n",
      "D:/Elements Drive 2020/datasets/PD/12_28_2022/_QSM/043\n",
      "D:/Elements Drive 2020/datasets/PD/12_28_2022/_QSM/052\n",
      "D:/Elements Drive 2020/datasets/PD/12_28_2022/_QSM/044\n",
      "D:/Elements Drive 2020/datasets/PD/12_28_2022/_QSM/049\n",
      "D:/Elements Drive 2020/datasets/PD/12_28_2022/_QSM/035\n",
      "D:/Elements Drive 2020/datasets/PD/12_28_2022/_QSM/051\n"
     ]
    }
   ],
   "source": [
    "# Load data\n",
    "segs = []\n",
    "qsms = []\n",
    "voxel_sizes = []\n",
    "directory = 'D:/Elements Drive 2020/datasets/PD/12_28_2022/_QSM/'\n",
    "for filename in os.listdir(directory):\n",
    "    f = os.path.join(directory,filename)\n",
    "    print(f)\n",
    "    # Set aside test case\n",
    "    if '47' not in filename:\n",
    "        try:\n",
    "            seg = nib.load(f+'/seg.nii')\n",
    "        except:\n",
    "            seg = nib.load(f+'/seg.nii.gz')\n",
    "        voxel_size = seg.header['pixdim'][0:3]\n",
    "        voxel_sizes.append(voxel_size)\n",
    "        segs.append(seg.get_fdata())\n",
    "        try:\n",
    "            qsm = nib.load(f+'/qsm.nii')\n",
    "        except:\n",
    "            qsm = nib.load(f+'/qsm.nii.gz')\n",
    "        qsms.append(qsm.get_fdata())\n",
    "    # Training cases\n",
    "    else:\n",
    "        try:\n",
    "            seg_t = nib.load(f+'/seg.nii')\n",
    "        except:\n",
    "            seg_t = nib.load(f+'/seg.nii.gz')\n",
    "        voxel_size_t = seg_t.header['pixdim'][0:3]\n",
    "        try:\n",
    "            qsm_t = nib.load(f+'/qsm.nii')\n",
    "        except:\n",
    "            qsm_t = nib.load(f+'/qsm.nii.gz')\n",
    "\n",
    "n_cases = len(segs)\n",
    "        "
   ]
  },
  {
   "cell_type": "code",
   "execution_count": 4,
   "metadata": {},
   "outputs": [],
   "source": [
    "# # Set window level\n",
    "# level = 0\n",
    "# window = 500\n",
    "# m1=level-window/2\n",
    "# m2=level+window/2\n",
    "# # Apply window level\n",
    "# y0 = qsm_t.get_fdata()\n",
    "# y0[y0<m1]=m1\n",
    "# y0[y0>m2]=m2\n",
    "\n",
    "# # Single level Debauchies wavelet decomposition\n",
    "# qsm_wtd = pywt.dwtn(y0, 'db1')\n",
    "# fig,ax = plt.subplots(2,4)\n",
    "# tracker = []\n",
    "# i = 0\n",
    "# for key, value in six.iteritems(qsm_wtd):\n",
    "#     if i < (len(qsm_wtd)/2):\n",
    "#         tracker.append(IndexTracker(ax[0,i], value,'hide_label'))\n",
    "#     else: \n",
    "#         tracker.append(IndexTracker(ax[1,int(np.mod(i,(len(qsm_wtd)/2)))], value,'hide_label'))\n",
    "\n",
    "#     fig.canvas.mpl_connect('scroll_event', tracker[i].onscroll)\n",
    "#     i = i+1\n",
    "# plt.tight_layout()\n",
    "# plt.suptitle('Single level Debauchies wavelet decomposition');"
   ]
  },
  {
   "cell_type": "code",
   "execution_count": 5,
   "metadata": {},
   "outputs": [
    {
     "name": "stderr",
     "output_type": "stream",
     "text": [
      "GLCM is symmetrical, therefore Sum Average = 2 * Joint Average, only 1 needs to be calculated\n",
      "GLCM is symmetrical, therefore Sum Average = 2 * Joint Average, only 1 needs to be calculated\n",
      "GLCM is symmetrical, therefore Sum Average = 2 * Joint Average, only 1 needs to be calculated\n",
      "GLCM is symmetrical, therefore Sum Average = 2 * Joint Average, only 1 needs to be calculated\n",
      "GLCM is symmetrical, therefore Sum Average = 2 * Joint Average, only 1 needs to be calculated\n",
      "GLCM is symmetrical, therefore Sum Average = 2 * Joint Average, only 1 needs to be calculated\n",
      "GLCM is symmetrical, therefore Sum Average = 2 * Joint Average, only 1 needs to be calculated\n",
      "GLCM is symmetrical, therefore Sum Average = 2 * Joint Average, only 1 needs to be calculated\n",
      "GLCM is symmetrical, therefore Sum Average = 2 * Joint Average, only 1 needs to be calculated\n",
      "GLCM is symmetrical, therefore Sum Average = 2 * Joint Average, only 1 needs to be calculated\n",
      "GLCM is symmetrical, therefore Sum Average = 2 * Joint Average, only 1 needs to be calculated\n",
      "GLCM is symmetrical, therefore Sum Average = 2 * Joint Average, only 1 needs to be calculated\n",
      "GLCM is symmetrical, therefore Sum Average = 2 * Joint Average, only 1 needs to be calculated\n",
      "GLCM is symmetrical, therefore Sum Average = 2 * Joint Average, only 1 needs to be calculated\n",
      "GLCM is symmetrical, therefore Sum Average = 2 * Joint Average, only 1 needs to be calculated\n",
      "GLCM is symmetrical, therefore Sum Average = 2 * Joint Average, only 1 needs to be calculated\n",
      "GLCM is symmetrical, therefore Sum Average = 2 * Joint Average, only 1 needs to be calculated\n",
      "GLCM is symmetrical, therefore Sum Average = 2 * Joint Average, only 1 needs to be calculated\n",
      "GLCM is symmetrical, therefore Sum Average = 2 * Joint Average, only 1 needs to be calculated\n",
      "GLCM is symmetrical, therefore Sum Average = 2 * Joint Average, only 1 needs to be calculated\n",
      "GLCM is symmetrical, therefore Sum Average = 2 * Joint Average, only 1 needs to be calculated\n",
      "GLCM is symmetrical, therefore Sum Average = 2 * Joint Average, only 1 needs to be calculated\n",
      "GLCM is symmetrical, therefore Sum Average = 2 * Joint Average, only 1 needs to be calculated\n",
      "GLCM is symmetrical, therefore Sum Average = 2 * Joint Average, only 1 needs to be calculated\n",
      "GLCM is symmetrical, therefore Sum Average = 2 * Joint Average, only 1 needs to be calculated\n",
      "GLCM is symmetrical, therefore Sum Average = 2 * Joint Average, only 1 needs to be calculated\n",
      "GLCM is symmetrical, therefore Sum Average = 2 * Joint Average, only 1 needs to be calculated\n",
      "GLCM is symmetrical, therefore Sum Average = 2 * Joint Average, only 1 needs to be calculated\n",
      "GLCM is symmetrical, therefore Sum Average = 2 * Joint Average, only 1 needs to be calculated\n",
      "GLCM is symmetrical, therefore Sum Average = 2 * Joint Average, only 1 needs to be calculated\n",
      "GLCM is symmetrical, therefore Sum Average = 2 * Joint Average, only 1 needs to be calculated\n",
      "GLCM is symmetrical, therefore Sum Average = 2 * Joint Average, only 1 needs to be calculated\n",
      "GLCM is symmetrical, therefore Sum Average = 2 * Joint Average, only 1 needs to be calculated\n",
      "GLCM is symmetrical, therefore Sum Average = 2 * Joint Average, only 1 needs to be calculated\n",
      "GLCM is symmetrical, therefore Sum Average = 2 * Joint Average, only 1 needs to be calculated\n",
      "GLCM is symmetrical, therefore Sum Average = 2 * Joint Average, only 1 needs to be calculated\n",
      "GLCM is symmetrical, therefore Sum Average = 2 * Joint Average, only 1 needs to be calculated\n",
      "GLCM is symmetrical, therefore Sum Average = 2 * Joint Average, only 1 needs to be calculated\n",
      "GLCM is symmetrical, therefore Sum Average = 2 * Joint Average, only 1 needs to be calculated\n",
      "GLCM is symmetrical, therefore Sum Average = 2 * Joint Average, only 1 needs to be calculated\n",
      "GLCM is symmetrical, therefore Sum Average = 2 * Joint Average, only 1 needs to be calculated\n",
      "GLCM is symmetrical, therefore Sum Average = 2 * Joint Average, only 1 needs to be calculated\n",
      "GLCM is symmetrical, therefore Sum Average = 2 * Joint Average, only 1 needs to be calculated\n",
      "GLCM is symmetrical, therefore Sum Average = 2 * Joint Average, only 1 needs to be calculated\n"
     ]
    }
   ],
   "source": [
    "# Generate feature structure Phi from all ROIs and all cases\n",
    "extractor = featureextractor.RadiomicsFeatureExtractor()\n",
    "extractor.enableFeatureClassByName('firstorder')\n",
    "#extractor.enableAllImageTypes()\n",
    "Phi = []\n",
    "seg_t_sitk = sitk.GetImageFromArray(seg_t.get_fdata())\n",
    "seg_t_sitk.SetSpacing(voxel_size_t.tolist())\n",
    "qsm_t_sitk = sitk.GetImageFromArray(qsm_t.get_fdata())\n",
    "qsm_t_sitk.SetSpacing(voxel_size_t.tolist())\n",
    "# Create separate feature vector for test case\n",
    "for j in range(1,int(np.max(segs[0]))+1):\n",
    "    featureVector_t = extractor.execute(qsm_t_sitk,seg_t_sitk,label=j)\n",
    "\n",
    "# Training cases\n",
    "for i in range(n_cases):\n",
    "    seg_sitk = sitk.GetImageFromArray(segs[i])\n",
    "    seg_sitk.SetSpacing(voxel_sizes[i].tolist())\n",
    "    qsm_sitk = sitk.GetImageFromArray(qsms[i])\n",
    "    qsm_sitk.SetSpacing(voxel_sizes[i].tolist())\n",
    "    for j in range(1,int(np.max(segs[i]))+1):\n",
    "        featureVector = extractor.execute(qsm_sitk,seg_sitk,label=j)\n",
    "        Phi.append(featureVector)\n"
   ]
  },
  {
   "cell_type": "code",
   "execution_count": 6,
   "metadata": {},
   "outputs": [],
   "source": [
    "# Extract numeric feature values\n",
    "x_row = []\n",
    "loop_count = 0\n",
    "for i in range(n_cases):\n",
    "    for j in range(int(np.max(segs[i]))):\n",
    "        featureVector = Phi[j]\n",
    "        loop_count = loop_count+1\n",
    "        for key, value in six.iteritems(featureVector):\n",
    "            if 'diagnostic' in key:\n",
    "                next\n",
    "            else:\n",
    "                x_row.append(value)\n",
    "X0 = np.array(x_row)\n",
    "\n",
    "# Test case\n",
    "x_row_t = []\n",
    "for j in range(int(np.max(segs[0]))):\n",
    "        featureVector = featureVector_t\n",
    "        loop_count = loop_count+1\n",
    "        for key, value in six.iteritems(featureVector):\n",
    "            if 'diagnostic' in key:\n",
    "                next\n",
    "            else:\n",
    "                x_row_t.append(value)\n",
    "X0_t = np.array(x_row_t)"
   ]
  },
  {
   "cell_type": "code",
   "execution_count": 7,
   "metadata": {},
   "outputs": [
    {
     "data": {
      "image/png": "[encoded data removed]",
      "text/plain": [
       "<Figure size 432x288 with 1 Axes>"
      ]
     },
     "metadata": {},
     "output_type": "display_data"
    }
   ],
   "source": [
    "# Visualize feature matrix X\n",
    "X = X0.reshape((n_cases,int(len(X0)/n_cases)))\n",
    "fig,ax = plt.subplots(1,1)\n",
    "plt.style.use('dark_background')\n",
    "plt.imshow(X)\n",
    "plt.xticks([])\n",
    "plt.yticks([])\n",
    "plt.title('Feature matrix $X$');\n",
    "# Normalize testing and training cases together\n",
    "#   Otherwise the scale during clf.predict() is wrong\n",
    "scaler = StandardScaler()\n",
    "# What are the default parameters for this scaling?\n",
    "X_all = np.vstack((X,X0_t))\n",
    "X_all_t = scaler.fit_transform(X_all)\n",
    "X_t = X_all_t[X.shape[0]:,:]\n",
    "X = X_all_t[:X.shape[0]]"
   ]
  },
  {
   "cell_type": "code",
   "execution_count": 8,
   "metadata": {},
   "outputs": [],
   "source": [
    "# UPDRS targets\n",
    "#   Must be ordered according to list-generating loop\n",
    "#   Larger data arrays will need a text file in each directory\n",
    "#   So targets and inputs can be read simultaneously\n",
    "\n",
    "u = np.array([[0,0,0,0],\n",
    "[0,0,0,0],\n",
    "[3,8,32,4],\n",
    "[1,3,18,2],\n",
    "[0,0,0,0],\n",
    "[0,0,0,0],\n",
    "[3,10,24,2],\n",
    "[0,0,0,0],\n",
    "[0,0,0,0],\n",
    "[0,0,0,0]])\n"
   ]
  },
  {
   "cell_type": "code",
   "execution_count": 9,
   "metadata": {},
   "outputs": [
    {
     "name": "stdout",
     "output_type": "stream",
     "text": [
      "________________________________________________________________________________\n",
      "[Memory] Calling sklearn.cluster._agglomerative.ward_tree...\n",
      "ward_tree(array([[-0.316228, ..., -0.316228],\n",
      "       ...,\n",
      "       [ 0.316228, ...,  0.316228]]), connectivity=None, n_clusters=None, return_distance=False)\n",
      "________________________________________________________ward_tree - 0.0s, 0.0min\n",
      "________________________________________________________________________________\n",
      "[Memory] Calling sklearn.cluster._agglomerative.ward_tree...\n",
      "ward_tree(array([[-0.316228, ..., -0.316228],\n",
      "       ...,\n",
      "       [ 0.316228, ...,  0.316228]]), connectivity=None, n_clusters=None, return_distance=False)\n",
      "________________________________________________________ward_tree - 0.0s, 0.0min\n",
      "________________________________________________________________________________\n",
      "[Memory] Calling sklearn.cluster._agglomerative.ward_tree...\n",
      "ward_tree(array([[-0.316228, ..., -0.316228],\n",
      "       ...,\n",
      "       [ 0.316228, ...,  0.316228]]), connectivity=None, n_clusters=None, return_distance=False)\n",
      "________________________________________________________ward_tree - 0.0s, 0.0min\n"
     ]
    },
    {
     "name": "stderr",
     "output_type": "stream",
     "text": [
      "c:\\Users\\agr78\\Anaconda3\\envs\\pdradenv\\lib\\site-packages\\sklearn\\model_selection\\_validation.py:372: FitFailedWarning: \n",
      "21 fits failed out of a total of 105.\n",
      "The score on these train-test partitions for these parameters will be set to nan.\n",
      "If these failures are not expected, you can try to debug them by setting error_score='raise'.\n",
      "\n",
      "Below are more details about the failures:\n",
      "--------------------------------------------------------------------------------\n",
      "21 fits failed with the following error:\n",
      "Traceback (most recent call last):\n",
      "  File \"c:\\Users\\agr78\\Anaconda3\\envs\\pdradenv\\lib\\site-packages\\sklearn\\model_selection\\_validation.py\", line 680, in _fit_and_score\n",
      "    estimator.fit(X_train, y_train, **fit_params)\n",
      "  File \"c:\\Users\\agr78\\Anaconda3\\envs\\pdradenv\\lib\\site-packages\\sklearn\\pipeline.py\", line 390, in fit\n",
      "    Xt = self._fit(X, y, **fit_params_steps)\n",
      "  File \"c:\\Users\\agr78\\Anaconda3\\envs\\pdradenv\\lib\\site-packages\\sklearn\\pipeline.py\", line 355, in _fit\n",
      "    **fit_params_steps[name],\n",
      "  File \"c:\\Users\\agr78\\Anaconda3\\envs\\pdradenv\\lib\\site-packages\\joblib\\memory.py\", line 349, in __call__\n",
      "    return self.func(*args, **kwargs)\n",
      "  File \"c:\\Users\\agr78\\Anaconda3\\envs\\pdradenv\\lib\\site-packages\\sklearn\\pipeline.py\", line 893, in _fit_transform_one\n",
      "    res = transformer.fit_transform(X, y, **fit_params)\n",
      "  File \"c:\\Users\\agr78\\Anaconda3\\envs\\pdradenv\\lib\\site-packages\\sklearn\\base.py\", line 855, in fit_transform\n",
      "    return self.fit(X, y, **fit_params).transform(X)\n",
      "  File \"c:\\Users\\agr78\\Anaconda3\\envs\\pdradenv\\lib\\site-packages\\sklearn\\cluster\\_agglomerative.py\", line 1238, in fit\n",
      "    super()._fit(X.T)\n",
      "  File \"c:\\Users\\agr78\\Anaconda3\\envs\\pdradenv\\lib\\site-packages\\sklearn\\cluster\\_agglomerative.py\", line 1024, in _fit\n",
      "    self.labels_ = _hc_cut(self.n_clusters_, self.children_, self.n_leaves_)\n",
      "  File \"c:\\Users\\agr78\\Anaconda3\\envs\\pdradenv\\lib\\site-packages\\sklearn\\cluster\\_agglomerative.py\", line 717, in _hc_cut\n",
      "    % (n_clusters, n_leaves)\n",
      "ValueError: Cannot extract more clusters than samples: 1000 clusters where given for a tree with 428 leaves.\n",
      "\n",
      "  warnings.warn(some_fits_failed_message, FitFailedWarning)\n",
      "c:\\Users\\agr78\\Anaconda3\\envs\\pdradenv\\lib\\site-packages\\sklearn\\model_selection\\_search.py:972: UserWarning: One or more of the test scores are non-finite: [-0.12129496 -0.12129496 -0.12129496 -0.12129496         nan -0.12623178\n",
      " -0.12623178 -0.12623178 -0.12623178         nan -0.19644357 -0.19644357\n",
      " -0.19644357 -0.19644357         nan -0.13092802 -0.13092802 -0.13092802\n",
      " -0.13092802         nan -0.08807537 -0.08807537 -0.08807537 -0.08807537\n",
      "         nan -0.08807537 -0.08807537 -0.08807537 -0.08807537         nan\n",
      " -0.08807537 -0.08807537 -0.08807537 -0.08807537         nan]\n",
      "  category=UserWarning,\n"
     ]
    },
    {
     "data": {
      "text/plain": [
       "GridSearchCV(cv=KFold(n_splits=3, random_state=None, shuffle=False),\n",
       "             estimator=Pipeline(steps=[('ward',\n",
       "                                        FeatureAgglomeration(memory=Memory(location=C:\\Users\\agr78\\AppData\\Local\\Temp\\tmpw82we1ke\\joblib),\n",
       "                                                             n_clusters=100)),\n",
       "                                       ('Lasso',\n",
       "                                        Lasso(alpha=0.1, fit_intercept=False,\n",
       "                                              max_iter=10000))]),\n",
       "             n_jobs=1,\n",
       "             param_grid={'Lasso__alpha': (0.001, 0.01, 0.1, 1.0, 10.0, 100.0,\n",
       "                                          1000.0),\n",
       "                         'ward__n_clusters': [5, 10, 25, 100, 1000]},\n",
       "             scoring='r2')"
      ]
     },
     "execution_count": 9,
     "metadata": {},
     "output_type": "execute_result"
    }
   ],
   "source": [
    "# Cross-validation for model selection\n",
    "cv = KFold(3)\n",
    "cachedir = tempfile.mkdtemp()\n",
    "mem = Memory(location=cachedir, verbose=1)\n",
    "# Lasso loss function\n",
    "#   If fit_intercept=False, predictions are negative...odd\n",
    "#   None of the training data is negative, does this indicate a problem?\n",
    "#   Set upper and lower limits based on UPDRS?\n",
    "alphas = ((1e-3,1e-2,1e-1,1e0,1e1,1e2,1e3))\n",
    "lasso = Lasso(alpha=0.1,fit_intercept=False,max_iter=10000,tol=0.0001)\n",
    "ward = FeatureAgglomeration(n_clusters=100, linkage=\"ward\",memory=mem)\n",
    "\n",
    "clf = Pipeline([(\"ward\", ward), (\"Lasso\", lasso)])\n",
    "# # Select the optimal number of clusters with grid search\n",
    "clf = GridSearchCV(clf, {\"Lasso__alpha\" : alphas, \"ward__n_clusters\": [5,10,25,100,1000]}, n_jobs=1, cv=cv, scoring='r2')\n",
    "clf.fit(X,u)  "
   ]
  },
  {
   "cell_type": "code",
   "execution_count": 10,
   "metadata": {},
   "outputs": [
    {
     "data": {
      "text/plain": [
       "(10, 428)"
      ]
     },
     "execution_count": 10,
     "metadata": {},
     "output_type": "execute_result"
    }
   ],
   "source": [
    "X.shape"
   ]
  },
  {
   "cell_type": "code",
   "execution_count": 58,
   "metadata": {},
   "outputs": [
    {
     "name": "stderr",
     "output_type": "stream",
     "text": [
      "No artists with labels found to put in legend.  Note that artists whose label start with an underscore are ignored when legend() is called with no argument.\n"
     ]
    },
    {
     "data": {
      "image/png": "[encoded data removed]",
      "text/plain": [
       "<Figure size 432x288 with 1 Axes>"
      ]
     },
     "metadata": {},
     "output_type": "display_data"
    }
   ],
   "source": [
    "from sklearn.svm import SVC\n",
    "import numpy as np\n",
    "import matplotlib.pyplot as plt\n",
    "from sklearn import svm, datasets\n",
    "\n",
    "\n",
    "def make_meshgrid(x, y, h=.02):\n",
    "    x_min, x_max = x.min() - 1, x.max() + 1\n",
    "    y_min, y_max = y.min() - 1, y.max() + 1\n",
    "    xx, yy = np.meshgrid(np.arange(x_min, x_max, h), np.arange(y_min, y_max, h))\n",
    "    return xx, yy\n",
    "\n",
    "def plot_contours(ax, clf, xx, yy, **params):\n",
    "    Z = clf.predict(np.c_[xx.ravel(), yy.ravel()])\n",
    "    Z = Z.reshape(xx.shape)\n",
    "    out = ax.contourf(xx, yy, Z, **params)\n",
    "    return out\n",
    "\n",
    "clf = svm.SVC(C=0.1, kernel='sigmoid')\n",
    "fig, ax = plt.subplots()\n",
    "# title for the plots\n",
    "title = ('Decision surface of linear SVC ')\n",
    "# Set-up grid for plotting.\n",
    "X0, X1 = X[:,30], X[:,1]\n",
    "clf.fit(X[:,:2],u[:,1])  \n",
    "xx, yy = make_meshgrid(X0, X1)\n",
    "\n",
    "plot_contours(ax, clf, xx, yy, cmap=plt.cm.coolwarm, alpha=0.8)\n",
    "ax.scatter(X0, X1, c=u[:,1].ravel(), cmap=plt.cm.coolwarm, s=20, edgecolors='k')\n",
    "ax.set_ylabel('y label here')\n",
    "ax.set_xlabel('x label here')\n",
    "ax.set_xticks(())\n",
    "ax.set_yticks(())\n",
    "ax.set_title(title)\n",
    "ax.legend()\n",
    "plt.show()"
   ]
  },
  {
   "cell_type": "code",
   "execution_count": 52,
   "metadata": {},
   "outputs": [
    {
     "data": {
      "text/plain": [
       "(10, 2)"
      ]
     },
     "execution_count": 52,
     "metadata": {},
     "output_type": "execute_result"
    }
   ],
   "source": [
    "X[:,:2].shape"
   ]
  },
  {
   "cell_type": "code",
   "execution_count": 34,
   "metadata": {},
   "outputs": [
    {
     "data": {
      "text/plain": [
       "(40,)"
      ]
     },
     "execution_count": 34,
     "metadata": {},
     "output_type": "execute_result"
    }
   ],
   "source": [
    "u.ravel().shape"
   ]
  },
  {
   "cell_type": "code",
   "execution_count": 35,
   "metadata": {},
   "outputs": [
    {
     "data": {
      "text/plain": [
       "(4280,)"
      ]
     },
     "execution_count": 35,
     "metadata": {},
     "output_type": "execute_result"
    }
   ],
   "source": [
    "X.ravel().shape"
   ]
  },
  {
   "cell_type": "code",
   "execution_count": 11,
   "metadata": {},
   "outputs": [
    {
     "data": {
      "image/png": "[encoded data removed]",
      "text/plain": [
       "<Figure size 432x288 with 1 Axes>"
      ]
     },
     "metadata": {},
     "output_type": "display_data"
    }
   ],
   "source": [
    "\n",
    "fig,ax = plt.subplots(1,1)\n",
    "\n",
    "lasso = Lasso(alpha=0.1,fit_intercept=False,max_iter=10000,tol=0.0001)\n",
    "lasso.fit(X,u)\n",
    "plt.stem(\n",
    "    np.where(lasso.coef_)[0],\n",
    "    abs(lasso.coef_[lasso.coef_ != 0]),\n",
    "    markerfmt=\"x\",\n",
    "    label=\"Lasso coefficients\")\n",
    "plt.xlabel('UPDRS-III')\n",
    "plt.xticks([])\n",
    "plt.ylabel('Lasso prediction')\n",
    "plt.yticks([])\n",
    "plt.show()\n"
   ]
  },
  {
   "cell_type": "code",
   "execution_count": 12,
   "metadata": {},
   "outputs": [
    {
     "data": {
      "text/plain": [
       "array([[-1.21359436e+00, -0.00000000e+00, -0.00000000e+00, ...,\n",
       "         0.00000000e+00,  0.00000000e+00,  0.00000000e+00],\n",
       "       [-5.64078309e+00, -0.00000000e+00, -0.00000000e+00, ...,\n",
       "         0.00000000e+00,  0.00000000e+00,  0.00000000e+00],\n",
       "       [-2.24008547e+01, -0.00000000e+00, -1.77635684e-15, ...,\n",
       "         0.00000000e+00,  0.00000000e+00,  0.00000000e+00],\n",
       "       [-1.52982213e+00, -0.00000000e+00, -0.00000000e+00, ...,\n",
       "         0.00000000e+00,  0.00000000e+00,  0.00000000e+00]])"
      ]
     },
     "execution_count": 12,
     "metadata": {},
     "output_type": "execute_result"
    }
   ],
   "source": [
    "lasso.coef_"
   ]
  },
  {
   "cell_type": "code",
   "execution_count": 13,
   "metadata": {},
   "outputs": [
    {
     "name": "stdout",
     "output_type": "stream",
     "text": [
      "Ward clustering found 5 distinctive features\n"
     ]
    },
    {
     "data": {
      "image/png": "[encoded data removed]",
      "text/plain": [
       "<Figure size 432x288 with 1 Axes>"
      ]
     },
     "metadata": {},
     "output_type": "display_data"
    }
   ],
   "source": [
    "# Plot clustered feature matrix\n",
    "ward = FeatureAgglomeration(n_clusters=clf.best_estimator_['ward'].n_clusters, linkage=\"ward\",memory=mem)\n",
    "Xw = ward.fit_transform(X,u)\n",
    "print('Ward clustering found '+str(Xw.shape[1])+ ' distinctive features')\n",
    "fig,ax = plt.subplots(1,1)\n",
    "plt.style.use('dark_background')\n",
    "plt.imshow(Xw)\n",
    "plt.xticks([])\n",
    "plt.yticks([])\n",
    "plt.title('Feature matrix $X$');"
   ]
  },
  {
   "cell_type": "code",
   "execution_count": 14,
   "metadata": {},
   "outputs": [
    {
     "data": {
      "text/plain": [
       "{'memory': None,\n",
       " 'steps': [('ward',\n",
       "   FeatureAgglomeration(memory=Memory(location=C:\\Users\\agr78\\AppData\\Local\\Temp\\tmpw82we1ke\\joblib),\n",
       "                        n_clusters=5)),\n",
       "  ('Lasso', Lasso(alpha=10.0, fit_intercept=False, max_iter=10000))],\n",
       " 'verbose': False,\n",
       " 'ward': FeatureAgglomeration(memory=Memory(location=C:\\Users\\agr78\\AppData\\Local\\Temp\\tmpw82we1ke\\joblib),\n",
       "                      n_clusters=5),\n",
       " 'Lasso': Lasso(alpha=10.0, fit_intercept=False, max_iter=10000),\n",
       " 'ward__affinity': 'euclidean',\n",
       " 'ward__compute_distances': False,\n",
       " 'ward__compute_full_tree': 'auto',\n",
       " 'ward__connectivity': None,\n",
       " 'ward__distance_threshold': None,\n",
       " 'ward__linkage': 'ward',\n",
       " 'ward__memory': Memory(location=C:\\Users\\agr78\\AppData\\Local\\Temp\\tmpw82we1ke\\joblib),\n",
       " 'ward__n_clusters': 5,\n",
       " 'ward__pooling_func': <function numpy.mean(a, axis=None, dtype=None, out=None, keepdims=<no value>, *, where=<no value>)>,\n",
       " 'Lasso__alpha': 10.0,\n",
       " 'Lasso__copy_X': True,\n",
       " 'Lasso__fit_intercept': False,\n",
       " 'Lasso__max_iter': 10000,\n",
       " 'Lasso__normalize': 'deprecated',\n",
       " 'Lasso__positive': False,\n",
       " 'Lasso__precompute': False,\n",
       " 'Lasso__random_state': None,\n",
       " 'Lasso__selection': 'cyclic',\n",
       " 'Lasso__tol': 0.0001,\n",
       " 'Lasso__warm_start': False}"
      ]
     },
     "execution_count": 14,
     "metadata": {},
     "output_type": "execute_result"
    }
   ],
   "source": [
    "clf.best_estimator_.get_params()"
   ]
  },
  {
   "cell_type": "code",
   "execution_count": 15,
   "metadata": {},
   "outputs": [
    {
     "name": "stdout",
     "output_type": "stream",
     "text": [
      "From original 428 features, Ward clustering and LASSO cross-validation found 0 features that should have nonzero weights\n"
     ]
    },
    {
     "data": {
      "text/plain": [
       "array([[0., 0., 0., 0.]])"
      ]
     },
     "execution_count": 15,
     "metadata": {},
     "output_type": "execute_result"
    }
   ],
   "source": [
    "# Set best parameters from cross-validation\n",
    "# Ward-Lasso w* of length reduced number of features in Xw\n",
    "coef_lasso = clf.best_estimator_.steps[-1][1].coef_\n",
    "# Lasso w* of length of original number of features in X\n",
    "coef_ = clf.best_estimator_.steps[0][1].inverse_transform(coef_lasso)\n",
    "# Summary feature dimensionality reduction and selection\n",
    "print(\"From original \" +str(X.shape[1])+\" features,\"+\" Ward clustering and LASSO cross-validation found \" + str(np.count_nonzero(coef_)) + \" features that should have nonzero weights\")\n",
    "# Predict test case\n",
    "clf.best_estimator_.predict(X_t)"
   ]
  },
  {
   "cell_type": "code",
   "execution_count": 16,
   "metadata": {},
   "outputs": [],
   "source": [
    "lasso_c = Lasso(alpha=0.1,fit_intercept=False,max_iter=10000,tol=0.0001)"
   ]
  },
  {
   "cell_type": "code",
   "execution_count": 17,
   "metadata": {},
   "outputs": [],
   "source": [
    "# Test impact of Ward feature dimensionality reduction and cross-validation\n",
    "# Makes sense that there is no impact on overall estimator because\n",
    "# Dataset is not homogenously PD patients so cross-validation assumption of iid data fails\n",
    "ovr = OneVsRestClassifier(clf.best_estimator_)\n",
    "ovr_c = OneVsRestClassifier(lasso_c)\n"
   ]
  },
  {
   "cell_type": "code",
   "execution_count": 18,
   "metadata": {},
   "outputs": [],
   "source": [
    "# fit model\n",
    "ut = []\n",
    "for k in range(u.shape[1]):\n",
    "    ovr.fit(X,u[:,k])\n",
    "    # make predictions\n",
    "    ut.append(ovr.predict(X_t))"
   ]
  },
  {
   "cell_type": "code",
   "execution_count": 19,
   "metadata": {},
   "outputs": [],
   "source": [
    "ut0 = (2,13,30,6)\n"
   ]
  },
  {
   "cell_type": "code",
   "execution_count": 20,
   "metadata": {},
   "outputs": [
    {
     "data": {
      "text/plain": [
       "[array([3]), array([10]), array([32]), array([4])]"
      ]
     },
     "execution_count": 20,
     "metadata": {},
     "output_type": "execute_result"
    }
   ],
   "source": [
    "ut"
   ]
  }
 ],
 "metadata": {
  "kernelspec": {
   "display_name": "pdradenv",
   "language": "python",
   "name": "python3"
  },
  "language_info": {
   "codemirror_mode": {
    "name": "ipython",
    "version": 3
   },
   "file_extension": ".py",
   "mimetype": "text/x-python",
   "name": "python",
   "nbconvert_exporter": "python",
   "pygments_lexer": "ipython3",
   "version": "3.7.15"
  },
  "orig_nbformat": 4,
  "vscode": {
   "interpreter": {
    "hash": "14732b5bb7ad6abfe54a083b8d194ae3941adfb1b18321b588b21cb8f420fced"
   }
  }
 },
 "nbformat": 4,
 "nbformat_minor": 2
}
