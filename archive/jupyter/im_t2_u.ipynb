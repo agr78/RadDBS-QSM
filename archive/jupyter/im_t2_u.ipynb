{
 "cells": [
  {
   "cell_type": "code",
   "execution_count": 1,
   "metadata": {},
   "outputs": [],
   "source": [
    "from time import time\n",
    "from scipy import sparse\n",
    "from scipy import linalg\n",
    "import matplotlib.pyplot as plt\n",
    "import nibabel as nib\n",
    "from sklearn.datasets import make_regression\n",
    "from sklearn.linear_model import Lasso\n",
    "from sklearn.preprocessing import StandardScaler\n",
    "import SimpleITK as sitk\n",
    "import six\n",
    "from radiomics import featureextractor \n",
    "from radiomics import imageoperations\n",
    "import numpy as np\n",
    "from numpy import linalg"
   ]
  },
  {
   "cell_type": "code",
   "execution_count": null,
   "metadata": {},
   "outputs": [],
   "source": [
    "# Load QSM and segmentation\n",
    "seg = nib.load('/media/ironman/IRON-MAN-Imaging/atlas/niis/qsm/transformed_qsm/qsm_001_20200923_2_atlas.nii.gz')\n",
    "qsm = nib.load('/media/ironman/IRON-MAN-Imaging/atlas/niis/qsm/ps_seg.nii.gz')\n",
    "voxel_size = qsm.header['pixdim'][0:3]"
   ]
  },
  {
   "cell_type": "code",
   "execution_count": null,
   "metadata": {},
   "outputs": [],
   "source": [
    "seg_sitk = sitk.GetImageFromArray(seg.get_fdata())\n",
    "seg_sitk.SetSpacing(voxel_size.tolist())\n",
    "qsm_sitk = sitk.GetImageFromArray(qsm.get_fdata())\n",
    "qsm_sitk.SetSpacing(voxel_size.tolist())\n",
    "qsm_sitk_n = imageoperations.normalizeImage(qsm_sitk)\n",
    "\n",
    "extractor0 = featureextractor.RadiomicsFeatureExtractor()\n",
    "extractor0.disableAllFeatures()\n",
    "feat_class = 'glcm'\n",
    "extractor0.enableFeatureClassByName(feat_class)\n",
    "# Perform global extraction to obtain bounding box for each ROI\n",
    "Phi = []\n",
    "for j in range(1,int(np.max(seg.get_fdata()))+1):\n",
    "    featureVector = extractor0.execute(qsm_sitk,seg_sitk,label=j)\n",
    "    Phi.append(featureVector)\n"
   ]
  },
  {
   "cell_type": "code",
   "execution_count": null,
   "metadata": {},
   "outputs": [],
   "source": [
    "Phi[0]"
   ]
  },
  {
   "cell_type": "code",
   "execution_count": 67,
   "metadata": {},
   "outputs": [],
   "source": [
    "x_row = []\n",
    "for j in range(int(np.max(seg.get_fdata()))):\n",
    "    featureVector = Phi[j]\n",
    "    for key, value in six.iteritems(featureVector):\n",
    "        if feat_class in key:\n",
    "            x_row.append(value)\n",
    "\n",
    "X0 = np.array(x_row)\n",
    "X = sparse.coo_matrix(X0)\n"
   ]
  },
  {
   "cell_type": "code",
   "execution_count": null,
   "metadata": {},
   "outputs": [],
   "source": [
    "X0"
   ]
  },
  {
   "cell_type": "code",
   "execution_count": null,
   "metadata": {},
   "outputs": [],
   "source": [
    "plt.imshow(np.expand_dims(X0,0))\n",
    "plt.xticks([])\n",
    "plt.yticks([])\n",
    "plt.title('Feature matrix $X$');"
   ]
  },
  {
   "cell_type": "code",
   "execution_count": 70,
   "metadata": {},
   "outputs": [],
   "source": [
    "X0 = X0.T"
   ]
  },
  {
   "cell_type": "code",
   "execution_count": null,
   "metadata": {},
   "outputs": [],
   "source": [
    "X0.shape"
   ]
  },
  {
   "cell_type": "code",
   "execution_count": null,
   "metadata": {},
   "outputs": [],
   "source": [
    "linalg.matrix_rank(X0)"
   ]
  },
  {
   "cell_type": "code",
   "execution_count": 73,
   "metadata": {},
   "outputs": [],
   "source": [
    "# UPDRS score\n",
    "# Response vector u [=] n_samples x n_targets\n",
    "# 1 x 4\n",
    "u = np.expand_dims(np.array([0,1,24,1]).T,0)"
   ]
  },
  {
   "cell_type": "code",
   "execution_count": 74,
   "metadata": {},
   "outputs": [],
   "source": [
    "# Simple 1D example\n",
    "scaler = StandardScaler()\n",
    "X0 = scaler.fit_transform(X0.reshape(-1,1))\n",
    "X0 = X0.T"
   ]
  },
  {
   "cell_type": "code",
   "execution_count": null,
   "metadata": {},
   "outputs": [],
   "source": [
    "X0"
   ]
  },
  {
   "cell_type": "code",
   "execution_count": null,
   "metadata": {},
   "outputs": [],
   "source": [
    "plt.imshow(X0)\n",
    "plt.xticks([])\n",
    "plt.yticks([])\n",
    "plt.title('Feature matrix $X$');"
   ]
  },
  {
   "cell_type": "code",
   "execution_count": null,
   "metadata": {},
   "outputs": [],
   "source": [
    "reg = Lasso(alpha=0.1,fit_intercept=False, max_iter=10000, tol=0.1)\n",
    "w_min = reg.fit(X0,u)\n",
    "# reg.predict()"
   ]
  },
  {
   "cell_type": "code",
   "execution_count": null,
   "metadata": {},
   "outputs": [],
   "source": [
    "w_min.coef_"
   ]
  },
  {
   "cell_type": "code",
   "execution_count": 81,
   "metadata": {},
   "outputs": [],
   "source": [
    "# Closed form solution to L2 norm of Aw = u\n",
    "L = linalg.det(np.matmul(X0,X0.T))\n",
    "if abs(L) > 0:\n",
    "    wc =np.matmul(X0.T,linalg.inv(np.matmul(X0,X0.T)))*np.squeeze(u)"
   ]
  },
  {
   "cell_type": "code",
   "execution_count": null,
   "metadata": {},
   "outputs": [],
   "source": [
    "(w_min.coef_).shape"
   ]
  },
  {
   "cell_type": "code",
   "execution_count": null,
   "metadata": {},
   "outputs": [],
   "source": [
    "X0.shape"
   ]
  },
  {
   "cell_type": "code",
   "execution_count": 84,
   "metadata": {},
   "outputs": [],
   "source": [
    "# Compute u_est = Aw_min\n",
    "u_est = np.matmul((X0),(w_min.coef_).T)"
   ]
  },
  {
   "cell_type": "code",
   "execution_count": null,
   "metadata": {},
   "outputs": [],
   "source": [
    "u_est"
   ]
  },
  {
   "cell_type": "code",
   "execution_count": 86,
   "metadata": {},
   "outputs": [],
   "source": [
    "mse = np.sum(np.sqrt((u-u_est)**2),1)"
   ]
  },
  {
   "cell_type": "code",
   "execution_count": null,
   "metadata": {},
   "outputs": [],
   "source": [
    "mse"
   ]
  },
  {
   "cell_type": "code",
   "execution_count": 88,
   "metadata": {},
   "outputs": [],
   "source": [
    "# Compute u_est = Aw_min\n",
    "u_c = np.matmul((X0),(wc))"
   ]
  },
  {
   "cell_type": "code",
   "execution_count": null,
   "metadata": {},
   "outputs": [],
   "source": [
    "u_c"
   ]
  }
 ],
 "metadata": {
  "kernelspec": {
   "display_name": "pdradenv",
   "language": "python",
   "name": "python3"
  },
  "language_info": {
   "codemirror_mode": {
    "name": "ipython",
    "version": 3
   },
   "file_extension": ".py",
   "mimetype": "text/x-python",
   "name": "python",
   "nbconvert_exporter": "python",
   "pygments_lexer": "ipython3",
   "version": "3.7.16"
  },
  "orig_nbformat": 4,
  "vscode": {
   "interpreter": {
    "hash": "14732b5bb7ad6abfe54a083b8d194ae3941adfb1b18321b588b21cb8f420fced"
   }
  }
 },
 "nbformat": 4,
 "nbformat_minor": 2
}
