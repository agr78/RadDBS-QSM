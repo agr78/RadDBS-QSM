{
 "cells": [
  {
   "cell_type": "code",
   "execution_count": null,
   "metadata": {},
   "outputs": [],
   "source": [
    "import os\n",
    "import SimpleITK as sitk\n",
    "import six\n",
    "import matplotlib.pyplot as plt\n",
    "import pydicom\n",
    "import pydicom.data\n",
    "import PyQt5\n",
    "import numpy as np\n",
    "import os, glob\n",
    "import pydicom\n",
    "import pylab as pl\n",
    "import sys\n",
    "import matplotlib.path as mplPath\n",
    "import keyboard\n",
    "import nibabel as nib\n",
    "from radiomics import featureextractor \n",
    "from radiomics import imageoperations\n",
    "from collections import OrderedDict\n",
    "from IPython.core.display import display, HTML\n",
    "from util import IndexTracker, pyvis\n",
    "import nrrd\n",
    "\n",
    "%matplotlib widget\n",
    "display(HTML(\"<style>.container { width:100% !important; }</style>\"))"
   ]
  },
  {
   "cell_type": "code",
   "execution_count": null,
   "metadata": {},
   "outputs": [],
   "source": [
    "# Load QSM and segmentation\n",
    "seg = nib.load('F:/dbs/mclaro/chh/roi/01_roi_combined.nii')\n",
    "qsm = nib.load('F:/dbs/mclaro/chh/gt/00001_qsm.nii.gz')\n",
    "# Set window level\n",
    "level = 0\n",
    "window = 500\n",
    "m1=level-window/2\n",
    "m2=level+window/2\n",
    "# Partition mask\n",
    "seg_mask = np.rot90(np.swapaxes(np.dstack(seg.get_fdata()),0,2)) > 0\n",
    "rsn_mask = np.rot90(np.swapaxes(np.dstack(seg.get_fdata()),0,2)) == 1\n",
    "lsn_mask = np.rot90(np.swapaxes(np.dstack(seg.get_fdata()),0,2)) == 4\n",
    "lstn_mask = np.rot90(np.swapaxes(np.dstack(seg.get_fdata()),0,2)) == 2\n",
    "rstn_mask = np.rot90(np.swapaxes(np.dstack(seg.get_fdata()),0,2)) == 3\n",
    "\n"
   ]
  },
  {
   "cell_type": "code",
   "execution_count": null,
   "metadata": {},
   "outputs": [],
   "source": [
    "# Convert to SITK images\n",
    "roi_masks = [lstn_mask,rstn_mask]\n",
    "qsm_np = np.rot90(np.swapaxes(np.dstack(qsm.get_fdata()),0,2))\n",
    "qsm_sitk = sitk.GetImageFromArray(qsm_np) \n",
    "for i in range(len(roi_masks)):\n",
    "    seg_sitk = sitk.GetImageFromArray(np.float64(roi_masks[i]))\n",
    "# Extract 1st order features\n",
    "extractor = featureextractor.RadiomicsFeatureExtractor()\n",
    "extractor.disableAllFeatures()\n",
    "extractor.enableFeatureClassByName('firstorder')\n",
    "print('Enabled features:\\n\\t', extractor.enabledFeatures)\n",
    "features1 = OrderedDict()\n",
    "featureVector1 = extractor.execute(qsm_sitk,seg_sitk,voxelBased=True)\n",
    "result1 = features1\n",
    "Finalresult=six.iteritems(result1)\n",
    "\n",
    "for key, value in six.iteritems(featureVector1):\n",
    "    if isinstance(value, sitk.Image):\n",
    "        sitk.WriteImage(value, key + '.nrrd',True)\n",
    "        sitk.WriteImage(seg_sitk, 'seg' + '.nrrd',True)\n",
    "        print(\"Stored feature %s in %s\" % (key, key + \".nrrd\"))        \n",
    "    else:  # Diagnostic information\n",
    "        print(\"\\t%s: %s\" %(key, value))\n",
    "        if key == 'diagnostics_Mask-original_BoundingBox':\n",
    "            lims = value\n",
    "            bb = ((lims[0]-1,lims[0]+lims[3]+1),(lims[1]-1,lims[1]+lims[4]+1),(lims[2]-1,lims[2]+lims[5]+1))\n",
    "            print(bb)\n",
    "            bbi = ((lims[0]-2,lims[0]+lims[3]),(lims[1]-2,lims[1]+lims[4]),(lims[2]-2,lims[2]+lims[5]))\n",
    "            print(bbi)\n",
    "            # Assuming kernel radius of 3, slide of 1, and padding of 0\n",
    "            sitk.WriteImage(seg_sitk[lims[0]-1:lims[0]+lims[3]+1,lims[1]-1:lims[1]+lims[4]+1,lims[2]-1:lims[2]+lims[5]+1], 'seg_crop' + '.nrrd',True)\n",
    "            sitk.WriteImage(qsm_sitk[lims[0]-1:lims[0]+lims[3]+1,lims[1]-1:lims[1]+lims[4]+1,lims[2]-1:lims[2]+lims[5]+1], 'qsm_crop' + '.nrrd',True)\n",
    "        "
   ]
  },
  {
   "cell_type": "code",
   "execution_count": null,
   "metadata": {},
   "outputs": [],
   "source": [
    "bb_mask = np.zeros_like(sitk.GetArrayFromImage(qsm_sitk))\n",
    "bbi_mask = np.zeros_like(sitk.GetArrayFromImage(qsm_sitk))"
   ]
  },
  {
   "cell_type": "code",
   "execution_count": null,
   "metadata": {},
   "outputs": [],
   "source": [
    "bb_mask[bb[2][0]:bb[2][1],bb[1][0]:bb[1][1],bb[0][0]:bb[0][1]] = 1\n",
    "bbi_mask[bbi[2][0]:bbi[2][1],bbi[1][0]:bbi[1][1],bbi[0][0]:bbi[0][1]] = 1\n",
    "bb_mask = abs(bb_mask-bbi_mask)*1000"
   ]
  },
  {
   "cell_type": "code",
   "execution_count": null,
   "metadata": {},
   "outputs": [],
   "source": [
    "bbi"
   ]
  },
  {
   "cell_type": "code",
   "execution_count": null,
   "metadata": {},
   "outputs": [],
   "source": [
    "(-bbi[2][0]+bbi[2][1],-bbi[1][0]+bbi[1][1],-bbi[0][0]+bbi[0][1])"
   ]
  },
  {
   "cell_type": "code",
   "execution_count": null,
   "metadata": {},
   "outputs": [],
   "source": [
    "# Combine QSM and mask\n",
    "#y1 = np.hstack((np.rot90(np.swapaxes(np.dstack(qsm.get_fdata()),0,2))*seg_mask,np.rot90(np.swapaxes(np.dstack(qsm.get_fdata()),0,2))))\n",
    "y1 = bb_mask+qsm_np\n",
    "# Apply window level\n",
    "y1[y1<m1]=m1\n",
    "y1[y1>m2]=m2\n",
    "# Plot\n",
    "fig1,ax1 = plt.subplots(1,1)\n",
    "tracker1 = IndexTracker(ax1,y1)\n",
    "fig1.canvas.mpl_connect('scroll_event', tracker1.onscroll)\n",
    "ax1.set_title('ROIs and QSM')"
   ]
  },
  {
   "cell_type": "code",
   "execution_count": null,
   "metadata": {},
   "outputs": [],
   "source": [
    "qsm_crop_sitk = qsm_sitk[lims[0]-1:lims[0]+lims[3]+1,lims[1]-1:lims[1]+lims[4]+1,lims[2]-1:lims[2]+lims[5]+1]\n",
    "seg_data, seg_header = nrrd.read('qsm_crop.nrrd')\n",
    "grad_sitk = sitk.Gradient(qsm_crop_sitk)\n",
    "sitk.WriteImage(grad_sitk, 'grad' + '.nrrd',True)\n",
    "\n",
    "grad_data, grad_header = nrrd.read('grad.nrrd')\n",
    "mean, mean_header = nrrd.read('original_firstorder_Mean.nrrd')\n",
    "median, median_header = nrrd.read('original_firstorder_Median.nrrd')\n",
    "variance, variance_header = nrrd.read('original_firstorder_Variance.nrrd')\n",
    "skewness, skewness_header = nrrd.read('original_firstorder_Skewness.nrrd')\n",
    "kurtosis, kurtosis_header = nrrd.read('original_firstorder_Kurtosis.nrrd')\n",
    "energy, energy_header = nrrd.read('original_firstorder_Energy.nrrd')\n",
    "entropy, entropy_header = nrrd.read('original_firstorder_Entropy.nrrd')\n"
   ]
  },
  {
   "cell_type": "code",
   "execution_count": null,
   "metadata": {},
   "outputs": [],
   "source": [
    "fig2, ax2 = plt.subplots(2,4)\n",
    "y2 = seg_data\n",
    "tracker3 = IndexTracker(ax2[0,0], y2)\n",
    "tracker4 = IndexTracker(ax2[0,1], grad_data[0].astype('float'), 'hide labels')\n",
    "tracker5 = IndexTracker(ax2[0,2], mean, 'hide labels')\n",
    "tracker6 = IndexTracker(ax2[0,3], variance, 'hide labels')\n",
    "tracker7 = IndexTracker(ax2[1,0], skewness)\n",
    "tracker8 = IndexTracker(ax2[1,1], kurtosis, 'hide labels')\n",
    "tracker9 = IndexTracker(ax2[1,2], energy, 'hide labels')\n",
    "tracker10 = IndexTracker(ax2[1,3], entropy, 'hide labels')\n",
    "fig2.canvas.mpl_connect('scroll_event', tracker3.onscroll)\n",
    "fig2.canvas.mpl_connect('scroll_event', tracker4.onscroll)\n",
    "fig2.canvas.mpl_connect('scroll_event', tracker5.onscroll)\n",
    "fig2.canvas.mpl_connect('scroll_event', tracker6.onscroll)\n",
    "fig2.canvas.mpl_connect('scroll_event', tracker7.onscroll)\n",
    "fig2.canvas.mpl_connect('scroll_event', tracker8.onscroll)\n",
    "fig2.canvas.mpl_connect('scroll_event', tracker9.onscroll)\n",
    "fig2.canvas.mpl_connect('scroll_event', tracker10.onscroll)\n",
    "plt.show()\n",
    "plt.set_cmap('gray')\n",
    "ax2[0,0].set_xlabel('QSM')\n",
    "ax2[0,1].set_xlabel('Gradient')\n",
    "ax2[0,2].set_xlabel('Mean')\n",
    "ax2[0,3].set_xlabel('Variance')\n",
    "ax2[1,0].set_xlabel('Skewness')\n",
    "ax2[1,1].set_xlabel('Kurtosis')\n",
    "ax2[1,2].set_xlabel('Energy')\n",
    "ax2[1,3].set_xlabel('Entropy')\n",
    "plt.style.use('dark_background')\n",
    "fig2.suptitle('Some histogram feature maps of healthy right subthalmic nucleus');"
   ]
  },
  {
   "cell_type": "code",
   "execution_count": null,
   "metadata": {},
   "outputs": [],
   "source": [
    "# Extract some Gray Level Co-occurence Matrix (GLCM) features\n",
    "extractor = featureextractor.RadiomicsFeatureExtractor()\n",
    "extractor.disableAllFeatures()\n",
    "extractor.enableFeaturesByName(glcm=['Contrast', 'JointEnergy','JointEntropy'])\n",
    "print('Enabled features:\\n\\t', extractor.enabledFeatures)\n",
    "featureVector2 = extractor.execute(qsm_sitk,seg_sitk,voxelBased=True)\n"
   ]
  },
  {
   "cell_type": "code",
   "execution_count": null,
   "metadata": {},
   "outputs": [],
   "source": [
    "features2 = OrderedDict()\n",
    "result2 = features2\n",
    "Finalresult2=six.iteritems(result2)\n",
    "for key, value in six.iteritems(featureVector2):\n",
    "    if isinstance(value, sitk.Image):\n",
    "        sitk.WriteImage(value, key + '.nrrd',True)\n",
    "        sitk.WriteImage(seg_sitk, 'seg' + '.nrrd',True)\n",
    "        print(\"Stored feature %s in %s\" % (key, key + \".nrrd\"))        \n",
    "    else:  # Diagnostic information\n",
    "        print(\"\\t%s: %s\" %(key, value))\n",
    "        if key == 'diagnostics_Mask-original_BoundingBox':\n",
    "            lims = value\n",
    "            # Assuming kernel radius of 3, slide of 1, and padding of 0\n",
    "            sitk.WriteImage(seg_sitk[lims[0]-1:lims[0]+lims[3]+1,lims[1]-1:lims[1]+lims[4]+1,lims[2]-1:lims[2]+lims[5]+1], 'seg_crop' + '.nrrd',True)\n",
    "            sitk.WriteImage(qsm_sitk[lims[0]-1:lims[0]+lims[3]+1,lims[1]-1:lims[1]+lims[4]+1,lims[2]-1:lims[2]+lims[5]+1], 'qsm_crop' + '.nrrd',True)"
   ]
  },
  {
   "cell_type": "code",
   "execution_count": null,
   "metadata": {},
   "outputs": [],
   "source": [
    "contrast, contrast_header = nrrd.read('original_glcm_Contrast.nrrd')\n",
    "joint_energy, joint_energy_header = nrrd.read('original_glcm_JointEnergy.nrrd')\n",
    "joint_entropy, joint_entropy_header = nrrd.read('original_glcm_JointEntropy.nrrd')\n",
    "\n",
    "fig3, ax3 = plt.subplots(1,4)\n",
    "y3 = seg_data\n",
    "tracker11 = IndexTracker(ax3[0], y3)\n",
    "tracker12 = IndexTracker(ax3[1], contrast, 'hide labels')\n",
    "tracker13 = IndexTracker(ax3[2], joint_energy, 'hide labels')\n",
    "tracker14 = IndexTracker(ax3[3], joint_entropy, 'hide labels')\n",
    "\n",
    "fig3.canvas.mpl_connect('scroll_event', tracker11.onscroll)\n",
    "fig3.canvas.mpl_connect('scroll_event', tracker12.onscroll)\n",
    "fig3.canvas.mpl_connect('scroll_event', tracker13.onscroll)\n",
    "fig3.canvas.mpl_connect('scroll_event', tracker14.onscroll)\n",
    "\n",
    "plt.show()\n",
    "plt.set_cmap('gray')\n",
    "ax3[0].set_xlabel('QSM')\n",
    "ax3[1].set_xlabel('Contrast')\n",
    "ax3[2].set_xlabel('Joint Energy')\n",
    "ax3[3].set_xlabel('Joint Entropy')\n",
    "\n",
    "plt.style.use('dark_background')\n",
    "fig3.suptitle('Some gray level co-occurence matrix feature maps of healthy right subthalmic nucleus');"
   ]
  },
  {
   "cell_type": "code",
   "execution_count": null,
   "metadata": {},
   "outputs": [],
   "source": [
    "# Extract some Gray Level Run Length Matrix (GLRLM) features\n",
    "extractor = featureextractor.RadiomicsFeatureExtractor()\n",
    "extractor.disableAllFeatures()\n",
    "extractor.enableFeaturesByName(glrlm=['RunPercentage','ShortRunEmphasis','LongRunEmphasis','RunLengthNonUniformity'])\n",
    "print('Enabled features:\\n\\t', extractor.enabledFeatures)\n",
    "featureVector3 = extractor.execute(qsm_sitk,seg_sitk,voxelBased=True)"
   ]
  },
  {
   "cell_type": "code",
   "execution_count": null,
   "metadata": {},
   "outputs": [],
   "source": [
    "features3 = OrderedDict()\n",
    "result3 = features3\n",
    "Finalresult3=six.iteritems(result3)\n",
    "for key, value in six.iteritems(featureVector3):\n",
    "    if isinstance(value, sitk.Image):\n",
    "        sitk.WriteImage(value, key + '.nrrd',True)\n",
    "        sitk.WriteImage(seg_sitk, 'seg' + '.nrrd',True)\n",
    "        print(\"Stored feature %s in %s\" % (key, key + \".nrrd\"))        \n",
    "    else:  # Diagnostic information\n",
    "        print(\"\\t%s: %s\" %(key, value))\n",
    "        if key == 'diagnostics_Mask-original_BoundingBox':\n",
    "            lims = value\n",
    "            # Assuming kernel radius of 3, slide of 1, and padding of 0\n",
    "            sitk.WriteImage(seg_sitk[lims[0]-1:lims[0]+lims[3]+1,lims[1]-1:lims[1]+lims[4]+1,lims[2]-1:lims[2]+lims[5]+1], 'seg_crop' + '.nrrd',True)\n",
    "            sitk.WriteImage(qsm_sitk[lims[0]-1:lims[0]+lims[3]+1,lims[1]-1:lims[1]+lims[4]+1,lims[2]-1:lims[2]+lims[5]+1], 'qsm_crop' + '.nrrd',True)"
   ]
  },
  {
   "cell_type": "code",
   "execution_count": null,
   "metadata": {},
   "outputs": [],
   "source": [
    "run_percentage, run_percentage_header = nrrd.read('original_glrlm_RunPercentage.nrrd')\n",
    "short_run_emphasis, short_run_emphasis_header = nrrd.read('original_glrlm_ShortRunEmphasis.nrrd')\n",
    "long_run_emphasis, long_run_emphasis_header = nrrd.read('original_glrlm_LongRunEmphasis.nrrd')\n",
    "run_length_nonuniformity, run_length_nonuniformity_header = nrrd.read('original_glrlm_RunLengthNonUniformity.nrrd')\n",
    "\n",
    "\n",
    "fig4, ax4 = plt.subplots(1,5)\n",
    "y4 = seg_data\n",
    "tracker15 = IndexTracker(ax4[0], y4)\n",
    "tracker16 = IndexTracker(ax4[1], run_percentage, 'hide labels')\n",
    "tracker17 = IndexTracker(ax4[2], short_run_emphasis, 'hide labels')\n",
    "tracker18 = IndexTracker(ax4[3], long_run_emphasis, 'hide labels')\n",
    "tracker19 = IndexTracker(ax4[4], run_length_nonuniformity, 'hide labels')\n",
    "\n",
    "fig4.canvas.mpl_connect('scroll_event', tracker15.onscroll)\n",
    "fig4.canvas.mpl_connect('scroll_event', tracker16.onscroll)\n",
    "fig4.canvas.mpl_connect('scroll_event', tracker17.onscroll)\n",
    "fig4.canvas.mpl_connect('scroll_event', tracker18.onscroll)\n",
    "fig4.canvas.mpl_connect('scroll_event', tracker19.onscroll)\n",
    "\n",
    "plt.show()\n",
    "plt.set_cmap('gray')\n",
    "ax4[0].set_xlabel('QSM')\n",
    "ax4[1].set_xlabel('Run Percentage')\n",
    "ax4[2].set_xlabel('Short Run Emphasis')\n",
    "ax4[3].set_xlabel('Long Run Emphasis')\n",
    "ax4[4].set_xlabel('Run Length Nonuniformity')\n",
    "\n",
    "plt.style.use('dark_background')\n",
    "plt.rcParams['figure.dpi'] = 5000\n",
    "fig4.suptitle('Some gray level run-length matrix feature maps of healthy right subthalmic nucleus');"
   ]
  }
 ],
 "metadata": {
  "kernelspec": {
   "display_name": "pdradenv",
   "language": "python",
   "name": "python3"
  },
  "language_info": {
   "codemirror_mode": {
    "name": "ipython",
    "version": 3
   },
   "file_extension": ".py",
   "mimetype": "text/x-python",
   "name": "python",
   "nbconvert_exporter": "python",
   "pygments_lexer": "ipython3",
   "version": "3.7.15"
  },
  "orig_nbformat": 4
 },
 "nbformat": 4,
 "nbformat_minor": 2
}
