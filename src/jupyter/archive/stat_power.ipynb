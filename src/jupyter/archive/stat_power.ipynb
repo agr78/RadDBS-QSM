{
 "cells": [
  {
   "cell_type": "code",
   "execution_count": 1,
   "metadata": {},
   "outputs": [],
   "source": [
    "import scipy.stats\n",
    "import statsmodels.stats.power as smp\n",
    "import matplotlib.pyplot as plt\n",
    "import numpy as np"
   ]
  },
  {
   "cell_type": "code",
   "execution_count": 4,
   "metadata": {},
   "outputs": [],
   "source": [
    "r2 = 0.7\n",
    "f2 = r2/(1-r2)\n",
    "f = np.sqrt(f2)\n",
    "df1 = 1595  # number of constraints in hypothesis test\n",
    "df2 = smp.FTestPower().solve_power(effect_size=f, alpha=0.05, power=0.8,\n",
    "                                   df_denom=df1)\n",
    "ncc = 1  # default\n",
    "nobs = np.round(df2 + df1 + ncc)"
   ]
  },
  {
   "cell_type": "code",
   "execution_count": 5,
   "metadata": {},
   "outputs": [
    {
     "data": {
      "text/plain": [
       "1606.0"
      ]
     },
     "execution_count": 5,
     "metadata": {},
     "output_type": "execute_result"
    }
   ],
   "source": [
    "nobs"
   ]
  },
  {
   "cell_type": "code",
   "execution_count": 7,
   "metadata": {},
   "outputs": [],
   "source": [
    "rois = np.linspace(0,5)\n",
    "for r in rois:\n",
    "    df2 = smp.FTestPower().solve_power(effect_size=f, alpha=0.05, power=0.8,\n",
    "                                   df_denom=df1)\n",
    "    ncc = 1  # default\n",
    "    nobs = np.round(df2 + df1 + ncc)"
   ]
  }
 ],
 "metadata": {
  "kernelspec": {
   "display_name": "pdradenv",
   "language": "python",
   "name": "python3"
  },
  "language_info": {
   "codemirror_mode": {
    "name": "ipython",
    "version": 3
   },
   "file_extension": ".py",
   "mimetype": "text/x-python",
   "name": "python",
   "nbconvert_exporter": "python",
   "pygments_lexer": "ipython3",
   "version": "3.7.16"
  }
 },
 "nbformat": 4,
 "nbformat_minor": 2
}
