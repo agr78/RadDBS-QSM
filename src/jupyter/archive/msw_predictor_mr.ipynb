{
 "cells": [
  {
   "cell_type": "code",
   "execution_count": 1,
   "metadata": {},
   "outputs": [
    {
     "name": "stderr",
     "output_type": "stream",
     "text": [
      "/data/Ali/anaconda3/envs/pdradenv/lib/python3.7/site-packages/tqdm/auto.py:21: TqdmWarning: IProgress not found. Please update jupyter and ipywidgets. See https://ipywidgets.readthedocs.io/en/stable/user_install.html\n",
      "  from .autonotebook import tqdm as notebook_tqdm\n",
      "Intel(R) Extension for Scikit-learn* enabled (https://github.com/intel/scikit-learn-intelex)\n"
     ]
    }
   ],
   "source": [
    "# Import libraries\n",
    "from scipy.cluster.hierarchy import dendrogram, linkage\n",
    "import matplotlib.pyplot as plt\n",
    "from mpl_toolkits.axes_grid1 import make_axes_locatable\n",
    "import nibabel as nib\n",
    "from sklearn.svm import SVR\n",
    "from sklearn.linear_model import LassoCV\n",
    "from sklearn.linear_model import Lasso\n",
    "from sklearn.linear_model import RidgeCV\n",
    "from sklearn.linear_model import ElasticNetCV\n",
    "from sklearn.preprocessing import StandardScaler\n",
    "from sklearn.pipeline import Pipeline\n",
    "from sklearn.model_selection import GridSearchCV\n",
    "from sklearn.model_selection import KFold\n",
    "from sklearn.feature_selection import SelectFromModel\n",
    "from sklearn.metrics import r2_score\n",
    "import SimpleITK as sitk\n",
    "import six\n",
    "from radiomics import featureextractor \n",
    "import numpy as np\n",
    "import os\n",
    "import pickle\n",
    "import pandas as pd\n",
    "import logging\n",
    "from scipy.stats import linregress\n",
    "from sklearn.linear_model import QuantileRegressor\n",
    "from sklearn.feature_selection import SelectKBest\n",
    "from sklearn.feature_selection import r_regression\n",
    "from sklearn.linear_model import ElasticNet\n",
    "from sklearn.linear_model import RANSACRegressor\n",
    "import os\n",
    "import sys\n",
    "sys.path.append('../')\n",
    "import matplotlib.pyplot as plt\n",
    "from pylab import rcParams\n",
    "import pandas as pd\n",
    "import warnings\n",
    "from sklearnex import patch_sklearn, config_context\n",
    "from sklearn.cluster import DBSCAN\n",
    "from sklearn.exceptions import ConvergenceWarning\n",
    "from sklearn import preprocessing as skp\n",
    "from sklearn import model_selection as sms\n",
    "from sklearn import feature_selection as skf\n",
    "from sklearn import linear_model as slm\n",
    "import numpy as np\n",
    "import scipy.stats as stats\n",
    "from IPython.display import HTML\n",
    "import util as util\n",
    "import nibabel as nib\n",
    "import os\n",
    "import pickle\n",
    "from torch import nn\n",
    "from scipy.spatial import cKDTree\n",
    "patch_sklearn()"
   ]
  },
  {
   "cell_type": "code",
   "execution_count": 2,
   "metadata": {},
   "outputs": [],
   "source": [
    "plt.style.use('dark_background')\n",
    "plt.rcParams[\"figure.figsize\"] = (15,5)\n",
    "def remove_keymap_conflicts(new_keys_set):\n",
    "    for prop in plt.rcParams:\n",
    "        if prop.startswith('keymap.'):\n",
    "            keys = plt.rcParams[prop]\n",
    "            remove_list = set(keys) & new_keys_set\n",
    "            for key in remove_list:\n",
    "                keys.remove(key)\n",
    "\n",
    "def multi_slice_viewer(volume):\n",
    "    remove_keymap_conflicts({'j', 'k'})\n",
    "    fig, ax = plt.subplots()\n",
    "    ax.volume = volume\n",
    "    ax.index = volume.shape[0]//2\n",
    "    ax.imshow(volume[ax.index])\n",
    "    fig.canvas.mpl_connect('key_press_event', process_key)\n",
    "\n",
    "def process_key(event):\n",
    "    fig = event.canvas.figure\n",
    "    ax = fig.axes[0]\n",
    "    if event.key == 'j':\n",
    "        previous_slice(ax)\n",
    "    elif event.key == 'k':\n",
    "        next_slice(ax)\n",
    "    fig.canvas.draw()\n",
    "    \n",
    "\n",
    "def previous_slice(ax):\n",
    "    volume = ax.volume\n",
    "    ax.index = (ax.index-1) % volume.shape[0] \n",
    "    ax.images[0].set_array(volume[ax.index])\n",
    "\n",
    "def next_slice(ax):\n",
    "    volume = ax.volume\n",
    "    ax.index = (ax.index+1) % volume.shape[0]\n",
    "    ax.images[0].set_array(volume[ax.index])"
   ]
  },
  {
   "cell_type": "code",
   "execution_count": 3,
   "metadata": {},
   "outputs": [
    {
     "name": "stdout",
     "output_type": "stream",
     "text": [
      "Keeping CORNELL ID\n",
      "Keeping Age\n",
      "Keeping Sex\n",
      "Keeping Ethnicity\n",
      "Keeping Race\n",
      "Keeping Disease Duration (year)\n",
      "Keeping Physician\n",
      "Keeping  OFF (pre-dbs updrs)\n",
      "Keeping  ON (pre-dbs updrs)\n",
      "Keeping  pre op levadopa equivalent dose (mg)\n",
      "Keeping  Location\n",
      "Keeping  Target\n",
      "Keeping  Test medication status\n",
      "Keeping  OFF meds ON stim 6mo\n",
      "{' OFF meds ON stim 6mo', ' ON (pre-dbs updrs)', ' Target', 'Disease Duration (year)', 'Age', ' pre op levadopa equivalent dose (mg)', 'Sex', ' Location', 'Race', 'Ethnicity', ' Test medication status', 'CORNELL ID', ' OFF (pre-dbs updrs)', 'Physician'}\n",
      "['X_115_01.npy', 'X_115_02.npy', 'X_115_03.npy', 'X_115_04.npy', 'X_115_05.npy', 'X_115_06.npy', 'X_115_07.npy', 'X_115_08.npy', 'X_115_09.npy', 'X_115_10.npy', 'X_115_100.npy', 'X_115_101.npy', 'X_115_102.npy', 'X_115_104.npy', 'X_115_105.npy', 'X_115_106.npy', 'X_115_107.npy', 'X_115_108.npy', 'X_115_109.npy', 'X_115_11.npy', 'X_115_110.npy', 'X_115_111.npy', 'X_115_112.npy', 'X_115_113.npy', 'X_115_114.npy', 'X_115_115.npy', 'X_115_116.npy', 'X_115_12.npy', 'X_115_13.npy', 'X_115_14.npy', 'X_115_15.npy', 'X_115_16.npy', 'X_115_17.npy', 'X_115_18.npy', 'X_115_19.npy', 'X_115_20.npy', 'X_115_22.npy', 'X_115_23.npy', 'X_115_24.npy', 'X_115_25.npy', 'X_115_26.npy', 'X_115_27.npy', 'X_115_29.npy', 'X_115_30.npy', 'X_115_31.npy', 'X_115_32.npy', 'X_115_33.npy', 'X_115_34.npy', 'X_115_36.npy', 'X_115_37.npy', 'X_115_39.npy', 'X_115_40.npy', 'X_115_41.npy', 'X_115_42.npy', 'X_115_44.npy', 'X_115_45.npy', 'X_115_46.npy', 'X_115_48.npy', 'X_115_49.npy', 'X_115_50.npy', 'X_115_51.npy', 'X_115_52.npy', 'X_115_53.npy', 'X_115_55.npy', 'X_115_56.npy', 'X_115_57.npy', 'X_115_58.npy', 'X_115_59.npy', 'X_115_60.npy', 'X_115_61.npy', 'X_115_62.npy', 'X_115_63.npy', 'X_115_64.npy', 'X_115_66.npy', 'X_115_67.npy', 'X_115_68.npy', 'X_115_69.npy', 'X_115_70.npy', 'X_115_71.npy', 'X_115_72.npy', 'X_115_73.npy', 'X_115_74.npy', 'X_115_75.npy', 'X_115_76.npy', 'X_115_77.npy', 'X_115_78.npy', 'X_115_79.npy', 'X_115_80.npy', 'X_115_81.npy', 'X_115_82.npy', 'X_115_83.npy', 'X_115_84.npy', 'X_115_85.npy', 'X_115_86.npy', 'X_115_87.npy', 'X_115_88.npy', 'X_115_89.npy', 'X_115_90.npy', 'X_115_92.npy', 'X_115_93.npy', 'X_115_94.npy', 'X_115_95.npy', 'X_115_97.npy', 'X_115_98.npy', 'X_115_99.npy']\n",
      "Allocated arrays\n",
      "Created feature matrix\n",
      "Created ROI matrix\n",
      "Created feature label matrix\n",
      "['0.0' 'Left red nucleus' 'Left substantia nigra'\n",
      " 'Left subthalamic nucleus' 'Right Substantia nigra' 'Right red nucleus'\n",
      " 'Right subthalamic nucleus']\n",
      "14\n",
      "69\n",
      "['0.0' 'Left substantia nigra' 'Left subthalamic nucleus'\n",
      " 'Right Substantia nigra' 'Right subthalamic nucleus']\n"
     ]
    }
   ],
   "source": [
    "cv_names = {'CORNELL ID',\n",
    "            ' OFF (pre-dbs updrs)',\n",
    "            ' ON (pre-dbs updrs)',\n",
    "            ' OFF meds ON stim 6mo',\n",
    "            'Age',\n",
    "            'Sex',\n",
    "            'Ethnicity',\n",
    "            'Race',\n",
    "            'Disease Duration (year)',\n",
    "            'Physician',\n",
    "            ' pre op levadopa equivalent dose (mg)',\n",
    "            ' Location',\n",
    "            ' Target',\n",
    "            ' Test medication status'}\n",
    "\n",
    "\n",
    "# Load scores\n",
    "file_dir = '/data/Ali/RadDBS-QSM/data/docs/dbs_03292024.csv'\n",
    "motor_df = util.filter_data(file_dir,cv_names,True)\n",
    "# Find cases with all required scores\n",
    "cv_dict = util.filter_cases(motor_df,cv_names)\n",
    "subs = cv_dict['CORNELL ID']\n",
    "# Load extracted features\n",
    "npy_dir = '/data/Ali/RadDBS-QSM/data/npy/new/'\n",
    "phi_dir = '/data/Ali/RadDBS-QSM/data/phi/new/phi/'\n",
    "roi_path = '/data/Ali/RadDBS-QSM/data/xlxs/new_segs.csv'\n",
    "n_rois = 6\n",
    "all_rois = False\n",
    "Phi_all, X_all, R_all, K_all, ID_all = util.load_featstruct(phi_dir,npy_dir+'X/',npy_dir+'R/',npy_dir+'K/',n_rois,1595,all_rois)\n",
    "print(np.unique(R_all))\n",
    "ids = np.asarray(ID_all).astype(int)\n",
    "\n",
    "# Use cases from only 1 rater\n",
    "phys = cv_dict['Physician']\n",
    "# Find overlap between scored subjects and feature extraction cases\n",
    "c_cases = np.intersect1d(np.asarray(ids).astype(int),np.asarray(cv_dict['CORNELL ID'])[phys==2].astype(int))\n",
    "# Complete case indices with respect to feature matrix\n",
    "c_cases_idx = np.in1d(ids,c_cases)\n",
    "# Exclude GPi\n",
    "c_cases_idx[ids == 36] = 0\n",
    "# c_cases_idx[ids == 42] = 0\n",
    "# c_cases_idx[ids == 52] = 0\n",
    "c_cases_idx[ids == 53] = 0\n",
    "# c_cases_idx[ids == 98] = 0\n",
    "# c_cases_idx[ids == 108] = 0\n",
    "print(np.sum(c_cases_idx))\n",
    "s_cases_idx = np.in1d(subs,ids[c_cases_idx])\n",
    "print(len(s_cases_idx))\n",
    "        \n",
    "X_all_c = X_all[c_cases_idx,2:6,:]\n",
    "#X_all_c = (np.load('X2h_sr.npy').T).reshape((31,6381))\n",
    "# print('Applying combat')\n",
    "K_all_c = K_all[c_cases_idx,2:6,:]\n",
    "R_all_c = R_all[c_cases_idx,2:6,:]\n",
    "# Re-index the scored subjects with respect to complete cases\n",
    "\n",
    "per_change = ((cv_dict[' OFF (pre-dbs updrs)']-cv_dict[' OFF meds ON stim 6mo'])/cv_dict[' OFF (pre-dbs updrs)'])[s_cases_idx]\n",
    "pre_imp = ((cv_dict[' OFF (pre-dbs updrs)']-cv_dict[' ON (pre-dbs updrs)'])/cv_dict[' OFF (pre-dbs updrs)'])[s_cases_idx]\n",
    "pre_updrs = cv_dict[' ON (pre-dbs updrs)'][s_cases_idx]\n",
    "dd = cv_dict['Disease Duration (year)'][s_cases_idx]\n",
    "ledd = cv_dict[' pre op levadopa equivalent dose (mg)'][s_cases_idx]\n",
    "tmed = cv_dict[' Test medication status'][s_cases_idx]\n",
    "\n",
    "age = cv_dict['Age'][s_cases_idx]\n",
    "loc = cv_dict[' Location'][s_cases_idx]\n",
    "sex = cv_dict['Sex'][s_cases_idx]\n",
    "rce = cv_dict['Race'][s_cases_idx]\n",
    "eth = cv_dict['Ethnicity'][s_cases_idx]\n",
    "tgt = cv_dict[' Target'][s_cases_idx]\n",
    "subsc = subs[s_cases_idx]\n",
    "# Reshape keys and ROIs\n",
    "if all_rois == True:\n",
    "    K_all_cu = np.empty((K_all_c.shape[0],K_all_c.shape[1],K_all_c.shape[2]+1),dtype=object)\n",
    "    K_all_cu[:,:,:-1] = K_all_c\n",
    "    K_all_cu[:,:,-1] = 'pre_updrs'\n",
    "    K_all_cu[:,:,-1] = 'disease_duration'\n",
    "    K_all_cu[:,:,-1] = 'pre op levadopa equivalent dose (mg)'\n",
    "    K_all_cu[:,:,-1] = ' Test medication status'\n",
    "    K_all_cu[:,:,-1] = 'Physician'\n",
    "    K_all_cu[:,:,-1] = 'Age'\n",
    "    K_all_cu[:,:,-1] = 'Location'\n",
    "    K_all_cu[:,:,-1] = 'Sex'\n",
    "    K_all_cu[:,:,-1] = 'Race'\n",
    "    K_all_cu[:,:,-1] = 'Ethnicity'\n",
    "    \n",
    "    K = K_all_cu.reshape((K_all_cu.shape[0],K_all_cu.shape[1]*K_all_cu.shape[2]))[0]\n",
    "    R = R_all_c.reshape((R_all_c.shape[0],R_all_c.shape[1]*R_all_c.shape[2]))\n",
    "else:\n",
    "    K_all_c = K_all_c.reshape((K_all_c.shape[0],K_all_c.shape[1]*K_all_c.shape[2]))[0]\n",
    "    R_all_c = R_all_c.reshape((R_all_c.shape[0],R_all_c.shape[1]*R_all_c.shape[2]))\n",
    "\n",
    "print(np.unique(R_all_c))"
   ]
  },
  {
   "cell_type": "code",
   "execution_count": 4,
   "metadata": {},
   "outputs": [],
   "source": [
    "n_cases = len(per_change)\n",
    "results_ls_aug = np.zeros_like(per_change)\n",
    "results_ls = np.zeros_like(per_change)\n",
    "r = 1"
   ]
  },
  {
   "cell_type": "code",
   "execution_count": 5,
   "metadata": {},
   "outputs": [],
   "source": [
    "if not sys.warnoptions:\n",
    "    warnings.simplefilter(\"ignore\",category=ConvergenceWarning)\n",
    "    os.environ[\"PYTHONWARNINGS\"] = \"ignore::UserWarning\"\n"
   ]
  },
  {
   "cell_type": "code",
   "execution_count": 22,
   "metadata": {},
   "outputs": [
    {
     "name": "stdout",
     "output_type": "stream",
     "text": [
      "-1.3287149158713873e-11\n",
      "Label distribution of: 0.694489552075759 0.22352910902138645 -1.388840019723584\n"
     ]
    },
    {
     "name": "stderr",
     "output_type": "stream",
     "text": [
      "/data/Ali/anaconda3/envs/pdradenv/lib/python3.7/site-packages/sklearn/model_selection/_split.py:680: UserWarning: The least populated class in y has only 1 members, which is less than n_splits=2.\n",
      "  UserWarning,\n"
     ]
    },
    {
     "name": "stdout",
     "output_type": "stream",
     "text": [
      "LassoCV score for 2 is [0.] from dataset of size (13, 4385)\n"
     ]
    },
    {
     "name": "stderr",
     "output_type": "stream",
     "text": [
      "/data/Ali/anaconda3/envs/pdradenv/lib/python3.7/site-packages/sklearn/model_selection/_split.py:680: UserWarning: The least populated class in y has only 1 members, which is less than n_splits=3.\n",
      "  UserWarning,\n"
     ]
    },
    {
     "name": "stdout",
     "output_type": "stream",
     "text": [
      "LassoCV score for 3 is [0.68580953] from dataset of size (13, 6385)\n"
     ]
    },
    {
     "name": "stderr",
     "output_type": "stream",
     "text": [
      "/data/Ali/anaconda3/envs/pdradenv/lib/python3.7/site-packages/sklearn/model_selection/_split.py:680: UserWarning: The least populated class in y has only 1 members, which is less than n_splits=4.\n",
      "  UserWarning,\n"
     ]
    },
    {
     "name": "stdout",
     "output_type": "stream",
     "text": [
      "LassoCV score for 4 is [0.6815489] from dataset of size (13, 4385)\n"
     ]
    },
    {
     "name": "stderr",
     "output_type": "stream",
     "text": [
      "/data/Ali/anaconda3/envs/pdradenv/lib/python3.7/site-packages/sklearn/model_selection/_split.py:680: UserWarning: The least populated class in y has only 1 members, which is less than n_splits=5.\n",
      "  UserWarning,\n"
     ]
    },
    {
     "name": "stdout",
     "output_type": "stream",
     "text": [
      "LassoCV score for 5 is [0.05520111] from dataset of size (13, 6385)\n",
      "Lasso predicts 0.7579 for case with 0.71 and selected CV 3\n",
      "No features appended\n",
      "-5.5280224842135794e-12\n",
      "Label distribution of: 0.7053376783085006 0.22046352782338086 -1.5803136558029656\n"
     ]
    },
    {
     "name": "stderr",
     "output_type": "stream",
     "text": [
      "/data/Ali/anaconda3/envs/pdradenv/lib/python3.7/site-packages/sklearn/model_selection/_split.py:680: UserWarning: The least populated class in y has only 1 members, which is less than n_splits=2.\n",
      "  UserWarning,\n"
     ]
    },
    {
     "name": "stdout",
     "output_type": "stream",
     "text": [
      "LassoCV score for 2 is [0.] from dataset of size (13, 4385)\n"
     ]
    },
    {
     "name": "stderr",
     "output_type": "stream",
     "text": [
      "/data/Ali/anaconda3/envs/pdradenv/lib/python3.7/site-packages/sklearn/model_selection/_split.py:680: UserWarning: The least populated class in y has only 1 members, which is less than n_splits=3.\n",
      "  UserWarning,\n"
     ]
    },
    {
     "name": "stdout",
     "output_type": "stream",
     "text": [
      "LassoCV score for 3 is [0.77845781] from dataset of size (13, 4385)\n"
     ]
    },
    {
     "name": "stderr",
     "output_type": "stream",
     "text": [
      "/data/Ali/anaconda3/envs/pdradenv/lib/python3.7/site-packages/sklearn/model_selection/_split.py:680: UserWarning: The least populated class in y has only 1 members, which is less than n_splits=4.\n",
      "  UserWarning,\n"
     ]
    },
    {
     "name": "stdout",
     "output_type": "stream",
     "text": [
      "LassoCV score for 4 is [0.88539553] from dataset of size (13, 3385)\n"
     ]
    },
    {
     "name": "stderr",
     "output_type": "stream",
     "text": [
      "/data/Ali/anaconda3/envs/pdradenv/lib/python3.7/site-packages/sklearn/model_selection/_split.py:680: UserWarning: The least populated class in y has only 1 members, which is less than n_splits=5.\n",
      "  UserWarning,\n"
     ]
    },
    {
     "name": "stdout",
     "output_type": "stream",
     "text": [
      "LassoCV score for 5 is [0.81341488] from dataset of size (13, 2385)\n",
      "Using nearest neighbor\n",
      "Lasso predicts 0.8857 for case with 0.57 and selected CV 4\n",
      "No features appended\n",
      "-1.2434497875801753e-11\n",
      "Label distribution of: 0.7431581911290135 0.1344971110952635 0.008172612742653493\n",
      "LassoCV score for 2 is [0.] from dataset of size (13, 5385)\n",
      "LassoCV score for 3 is [0.10449614] from dataset of size (13, 6385)\n",
      "LassoCV score for 4 is [0.36542571] from dataset of size (13, 1385)\n",
      "LassoCV score for 5 is [0.72157859] from dataset of size (13, 1)\n",
      "Lasso predicts 0.7531 for case with 0.08 and selected CV 5\n",
      "No features appended\n",
      "-9.961809155356605e-12\n",
      "Label distribution of: 0.6865573595281819 0.2210767592487075 -1.3390755820063815\n"
     ]
    },
    {
     "name": "stderr",
     "output_type": "stream",
     "text": [
      "/data/Ali/anaconda3/envs/pdradenv/lib/python3.7/site-packages/sklearn/model_selection/_split.py:680: UserWarning: The least populated class in y has only 1 members, which is less than n_splits=2.\n",
      "  UserWarning,\n"
     ]
    },
    {
     "name": "stdout",
     "output_type": "stream",
     "text": [
      "LassoCV score for 2 is [0.54882953] from dataset of size (13, 385)\n"
     ]
    },
    {
     "name": "stderr",
     "output_type": "stream",
     "text": [
      "/data/Ali/anaconda3/envs/pdradenv/lib/python3.7/site-packages/sklearn/model_selection/_split.py:680: UserWarning: The least populated class in y has only 1 members, which is less than n_splits=3.\n",
      "  UserWarning,\n"
     ]
    },
    {
     "name": "stdout",
     "output_type": "stream",
     "text": [
      "LassoCV score for 3 is [0.] from dataset of size (13, 4385)\n"
     ]
    },
    {
     "name": "stderr",
     "output_type": "stream",
     "text": [
      "/data/Ali/anaconda3/envs/pdradenv/lib/python3.7/site-packages/sklearn/model_selection/_split.py:680: UserWarning: The least populated class in y has only 1 members, which is less than n_splits=4.\n",
      "  UserWarning,\n"
     ]
    },
    {
     "name": "stdout",
     "output_type": "stream",
     "text": [
      "LassoCV score for 4 is [0.03938139] from dataset of size (13, 5385)\n"
     ]
    },
    {
     "name": "stderr",
     "output_type": "stream",
     "text": [
      "/data/Ali/anaconda3/envs/pdradenv/lib/python3.7/site-packages/sklearn/model_selection/_split.py:680: UserWarning: The least populated class in y has only 1 members, which is less than n_splits=5.\n",
      "  UserWarning,\n"
     ]
    },
    {
     "name": "stdout",
     "output_type": "stream",
     "text": [
      "LassoCV score for 5 is [0.] from dataset of size (13, 3385)\n",
      "Lasso predicts 0.6707 for case with 0.81 and selected CV 2\n",
      "No features appended\n",
      "-1.3642420526593924e-11\n",
      "Label distribution of: 0.680795553766376 0.21674479762602628 -1.3863956127462091\n"
     ]
    },
    {
     "name": "stderr",
     "output_type": "stream",
     "text": [
      "/data/Ali/anaconda3/envs/pdradenv/lib/python3.7/site-packages/sklearn/model_selection/_split.py:680: UserWarning: The least populated class in y has only 1 members, which is less than n_splits=2.\n",
      "  UserWarning,\n"
     ]
    },
    {
     "name": "stdout",
     "output_type": "stream",
     "text": [
      "LassoCV score for 2 is [0.56836626] from dataset of size (13, 6385)\n"
     ]
    },
    {
     "name": "stderr",
     "output_type": "stream",
     "text": [
      "/data/Ali/anaconda3/envs/pdradenv/lib/python3.7/site-packages/sklearn/model_selection/_split.py:680: UserWarning: The least populated class in y has only 1 members, which is less than n_splits=3.\n",
      "  UserWarning,\n"
     ]
    },
    {
     "name": "stdout",
     "output_type": "stream",
     "text": [
      "LassoCV score for 3 is [0.70223934] from dataset of size (13, 6385)\n"
     ]
    },
    {
     "name": "stderr",
     "output_type": "stream",
     "text": [
      "/data/Ali/anaconda3/envs/pdradenv/lib/python3.7/site-packages/sklearn/model_selection/_split.py:680: UserWarning: The least populated class in y has only 1 members, which is less than n_splits=4.\n",
      "  UserWarning,\n"
     ]
    },
    {
     "name": "stdout",
     "output_type": "stream",
     "text": [
      "LassoCV score for 4 is [0.45314425] from dataset of size (13, 5385)\n"
     ]
    },
    {
     "name": "stderr",
     "output_type": "stream",
     "text": [
      "/data/Ali/anaconda3/envs/pdradenv/lib/python3.7/site-packages/sklearn/model_selection/_split.py:680: UserWarning: The least populated class in y has only 1 members, which is less than n_splits=5.\n",
      "  UserWarning,\n"
     ]
    },
    {
     "name": "stdout",
     "output_type": "stream",
     "text": [
      "LassoCV score for 5 is [0.9842027] from dataset of size (13, 1385)\n",
      "Lasso predicts 0.4853 for case with 0.89 and selected CV 5\n",
      "No features appended\n",
      "-1.6200374375330284e-11\n",
      "Label distribution of: 0.6989274218982443 0.22317419465853341 -1.4545148145502882\n"
     ]
    },
    {
     "name": "stderr",
     "output_type": "stream",
     "text": [
      "/data/Ali/anaconda3/envs/pdradenv/lib/python3.7/site-packages/sklearn/model_selection/_split.py:680: UserWarning: The least populated class in y has only 1 members, which is less than n_splits=2.\n",
      "  UserWarning,\n"
     ]
    },
    {
     "name": "stdout",
     "output_type": "stream",
     "text": [
      "LassoCV score for 2 is [0.99995373] from dataset of size (13, 1385)\n"
     ]
    },
    {
     "name": "stderr",
     "output_type": "stream",
     "text": [
      "/data/Ali/anaconda3/envs/pdradenv/lib/python3.7/site-packages/sklearn/model_selection/_split.py:680: UserWarning: The least populated class in y has only 1 members, which is less than n_splits=3.\n",
      "  UserWarning,\n"
     ]
    },
    {
     "name": "stdout",
     "output_type": "stream",
     "text": [
      "LassoCV score for 3 is [0.36495962] from dataset of size (13, 2385)\n"
     ]
    },
    {
     "name": "stderr",
     "output_type": "stream",
     "text": [
      "/data/Ali/anaconda3/envs/pdradenv/lib/python3.7/site-packages/sklearn/model_selection/_split.py:680: UserWarning: The least populated class in y has only 1 members, which is less than n_splits=4.\n",
      "  UserWarning,\n"
     ]
    },
    {
     "name": "stdout",
     "output_type": "stream",
     "text": [
      "LassoCV score for 4 is [0.02901384] from dataset of size (13, 6385)\n"
     ]
    },
    {
     "name": "stderr",
     "output_type": "stream",
     "text": [
      "/data/Ali/anaconda3/envs/pdradenv/lib/python3.7/site-packages/sklearn/model_selection/_split.py:680: UserWarning: The least populated class in y has only 1 members, which is less than n_splits=5.\n",
      "  UserWarning,\n"
     ]
    },
    {
     "name": "stdout",
     "output_type": "stream",
     "text": [
      "LassoCV score for 5 is [0.10581458] from dataset of size (13, 5385)\n",
      "Lasso predicts 0.6954 for case with 0.65 and selected CV 2\n",
      "No features appended\n",
      "-1.2846612662542611e-11\n",
      "Label distribution of: 0.6985295439141593 0.22325644257894237 -1.4477919882895316\n"
     ]
    },
    {
     "name": "stderr",
     "output_type": "stream",
     "text": [
      "/data/Ali/anaconda3/envs/pdradenv/lib/python3.7/site-packages/sklearn/model_selection/_split.py:680: UserWarning: The least populated class in y has only 1 members, which is less than n_splits=2.\n",
      "  UserWarning,\n"
     ]
    },
    {
     "name": "stdout",
     "output_type": "stream",
     "text": [
      "LassoCV score for 2 is [0.55048967] from dataset of size (13, 6385)\n"
     ]
    },
    {
     "name": "stderr",
     "output_type": "stream",
     "text": [
      "/data/Ali/anaconda3/envs/pdradenv/lib/python3.7/site-packages/sklearn/model_selection/_split.py:680: UserWarning: The least populated class in y has only 1 members, which is less than n_splits=3.\n",
      "  UserWarning,\n"
     ]
    },
    {
     "name": "stdout",
     "output_type": "stream",
     "text": [
      "LassoCV score for 3 is [0.98611348] from dataset of size (13, 1385)\n"
     ]
    },
    {
     "name": "stderr",
     "output_type": "stream",
     "text": [
      "/data/Ali/anaconda3/envs/pdradenv/lib/python3.7/site-packages/sklearn/model_selection/_split.py:680: UserWarning: The least populated class in y has only 1 members, which is less than n_splits=4.\n",
      "  UserWarning,\n"
     ]
    },
    {
     "name": "stdout",
     "output_type": "stream",
     "text": [
      "LassoCV score for 4 is [0.] from dataset of size (13, 1385)\n"
     ]
    },
    {
     "name": "stderr",
     "output_type": "stream",
     "text": [
      "/data/Ali/anaconda3/envs/pdradenv/lib/python3.7/site-packages/sklearn/model_selection/_split.py:680: UserWarning: The least populated class in y has only 1 members, which is less than n_splits=5.\n",
      "  UserWarning,\n"
     ]
    },
    {
     "name": "stdout",
     "output_type": "stream",
     "text": [
      "LassoCV score for 5 is [0.05405053] from dataset of size (13, 6385)\n",
      "Lasso predicts 0.9267 for case with 0.66 and selected CV 3\n",
      "No features appended\n",
      "-9.308109838457312e-12\n",
      "Label distribution of: 0.7104658834367057 0.21636478799597508 -1.6974550693544235\n"
     ]
    },
    {
     "name": "stderr",
     "output_type": "stream",
     "text": [
      "/data/Ali/anaconda3/envs/pdradenv/lib/python3.7/site-packages/sklearn/model_selection/_split.py:680: UserWarning: The least populated class in y has only 1 members, which is less than n_splits=2.\n",
      "  UserWarning,\n"
     ]
    },
    {
     "name": "stdout",
     "output_type": "stream",
     "text": [
      "LassoCV score for 2 is [0.55224867] from dataset of size (13, 1)\n"
     ]
    },
    {
     "name": "stderr",
     "output_type": "stream",
     "text": [
      "/data/Ali/anaconda3/envs/pdradenv/lib/python3.7/site-packages/sklearn/model_selection/_split.py:680: UserWarning: The least populated class in y has only 1 members, which is less than n_splits=3.\n",
      "  UserWarning,\n"
     ]
    },
    {
     "name": "stdout",
     "output_type": "stream",
     "text": [
      "LassoCV score for 3 is [0.39940667] from dataset of size (13, 5385)\n"
     ]
    },
    {
     "name": "stderr",
     "output_type": "stream",
     "text": [
      "/data/Ali/anaconda3/envs/pdradenv/lib/python3.7/site-packages/sklearn/model_selection/_split.py:680: UserWarning: The least populated class in y has only 1 members, which is less than n_splits=4.\n",
      "  UserWarning,\n"
     ]
    },
    {
     "name": "stdout",
     "output_type": "stream",
     "text": [
      "LassoCV score for 4 is [0.5040475] from dataset of size (13, 3385)\n"
     ]
    },
    {
     "name": "stderr",
     "output_type": "stream",
     "text": [
      "/data/Ali/anaconda3/envs/pdradenv/lib/python3.7/site-packages/sklearn/model_selection/_split.py:680: UserWarning: The least populated class in y has only 1 members, which is less than n_splits=5.\n",
      "  UserWarning,\n"
     ]
    },
    {
     "name": "stdout",
     "output_type": "stream",
     "text": [
      "LassoCV score for 5 is [0.47876647] from dataset of size (13, 3385)\n",
      "Lasso predicts 0.7105 for case with 0.5 and selected CV 2\n",
      "No features appended\n",
      "-1.3159251466277055e-11\n",
      "Label distribution of: 0.6750812680520902 0.2101885726572338 -1.547657824445447\n"
     ]
    },
    {
     "name": "stderr",
     "output_type": "stream",
     "text": [
      "/data/Ali/anaconda3/envs/pdradenv/lib/python3.7/site-packages/sklearn/model_selection/_split.py:680: UserWarning: The least populated class in y has only 1 members, which is less than n_splits=2.\n",
      "  UserWarning,\n"
     ]
    },
    {
     "name": "stdout",
     "output_type": "stream",
     "text": [
      "LassoCV score for 2 is [1.] from dataset of size (13, 2385)\n"
     ]
    },
    {
     "name": "stderr",
     "output_type": "stream",
     "text": [
      "/data/Ali/anaconda3/envs/pdradenv/lib/python3.7/site-packages/sklearn/model_selection/_split.py:680: UserWarning: The least populated class in y has only 1 members, which is less than n_splits=3.\n",
      "  UserWarning,\n"
     ]
    },
    {
     "name": "stdout",
     "output_type": "stream",
     "text": [
      "LassoCV score for 3 is [1.] from dataset of size (13, 6385)\n"
     ]
    },
    {
     "name": "stderr",
     "output_type": "stream",
     "text": [
      "/data/Ali/anaconda3/envs/pdradenv/lib/python3.7/site-packages/sklearn/model_selection/_split.py:680: UserWarning: The least populated class in y has only 1 members, which is less than n_splits=4.\n",
      "  UserWarning,\n"
     ]
    },
    {
     "name": "stdout",
     "output_type": "stream",
     "text": [
      "LassoCV score for 4 is [1.] from dataset of size (13, 6385)\n"
     ]
    },
    {
     "name": "stderr",
     "output_type": "stream",
     "text": [
      "/data/Ali/anaconda3/envs/pdradenv/lib/python3.7/site-packages/sklearn/model_selection/_split.py:680: UserWarning: The least populated class in y has only 1 members, which is less than n_splits=5.\n",
      "  UserWarning,\n"
     ]
    },
    {
     "name": "stdout",
     "output_type": "stream",
     "text": [
      "LassoCV score for 5 is [0.] from dataset of size (13, 4385)\n",
      "Lasso predicts 0.6338 for case with 0.96 and selected CV 2\n",
      "No features appended\n",
      "-1.226396761921933e-11\n",
      "Label distribution of: 0.6854658834367057 0.22042462579389474 -1.3414205471349943\n"
     ]
    },
    {
     "name": "stderr",
     "output_type": "stream",
     "text": [
      "/data/Ali/anaconda3/envs/pdradenv/lib/python3.7/site-packages/sklearn/model_selection/_split.py:680: UserWarning: The least populated class in y has only 1 members, which is less than n_splits=2.\n",
      "  UserWarning,\n"
     ]
    },
    {
     "name": "stdout",
     "output_type": "stream",
     "text": [
      "LassoCV score for 2 is [0.55957932] from dataset of size (13, 6385)\n"
     ]
    },
    {
     "name": "stderr",
     "output_type": "stream",
     "text": [
      "/data/Ali/anaconda3/envs/pdradenv/lib/python3.7/site-packages/sklearn/model_selection/_split.py:680: UserWarning: The least populated class in y has only 1 members, which is less than n_splits=3.\n",
      "  UserWarning,\n"
     ]
    },
    {
     "name": "stdout",
     "output_type": "stream",
     "text": [
      "LassoCV score for 3 is [0.] from dataset of size (13, 6385)\n"
     ]
    },
    {
     "name": "stderr",
     "output_type": "stream",
     "text": [
      "/data/Ali/anaconda3/envs/pdradenv/lib/python3.7/site-packages/sklearn/model_selection/_split.py:680: UserWarning: The least populated class in y has only 1 members, which is less than n_splits=4.\n",
      "  UserWarning,\n"
     ]
    },
    {
     "name": "stdout",
     "output_type": "stream",
     "text": [
      "LassoCV score for 4 is [0.] from dataset of size (13, 2385)\n"
     ]
    },
    {
     "name": "stderr",
     "output_type": "stream",
     "text": [
      "/data/Ali/anaconda3/envs/pdradenv/lib/python3.7/site-packages/sklearn/model_selection/_split.py:680: UserWarning: The least populated class in y has only 1 members, which is less than n_splits=5.\n",
      "  UserWarning,\n"
     ]
    },
    {
     "name": "stdout",
     "output_type": "stream",
     "text": [
      "LassoCV score for 5 is [0.] from dataset of size (13, 5385)\n",
      "Lasso predicts 0.6547 for case with 0.82 and selected CV 2\n",
      "No features appended\n",
      "-1.3216094885137863e-11\n",
      "Label distribution of: 0.6976453706161929 0.22340359198672669 -1.4333988629235246\n"
     ]
    },
    {
     "name": "stderr",
     "output_type": "stream",
     "text": [
      "/data/Ali/anaconda3/envs/pdradenv/lib/python3.7/site-packages/sklearn/model_selection/_split.py:680: UserWarning: The least populated class in y has only 1 members, which is less than n_splits=2.\n",
      "  UserWarning,\n"
     ]
    },
    {
     "name": "stdout",
     "output_type": "stream",
     "text": [
      "LassoCV score for 2 is [0.47730267] from dataset of size (13, 1)\n"
     ]
    },
    {
     "name": "stderr",
     "output_type": "stream",
     "text": [
      "/data/Ali/anaconda3/envs/pdradenv/lib/python3.7/site-packages/sklearn/model_selection/_split.py:680: UserWarning: The least populated class in y has only 1 members, which is less than n_splits=3.\n",
      "  UserWarning,\n"
     ]
    },
    {
     "name": "stdout",
     "output_type": "stream",
     "text": [
      "LassoCV score for 3 is [0.47730267] from dataset of size (13, 1)\n"
     ]
    },
    {
     "name": "stderr",
     "output_type": "stream",
     "text": [
      "/data/Ali/anaconda3/envs/pdradenv/lib/python3.7/site-packages/sklearn/model_selection/_split.py:680: UserWarning: The least populated class in y has only 1 members, which is less than n_splits=4.\n",
      "  UserWarning,\n"
     ]
    },
    {
     "name": "stdout",
     "output_type": "stream",
     "text": [
      "LassoCV score for 4 is [0.99989272] from dataset of size (13, 3385)\n"
     ]
    },
    {
     "name": "stderr",
     "output_type": "stream",
     "text": [
      "/data/Ali/anaconda3/envs/pdradenv/lib/python3.7/site-packages/sklearn/model_selection/_split.py:680: UserWarning: The least populated class in y has only 1 members, which is less than n_splits=5.\n",
      "  UserWarning,\n"
     ]
    },
    {
     "name": "stdout",
     "output_type": "stream",
     "text": [
      "LassoCV score for 5 is [1.] from dataset of size (13, 2385)\n",
      "Lasso predicts 0.8799 for case with 0.67 and selected CV 5\n",
      "No features appended\n",
      "-1.524824710941175e-11\n",
      "Label distribution of: 0.6942265671973895 0.22351140927274254 -1.385655951444777\n"
     ]
    },
    {
     "name": "stderr",
     "output_type": "stream",
     "text": [
      "/data/Ali/anaconda3/envs/pdradenv/lib/python3.7/site-packages/sklearn/model_selection/_split.py:680: UserWarning: The least populated class in y has only 1 members, which is less than n_splits=2.\n",
      "  UserWarning,\n"
     ]
    },
    {
     "name": "stdout",
     "output_type": "stream",
     "text": [
      "LassoCV score for 2 is [0.47437859] from dataset of size (13, 6385)\n"
     ]
    },
    {
     "name": "stderr",
     "output_type": "stream",
     "text": [
      "/data/Ali/anaconda3/envs/pdradenv/lib/python3.7/site-packages/sklearn/model_selection/_split.py:680: UserWarning: The least populated class in y has only 1 members, which is less than n_splits=3.\n",
      "  UserWarning,\n"
     ]
    },
    {
     "name": "stdout",
     "output_type": "stream",
     "text": [
      "LassoCV score for 3 is [0.99994085] from dataset of size (13, 5385)\n"
     ]
    },
    {
     "name": "stderr",
     "output_type": "stream",
     "text": [
      "/data/Ali/anaconda3/envs/pdradenv/lib/python3.7/site-packages/sklearn/model_selection/_split.py:680: UserWarning: The least populated class in y has only 1 members, which is less than n_splits=4.\n",
      "  UserWarning,\n"
     ]
    },
    {
     "name": "stdout",
     "output_type": "stream",
     "text": [
      "LassoCV score for 4 is [0.] from dataset of size (13, 6385)\n"
     ]
    },
    {
     "name": "stderr",
     "output_type": "stream",
     "text": [
      "/data/Ali/anaconda3/envs/pdradenv/lib/python3.7/site-packages/sklearn/model_selection/_split.py:680: UserWarning: The least populated class in y has only 1 members, which is less than n_splits=5.\n",
      "  UserWarning,\n"
     ]
    },
    {
     "name": "stdout",
     "output_type": "stream",
     "text": [
      "LassoCV score for 5 is [0.93566886] from dataset of size (13, 5385)\n",
      "Lasso predicts 0.8538 for case with 0.71 and selected CV 3\n",
      "No features appended\n",
      "-1.0544454198679887e-11\n",
      "Label distribution of: 0.6890983620691843 0.22229709048028187 -1.3433188739127189\n"
     ]
    },
    {
     "name": "stderr",
     "output_type": "stream",
     "text": [
      "/data/Ali/anaconda3/envs/pdradenv/lib/python3.7/site-packages/sklearn/model_selection/_split.py:680: UserWarning: The least populated class in y has only 1 members, which is less than n_splits=2.\n",
      "  UserWarning,\n"
     ]
    },
    {
     "name": "stdout",
     "output_type": "stream",
     "text": [
      "LassoCV score for 2 is [0.] from dataset of size (13, 5385)\n"
     ]
    },
    {
     "name": "stderr",
     "output_type": "stream",
     "text": [
      "/data/Ali/anaconda3/envs/pdradenv/lib/python3.7/site-packages/sklearn/model_selection/_split.py:680: UserWarning: The least populated class in y has only 1 members, which is less than n_splits=3.\n",
      "  UserWarning,\n"
     ]
    },
    {
     "name": "stdout",
     "output_type": "stream",
     "text": [
      "LassoCV score for 3 is [0.66276802] from dataset of size (13, 1)\n"
     ]
    },
    {
     "name": "stderr",
     "output_type": "stream",
     "text": [
      "/data/Ali/anaconda3/envs/pdradenv/lib/python3.7/site-packages/sklearn/model_selection/_split.py:680: UserWarning: The least populated class in y has only 1 members, which is less than n_splits=4.\n",
      "  UserWarning,\n"
     ]
    },
    {
     "name": "stdout",
     "output_type": "stream",
     "text": [
      "LassoCV score for 4 is [0.] from dataset of size (13, 6385)\n"
     ]
    },
    {
     "name": "stderr",
     "output_type": "stream",
     "text": [
      "/data/Ali/anaconda3/envs/pdradenv/lib/python3.7/site-packages/sklearn/model_selection/_split.py:680: UserWarning: The least populated class in y has only 1 members, which is less than n_splits=5.\n",
      "  UserWarning,\n"
     ]
    },
    {
     "name": "stdout",
     "output_type": "stream",
     "text": [
      "LassoCV score for 5 is [0.] from dataset of size (13, 6385)\n",
      "Lasso predicts 1.107 for case with 0.78 and selected CV 3\n",
      "No features appended\n",
      "-1.5496937066927785e-11\n",
      "Label distribution of: 0.6762778492486715 0.21175704847359947 -1.501429380398817\n"
     ]
    },
    {
     "name": "stderr",
     "output_type": "stream",
     "text": [
      "/data/Ali/anaconda3/envs/pdradenv/lib/python3.7/site-packages/sklearn/model_selection/_split.py:680: UserWarning: The least populated class in y has only 1 members, which is less than n_splits=2.\n",
      "  UserWarning,\n"
     ]
    },
    {
     "name": "stdout",
     "output_type": "stream",
     "text": [
      "LassoCV score for 2 is [0.40445252] from dataset of size (13, 385)\n"
     ]
    },
    {
     "name": "stderr",
     "output_type": "stream",
     "text": [
      "/data/Ali/anaconda3/envs/pdradenv/lib/python3.7/site-packages/sklearn/model_selection/_split.py:680: UserWarning: The least populated class in y has only 1 members, which is less than n_splits=3.\n",
      "  UserWarning,\n"
     ]
    },
    {
     "name": "stdout",
     "output_type": "stream",
     "text": [
      "LassoCV score for 3 is [0.36297004] from dataset of size (13, 385)\n"
     ]
    },
    {
     "name": "stderr",
     "output_type": "stream",
     "text": [
      "/data/Ali/anaconda3/envs/pdradenv/lib/python3.7/site-packages/sklearn/model_selection/_split.py:680: UserWarning: The least populated class in y has only 1 members, which is less than n_splits=4.\n",
      "  UserWarning,\n"
     ]
    },
    {
     "name": "stdout",
     "output_type": "stream",
     "text": [
      "LassoCV score for 4 is [0.6050318] from dataset of size (13, 4385)\n"
     ]
    },
    {
     "name": "stderr",
     "output_type": "stream",
     "text": [
      "/data/Ali/anaconda3/envs/pdradenv/lib/python3.7/site-packages/sklearn/model_selection/_split.py:680: UserWarning: The least populated class in y has only 1 members, which is less than n_splits=5.\n",
      "  UserWarning,\n"
     ]
    },
    {
     "name": "stdout",
     "output_type": "stream",
     "text": [
      "LassoCV score for 5 is [0.44009226] from dataset of size (13, 6385)\n",
      "Lasso predicts 0.4299 for case with 0.94 and selected CV 4\n",
      "No features appended\n"
     ]
    }
   ],
   "source": [
    "Js = []\n",
    "aug = False\n",
    "strat = False\n",
    "err_var = np.zeros_like(per_change)\n",
    "rerror = np.zeros_like(per_change)\n",
    "kappa = []\n",
    "ymin = False\n",
    "c = 0\n",
    "for j in np.arange(len(subsc)):\n",
    "    test_id = subsc[j]\n",
    "    test_index = subsc == test_id\n",
    "    train_index = subsc != test_id\n",
    "    X_train = X_all_c[train_index,:,:]\n",
    "    X_test = X_all_c[test_index,:,:]\n",
    "    y_train = per_change[train_index]\n",
    "    y_test = per_change[test_index]\n",
    "\n",
    "    y_cat = y_train <= 0.3\n",
    "    if np.sum(y_cat) > 0:\n",
    "      idy = np.where(y_cat==1)\n",
    "    else:\n",
    "      idy = np.where(y_train == np.amin(y_train))\n",
    "      y0 = np.amin(y_train)\n",
    "      ymin = True\n",
    "      \n",
    "    # Cross validation                                    \n",
    "    X0_ss0,scaler_ss,X_test_ss0 = util.model_scale(skp.StandardScaler(),\n",
    "                                                X_train,train_index,X_test,\n",
    "                                                test_index,pre_updrs,age,dd,loc,ledd,None,None,None,None,None,False,False,False)\n",
    "\n",
    "    cvn = 5\n",
    "    cv_scores = np.zeros((cvn+1,1))\n",
    "    rs = 1\n",
    "    rcfs = 1000\n",
    "    print(np.sum(X0_ss0))\n",
    "    (mu, sigma) = stats.norm.fit(y_train)\n",
    "    kappa = stats.skew(y_train)\n",
    "    print('Label distribution of:',mu,sigma,kappa)\n",
    "    for jj in np.arange(2,cvn):\n",
    "      # Resample to avoid stratification errors\n",
    "      if strat == True:\n",
    "        while np.sum(y_cat) < cvn:\n",
    "          np.random.seed(rs)\n",
    "          idyr = np.random.choice(np.asarray(idy).ravel())\n",
    "          print(idyr)\n",
    "          X0_ss0 = np.append(X0_ss0,X0_ss0[idyr,:].reshape(1,-1),axis=0)\n",
    "          y_train = np.append(y_train,y_train[idyr])\n",
    "          if ymin == False:\n",
    "            y_cat = y_train <= 0.3\n",
    "          else:\n",
    "            y_cat = y_train <= y0\n",
    "            idy = np.where(y_train <= y0)\n",
    "            print(np.sum(y_cat))\n",
    "          rs = rs+1\n",
    "          print('Resampled to size',y_train.shape)\n",
    "        if aug == True:\n",
    "          y_train_n = y_train+(2.576*sigma)*np.random.normal(0,1,1)\n",
    "          y_train = np.hstack((y_train,y_train_n))\n",
    "          y_cat = y_train <= 0.3\n",
    "          X0_ss0 = np.vstack((X0_ss0,X0_ss0))\n",
    "    \n",
    "    for jj in np.arange(2,cvn+1):\n",
    "      skf_g = sms.StratifiedKFold(n_splits=jj,shuffle=True,random_state=0)\n",
    "      skf_gen = skf_g.split(X0_ss0,y_cat)\n",
    "      lasso = slm.LassoLarsCV(max_iter=1000,cv=jj,n_jobs=-1,normalize=False,eps=0.1)\n",
    "      with warnings.catch_warnings() and np.errstate(divide='ignore', invalid='ignore'):\n",
    "        # Feature selection\n",
    "        warnings.filterwarnings(\"ignore\", category=ConvergenceWarning)\n",
    "        sel = skf.RFECV(lasso,step=rcfs,cv=skf_gen)\n",
    "        X0_sst = sel.fit_transform(X0_ss0,y_train)\n",
    "        X0_ss = X0_sst\n",
    "        est_ls = lasso.fit(X0_ss,y_train)\n",
    "        cv_scores[jj] = est_ls.score(X0_ss,y_train)\n",
    "        print('LassoCV score for',jj,'is',cv_scores[jj],'from dataset of size',X0_ss.shape)\n",
    "        \n",
    "    with warnings.catch_warnings() and np.errstate(divide='ignore', invalid='ignore'):        \n",
    "      best_cv = np.argmax(cv_scores)\n",
    "\n",
    "      # Break any ties\n",
    "      if np.sum(cv_scores == best_cv) > 1:\n",
    "        cv_scores_tb = np.zeros((np.sum(cv_scores == best_cv),1))\n",
    "        for jjj in (cv_scores == cv_scores(best_cv)):\n",
    "          if jjj > 0:\n",
    "            skf_g = sms.StratifiedKFold(n_splits=np.arange(2,cvn)[jjj],shuffle=True,random_state=1)\n",
    "            skf_gen = skf_g.split(X0_ss0,y_cat) \n",
    "            X0_sst = sel.fit_transform(X0_ss0,y_train)\n",
    "            X0_ss = X0_sst\n",
    "            lasso = slm.LassoLarsCV(max_iter=1000,cv=np.arange(2,cvn)[jjj],n_jobs=-1,normalize=False,eps=0.1)\n",
    "            est_ls = lasso.fit(X0_ss,y_train)\n",
    "            cv_scores_tb[jjj] = est_ls.score(X0_ss,y_train)\n",
    "        best_cv = np.argmax(cv_scores_tb)\n",
    "      \n",
    "      # Fit whole dataset with optimal cv\n",
    "      lasso = slm.LassoLarsCV(max_iter=1000,cv=best_cv,n_jobs=-1,normalize=False,eps=0.1)\n",
    "      sel = skf.RFECV(lasso,step=rcfs,cv=best_cv)\n",
    "      X0_sst = sel.fit_transform(X0_ss0,y_train)\n",
    "      X_test_sst = sel.transform(X_test_ss0)\n",
    "      X0_ss = X0_sst\n",
    "      X_test_ss = X_test_sst\n",
    "\n",
    "    # LASSO\n",
    "    with warnings.catch_warnings():\n",
    "      warnings.filterwarnings(\"ignore\", category=ConvergenceWarning)\n",
    "      lasso = slm.LassoLarsCV(max_iter=1000,cv=best_cv,n_jobs=-1,normalize=False,eps=0.1)\n",
    "      est_ls = lasso.fit(X0_ss,y_train)\n",
    "      results_ls_aug[c] = est_ls.predict(X_test_ss)\n",
    "      if results_ls_aug[c] < 0:\n",
    "          dx, y_n = cKDTree(X0_ss).query(X_test_ss, k=1)\n",
    "          results_ls_aug[c] = y_train[y_n]\n",
    "          print('Using nearest neighbor')\n",
    "      print('Lasso predicts',str(np.round(results_ls_aug[c],4)),\n",
    "            'for case with',str(np.round(np.repeat(per_change,r)[c],2)),'and selected CV',best_cv)\n",
    "      try:\n",
    "        K_nz.append(np.squeeze(K_ss)[est_ls.coef_>0])\n",
    "      except:\n",
    "        print('No features appended')\n",
    "      c=c+1\n",
    "\n",
    "\n",
    "      \n",
    "\n",
    "  \n"
   ]
  },
  {
   "cell_type": "code",
   "execution_count": 23,
   "metadata": {},
   "outputs": [
    {
     "data": {
      "image/png": "[encoded data removed]",
      "text/plain": [
       "<Figure size 2000x1000 with 2 Axes>"
      ]
     },
     "metadata": {},
     "output_type": "display_data"
    }
   ],
   "source": [
    "fs = 32\n",
    "pre_imp = ((cv_dict[' OFF (pre-dbs updrs)']-cv_dict[' ON (pre-dbs updrs)'])/cv_dict[' OFF (pre-dbs updrs)'])[s_cases_idx]\n",
    "plt.rcParams['figure.figsize'] = [20, 10]\n",
    "fig,ax = plt.subplots(1,2,sharex=True,sharey=True)\n",
    "#ax[0].scatter(pre_imp,per_change)\n",
    "col = np.where(per_change <= 0.3,'orange','blue')\n",
    "ax[0].scatter(pre_imp,per_change, c=col,linewidth=0)\n",
    "lr = stats.linregress(pre_imp.T,per_change)\n",
    "y_model = pre_imp*lr.slope+lr.intercept\n",
    "ax[0].plot(pre_imp,y_model,color='r')\n",
    "ax[0].text(0.4,0.75,'$y$ = '+str(np.round(lr.slope,2))+'$x$ + '+str(np.round(lr.intercept,2))+'\\n'+'$r$ = '+str(np.round(lr.rvalue,2))+'\\n'+'$p$ = '+str(('{:.3f}'.format(lr.pvalue))),\n",
    "                    ha='left', va='bottom', transform=ax[0].transAxes,fontsize=fs)  \n",
    "ax[0].hlines(0.3,0,2,linestyle='dashed',color='black')\n",
    "ax[0].vlines(0.3,0,2,linestyle='dashed',color='black')\n",
    "ax[0].set_title('LCT',fontsize=fs)\n",
    "ax[0].set_ylabel('True improvement',fontsize=fs)\n",
    "ax[0].set_xlabel('Prediction',fontsize=fs)\n",
    "\n",
    "col = np.where(per_change <= 0.3,'orange','blue')\n",
    "ax[1].scatter(results_ls_aug,per_change, c=col,linewidth=0)\n",
    "lr = stats.linregress(np.squeeze(results_ls_aug),per_change)\n",
    "y_model = results_ls_aug*lr.slope+lr.intercept\n",
    "ax[1].plot(results_ls_aug,y_model,color='r')\n",
    "ax[1].text(0.4,0.75,'$y$ = '+str(np.round(lr.slope,2))+'$x$ + '+str(np.round(lr.intercept,2))+'\\n'+'$r$ = '+str(np.round(lr.rvalue,2))+'\\n'+'$p$ = '+str(('{:.7f}'.format(lr.pvalue))),\n",
    "                    ha='left', va='bottom', transform=ax[1].transAxes,fontsize=fs) \n",
    "ax[1].hlines(0.3,0,2,linestyle='dashed',color='black')\n",
    "ax[1].vlines(0.3,0,2,linestyle='dashed',color='black')\n",
    "ax[1].set_title('Noise Compensated Lasso',fontsize=fs)\n",
    "ax[1].set_xlabel('Prediction',fontsize=fs)\n",
    "plt.ylim([0,1.5])\n",
    "plt.xlim([0,1.5])\n",
    "plt.style.use('default')"
   ]
  },
  {
   "cell_type": "code",
   "execution_count": null,
   "metadata": {},
   "outputs": [],
   "source": [
    "K_"
   ]
  }
 ],
 "metadata": {
  "kernelspec": {
   "display_name": "pdradenv",
   "language": "python",
   "name": "python3"
  },
  "language_info": {
   "codemirror_mode": {
    "name": "ipython",
    "version": 3
   },
   "file_extension": ".py",
   "mimetype": "text/x-python",
   "name": "python",
   "nbconvert_exporter": "python",
   "pygments_lexer": "ipython3",
   "version": "3.7.12"
  },
  "orig_nbformat": 4,
  "vscode": {
   "interpreter": {
    "hash": "14732b5bb7ad6abfe54a083b8d194ae3941adfb1b18321b588b21cb8f420fced"
   }
  }
 },
 "nbformat": 4,
 "nbformat_minor": 2
}
