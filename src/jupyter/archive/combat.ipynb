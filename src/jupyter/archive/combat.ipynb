{
 "cells": [
  {
   "cell_type": "code",
   "execution_count": 1,
   "metadata": {},
   "outputs": [
    {
     "name": "stderr",
     "output_type": "stream",
     "text": [
      "Intel(R) Extension for Scikit-learn* enabled (https://github.com/intel/scikit-learn-intelex)\n"
     ]
    }
   ],
   "source": [
    "# Import libraries\n",
    "from scipy.cluster.hierarchy import dendrogram, linkage\n",
    "import matplotlib.pyplot as plt\n",
    "from mpl_toolkits.axes_grid1 import make_axes_locatable\n",
    "import nibabel as nib\n",
    "from sklearn.svm import SVR\n",
    "from sklearn.linear_model import LassoCV\n",
    "from sklearn.linear_model import Lasso\n",
    "from sklearn.linear_model import RidgeCV\n",
    "from sklearn.linear_model import ElasticNetCV\n",
    "from sklearn.preprocessing import StandardScaler\n",
    "from sklearn.pipeline import Pipeline\n",
    "from sklearn.model_selection import GridSearchCV\n",
    "from sklearn.model_selection import KFold\n",
    "from sklearn.feature_selection import SelectFromModel\n",
    "from sklearn.metrics import r2_score\n",
    "import SimpleITK as sitk\n",
    "import six\n",
    "from radiomics import featureextractor \n",
    "import numpy as np\n",
    "import os\n",
    "import pickle\n",
    "import pandas as pd\n",
    "import logging\n",
    "from scipy.stats import linregress\n",
    "from sklearn.linear_model import QuantileRegressor\n",
    "from sklearn.feature_selection import SelectKBest\n",
    "from sklearn.feature_selection import r_regression\n",
    "from sklearn.linear_model import ElasticNet\n",
    "from sklearn.linear_model import RANSACRegressor\n",
    "import os\n",
    "import sys\n",
    "sys.path.append('../')\n",
    "import matplotlib.pyplot as plt\n",
    "from pylab import rcParams\n",
    "import pandas as pd\n",
    "import warnings\n",
    "from sklearnex import patch_sklearn, config_context\n",
    "from sklearn.cluster import DBSCAN\n",
    "from sklearn.exceptions import ConvergenceWarning\n",
    "from sklearn import preprocessing as skp\n",
    "from sklearn import model_selection as sms\n",
    "from sklearn import feature_selection as skf\n",
    "from sklearn import linear_model as slm\n",
    "import numpy as np\n",
    "import scipy.stats as stats\n",
    "from IPython.display import HTML\n",
    "import util as util\n",
    "import nibabel as nib\n",
    "import os\n",
    "import pickle\n",
    "from torch import nn\n",
    "import gc\n",
    "from neuroCombat import neuroCombat\n",
    "patch_sklearn()"
   ]
  },
  {
   "cell_type": "code",
   "execution_count": 2,
   "metadata": {},
   "outputs": [
    {
     "name": "stdout",
     "output_type": "stream",
     "text": [
      "Keeping CORNELL ID\n",
      "Keeping Age\n",
      "Keeping Sex\n",
      "Keeping Ethnicity\n",
      "Keeping Race\n",
      "Keeping Disease Duration (year)\n",
      "Keeping Physician\n",
      "Keeping  OFF (pre-dbs updrs)\n",
      "Keeping  ON (pre-dbs updrs)\n",
      "Keeping  pre op levadopa equivalent dose (mg)\n",
      "Keeping  Location\n",
      "Keeping  Target\n",
      "Keeping  Test medication status\n",
      "Keeping  OFF meds ON stim 6mo\n",
      "{'Age', ' ON (pre-dbs updrs)', 'Sex', ' Location', ' OFF meds ON stim 6mo', ' pre op levadopa equivalent dose (mg)', ' Test medication status', ' Target', 'Disease Duration (year)', 'Race', 'Ethnicity', ' OFF (pre-dbs updrs)', 'CORNELL ID', 'Physician'}\n",
      "Phi_01\n",
      "Phi_02\n",
      "Phi_03\n"
     ]
    },
    {
     "name": "stdout",
     "output_type": "stream",
     "text": [
      "Phi_04\n",
      "Phi_05\n",
      "Phi_06\n",
      "Phi_07\n",
      "Phi_08\n",
      "Phi_09\n",
      "Phi_10\n",
      "Phi_100\n",
      "Phi_101\n",
      "Phi_102\n",
      "Phi_104\n",
      "Phi_105\n",
      "Phi_106\n",
      "Phi_107\n",
      "Phi_108\n",
      "Phi_109\n",
      "Phi_11\n",
      "Phi_110\n",
      "Phi_111\n",
      "Phi_112\n",
      "Phi_113\n",
      "Phi_114\n",
      "Phi_115\n",
      "Phi_116\n",
      "Phi_12\n",
      "Phi_13\n",
      "Phi_14\n",
      "Phi_15\n",
      "Phi_16\n",
      "Phi_17\n",
      "Phi_18\n",
      "Phi_19\n",
      "Phi_20\n",
      "Phi_22\n",
      "Phi_23\n",
      "Phi_24\n",
      "Phi_25\n",
      "Phi_26\n",
      "Phi_27\n",
      "Phi_29\n",
      "Phi_30\n",
      "Phi_31\n",
      "Phi_32\n",
      "Phi_33\n",
      "Phi_34\n",
      "Phi_36\n",
      "Phi_37\n",
      "Phi_39\n",
      "Phi_40\n",
      "Phi_41\n",
      "Phi_42\n",
      "Phi_44\n",
      "Phi_45\n",
      "Phi_46\n",
      "Phi_48\n",
      "Phi_49\n",
      "Phi_50\n",
      "Phi_51\n",
      "Phi_52\n",
      "Phi_53\n",
      "Phi_55\n",
      "Phi_56\n",
      "Phi_57\n",
      "Phi_58\n",
      "Phi_59\n",
      "Phi_60\n",
      "Phi_61\n",
      "Phi_62\n",
      "Phi_63\n",
      "Phi_64\n",
      "Phi_66\n",
      "Phi_67\n",
      "Phi_68\n",
      "Phi_69\n",
      "Phi_70\n",
      "Phi_71\n",
      "Phi_72\n",
      "Phi_73\n",
      "Phi_74\n",
      "Phi_75\n",
      "Phi_76\n",
      "Phi_77\n",
      "Phi_78\n",
      "Phi_79\n",
      "Phi_80\n",
      "Phi_81\n",
      "Phi_82\n",
      "Phi_83\n",
      "Phi_84\n",
      "Phi_85\n",
      "Phi_86\n",
      "Phi_87\n",
      "Phi_88\n",
      "Phi_89\n",
      "Phi_90\n",
      "Phi_92\n",
      "Phi_93\n",
      "Phi_94\n",
      "Phi_95\n",
      "Phi_97\n",
      "Phi_98\n",
      "Phi_99\n",
      "['01', '02', '03', '04', '05', '06', '07', '08', '09', '10', '100', '101', '102', '104', '105', '106', '107', '108', '109', '11', '110', '111', '112', '113', '114', '115', '116', '12', '13', '14', '15', '16', '17', '18', '19', '20', '22', '23', '24', '25', '26', '27', '29', '30', '31', '32', '33', '34', '36', '37', '39', '40', '41', '42', '44', '45', '46', '48', '49', '50', '51', '52', '53', '55', '56', '57', '58', '59', '60', '61', '62', '63', '64', '66', '67', '68', '69', '70', '71', '72', '73', '74', '75', '76', '77', '78', '79', '80', '81', '82', '83', '84', '85', '86', '87', '88', '89', '90', '92', '93', '94', '95', '97', '98', '99']\n",
      "Allocated arrays\n",
      "Created feature matrix\n",
      "Created ROI matrix\n",
      "Created feature label matrix\n",
      "['Left red nucleus' 'Left substantia nigra pars retic'\n",
      " 'Left subthalamic nucleus' 'Right red nucleus'\n",
      " 'Right substantia nigra pars reti' 'Right subthalamic nucleus']\n",
      "31\n",
      "69\n",
      "['Left substantia nigra pars retic' 'Left subthalamic nucleus'\n",
      " 'Right substantia nigra pars reti' 'Right subthalamic nucleus']\n"
     ]
    }
   ],
   "source": [
    "cv_names = {'CORNELL ID',\n",
    "            ' OFF (pre-dbs updrs)',\n",
    "            ' ON (pre-dbs updrs)',\n",
    "            ' OFF meds ON stim 6mo',\n",
    "            'Age',\n",
    "            'Sex',\n",
    "            'Ethnicity',\n",
    "            'Race',\n",
    "            'Disease Duration (year)',\n",
    "            'Physician',\n",
    "            ' pre op levadopa equivalent dose (mg)',\n",
    "            ' Location',\n",
    "            ' Target',\n",
    "            ' Test medication status'}\n",
    "\n",
    "\n",
    "# Load scores\n",
    "file_dir = '/home/ali/RadDBS-QSM/data/docs/dbs_03292024.csv'\n",
    "motor_df = util.filter_data(file_dir,cv_names,True)\n",
    "# Find cases with all required scores\n",
    "cv_dict = util.filter_cases(motor_df,cv_names)\n",
    "subs = cv_dict['CORNELL ID']\n",
    "# Load extracted features\n",
    "npy_dir = '/home/ali/RadDBS-QSM/data/npy/new/'\n",
    "phi_dir = '/home/ali/RadDBS-QSM/data/phi/new/phi/'\n",
    "roi_path = '/home/ali/RadDBS-QSM/data/xlxs/new_segs.csv'\n",
    "n_rois = 6\n",
    "all_rois = False\n",
    "Phi_all, X_all, R_all, K_all, ID_all = util.load_featstruct(phi_dir,npy_dir+'X/',npy_dir+'R/',npy_dir+'K/',n_rois,1595,all_rois)\n",
    "print(np.unique(R_all))\n",
    "ids = np.asarray(ID_all).astype(int)\n",
    "\n",
    "# Use cases from only 1 rater\n",
    "phys = cv_dict['Physician']\n",
    "# Find overlap between scored subjects and feature extraction cases\n",
    "c_cases = np.intersect1d(np.asarray(ids).astype(int),np.asarray(cv_dict['CORNELL ID'])[phys==1].astype(int))\n",
    "# Complete case indices with respect to feature matrix\n",
    "c_cases_idx = np.in1d(ids,c_cases)\n",
    "# Exclude GPi\n",
    "c_cases_idx[ids == 36] = 0\n",
    "# c_cases_idx[ids == 42] = 0\n",
    "# c_cases_idx[ids == 52] = 0\n",
    "c_cases_idx[ids == 53] = 0\n",
    "# c_cases_idx[ids == 98] = 0\n",
    "# c_cases_idx[ids == 108] = 0\n",
    "print(np.sum(c_cases_idx))\n",
    "s_cases_idx = np.in1d(subs,ids[c_cases_idx])\n",
    "print(len(s_cases_idx))\n",
    "        \n",
    "X_all_c = X_all[c_cases_idx,2:6,:]\n",
    "# X_all_c = (np.load('X2h.npy').T).reshape((61,6381))\n",
    "# print('Applying combat')\n",
    "K_all_c = K_all[c_cases_idx,2:6,:]\n",
    "R_all_c = R_all[c_cases_idx,2:6,:]\n",
    "# Re-index the scored subjects with respect to complete cases\n",
    "\n",
    "per_change = ((cv_dict[' OFF (pre-dbs updrs)']-cv_dict[' OFF meds ON stim 6mo'])/cv_dict[' OFF (pre-dbs updrs)'])[s_cases_idx]\n",
    "pre_imp = ((cv_dict[' OFF (pre-dbs updrs)']-cv_dict[' ON (pre-dbs updrs)'])/cv_dict[' OFF (pre-dbs updrs)'])[s_cases_idx]\n",
    "pre_updrs = cv_dict[' OFF (pre-dbs updrs)'][s_cases_idx]\n",
    "dd = cv_dict['Disease Duration (year)'][s_cases_idx]\n",
    "ledd = cv_dict[' pre op levadopa equivalent dose (mg)'][s_cases_idx]\n",
    "tmed = cv_dict[' Test medication status'][s_cases_idx]\n",
    "\n",
    "age = cv_dict['Age'][s_cases_idx]\n",
    "loc = cv_dict[' Location'][s_cases_idx]\n",
    "sex = cv_dict['Sex'][s_cases_idx]\n",
    "rce = cv_dict['Race'][s_cases_idx]\n",
    "eth = cv_dict['Ethnicity'][s_cases_idx]\n",
    "tgt = cv_dict[' Target'][s_cases_idx]\n",
    "subsc = subs[s_cases_idx]\n",
    "# Reshape keys and ROIs\n",
    "if all_rois == True:\n",
    "    K_all_cu = np.empty((K_all_c.shape[0],K_all_c.shape[1],K_all_c.shape[2]+1),dtype=object)\n",
    "    K_all_cu[:,:,:-1] = K_all_c\n",
    "    K_all_cu[:,:,-1] = 'pre_updrs'\n",
    "    K_all_cu[:,:,-1] = 'disease_duration'\n",
    "    K_all_cu[:,:,-1] = 'pre op levadopa equivalent dose (mg)'\n",
    "    K_all_cu[:,:,-1] = ' Test medication status'\n",
    "    K_all_cu[:,:,-1] = 'Physician'\n",
    "    K_all_cu[:,:,-1] = 'Age'\n",
    "    K_all_cu[:,:,-1] = 'Location'\n",
    "    K_all_cu[:,:,-1] = 'Sex'\n",
    "    K_all_cu[:,:,-1] = 'Race'\n",
    "    K_all_cu[:,:,-1] = 'Ethnicity'\n",
    "    \n",
    "    K = K_all_cu.reshape((K_all_cu.shape[0],K_all_cu.shape[1]*K_all_cu.shape[2]))[0]\n",
    "    R = R_all_c.reshape((R_all_c.shape[0],R_all_c.shape[1]*R_all_c.shape[2]))\n",
    "else:\n",
    "    K_all_c = K_all_c.reshape((K_all_c.shape[0],K_all_c.shape[1]*K_all_c.shape[2]))[0]\n",
    "    R_all_c = R_all_c.reshape((R_all_c.shape[0],R_all_c.shape[1]*R_all_c.shape[2]))\n",
    "\n",
    "print(np.unique(R_all_c))"
   ]
  },
  {
   "cell_type": "code",
   "execution_count": 3,
   "metadata": {},
   "outputs": [],
   "source": [
    "X0_gt0 = np.load('/home/ali/RadDBS-QSM/data/npy/old/X0_gt_chh_rois.npy')\n",
    "X0_gt0 = X0_gt0.reshape((37,6,1596))\n",
    "X0_gt0 = X0_gt0[:,0:4,:-1]\n",
    "pre_updrs_1 = np.asarray(['53', '32', '58', '62', '34', '57', '100', '43', '62', '64', '94',\n",
    "       '67', '26', '25', '71', '51', '49', '49', '31', '41', '35', '61',\n",
    "       '78', '51', '60', '79', '85', '43', '54', '61', '54', '93', '54',\n",
    "       '57', '49', '92', '54']).astype(float)\n",
    "X1 = X0_gt0.reshape(X0_gt0.shape[0],-1).T.astype(float)\n",
    "X2 = X_all_c.reshape(X_all_c.shape[0],-1).T.astype(float)\n",
    "X2 = np.append(X2,pre_updrs.reshape(1,-1),axis=0)\n",
    "X1 = np.append(X1,pre_updrs_1.reshape(1,-1),axis=0)"
   ]
  },
  {
   "cell_type": "code",
   "execution_count": 25,
   "metadata": {},
   "outputs": [
    {
     "name": "stdout",
     "output_type": "stream",
     "text": [
      "[neuroCombat] Creating design matrix\n",
      "[neuroCombat] Standardizing data across features\n"
     ]
    },
    {
     "name": "stdout",
     "output_type": "stream",
     "text": [
      "[neuroCombat] Fitting L/S model and finding priors\n",
      "[neuroCombat] Finding L/S adjustments without Empirical Bayes\n",
      "[neuroCombat] Final adjustment of data\n"
     ]
    }
   ],
   "source": [
    "data = np.hstack((X1,X2))\n",
    "# Specifying the batch (scanner variable) as well as a biological covariate to preserve:\n",
    "covars = {'batch':np.hstack((np.repeat(1,X1.shape[1]),np.repeat(2,X2.shape[1]))).tolist()}\n",
    "        #   'gender':[1,2,1,2,1,2,1,2,1,2]} \n",
    "covars = pd.DataFrame(covars)  \n",
    "\n",
    "# To specify the name of the variable that encodes for the scanner/batch covariate:\n",
    "batch_col = 'batch'\n",
    "\n",
    "#Harmonization step:\n",
    "data_combat = neuroCombat(dat=data,\n",
    "    covars=covars,\n",
    "    ref_batch=1,\n",
    "    parametric=True,\n",
    "    eb=False,\n",
    "    batch_col=batch_col)[\"data\"]"
   ]
  },
  {
   "cell_type": "code",
   "execution_count": 26,
   "metadata": {},
   "outputs": [
    {
     "data": {
      "text/plain": [
       "(6381, 68)"
      ]
     },
     "execution_count": 26,
     "metadata": {},
     "output_type": "execute_result"
    }
   ],
   "source": [
    "data_combat.shape"
   ]
  },
  {
   "cell_type": "code",
   "execution_count": 34,
   "metadata": {},
   "outputs": [
    {
     "data": {
      "text/plain": [
       "1.7872353775050357e+19"
      ]
     },
     "execution_count": 34,
     "metadata": {},
     "output_type": "execute_result"
    }
   ],
   "source": [
    "np.mean((X2-X2h)**2)"
   ]
  },
  {
   "cell_type": "code",
   "execution_count": 33,
   "metadata": {},
   "outputs": [
    {
     "data": {
      "text/plain": [
       "(6381, 31)"
      ]
     },
     "execution_count": 33,
     "metadata": {},
     "output_type": "execute_result"
    }
   ],
   "source": [
    "X2h = data_combat[:,37:]\n",
    "X2h.shape"
   ]
  },
  {
   "cell_type": "code",
   "execution_count": 28,
   "metadata": {},
   "outputs": [],
   "source": [
    "np.save('X2h_sr.npy',X2h)"
   ]
  },
  {
   "cell_type": "code",
   "execution_count": 29,
   "metadata": {},
   "outputs": [
    {
     "data": {
      "text/plain": [
       "Text(0.5, 0, 'Feature value')"
      ]
     },
     "execution_count": 29,
     "metadata": {},
     "output_type": "execute_result"
    },
    {
     "data": {
      "image/png": "[encoded data removed]",
      "text/plain": [
       "<Figure size 720x720 with 3 Axes>"
      ]
     },
     "metadata": {},
     "output_type": "display_data"
    }
   ],
   "source": [
    "plt.style.use('dark_background')\n",
    "fig,ax = plt.subplots(nrows=3, ncols=1, sharex=True, sharey=True, figsize=(10,10))\n",
    "v = 10\n",
    "ax[0].set_title('ComBat Harmonization',fontsize=16)\n",
    "ax[0].hist(data[v,:],label='Original')\n",
    "ax[0].hist(data_combat[v,:],color='orange',label='Harmonized')\n",
    "ax[0].set_ylabel('Combined distribution',fontsize=16)\n",
    "ax[0].legend(bbox_to_anchor=(1, 1),loc='upper right')\n",
    "ax[1].hist(data[v,:37],color='pink',label='Original')\n",
    "ax[1].hist(data_combat[v,:37],color='purple',label='Harmonized')\n",
    "ax[1].legend(bbox_to_anchor=(1, 1),loc='upper right')\n",
    "ax[1].set_ylabel('CHH distribution',fontsize=16)\n",
    "ax[2].hist(data[v,37:],color='red',label='Original')\n",
    "ax[2].hist(data_combat[v,37:],color='green',label='Harmonized')\n",
    "ax[2].legend(bbox_to_anchor=(1, 1),loc='upper right')\n",
    "ax[2].set_ylabel('MSW distribution',fontsize=16)\n",
    "ax[2].set_xlabel('Feature value',fontsize=16)\n",
    "\n"
   ]
  }
 ],
 "metadata": {
  "kernelspec": {
   "display_name": "pdradenv",
   "language": "python",
   "name": "python3"
  },
  "language_info": {
   "codemirror_mode": {
    "name": "ipython",
    "version": 3
   },
   "file_extension": ".py",
   "mimetype": "text/x-python",
   "name": "python",
   "nbconvert_exporter": "python",
   "pygments_lexer": "ipython3",
   "version": "3.7.16"
  }
 },
 "nbformat": 4,
 "nbformat_minor": 2
}
