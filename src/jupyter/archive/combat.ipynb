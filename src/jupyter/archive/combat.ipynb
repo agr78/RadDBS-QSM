{
 "cells": [
  {
   "cell_type": "code",
   "execution_count": 1,
   "metadata": {},
   "outputs": [
    {
     "name": "stderr",
     "output_type": "stream",
     "text": [
      "Intel(R) Extension for Scikit-learn* enabled (https://github.com/intel/scikit-learn-intelex)\n"
     ]
    }
   ],
   "source": [
    "# Import libraries\n",
    "from scipy.cluster.hierarchy import dendrogram, linkage\n",
    "import matplotlib.pyplot as plt\n",
    "from mpl_toolkits.axes_grid1 import make_axes_locatable\n",
    "import nibabel as nib\n",
    "from sklearn.svm import SVR\n",
    "from sklearn.linear_model import LassoCV\n",
    "from sklearn.linear_model import Lasso\n",
    "from sklearn.linear_model import RidgeCV\n",
    "from sklearn.linear_model import ElasticNetCV\n",
    "from sklearn.preprocessing import StandardScaler\n",
    "from sklearn.pipeline import Pipeline\n",
    "from sklearn.model_selection import GridSearchCV\n",
    "from sklearn.model_selection import KFold\n",
    "from sklearn.feature_selection import SelectFromModel\n",
    "from sklearn.metrics import r2_score\n",
    "import SimpleITK as sitk\n",
    "import six\n",
    "from radiomics import featureextractor \n",
    "import numpy as np\n",
    "import os\n",
    "import pickle\n",
    "import pandas as pd\n",
    "import logging\n",
    "from scipy.stats import linregress\n",
    "from sklearn.linear_model import QuantileRegressor\n",
    "from sklearn.feature_selection import SelectKBest\n",
    "from sklearn.feature_selection import r_regression\n",
    "from sklearn.linear_model import ElasticNet\n",
    "from sklearn.linear_model import RANSACRegressor\n",
    "import os\n",
    "import sys\n",
    "sys.path.append('../')\n",
    "import matplotlib.pyplot as plt\n",
    "from pylab import rcParams\n",
    "import pandas as pd\n",
    "import warnings\n",
    "from sklearnex import patch_sklearn, config_context\n",
    "from sklearn.cluster import DBSCAN\n",
    "from sklearn.exceptions import ConvergenceWarning\n",
    "from sklearn import preprocessing as skp\n",
    "from sklearn import model_selection as sms\n",
    "from sklearn import feature_selection as skf\n",
    "from sklearn import linear_model as slm\n",
    "import numpy as np\n",
    "import scipy.stats as stats\n",
    "from IPython.display import HTML\n",
    "import util as util\n",
    "import nibabel as nib\n",
    "import os\n",
    "import pickle\n",
    "from torch import nn\n",
    "import gc\n",
    "from neuroCombat import neuroCombat\n",
    "patch_sklearn()"
   ]
  },
  {
   "cell_type": "code",
   "execution_count": 2,
   "metadata": {},
   "outputs": [
    {
     "name": "stdout",
     "output_type": "stream",
     "text": [
      "Keeping CORNELL ID\n",
      "Keeping Age\n",
      "Keeping Sex\n",
      "Keeping Ethnicity\n",
      "Keeping Race\n",
      "Keeping Disease Duration (year)\n",
      "Keeping Physician\n",
      "Keeping  OFF (pre-dbs updrs)\n",
      "Keeping  ON (pre-dbs updrs)\n",
      "Keeping  pre op levadopa equivalent dose (mg)\n",
      "Keeping  Location\n",
      "Keeping  Target\n",
      "Keeping  Test medication status\n",
      "Keeping  OFF meds ON stim 6mo\n",
      "{'Disease Duration (year)', ' Location', ' OFF meds ON stim 6mo', 'Sex', ' OFF (pre-dbs updrs)', ' pre op levadopa equivalent dose (mg)', 'Ethnicity', ' ON (pre-dbs updrs)', 'CORNELL ID', 'Age', 'Race', ' Target', ' Test medication status', 'Physician'}\n",
      "['X_115_01.npy', 'X_115_02.npy', 'X_115_03.npy', 'X_115_04.npy', 'X_115_05.npy', 'X_115_06.npy', 'X_115_07.npy', 'X_115_08.npy', 'X_115_09.npy', 'X_115_10.npy', 'X_115_100.npy', 'X_115_101.npy', 'X_115_102.npy', 'X_115_104.npy', 'X_115_105.npy', 'X_115_106.npy', 'X_115_107.npy', 'X_115_108.npy', 'X_115_109.npy', 'X_115_11.npy', 'X_115_110.npy', 'X_115_111.npy', 'X_115_112.npy', 'X_115_113.npy', 'X_115_114.npy', 'X_115_115.npy', 'X_115_116.npy', 'X_115_12.npy', 'X_115_13.npy', 'X_115_14.npy', 'X_115_15.npy', 'X_115_16.npy', 'X_115_17.npy', 'X_115_18.npy', 'X_115_19.npy', 'X_115_20.npy', 'X_115_22.npy', 'X_115_23.npy', 'X_115_24.npy', 'X_115_25.npy', 'X_115_26.npy', 'X_115_27.npy', 'X_115_29.npy', 'X_115_30.npy', 'X_115_31.npy', 'X_115_32.npy', 'X_115_33.npy', 'X_115_34.npy', 'X_115_36.npy', 'X_115_37.npy', 'X_115_39.npy', 'X_115_40.npy', 'X_115_41.npy', 'X_115_42.npy', 'X_115_44.npy', 'X_115_45.npy', 'X_115_46.npy', 'X_115_48.npy', 'X_115_49.npy', 'X_115_50.npy', 'X_115_51.npy', 'X_115_52.npy', 'X_115_53.npy', 'X_115_55.npy', 'X_115_56.npy', 'X_115_57.npy', 'X_115_58.npy', 'X_115_59.npy', 'X_115_60.npy', 'X_115_61.npy', 'X_115_62.npy', 'X_115_63.npy', 'X_115_64.npy', 'X_115_66.npy', 'X_115_67.npy', 'X_115_68.npy', 'X_115_69.npy', 'X_115_70.npy', 'X_115_71.npy', 'X_115_72.npy', 'X_115_73.npy', 'X_115_74.npy', 'X_115_75.npy', 'X_115_76.npy', 'X_115_77.npy', 'X_115_78.npy', 'X_115_79.npy', 'X_115_80.npy', 'X_115_81.npy', 'X_115_82.npy', 'X_115_83.npy', 'X_115_84.npy', 'X_115_85.npy', 'X_115_86.npy', 'X_115_87.npy', 'X_115_88.npy', 'X_115_89.npy', 'X_115_90.npy', 'X_115_92.npy', 'X_115_93.npy', 'X_115_94.npy', 'X_115_95.npy', 'X_115_97.npy', 'X_115_98.npy', 'X_115_99.npy']\n",
      "Allocated arrays\n",
      "Created feature matrix\n",
      "Created ROI matrix\n",
      "Created feature label matrix\n",
      "['0.0' 'Left red nucleus' 'Left substantia nigra'\n",
      " 'Left subthalamic nucleus' 'Right Substantia nigra' 'Right red nucleus'\n",
      " 'Right subthalamic nucleus']\n",
      "30\n",
      "69\n",
      "['0.0' 'Left substantia nigra' 'Left subthalamic nucleus'\n",
      " 'Right Substantia nigra' 'Right subthalamic nucleus']\n"
     ]
    }
   ],
   "source": [
    "cv_names = {'CORNELL ID',\n",
    "            ' OFF (pre-dbs updrs)',\n",
    "            ' ON (pre-dbs updrs)',\n",
    "            ' OFF meds ON stim 6mo',\n",
    "            'Age',\n",
    "            'Sex',\n",
    "            'Ethnicity',\n",
    "            'Race',\n",
    "            'Disease Duration (year)',\n",
    "            'Physician',\n",
    "            ' pre op levadopa equivalent dose (mg)',\n",
    "            ' Location',\n",
    "            ' Target',\n",
    "            ' Test medication status'}\n",
    "\n",
    "\n",
    "# Load scores\n",
    "file_dir = '/home/ali/RadDBS-QSM/data/docs/dbs_03292024.csv'\n",
    "motor_df = util.filter_data(file_dir,cv_names,True)\n",
    "# Find cases with all required scores\n",
    "cv_dict = util.filter_cases(motor_df,cv_names)\n",
    "subs = cv_dict['CORNELL ID']\n",
    "# Load extracted features\n",
    "npy_dir = '/home/ali/RadDBS-QSM/data/npy/new/'\n",
    "phi_dir = '/home/ali/RadDBS-QSM/data/phi/new/phi/'\n",
    "roi_path = '/home/ali/RadDBS-QSM/data/xlxs/new_segs.csv'\n",
    "n_rois = 6\n",
    "all_rois = False\n",
    "Phi_all, X_all, R_all, K_all, ID_all = util.load_featstruct(phi_dir,npy_dir+'X/',npy_dir+'R/',npy_dir+'K/',n_rois,1595,all_rois)\n",
    "print(np.unique(R_all))\n",
    "ids = np.asarray(ID_all).astype(int)\n",
    "\n",
    "# Use cases from only 1 rater\n",
    "phys = cv_dict['Physician']\n",
    "# Find overlap between scored subjects and feature extraction cases\n",
    "c_cases = np.intersect1d(np.asarray(ids).astype(int),np.asarray(cv_dict['CORNELL ID'])[phys==1].astype(int))\n",
    "# Complete case indices with respect to feature matrix\n",
    "c_cases_idx = np.in1d(ids,c_cases)\n",
    "# Exclude GPi\n",
    "c_cases_idx[ids == 9] = 0\n",
    "c_cases_idx[ids == 36] = 0\n",
    "# c_cases_idx[ids == 42] = 0\n",
    "# c_cases_idx[ids == 52] = 0\n",
    "c_cases_idx[ids == 53] = 0\n",
    "# c_cases_idx[ids == 98] = 0\n",
    "# c_cases_idx[ids == 108] = 0\n",
    "print(np.sum(c_cases_idx))\n",
    "s_cases_idx = np.in1d(subs,ids[c_cases_idx])\n",
    "print(len(s_cases_idx))\n",
    "        \n",
    "X_all_c = X_all[c_cases_idx,2:6,:]\n",
    "# X_all_c = (np.load('X2h.npy').T).reshape((61,6381))\n",
    "# print('Applying combat')\n",
    "K_all_c = K_all[c_cases_idx,2:6,:]\n",
    "R_all_c = R_all[c_cases_idx,2:6,:]\n",
    "# Re-index the scored subjects with respect to complete cases\n",
    "\n",
    "per_change = ((cv_dict[' OFF (pre-dbs updrs)']-cv_dict[' OFF meds ON stim 6mo'])/cv_dict[' OFF (pre-dbs updrs)'])[s_cases_idx]\n",
    "pre_imp = ((cv_dict[' OFF (pre-dbs updrs)']-cv_dict[' ON (pre-dbs updrs)'])/cv_dict[' OFF (pre-dbs updrs)'])[s_cases_idx]\n",
    "pre_updrs = cv_dict[' OFF (pre-dbs updrs)'][s_cases_idx]\n",
    "dd = cv_dict['Disease Duration (year)'][s_cases_idx]\n",
    "ledd = cv_dict[' pre op levadopa equivalent dose (mg)'][s_cases_idx]\n",
    "tmed = cv_dict[' Test medication status'][s_cases_idx]\n",
    "\n",
    "age = cv_dict['Age'][s_cases_idx]\n",
    "loc = cv_dict[' Location'][s_cases_idx]\n",
    "sex = cv_dict['Sex'][s_cases_idx]\n",
    "rce = cv_dict['Race'][s_cases_idx]\n",
    "eth = cv_dict['Ethnicity'][s_cases_idx]\n",
    "tgt = cv_dict[' Target'][s_cases_idx]\n",
    "subsc = subs[s_cases_idx]\n",
    "# Reshape keys and ROIs\n",
    "if all_rois == True:\n",
    "    K_all_cu = np.empty((K_all_c.shape[0],K_all_c.shape[1],K_all_c.shape[2]+1),dtype=object)\n",
    "    K_all_cu[:,:,:-1] = K_all_c\n",
    "    K_all_cu[:,:,-1] = 'pre_updrs'\n",
    "    K_all_cu[:,:,-1] = 'disease_duration'\n",
    "    K_all_cu[:,:,-1] = 'pre op levadopa equivalent dose (mg)'\n",
    "    K_all_cu[:,:,-1] = ' Test medication status'\n",
    "    K_all_cu[:,:,-1] = 'Physician'\n",
    "    K_all_cu[:,:,-1] = 'Age'\n",
    "    K_all_cu[:,:,-1] = 'Location'\n",
    "    K_all_cu[:,:,-1] = 'Sex'\n",
    "    K_all_cu[:,:,-1] = 'Race'\n",
    "    K_all_cu[:,:,-1] = 'Ethnicity'\n",
    "    \n",
    "    K = K_all_cu.reshape((K_all_cu.shape[0],K_all_cu.shape[1]*K_all_cu.shape[2]))[0]\n",
    "    R = R_all_c.reshape((R_all_c.shape[0],R_all_c.shape[1]*R_all_c.shape[2]))\n",
    "else:\n",
    "    K_all_c = K_all_c.reshape((K_all_c.shape[0],K_all_c.shape[1]*K_all_c.shape[2]))[0]\n",
    "    R_all_c = R_all_c.reshape((R_all_c.shape[0],R_all_c.shape[1]*R_all_c.shape[2]))\n",
    "\n",
    "print(np.unique(R_all_c))"
   ]
  },
  {
   "cell_type": "code",
   "execution_count": 3,
   "metadata": {},
   "outputs": [
    {
     "name": "stdout",
     "output_type": "stream",
     "text": [
      "['Background' 'Right substantia nigra' 'Right subthalamic nucleus'\n",
      " 'Left subthalamic nucleus' 'Left substantia nigra'\n",
      " 'Right dentate nucleus' 'Left dentate nucleus']\n"
     ]
    }
   ],
   "source": [
    "R_gt0 = np.load('/home/ali/RadDBS-QSM/data/npy/old/R_chh.npy')\n",
    "print(R_gt0)"
   ]
  },
  {
   "cell_type": "code",
   "execution_count": 4,
   "metadata": {},
   "outputs": [
    {
     "data": {
      "text/plain": [
       "array([['Left substantia nigra', 'Left substantia nigra',\n",
       "        'Left substantia nigra', ..., 'Right subthalamic nucleus',\n",
       "        'Right subthalamic nucleus', 'Right subthalamic nucleus'],\n",
       "       ['Left substantia nigra', 'Left substantia nigra',\n",
       "        'Left substantia nigra', ..., 'Right subthalamic nucleus',\n",
       "        'Right subthalamic nucleus', 'Right subthalamic nucleus'],\n",
       "       ['Left substantia nigra', 'Left substantia nigra',\n",
       "        'Left substantia nigra', ..., 'Right subthalamic nucleus',\n",
       "        'Right subthalamic nucleus', 'Right subthalamic nucleus'],\n",
       "       ...,\n",
       "       ['0.0', '0.0', '0.0', ..., '0.0', '0.0', '0.0'],\n",
       "       ['0.0', '0.0', '0.0', ..., '0.0', '0.0', '0.0'],\n",
       "       ['0.0', '0.0', '0.0', ..., '0.0', '0.0', '0.0']], dtype='<U32')"
      ]
     },
     "execution_count": 4,
     "metadata": {},
     "output_type": "execute_result"
    }
   ],
   "source": [
    "R_all_c"
   ]
  },
  {
   "cell_type": "code",
   "execution_count": 5,
   "metadata": {},
   "outputs": [
    {
     "data": {
      "text/plain": [
       "array(['Left substantia nigra', 'Left subthalamic nucleus',\n",
       "       'Right Substantia nigra', 'Right subthalamic nucleus'],\n",
       "      dtype='<U32')"
      ]
     },
     "execution_count": 5,
     "metadata": {},
     "output_type": "execute_result"
    }
   ],
   "source": [
    "np.unique(R_all_c[0])"
   ]
  },
  {
   "cell_type": "code",
   "execution_count": 6,
   "metadata": {},
   "outputs": [],
   "source": [
    "# X0_gt0 = np.load('/home/ali/RadDBS-QSM/data/npy/old/X0_gt_chh_rois.npy')\n",
    "# X0_gt0 = X0_gt0.reshape((37,6,1596))\n",
    "# X0_gt0 = X0_gt0[:,0:4,:-1]\n",
    "# pre_updrs_1 = np.asarray(['53', '32', '58', '62', '34', '57', '100', '43', '62', '64', '94',\n",
    "#        '67', '26', '25', '71', '51', '49', '49', '31', '41', '35', '61',\n",
    "#        '78', '51', '60', '79', '85', '43', '54', '61', '54', '93', '54',\n",
    "#        '57', '49', '92', '54']).astype(float)\n",
    "# X1 = X0_gt0.reshape(X0_gt0.shape[0],-1).T.astype(float)\n",
    "# X2 = X_all_c.reshape(X_all_c.shape[0],-1).T.astype(float)\n",
    "# # X2 = np.append(X2,pre_updrs.reshape(1,-1),axis=0)\n",
    "# # X1 = np.append(X1,pre_updrs_1.reshape(1,-1),axis=0)"
   ]
  },
  {
   "cell_type": "code",
   "execution_count": 7,
   "metadata": {},
   "outputs": [
    {
     "data": {
      "text/plain": [
       "(105, 6, 1595)"
      ]
     },
     "execution_count": 7,
     "metadata": {},
     "output_type": "execute_result"
    }
   ],
   "source": [
    "R_all.shape"
   ]
  },
  {
   "cell_type": "code",
   "execution_count": 8,
   "metadata": {},
   "outputs": [],
   "source": [
    "X0_gt0 = np.load('/home/ali/RadDBS-QSM/data/npy/old/X0_gt_chh_rois.npy')\n",
    "X0_gt0 = X0_gt0.reshape((37,6,1596))\n",
    "X0_gt0 = X0_gt0[:,0:4,:-1]\n",
    "pre_updrs_1 = np.asarray(['53', '32', '58', '62', '34', '57', '100', '43', '62', '64', '94',\n",
    "       '67', '26', '25', '71', '51', '49', '49', '31', '41', '35', '61',\n",
    "       '78', '51', '60', '79', '85', '43', '54', '61', '54', '93', '54',\n",
    "       '57', '49', '92', '54']).astype(float)\n",
    "X1 = X0_gt0.reshape(X0_gt0.shape[0],-1).T.astype(float)\n",
    "X0_gt = np.zeros_like(X_all_c)\n",
    "X0_gt[:,0,:] = X_all_c[:,2,:]\n",
    "X0_gt[:,1,:] = X_all_c[:,3,:]\n",
    "X0_gt[:,2,:] = X_all_c[:,1,:]\n",
    "X0_gt[:,3,:] = X_all_c[:,0,:]\n",
    "X2 = X_all_c.reshape(X0_gt.shape[0],-1).T.astype(float)\n",
    "# X2 = np.append(X2,pre_updrs.reshape(1,-1),axis=0)\n",
    "# X1 = np.append(X1,pre_updrs_1.reshape(1,-1),axis=0)"
   ]
  },
  {
   "cell_type": "code",
   "execution_count": 9,
   "metadata": {},
   "outputs": [
    {
     "name": "stdout",
     "output_type": "stream",
     "text": [
      "[neuroCombat] Creating design matrix\n",
      "[neuroCombat] Standardizing data across features\n",
      "[neuroCombat] Fitting L/S model and finding priors\n",
      "[neuroCombat] Finding L/S adjustments without Empirical Bayes\n",
      "[neuroCombat] Final adjustment of data\n"
     ]
    }
   ],
   "source": [
    "data = np.hstack((X1,X2))\n",
    "# Specifying the batch (scanner variable) as well as a biological covariate to preserve:\n",
    "covars = {'batch':np.hstack((np.repeat(1,X1.shape[1]),np.repeat(2,X2.shape[1]))).tolist()}\n",
    "        #   'gender':[1,2,1,2,1,2,1,2,1,2]} \n",
    "covars = pd.DataFrame(covars)  \n",
    "\n",
    "# To specify the name of the variable that encodes for the scanner/batch covariate:\n",
    "batch_col = 'batch'\n",
    "\n",
    "#Harmonization step:\n",
    "data_combat = neuroCombat(dat=data,\n",
    "    covars=covars,\n",
    "    ref_batch=None,\n",
    "    parametric=False,\n",
    "    eb=False,\n",
    "    batch_col=batch_col)[\"data\"]"
   ]
  },
  {
   "cell_type": "code",
   "execution_count": 10,
   "metadata": {},
   "outputs": [
    {
     "name": "stdout",
     "output_type": "stream",
     "text": [
      "(6380, 30)\n"
     ]
    },
    {
     "data": {
      "text/plain": [
       "5.906842552710253e+18"
      ]
     },
     "execution_count": 10,
     "metadata": {},
     "output_type": "execute_result"
    }
   ],
   "source": [
    "X2h = data_combat[:,37:]\n",
    "print(X2h.shape)\n",
    "np.mean((X2-X2h)**2)"
   ]
  },
  {
   "cell_type": "code",
   "execution_count": 11,
   "metadata": {},
   "outputs": [],
   "source": [
    "np.save('/home/ali/RadDBS-QSM/src/jupyter/archive/npy/X2h_sr.npy',X2h)"
   ]
  },
  {
   "cell_type": "code",
   "execution_count": 12,
   "metadata": {},
   "outputs": [
    {
     "data": {
      "text/plain": [
       "Text(0.5, 0, 'Feature value')"
      ]
     },
     "execution_count": 12,
     "metadata": {},
     "output_type": "execute_result"
    },
    {
     "data": {
      "image/png": "[encoded data removed]",
      "text/plain": [
       "<Figure size 720x720 with 3 Axes>"
      ]
     },
     "metadata": {},
     "output_type": "display_data"
    }
   ],
   "source": [
    "plt.style.use('dark_background')\n",
    "fig,ax = plt.subplots(nrows=3, ncols=1, sharex=True, sharey=True, figsize=(10,10))\n",
    "v = 10\n",
    "ax[0].set_title('ComBat Harmonization',fontsize=16)\n",
    "ax[0].hist(data[v,:],label='Original')\n",
    "ax[0].hist(data_combat[v,:],color='orange',label='Harmonized')\n",
    "ax[0].set_ylabel('Combined distribution',fontsize=16)\n",
    "ax[0].legend(bbox_to_anchor=(1, 1),loc='upper right')\n",
    "ax[1].hist(data[v,:37],color='pink',label='Original')\n",
    "ax[1].hist(data_combat[v,:37],color='purple',label='Harmonized')\n",
    "ax[1].legend(bbox_to_anchor=(1, 1),loc='upper right')\n",
    "ax[1].set_ylabel('CHH distribution',fontsize=16)\n",
    "ax[2].hist(data[v,31:],color='red',label='Original')\n",
    "ax[2].hist(data_combat[v,31:],color='green',label='Harmonized')\n",
    "ax[2].legend(bbox_to_anchor=(1, 1),loc='upper right')\n",
    "ax[2].set_ylabel('MSW distribution',fontsize=16)\n",
    "ax[2].set_xlabel('Feature value',fontsize=16)\n",
    "\n"
   ]
  }
 ],
 "metadata": {
  "kernelspec": {
   "display_name": "pdradenv",
   "language": "python",
   "name": "python3"
  },
  "language_info": {
   "codemirror_mode": {
    "name": "ipython",
    "version": 3
   },
   "file_extension": ".py",
   "mimetype": "text/x-python",
   "name": "python",
   "nbconvert_exporter": "python",
   "pygments_lexer": "ipython3",
   "version": "3.7.16"
  }
 },
 "nbformat": 4,
 "nbformat_minor": 2
}
