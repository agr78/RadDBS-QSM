{
 "cells": [
  {
   "cell_type": "code",
   "execution_count": 1,
   "metadata": {},
   "outputs": [
    {
     "name": "stderr",
     "output_type": "stream",
     "text": [
      "Intel(R) Extension for Scikit-learn* enabled (https://github.com/intel/scikit-learn-intelex)\n",
      "Intel(R) Extension for Scikit-learn* enabled (https://github.com/intel/scikit-learn-intelex)\n"
     ]
    }
   ],
   "source": [
    "# Import libraries\n",
    "import warnings\n",
    "warnings.filterwarnings(\"ignore\")\n",
    "from scipy.cluster.hierarchy import dendrogram, linkage\n",
    "import matplotlib.pyplot as plt\n",
    "from mpl_toolkits.axes_grid1 import make_axes_locatable\n",
    "import nibabel as nib\n",
    "from sklearn.svm import SVR\n",
    "from sklearn.linear_model import LassoCV\n",
    "from sklearn.linear_model import Lasso\n",
    "from sklearn.linear_model import RidgeCV\n",
    "from sklearn.linear_model import ElasticNetCV\n",
    "from sklearn.preprocessing import StandardScaler\n",
    "from sklearn.pipeline import Pipeline\n",
    "from sklearn.model_selection import GridSearchCV\n",
    "from sklearn.model_selection import KFold\n",
    "from sklearn.feature_selection import SelectFromModel\n",
    "from sklearn.metrics import r2_score, roc_curve, auc\n",
    "import SimpleITK as sitk\n",
    "import six\n",
    "from radiomics import featureextractor \n",
    "import numpy as np\n",
    "import os\n",
    "import pickle\n",
    "import pandas as pd\n",
    "import logging\n",
    "from scipy.stats import linregress\n",
    "from sklearn.linear_model import QuantileRegressor\n",
    "from sklearn.feature_selection import SelectKBest\n",
    "from sklearn.feature_selection import r_regression\n",
    "from sklearn.linear_model import ElasticNet\n",
    "from sklearn.linear_model import RANSACRegressor\n",
    "import os\n",
    "import sys\n",
    "sys.path.append('../')\n",
    "import matplotlib.pyplot as plt\n",
    "from pylab import rcParams\n",
    "import pandas as pd\n",
    "import warnings\n",
    "from sklearnex import patch_sklearn, config_context\n",
    "from sklearn.cluster import DBSCAN\n",
    "from sklearn.exceptions import ConvergenceWarning\n",
    "from sklearn import preprocessing as skp\n",
    "from sklearn import model_selection as sms\n",
    "from sklearn import feature_selection as skf\n",
    "from sklearn import linear_model as slm\n",
    "import numpy as np\n",
    "import scipy.stats as stats\n",
    "from IPython.display import HTML\n",
    "import util as util\n",
    "from util import latex_sci, confidence_interval\n",
    "from train import train_estimator\n",
    "import nibabel as nib\n",
    "import os\n",
    "import pickle\n",
    "from torch import nn\n",
    "patch_sklearn()"
   ]
  },
  {
   "cell_type": "code",
   "execution_count": 2,
   "metadata": {},
   "outputs": [],
   "source": [
    "plt.style.use('dark_background')\n",
    "plt.rcParams[\"figure.figsize\"] = (15,5)\n",
    "def remove_keymap_conflicts(new_keys_set):\n",
    "    for prop in plt.rcParams:\n",
    "        if prop.startswith('keymap.'):\n",
    "            keys = plt.rcParams[prop]\n",
    "            remove_list = set(keys) & new_keys_set\n",
    "            for key in remove_list:\n",
    "                keys.remove(key)\n",
    "\n",
    "def multi_slice_viewer(volume):\n",
    "    remove_keymap_conflicts({'j', 'k'})\n",
    "    fig, ax = plt.subplots()\n",
    "    ax.volume = volume\n",
    "    ax.index = volume.shape[0]//2\n",
    "    ax.imshow(volume[ax.index])\n",
    "    fig.canvas.mpl_connect('key_press_event', process_key)\n",
    "\n",
    "def process_key(event):\n",
    "    fig = event.canvas.figure\n",
    "    ax = fig.axes[0]\n",
    "    if event.key == 'j':\n",
    "        previous_slice(ax)\n",
    "    elif event.key == 'k':\n",
    "        next_slice(ax)\n",
    "    fig.canvas.draw()\n",
    "    \n",
    "\n",
    "def previous_slice(ax):\n",
    "    volume = ax.volume\n",
    "    ax.index = (ax.index-1) % volume.shape[0] \n",
    "    ax.images[0].set_array(volume[ax.index])\n",
    "\n",
    "def next_slice(ax):\n",
    "    volume = ax.volume\n",
    "    ax.index = (ax.index+1) % volume.shape[0]\n",
    "    ax.images[0].set_array(volume[ax.index])"
   ]
  },
  {
   "cell_type": "code",
   "execution_count": 3,
   "metadata": {},
   "outputs": [
    {
     "name": "stdout",
     "output_type": "stream",
     "text": [
      "Appending arrays with segmentation 01_roi_combined.nii QSM, 00001_qsm.nii.gz LARO, QSM_lrr_01.nii and mask mask01.nii\n",
      "Appending arrays with segmentation 02_roi_combined.nii QSM, 00002_qsm.nii.gz LARO, QSM_lrr_02.nii and mask mask02.nii\n",
      "Appending arrays with segmentation 03_roi_combined.nii QSM, 00003_qsm.nii.gz LARO, QSM_lrr_03.nii and mask mask03.nii\n",
      "Appending arrays with segmentation 04_roi_combined.nii QSM, 00004_qsm.nii.gz LARO, QSM_lrr_04.nii and mask mask04.nii\n",
      "Appending arrays with segmentation 05_roi_combined.nii QSM, 00005_qsm.nii.gz LARO, QSM_lrr_05.nii and mask mask05.nii\n",
      "Appending arrays with segmentation 06_roi_combined.nii QSM, 00006_qsm.nii.gz LARO, QSM_lrr_06.nii and mask mask06.nii\n",
      "Appending arrays with segmentation 07_roi_combined.nii QSM, 00007_qsm.nii.gz LARO, QSM_lrr_07.nii and mask mask07.nii\n",
      "Appending arrays with segmentation 08_roi_combined.nii QSM, 00008_qsm.nii.gz LARO, QSM_lrr_08.nii and mask mask08.nii\n",
      "Appending arrays with segmentation 09_roi_combined.nii QSM, 00009_qsm.nii.gz LARO, QSM_lrr_09.nii and mask mask09.nii\n",
      "Appending arrays with segmentation 10_roi_combined.nii QSM, 00010_qsm.nii.gz LARO, QSM_lrr_10.nii and mask mask10.nii\n",
      "Appending arrays with segmentation 11_roi_combined.nii QSM, 00011_qsm.nii.gz LARO, QSM_lrr_11.nii and mask mask11.nii\n",
      "Appending arrays with segmentation 13_roi_combined.nii QSM, 00013_qsm.nii.gz LARO, QSM_lrr_13.nii and mask mask13.nii\n",
      "Appending arrays with segmentation 14_roi_combined.nii QSM, 00014_qsm.nii.gz LARO, QSM_lrr_14.nii and mask mask14.nii\n",
      "Appending arrays with segmentation 16_roi_combined.nii QSM, 00016_qsm.nii.gz LARO, QSM_lrr_16.nii and mask mask16.nii\n",
      "Appending arrays with segmentation 18_roi_combined.nii QSM, 00018_qsm.nii.gz LARO, QSM_lrr_18.nii and mask mask18.nii\n",
      "Appending arrays with segmentation 19_roi_combined.nii QSM, 00019_qsm.nii.gz LARO, QSM_lrr_19.nii and mask mask19.nii\n",
      "Appending arrays with segmentation 20_roi_combined.nii QSM, 00020_qsm.nii.gz LARO, QSM_lrr_20.nii and mask mask20.nii\n",
      "Appending arrays with segmentation 21_roi_combined.nii QSM, 00021_qsm.nii.gz LARO, QSM_lrr_21.nii and mask mask21.nii\n",
      "Appending arrays with segmentation 22_roi_combined.nii QSM, 00022_qsm.nii.gz LARO, QSM_lrr_22.nii and mask mask22.nii\n",
      "Appending arrays with segmentation 23_roi_combined.nii QSM, 00023_qsm.nii.gz LARO, QSM_lrr_23.nii and mask mask23.nii\n",
      "Appending arrays with segmentation 24_roi_combined.nii QSM, 00024_qsm.nii.gz LARO, QSM_lrr_24.nii and mask mask24.nii\n",
      "Appending arrays with segmentation 25_roi_combined.nii QSM, 00025_qsm.nii.gz LARO, QSM_lrr_25.nii and mask mask25.nii\n",
      "Appending arrays with segmentation 26_roi_combined.nii QSM, 00026_qsm.nii.gz LARO, QSM_lrr_26.nii and mask mask26.nii\n",
      "Appending arrays with segmentation 27_roi_combined.nii QSM, 00027_qsm.nii.gz LARO, QSM_lrr_27.nii and mask mask27.nii\n",
      "Appending arrays with segmentation 28_roi_combined.nii QSM, 00028_qsm.nii.gz LARO, QSM_lrr_28.nii and mask mask28.nii\n",
      "Appending arrays with segmentation 29_roi_combined.nii QSM, 00029_qsm.nii.gz LARO, QSM_lrr_29.nii and mask mask29.nii\n",
      "Appending arrays with segmentation 30_roi_combined.nii QSM, 00030_qsm.nii.gz LARO, QSM_lrr_30.nii and mask mask30.nii\n",
      "Appending arrays with segmentation 31_roi_combined.nii QSM, 00031_qsm.nii.gz LARO, QSM_lrr_31.nii and mask mask31.nii\n",
      "Appending arrays with segmentation 32_roi_combined.nii QSM, 00032_qsm.nii.gz LARO, QSM_lrr_32.nii and mask mask32.nii\n",
      "Appending arrays with segmentation 33_roi_combined.nii QSM, 00033_qsm.nii.gz LARO, QSM_lrr_33.nii and mask mask33.nii\n",
      "Appending arrays with segmentation 34_roi_combined.nii QSM, 00034_qsm.nii.gz LARO, QSM_lrr_34.nii and mask mask34.nii\n",
      "Appending arrays with segmentation 35_roi_combined.nii QSM, 00035_qsm.nii.gz LARO, QSM_lrr_35.nii and mask mask35.nii\n",
      "Appending arrays with segmentation 36_roi_combined.nii QSM, 00036_qsm.nii.gz LARO, QSM_lrr_36.nii and mask mask36.nii\n",
      "Appending arrays with segmentation 37_roi_combined.nii QSM, 00037_qsm.nii.gz LARO, QSM_lrr_37.nii and mask mask37.nii\n",
      "Appending arrays with segmentation 38_roi_combined.nii QSM, 00038_qsm.nii.gz LARO, QSM_lrr_38.nii and mask mask38.nii\n",
      "Appending arrays with segmentation 39_roi_combined.nii QSM, 00039_qsm.nii.gz LARO, QSM_lrr_39.nii and mask mask39.nii\n",
      "Appending arrays with segmentation 40_roi_combined.nii QSM, 00040_qsm.nii.gz LARO, QSM_lrr_40.nii and mask mask40.nii\n"
     ]
    }
   ],
   "source": [
    "# Set window level\n",
    "level = 0\n",
    "window = 500\n",
    "m1=level-window/2\n",
    "m2=level+window/2\n",
    "visualize = 1\n",
    "# Load data\n",
    "nrows = 256\n",
    "ncols = 256\n",
    "nslices = 160\n",
    "segs = []\n",
    "qsms = []\n",
    "laros = []\n",
    "voxel_sizes = []\n",
    "trackers = []\n",
    "q_directory = '/data/Ali/RadDBS-QSM/data/nii/chh/orig/qsm/'\n",
    "q_directory = os.listdir(q_directory)\n",
    "q_directory = sorted(q_directory)\n",
    "qu_directory = '/data/Ali/RadDBS-QSM/data/nii/chh/lr_roi_ft'\n",
    "qu_directory = os.listdir(qu_directory)\n",
    "qu_directory = sorted(qu_directory)\n",
    "s_directory = '/data/Ali/RadDBS-QSM/data/nii/chh/orig/seg/'\n",
    "s_directory = os.listdir(s_directory)\n",
    "s_directory = sorted(s_directory)\n",
    "m_directory = '/data/Ali/RadDBS-QSM/data/nii/chh/masks'\n",
    "m_directory = os.listdir(m_directory)\n",
    "m_directory = sorted(m_directory)\n",
    "case_list = []\n",
    "d_count = 0\n",
    "if visualize == 1:\n",
    "    for filename in q_directory:\n",
    "    \n",
    "        seg_filename = s_directory[d_count]\n",
    "        laro_filename = qu_directory[d_count]\n",
    "        mask_filename = m_directory[d_count]\n",
    "        seg = nib.load('/data/Ali/RadDBS-QSM/data/nii/chh/orig/seg/'+seg_filename)\n",
    "        mask = nib.load('/data/Ali/RadDBS-QSM/data/nii/chh/masks/'+mask_filename)\n",
    "        voxel_size = seg.header['pixdim'][0:3]\n",
    "        voxel_sizes.append(voxel_size)\n",
    "        segs.append(seg.get_fdata()[:nrows,:ncols,:nslices])\n",
    "        qsm = nib.load('/data/Ali//RadDBS-QSM/data/nii/chh/orig/qsm/'+filename)\n",
    "        qsms.append(qsm.get_fdata()[:nrows,:ncols,:nslices])\n",
    "\n",
    "        laro = nib.load('/data/Ali/RadDBS-QSM/data/nii/chh/lr_roi_ft/'+laro_filename)\n",
    "        laros.append(1000*laro.get_fdata()[:nrows,:ncols,:nslices])\n",
    "        print('Appending arrays with segmentation',seg_filename,'QSM,',filename,\n",
    "              'LARO,',laro_filename,'and mask',mask_filename)\n",
    "        case_list.append(filename)\n",
    "        n_cases = len(segs)\n",
    "        d_count = d_count+1\n",
    "\n",
    "\n"
   ]
  },
  {
   "cell_type": "code",
   "execution_count": 4,
   "metadata": {},
   "outputs": [
    {
     "data": {
      "text/html": [
       "<div>\n",
       "<style scoped>\n",
       "    .dataframe tbody tr th:only-of-type {\n",
       "        vertical-align: middle;\n",
       "    }\n",
       "\n",
       "    .dataframe tbody tr th {\n",
       "        vertical-align: top;\n",
       "    }\n",
       "\n",
       "    .dataframe thead th {\n",
       "        text-align: right;\n",
       "    }\n",
       "</style>\n",
       "<table border=\"1\" class=\"dataframe\">\n",
       "  <thead>\n",
       "    <tr style=\"text-align: right;\">\n",
       "      <th></th>\n",
       "      <th>subjects</th>\n",
       "      <th>LCT</th>\n",
       "      <th>Unnamed: 2</th>\n",
       "      <th>UPDRSⅢ</th>\n",
       "      <th>Unnamed: 4</th>\n",
       "      <th>Unnamed: 5</th>\n",
       "      <th>Unnamed: 6</th>\n",
       "      <th>Unnamed: 7</th>\n",
       "      <th>Unnamed: 8</th>\n",
       "      <th>Unnamed: 9</th>\n",
       "      <th>Unnamed: 10</th>\n",
       "      <th>Unnamed: 11</th>\n",
       "    </tr>\n",
       "  </thead>\n",
       "  <tbody>\n",
       "    <tr>\n",
       "      <th>0</th>\n",
       "      <td>NaN</td>\n",
       "      <td>NaN</td>\n",
       "      <td>NaN</td>\n",
       "      <td>Preoperative Off-Medicine</td>\n",
       "      <td>Preoperative On-Medicine</td>\n",
       "      <td>Postoperative  Off-Medicine &amp;Off-Stimulation\\n</td>\n",
       "      <td>Postoperative  Off-Medicine &amp;On-Stimulation</td>\n",
       "      <td>Postoperative  On-Medicine &amp;On-Stimulation</td>\n",
       "      <td>age</td>\n",
       "      <td>Gender(male=0,female=1)</td>\n",
       "      <td>Disease duration(years)</td>\n",
       "      <td>LEDD</td>\n",
       "    </tr>\n",
       "    <tr>\n",
       "      <th>1</th>\n",
       "      <td>1.0</td>\n",
       "      <td>62.26%</td>\n",
       "      <td>NaN</td>\n",
       "      <td>53</td>\n",
       "      <td>20</td>\n",
       "      <td>40</td>\n",
       "      <td>15</td>\n",
       "      <td>7</td>\n",
       "      <td>66</td>\n",
       "      <td>1</td>\n",
       "      <td>9</td>\n",
       "      <td>825</td>\n",
       "    </tr>\n",
       "    <tr>\n",
       "      <th>2</th>\n",
       "      <td>2.0</td>\n",
       "      <td>75.00%</td>\n",
       "      <td>NaN</td>\n",
       "      <td>32</td>\n",
       "      <td>8</td>\n",
       "      <td>26</td>\n",
       "      <td>17</td>\n",
       "      <td>10</td>\n",
       "      <td>64</td>\n",
       "      <td>1</td>\n",
       "      <td>6</td>\n",
       "      <td>856.25</td>\n",
       "    </tr>\n",
       "    <tr>\n",
       "      <th>3</th>\n",
       "      <td>3.0</td>\n",
       "      <td>51.72%</td>\n",
       "      <td>NaN</td>\n",
       "      <td>58</td>\n",
       "      <td>28</td>\n",
       "      <td>52</td>\n",
       "      <td>18</td>\n",
       "      <td>20</td>\n",
       "      <td>67</td>\n",
       "      <td>1</td>\n",
       "      <td>15</td>\n",
       "      <td>1350</td>\n",
       "    </tr>\n",
       "    <tr>\n",
       "      <th>4</th>\n",
       "      <td>4.0</td>\n",
       "      <td>22.58%</td>\n",
       "      <td>NaN</td>\n",
       "      <td>62</td>\n",
       "      <td>48</td>\n",
       "      <td>61</td>\n",
       "      <td>36</td>\n",
       "      <td>28</td>\n",
       "      <td>69</td>\n",
       "      <td>1</td>\n",
       "      <td>5</td>\n",
       "      <td>350</td>\n",
       "    </tr>\n",
       "    <tr>\n",
       "      <th>5</th>\n",
       "      <td>5.0</td>\n",
       "      <td>55.88%</td>\n",
       "      <td>NaN</td>\n",
       "      <td>34</td>\n",
       "      <td>15</td>\n",
       "      <td>44</td>\n",
       "      <td>29</td>\n",
       "      <td>22</td>\n",
       "      <td>63</td>\n",
       "      <td>1</td>\n",
       "      <td>10</td>\n",
       "      <td>751.25</td>\n",
       "    </tr>\n",
       "    <tr>\n",
       "      <th>6</th>\n",
       "      <td>6.0</td>\n",
       "      <td>75.44%</td>\n",
       "      <td>NaN</td>\n",
       "      <td>57</td>\n",
       "      <td>14</td>\n",
       "      <td>55</td>\n",
       "      <td>32</td>\n",
       "      <td>16</td>\n",
       "      <td>67</td>\n",
       "      <td>1</td>\n",
       "      <td>5</td>\n",
       "      <td>525</td>\n",
       "    </tr>\n",
       "    <tr>\n",
       "      <th>7</th>\n",
       "      <td>7.0</td>\n",
       "      <td>84.00%</td>\n",
       "      <td>NaN</td>\n",
       "      <td>100</td>\n",
       "      <td>16</td>\n",
       "      <td>68</td>\n",
       "      <td>12</td>\n",
       "      <td>NaN</td>\n",
       "      <td>58</td>\n",
       "      <td>0</td>\n",
       "      <td>10</td>\n",
       "      <td>1087.5</td>\n",
       "    </tr>\n",
       "    <tr>\n",
       "      <th>8</th>\n",
       "      <td>8.0</td>\n",
       "      <td>41.86%</td>\n",
       "      <td>NaN</td>\n",
       "      <td>43</td>\n",
       "      <td>25</td>\n",
       "      <td>48</td>\n",
       "      <td>26</td>\n",
       "      <td>26</td>\n",
       "      <td>74</td>\n",
       "      <td>1</td>\n",
       "      <td>10</td>\n",
       "      <td>550</td>\n",
       "    </tr>\n",
       "    <tr>\n",
       "      <th>9</th>\n",
       "      <td>9.0</td>\n",
       "      <td>72.58%</td>\n",
       "      <td>NaN</td>\n",
       "      <td>62</td>\n",
       "      <td>17</td>\n",
       "      <td>56</td>\n",
       "      <td>25</td>\n",
       "      <td>11</td>\n",
       "      <td>57</td>\n",
       "      <td>1</td>\n",
       "      <td>10</td>\n",
       "      <td>500</td>\n",
       "    </tr>\n",
       "    <tr>\n",
       "      <th>10</th>\n",
       "      <td>10.0</td>\n",
       "      <td>81.25%</td>\n",
       "      <td>NaN</td>\n",
       "      <td>64</td>\n",
       "      <td>12</td>\n",
       "      <td>33</td>\n",
       "      <td>12</td>\n",
       "      <td>NaN</td>\n",
       "      <td>52</td>\n",
       "      <td>0</td>\n",
       "      <td>6</td>\n",
       "      <td>600</td>\n",
       "    </tr>\n",
       "    <tr>\n",
       "      <th>11</th>\n",
       "      <td>11.0</td>\n",
       "      <td>70.21%</td>\n",
       "      <td>NaN</td>\n",
       "      <td>94</td>\n",
       "      <td>28</td>\n",
       "      <td>31</td>\n",
       "      <td>34</td>\n",
       "      <td>43</td>\n",
       "      <td>68</td>\n",
       "      <td>1</td>\n",
       "      <td>11</td>\n",
       "      <td>1450</td>\n",
       "    </tr>\n",
       "    <tr>\n",
       "      <th>12</th>\n",
       "      <td>12.0</td>\n",
       "      <td>63.95%</td>\n",
       "      <td>NaN</td>\n",
       "      <td>86</td>\n",
       "      <td>31</td>\n",
       "      <td>28</td>\n",
       "      <td>27</td>\n",
       "      <td>18</td>\n",
       "      <td>56</td>\n",
       "      <td>1</td>\n",
       "      <td>13</td>\n",
       "      <td>600</td>\n",
       "    </tr>\n",
       "    <tr>\n",
       "      <th>13</th>\n",
       "      <td>13.0</td>\n",
       "      <td>89.55%</td>\n",
       "      <td>NaN</td>\n",
       "      <td>67</td>\n",
       "      <td>7</td>\n",
       "      <td>64</td>\n",
       "      <td>19</td>\n",
       "      <td>NaN</td>\n",
       "      <td>60</td>\n",
       "      <td>1</td>\n",
       "      <td>11</td>\n",
       "      <td>856.25</td>\n",
       "    </tr>\n",
       "    <tr>\n",
       "      <th>14</th>\n",
       "      <td>14.0</td>\n",
       "      <td>88.46%</td>\n",
       "      <td>NaN</td>\n",
       "      <td>26</td>\n",
       "      <td>3</td>\n",
       "      <td>31</td>\n",
       "      <td>18</td>\n",
       "      <td>17</td>\n",
       "      <td>62</td>\n",
       "      <td>0</td>\n",
       "      <td>5</td>\n",
       "      <td>375</td>\n",
       "    </tr>\n",
       "    <tr>\n",
       "      <th>15</th>\n",
       "      <td>15.0</td>\n",
       "      <td>62.50%</td>\n",
       "      <td>NaN</td>\n",
       "      <td>72</td>\n",
       "      <td>27</td>\n",
       "      <td>72</td>\n",
       "      <td>44</td>\n",
       "      <td>38</td>\n",
       "      <td>56</td>\n",
       "      <td>0</td>\n",
       "      <td>12</td>\n",
       "      <td>400</td>\n",
       "    </tr>\n",
       "    <tr>\n",
       "      <th>16</th>\n",
       "      <td>16.0</td>\n",
       "      <td>48.00%</td>\n",
       "      <td>NaN</td>\n",
       "      <td>25</td>\n",
       "      <td>13</td>\n",
       "      <td>17</td>\n",
       "      <td>8</td>\n",
       "      <td>8</td>\n",
       "      <td>66</td>\n",
       "      <td>0</td>\n",
       "      <td>8</td>\n",
       "      <td>850</td>\n",
       "    </tr>\n",
       "    <tr>\n",
       "      <th>17</th>\n",
       "      <td>17.0</td>\n",
       "      <td>14.29%</td>\n",
       "      <td>NaN</td>\n",
       "      <td>98</td>\n",
       "      <td>84</td>\n",
       "      <td>86</td>\n",
       "      <td>43</td>\n",
       "      <td>34</td>\n",
       "      <td>73</td>\n",
       "      <td>1</td>\n",
       "      <td>15</td>\n",
       "      <td>300</td>\n",
       "    </tr>\n",
       "    <tr>\n",
       "      <th>18</th>\n",
       "      <td>18.0</td>\n",
       "      <td>36.62%</td>\n",
       "      <td>NaN</td>\n",
       "      <td>71</td>\n",
       "      <td>45</td>\n",
       "      <td>49</td>\n",
       "      <td>47</td>\n",
       "      <td>46</td>\n",
       "      <td>52</td>\n",
       "      <td>1</td>\n",
       "      <td>7</td>\n",
       "      <td>1200</td>\n",
       "    </tr>\n",
       "    <tr>\n",
       "      <th>19</th>\n",
       "      <td>19.0</td>\n",
       "      <td>54.90%</td>\n",
       "      <td>NaN</td>\n",
       "      <td>51</td>\n",
       "      <td>23</td>\n",
       "      <td>37</td>\n",
       "      <td>21</td>\n",
       "      <td>18</td>\n",
       "      <td>68</td>\n",
       "      <td>1</td>\n",
       "      <td>13</td>\n",
       "      <td>575</td>\n",
       "    </tr>\n",
       "    <tr>\n",
       "      <th>20</th>\n",
       "      <td>20.0</td>\n",
       "      <td>81.63%</td>\n",
       "      <td>NaN</td>\n",
       "      <td>49</td>\n",
       "      <td>9</td>\n",
       "      <td>20</td>\n",
       "      <td>3</td>\n",
       "      <td>NaN</td>\n",
       "      <td>59</td>\n",
       "      <td>0</td>\n",
       "      <td>11</td>\n",
       "      <td>700</td>\n",
       "    </tr>\n",
       "    <tr>\n",
       "      <th>21</th>\n",
       "      <td>21.0</td>\n",
       "      <td>71.43%</td>\n",
       "      <td>NaN</td>\n",
       "      <td>49</td>\n",
       "      <td>14</td>\n",
       "      <td>42</td>\n",
       "      <td>8</td>\n",
       "      <td>NaN</td>\n",
       "      <td>62</td>\n",
       "      <td>0</td>\n",
       "      <td>9</td>\n",
       "      <td>1125.75</td>\n",
       "    </tr>\n",
       "    <tr>\n",
       "      <th>22</th>\n",
       "      <td>22.0</td>\n",
       "      <td>90.32%</td>\n",
       "      <td>NaN</td>\n",
       "      <td>31</td>\n",
       "      <td>3</td>\n",
       "      <td>46</td>\n",
       "      <td>28</td>\n",
       "      <td>NaN</td>\n",
       "      <td>65</td>\n",
       "      <td>1</td>\n",
       "      <td>7</td>\n",
       "      <td>875</td>\n",
       "    </tr>\n",
       "    <tr>\n",
       "      <th>23</th>\n",
       "      <td>23.0</td>\n",
       "      <td>65.85%</td>\n",
       "      <td>NaN</td>\n",
       "      <td>41</td>\n",
       "      <td>14</td>\n",
       "      <td>43</td>\n",
       "      <td>24</td>\n",
       "      <td>24</td>\n",
       "      <td>75</td>\n",
       "      <td>0</td>\n",
       "      <td>10</td>\n",
       "      <td>862.5</td>\n",
       "    </tr>\n",
       "    <tr>\n",
       "      <th>24</th>\n",
       "      <td>24.0</td>\n",
       "      <td>74.29%</td>\n",
       "      <td>NaN</td>\n",
       "      <td>35</td>\n",
       "      <td>9</td>\n",
       "      <td>21</td>\n",
       "      <td>15</td>\n",
       "      <td>NaN</td>\n",
       "      <td>47</td>\n",
       "      <td>1</td>\n",
       "      <td>7</td>\n",
       "      <td>341.67</td>\n",
       "    </tr>\n",
       "    <tr>\n",
       "      <th>25</th>\n",
       "      <td>25.0</td>\n",
       "      <td>83.61%</td>\n",
       "      <td>NaN</td>\n",
       "      <td>61</td>\n",
       "      <td>10</td>\n",
       "      <td>60</td>\n",
       "      <td>21</td>\n",
       "      <td>17</td>\n",
       "      <td>63</td>\n",
       "      <td>0</td>\n",
       "      <td>9</td>\n",
       "      <td>455</td>\n",
       "    </tr>\n",
       "    <tr>\n",
       "      <th>26</th>\n",
       "      <td>26.0</td>\n",
       "      <td>58.97%</td>\n",
       "      <td>NaN</td>\n",
       "      <td>78</td>\n",
       "      <td>32</td>\n",
       "      <td>64</td>\n",
       "      <td>29</td>\n",
       "      <td>21</td>\n",
       "      <td>70</td>\n",
       "      <td>0</td>\n",
       "      <td>5</td>\n",
       "      <td>850</td>\n",
       "    </tr>\n",
       "    <tr>\n",
       "      <th>27</th>\n",
       "      <td>27.0</td>\n",
       "      <td>5.88%</td>\n",
       "      <td>NaN</td>\n",
       "      <td>51</td>\n",
       "      <td>48</td>\n",
       "      <td>45</td>\n",
       "      <td>27</td>\n",
       "      <td>20</td>\n",
       "      <td>59</td>\n",
       "      <td>0</td>\n",
       "      <td>6</td>\n",
       "      <td>525</td>\n",
       "    </tr>\n",
       "    <tr>\n",
       "      <th>28</th>\n",
       "      <td>28.0</td>\n",
       "      <td>76.67%</td>\n",
       "      <td>NaN</td>\n",
       "      <td>60</td>\n",
       "      <td>14</td>\n",
       "      <td>68</td>\n",
       "      <td>43</td>\n",
       "      <td>NaN</td>\n",
       "      <td>67</td>\n",
       "      <td>0</td>\n",
       "      <td>7</td>\n",
       "      <td>1025</td>\n",
       "    </tr>\n",
       "    <tr>\n",
       "      <th>29</th>\n",
       "      <td>29.0</td>\n",
       "      <td>81.01%</td>\n",
       "      <td>NaN</td>\n",
       "      <td>79</td>\n",
       "      <td>15</td>\n",
       "      <td>79</td>\n",
       "      <td>32</td>\n",
       "      <td>28</td>\n",
       "      <td>66</td>\n",
       "      <td>0</td>\n",
       "      <td>7</td>\n",
       "      <td>750</td>\n",
       "    </tr>\n",
       "    <tr>\n",
       "      <th>30</th>\n",
       "      <td>30.0</td>\n",
       "      <td>62.35%</td>\n",
       "      <td>NaN</td>\n",
       "      <td>85</td>\n",
       "      <td>32</td>\n",
       "      <td>92</td>\n",
       "      <td>40</td>\n",
       "      <td>NaN</td>\n",
       "      <td>72</td>\n",
       "      <td>0</td>\n",
       "      <td>7</td>\n",
       "      <td>1075</td>\n",
       "    </tr>\n",
       "    <tr>\n",
       "      <th>31</th>\n",
       "      <td>31.0</td>\n",
       "      <td>27.91%</td>\n",
       "      <td>NaN</td>\n",
       "      <td>43</td>\n",
       "      <td>31</td>\n",
       "      <td>31</td>\n",
       "      <td>6</td>\n",
       "      <td>NaN</td>\n",
       "      <td>71</td>\n",
       "      <td>0</td>\n",
       "      <td>12</td>\n",
       "      <td>1025</td>\n",
       "    </tr>\n",
       "    <tr>\n",
       "      <th>32</th>\n",
       "      <td>32.0</td>\n",
       "      <td>31.48%</td>\n",
       "      <td>NaN</td>\n",
       "      <td>54</td>\n",
       "      <td>37</td>\n",
       "      <td>64</td>\n",
       "      <td>28</td>\n",
       "      <td>25</td>\n",
       "      <td>51</td>\n",
       "      <td>0</td>\n",
       "      <td>5</td>\n",
       "      <td>450</td>\n",
       "    </tr>\n",
       "    <tr>\n",
       "      <th>33</th>\n",
       "      <td>33.0</td>\n",
       "      <td>80.33%</td>\n",
       "      <td>NaN</td>\n",
       "      <td>61</td>\n",
       "      <td>12</td>\n",
       "      <td>53</td>\n",
       "      <td>21</td>\n",
       "      <td>15</td>\n",
       "      <td>54</td>\n",
       "      <td>0</td>\n",
       "      <td>7</td>\n",
       "      <td>675</td>\n",
       "    </tr>\n",
       "    <tr>\n",
       "      <th>34</th>\n",
       "      <td>34.0</td>\n",
       "      <td>40.74%</td>\n",
       "      <td>NaN</td>\n",
       "      <td>54</td>\n",
       "      <td>32</td>\n",
       "      <td>64</td>\n",
       "      <td>36</td>\n",
       "      <td>29</td>\n",
       "      <td>66</td>\n",
       "      <td>0</td>\n",
       "      <td>9</td>\n",
       "      <td>656.25</td>\n",
       "    </tr>\n",
       "    <tr>\n",
       "      <th>35</th>\n",
       "      <td>35.0</td>\n",
       "      <td>16.13%</td>\n",
       "      <td>NaN</td>\n",
       "      <td>93</td>\n",
       "      <td>78</td>\n",
       "      <td>69</td>\n",
       "      <td>47</td>\n",
       "      <td>44</td>\n",
       "      <td>70</td>\n",
       "      <td>0</td>\n",
       "      <td>5</td>\n",
       "      <td>NaN</td>\n",
       "    </tr>\n",
       "    <tr>\n",
       "      <th>36</th>\n",
       "      <td>36.0</td>\n",
       "      <td>59.26%</td>\n",
       "      <td>NaN</td>\n",
       "      <td>54</td>\n",
       "      <td>22</td>\n",
       "      <td>57</td>\n",
       "      <td>12</td>\n",
       "      <td>NaN</td>\n",
       "      <td>49</td>\n",
       "      <td>0</td>\n",
       "      <td>6</td>\n",
       "      <td>575</td>\n",
       "    </tr>\n",
       "    <tr>\n",
       "      <th>37</th>\n",
       "      <td>37.0</td>\n",
       "      <td>61.40%</td>\n",
       "      <td>NaN</td>\n",
       "      <td>57</td>\n",
       "      <td>22</td>\n",
       "      <td>56</td>\n",
       "      <td>11</td>\n",
       "      <td>NaN</td>\n",
       "      <td>76</td>\n",
       "      <td>1</td>\n",
       "      <td>4</td>\n",
       "      <td>375</td>\n",
       "    </tr>\n",
       "    <tr>\n",
       "      <th>38</th>\n",
       "      <td>38.0</td>\n",
       "      <td>95.92%</td>\n",
       "      <td>NaN</td>\n",
       "      <td>49</td>\n",
       "      <td>2</td>\n",
       "      <td>58</td>\n",
       "      <td>14</td>\n",
       "      <td>12</td>\n",
       "      <td>67</td>\n",
       "      <td>0</td>\n",
       "      <td>7</td>\n",
       "      <td>510</td>\n",
       "    </tr>\n",
       "    <tr>\n",
       "      <th>39</th>\n",
       "      <td>39.0</td>\n",
       "      <td>79.35%</td>\n",
       "      <td>NaN</td>\n",
       "      <td>92</td>\n",
       "      <td>19</td>\n",
       "      <td>NaN</td>\n",
       "      <td>63</td>\n",
       "      <td>NaN</td>\n",
       "      <td>56</td>\n",
       "      <td>1</td>\n",
       "      <td>10</td>\n",
       "      <td>1100</td>\n",
       "    </tr>\n",
       "    <tr>\n",
       "      <th>40</th>\n",
       "      <td>40.0</td>\n",
       "      <td>50.00%</td>\n",
       "      <td>NaN</td>\n",
       "      <td>54</td>\n",
       "      <td>27</td>\n",
       "      <td>34</td>\n",
       "      <td>9</td>\n",
       "      <td>8</td>\n",
       "      <td>69</td>\n",
       "      <td>0</td>\n",
       "      <td>7</td>\n",
       "      <td>450</td>\n",
       "    </tr>\n",
       "  </tbody>\n",
       "</table>\n",
       "</div>"
      ],
      "text/plain": [
       "    subjects    LCT   Unnamed: 2                     UPDRSⅢ  \\\n",
       "0        NaN     NaN         NaN  Preoperative Off-Medicine   \n",
       "1        1.0  62.26%         NaN                         53   \n",
       "2        2.0  75.00%         NaN                         32   \n",
       "3        3.0  51.72%         NaN                         58   \n",
       "4        4.0  22.58%         NaN                         62   \n",
       "5        5.0  55.88%         NaN                         34   \n",
       "6        6.0  75.44%         NaN                         57   \n",
       "7        7.0  84.00%         NaN                        100   \n",
       "8        8.0  41.86%         NaN                         43   \n",
       "9        9.0  72.58%         NaN                         62   \n",
       "10      10.0  81.25%         NaN                         64   \n",
       "11      11.0  70.21%         NaN                         94   \n",
       "12      12.0  63.95%         NaN                         86   \n",
       "13      13.0  89.55%         NaN                         67   \n",
       "14      14.0  88.46%         NaN                         26   \n",
       "15      15.0  62.50%         NaN                         72   \n",
       "16      16.0  48.00%         NaN                         25   \n",
       "17      17.0  14.29%         NaN                         98   \n",
       "18      18.0  36.62%         NaN                         71   \n",
       "19      19.0  54.90%         NaN                         51   \n",
       "20      20.0  81.63%         NaN                         49   \n",
       "21      21.0  71.43%         NaN                         49   \n",
       "22      22.0  90.32%         NaN                         31   \n",
       "23      23.0  65.85%         NaN                         41   \n",
       "24      24.0  74.29%         NaN                         35   \n",
       "25      25.0  83.61%         NaN                         61   \n",
       "26      26.0  58.97%         NaN                         78   \n",
       "27      27.0   5.88%         NaN                         51   \n",
       "28      28.0  76.67%         NaN                         60   \n",
       "29      29.0  81.01%         NaN                         79   \n",
       "30      30.0  62.35%         NaN                         85   \n",
       "31      31.0  27.91%         NaN                         43   \n",
       "32      32.0  31.48%         NaN                         54   \n",
       "33      33.0  80.33%         NaN                         61   \n",
       "34      34.0  40.74%         NaN                         54   \n",
       "35      35.0  16.13%         NaN                         93   \n",
       "36      36.0  59.26%         NaN                         54   \n",
       "37      37.0  61.40%         NaN                         57   \n",
       "38      38.0  95.92%         NaN                         49   \n",
       "39      39.0  79.35%         NaN                         92   \n",
       "40      40.0  50.00%         NaN                         54   \n",
       "\n",
       "                  Unnamed: 4                                       Unnamed: 5  \\\n",
       "0   Preoperative On-Medicine  Postoperative  Off-Medicine &Off-Stimulation\\n    \n",
       "1                         20                                               40   \n",
       "2                          8                                               26   \n",
       "3                         28                                               52   \n",
       "4                         48                                               61   \n",
       "5                         15                                               44   \n",
       "6                         14                                               55   \n",
       "7                         16                                               68   \n",
       "8                         25                                               48   \n",
       "9                         17                                               56   \n",
       "10                        12                                               33   \n",
       "11                        28                                               31   \n",
       "12                        31                                               28   \n",
       "13                         7                                               64   \n",
       "14                         3                                               31   \n",
       "15                        27                                               72   \n",
       "16                        13                                               17   \n",
       "17                        84                                               86   \n",
       "18                        45                                               49   \n",
       "19                        23                                               37   \n",
       "20                         9                                               20   \n",
       "21                        14                                               42   \n",
       "22                         3                                               46   \n",
       "23                        14                                               43   \n",
       "24                         9                                               21   \n",
       "25                        10                                               60   \n",
       "26                        32                                               64   \n",
       "27                        48                                               45   \n",
       "28                        14                                               68   \n",
       "29                        15                                               79   \n",
       "30                        32                                               92   \n",
       "31                        31                                               31   \n",
       "32                        37                                               64   \n",
       "33                        12                                               53   \n",
       "34                        32                                               64   \n",
       "35                        78                                               69   \n",
       "36                        22                                               57   \n",
       "37                        22                                               56   \n",
       "38                         2                                               58   \n",
       "39                        19                                              NaN   \n",
       "40                        27                                               34   \n",
       "\n",
       "                                     Unnamed: 6  \\\n",
       "0   Postoperative  Off-Medicine &On-Stimulation   \n",
       "1                                            15   \n",
       "2                                            17   \n",
       "3                                            18   \n",
       "4                                            36   \n",
       "5                                            29   \n",
       "6                                            32   \n",
       "7                                            12   \n",
       "8                                            26   \n",
       "9                                            25   \n",
       "10                                           12   \n",
       "11                                           34   \n",
       "12                                           27   \n",
       "13                                           19   \n",
       "14                                           18   \n",
       "15                                           44   \n",
       "16                                            8   \n",
       "17                                           43   \n",
       "18                                           47   \n",
       "19                                           21   \n",
       "20                                            3   \n",
       "21                                            8   \n",
       "22                                           28   \n",
       "23                                           24   \n",
       "24                                           15   \n",
       "25                                           21   \n",
       "26                                           29   \n",
       "27                                           27   \n",
       "28                                           43   \n",
       "29                                           32   \n",
       "30                                           40   \n",
       "31                                            6   \n",
       "32                                           28   \n",
       "33                                           21   \n",
       "34                                           36   \n",
       "35                                           47   \n",
       "36                                           12   \n",
       "37                                           11   \n",
       "38                                           14   \n",
       "39                                           63   \n",
       "40                                            9   \n",
       "\n",
       "                                    Unnamed: 7 Unnamed: 8  \\\n",
       "0   Postoperative  On-Medicine &On-Stimulation        age   \n",
       "1                                            7         66   \n",
       "2                                           10         64   \n",
       "3                                           20         67   \n",
       "4                                           28         69   \n",
       "5                                           22         63   \n",
       "6                                           16         67   \n",
       "7                                          NaN         58   \n",
       "8                                           26         74   \n",
       "9                                           11         57   \n",
       "10                                         NaN         52   \n",
       "11                                          43         68   \n",
       "12                                          18         56   \n",
       "13                                         NaN         60   \n",
       "14                                          17         62   \n",
       "15                                          38         56   \n",
       "16                                           8         66   \n",
       "17                                          34         73   \n",
       "18                                          46         52   \n",
       "19                                          18         68   \n",
       "20                                         NaN         59   \n",
       "21                                         NaN         62   \n",
       "22                                         NaN         65   \n",
       "23                                          24         75   \n",
       "24                                         NaN         47   \n",
       "25                                          17         63   \n",
       "26                                          21         70   \n",
       "27                                          20         59   \n",
       "28                                         NaN         67   \n",
       "29                                          28         66   \n",
       "30                                         NaN         72   \n",
       "31                                         NaN         71   \n",
       "32                                          25         51   \n",
       "33                                          15         54   \n",
       "34                                          29         66   \n",
       "35                                          44         70   \n",
       "36                                         NaN         49   \n",
       "37                                         NaN         76   \n",
       "38                                          12         67   \n",
       "39                                         NaN         56   \n",
       "40                                           8         69   \n",
       "\n",
       "                 Unnamed: 9              Unnamed: 10 Unnamed: 11  \n",
       "0   Gender(male=0,female=1)  Disease duration(years)        LEDD  \n",
       "1                         1                        9         825  \n",
       "2                         1                        6      856.25  \n",
       "3                         1                       15        1350  \n",
       "4                         1                        5         350  \n",
       "5                         1                       10      751.25  \n",
       "6                         1                        5         525  \n",
       "7                         0                       10      1087.5  \n",
       "8                         1                       10         550  \n",
       "9                         1                       10         500  \n",
       "10                        0                        6         600  \n",
       "11                        1                       11        1450  \n",
       "12                        1                       13         600  \n",
       "13                        1                       11      856.25  \n",
       "14                        0                        5         375  \n",
       "15                        0                       12         400  \n",
       "16                        0                        8         850  \n",
       "17                        1                       15         300  \n",
       "18                        1                        7        1200  \n",
       "19                        1                       13         575  \n",
       "20                        0                       11         700  \n",
       "21                        0                        9     1125.75  \n",
       "22                        1                        7         875  \n",
       "23                        0                       10       862.5  \n",
       "24                        1                        7      341.67  \n",
       "25                        0                        9         455  \n",
       "26                        0                        5         850  \n",
       "27                        0                        6         525  \n",
       "28                        0                        7        1025  \n",
       "29                        0                        7         750  \n",
       "30                        0                        7        1075  \n",
       "31                        0                       12        1025  \n",
       "32                        0                        5         450  \n",
       "33                        0                        7         675  \n",
       "34                        0                        9      656.25  \n",
       "35                        0                        5         NaN  \n",
       "36                        0                        6         575  \n",
       "37                        1                        4         375  \n",
       "38                        0                        7         510  \n",
       "39                        1                       10        1100  \n",
       "40                        0                        7         450  "
      ]
     },
     "execution_count": 4,
     "metadata": {},
     "output_type": "execute_result"
    }
   ],
   "source": [
    "df = pd.read_csv('/data/Ali/RadDBS-QSM/data/xlxs/updrs_iii_chh_cvs.csv')\n",
    "df"
   ]
  },
  {
   "cell_type": "code",
   "execution_count": 5,
   "metadata": {},
   "outputs": [
    {
     "name": "stdout",
     "output_type": "stream",
     "text": [
      "Found ROIs [0. 1. 2. 3. 4. 5. 6.] at segmentation directory file 01_roi_combined.nii for case 1.0\n",
      "Found ROIs [0. 1. 2. 3. 4. 5. 6.] at segmentation directory file 02_roi_combined.nii for case 2.0\n",
      "Found ROIs [0. 1. 2. 3. 4. 5. 6.] at segmentation directory file 03_roi_combined.nii for case 3.0\n",
      "Found ROIs [0. 1. 2. 3. 4. 5. 6.] at segmentation directory file 04_roi_combined.nii for case 4.0\n",
      "Found ROIs [0. 1. 2. 3. 4. 5. 6.] at segmentation directory file 05_roi_combined.nii for case 5.0\n",
      "Found ROIs [0. 1. 2. 3. 4. 5. 6.] at segmentation directory file 06_roi_combined.nii for case 6.0\n",
      "Found ROIs [0. 1. 2. 3. 4. 5. 6.] at segmentation directory file 07_roi_combined.nii for case 7.0\n",
      "Found ROIs [0. 1. 2. 3. 4. 5. 6.] at segmentation directory file 08_roi_combined.nii for case 8.0\n",
      "Found ROIs [0. 1. 2. 3. 4. 5. 6.] at segmentation directory file 09_roi_combined.nii for case 9.0\n",
      "Found ROIs [0. 1. 2. 3. 4. 5. 6.] at segmentation directory file 10_roi_combined.nii for case 10.0\n",
      "Found ROIs [0. 1. 2. 3. 4. 5. 6.] at segmentation directory file 11_roi_combined.nii for case 11.0\n",
      "Found ROIs [0. 1. 2. 3. 4. 5. 6.] at segmentation directory file 13_roi_combined.nii for case 13.0\n",
      "Found ROIs [0. 1. 2. 3. 4. 5. 6.] at segmentation directory file 14_roi_combined.nii for case 14.0\n",
      "Found ROIs [0. 1. 2. 3. 4. 5. 6.] at segmentation directory file 16_roi_combined.nii for case 16.0\n",
      "Found ROIs [0. 1. 2. 3. 4. 5. 6.] at segmentation directory file 18_roi_combined.nii for case 18.0\n",
      "Found ROIs [0. 1. 2. 3. 4. 5. 6.] at segmentation directory file 19_roi_combined.nii for case 19.0\n",
      "Found ROIs [0. 1. 2. 3. 4. 5. 6.] at segmentation directory file 20_roi_combined.nii for case 20.0\n",
      "Found ROIs [0. 1. 2. 3. 4. 5. 6.] at segmentation directory file 21_roi_combined.nii for case 21.0\n",
      "Found ROIs [0. 1. 2. 3. 4. 5. 6.] at segmentation directory file 22_roi_combined.nii for case 22.0\n",
      "Found ROIs [0. 1. 2. 3. 4. 5. 6.] at segmentation directory file 23_roi_combined.nii for case 23.0\n",
      "Found ROIs [0. 1. 2. 3. 4. 5. 6.] at segmentation directory file 24_roi_combined.nii for case 24.0\n",
      "Found ROIs [0. 1. 2. 3. 4. 5. 6.] at segmentation directory file 25_roi_combined.nii for case 25.0\n",
      "Found ROIs [0. 1. 2. 3. 4. 5. 6.] at segmentation directory file 26_roi_combined.nii for case 26.0\n",
      "Found ROIs [0. 1. 2. 3. 4. 5. 6.] at segmentation directory file 27_roi_combined.nii for case 27.0\n",
      "Found ROIs [0. 1. 2. 3. 4. 5. 6.] at segmentation directory file 28_roi_combined.nii for case 28.0\n",
      "Found ROIs [0. 1. 2. 3. 4. 5. 6.] at segmentation directory file 29_roi_combined.nii for case 29.0\n",
      "Found ROIs [0. 1. 2. 3. 4. 5. 6.] at segmentation directory file 30_roi_combined.nii for case 30.0\n",
      "Found ROIs [0. 1. 2. 3. 4. 5. 6.] at segmentation directory file 31_roi_combined.nii for case 31.0\n",
      "Found ROIs [0. 1. 2. 3. 4. 5. 6.] at segmentation directory file 32_roi_combined.nii for case 32.0\n",
      "Found ROIs [0. 1. 2. 3. 4. 5. 6.] at segmentation directory file 33_roi_combined.nii for case 33.0\n",
      "Found ROIs [0. 1. 2. 3. 4. 5. 6.] at segmentation directory file 34_roi_combined.nii for case 34.0\n",
      "Found ROIs [0. 1. 2. 3. 4. 5. 6.] at segmentation directory file 35_roi_combined.nii for case 35.0\n",
      "Found ROIs [0. 1. 2. 3. 4. 5. 6.] at segmentation directory file 36_roi_combined.nii for case 36.0\n",
      "Found ROIs [0. 1. 2. 3. 4. 5. 6.] at segmentation directory file 37_roi_combined.nii for case 37.0\n",
      "Found ROIs [0. 1. 2. 3. 4. 5. 6.] at segmentation directory file 38_roi_combined.nii for case 38.0\n",
      "Found ROIs [0. 1. 2. 3. 4. 5. 6.] at segmentation directory file 39_roi_combined.nii for case 39.0\n",
      "Found ROIs [0. 1. 2. 3. 4. 5. 6.] at segmentation directory file 40_roi_combined.nii for case 40.0\n"
     ]
    }
   ],
   "source": [
    "# Patient IDs\n",
    "subject_id = np.asarray(df[df.columns[0]])[1:]\n",
    "\n",
    "# Only extract ROI if it is present in all cases\n",
    "seg_labels_all = segs[0]\n",
    "case_number = np.zeros_like(np.asarray(s_directory))\n",
    "for i in range(n_cases):\n",
    "    case_number[i] = float(s_directory[i][:2])\n",
    "subject_id_corr = subject_id[np.in1d(subject_id,case_number)]\n",
    "age = np.nan_to_num(np.asarray(df[df.columns[-4]])[1:][np.in1d(subject_id,case_number)].astype(float))\n",
    "sex = np.nan_to_num(np.asarray(df[df.columns[-3]])[1:][np.in1d(subject_id,case_number)].astype(float))\n",
    "dd = np.nan_to_num(np.asarray(df[df.columns[-2]])[1:][np.in1d(subject_id,case_number)].astype(float))\n",
    "ledd = np.nan_to_num(np.asarray(df[df.columns[-1]])[1:][np.in1d(subject_id,case_number)].astype(float))\n",
    "\n",
    "for i in np.arange(n_cases):\n",
    "    try:\n",
    "        print('Found ROIs',str(np.unique(segs[i])),'at segmentation directory file',s_directory[i],'for case',str(subject_id_corr[i]))\n",
    "    except:\n",
    "        print('Case',subject_id[i],'quarantined')\n"
   ]
  },
  {
   "cell_type": "code",
   "execution_count": 6,
   "metadata": {},
   "outputs": [],
   "source": [
    "pre_updrs_iii_off =  np.asarray(df[df.columns[3]][np.hstack((False,np.in1d(subject_id,subject_id_corr)))])                                \n",
    "pre_updrs_iii_on =  np.asarray(df[df.columns[4]][np.hstack((False,np.in1d(subject_id,subject_id_corr)))])\n",
    "post_updrs_iii_off =  np.asarray(df[df.columns[6]][np.hstack((False,np.in1d(subject_id,subject_id_corr)))])\n",
    "\n",
    "per_change = (np.asarray(pre_updrs_iii_off).astype(float)-np.asarray(post_updrs_iii_off).astype(float))/(np.asarray(pre_updrs_iii_off).astype(float))\n",
    "lct_change = (np.asarray(pre_updrs_iii_off).astype(float)-(np.asarray(pre_updrs_iii_on)).astype(float))/(np.asarray(pre_updrs_iii_off).astype(float))"
   ]
  },
  {
   "cell_type": "code",
   "execution_count": 7,
   "metadata": {},
   "outputs": [],
   "source": [
    "logger = logging.getLogger(\"radiomics\")\n",
    "logger.setLevel(logging.ERROR)\n",
    "\n",
    "reextract = 0\n",
    "\n",
    "# Assume all voxel sizes are identical\n",
    "voxel_size = (0.9,0.9,0.9)\n",
    "if reextract == 1:\n",
    "    # Generate feature structure Phi from all ROIs and all cases\n",
    "    extractor = featureextractor.RadiomicsFeatureExtractor()\n",
    "    extractor.enableAllFeatures()\n",
    "    extractor.enableAllImageTypes()\n",
    "    extractor.enableFeatureClassByName('shape2D',enabled = False)\n",
    "\n",
    "    seg_labels_all = np.unique(np.asarray(segs))\n",
    "    Phi_gt = []\n",
    "    Phi_vd = []\n",
    "    Phi_lr = []\n",
    "    seg_labels = []\n",
    "    reextract = 0\n",
    "    x_row_gt = []\n",
    "    x_row_lr = []\n",
    "\n",
    "    keylib = []\n",
    "    roilib = []\n",
    "    loop_count = 1\n",
    "    n_rois = seg_labels_all[seg_labels_all>0].__len__()\n",
    "    roi_names = np.asarray(['Background','Right substantia nigra','Right subthalamic nucleus',\n",
    "                            'Left subthalamic nucleus', 'Left substantia nigra', 'Right dentate nucleus', 'Left dentate nucleus'])\n",
    "    for i in np.arange(subject_id_corr.__len__()):\n",
    "        seg_sitk = sitk.GetImageFromArray(segs[i])\n",
    "        seg_sitk.SetSpacing(voxel_size)\n",
    "        qsm_sitk_gt = sitk.GetImageFromArray(qsms[i])\n",
    "        qsm_sitk_gt.SetSpacing(voxel_size)\n",
    "        qsm_sitk_lr = sitk.GetImageFromArray(laros[i])\n",
    "        qsm_sitk_lr.SetSpacing(voxel_size)\n",
    "        # Index back since subject 12 is missing ROIs\n",
    "        for j in seg_labels_all:\n",
    "            if j>0:\n",
    "                fv_count = 0\n",
    "                featureVector_gt = extractor.execute(qsm_sitk_gt,seg_sitk,label=int(j));\n",
    "                featureVector_lr = extractor.execute(qsm_sitk_lr,seg_sitk,label=int(j));\n",
    "                Phi_gt.append(featureVector_gt)\n",
    "                Phi_lr.append(featureVector_lr)\n",
    "                for key, value in six.iteritems(featureVector_gt):\n",
    "                    if 'diagnostic' in key:\n",
    "                        next\n",
    "                    else:\n",
    "                        x_row_gt.append(featureVector_gt[key])\n",
    "                        x_row_lr.append(featureVector_lr[key])\n",
    "                        fv_count = fv_count+1\n",
    "                        keylib.append(key)\n",
    "                        roilib.append(roi_names[int(j)])\n",
    "                x_row_gt.append(pre_updrs_iii_off[i])\n",
    "                x_row_lr.append(pre_updrs_iii_off[i])\n",
    "                fv_count = fv_count+1\n",
    "        print('Extracting features for subject',subject_id_corr[i],'and appending feature matrix with vector of length',fv_count,'with UPDRS score',pre_updrs_iii_off[i])\n",
    "                \n",
    "    X0_gt = np.array(x_row_gt)\n",
    "    X0_lr = np.array(x_row_lr)\n",
    "    np.save('/data/Ali/RadDBS-QSM/data/npy/rp/X0_gt_chh_rois_rp.npy',X0_gt)\n",
    "    np.save('/data/Ali/RadDBS-QSM/data/npy/rp/X0_lr_chh_rois_rp.npy',X0_lr)\n",
    "\n",
    "    K = np.asarray(keylib)\n",
    "    R = np.asarray(roi_names)\n",
    "    np.save('/data/Ali/RadDBS-QSM/data/npy/rp/K_chh_rp.npy',K)\n",
    "    np.save('/data/Ali/RadDBS-QSM/data/npy/rp/R_chh_rp.npy',R)\n",
    "\n",
    "    print('Saving ground truth feature vector')\n",
    "    with open('/data/Ali/RadDBS-QSM/data/npy/rp/Phi_mcl_gt_roi_chh_rp', 'wb') as fp:  \n",
    "        pickle.dump(Phi_gt, fp)\n",
    "    \n",
    "    print('Saving undersampled feature vector')\n",
    "    with open('/data/Ali/RadDBS-QSM/data/npy/rp/Phi_mcl_lr_roi_chh_rp', 'wb') as fp:  \n",
    "        pickle.dump(Phi_lr, fp)\n",
    "\n",
    "else:\n",
    "    X0_gt = np.load('/data/Ali/RadDBS-QSM/data/npy/rp/X0_gt_chh_rois_rp.npy')\n",
    "    X0_lr = np.load('/data/Ali/RadDBS-QSM/data/npy/rp/X0_lr_chh_rois_rp.npy')\n",
    "    K = np.load('/data/Ali/RadDBS-QSM/data/npy/rp/K_chh_rp.npy')\n",
    "    R = np.load('/data/Ali/RadDBS-QSM/data/npy/rp/R_chh_rp.npy')\n",
    "    n_rois = R.shape[0]-1\n",
    "    with open('/data/Ali/RadDBS-QSM/data/npy/rp/Phi_mcl_gt_roi_chh_rp', \"rb\") as fp:  \n",
    "        Phi_gt = pickle.load(fp)\n",
    "    \n",
    "    with open('/data/Ali/RadDBS-QSM/data/npy/rp/Phi_mcl_lr_roi_chh_rp', \"rb\") as fp:  \n",
    "        Phi_lr = pickle.load(fp)\n",
    "\n",
    "    "
   ]
  },
  {
   "cell_type": "code",
   "execution_count": 8,
   "metadata": {},
   "outputs": [],
   "source": [
    "n_features = 1596\n",
    "n_rois = 6\n",
    "X_all_c = X0_gt.reshape(n_cases,n_rois,n_features)[:,0:4,:]\n",
    "K_all_c = K.reshape(n_cases,n_rois,n_features-1)[:,0:4,:]\n",
    "K_all_c = np.char.add(K_all_c[0,:,:].reshape(-1,1),' ')\n",
    "R_all_c = np.repeat(R[1:5],n_features-1)\n",
    "K_all_c = np.char.add(np.squeeze(K_all_c),np.squeeze(R_all_c))\n",
    "K_all_c = np.append(K_all_c,['pre updrs']*5)\n",
    "R_all_c = np.append(R_all_c,['pre updrs']*5)\n",
    "K_all_c = np.append(K_all_c,['age'])\n",
    "R_all_c = np.append(R_all_c,['age'])\n",
    "K_all_c = np.append(K_all_c,['disease duration'])\n",
    "R_all_c = np.append(R_all_c,['disease duration'])\n",
    "K_all_c = np.append(K_all_c,['sex'])\n",
    "R_all_c = np.append(R_all_c,['sex'])\n",
    "# K_all_c = np.append(K_all_c,['ledd'])\n",
    "# R_all_c = np.append(R_all_c,['ledd'])"
   ]
  },
  {
   "cell_type": "code",
   "execution_count": 9,
   "metadata": {},
   "outputs": [],
   "source": [
    "n_cases = len(per_change)\n",
    "n_roisc = Phi_gt.__len__()/n_cases\n",
    "L = int(len(X0_gt)/n_cases)\n",
    "n_features = int(L/n_rois)\n",
    "subsc = subject_id_corr\n",
    "pre_updrs_off = pre_updrs_iii_off\n",
    "results_ls_aug = np.zeros_like(per_change)\n",
    "\n",
    "results_lgr_aug = np.zeros_like(per_change)\n",
    "results_lgrp_aug = np.zeros_like(per_change)\n",
    "results_ls = np.zeros_like(per_change)\n",
    "results_lgr = np.zeros_like(per_change)\n",
    "results_lgrp = np.zeros_like(per_change)\n",
    "r = 1"
   ]
  },
  {
   "cell_type": "code",
   "execution_count": 10,
   "metadata": {},
   "outputs": [],
   "source": [
    "os.environ['PYTHONWARNINGS']='ignore'\n",
    "warnings.filterwarnings(\"ignore\")\n",
    "ns = 10\n",
    "results_ls_aug = np.zeros((ns,len(per_change)))\n",
    "results_ls_wbs = np.zeros((ns,len(per_change)))\n",
    "results_ls_smogn = np.zeros((ns,len(per_change)))"
   ]
  },
  {
   "cell_type": "code",
   "execution_count": 11,
   "metadata": {
    "tags": [
     "raises-exception"
    ]
   },
   "outputs": [
    {
     "name": "stdout",
     "output_type": "stream",
     "text": [
      "Estimator predicts 0.7425 for case with 0.72 and selected CV 4 and 3 minority cases using random state 1 and sample size (36, 3388)\n",
      "Estimator predicts 0.5192 for case with 0.47 and selected CV 5 and 3 minority cases using random state 1 and sample size (36, 388)\n",
      "Estimator predicts 0.8663 for case with 0.69 and selected CV 3 and 3 minority cases using random state 1 and sample size (36, 388)\n",
      "Estimator predicts 0.7105 for case with 0.42 and selected CV 4 and 3 minority cases using random state 1 and sample size (36, 3388)\n",
      "Estimator predicts 0.5862 for case with 0.15 and selected CV 3 and 2 minority cases using random state 1 and sample size (36, 6388)\n",
      "Estimator predicts 0.4844 for case with 0.44 and selected CV 4 and 3 minority cases using random state 1 and sample size (36, 388)\n",
      "Estimator predicts 0.6951 for case with 0.88 and selected CV 4 and 3 minority cases using random state 1 and sample size (36, 3388)\n",
      "Estimator predicts 0.5759 for case with 0.4 and selected CV 3 and 3 minority cases using random state 1 and sample size (36, 6388)\n",
      "Estimator predicts 0.5992 for case with 0.6 and selected CV 5 and 3 minority cases using random state 1 and sample size (36, 2388)\n",
      "Estimator predicts 0.5182 for case with 0.81 and selected CV 3 and 3 minority cases using random state 1 and sample size (36, 3388)\n",
      "Estimator predicts 0.6956 for case with 0.64 and selected CV 5 and 3 minority cases using random state 1 and sample size (36, 388)\n",
      "Estimator predicts 0.5325 for case with 0.72 and selected CV 3 and 3 minority cases using random state 1 and sample size (36, 2388)\n",
      "Estimator predicts 0.5855 for case with 0.31 and selected CV 4 and 3 minority cases using random state 1 and sample size (36, 5388)\n",
      "Estimator predicts 0.5249 for case with 0.68 and selected CV 4 and 3 minority cases using random state 1 and sample size (36, 1388)\n",
      "Estimator predicts 0.4768 for case with 0.34 and selected CV 5 and 3 minority cases using random state 1 and sample size (36, 5388)\n",
      "Estimator predicts 0.4516 for case with 0.59 and selected CV 4 and 3 minority cases using random state 1 and sample size (36, 2388)\n",
      "Estimator predicts 0.6606 for case with 0.94 and selected CV 5 and 3 minority cases using random state 1 and sample size (36, 1388)\n",
      "Estimator predicts 0.7698 for case with 0.84 and selected CV 5 and 3 minority cases using random state 1 and sample size (36, 388)\n",
      "Estimator predicts 0.4544 for case with 0.1 and selected CV 5 and 2 minority cases using random state 1 and sample size (36, 5388)\n",
      "Estimator predicts 0.4849 for case with 0.41 and selected CV 4 and 3 minority cases using random state 1 and sample size (36, 388)\n",
      "Estimator predicts 0.6311 for case with 0.57 and selected CV 3 and 3 minority cases using random state 1 and sample size (36, 4388)\n",
      "Estimator predicts 0.689 for case with 0.66 and selected CV 3 and 3 minority cases using random state 1 and sample size (36, 388)\n",
      "Estimator predicts 0.5985 for case with 0.63 and selected CV 5 and 3 minority cases using random state 1 and sample size (36, 1388)\n",
      "Estimator predicts 0.5773 for case with 0.47 and selected CV 4 and 3 minority cases using random state 1 and sample size (36, 3388)\n",
      "Estimator predicts 0.3694 for case with 0.28 and selected CV 3 and 2 minority cases using random state 1 and sample size (36, 1388)\n",
      "Estimator predicts 0.6502 for case with 0.59 and selected CV 3 and 3 minority cases using random state 1 and sample size (36, 388)\n",
      "Estimator predicts 0.6894 for case with 0.53 and selected CV 3 and 3 minority cases using random state 1 and sample size (36, 2388)\n",
      "Estimator predicts 0.6756 for case with 0.86 and selected CV 4 and 3 minority cases using random state 1 and sample size (36, 2388)\n",
      "Estimator predicts 0.4743 for case with 0.48 and selected CV 5 and 3 minority cases using random state 1 and sample size (36, 1388)\n",
      "Estimator predicts 0.6493 for case with 0.66 and selected CV 4 and 3 minority cases using random state 1 and sample size (36, 1388)\n",
      "Estimator predicts 0.5529 for case with 0.33 and selected CV 4 and 3 minority cases using random state 1 and sample size (36, 388)\n",
      "Estimator predicts 0.3053 for case with 0.49 and selected CV 3 and 3 minority cases using random state 1 and sample size (36, 2388)\n",
      "Estimator predicts 0.7194 for case with 0.78 and selected CV 5 and 3 minority cases using random state 1 and sample size (36, 3388)\n",
      "Estimator predicts 0.536 for case with 0.81 and selected CV 3 and 3 minority cases using random state 1 and sample size (36, 1388)\n",
      "Estimator predicts 0.6606 for case with 0.71 and selected CV 4 and 3 minority cases using random state 1 and sample size (36, 4388)\n",
      "Estimator predicts 0.463 for case with 0.32 and selected CV 5 and 3 minority cases using random state 1 and sample size (36, 1388)\n",
      "Estimator predicts 0.7173 for case with 0.83 and selected CV 3 and 3 minority cases using random state 1 and sample size (36, 1388)\n",
      "Estimator predicts 0.7842 for case with 0.72 and selected CV 4 and 86 minority cases using random state 1 and sample size (418, 6388)\n",
      "Estimator predicts 0.5942 for case with 0.47 and selected CV 4 and 83 minority cases using random state 1 and sample size (418, 388)\n",
      "Estimator predicts 0.9052 for case with 0.69 and selected CV 4 and 86 minority cases using random state 1 and sample size (418, 388)\n",
      "Estimator predicts 0.7326 for case with 0.42 and selected CV 5 and 83 minority cases using random state 1 and sample size (418, 6388)\n",
      "Estimator predicts 0.2858 for case with 0.15 and selected CV 2 and 163 minority cases using random state 1 and sample size (429, 388)\n",
      "Estimator predicts 0.5768 for case with 0.44 and selected CV 5 and 83 minority cases using random state 1 and sample size (418, 6388)\n",
      "Estimator predicts 0.8324 for case with 0.88 and selected CV 5 and 84 minority cases using random state 1 and sample size (418, 6388)\n",
      "Estimator predicts 0.5085 for case with 0.4 and selected CV 5 and 82 minority cases using random state 1 and sample size (418, 6388)\n",
      "Estimator predicts 0.673 for case with 0.6 and selected CV 5 and 85 minority cases using random state 1 and sample size (418, 6388)\n",
      "Estimator predicts 0.604 for case with 0.81 and selected CV 4 and 86 minority cases using random state 1 and sample size (418, 388)\n",
      "Estimator predicts 0.8418 for case with 0.64 and selected CV 2 and 85 minority cases using random state 1 and sample size (418, 6388)\n",
      "Estimator predicts 0.6858 for case with 0.72 and selected CV 5 and 86 minority cases using random state 1 and sample size (418, 6388)\n",
      "Estimator predicts 0.7092 for case with 0.31 and selected CV 5 and 81 minority cases using random state 1 and sample size (418, 388)\n",
      "Estimator predicts 0.5955 for case with 0.68 and selected CV 4 and 86 minority cases using random state 1 and sample size (418, 6388)\n",
      "Estimator predicts 0.4701 for case with 0.34 and selected CV 5 and 82 minority cases using random state 1 and sample size (418, 6388)\n",
      "Estimator predicts 0.5578 for case with 0.59 and selected CV 5 and 85 minority cases using random state 1 and sample size (418, 6388)\n",
      "Estimator predicts 0.7756 for case with 0.94 and selected CV 2 and 83 minority cases using random state 1 and sample size (418, 6388)\n",
      "Estimator predicts 0.7752 for case with 0.84 and selected CV 5 and 86 minority cases using random state 1 and sample size (418, 6388)\n",
      "Estimator predicts 0.0911 for case with 0.1 and selected CV 3 and 163 minority cases using random state 1 and sample size (429, 6388)\n",
      "Estimator predicts 0.5457 for case with 0.41 and selected CV 4 and 83 minority cases using random state 1 and sample size (418, 4388)\n",
      "Estimator predicts 0.6666 for case with 0.57 and selected CV 5 and 84 minority cases using random state 1 and sample size (418, 388)\n",
      "Estimator predicts 0.8292 for case with 0.66 and selected CV 5 and 85 minority cases using random state 1 and sample size (418, 388)\n",
      "Estimator predicts 0.7038 for case with 0.63 and selected CV 5 and 85 minority cases using random state 1 and sample size (418, 6388)\n",
      "Estimator predicts 0.6854 for case with 0.47 and selected CV 5 and 83 minority cases using random state 1 and sample size (418, 6388)\n",
      "Estimator predicts 0.1781 for case with 0.28 and selected CV 3 and 169 minority cases using random state 1 and sample size (429, 6388)\n",
      "Estimator predicts 0.7285 for case with 0.59 and selected CV 4 and 85 minority cases using random state 1 and sample size (418, 388)\n",
      "Estimator predicts 0.7299 for case with 0.53 and selected CV 5 and 84 minority cases using random state 1 and sample size (418, 6388)\n",
      "Estimator predicts 0.7027 for case with 0.86 and selected CV 4 and 84 minority cases using random state 1 and sample size (418, 4388)\n",
      "Estimator predicts 0.562 for case with 0.48 and selected CV 5 and 83 minority cases using random state 1 and sample size (418, 6388)\n",
      "Estimator predicts 0.735 for case with 0.66 and selected CV 5 and 85 minority cases using random state 1 and sample size (418, 6388)\n",
      "Estimator predicts 0.5861 for case with 0.33 and selected CV 5 and 82 minority cases using random state 1 and sample size (418, 388)\n",
      "Estimator predicts 0.5323 for case with 0.49 and selected CV 4 and 84 minority cases using random state 1 and sample size (418, 5388)\n",
      "Estimator predicts 0.8301 for case with 0.78 and selected CV 5 and 86 minority cases using random state 1 and sample size (418, 6388)\n",
      "Estimator predicts 0.6807 for case with 0.81 and selected CV 5 and 86 minority cases using random state 1 and sample size (418, 388)\n",
      "Estimator predicts 0.794 for case with 0.71 and selected CV 5 and 86 minority cases using random state 1 and sample size (418, 388)\n",
      "Estimator predicts 0.6546 for case with 0.32 and selected CV 4 and 82 minority cases using random state 1 and sample size (418, 388)\n",
      "Estimator predicts 0.7241 for case with 0.83 and selected CV 5 and 86 minority cases using random state 1 and sample size (418, 388)\n",
      "Prior to SMOGN sampling, mean is 2.254216974343621e-15 standard deviation is 0.9428736102783335\n"
     ]
    },
    {
     "name": "stderr",
     "output_type": "stream",
     "text": [
      "dist_matrix: 100%|##########| 15/15 [00:17<00:00,  1.19s/it]\n",
      "r_index: 100%|##########| 2/2 [00:01<00:00,  1.05it/s]\n"
     ]
    },
    {
     "name": "stdout",
     "output_type": "stream",
     "text": [
      "Estimator predicts 0.7322 for case with 0.72 and selected CV 4 and 7 minority cases using random state 1 and sample size (56, 6388)\n",
      "Prior to SMOGN sampling, mean is 4.618428910564806e-15 standard deviation is 0.9428736102783335\n"
     ]
    },
    {
     "name": "stderr",
     "output_type": "stream",
     "text": [
      "dist_matrix: 100%|##########| 14/14 [00:15<00:00,  1.09s/it]\n",
      "r_index: 100%|##########| 4/4 [00:04<00:00,  1.07s/it]\n"
     ]
    },
    {
     "name": "stdout",
     "output_type": "stream",
     "text": [
      "Estimator predicts 0.5675 for case with 0.47 and selected CV 3 and 6 minority cases using random state 1 and sample size (58, 388)\n",
      "Prior to SMOGN sampling, mean is 1.0984665406379618e-15 standard deviation is 0.9428736102783335\n"
     ]
    },
    {
     "name": "stderr",
     "output_type": "stream",
     "text": [
      "dist_matrix: 100%|##########| 15/15 [00:17<00:00,  1.18s/it]\n",
      "r_index: 100%|##########| 2/2 [00:01<00:00,  1.03it/s]\n"
     ]
    },
    {
     "name": "stdout",
     "output_type": "stream",
     "text": [
      "Estimator predicts 0.8227 for case with 0.69 and selected CV 5 and 6 minority cases using random state 1 and sample size (56, 388)\n",
      "Prior to SMOGN sampling, mean is 3.877754970640942e-15 standard deviation is 0.9427075675526859\n"
     ]
    },
    {
     "name": "stderr",
     "output_type": "stream",
     "text": [
      "dist_matrix: 100%|##########| 14/14 [00:15<00:00,  1.12s/it]\n",
      "r_index: 100%|##########| 4/4 [00:03<00:00,  1.01it/s]\n"
     ]
    },
    {
     "name": "stdout",
     "output_type": "stream",
     "text": [
      "Estimator predicts 0.5122 for case with 0.42 and selected CV 4 and 6 minority cases using random state 1 and sample size (58, 388)\n",
      "Prior to SMOGN sampling, mean is 3.4877054204324126e-15 standard deviation is 0.9428736102783335\n"
     ]
    },
    {
     "name": "stderr",
     "output_type": "stream",
     "text": [
      "dist_matrix: 100%|##########| 14/14 [00:15<00:00,  1.08s/it]\n",
      "r_index: 100%|##########| 4/4 [00:03<00:00,  1.02it/s]\n"
     ]
    },
    {
     "name": "stdout",
     "output_type": "stream",
     "text": [
      "Estimator predicts 0.4591 for case with 0.15 and selected CV 2 and 4 minority cases using random state 1 and sample size (58, 1388)\n",
      "Prior to SMOGN sampling, mean is 2.9073275092222564e-15 standard deviation is 0.9428736102783335\n"
     ]
    },
    {
     "name": "stderr",
     "output_type": "stream",
     "text": [
      "dist_matrix: 100%|##########| 14/14 [00:15<00:00,  1.10s/it]\n",
      "r_index: 100%|##########| 4/4 [00:04<00:00,  1.02s/it]\n"
     ]
    },
    {
     "name": "stdout",
     "output_type": "stream",
     "text": [
      "Estimator predicts 0.5577 for case with 0.44 and selected CV 3 and 6 minority cases using random state 1 and sample size (58, 1388)\n",
      "Prior to SMOGN sampling, mean is 4.831559597933187e-15 standard deviation is 0.9428736102783334\n"
     ]
    },
    {
     "name": "stderr",
     "output_type": "stream",
     "text": [
      "dist_matrix: 100%|##########| 15/15 [00:17<00:00,  1.17s/it]\n",
      "r_index: 100%|##########| 2/2 [00:01<00:00,  1.01it/s]\n"
     ]
    },
    {
     "name": "stdout",
     "output_type": "stream",
     "text": [
      "Estimator predicts 0.7541 for case with 0.88 and selected CV 2 and 6 minority cases using random state 1 and sample size (56, 1388)\n",
      "Prior to SMOGN sampling, mean is 2.7755807346587927e-15 standard deviation is 0.9428736102783335\n"
     ]
    },
    {
     "name": "stderr",
     "output_type": "stream",
     "text": [
      "dist_matrix: 100%|##########| 14/14 [00:14<00:00,  1.06s/it]\n",
      "r_index: 100%|##########| 4/4 [00:03<00:00,  1.00it/s]\n"
     ]
    },
    {
     "name": "stdout",
     "output_type": "stream",
     "text": [
      "Estimator predicts 0.4412 for case with 0.4 and selected CV 2 and 6 minority cases using random state 1 and sample size (58, 6388)\n",
      "Prior to SMOGN sampling, mean is 3.5947342260346265e-15 standard deviation is 0.9428736102783334\n"
     ]
    },
    {
     "name": "stderr",
     "output_type": "stream",
     "text": [
      "dist_matrix: 100%|##########| 15/15 [00:17<00:00,  1.18s/it]\n",
      "r_index: 100%|##########| 2/2 [00:01<00:00,  1.07it/s]\n"
     ]
    },
    {
     "name": "stdout",
     "output_type": "stream",
     "text": [
      "Estimator predicts 0.6056 for case with 0.6 and selected CV 3 and 6 minority cases using random state 1 and sample size (56, 2388)\n",
      "Prior to SMOGN sampling, mean is 4.197852668689133e-15 standard deviation is 0.9428736102783337\n"
     ]
    },
    {
     "name": "stderr",
     "output_type": "stream",
     "text": [
      "dist_matrix: 100%|##########| 15/15 [00:16<00:00,  1.13s/it]\n",
      "r_index: 100%|##########| 2/2 [00:02<00:00,  1.01s/it]\n"
     ]
    },
    {
     "name": "stdout",
     "output_type": "stream",
     "text": [
      "Estimator predicts 0.5146 for case with 0.81 and selected CV 4 and 6 minority cases using random state 1 and sample size (56, 1388)\n",
      "Prior to SMOGN sampling, mean is 3.3461332532068517e-15 standard deviation is 0.9428736102783333\n"
     ]
    },
    {
     "name": "stderr",
     "output_type": "stream",
     "text": [
      "dist_matrix: 100%|##########| 15/15 [00:17<00:00,  1.18s/it]\n",
      "r_index: 100%|##########| 2/2 [00:01<00:00,  1.02it/s]\n"
     ]
    },
    {
     "name": "stdout",
     "output_type": "stream",
     "text": [
      "Estimator predicts 0.766 for case with 0.64 and selected CV 4 and 6 minority cases using random state 1 and sample size (56, 6388)\n",
      "Prior to SMOGN sampling, mean is 2.9586172948168506e-15 standard deviation is 0.9428736102783334\n"
     ]
    },
    {
     "name": "stderr",
     "output_type": "stream",
     "text": [
      "dist_matrix: 100%|##########| 15/15 [00:18<00:00,  1.21s/it]\n",
      "r_index: 100%|##########| 2/2 [00:02<00:00,  1.08s/it]\n"
     ]
    },
    {
     "name": "stdout",
     "output_type": "stream",
     "text": [
      "Estimator predicts 0.6374 for case with 0.72 and selected CV 3 and 6 minority cases using random state 1 and sample size (56, 2388)\n",
      "Prior to SMOGN sampling, mean is 4.9981587087320136e-15 standard deviation is 0.9428736102783335\n"
     ]
    },
    {
     "name": "stderr",
     "output_type": "stream",
     "text": [
      "dist_matrix: 100%|##########| 14/14 [00:15<00:00,  1.12s/it]\n",
      "r_index: 100%|##########| 4/4 [00:03<00:00,  1.00it/s]\n"
     ]
    },
    {
     "name": "stdout",
     "output_type": "stream",
     "text": [
      "Estimator predicts 0.6733 for case with 0.31 and selected CV 2 and 6 minority cases using random state 1 and sample size (58, 4388)\n",
      "Prior to SMOGN sampling, mean is 3.0597137878683644e-15 standard deviation is 0.9428736102783335\n"
     ]
    },
    {
     "name": "stderr",
     "output_type": "stream",
     "text": [
      "dist_matrix: 100%|##########| 15/15 [00:18<00:00,  1.25s/it]\n",
      "r_index: 100%|##########| 2/2 [00:02<00:00,  1.06s/it]\n"
     ]
    },
    {
     "name": "stdout",
     "output_type": "stream",
     "text": [
      "Estimator predicts 0.4837 for case with 0.68 and selected CV 5 and 6 minority cases using random state 1 and sample size (56, 1388)\n",
      "Prior to SMOGN sampling, mean is 3.050691729197508e-15 standard deviation is 0.9428736102783334\n"
     ]
    },
    {
     "name": "stderr",
     "output_type": "stream",
     "text": [
      "dist_matrix: 100%|##########| 14/14 [00:14<00:00,  1.06s/it]\n",
      "r_index: 100%|##########| 4/4 [00:03<00:00,  1.01it/s]\n"
     ]
    },
    {
     "name": "stdout",
     "output_type": "stream",
     "text": [
      "Estimator predicts 0.4263 for case with 0.34 and selected CV 3 and 6 minority cases using random state 1 and sample size (58, 6388)\n",
      "Prior to SMOGN sampling, mean is 2.9869811641998853e-15 standard deviation is 0.9428736102783335\n"
     ]
    },
    {
     "name": "stderr",
     "output_type": "stream",
     "text": [
      "dist_matrix: 100%|##########| 15/15 [00:17<00:00,  1.15s/it]\n",
      "r_index: 100%|##########| 2/2 [00:01<00:00,  1.05it/s]\n"
     ]
    },
    {
     "name": "stdout",
     "output_type": "stream",
     "text": [
      "Estimator predicts 0.4521 for case with 0.59 and selected CV 3 and 6 minority cases using random state 1 and sample size (56, 2388)\n",
      "Prior to SMOGN sampling, mean is 3.306831682558464e-15 standard deviation is 0.9428736102783336\n"
     ]
    },
    {
     "name": "stderr",
     "output_type": "stream",
     "text": [
      "dist_matrix: 100%|##########| 14/14 [00:15<00:00,  1.14s/it]\n",
      "r_index: 100%|##########| 4/4 [00:03<00:00,  1.04it/s]\n"
     ]
    },
    {
     "name": "stdout",
     "output_type": "stream",
     "text": [
      "Estimator predicts 0.585 for case with 0.94 and selected CV 5 and 6 minority cases using random state 1 and sample size (58, 3388)\n",
      "Prior to SMOGN sampling, mean is 2.5989090515082563e-15 standard deviation is 0.9428736102783336\n"
     ]
    },
    {
     "name": "stderr",
     "output_type": "stream",
     "text": [
      "dist_matrix: 100%|##########| 15/15 [00:17<00:00,  1.17s/it]\n",
      "r_index: 100%|##########| 2/2 [00:02<00:00,  1.07s/it]\n"
     ]
    },
    {
     "name": "stdout",
     "output_type": "stream",
     "text": [
      "Estimator predicts 0.7119 for case with 0.84 and selected CV 5 and 6 minority cases using random state 1 and sample size (56, 2388)\n",
      "Prior to SMOGN sampling, mean is 1.236207422674529e-15 standard deviation is 0.9428736102783336\n"
     ]
    },
    {
     "name": "stderr",
     "output_type": "stream",
     "text": [
      "dist_matrix: 100%|##########| 15/15 [00:18<00:00,  1.22s/it]\n",
      "r_index: 100%|##########| 2/2 [00:02<00:00,  1.13s/it]\n"
     ]
    },
    {
     "name": "stdout",
     "output_type": "stream",
     "text": [
      "Estimator predicts 0.2529 for case with 0.1 and selected CV 4 and 4 minority cases using random state 1 and sample size (56, 5388)\n",
      "Prior to SMOGN sampling, mean is 3.4126863846350182e-15 standard deviation is 0.9428736102783333\n"
     ]
    },
    {
     "name": "stderr",
     "output_type": "stream",
     "text": [
      "dist_matrix: 100%|##########| 14/14 [00:15<00:00,  1.10s/it]\n",
      "r_index: 100%|##########| 4/4 [00:04<00:00,  1.01s/it]\n"
     ]
    },
    {
     "name": "stdout",
     "output_type": "stream",
     "text": [
      "Estimator predicts 0.6172 for case with 0.41 and selected CV 3 and 6 minority cases using random state 1 and sample size (58, 388)\n",
      "Prior to SMOGN sampling, mean is 4.274972731848234e-15 standard deviation is 0.9428736102783336\n"
     ]
    },
    {
     "name": "stderr",
     "output_type": "stream",
     "text": [
      "dist_matrix: 100%|##########| 15/15 [00:18<00:00,  1.26s/it]\n",
      "r_index: 100%|##########| 2/2 [00:02<00:00,  1.03s/it]\n"
     ]
    },
    {
     "name": "stdout",
     "output_type": "stream",
     "text": [
      "Estimator predicts 0.6108 for case with 0.57 and selected CV 2 and 6 minority cases using random state 1 and sample size (56, 3388)\n",
      "Prior to SMOGN sampling, mean is 2.6172621434619846e-15 standard deviation is 0.9428736102783335\n"
     ]
    },
    {
     "name": "stderr",
     "output_type": "stream",
     "text": [
      "dist_matrix: 100%|##########| 15/15 [00:17<00:00,  1.18s/it]\n",
      "r_index: 100%|##########| 2/2 [00:01<00:00,  1.02it/s]\n"
     ]
    },
    {
     "name": "stdout",
     "output_type": "stream",
     "text": [
      "Estimator predicts 0.7419 for case with 0.66 and selected CV 2 and 6 minority cases using random state 1 and sample size (56, 3388)\n",
      "Prior to SMOGN sampling, mean is 1.4799883915548597e-15 standard deviation is 0.9428736102783335\n"
     ]
    },
    {
     "name": "stderr",
     "output_type": "stream",
     "text": [
      "dist_matrix: 100%|##########| 15/15 [00:17<00:00,  1.15s/it]\n",
      "r_index: 100%|##########| 2/2 [00:02<00:00,  1.08s/it]\n"
     ]
    },
    {
     "name": "stdout",
     "output_type": "stream",
     "text": [
      "Estimator predicts 0.6096 for case with 0.63 and selected CV 4 and 6 minority cases using random state 1 and sample size (56, 4388)\n",
      "Prior to SMOGN sampling, mean is 3.78222002060571e-15 standard deviation is 0.9428736102783333\n"
     ]
    },
    {
     "name": "stderr",
     "output_type": "stream",
     "text": [
      "dist_matrix: 100%|##########| 14/14 [00:15<00:00,  1.11s/it]\n",
      "r_index: 100%|##########| 4/4 [00:03<00:00,  1.01it/s]\n"
     ]
    },
    {
     "name": "stdout",
     "output_type": "stream",
     "text": [
      "Estimator predicts 0.6209 for case with 0.47 and selected CV 5 and 6 minority cases using random state 1 and sample size (58, 1388)\n",
      "Prior to SMOGN sampling, mean is 1.9759544387623463e-15 standard deviation is 0.9428736102783336\n"
     ]
    },
    {
     "name": "stderr",
     "output_type": "stream",
     "text": [
      "dist_matrix: 100%|##########| 14/14 [00:14<00:00,  1.04s/it]\n",
      "r_index: 100%|##########| 4/4 [00:04<00:00,  1.14s/it]\n"
     ]
    },
    {
     "name": "stdout",
     "output_type": "stream",
     "text": [
      "Estimator predicts 0.2977 for case with 0.28 and selected CV 2 and 4 minority cases using random state 1 and sample size (58, 6388)\n",
      "Prior to SMOGN sampling, mean is -9.57944887093254e-16 standard deviation is 0.9428736102783334\n"
     ]
    },
    {
     "name": "stderr",
     "output_type": "stream",
     "text": [
      "dist_matrix: 100%|##########| 15/15 [00:17<00:00,  1.18s/it]\n",
      "r_index: 100%|##########| 2/2 [00:02<00:00,  1.02s/it]\n"
     ]
    },
    {
     "name": "stdout",
     "output_type": "stream",
     "text": [
      "Estimator predicts 0.6609 for case with 0.59 and selected CV 2 and 6 minority cases using random state 1 and sample size (56, 2388)\n",
      "Prior to SMOGN sampling, mean is 1.061636766885699e-15 standard deviation is 0.9428736102783336\n"
     ]
    },
    {
     "name": "stderr",
     "output_type": "stream",
     "text": [
      "dist_matrix: 100%|##########| 15/15 [00:18<00:00,  1.20s/it]\n",
      "r_index: 100%|##########| 2/2 [00:02<00:00,  1.13s/it]\n"
     ]
    },
    {
     "name": "stdout",
     "output_type": "stream",
     "text": [
      "Estimator predicts 0.5834 for case with 0.53 and selected CV 2 and 6 minority cases using random state 1 and sample size (56, 1388)\n",
      "Prior to SMOGN sampling, mean is -1.2810087414167951e-16 standard deviation is 0.9428736102783336\n"
     ]
    },
    {
     "name": "stderr",
     "output_type": "stream",
     "text": [
      "dist_matrix: 100%|##########| 15/15 [00:18<00:00,  1.25s/it]\n",
      "r_index: 100%|##########| 2/2 [00:01<00:00,  1.01it/s]\n"
     ]
    },
    {
     "name": "stdout",
     "output_type": "stream",
     "text": [
      "Estimator predicts 0.6496 for case with 0.86 and selected CV 2 and 6 minority cases using random state 1 and sample size (56, 2388)\n",
      "Prior to SMOGN sampling, mean is 8.549327514472436e-16 standard deviation is 0.9428736102783335\n"
     ]
    },
    {
     "name": "stderr",
     "output_type": "stream",
     "text": [
      "dist_matrix: 100%|##########| 14/14 [00:16<00:00,  1.17s/it]\n",
      "r_index: 100%|##########| 4/4 [00:03<00:00,  1.01it/s]\n"
     ]
    },
    {
     "name": "stdout",
     "output_type": "stream",
     "text": [
      "Estimator predicts 0.4577 for case with 0.48 and selected CV 5 and 6 minority cases using random state 1 and sample size (58, 388)\n",
      "Prior to SMOGN sampling, mean is 1.7654809330573003e-15 standard deviation is 0.9428736102783336\n"
     ]
    },
    {
     "name": "stderr",
     "output_type": "stream",
     "text": [
      "dist_matrix: 100%|##########| 15/15 [00:18<00:00,  1.26s/it]\n",
      "r_index: 100%|##########| 2/2 [00:01<00:00,  1.01it/s]\n"
     ]
    },
    {
     "name": "stdout",
     "output_type": "stream",
     "text": [
      "Estimator predicts 0.6351 for case with 0.66 and selected CV 2 and 6 minority cases using random state 1 and sample size (56, 3388)\n",
      "Prior to SMOGN sampling, mean is 1.9869539349501027e-15 standard deviation is 0.9428736102783336\n"
     ]
    },
    {
     "name": "stderr",
     "output_type": "stream",
     "text": [
      "dist_matrix: 100%|##########| 14/14 [00:16<00:00,  1.18s/it]\n",
      "r_index: 100%|##########| 4/4 [00:03<00:00,  1.00it/s]\n"
     ]
    },
    {
     "name": "stdout",
     "output_type": "stream",
     "text": [
      "Estimator predicts 0.4851 for case with 0.33 and selected CV 4 and 6 minority cases using random state 1 and sample size (58, 388)\n",
      "Prior to SMOGN sampling, mean is 2.5607815843855277e-15 standard deviation is 0.9428736102783335\n"
     ]
    },
    {
     "name": "stderr",
     "output_type": "stream",
     "text": [
      "dist_matrix: 100%|##########| 14/14 [00:16<00:00,  1.15s/it]\n",
      "r_index: 100%|##########| 4/4 [00:04<00:00,  1.04s/it]\n"
     ]
    },
    {
     "name": "stdout",
     "output_type": "stream",
     "text": [
      "Estimator predicts 0.4937 for case with 0.49 and selected CV 4 and 6 minority cases using random state 1 and sample size (58, 1388)\n",
      "Prior to SMOGN sampling, mean is -4.688998711949176e-16 standard deviation is 0.9391305482199347\n"
     ]
    },
    {
     "name": "stderr",
     "output_type": "stream",
     "text": [
      "dist_matrix: 100%|##########| 15/15 [00:18<00:00,  1.26s/it]\n",
      "r_index: 100%|##########| 2/2 [00:02<00:00,  1.37s/it]\n"
     ]
    },
    {
     "name": "stdout",
     "output_type": "stream",
     "text": [
      "Estimator predicts 0.7481 for case with 0.78 and selected CV 4 and 6 minority cases using random state 1 and sample size (56, 2388)\n",
      "Prior to SMOGN sampling, mean is 1.2628410342302761e-15 standard deviation is 0.9428736102783334\n"
     ]
    },
    {
     "name": "stderr",
     "output_type": "stream",
     "text": [
      "dist_matrix: 100%|##########| 15/15 [00:21<00:00,  1.42s/it]\n",
      "r_index: 100%|##########| 2/2 [00:02<00:00,  1.33s/it]\n"
     ]
    },
    {
     "name": "stdout",
     "output_type": "stream",
     "text": [
      "Estimator predicts 0.6254 for case with 0.81 and selected CV 3 and 6 minority cases using random state 1 and sample size (56, 1388)\n",
      "Prior to SMOGN sampling, mean is -1.6455987835952367e-16 standard deviation is 0.9428736102783335\n"
     ]
    },
    {
     "name": "stderr",
     "output_type": "stream",
     "text": [
      "dist_matrix: 100%|##########| 15/15 [00:20<00:00,  1.36s/it]\n",
      "r_index: 100%|##########| 2/2 [00:02<00:00,  1.25s/it]\n"
     ]
    },
    {
     "name": "stdout",
     "output_type": "stream",
     "text": [
      "Estimator predicts 0.6819 for case with 0.71 and selected CV 3 and 6 minority cases using random state 1 and sample size (56, 388)\n",
      "Prior to SMOGN sampling, mean is 1.430923223166778e-15 standard deviation is 0.9428736102783336\n"
     ]
    },
    {
     "name": "stderr",
     "output_type": "stream",
     "text": [
      "dist_matrix: 100%|##########| 14/14 [00:17<00:00,  1.28s/it]\n",
      "r_index: 100%|##########| 4/4 [00:05<00:00,  1.26s/it]\n"
     ]
    },
    {
     "name": "stdout",
     "output_type": "stream",
     "text": [
      "Estimator predicts 0.589 for case with 0.32 and selected CV 5 and 6 minority cases using random state 1 and sample size (58, 1388)\n",
      "Prior to SMOGN sampling, mean is 1.9922682982767715e-16 standard deviation is 0.9428736102783337\n"
     ]
    },
    {
     "name": "stderr",
     "output_type": "stream",
     "text": [
      "dist_matrix: 100%|##########| 15/15 [00:20<00:00,  1.36s/it]\n",
      "r_index: 100%|##########| 2/2 [00:02<00:00,  1.09s/it]\n"
     ]
    },
    {
     "name": "stdout",
     "output_type": "stream",
     "text": [
      "Estimator predicts 0.7211 for case with 0.83 and selected CV 4 and 6 minority cases using random state 1 and sample size (56, 2388)\n",
      "Estimator predicts 0.7425 for case with 0.72 and selected CV 4 and 3 minority cases using random state 2 and sample size (36, 3388)\n",
      "Estimator predicts 0.5192 for case with 0.47 and selected CV 5 and 3 minority cases using random state 2 and sample size (36, 388)\n",
      "Estimator predicts 0.8663 for case with 0.69 and selected CV 3 and 3 minority cases using random state 2 and sample size (36, 388)\n",
      "Estimator predicts 0.7105 for case with 0.42 and selected CV 4 and 3 minority cases using random state 2 and sample size (36, 3388)\n",
      "Estimator predicts 0.5862 for case with 0.15 and selected CV 3 and 2 minority cases using random state 2 and sample size (36, 6388)\n",
      "Estimator predicts 0.4844 for case with 0.44 and selected CV 4 and 3 minority cases using random state 2 and sample size (36, 388)\n",
      "Estimator predicts 0.6951 for case with 0.88 and selected CV 4 and 3 minority cases using random state 2 and sample size (36, 3388)\n",
      "Estimator predicts 0.5759 for case with 0.4 and selected CV 3 and 3 minority cases using random state 2 and sample size (36, 6388)\n",
      "Estimator predicts 0.5992 for case with 0.6 and selected CV 5 and 3 minority cases using random state 2 and sample size (36, 2388)\n",
      "Estimator predicts 0.5182 for case with 0.81 and selected CV 3 and 3 minority cases using random state 2 and sample size (36, 3388)\n",
      "Estimator predicts 0.6956 for case with 0.64 and selected CV 5 and 3 minority cases using random state 2 and sample size (36, 388)\n",
      "Estimator predicts 0.5325 for case with 0.72 and selected CV 3 and 3 minority cases using random state 2 and sample size (36, 2388)\n",
      "Estimator predicts 0.5855 for case with 0.31 and selected CV 4 and 3 minority cases using random state 2 and sample size (36, 5388)\n",
      "Estimator predicts 0.5249 for case with 0.68 and selected CV 4 and 3 minority cases using random state 2 and sample size (36, 1388)\n",
      "Estimator predicts 0.4768 for case with 0.34 and selected CV 5 and 3 minority cases using random state 2 and sample size (36, 5388)\n",
      "Estimator predicts 0.4516 for case with 0.59 and selected CV 4 and 3 minority cases using random state 2 and sample size (36, 2388)\n",
      "Estimator predicts 0.6606 for case with 0.94 and selected CV 5 and 3 minority cases using random state 2 and sample size (36, 1388)\n",
      "Estimator predicts 0.7698 for case with 0.84 and selected CV 5 and 3 minority cases using random state 2 and sample size (36, 388)\n",
      "Estimator predicts 0.4544 for case with 0.1 and selected CV 5 and 2 minority cases using random state 2 and sample size (36, 5388)\n",
      "Estimator predicts 0.4849 for case with 0.41 and selected CV 4 and 3 minority cases using random state 2 and sample size (36, 388)\n",
      "Estimator predicts 0.6311 for case with 0.57 and selected CV 3 and 3 minority cases using random state 2 and sample size (36, 4388)\n",
      "Estimator predicts 0.689 for case with 0.66 and selected CV 3 and 3 minority cases using random state 2 and sample size (36, 388)\n",
      "Estimator predicts 0.5985 for case with 0.63 and selected CV 5 and 3 minority cases using random state 2 and sample size (36, 1388)\n",
      "Estimator predicts 0.5773 for case with 0.47 and selected CV 4 and 3 minority cases using random state 2 and sample size (36, 3388)\n",
      "Estimator predicts 0.3694 for case with 0.28 and selected CV 3 and 2 minority cases using random state 2 and sample size (36, 1388)\n",
      "Estimator predicts 0.6502 for case with 0.59 and selected CV 3 and 3 minority cases using random state 2 and sample size (36, 388)\n",
      "Estimator predicts 0.6894 for case with 0.53 and selected CV 3 and 3 minority cases using random state 2 and sample size (36, 2388)\n",
      "Estimator predicts 0.6756 for case with 0.86 and selected CV 4 and 3 minority cases using random state 2 and sample size (36, 2388)\n",
      "Estimator predicts 0.4743 for case with 0.48 and selected CV 5 and 3 minority cases using random state 2 and sample size (36, 1388)\n",
      "Estimator predicts 0.6493 for case with 0.66 and selected CV 4 and 3 minority cases using random state 2 and sample size (36, 1388)\n",
      "Estimator predicts 0.5529 for case with 0.33 and selected CV 4 and 3 minority cases using random state 2 and sample size (36, 388)\n",
      "Estimator predicts 0.3053 for case with 0.49 and selected CV 3 and 3 minority cases using random state 2 and sample size (36, 2388)\n",
      "Estimator predicts 0.7194 for case with 0.78 and selected CV 5 and 3 minority cases using random state 2 and sample size (36, 3388)\n",
      "Estimator predicts 0.536 for case with 0.81 and selected CV 3 and 3 minority cases using random state 2 and sample size (36, 1388)\n",
      "Estimator predicts 0.6606 for case with 0.71 and selected CV 4 and 3 minority cases using random state 2 and sample size (36, 4388)\n",
      "Estimator predicts 0.463 for case with 0.32 and selected CV 5 and 3 minority cases using random state 2 and sample size (36, 1388)\n",
      "Estimator predicts 0.7173 for case with 0.83 and selected CV 3 and 3 minority cases using random state 2 and sample size (36, 1388)\n",
      "Estimator predicts 0.5197 for case with 0.72 and selected CV 3 and 165 minority cases using random state 2 and sample size (418, 6388)\n",
      "Estimator predicts 0.3205 for case with 0.47 and selected CV 3 and 162 minority cases using random state 2 and sample size (418, 6388)\n",
      "Estimator predicts 0.6601 for case with 0.69 and selected CV 3 and 164 minority cases using random state 2 and sample size (418, 6388)\n",
      "Estimator predicts 0.501 for case with 0.42 and selected CV 3 and 161 minority cases using random state 2 and sample size (418, 6388)\n",
      "Estimator predicts 0.4734 for case with 0.15 and selected CV 3 and 111 minority cases using random state 2 and sample size (429, 6388)\n",
      "Estimator predicts 0.3223 for case with 0.44 and selected CV 3 and 161 minority cases using random state 2 and sample size (418, 6388)\n",
      "Estimator predicts 0.5858 for case with 0.88 and selected CV 3 and 165 minority cases using random state 2 and sample size (418, 6388)\n",
      "Estimator predicts 0.2371 for case with 0.4 and selected CV 3 and 161 minority cases using random state 2 and sample size (418, 6388)\n",
      "Estimator predicts 0.4016 for case with 0.6 and selected CV 3 and 164 minority cases using random state 2 and sample size (418, 6388)\n",
      "Estimator predicts 0.3814 for case with 0.81 and selected CV 2 and 166 minority cases using random state 2 and sample size (418, 388)\n",
      "Estimator predicts 0.6222 for case with 0.64 and selected CV 3 and 164 minority cases using random state 2 and sample size (418, 6388)\n",
      "Estimator predicts 0.4195 for case with 0.72 and selected CV 3 and 165 minority cases using random state 2 and sample size (418, 4388)\n",
      "Estimator predicts 0.4551 for case with 0.31 and selected CV 3 and 158 minority cases using random state 2 and sample size (418, 6388)\n",
      "Estimator predicts 0.3367 for case with 0.68 and selected CV 3 and 164 minority cases using random state 2 and sample size (418, 6388)\n",
      "Estimator predicts 0.1969 for case with 0.34 and selected CV 2 and 159 minority cases using random state 2 and sample size (418, 6388)\n",
      "Estimator predicts 0.306 for case with 0.59 and selected CV 2 and 164 minority cases using random state 2 and sample size (418, 388)\n",
      "Estimator predicts 0.5007 for case with 0.94 and selected CV 5 and 164 minority cases using random state 2 and sample size (418, 5388)\n",
      "Estimator predicts 0.5138 for case with 0.84 and selected CV 3 and 166 minority cases using random state 2 and sample size (418, 6388)\n",
      "Estimator predicts 0.2847 for case with 0.1 and selected CV 3 and 110 minority cases using random state 2 and sample size (429, 6388)\n",
      "Estimator predicts 0.2793 for case with 0.41 and selected CV 3 and 161 minority cases using random state 2 and sample size (418, 6388)\n",
      "Estimator predicts 0.4548 for case with 0.57 and selected CV 4 and 164 minority cases using random state 2 and sample size (418, 388)\n",
      "Estimator predicts 0.5664 for case with 0.66 and selected CV 5 and 164 minority cases using random state 2 and sample size (418, 6388)\n",
      "Estimator predicts 0.4375 for case with 0.63 and selected CV 3 and 164 minority cases using random state 2 and sample size (418, 6388)\n",
      "Estimator predicts 0.4306 for case with 0.47 and selected CV 3 and 162 minority cases using random state 2 and sample size (418, 6388)\n",
      "Estimator predicts 0.3937 for case with 0.28 and selected CV 4 and 118 minority cases using random state 2 and sample size (429, 6388)\n",
      "Estimator predicts 0.4901 for case with 0.59 and selected CV 3 and 164 minority cases using random state 2 and sample size (418, 6388)\n",
      "Estimator predicts 0.4413 for case with 0.53 and selected CV 3 and 162 minority cases using random state 2 and sample size (418, 6388)\n",
      "Estimator predicts 0.4352 for case with 0.86 and selected CV 3 and 165 minority cases using random state 2 and sample size (418, 6388)\n",
      "Estimator predicts 0.2829 for case with 0.48 and selected CV 3 and 162 minority cases using random state 2 and sample size (418, 6388)\n",
      "Estimator predicts 0.4665 for case with 0.66 and selected CV 5 and 164 minority cases using random state 2 and sample size (418, 6388)\n",
      "Estimator predicts 0.3722 for case with 0.33 and selected CV 3 and 159 minority cases using random state 2 and sample size (418, 5388)\n",
      "Estimator predicts 0.2784 for case with 0.49 and selected CV 3 and 162 minority cases using random state 2 and sample size (418, 6388)\n",
      "Estimator predicts 0.5698 for case with 0.78 and selected CV 2 and 166 minority cases using random state 2 and sample size (418, 388)\n",
      "Estimator predicts 0.4244 for case with 0.81 and selected CV 2 and 166 minority cases using random state 2 and sample size (418, 6388)\n",
      "Estimator predicts 0.5305 for case with 0.71 and selected CV 3 and 165 minority cases using random state 2 and sample size (418, 6388)\n",
      "Estimator predicts 0.2837 for case with 0.32 and selected CV 3 and 158 minority cases using random state 2 and sample size (418, 6388)\n",
      "Estimator predicts 0.5694 for case with 0.83 and selected CV 3 and 166 minority cases using random state 2 and sample size (418, 1388)\n",
      "Prior to SMOGN sampling, mean is 2.254216974343621e-15 standard deviation is 0.9428736102783335\n"
     ]
    },
    {
     "name": "stderr",
     "output_type": "stream",
     "text": [
      "dist_matrix: 100%|##########| 15/15 [00:15<00:00,  1.03s/it]\n",
      "r_index: 100%|##########| 2/2 [00:01<00:00,  1.07it/s]\n"
     ]
    },
    {
     "name": "stdout",
     "output_type": "stream",
     "text": [
      "Estimator predicts 0.6659 for case with 0.72 and selected CV 5 and 6 minority cases using random state 2 and sample size (56, 5388)\n",
      "Prior to SMOGN sampling, mean is 4.618428910564806e-15 standard deviation is 0.9428736102783335\n"
     ]
    },
    {
     "name": "stderr",
     "output_type": "stream",
     "text": [
      "dist_matrix: 100%|##########| 14/14 [00:13<00:00,  1.01it/s]\n",
      "r_index: 100%|##########| 4/4 [00:03<00:00,  1.04it/s]\n"
     ]
    },
    {
     "name": "stdout",
     "output_type": "stream",
     "text": [
      "Estimator predicts 0.5236 for case with 0.47 and selected CV 3 and 7 minority cases using random state 2 and sample size (58, 4388)\n",
      "Prior to SMOGN sampling, mean is 1.0984665406379618e-15 standard deviation is 0.9428736102783335\n"
     ]
    },
    {
     "name": "stderr",
     "output_type": "stream",
     "text": [
      "dist_matrix: 100%|##########| 15/15 [00:15<00:00,  1.01s/it]\n",
      "r_index: 100%|##########| 2/2 [00:01<00:00,  1.05it/s]\n"
     ]
    },
    {
     "name": "stdout",
     "output_type": "stream",
     "text": [
      "Estimator predicts 0.6844 for case with 0.69 and selected CV 3 and 7 minority cases using random state 2 and sample size (56, 388)\n",
      "Prior to SMOGN sampling, mean is 3.877754970640942e-15 standard deviation is 0.9427075675526859\n"
     ]
    },
    {
     "name": "stderr",
     "output_type": "stream",
     "text": [
      "dist_matrix: 100%|##########| 14/14 [00:13<00:00,  1.01it/s]\n",
      "r_index: 100%|##########| 4/4 [00:04<00:00,  1.01s/it]\n"
     ]
    },
    {
     "name": "stdout",
     "output_type": "stream",
     "text": [
      "Estimator predicts 0.5576 for case with 0.42 and selected CV 3 and 7 minority cases using random state 2 and sample size (58, 4388)\n",
      "Prior to SMOGN sampling, mean is 3.4877054204324126e-15 standard deviation is 0.9428736102783335\n"
     ]
    },
    {
     "name": "stderr",
     "output_type": "stream",
     "text": [
      "dist_matrix: 100%|##########| 14/14 [00:13<00:00,  1.01it/s]\n",
      "r_index: 100%|##########| 4/4 [00:03<00:00,  1.01it/s]\n"
     ]
    },
    {
     "name": "stdout",
     "output_type": "stream",
     "text": [
      "Estimator predicts 0.478 for case with 0.15 and selected CV 2 and 5 minority cases using random state 2 and sample size (58, 1388)\n",
      "Prior to SMOGN sampling, mean is 2.9073275092222564e-15 standard deviation is 0.9428736102783335\n"
     ]
    },
    {
     "name": "stderr",
     "output_type": "stream",
     "text": [
      "dist_matrix: 100%|##########| 14/14 [00:13<00:00,  1.03it/s]\n",
      "r_index: 100%|##########| 4/4 [00:03<00:00,  1.01it/s]\n"
     ]
    },
    {
     "name": "stdout",
     "output_type": "stream",
     "text": [
      "Estimator predicts 0.4962 for case with 0.44 and selected CV 4 and 8 minority cases using random state 2 and sample size (58, 1388)\n",
      "Prior to SMOGN sampling, mean is 4.831559597933187e-15 standard deviation is 0.9428736102783334\n"
     ]
    },
    {
     "name": "stderr",
     "output_type": "stream",
     "text": [
      "dist_matrix: 100%|##########| 15/15 [00:15<00:00,  1.04s/it]\n",
      "r_index: 100%|##########| 2/2 [00:01<00:00,  1.03it/s]\n"
     ]
    },
    {
     "name": "stdout",
     "output_type": "stream",
     "text": [
      "Estimator predicts 0.7864 for case with 0.88 and selected CV 5 and 7 minority cases using random state 2 and sample size (56, 388)\n",
      "Prior to SMOGN sampling, mean is 2.7755807346587927e-15 standard deviation is 0.9428736102783335\n"
     ]
    },
    {
     "name": "stderr",
     "output_type": "stream",
     "text": [
      "dist_matrix: 100%|##########| 14/14 [00:13<00:00,  1.03it/s]\n",
      "r_index: 100%|##########| 4/4 [00:03<00:00,  1.06it/s]\n"
     ]
    },
    {
     "name": "stdout",
     "output_type": "stream",
     "text": [
      "Estimator predicts 0.4192 for case with 0.4 and selected CV 2 and 7 minority cases using random state 2 and sample size (58, 2388)\n",
      "Prior to SMOGN sampling, mean is 3.5947342260346265e-15 standard deviation is 0.9428736102783334\n"
     ]
    },
    {
     "name": "stderr",
     "output_type": "stream",
     "text": [
      "dist_matrix: 100%|##########| 15/15 [00:16<00:00,  1.07s/it]\n",
      "r_index: 100%|##########| 2/2 [00:01<00:00,  1.05it/s]\n"
     ]
    },
    {
     "name": "stdout",
     "output_type": "stream",
     "text": [
      "Estimator predicts 0.6347 for case with 0.6 and selected CV 2 and 7 minority cases using random state 2 and sample size (56, 388)\n",
      "Prior to SMOGN sampling, mean is 4.197852668689133e-15 standard deviation is 0.9428736102783337\n"
     ]
    },
    {
     "name": "stderr",
     "output_type": "stream",
     "text": [
      "dist_matrix: 100%|##########| 15/15 [00:15<00:00,  1.02s/it]\n",
      "r_index: 100%|##########| 2/2 [00:01<00:00,  1.01it/s]\n"
     ]
    },
    {
     "name": "stdout",
     "output_type": "stream",
     "text": [
      "Estimator predicts 0.515 for case with 0.81 and selected CV 4 and 6 minority cases using random state 2 and sample size (56, 5388)\n",
      "Prior to SMOGN sampling, mean is 3.3461332532068517e-15 standard deviation is 0.9428736102783333\n"
     ]
    },
    {
     "name": "stderr",
     "output_type": "stream",
     "text": [
      "dist_matrix: 100%|##########| 15/15 [00:15<00:00,  1.04s/it]\n",
      "r_index: 100%|##########| 2/2 [00:01<00:00,  1.02it/s]\n"
     ]
    },
    {
     "name": "stdout",
     "output_type": "stream",
     "text": [
      "Estimator predicts 0.7982 for case with 0.64 and selected CV 2 and 6 minority cases using random state 2 and sample size (56, 1388)\n",
      "Prior to SMOGN sampling, mean is 2.9586172948168506e-15 standard deviation is 0.9428736102783334\n"
     ]
    },
    {
     "name": "stderr",
     "output_type": "stream",
     "text": [
      "dist_matrix: 100%|##########| 15/15 [00:15<00:00,  1.04s/it]\n",
      "r_index: 100%|##########| 2/2 [00:01<00:00,  1.02it/s]\n"
     ]
    },
    {
     "name": "stdout",
     "output_type": "stream",
     "text": [
      "Estimator predicts 0.5961 for case with 0.72 and selected CV 4 and 6 minority cases using random state 2 and sample size (56, 5388)\n",
      "Prior to SMOGN sampling, mean is 4.9981587087320136e-15 standard deviation is 0.9428736102783335\n"
     ]
    },
    {
     "name": "stderr",
     "output_type": "stream",
     "text": [
      "dist_matrix: 100%|##########| 14/14 [00:14<00:00,  1.00s/it]\n",
      "r_index: 100%|##########| 4/4 [00:03<00:00,  1.03it/s]\n"
     ]
    },
    {
     "name": "stdout",
     "output_type": "stream",
     "text": [
      "Estimator predicts 0.5567 for case with 0.31 and selected CV 2 and 7 minority cases using random state 2 and sample size (58, 3388)\n",
      "Prior to SMOGN sampling, mean is 3.0597137878683644e-15 standard deviation is 0.9428736102783335\n"
     ]
    },
    {
     "name": "stderr",
     "output_type": "stream",
     "text": [
      "dist_matrix: 100%|##########| 15/15 [00:15<00:00,  1.05s/it]\n",
      "r_index: 100%|##########| 2/2 [00:01<00:00,  1.05it/s]\n"
     ]
    },
    {
     "name": "stdout",
     "output_type": "stream",
     "text": [
      "Estimator predicts 0.483 for case with 0.68 and selected CV 4 and 7 minority cases using random state 2 and sample size (56, 388)\n",
      "Prior to SMOGN sampling, mean is 3.050691729197508e-15 standard deviation is 0.9428736102783334\n"
     ]
    },
    {
     "name": "stderr",
     "output_type": "stream",
     "text": [
      "dist_matrix: 100%|##########| 14/14 [00:13<00:00,  1.00it/s]\n",
      "r_index: 100%|##########| 4/4 [00:03<00:00,  1.03it/s]\n"
     ]
    },
    {
     "name": "stdout",
     "output_type": "stream",
     "text": [
      "Estimator predicts 0.3928 for case with 0.34 and selected CV 4 and 7 minority cases using random state 2 and sample size (58, 388)\n",
      "Prior to SMOGN sampling, mean is 2.9869811641998853e-15 standard deviation is 0.9428736102783335\n"
     ]
    },
    {
     "name": "stderr",
     "output_type": "stream",
     "text": [
      "dist_matrix: 100%|##########| 15/15 [00:15<00:00,  1.01s/it]\n",
      "r_index: 100%|##########| 2/2 [00:01<00:00,  1.01it/s]\n"
     ]
    },
    {
     "name": "stdout",
     "output_type": "stream",
     "text": [
      "Estimator predicts 0.5303 for case with 0.59 and selected CV 3 and 7 minority cases using random state 2 and sample size (56, 2388)\n",
      "Prior to SMOGN sampling, mean is 3.306831682558464e-15 standard deviation is 0.9428736102783336\n"
     ]
    },
    {
     "name": "stderr",
     "output_type": "stream",
     "text": [
      "dist_matrix: 100%|##########| 14/14 [00:13<00:00,  1.06it/s]\n",
      "r_index: 100%|##########| 4/4 [00:03<00:00,  1.06it/s]\n"
     ]
    },
    {
     "name": "stdout",
     "output_type": "stream",
     "text": [
      "Estimator predicts 0.5889 for case with 0.94 and selected CV 5 and 7 minority cases using random state 2 and sample size (58, 388)\n",
      "Prior to SMOGN sampling, mean is 2.5989090515082563e-15 standard deviation is 0.9428736102783336\n"
     ]
    },
    {
     "name": "stderr",
     "output_type": "stream",
     "text": [
      "dist_matrix: 100%|##########| 15/15 [00:15<00:00,  1.02s/it]\n",
      "r_index: 100%|##########| 2/2 [00:01<00:00,  1.02it/s]\n"
     ]
    },
    {
     "name": "stdout",
     "output_type": "stream",
     "text": [
      "Estimator predicts 0.7275 for case with 0.84 and selected CV 2 and 7 minority cases using random state 2 and sample size (56, 1388)\n",
      "Prior to SMOGN sampling, mean is 1.236207422674529e-15 standard deviation is 0.9428736102783336\n"
     ]
    },
    {
     "name": "stderr",
     "output_type": "stream",
     "text": [
      "dist_matrix: 100%|##########| 15/15 [00:15<00:00,  1.02s/it]\n",
      "r_index: 100%|##########| 2/2 [00:01<00:00,  1.08it/s]\n"
     ]
    },
    {
     "name": "stdout",
     "output_type": "stream",
     "text": [
      "Estimator predicts 0.3858 for case with 0.1 and selected CV 4 and 4 minority cases using random state 2 and sample size (56, 1388)\n",
      "Prior to SMOGN sampling, mean is 3.4126863846350182e-15 standard deviation is 0.9428736102783333\n"
     ]
    },
    {
     "name": "stderr",
     "output_type": "stream",
     "text": [
      "dist_matrix: 100%|##########| 14/14 [00:10<00:00,  1.28it/s]\n",
      "r_index: 100%|##########| 4/4 [00:03<00:00,  1.01it/s]\n"
     ]
    },
    {
     "name": "stdout",
     "output_type": "stream",
     "text": [
      "Estimator predicts 0.4652 for case with 0.41 and selected CV 3 and 7 minority cases using random state 2 and sample size (58, 4388)\n",
      "Prior to SMOGN sampling, mean is 4.274972731848234e-15 standard deviation is 0.9428736102783336\n"
     ]
    },
    {
     "name": "stderr",
     "output_type": "stream",
     "text": [
      "dist_matrix: 100%|##########| 15/15 [00:16<00:00,  1.11s/it]\n",
      "r_index: 100%|##########| 2/2 [00:02<00:00,  1.09s/it]\n"
     ]
    },
    {
     "name": "stdout",
     "output_type": "stream",
     "text": [
      "Estimator predicts 0.6431 for case with 0.57 and selected CV 3 and 7 minority cases using random state 2 and sample size (56, 388)\n",
      "Prior to SMOGN sampling, mean is 2.6172621434619846e-15 standard deviation is 0.9428736102783335\n"
     ]
    },
    {
     "name": "stderr",
     "output_type": "stream",
     "text": [
      "dist_matrix: 100%|##########| 15/15 [00:16<00:00,  1.10s/it]\n",
      "r_index: 100%|##########| 2/2 [00:02<00:00,  1.02s/it]\n"
     ]
    },
    {
     "name": "stdout",
     "output_type": "stream",
     "text": [
      "Estimator predicts 0.706 for case with 0.66 and selected CV 2 and 6 minority cases using random state 2 and sample size (56, 388)\n",
      "Prior to SMOGN sampling, mean is 1.4799883915548597e-15 standard deviation is 0.9428736102783335\n"
     ]
    },
    {
     "name": "stderr",
     "output_type": "stream",
     "text": [
      "dist_matrix: 100%|##########| 15/15 [00:17<00:00,  1.19s/it]\n",
      "r_index: 100%|##########| 2/2 [00:01<00:00,  1.01it/s]\n"
     ]
    },
    {
     "name": "stdout",
     "output_type": "stream",
     "text": [
      "Estimator predicts 0.5978 for case with 0.63 and selected CV 4 and 6 minority cases using random state 2 and sample size (56, 6388)\n",
      "Prior to SMOGN sampling, mean is 3.78222002060571e-15 standard deviation is 0.9428736102783333\n"
     ]
    },
    {
     "name": "stderr",
     "output_type": "stream",
     "text": [
      "dist_matrix: 100%|##########| 14/14 [00:14<00:00,  1.04s/it]\n",
      "r_index: 100%|##########| 4/4 [00:03<00:00,  1.01it/s]\n"
     ]
    },
    {
     "name": "stdout",
     "output_type": "stream",
     "text": [
      "Estimator predicts 0.5846 for case with 0.47 and selected CV 5 and 7 minority cases using random state 2 and sample size (58, 1388)\n",
      "Prior to SMOGN sampling, mean is 1.9759544387623463e-15 standard deviation is 0.9428736102783336\n"
     ]
    },
    {
     "name": "stderr",
     "output_type": "stream",
     "text": [
      "dist_matrix: 100%|##########| 14/14 [00:15<00:00,  1.13s/it]\n",
      "r_index: 100%|##########| 4/4 [00:04<00:00,  1.02s/it]\n"
     ]
    },
    {
     "name": "stdout",
     "output_type": "stream",
     "text": [
      "Estimator predicts 0.364 for case with 0.28 and selected CV 2 and 5 minority cases using random state 2 and sample size (58, 3388)\n",
      "Prior to SMOGN sampling, mean is -9.57944887093254e-16 standard deviation is 0.9428736102783334\n"
     ]
    },
    {
     "name": "stderr",
     "output_type": "stream",
     "text": [
      "dist_matrix: 100%|##########| 15/15 [00:18<00:00,  1.24s/it]\n",
      "r_index: 100%|##########| 2/2 [00:01<00:00,  1.04it/s]\n"
     ]
    },
    {
     "name": "stdout",
     "output_type": "stream",
     "text": [
      "Estimator predicts 0.5996 for case with 0.59 and selected CV 3 and 7 minority cases using random state 2 and sample size (56, 388)\n",
      "Prior to SMOGN sampling, mean is 1.061636766885699e-15 standard deviation is 0.9428736102783336\n"
     ]
    },
    {
     "name": "stderr",
     "output_type": "stream",
     "text": [
      "dist_matrix: 100%|##########| 15/15 [00:18<00:00,  1.25s/it]\n",
      "r_index: 100%|##########| 2/2 [00:02<00:00,  1.10s/it]\n"
     ]
    },
    {
     "name": "stdout",
     "output_type": "stream",
     "text": [
      "Estimator predicts 0.6657 for case with 0.53 and selected CV 5 and 6 minority cases using random state 2 and sample size (56, 5388)\n",
      "Prior to SMOGN sampling, mean is -1.2810087414167951e-16 standard deviation is 0.9428736102783336\n"
     ]
    },
    {
     "name": "stderr",
     "output_type": "stream",
     "text": [
      "dist_matrix: 100%|##########| 15/15 [00:17<00:00,  1.15s/it]\n",
      "r_index: 100%|##########| 2/2 [00:02<00:00,  1.14s/it]\n"
     ]
    },
    {
     "name": "stdout",
     "output_type": "stream",
     "text": [
      "Estimator predicts 0.6645 for case with 0.86 and selected CV 5 and 6 minority cases using random state 2 and sample size (56, 5388)\n",
      "Prior to SMOGN sampling, mean is 8.549327514472436e-16 standard deviation is 0.9428736102783335\n"
     ]
    },
    {
     "name": "stderr",
     "output_type": "stream",
     "text": [
      "dist_matrix: 100%|##########| 14/14 [00:15<00:00,  1.09s/it]\n",
      "r_index: 100%|##########| 4/4 [00:04<00:00,  1.04s/it]\n"
     ]
    },
    {
     "name": "stdout",
     "output_type": "stream",
     "text": [
      "Estimator predicts 0.4653 for case with 0.48 and selected CV 5 and 7 minority cases using random state 2 and sample size (58, 5388)\n",
      "Prior to SMOGN sampling, mean is 1.7654809330573003e-15 standard deviation is 0.9428736102783336\n"
     ]
    },
    {
     "name": "stderr",
     "output_type": "stream",
     "text": [
      "dist_matrix: 100%|##########| 15/15 [00:17<00:00,  1.19s/it]\n",
      "r_index: 100%|##########| 2/2 [00:02<00:00,  1.03s/it]\n"
     ]
    },
    {
     "name": "stdout",
     "output_type": "stream",
     "text": [
      "Estimator predicts 0.6229 for case with 0.66 and selected CV 2 and 7 minority cases using random state 2 and sample size (56, 2388)\n",
      "Prior to SMOGN sampling, mean is 1.9869539349501027e-15 standard deviation is 0.9428736102783336\n"
     ]
    },
    {
     "name": "stderr",
     "output_type": "stream",
     "text": [
      "dist_matrix: 100%|##########| 14/14 [00:15<00:00,  1.11s/it]\n",
      "r_index: 100%|##########| 4/4 [00:04<00:00,  1.01s/it]\n"
     ]
    },
    {
     "name": "stdout",
     "output_type": "stream",
     "text": [
      "Estimator predicts 0.5107 for case with 0.33 and selected CV 2 and 7 minority cases using random state 2 and sample size (58, 1388)\n",
      "Prior to SMOGN sampling, mean is 2.5607815843855277e-15 standard deviation is 0.9428736102783335\n"
     ]
    },
    {
     "name": "stderr",
     "output_type": "stream",
     "text": [
      "dist_matrix: 100%|##########| 14/14 [00:13<00:00,  1.00it/s]\n",
      "r_index: 100%|##########| 4/4 [00:03<00:00,  1.07it/s]\n"
     ]
    },
    {
     "name": "stdout",
     "output_type": "stream",
     "text": [
      "Estimator predicts 0.6015 for case with 0.49 and selected CV 5 and 8 minority cases using random state 2 and sample size (58, 2388)\n",
      "Prior to SMOGN sampling, mean is -4.688998711949176e-16 standard deviation is 0.9391305482199347\n"
     ]
    },
    {
     "name": "stderr",
     "output_type": "stream",
     "text": [
      "dist_matrix: 100%|##########| 15/15 [00:15<00:00,  1.02s/it]\n",
      "r_index: 100%|##########| 2/2 [00:01<00:00,  1.08it/s]\n"
     ]
    },
    {
     "name": "stdout",
     "output_type": "stream",
     "text": [
      "Estimator predicts 0.6695 for case with 0.78 and selected CV 4 and 7 minority cases using random state 2 and sample size (56, 3388)\n",
      "Prior to SMOGN sampling, mean is 1.2628410342302761e-15 standard deviation is 0.9428736102783334\n"
     ]
    },
    {
     "name": "stderr",
     "output_type": "stream",
     "text": [
      "dist_matrix: 100%|##########| 15/15 [00:15<00:00,  1.04s/it]\n",
      "r_index: 100%|##########| 2/2 [00:01<00:00,  1.03it/s]\n"
     ]
    },
    {
     "name": "stdout",
     "output_type": "stream",
     "text": [
      "Estimator predicts 0.5741 for case with 0.81 and selected CV 2 and 6 minority cases using random state 2 and sample size (56, 388)\n",
      "Prior to SMOGN sampling, mean is -1.6455987835952367e-16 standard deviation is 0.9428736102783335\n"
     ]
    },
    {
     "name": "stderr",
     "output_type": "stream",
     "text": [
      "dist_matrix: 100%|##########| 15/15 [00:15<00:00,  1.02s/it]\n",
      "r_index: 100%|##########| 2/2 [00:01<00:00,  1.03it/s]\n"
     ]
    },
    {
     "name": "stdout",
     "output_type": "stream",
     "text": [
      "Estimator predicts 0.6529 for case with 0.71 and selected CV 5 and 6 minority cases using random state 2 and sample size (56, 388)\n",
      "Prior to SMOGN sampling, mean is 1.430923223166778e-15 standard deviation is 0.9428736102783336\n"
     ]
    },
    {
     "name": "stderr",
     "output_type": "stream",
     "text": [
      "dist_matrix: 100%|##########| 14/14 [00:13<00:00,  1.02it/s]\n",
      "r_index: 100%|##########| 4/4 [00:03<00:00,  1.05it/s]\n"
     ]
    },
    {
     "name": "stdout",
     "output_type": "stream",
     "text": [
      "Estimator predicts 0.4618 for case with 0.32 and selected CV 4 and 7 minority cases using random state 2 and sample size (58, 388)\n",
      "Prior to SMOGN sampling, mean is 1.9922682982767715e-16 standard deviation is 0.9428736102783337\n"
     ]
    },
    {
     "name": "stderr",
     "output_type": "stream",
     "text": [
      "dist_matrix: 100%|##########| 15/15 [00:16<00:00,  1.08s/it]\n",
      "r_index: 100%|##########| 2/2 [00:01<00:00,  1.06it/s]\n"
     ]
    },
    {
     "name": "stdout",
     "output_type": "stream",
     "text": [
      "Estimator predicts 0.7378 for case with 0.83 and selected CV 5 and 7 minority cases using random state 2 and sample size (56, 388)\n",
      "Estimator predicts 0.7425 for case with 0.72 and selected CV 4 and 3 minority cases using random state 3 and sample size (36, 3388)\n",
      "Estimator predicts 0.5192 for case with 0.47 and selected CV 5 and 3 minority cases using random state 3 and sample size (36, 388)\n",
      "Estimator predicts 0.8663 for case with 0.69 and selected CV 3 and 3 minority cases using random state 3 and sample size (36, 388)\n",
      "Estimator predicts 0.7105 for case with 0.42 and selected CV 4 and 3 minority cases using random state 3 and sample size (36, 3388)\n",
      "Estimator predicts 0.5862 for case with 0.15 and selected CV 3 and 2 minority cases using random state 3 and sample size (36, 6388)\n",
      "Estimator predicts 0.4844 for case with 0.44 and selected CV 4 and 3 minority cases using random state 3 and sample size (36, 388)\n",
      "Estimator predicts 0.6951 for case with 0.88 and selected CV 4 and 3 minority cases using random state 3 and sample size (36, 3388)\n",
      "Estimator predicts 0.5759 for case with 0.4 and selected CV 3 and 3 minority cases using random state 3 and sample size (36, 6388)\n",
      "Estimator predicts 0.5992 for case with 0.6 and selected CV 5 and 3 minority cases using random state 3 and sample size (36, 2388)\n",
      "Estimator predicts 0.5182 for case with 0.81 and selected CV 3 and 3 minority cases using random state 3 and sample size (36, 3388)\n",
      "Estimator predicts 0.6956 for case with 0.64 and selected CV 5 and 3 minority cases using random state 3 and sample size (36, 388)\n",
      "Estimator predicts 0.5325 for case with 0.72 and selected CV 3 and 3 minority cases using random state 3 and sample size (36, 2388)\n",
      "Estimator predicts 0.5855 for case with 0.31 and selected CV 4 and 3 minority cases using random state 3 and sample size (36, 5388)\n",
      "Estimator predicts 0.5249 for case with 0.68 and selected CV 4 and 3 minority cases using random state 3 and sample size (36, 1388)\n",
      "Estimator predicts 0.4768 for case with 0.34 and selected CV 5 and 3 minority cases using random state 3 and sample size (36, 5388)\n",
      "Estimator predicts 0.4516 for case with 0.59 and selected CV 4 and 3 minority cases using random state 3 and sample size (36, 2388)\n",
      "Estimator predicts 0.6606 for case with 0.94 and selected CV 5 and 3 minority cases using random state 3 and sample size (36, 1388)\n",
      "Estimator predicts 0.7698 for case with 0.84 and selected CV 5 and 3 minority cases using random state 3 and sample size (36, 388)\n",
      "Estimator predicts 0.4544 for case with 0.1 and selected CV 5 and 2 minority cases using random state 3 and sample size (36, 5388)\n",
      "Estimator predicts 0.4849 for case with 0.41 and selected CV 4 and 3 minority cases using random state 3 and sample size (36, 388)\n",
      "Estimator predicts 0.6311 for case with 0.57 and selected CV 3 and 3 minority cases using random state 3 and sample size (36, 4388)\n",
      "Estimator predicts 0.689 for case with 0.66 and selected CV 3 and 3 minority cases using random state 3 and sample size (36, 388)\n",
      "Estimator predicts 0.5985 for case with 0.63 and selected CV 5 and 3 minority cases using random state 3 and sample size (36, 1388)\n",
      "Estimator predicts 0.5773 for case with 0.47 and selected CV 4 and 3 minority cases using random state 3 and sample size (36, 3388)\n",
      "Estimator predicts 0.3694 for case with 0.28 and selected CV 3 and 2 minority cases using random state 3 and sample size (36, 1388)\n",
      "Estimator predicts 0.6502 for case with 0.59 and selected CV 3 and 3 minority cases using random state 3 and sample size (36, 388)\n",
      "Estimator predicts 0.6894 for case with 0.53 and selected CV 3 and 3 minority cases using random state 3 and sample size (36, 2388)\n",
      "Estimator predicts 0.6756 for case with 0.86 and selected CV 4 and 3 minority cases using random state 3 and sample size (36, 2388)\n",
      "Estimator predicts 0.4743 for case with 0.48 and selected CV 5 and 3 minority cases using random state 3 and sample size (36, 1388)\n",
      "Estimator predicts 0.6493 for case with 0.66 and selected CV 4 and 3 minority cases using random state 3 and sample size (36, 1388)\n",
      "Estimator predicts 0.5529 for case with 0.33 and selected CV 4 and 3 minority cases using random state 3 and sample size (36, 388)\n",
      "Estimator predicts 0.3053 for case with 0.49 and selected CV 3 and 3 minority cases using random state 3 and sample size (36, 2388)\n",
      "Estimator predicts 0.7194 for case with 0.78 and selected CV 5 and 3 minority cases using random state 3 and sample size (36, 3388)\n",
      "Estimator predicts 0.536 for case with 0.81 and selected CV 3 and 3 minority cases using random state 3 and sample size (36, 1388)\n",
      "Estimator predicts 0.6606 for case with 0.71 and selected CV 4 and 3 minority cases using random state 3 and sample size (36, 4388)\n",
      "Estimator predicts 0.463 for case with 0.32 and selected CV 5 and 3 minority cases using random state 3 and sample size (36, 1388)\n",
      "Estimator predicts 0.7173 for case with 0.83 and selected CV 3 and 3 minority cases using random state 3 and sample size (36, 1388)\n",
      "Estimator predicts 0.6611 for case with 0.72 and selected CV 2 and 107 minority cases using random state 3 and sample size (418, 388)\n",
      "Estimator predicts 0.5354 for case with 0.47 and selected CV 2 and 106 minority cases using random state 3 and sample size (418, 388)\n",
      "Estimator predicts 0.8523 for case with 0.69 and selected CV 2 and 106 minority cases using random state 3 and sample size (418, 388)\n",
      "Estimator predicts 0.6784 for case with 0.42 and selected CV 2 and 106 minority cases using random state 3 and sample size (418, 6388)\n",
      "Estimator predicts 0.3666 for case with 0.15 and selected CV 2 and 118 minority cases using random state 3 and sample size (429, 6388)\n",
      "Estimator predicts 0.5496 for case with 0.44 and selected CV 2 and 106 minority cases using random state 3 and sample size (418, 388)\n",
      "Estimator predicts 0.7732 for case with 0.88 and selected CV 4 and 108 minority cases using random state 3 and sample size (418, 3388)\n",
      "Estimator predicts 0.4818 for case with 0.4 and selected CV 2 and 106 minority cases using random state 3 and sample size (418, 388)\n",
      "Estimator predicts 0.6133 for case with 0.6 and selected CV 4 and 107 minority cases using random state 3 and sample size (418, 6388)\n",
      "Estimator predicts 0.5614 for case with 0.81 and selected CV 2 and 108 minority cases using random state 3 and sample size (418, 388)\n",
      "Estimator predicts 0.8144 for case with 0.64 and selected CV 4 and 107 minority cases using random state 3 and sample size (418, 6388)\n",
      "Estimator predicts 0.6282 for case with 0.72 and selected CV 2 and 107 minority cases using random state 3 and sample size (418, 6388)\n",
      "Estimator predicts 0.654 for case with 0.31 and selected CV 2 and 106 minority cases using random state 3 and sample size (418, 5388)\n",
      "Estimator predicts 0.5358 for case with 0.68 and selected CV 4 and 106 minority cases using random state 3 and sample size (418, 6388)\n",
      "Estimator predicts 0.4102 for case with 0.34 and selected CV 4 and 106 minority cases using random state 3 and sample size (418, 4388)\n",
      "Estimator predicts 0.4897 for case with 0.59 and selected CV 2 and 107 minority cases using random state 3 and sample size (418, 6388)\n",
      "Estimator predicts 0.6972 for case with 0.94 and selected CV 4 and 105 minority cases using random state 3 and sample size (418, 5388)\n",
      "Estimator predicts 0.7318 for case with 0.84 and selected CV 2 and 108 minority cases using random state 3 and sample size (418, 388)\n",
      "Estimator predicts 0.1893 for case with 0.1 and selected CV 2 and 113 minority cases using random state 3 and sample size (429, 6388)\n",
      "Estimator predicts 0.4821 for case with 0.41 and selected CV 4 and 106 minority cases using random state 3 and sample size (418, 4388)\n",
      "Estimator predicts 0.6509 for case with 0.57 and selected CV 4 and 107 minority cases using random state 3 and sample size (418, 6388)\n",
      "Estimator predicts 0.7742 for case with 0.66 and selected CV 3 and 107 minority cases using random state 3 and sample size (418, 4388)\n",
      "Estimator predicts 0.6144 for case with 0.63 and selected CV 2 and 107 minority cases using random state 3 and sample size (418, 388)\n",
      "Estimator predicts 0.6186 for case with 0.47 and selected CV 2 and 107 minority cases using random state 3 and sample size (418, 388)\n",
      "Estimator predicts 0.3189 for case with 0.28 and selected CV 4 and 119 minority cases using random state 3 and sample size (429, 6388)\n",
      "Estimator predicts 0.7005 for case with 0.59 and selected CV 4 and 107 minority cases using random state 3 and sample size (418, 6388)\n",
      "Estimator predicts 0.6509 for case with 0.53 and selected CV 4 and 107 minority cases using random state 3 and sample size (418, 6388)\n",
      "Estimator predicts 0.6431 for case with 0.86 and selected CV 2 and 108 minority cases using random state 3 and sample size (418, 6388)\n",
      "Estimator predicts 0.4954 for case with 0.48 and selected CV 2 and 107 minority cases using random state 3 and sample size (418, 388)\n",
      "Estimator predicts 0.6734 for case with 0.66 and selected CV 2 and 107 minority cases using random state 3 and sample size (418, 6388)\n",
      "Estimator predicts 0.5605 for case with 0.33 and selected CV 2 and 106 minority cases using random state 3 and sample size (418, 388)\n",
      "Estimator predicts 0.4768 for case with 0.49 and selected CV 2 and 107 minority cases using random state 3 and sample size (418, 6388)\n",
      "Estimator predicts 0.7914 for case with 0.78 and selected CV 3 and 108 minority cases using random state 3 and sample size (418, 4388)\n",
      "Estimator predicts 0.641 for case with 0.81 and selected CV 2 and 108 minority cases using random state 3 and sample size (418, 4388)\n",
      "Estimator predicts 0.737 for case with 0.71 and selected CV 2 and 107 minority cases using random state 3 and sample size (418, 6388)\n",
      "Estimator predicts 0.4922 for case with 0.32 and selected CV 2 and 106 minority cases using random state 3 and sample size (418, 388)\n",
      "Estimator predicts 0.7572 for case with 0.83 and selected CV 2 and 108 minority cases using random state 3 and sample size (418, 5388)\n",
      "Prior to SMOGN sampling, mean is 2.254216974343621e-15 standard deviation is 0.9428736102783335\n"
     ]
    },
    {
     "name": "stderr",
     "output_type": "stream",
     "text": [
      "dist_matrix: 100%|##########| 15/15 [00:16<00:00,  1.07s/it]\n",
      "r_index: 100%|##########| 2/2 [00:01<00:00,  1.05it/s]\n"
     ]
    },
    {
     "name": "stdout",
     "output_type": "stream",
     "text": [
      "Estimator predicts 0.7416 for case with 0.72 and selected CV 4 and 6 minority cases using random state 3 and sample size (56, 1388)\n",
      "Prior to SMOGN sampling, mean is 4.618428910564806e-15 standard deviation is 0.9428736102783335\n"
     ]
    },
    {
     "name": "stderr",
     "output_type": "stream",
     "text": [
      "dist_matrix: 100%|##########| 14/14 [00:13<00:00,  1.05it/s]\n",
      "r_index: 100%|##########| 4/4 [00:03<00:00,  1.05it/s]\n"
     ]
    },
    {
     "name": "stdout",
     "output_type": "stream",
     "text": [
      "Estimator predicts 0.6135 for case with 0.47 and selected CV 4 and 6 minority cases using random state 3 and sample size (58, 1388)\n",
      "Prior to SMOGN sampling, mean is 1.0984665406379618e-15 standard deviation is 0.9428736102783335\n"
     ]
    },
    {
     "name": "stderr",
     "output_type": "stream",
     "text": [
      "dist_matrix: 100%|##########| 15/15 [00:15<00:00,  1.02s/it]\n",
      "r_index: 100%|##########| 2/2 [00:01<00:00,  1.07it/s]\n"
     ]
    },
    {
     "name": "stdout",
     "output_type": "stream",
     "text": [
      "Estimator predicts 0.7838 for case with 0.69 and selected CV 2 and 6 minority cases using random state 3 and sample size (56, 2388)\n",
      "Prior to SMOGN sampling, mean is 3.877754970640942e-15 standard deviation is 0.9427075675526859\n"
     ]
    },
    {
     "name": "stderr",
     "output_type": "stream",
     "text": [
      "dist_matrix: 100%|##########| 14/14 [00:13<00:00,  1.04it/s]\n",
      "r_index: 100%|##########| 4/4 [00:03<00:00,  1.02it/s]\n"
     ]
    },
    {
     "name": "stdout",
     "output_type": "stream",
     "text": [
      "Estimator predicts 0.6909 for case with 0.42 and selected CV 3 and 6 minority cases using random state 3 and sample size (58, 6388)\n",
      "Prior to SMOGN sampling, mean is 3.4877054204324126e-15 standard deviation is 0.9428736102783335\n"
     ]
    },
    {
     "name": "stderr",
     "output_type": "stream",
     "text": [
      "dist_matrix: 100%|##########| 14/14 [00:13<00:00,  1.03it/s]\n",
      "r_index: 100%|##########| 4/4 [00:03<00:00,  1.01it/s]\n"
     ]
    },
    {
     "name": "stdout",
     "output_type": "stream",
     "text": [
      "Estimator predicts 0.5579 for case with 0.15 and selected CV 3 and 5 minority cases using random state 3 and sample size (58, 388)\n",
      "Prior to SMOGN sampling, mean is 2.9073275092222564e-15 standard deviation is 0.9428736102783335\n"
     ]
    },
    {
     "name": "stderr",
     "output_type": "stream",
     "text": [
      "dist_matrix: 100%|##########| 14/14 [00:13<00:00,  1.04it/s]\n",
      "r_index: 100%|##########| 4/4 [00:03<00:00,  1.09it/s]\n"
     ]
    },
    {
     "name": "stdout",
     "output_type": "stream",
     "text": [
      "Estimator predicts 0.4872 for case with 0.44 and selected CV 3 and 7 minority cases using random state 3 and sample size (58, 1388)\n",
      "Prior to SMOGN sampling, mean is 4.831559597933187e-15 standard deviation is 0.9428736102783334\n"
     ]
    },
    {
     "name": "stderr",
     "output_type": "stream",
     "text": [
      "dist_matrix: 100%|##########| 15/15 [00:16<00:00,  1.09s/it]\n",
      "r_index: 100%|##########| 2/2 [00:01<00:00,  1.02it/s]\n"
     ]
    },
    {
     "name": "stdout",
     "output_type": "stream",
     "text": [
      "Estimator predicts 0.7395 for case with 0.88 and selected CV 3 and 6 minority cases using random state 3 and sample size (56, 388)\n",
      "Prior to SMOGN sampling, mean is 2.7755807346587927e-15 standard deviation is 0.9428736102783335\n"
     ]
    },
    {
     "name": "stderr",
     "output_type": "stream",
     "text": [
      "dist_matrix: 100%|##########| 14/14 [00:13<00:00,  1.01it/s]\n",
      "r_index: 100%|##########| 4/4 [00:03<00:00,  1.00it/s]\n"
     ]
    },
    {
     "name": "stdout",
     "output_type": "stream",
     "text": [
      "Estimator predicts 0.5116 for case with 0.4 and selected CV 3 and 6 minority cases using random state 3 and sample size (58, 1388)\n",
      "Prior to SMOGN sampling, mean is 3.5947342260346265e-15 standard deviation is 0.9428736102783334\n"
     ]
    },
    {
     "name": "stderr",
     "output_type": "stream",
     "text": [
      "dist_matrix: 100%|##########| 15/15 [00:15<00:00,  1.04s/it]\n",
      "r_index: 100%|##########| 2/2 [00:02<00:00,  1.00s/it]\n"
     ]
    },
    {
     "name": "stdout",
     "output_type": "stream",
     "text": [
      "Estimator predicts 0.6151 for case with 0.6 and selected CV 2 and 6 minority cases using random state 3 and sample size (56, 1388)\n",
      "Prior to SMOGN sampling, mean is 4.197852668689133e-15 standard deviation is 0.9428736102783337\n"
     ]
    },
    {
     "name": "stderr",
     "output_type": "stream",
     "text": [
      "dist_matrix: 100%|##########| 15/15 [00:17<00:00,  1.16s/it]\n",
      "r_index: 100%|##########| 2/2 [00:01<00:00,  1.05it/s]\n"
     ]
    },
    {
     "name": "stdout",
     "output_type": "stream",
     "text": [
      "Estimator predicts 0.5331 for case with 0.81 and selected CV 2 and 6 minority cases using random state 3 and sample size (56, 6388)\n",
      "Prior to SMOGN sampling, mean is 3.3461332532068517e-15 standard deviation is 0.9428736102783333\n"
     ]
    },
    {
     "name": "stderr",
     "output_type": "stream",
     "text": [
      "dist_matrix: 100%|##########| 15/15 [00:17<00:00,  1.14s/it]\n",
      "r_index: 100%|##########| 2/2 [00:02<00:00,  1.19s/it]\n"
     ]
    },
    {
     "name": "stdout",
     "output_type": "stream",
     "text": [
      "Estimator predicts 0.6966 for case with 0.64 and selected CV 2 and 6 minority cases using random state 3 and sample size (56, 1388)\n",
      "Prior to SMOGN sampling, mean is 2.9586172948168506e-15 standard deviation is 0.9428736102783334\n"
     ]
    },
    {
     "name": "stderr",
     "output_type": "stream",
     "text": [
      "dist_matrix: 100%|##########| 15/15 [00:18<00:00,  1.22s/it]\n",
      "r_index: 100%|##########| 2/2 [00:02<00:00,  1.02s/it]\n"
     ]
    },
    {
     "name": "stdout",
     "output_type": "stream",
     "text": [
      "Estimator predicts 0.6139 for case with 0.72 and selected CV 4 and 6 minority cases using random state 3 and sample size (56, 4388)\n",
      "Prior to SMOGN sampling, mean is 4.9981587087320136e-15 standard deviation is 0.9428736102783335\n"
     ]
    },
    {
     "name": "stderr",
     "output_type": "stream",
     "text": [
      "dist_matrix: 100%|##########| 14/14 [00:15<00:00,  1.11s/it]\n",
      "r_index: 100%|##########| 4/4 [00:03<00:00,  1.01it/s]\n"
     ]
    },
    {
     "name": "stdout",
     "output_type": "stream",
     "text": [
      "Estimator predicts 0.6234 for case with 0.31 and selected CV 4 and 6 minority cases using random state 3 and sample size (58, 4388)\n",
      "Prior to SMOGN sampling, mean is 3.0597137878683644e-15 standard deviation is 0.9428736102783335\n"
     ]
    },
    {
     "name": "stderr",
     "output_type": "stream",
     "text": [
      "dist_matrix: 100%|##########| 15/15 [00:17<00:00,  1.15s/it]\n",
      "r_index: 100%|##########| 2/2 [00:02<00:00,  1.01s/it]\n"
     ]
    },
    {
     "name": "stdout",
     "output_type": "stream",
     "text": [
      "Estimator predicts 0.5138 for case with 0.68 and selected CV 2 and 6 minority cases using random state 3 and sample size (56, 388)\n",
      "Prior to SMOGN sampling, mean is 3.050691729197508e-15 standard deviation is 0.9428736102783334\n"
     ]
    },
    {
     "name": "stderr",
     "output_type": "stream",
     "text": [
      "dist_matrix: 100%|##########| 14/14 [00:14<00:00,  1.02s/it]\n",
      "r_index: 100%|##########| 4/4 [00:04<00:00,  1.07s/it]\n"
     ]
    },
    {
     "name": "stdout",
     "output_type": "stream",
     "text": [
      "Estimator predicts 0.4451 for case with 0.34 and selected CV 4 and 6 minority cases using random state 3 and sample size (58, 388)\n",
      "Prior to SMOGN sampling, mean is 2.9869811641998853e-15 standard deviation is 0.9428736102783335\n"
     ]
    },
    {
     "name": "stderr",
     "output_type": "stream",
     "text": [
      "dist_matrix: 100%|##########| 15/15 [00:18<00:00,  1.20s/it]\n",
      "r_index: 100%|##########| 2/2 [00:02<00:00,  1.00s/it]\n"
     ]
    },
    {
     "name": "stdout",
     "output_type": "stream",
     "text": [
      "Estimator predicts 0.4189 for case with 0.59 and selected CV 3 and 6 minority cases using random state 3 and sample size (56, 1388)\n",
      "Prior to SMOGN sampling, mean is 3.306831682558464e-15 standard deviation is 0.9428736102783336\n"
     ]
    },
    {
     "name": "stderr",
     "output_type": "stream",
     "text": [
      "dist_matrix: 100%|##########| 14/14 [00:14<00:00,  1.06s/it]\n",
      "r_index: 100%|##########| 4/4 [00:04<00:00,  1.01s/it]\n"
     ]
    },
    {
     "name": "stdout",
     "output_type": "stream",
     "text": [
      "Estimator predicts 0.6299 for case with 0.94 and selected CV 2 and 6 minority cases using random state 3 and sample size (58, 6388)\n",
      "Prior to SMOGN sampling, mean is 2.5989090515082563e-15 standard deviation is 0.9428736102783336\n"
     ]
    },
    {
     "name": "stderr",
     "output_type": "stream",
     "text": [
      "dist_matrix: 100%|##########| 15/15 [00:16<00:00,  1.07s/it]\n",
      "r_index: 100%|##########| 2/2 [00:01<00:00,  1.06it/s]\n"
     ]
    },
    {
     "name": "stdout",
     "output_type": "stream",
     "text": [
      "Estimator predicts 0.6834 for case with 0.84 and selected CV 2 and 6 minority cases using random state 3 and sample size (56, 2388)\n",
      "Prior to SMOGN sampling, mean is 1.236207422674529e-15 standard deviation is 0.9428736102783336\n"
     ]
    },
    {
     "name": "stderr",
     "output_type": "stream",
     "text": [
      "dist_matrix: 100%|##########| 15/15 [00:18<00:00,  1.24s/it]\n",
      "r_index: 100%|##########| 2/2 [00:02<00:00,  1.05s/it]\n"
     ]
    },
    {
     "name": "stdout",
     "output_type": "stream",
     "text": [
      "Estimator predicts 0.3433 for case with 0.1 and selected CV 3 and 4 minority cases using random state 3 and sample size (56, 388)\n",
      "Prior to SMOGN sampling, mean is 3.4126863846350182e-15 standard deviation is 0.9428736102783333\n"
     ]
    },
    {
     "name": "stderr",
     "output_type": "stream",
     "text": [
      "dist_matrix: 100%|##########| 14/14 [00:14<00:00,  1.07s/it]\n",
      "r_index: 100%|##########| 4/4 [00:04<00:00,  1.03s/it]\n"
     ]
    },
    {
     "name": "stdout",
     "output_type": "stream",
     "text": [
      "Estimator predicts 0.4293 for case with 0.41 and selected CV 2 and 6 minority cases using random state 3 and sample size (58, 388)\n",
      "Prior to SMOGN sampling, mean is 4.274972731848234e-15 standard deviation is 0.9428736102783336\n"
     ]
    },
    {
     "name": "stderr",
     "output_type": "stream",
     "text": [
      "dist_matrix: 100%|##########| 15/15 [00:18<00:00,  1.25s/it]\n",
      "r_index: 100%|##########| 2/2 [00:02<00:00,  1.14s/it]\n"
     ]
    },
    {
     "name": "stdout",
     "output_type": "stream",
     "text": [
      "Estimator predicts 0.6415 for case with 0.57 and selected CV 2 and 6 minority cases using random state 3 and sample size (56, 3388)\n",
      "Prior to SMOGN sampling, mean is 2.6172621434619846e-15 standard deviation is 0.9428736102783335\n"
     ]
    },
    {
     "name": "stderr",
     "output_type": "stream",
     "text": [
      "dist_matrix: 100%|##########| 15/15 [00:20<00:00,  1.34s/it]\n",
      "r_index: 100%|##########| 2/2 [00:01<00:00,  1.06it/s]\n"
     ]
    },
    {
     "name": "stdout",
     "output_type": "stream",
     "text": [
      "Estimator predicts 0.7876 for case with 0.66 and selected CV 4 and 6 minority cases using random state 3 and sample size (56, 388)\n",
      "Prior to SMOGN sampling, mean is 1.4799883915548597e-15 standard deviation is 0.9428736102783335\n"
     ]
    },
    {
     "name": "stderr",
     "output_type": "stream",
     "text": [
      "dist_matrix: 100%|##########| 15/15 [00:18<00:00,  1.25s/it]\n",
      "r_index: 100%|##########| 2/2 [00:02<00:00,  1.05s/it]\n"
     ]
    },
    {
     "name": "stdout",
     "output_type": "stream",
     "text": [
      "Estimator predicts 0.6686 for case with 0.63 and selected CV 3 and 6 minority cases using random state 3 and sample size (56, 3388)\n",
      "Prior to SMOGN sampling, mean is 3.78222002060571e-15 standard deviation is 0.9428736102783333\n"
     ]
    },
    {
     "name": "stderr",
     "output_type": "stream",
     "text": [
      "dist_matrix: 100%|##########| 14/14 [00:13<00:00,  1.01it/s]\n",
      "r_index: 100%|##########| 4/4 [00:02<00:00,  1.49it/s]\n"
     ]
    },
    {
     "name": "stdout",
     "output_type": "stream",
     "text": [
      "Estimator predicts 0.656 for case with 0.47 and selected CV 2 and 6 minority cases using random state 3 and sample size (58, 6388)\n",
      "Prior to SMOGN sampling, mean is 1.9759544387623463e-15 standard deviation is 0.9428736102783336\n"
     ]
    },
    {
     "name": "stderr",
     "output_type": "stream",
     "text": [
      "dist_matrix: 100%|##########| 14/14 [00:13<00:00,  1.05it/s]\n",
      "r_index: 100%|##########| 4/4 [00:03<00:00,  1.04it/s]\n"
     ]
    },
    {
     "name": "stdout",
     "output_type": "stream",
     "text": [
      "Estimator predicts 0.3461 for case with 0.28 and selected CV 4 and 5 minority cases using random state 3 and sample size (58, 3388)\n",
      "Prior to SMOGN sampling, mean is -9.57944887093254e-16 standard deviation is 0.9428736102783334\n"
     ]
    },
    {
     "name": "stderr",
     "output_type": "stream",
     "text": [
      "dist_matrix: 100%|##########| 15/15 [00:15<00:00,  1.05s/it]\n",
      "r_index: 100%|##########| 2/2 [00:01<00:00,  1.04it/s]\n"
     ]
    },
    {
     "name": "stdout",
     "output_type": "stream",
     "text": [
      "Estimator predicts 0.6361 for case with 0.59 and selected CV 2 and 6 minority cases using random state 3 and sample size (56, 2388)\n",
      "Prior to SMOGN sampling, mean is 1.061636766885699e-15 standard deviation is 0.9428736102783336\n"
     ]
    },
    {
     "name": "stderr",
     "output_type": "stream",
     "text": [
      "dist_matrix: 100%|##########| 15/15 [00:15<00:00,  1.04s/it]\n",
      "r_index: 100%|##########| 2/2 [00:01<00:00,  1.06it/s]\n"
     ]
    },
    {
     "name": "stdout",
     "output_type": "stream",
     "text": [
      "Estimator predicts 0.6166 for case with 0.53 and selected CV 4 and 6 minority cases using random state 3 and sample size (56, 388)\n",
      "Prior to SMOGN sampling, mean is -1.2810087414167951e-16 standard deviation is 0.9428736102783336\n"
     ]
    },
    {
     "name": "stderr",
     "output_type": "stream",
     "text": [
      "dist_matrix: 100%|##########| 15/15 [00:15<00:00,  1.05s/it]\n",
      "r_index: 100%|##########| 2/2 [00:01<00:00,  1.02it/s]\n"
     ]
    },
    {
     "name": "stdout",
     "output_type": "stream",
     "text": [
      "Estimator predicts 0.688 for case with 0.86 and selected CV 4 and 6 minority cases using random state 3 and sample size (56, 2388)\n",
      "Prior to SMOGN sampling, mean is 8.549327514472436e-16 standard deviation is 0.9428736102783335\n"
     ]
    },
    {
     "name": "stderr",
     "output_type": "stream",
     "text": [
      "dist_matrix: 100%|##########| 14/14 [00:13<00:00,  1.01it/s]\n",
      "r_index: 100%|##########| 4/4 [00:03<00:00,  1.05it/s]\n"
     ]
    },
    {
     "name": "stdout",
     "output_type": "stream",
     "text": [
      "Estimator predicts 0.4619 for case with 0.48 and selected CV 4 and 6 minority cases using random state 3 and sample size (58, 1388)\n",
      "Prior to SMOGN sampling, mean is 1.7654809330573003e-15 standard deviation is 0.9428736102783336\n"
     ]
    },
    {
     "name": "stderr",
     "output_type": "stream",
     "text": [
      "dist_matrix: 100%|##########| 15/15 [00:15<00:00,  1.05s/it]\n",
      "r_index: 100%|##########| 2/2 [00:01<00:00,  1.04it/s]\n"
     ]
    },
    {
     "name": "stdout",
     "output_type": "stream",
     "text": [
      "Estimator predicts 0.6177 for case with 0.66 and selected CV 4 and 6 minority cases using random state 3 and sample size (56, 5388)\n",
      "Prior to SMOGN sampling, mean is 1.9869539349501027e-15 standard deviation is 0.9428736102783336\n"
     ]
    },
    {
     "name": "stderr",
     "output_type": "stream",
     "text": [
      "dist_matrix: 100%|##########| 14/14 [00:14<00:00,  1.02s/it]\n",
      "r_index: 100%|##########| 4/4 [00:03<00:00,  1.03it/s]\n"
     ]
    },
    {
     "name": "stdout",
     "output_type": "stream",
     "text": [
      "Estimator predicts 0.5585 for case with 0.33 and selected CV 2 and 6 minority cases using random state 3 and sample size (58, 388)\n",
      "Prior to SMOGN sampling, mean is 2.5607815843855277e-15 standard deviation is 0.9428736102783335\n"
     ]
    },
    {
     "name": "stderr",
     "output_type": "stream",
     "text": [
      "dist_matrix: 100%|##########| 14/14 [00:13<00:00,  1.01it/s]\n",
      "r_index: 100%|##########| 4/4 [00:03<00:00,  1.05it/s]\n"
     ]
    },
    {
     "name": "stdout",
     "output_type": "stream",
     "text": [
      "Estimator predicts 0.5055 for case with 0.49 and selected CV 5 and 7 minority cases using random state 3 and sample size (58, 3388)\n",
      "Prior to SMOGN sampling, mean is -4.688998711949176e-16 standard deviation is 0.9391305482199347\n"
     ]
    },
    {
     "name": "stderr",
     "output_type": "stream",
     "text": [
      "dist_matrix: 100%|##########| 15/15 [00:15<00:00,  1.00s/it]\n",
      "r_index: 100%|##########| 2/2 [00:01<00:00,  1.03it/s]\n"
     ]
    },
    {
     "name": "stdout",
     "output_type": "stream",
     "text": [
      "Estimator predicts 0.6901 for case with 0.78 and selected CV 5 and 6 minority cases using random state 3 and sample size (56, 1388)\n",
      "Prior to SMOGN sampling, mean is 1.2628410342302761e-15 standard deviation is 0.9428736102783334\n"
     ]
    },
    {
     "name": "stderr",
     "output_type": "stream",
     "text": [
      "dist_matrix: 100%|##########| 15/15 [00:15<00:00,  1.04s/it]\n",
      "r_index: 100%|##########| 2/2 [00:01<00:00,  1.05it/s]\n"
     ]
    },
    {
     "name": "stdout",
     "output_type": "stream",
     "text": [
      "Estimator predicts 0.5975 for case with 0.81 and selected CV 4 and 6 minority cases using random state 3 and sample size (56, 2388)\n",
      "Prior to SMOGN sampling, mean is -1.6455987835952367e-16 standard deviation is 0.9428736102783335\n"
     ]
    },
    {
     "name": "stderr",
     "output_type": "stream",
     "text": [
      "dist_matrix: 100%|##########| 15/15 [00:15<00:00,  1.04s/it]\n",
      "r_index: 100%|##########| 2/2 [00:01<00:00,  1.03it/s]\n"
     ]
    },
    {
     "name": "stdout",
     "output_type": "stream",
     "text": [
      "Estimator predicts 0.7417 for case with 0.71 and selected CV 4 and 6 minority cases using random state 3 and sample size (56, 3388)\n",
      "Prior to SMOGN sampling, mean is 1.430923223166778e-15 standard deviation is 0.9428736102783336\n"
     ]
    },
    {
     "name": "stderr",
     "output_type": "stream",
     "text": [
      "dist_matrix: 100%|##########| 14/14 [00:13<00:00,  1.01it/s]\n",
      "r_index: 100%|##########| 4/4 [00:03<00:00,  1.04it/s]\n"
     ]
    },
    {
     "name": "stdout",
     "output_type": "stream",
     "text": [
      "Estimator predicts 0.536 for case with 0.32 and selected CV 4 and 6 minority cases using random state 3 and sample size (58, 2388)\n",
      "Prior to SMOGN sampling, mean is 1.9922682982767715e-16 standard deviation is 0.9428736102783337\n"
     ]
    },
    {
     "name": "stderr",
     "output_type": "stream",
     "text": [
      "dist_matrix: 100%|##########| 15/15 [00:15<00:00,  1.06s/it]\n",
      "r_index: 100%|##########| 2/2 [00:01<00:00,  1.07it/s]\n"
     ]
    },
    {
     "name": "stdout",
     "output_type": "stream",
     "text": [
      "Estimator predicts 0.7284 for case with 0.83 and selected CV 4 and 6 minority cases using random state 3 and sample size (56, 1388)\n",
      "Estimator predicts 0.7425 for case with 0.72 and selected CV 4 and 3 minority cases using random state 4 and sample size (36, 3388)\n",
      "Estimator predicts 0.5192 for case with 0.47 and selected CV 5 and 3 minority cases using random state 4 and sample size (36, 388)\n",
      "Estimator predicts 0.8663 for case with 0.69 and selected CV 3 and 3 minority cases using random state 4 and sample size (36, 388)\n",
      "Estimator predicts 0.7105 for case with 0.42 and selected CV 4 and 3 minority cases using random state 4 and sample size (36, 3388)\n",
      "Estimator predicts 0.5862 for case with 0.15 and selected CV 3 and 2 minority cases using random state 4 and sample size (36, 6388)\n",
      "Estimator predicts 0.4844 for case with 0.44 and selected CV 4 and 3 minority cases using random state 4 and sample size (36, 388)\n",
      "Estimator predicts 0.6951 for case with 0.88 and selected CV 4 and 3 minority cases using random state 4 and sample size (36, 3388)\n",
      "Estimator predicts 0.5759 for case with 0.4 and selected CV 3 and 3 minority cases using random state 4 and sample size (36, 6388)\n",
      "Estimator predicts 0.5992 for case with 0.6 and selected CV 5 and 3 minority cases using random state 4 and sample size (36, 2388)\n",
      "Estimator predicts 0.5182 for case with 0.81 and selected CV 3 and 3 minority cases using random state 4 and sample size (36, 3388)\n",
      "Estimator predicts 0.6956 for case with 0.64 and selected CV 5 and 3 minority cases using random state 4 and sample size (36, 388)\n",
      "Estimator predicts 0.5325 for case with 0.72 and selected CV 3 and 3 minority cases using random state 4 and sample size (36, 2388)\n",
      "Estimator predicts 0.5855 for case with 0.31 and selected CV 4 and 3 minority cases using random state 4 and sample size (36, 5388)\n",
      "Estimator predicts 0.5249 for case with 0.68 and selected CV 4 and 3 minority cases using random state 4 and sample size (36, 1388)\n",
      "Estimator predicts 0.4768 for case with 0.34 and selected CV 5 and 3 minority cases using random state 4 and sample size (36, 5388)\n",
      "Estimator predicts 0.4516 for case with 0.59 and selected CV 4 and 3 minority cases using random state 4 and sample size (36, 2388)\n",
      "Estimator predicts 0.6606 for case with 0.94 and selected CV 5 and 3 minority cases using random state 4 and sample size (36, 1388)\n",
      "Estimator predicts 0.7698 for case with 0.84 and selected CV 5 and 3 minority cases using random state 4 and sample size (36, 388)\n",
      "Estimator predicts 0.4544 for case with 0.1 and selected CV 5 and 2 minority cases using random state 4 and sample size (36, 5388)\n",
      "Estimator predicts 0.4849 for case with 0.41 and selected CV 4 and 3 minority cases using random state 4 and sample size (36, 388)\n",
      "Estimator predicts 0.6311 for case with 0.57 and selected CV 3 and 3 minority cases using random state 4 and sample size (36, 4388)\n",
      "Estimator predicts 0.689 for case with 0.66 and selected CV 3 and 3 minority cases using random state 4 and sample size (36, 388)\n",
      "Estimator predicts 0.5985 for case with 0.63 and selected CV 5 and 3 minority cases using random state 4 and sample size (36, 1388)\n",
      "Estimator predicts 0.5773 for case with 0.47 and selected CV 4 and 3 minority cases using random state 4 and sample size (36, 3388)\n",
      "Estimator predicts 0.3694 for case with 0.28 and selected CV 3 and 2 minority cases using random state 4 and sample size (36, 1388)\n",
      "Estimator predicts 0.6502 for case with 0.59 and selected CV 3 and 3 minority cases using random state 4 and sample size (36, 388)\n",
      "Estimator predicts 0.6894 for case with 0.53 and selected CV 3 and 3 minority cases using random state 4 and sample size (36, 2388)\n",
      "Estimator predicts 0.6756 for case with 0.86 and selected CV 4 and 3 minority cases using random state 4 and sample size (36, 2388)\n",
      "Estimator predicts 0.4743 for case with 0.48 and selected CV 5 and 3 minority cases using random state 4 and sample size (36, 1388)\n",
      "Estimator predicts 0.6493 for case with 0.66 and selected CV 4 and 3 minority cases using random state 4 and sample size (36, 1388)\n",
      "Estimator predicts 0.5529 for case with 0.33 and selected CV 4 and 3 minority cases using random state 4 and sample size (36, 388)\n",
      "Estimator predicts 0.3053 for case with 0.49 and selected CV 3 and 3 minority cases using random state 4 and sample size (36, 2388)\n",
      "Estimator predicts 0.7194 for case with 0.78 and selected CV 5 and 3 minority cases using random state 4 and sample size (36, 3388)\n",
      "Estimator predicts 0.536 for case with 0.81 and selected CV 3 and 3 minority cases using random state 4 and sample size (36, 1388)\n",
      "Estimator predicts 0.6606 for case with 0.71 and selected CV 4 and 3 minority cases using random state 4 and sample size (36, 4388)\n",
      "Estimator predicts 0.463 for case with 0.32 and selected CV 5 and 3 minority cases using random state 4 and sample size (36, 1388)\n",
      "Estimator predicts 0.7173 for case with 0.83 and selected CV 3 and 3 minority cases using random state 4 and sample size (36, 1388)\n",
      "Estimator predicts 0.7449 for case with 0.72 and selected CV 5 and 78 minority cases using random state 4 and sample size (418, 388)\n",
      "Estimator predicts 0.5827 for case with 0.47 and selected CV 5 and 78 minority cases using random state 4 and sample size (418, 4388)\n",
      "Estimator predicts 0.916 for case with 0.69 and selected CV 5 and 78 minority cases using random state 4 and sample size (418, 5388)\n",
      "Estimator predicts 0.7412 for case with 0.42 and selected CV 5 and 76 minority cases using random state 4 and sample size (418, 6388)\n",
      "Estimator predicts 0.5668 for case with 0.15 and selected CV 3 and 89 minority cases using random state 4 and sample size (429, 388)\n",
      "Estimator predicts 0.5784 for case with 0.44 and selected CV 5 and 77 minority cases using random state 4 and sample size (418, 6388)\n",
      "Estimator predicts 0.8307 for case with 0.88 and selected CV 5 and 77 minority cases using random state 4 and sample size (418, 388)\n",
      "Estimator predicts 0.5053 for case with 0.4 and selected CV 5 and 76 minority cases using random state 4 and sample size (418, 6388)\n",
      "Estimator predicts 0.6647 for case with 0.6 and selected CV 5 and 77 minority cases using random state 4 and sample size (418, 4388)\n",
      "Estimator predicts 0.5927 for case with 0.81 and selected CV 5 and 77 minority cases using random state 4 and sample size (418, 6388)\n",
      "Estimator predicts 0.8787 for case with 0.64 and selected CV 5 and 78 minority cases using random state 4 and sample size (418, 4388)\n",
      "Estimator predicts 0.685 for case with 0.72 and selected CV 5 and 78 minority cases using random state 4 and sample size (418, 6388)\n",
      "Estimator predicts 0.7082 for case with 0.31 and selected CV 5 and 74 minority cases using random state 4 and sample size (418, 4388)\n",
      "Estimator predicts 0.5334 for case with 0.68 and selected CV 5 and 78 minority cases using random state 4 and sample size (418, 388)\n",
      "Estimator predicts 0.4524 for case with 0.34 and selected CV 5 and 75 minority cases using random state 4 and sample size (418, 6388)\n",
      "Estimator predicts 0.5423 for case with 0.59 and selected CV 5 and 77 minority cases using random state 4 and sample size (418, 4388)\n",
      "Estimator predicts 0.7463 for case with 0.94 and selected CV 5 and 77 minority cases using random state 4 and sample size (418, 6388)\n",
      "Estimator predicts 0.7621 for case with 0.84 and selected CV 5 and 77 minority cases using random state 4 and sample size (418, 388)\n",
      "Estimator predicts 0.5921 for case with 0.1 and selected CV 3 and 89 minority cases using random state 4 and sample size (429, 388)\n",
      "Estimator predicts 0.5383 for case with 0.41 and selected CV 5 and 76 minority cases using random state 4 and sample size (418, 6388)\n",
      "Estimator predicts 0.6976 for case with 0.57 and selected CV 5 and 77 minority cases using random state 4 and sample size (418, 6388)\n",
      "Estimator predicts 0.8014 for case with 0.66 and selected CV 5 and 78 minority cases using random state 4 and sample size (418, 3388)\n",
      "Estimator predicts 0.7023 for case with 0.63 and selected CV 5 and 78 minority cases using random state 4 and sample size (418, 3388)\n",
      "Estimator predicts 0.6721 for case with 0.47 and selected CV 4 and 78 minority cases using random state 4 and sample size (418, 388)\n",
      "Estimator predicts 0.5379 for case with 0.28 and selected CV 3 and 91 minority cases using random state 4 and sample size (429, 388)\n",
      "Estimator predicts 0.7515 for case with 0.59 and selected CV 5 and 77 minority cases using random state 4 and sample size (418, 6388)\n",
      "Estimator predicts 0.6993 for case with 0.53 and selected CV 5 and 78 minority cases using random state 4 and sample size (418, 6388)\n",
      "Estimator predicts 0.725 for case with 0.86 and selected CV 5 and 77 minority cases using random state 4 and sample size (418, 388)\n",
      "Estimator predicts 0.5428 for case with 0.48 and selected CV 5 and 78 minority cases using random state 4 and sample size (418, 6388)\n",
      "Estimator predicts 0.7236 for case with 0.66 and selected CV 4 and 78 minority cases using random state 4 and sample size (418, 4388)\n",
      "Estimator predicts 0.6036 for case with 0.33 and selected CV 5 and 75 minority cases using random state 4 and sample size (418, 388)\n",
      "Estimator predicts 0.5454 for case with 0.49 and selected CV 5 and 78 minority cases using random state 4 and sample size (418, 6388)\n",
      "Estimator predicts 0.8255 for case with 0.78 and selected CV 5 and 77 minority cases using random state 4 and sample size (418, 5388)\n",
      "Estimator predicts 0.6804 for case with 0.81 and selected CV 5 and 77 minority cases using random state 4 and sample size (418, 5388)\n",
      "Estimator predicts 0.7897 for case with 0.71 and selected CV 5 and 78 minority cases using random state 4 and sample size (418, 6388)\n",
      "Estimator predicts 0.5392 for case with 0.32 and selected CV 5 and 75 minority cases using random state 4 and sample size (418, 6388)\n",
      "Estimator predicts 0.8137 for case with 0.83 and selected CV 5 and 77 minority cases using random state 4 and sample size (418, 6388)\n",
      "Prior to SMOGN sampling, mean is 2.254216974343621e-15 standard deviation is 0.9428736102783335\n"
     ]
    },
    {
     "name": "stderr",
     "output_type": "stream",
     "text": [
      "dist_matrix: 100%|##########| 15/15 [00:15<00:00,  1.05s/it]\n",
      "r_index: 100%|##########| 2/2 [00:01<00:00,  1.07it/s]\n"
     ]
    },
    {
     "name": "stdout",
     "output_type": "stream",
     "text": [
      "Estimator predicts 0.7202 for case with 0.72 and selected CV 3 and 6 minority cases using random state 4 and sample size (56, 388)\n",
      "Prior to SMOGN sampling, mean is 4.618428910564806e-15 standard deviation is 0.9428736102783335\n"
     ]
    },
    {
     "name": "stderr",
     "output_type": "stream",
     "text": [
      "dist_matrix: 100%|##########| 14/14 [00:13<00:00,  1.06it/s]\n",
      "r_index: 100%|##########| 4/4 [00:03<00:00,  1.07it/s]\n"
     ]
    },
    {
     "name": "stdout",
     "output_type": "stream",
     "text": [
      "Estimator predicts 0.5207 for case with 0.47 and selected CV 2 and 7 minority cases using random state 4 and sample size (58, 2388)\n",
      "Prior to SMOGN sampling, mean is 1.0984665406379618e-15 standard deviation is 0.9428736102783335\n"
     ]
    },
    {
     "name": "stderr",
     "output_type": "stream",
     "text": [
      "dist_matrix: 100%|##########| 15/15 [00:15<00:00,  1.04s/it]\n",
      "r_index: 100%|##########| 2/2 [00:01<00:00,  1.03it/s]\n"
     ]
    },
    {
     "name": "stdout",
     "output_type": "stream",
     "text": [
      "Estimator predicts 0.829 for case with 0.69 and selected CV 5 and 6 minority cases using random state 4 and sample size (56, 3388)\n",
      "Prior to SMOGN sampling, mean is 3.877754970640942e-15 standard deviation is 0.9427075675526859\n"
     ]
    },
    {
     "name": "stderr",
     "output_type": "stream",
     "text": [
      "dist_matrix: 100%|##########| 14/14 [00:13<00:00,  1.05it/s]\n",
      "r_index: 100%|##########| 4/4 [00:03<00:00,  1.06it/s]\n"
     ]
    },
    {
     "name": "stdout",
     "output_type": "stream",
     "text": [
      "Estimator predicts 0.4915 for case with 0.42 and selected CV 3 and 7 minority cases using random state 4 and sample size (58, 1388)\n",
      "Prior to SMOGN sampling, mean is 3.4877054204324126e-15 standard deviation is 0.9428736102783335\n"
     ]
    },
    {
     "name": "stderr",
     "output_type": "stream",
     "text": [
      "dist_matrix: 100%|##########| 14/14 [00:13<00:00,  1.01it/s]\n",
      "r_index: 100%|##########| 4/4 [00:03<00:00,  1.05it/s]\n"
     ]
    },
    {
     "name": "stdout",
     "output_type": "stream",
     "text": [
      "Estimator predicts 0.4441 for case with 0.15 and selected CV 4 and 5 minority cases using random state 4 and sample size (58, 388)\n",
      "Prior to SMOGN sampling, mean is 2.9073275092222564e-15 standard deviation is 0.9428736102783335\n"
     ]
    },
    {
     "name": "stderr",
     "output_type": "stream",
     "text": [
      "dist_matrix: 100%|##########| 14/14 [00:14<00:00,  1.03s/it]\n",
      "r_index: 100%|##########| 4/4 [00:03<00:00,  1.02it/s]\n"
     ]
    },
    {
     "name": "stdout",
     "output_type": "stream",
     "text": [
      "Estimator predicts 0.4897 for case with 0.44 and selected CV 5 and 7 minority cases using random state 4 and sample size (58, 4388)\n",
      "Prior to SMOGN sampling, mean is 4.831559597933187e-15 standard deviation is 0.9428736102783334\n"
     ]
    },
    {
     "name": "stderr",
     "output_type": "stream",
     "text": [
      "dist_matrix: 100%|##########| 15/15 [00:15<00:00,  1.00s/it]\n",
      "r_index: 100%|##########| 2/2 [00:01<00:00,  1.03it/s]\n"
     ]
    },
    {
     "name": "stdout",
     "output_type": "stream",
     "text": [
      "Estimator predicts 0.7551 for case with 0.88 and selected CV 2 and 6 minority cases using random state 4 and sample size (56, 3388)\n",
      "Prior to SMOGN sampling, mean is 2.7755807346587927e-15 standard deviation is 0.9428736102783335\n"
     ]
    },
    {
     "name": "stderr",
     "output_type": "stream",
     "text": [
      "dist_matrix: 100%|##########| 14/14 [00:13<00:00,  1.02it/s]\n",
      "r_index: 100%|##########| 4/4 [00:03<00:00,  1.03it/s]\n"
     ]
    },
    {
     "name": "stdout",
     "output_type": "stream",
     "text": [
      "Estimator predicts 0.6408 for case with 0.4 and selected CV 2 and 7 minority cases using random state 4 and sample size (58, 1388)\n",
      "Prior to SMOGN sampling, mean is 3.5947342260346265e-15 standard deviation is 0.9428736102783334\n"
     ]
    },
    {
     "name": "stderr",
     "output_type": "stream",
     "text": [
      "dist_matrix: 100%|##########| 15/15 [00:15<00:00,  1.06s/it]\n",
      "r_index: 100%|##########| 2/2 [00:01<00:00,  1.06it/s]\n"
     ]
    },
    {
     "name": "stdout",
     "output_type": "stream",
     "text": [
      "Estimator predicts 0.5979 for case with 0.6 and selected CV 3 and 6 minority cases using random state 4 and sample size (56, 1388)\n",
      "Prior to SMOGN sampling, mean is 4.197852668689133e-15 standard deviation is 0.9428736102783337\n"
     ]
    },
    {
     "name": "stderr",
     "output_type": "stream",
     "text": [
      "dist_matrix: 100%|##########| 15/15 [00:17<00:00,  1.14s/it]\n",
      "r_index: 100%|##########| 2/2 [00:02<00:00,  1.04s/it]\n"
     ]
    },
    {
     "name": "stdout",
     "output_type": "stream",
     "text": [
      "Estimator predicts 0.523 for case with 0.81 and selected CV 5 and 6 minority cases using random state 4 and sample size (56, 3388)\n",
      "Prior to SMOGN sampling, mean is 3.3461332532068517e-15 standard deviation is 0.9428736102783333\n"
     ]
    },
    {
     "name": "stderr",
     "output_type": "stream",
     "text": [
      "dist_matrix: 100%|##########| 15/15 [00:16<00:00,  1.11s/it]\n",
      "r_index: 100%|##########| 2/2 [00:01<00:00,  1.02it/s]\n"
     ]
    },
    {
     "name": "stdout",
     "output_type": "stream",
     "text": [
      "Estimator predicts 0.7733 for case with 0.64 and selected CV 2 and 6 minority cases using random state 4 and sample size (56, 6388)\n",
      "Prior to SMOGN sampling, mean is 2.9586172948168506e-15 standard deviation is 0.9428736102783334\n"
     ]
    },
    {
     "name": "stderr",
     "output_type": "stream",
     "text": [
      "dist_matrix: 100%|##########| 15/15 [00:17<00:00,  1.17s/it]\n",
      "r_index: 100%|##########| 2/2 [00:02<00:00,  1.02s/it]\n"
     ]
    },
    {
     "name": "stdout",
     "output_type": "stream",
     "text": [
      "Estimator predicts 0.5631 for case with 0.72 and selected CV 5 and 6 minority cases using random state 4 and sample size (56, 4388)\n",
      "Prior to SMOGN sampling, mean is 4.9981587087320136e-15 standard deviation is 0.9428736102783335\n"
     ]
    },
    {
     "name": "stderr",
     "output_type": "stream",
     "text": [
      "dist_matrix: 100%|##########| 14/14 [00:16<00:00,  1.17s/it]\n",
      "r_index: 100%|##########| 4/4 [00:04<00:00,  1.04s/it]\n"
     ]
    },
    {
     "name": "stdout",
     "output_type": "stream",
     "text": [
      "Estimator predicts 0.643 for case with 0.31 and selected CV 2 and 7 minority cases using random state 4 and sample size (58, 4388)\n",
      "Prior to SMOGN sampling, mean is 3.0597137878683644e-15 standard deviation is 0.9428736102783335\n"
     ]
    },
    {
     "name": "stderr",
     "output_type": "stream",
     "text": [
      "dist_matrix: 100%|##########| 15/15 [00:16<00:00,  1.09s/it]\n",
      "r_index: 100%|##########| 2/2 [00:02<00:00,  1.01s/it]\n"
     ]
    },
    {
     "name": "stdout",
     "output_type": "stream",
     "text": [
      "Estimator predicts 0.5223 for case with 0.68 and selected CV 3 and 6 minority cases using random state 4 and sample size (56, 388)\n",
      "Prior to SMOGN sampling, mean is 3.050691729197508e-15 standard deviation is 0.9428736102783334\n"
     ]
    },
    {
     "name": "stderr",
     "output_type": "stream",
     "text": [
      "dist_matrix: 100%|##########| 14/14 [00:14<00:00,  1.02s/it]\n",
      "r_index: 100%|##########| 4/4 [00:04<00:00,  1.01s/it]\n"
     ]
    },
    {
     "name": "stdout",
     "output_type": "stream",
     "text": [
      "Estimator predicts 0.5475 for case with 0.34 and selected CV 3 and 7 minority cases using random state 4 and sample size (58, 3388)\n",
      "Prior to SMOGN sampling, mean is 2.9869811641998853e-15 standard deviation is 0.9428736102783335\n"
     ]
    },
    {
     "name": "stderr",
     "output_type": "stream",
     "text": [
      "dist_matrix: 100%|##########| 15/15 [00:17<00:00,  1.19s/it]\n",
      "r_index: 100%|##########| 2/2 [00:01<00:00,  1.02it/s]\n"
     ]
    },
    {
     "name": "stdout",
     "output_type": "stream",
     "text": [
      "Estimator predicts 0.4074 for case with 0.59 and selected CV 2 and 6 minority cases using random state 4 and sample size (56, 2388)\n",
      "Prior to SMOGN sampling, mean is 3.306831682558464e-15 standard deviation is 0.9428736102783336\n"
     ]
    },
    {
     "name": "stderr",
     "output_type": "stream",
     "text": [
      "dist_matrix: 100%|##########| 14/14 [00:16<00:00,  1.16s/it]\n",
      "r_index: 100%|##########| 4/4 [00:04<00:00,  1.01s/it]\n"
     ]
    },
    {
     "name": "stdout",
     "output_type": "stream",
     "text": [
      "Estimator predicts 0.6293 for case with 0.94 and selected CV 4 and 7 minority cases using random state 4 and sample size (58, 5388)\n",
      "Prior to SMOGN sampling, mean is 2.5989090515082563e-15 standard deviation is 0.9428736102783336\n"
     ]
    },
    {
     "name": "stderr",
     "output_type": "stream",
     "text": [
      "dist_matrix: 100%|##########| 15/15 [00:15<00:00,  1.05s/it]\n",
      "r_index: 100%|##########| 2/2 [00:01<00:00,  1.02it/s]\n"
     ]
    },
    {
     "name": "stdout",
     "output_type": "stream",
     "text": [
      "Estimator predicts 0.7048 for case with 0.84 and selected CV 4 and 6 minority cases using random state 4 and sample size (56, 6388)\n",
      "Prior to SMOGN sampling, mean is 1.236207422674529e-15 standard deviation is 0.9428736102783336\n"
     ]
    },
    {
     "name": "stderr",
     "output_type": "stream",
     "text": [
      "dist_matrix: 100%|##########| 15/15 [00:16<00:00,  1.11s/it]\n",
      "r_index: 100%|##########| 2/2 [00:02<00:00,  1.09s/it]\n"
     ]
    },
    {
     "name": "stdout",
     "output_type": "stream",
     "text": [
      "Estimator predicts 0.242 for case with 0.1 and selected CV 2 and 4 minority cases using random state 4 and sample size (56, 388)\n",
      "Prior to SMOGN sampling, mean is 3.4126863846350182e-15 standard deviation is 0.9428736102783333\n"
     ]
    },
    {
     "name": "stderr",
     "output_type": "stream",
     "text": [
      "dist_matrix: 100%|##########| 14/14 [00:14<00:00,  1.03s/it]\n",
      "r_index: 100%|##########| 4/4 [00:04<00:00,  1.12s/it]\n"
     ]
    },
    {
     "name": "stdout",
     "output_type": "stream",
     "text": [
      "Estimator predicts 0.4122 for case with 0.41 and selected CV 3 and 7 minority cases using random state 4 and sample size (58, 1388)\n",
      "Prior to SMOGN sampling, mean is 4.274972731848234e-15 standard deviation is 0.9428736102783336\n"
     ]
    },
    {
     "name": "stderr",
     "output_type": "stream",
     "text": [
      "dist_matrix: 100%|##########| 15/15 [00:17<00:00,  1.16s/it]\n",
      "r_index: 100%|##########| 2/2 [00:02<00:00,  1.02s/it]\n"
     ]
    },
    {
     "name": "stdout",
     "output_type": "stream",
     "text": [
      "Estimator predicts 0.6579 for case with 0.57 and selected CV 2 and 6 minority cases using random state 4 and sample size (56, 3388)\n",
      "Prior to SMOGN sampling, mean is 2.6172621434619846e-15 standard deviation is 0.9428736102783335\n"
     ]
    },
    {
     "name": "stderr",
     "output_type": "stream",
     "text": [
      "dist_matrix: 100%|##########| 15/15 [00:11<00:00,  1.25it/s]\n",
      "r_index: 100%|##########| 2/2 [00:01<00:00,  1.04it/s]\n"
     ]
    },
    {
     "name": "stdout",
     "output_type": "stream",
     "text": [
      "Estimator predicts 0.7456 for case with 0.66 and selected CV 2 and 6 minority cases using random state 4 and sample size (56, 1388)\n",
      "Prior to SMOGN sampling, mean is 1.4799883915548597e-15 standard deviation is 0.9428736102783335\n"
     ]
    },
    {
     "name": "stderr",
     "output_type": "stream",
     "text": [
      "dist_matrix: 100%|##########| 15/15 [00:16<00:00,  1.12s/it]\n",
      "r_index: 100%|##########| 2/2 [00:02<00:00,  1.03s/it]\n"
     ]
    },
    {
     "name": "stdout",
     "output_type": "stream",
     "text": [
      "Estimator predicts 0.6105 for case with 0.63 and selected CV 4 and 6 minority cases using random state 4 and sample size (56, 388)\n",
      "Prior to SMOGN sampling, mean is 3.78222002060571e-15 standard deviation is 0.9428736102783333\n"
     ]
    },
    {
     "name": "stderr",
     "output_type": "stream",
     "text": [
      "dist_matrix: 100%|##########| 14/14 [00:15<00:00,  1.12s/it]\n",
      "r_index: 100%|##########| 4/4 [00:03<00:00,  1.02it/s]\n"
     ]
    },
    {
     "name": "stdout",
     "output_type": "stream",
     "text": [
      "Estimator predicts 0.5742 for case with 0.47 and selected CV 5 and 7 minority cases using random state 4 and sample size (58, 1388)\n",
      "Prior to SMOGN sampling, mean is 1.9759544387623463e-15 standard deviation is 0.9428736102783336\n"
     ]
    },
    {
     "name": "stderr",
     "output_type": "stream",
     "text": [
      "dist_matrix: 100%|##########| 14/14 [00:15<00:00,  1.13s/it]\n",
      "r_index: 100%|##########| 4/4 [00:04<00:00,  1.03s/it]\n"
     ]
    },
    {
     "name": "stdout",
     "output_type": "stream",
     "text": [
      "Estimator predicts 0.2887 for case with 0.28 and selected CV 3 and 5 minority cases using random state 4 and sample size (58, 388)\n",
      "Prior to SMOGN sampling, mean is -9.57944887093254e-16 standard deviation is 0.9428736102783334\n"
     ]
    },
    {
     "name": "stderr",
     "output_type": "stream",
     "text": [
      "dist_matrix: 100%|##########| 15/15 [00:18<00:00,  1.20s/it]\n",
      "r_index: 100%|##########| 2/2 [00:02<00:00,  1.07s/it]\n"
     ]
    },
    {
     "name": "stdout",
     "output_type": "stream",
     "text": [
      "Estimator predicts 0.6187 for case with 0.59 and selected CV 3 and 6 minority cases using random state 4 and sample size (56, 1388)\n",
      "Prior to SMOGN sampling, mean is 1.061636766885699e-15 standard deviation is 0.9428736102783336\n"
     ]
    },
    {
     "name": "stderr",
     "output_type": "stream",
     "text": [
      "dist_matrix: 100%|##########| 15/15 [00:18<00:00,  1.21s/it]\n",
      "r_index: 100%|##########| 2/2 [00:02<00:00,  1.03s/it]\n"
     ]
    },
    {
     "name": "stdout",
     "output_type": "stream",
     "text": [
      "Estimator predicts 0.6177 for case with 0.53 and selected CV 2 and 6 minority cases using random state 4 and sample size (56, 1388)\n",
      "Prior to SMOGN sampling, mean is -1.2810087414167951e-16 standard deviation is 0.9428736102783336\n"
     ]
    },
    {
     "name": "stderr",
     "output_type": "stream",
     "text": [
      "dist_matrix: 100%|##########| 15/15 [00:17<00:00,  1.18s/it]\n",
      "r_index: 100%|##########| 2/2 [00:01<00:00,  1.02it/s]\n"
     ]
    },
    {
     "name": "stdout",
     "output_type": "stream",
     "text": [
      "Estimator predicts 0.6899 for case with 0.86 and selected CV 2 and 6 minority cases using random state 4 and sample size (56, 388)\n",
      "Prior to SMOGN sampling, mean is 8.549327514472436e-16 standard deviation is 0.9428736102783335\n"
     ]
    },
    {
     "name": "stderr",
     "output_type": "stream",
     "text": [
      "dist_matrix: 100%|##########| 14/14 [00:15<00:00,  1.11s/it]\n",
      "r_index: 100%|##########| 4/4 [00:04<00:00,  1.05s/it]\n"
     ]
    },
    {
     "name": "stdout",
     "output_type": "stream",
     "text": [
      "Estimator predicts 0.5019 for case with 0.48 and selected CV 4 and 7 minority cases using random state 4 and sample size (58, 3388)\n",
      "Prior to SMOGN sampling, mean is 1.7654809330573003e-15 standard deviation is 0.9428736102783336\n"
     ]
    },
    {
     "name": "stderr",
     "output_type": "stream",
     "text": [
      "dist_matrix: 100%|##########| 15/15 [00:18<00:00,  1.21s/it]\n",
      "r_index: 100%|##########| 2/2 [00:02<00:00,  1.07s/it]\n"
     ]
    },
    {
     "name": "stdout",
     "output_type": "stream",
     "text": [
      "Estimator predicts 0.6332 for case with 0.66 and selected CV 2 and 6 minority cases using random state 4 and sample size (56, 1388)\n",
      "Prior to SMOGN sampling, mean is 1.9869539349501027e-15 standard deviation is 0.9428736102783336\n"
     ]
    },
    {
     "name": "stderr",
     "output_type": "stream",
     "text": [
      "dist_matrix: 100%|##########| 14/14 [00:15<00:00,  1.14s/it]\n",
      "r_index: 100%|##########| 4/4 [00:04<00:00,  1.00s/it]\n"
     ]
    },
    {
     "name": "stdout",
     "output_type": "stream",
     "text": [
      "Estimator predicts 0.5143 for case with 0.33 and selected CV 2 and 7 minority cases using random state 4 and sample size (58, 6388)\n",
      "Prior to SMOGN sampling, mean is 2.5607815843855277e-15 standard deviation is 0.9428736102783335\n"
     ]
    },
    {
     "name": "stderr",
     "output_type": "stream",
     "text": [
      "dist_matrix: 100%|##########| 14/14 [00:15<00:00,  1.07s/it]\n",
      "r_index: 100%|##########| 4/4 [00:03<00:00,  1.02it/s]\n"
     ]
    },
    {
     "name": "stdout",
     "output_type": "stream",
     "text": [
      "Estimator predicts 0.4016 for case with 0.49 and selected CV 2 and 7 minority cases using random state 4 and sample size (58, 6388)\n",
      "Prior to SMOGN sampling, mean is -4.688998711949176e-16 standard deviation is 0.9391305482199347\n"
     ]
    },
    {
     "name": "stderr",
     "output_type": "stream",
     "text": [
      "dist_matrix: 100%|##########| 15/15 [00:16<00:00,  1.11s/it]\n",
      "r_index: 100%|##########| 2/2 [00:02<00:00,  1.01s/it]\n"
     ]
    },
    {
     "name": "stdout",
     "output_type": "stream",
     "text": [
      "Estimator predicts 0.746 for case with 0.78 and selected CV 5 and 6 minority cases using random state 4 and sample size (56, 1388)\n",
      "Prior to SMOGN sampling, mean is 1.2628410342302761e-15 standard deviation is 0.9428736102783334\n"
     ]
    },
    {
     "name": "stderr",
     "output_type": "stream",
     "text": [
      "dist_matrix: 100%|##########| 15/15 [00:17<00:00,  1.14s/it]\n",
      "r_index: 100%|##########| 2/2 [00:02<00:00,  1.02s/it]\n"
     ]
    },
    {
     "name": "stdout",
     "output_type": "stream",
     "text": [
      "Estimator predicts 0.585 for case with 0.81 and selected CV 2 and 6 minority cases using random state 4 and sample size (56, 1388)\n",
      "Prior to SMOGN sampling, mean is -1.6455987835952367e-16 standard deviation is 0.9428736102783335\n"
     ]
    },
    {
     "name": "stderr",
     "output_type": "stream",
     "text": [
      "dist_matrix: 100%|##########| 15/15 [00:15<00:00,  1.02s/it]\n",
      "r_index: 100%|##########| 2/2 [00:01<00:00,  1.05it/s]\n"
     ]
    },
    {
     "name": "stdout",
     "output_type": "stream",
     "text": [
      "Estimator predicts 0.7216 for case with 0.71 and selected CV 2 and 6 minority cases using random state 4 and sample size (56, 388)\n",
      "Prior to SMOGN sampling, mean is 1.430923223166778e-15 standard deviation is 0.9428736102783336\n"
     ]
    },
    {
     "name": "stderr",
     "output_type": "stream",
     "text": [
      "dist_matrix: 100%|##########| 14/14 [00:13<00:00,  1.07it/s]\n",
      "r_index: 100%|##########| 4/4 [00:03<00:00,  1.06it/s]\n"
     ]
    },
    {
     "name": "stdout",
     "output_type": "stream",
     "text": [
      "Estimator predicts 0.5305 for case with 0.32 and selected CV 3 and 7 minority cases using random state 4 and sample size (58, 3388)\n",
      "Prior to SMOGN sampling, mean is 1.9922682982767715e-16 standard deviation is 0.9428736102783337\n"
     ]
    },
    {
     "name": "stderr",
     "output_type": "stream",
     "text": [
      "dist_matrix: 100%|##########| 15/15 [00:15<00:00,  1.06s/it]\n",
      "r_index: 100%|##########| 2/2 [00:01<00:00,  1.00it/s]\n"
     ]
    },
    {
     "name": "stdout",
     "output_type": "stream",
     "text": [
      "Estimator predicts 0.7258 for case with 0.83 and selected CV 4 and 6 minority cases using random state 4 and sample size (56, 1388)\n",
      "Estimator predicts 0.7425 for case with 0.72 and selected CV 4 and 3 minority cases using random state 5 and sample size (36, 3388)\n",
      "Estimator predicts 0.5192 for case with 0.47 and selected CV 5 and 3 minority cases using random state 5 and sample size (36, 388)\n",
      "Estimator predicts 0.8663 for case with 0.69 and selected CV 3 and 3 minority cases using random state 5 and sample size (36, 388)\n",
      "Estimator predicts 0.7105 for case with 0.42 and selected CV 4 and 3 minority cases using random state 5 and sample size (36, 3388)\n",
      "Estimator predicts 0.5862 for case with 0.15 and selected CV 3 and 2 minority cases using random state 5 and sample size (36, 6388)\n",
      "Estimator predicts 0.4844 for case with 0.44 and selected CV 4 and 3 minority cases using random state 5 and sample size (36, 388)\n",
      "Estimator predicts 0.6951 for case with 0.88 and selected CV 4 and 3 minority cases using random state 5 and sample size (36, 3388)\n",
      "Estimator predicts 0.5759 for case with 0.4 and selected CV 3 and 3 minority cases using random state 5 and sample size (36, 6388)\n",
      "Estimator predicts 0.5992 for case with 0.6 and selected CV 5 and 3 minority cases using random state 5 and sample size (36, 2388)\n",
      "Estimator predicts 0.5182 for case with 0.81 and selected CV 3 and 3 minority cases using random state 5 and sample size (36, 3388)\n",
      "Estimator predicts 0.6956 for case with 0.64 and selected CV 5 and 3 minority cases using random state 5 and sample size (36, 388)\n",
      "Estimator predicts 0.5325 for case with 0.72 and selected CV 3 and 3 minority cases using random state 5 and sample size (36, 2388)\n",
      "Estimator predicts 0.5855 for case with 0.31 and selected CV 4 and 3 minority cases using random state 5 and sample size (36, 5388)\n",
      "Estimator predicts 0.5249 for case with 0.68 and selected CV 4 and 3 minority cases using random state 5 and sample size (36, 1388)\n",
      "Estimator predicts 0.4768 for case with 0.34 and selected CV 5 and 3 minority cases using random state 5 and sample size (36, 5388)\n",
      "Estimator predicts 0.4516 for case with 0.59 and selected CV 4 and 3 minority cases using random state 5 and sample size (36, 2388)\n",
      "Estimator predicts 0.6606 for case with 0.94 and selected CV 5 and 3 minority cases using random state 5 and sample size (36, 1388)\n",
      "Estimator predicts 0.7698 for case with 0.84 and selected CV 5 and 3 minority cases using random state 5 and sample size (36, 388)\n",
      "Estimator predicts 0.4544 for case with 0.1 and selected CV 5 and 2 minority cases using random state 5 and sample size (36, 5388)\n",
      "Estimator predicts 0.4849 for case with 0.41 and selected CV 4 and 3 minority cases using random state 5 and sample size (36, 388)\n",
      "Estimator predicts 0.6311 for case with 0.57 and selected CV 3 and 3 minority cases using random state 5 and sample size (36, 4388)\n",
      "Estimator predicts 0.689 for case with 0.66 and selected CV 3 and 3 minority cases using random state 5 and sample size (36, 388)\n",
      "Estimator predicts 0.5985 for case with 0.63 and selected CV 5 and 3 minority cases using random state 5 and sample size (36, 1388)\n",
      "Estimator predicts 0.5773 for case with 0.47 and selected CV 4 and 3 minority cases using random state 5 and sample size (36, 3388)\n",
      "Estimator predicts 0.3694 for case with 0.28 and selected CV 3 and 2 minority cases using random state 5 and sample size (36, 1388)\n",
      "Estimator predicts 0.6502 for case with 0.59 and selected CV 3 and 3 minority cases using random state 5 and sample size (36, 388)\n",
      "Estimator predicts 0.6894 for case with 0.53 and selected CV 3 and 3 minority cases using random state 5 and sample size (36, 2388)\n",
      "Estimator predicts 0.6756 for case with 0.86 and selected CV 4 and 3 minority cases using random state 5 and sample size (36, 2388)\n",
      "Estimator predicts 0.4743 for case with 0.48 and selected CV 5 and 3 minority cases using random state 5 and sample size (36, 1388)\n",
      "Estimator predicts 0.6493 for case with 0.66 and selected CV 4 and 3 minority cases using random state 5 and sample size (36, 1388)\n",
      "Estimator predicts 0.5529 for case with 0.33 and selected CV 4 and 3 minority cases using random state 5 and sample size (36, 388)\n",
      "Estimator predicts 0.3053 for case with 0.49 and selected CV 3 and 3 minority cases using random state 5 and sample size (36, 2388)\n",
      "Estimator predicts 0.7194 for case with 0.78 and selected CV 5 and 3 minority cases using random state 5 and sample size (36, 3388)\n",
      "Estimator predicts 0.536 for case with 0.81 and selected CV 3 and 3 minority cases using random state 5 and sample size (36, 1388)\n",
      "Estimator predicts 0.6606 for case with 0.71 and selected CV 4 and 3 minority cases using random state 5 and sample size (36, 4388)\n",
      "Estimator predicts 0.463 for case with 0.32 and selected CV 5 and 3 minority cases using random state 5 and sample size (36, 1388)\n",
      "Estimator predicts 0.7173 for case with 0.83 and selected CV 3 and 3 minority cases using random state 5 and sample size (36, 1388)\n",
      "Estimator predicts 0.7857 for case with 0.72 and selected CV 3 and 91 minority cases using random state 5 and sample size (418, 388)\n",
      "Estimator predicts 0.6244 for case with 0.47 and selected CV 3 and 87 minority cases using random state 5 and sample size (418, 388)\n",
      "Estimator predicts 0.9072 for case with 0.69 and selected CV 3 and 91 minority cases using random state 5 and sample size (418, 388)\n",
      "Estimator predicts 0.6908 for case with 0.42 and selected CV 3 and 87 minority cases using random state 5 and sample size (418, 388)\n",
      "Estimator predicts 0.2672 for case with 0.15 and selected CV 3 and 166 minority cases using random state 5 and sample size (429, 6388)\n",
      "Estimator predicts 0.6445 for case with 0.44 and selected CV 3 and 87 minority cases using random state 5 and sample size (418, 388)\n",
      "Estimator predicts 0.6838 for case with 0.88 and selected CV 3 and 91 minority cases using random state 5 and sample size (418, 388)\n",
      "Estimator predicts 0.5664 for case with 0.4 and selected CV 3 and 87 minority cases using random state 5 and sample size (418, 388)\n",
      "Estimator predicts 0.7016 for case with 0.6 and selected CV 3 and 91 minority cases using random state 5 and sample size (418, 388)\n",
      "Estimator predicts 0.6755 for case with 0.81 and selected CV 2 and 91 minority cases using random state 5 and sample size (418, 388)\n",
      "Estimator predicts 0.7741 for case with 0.64 and selected CV 3 and 91 minority cases using random state 5 and sample size (418, 388)\n",
      "Estimator predicts 0.6533 for case with 0.72 and selected CV 3 and 91 minority cases using random state 5 and sample size (418, 388)\n",
      "Estimator predicts 0.7382 for case with 0.31 and selected CV 3 and 85 minority cases using random state 5 and sample size (418, 6388)\n",
      "Estimator predicts 0.6086 for case with 0.68 and selected CV 2 and 91 minority cases using random state 5 and sample size (418, 1388)\n",
      "Estimator predicts 0.4911 for case with 0.34 and selected CV 3 and 86 minority cases using random state 5 and sample size (418, 6388)\n",
      "Estimator predicts 0.5952 for case with 0.59 and selected CV 3 and 91 minority cases using random state 5 and sample size (418, 388)\n",
      "Estimator predicts 0.7792 for case with 0.94 and selected CV 3 and 91 minority cases using random state 5 and sample size (418, 3388)\n",
      "Estimator predicts 0.7952 for case with 0.84 and selected CV 3 and 91 minority cases using random state 5 and sample size (418, 3388)\n",
      "Estimator predicts 0.0836 for case with 0.1 and selected CV 3 and 161 minority cases using random state 5 and sample size (429, 6388)\n",
      "Estimator predicts 0.6413 for case with 0.41 and selected CV 3 and 87 minority cases using random state 5 and sample size (418, 388)\n",
      "Estimator predicts 0.7354 for case with 0.57 and selected CV 3 and 91 minority cases using random state 5 and sample size (418, 6388)\n",
      "Estimator predicts 0.8697 for case with 0.66 and selected CV 2 and 91 minority cases using random state 5 and sample size (418, 388)\n",
      "Estimator predicts 0.7257 for case with 0.63 and selected CV 2 and 91 minority cases using random state 5 and sample size (418, 3388)\n",
      "Estimator predicts 0.7038 for case with 0.47 and selected CV 3 and 87 minority cases using random state 5 and sample size (418, 388)\n",
      "Estimator predicts 0.2044 for case with 0.28 and selected CV 3 and 171 minority cases using random state 5 and sample size (429, 6388)\n",
      "Estimator predicts 0.7118 for case with 0.59 and selected CV 3 and 91 minority cases using random state 5 and sample size (418, 388)\n",
      "Estimator predicts 0.8072 for case with 0.53 and selected CV 3 and 88 minority cases using random state 5 and sample size (418, 388)\n",
      "Estimator predicts 0.7227 for case with 0.86 and selected CV 4 and 91 minority cases using random state 5 and sample size (418, 6388)\n",
      "Estimator predicts 0.6407 for case with 0.48 and selected CV 3 and 87 minority cases using random state 5 and sample size (418, 388)\n",
      "Estimator predicts 0.7684 for case with 0.66 and selected CV 3 and 91 minority cases using random state 5 and sample size (418, 388)\n",
      "Estimator predicts 0.634 for case with 0.33 and selected CV 3 and 86 minority cases using random state 5 and sample size (418, 388)\n",
      "Estimator predicts 0.6634 for case with 0.49 and selected CV 3 and 88 minority cases using random state 5 and sample size (418, 388)\n",
      "Estimator predicts 0.8539 for case with 0.78 and selected CV 2 and 91 minority cases using random state 5 and sample size (418, 5388)\n",
      "Estimator predicts 0.691 for case with 0.81 and selected CV 2 and 91 minority cases using random state 5 and sample size (418, 388)\n",
      "Estimator predicts 0.8145 for case with 0.71 and selected CV 3 and 91 minority cases using random state 5 and sample size (418, 388)\n",
      "Estimator predicts 0.5765 for case with 0.32 and selected CV 3 and 85 minority cases using random state 5 and sample size (418, 6388)\n",
      "Estimator predicts 0.7597 for case with 0.83 and selected CV 2 and 91 minority cases using random state 5 and sample size (418, 388)\n",
      "Prior to SMOGN sampling, mean is 2.254216974343621e-15 standard deviation is 0.9428736102783335\n"
     ]
    },
    {
     "name": "stderr",
     "output_type": "stream",
     "text": [
      "dist_matrix: 100%|##########| 15/15 [00:17<00:00,  1.15s/it]\n",
      "r_index: 100%|##########| 2/2 [00:02<00:00,  1.09s/it]\n"
     ]
    },
    {
     "name": "stdout",
     "output_type": "stream",
     "text": [
      "Estimator predicts 0.8145 for case with 0.72 and selected CV 2 and 6 minority cases using random state 5 and sample size (56, 6388)\n",
      "Prior to SMOGN sampling, mean is 4.618428910564806e-15 standard deviation is 0.9428736102783335\n"
     ]
    },
    {
     "name": "stderr",
     "output_type": "stream",
     "text": [
      "dist_matrix: 100%|##########| 14/14 [00:15<00:00,  1.10s/it]\n",
      "r_index: 100%|##########| 4/4 [00:04<00:00,  1.04s/it]\n"
     ]
    },
    {
     "name": "stdout",
     "output_type": "stream",
     "text": [
      "Estimator predicts 0.5585 for case with 0.47 and selected CV 4 and 6 minority cases using random state 5 and sample size (58, 3388)\n",
      "Prior to SMOGN sampling, mean is 1.0984665406379618e-15 standard deviation is 0.9428736102783335\n"
     ]
    },
    {
     "name": "stderr",
     "output_type": "stream",
     "text": [
      "dist_matrix: 100%|##########| 15/15 [00:18<00:00,  1.21s/it]\n",
      "r_index: 100%|##########| 2/2 [00:01<00:00,  1.03it/s]\n"
     ]
    },
    {
     "name": "stdout",
     "output_type": "stream",
     "text": [
      "Estimator predicts 0.8601 for case with 0.69 and selected CV 4 and 6 minority cases using random state 5 and sample size (56, 1388)\n",
      "Prior to SMOGN sampling, mean is 3.877754970640942e-15 standard deviation is 0.9427075675526859\n"
     ]
    },
    {
     "name": "stderr",
     "output_type": "stream",
     "text": [
      "dist_matrix: 100%|##########| 14/14 [00:14<00:00,  1.04s/it]\n",
      "r_index: 100%|##########| 4/4 [00:04<00:00,  1.02s/it]\n"
     ]
    },
    {
     "name": "stdout",
     "output_type": "stream",
     "text": [
      "Estimator predicts 0.6182 for case with 0.42 and selected CV 2 and 6 minority cases using random state 5 and sample size (58, 1388)\n",
      "Prior to SMOGN sampling, mean is 3.4877054204324126e-15 standard deviation is 0.9428736102783335\n"
     ]
    },
    {
     "name": "stderr",
     "output_type": "stream",
     "text": [
      "dist_matrix: 100%|##########| 14/14 [00:15<00:00,  1.13s/it]\n",
      "r_index: 100%|##########| 4/4 [00:04<00:00,  1.05s/it]\n"
     ]
    },
    {
     "name": "stdout",
     "output_type": "stream",
     "text": [
      "Estimator predicts 0.4361 for case with 0.15 and selected CV 3 and 4 minority cases using random state 5 and sample size (58, 388)\n",
      "Prior to SMOGN sampling, mean is 2.9073275092222564e-15 standard deviation is 0.9428736102783335\n"
     ]
    },
    {
     "name": "stderr",
     "output_type": "stream",
     "text": [
      "dist_matrix: 100%|##########| 14/14 [00:15<00:00,  1.09s/it]\n",
      "r_index: 100%|##########| 4/4 [00:04<00:00,  1.14s/it]\n"
     ]
    },
    {
     "name": "stdout",
     "output_type": "stream",
     "text": [
      "Estimator predicts 0.6142 for case with 0.44 and selected CV 2 and 6 minority cases using random state 5 and sample size (58, 388)\n",
      "Prior to SMOGN sampling, mean is 4.831559597933187e-15 standard deviation is 0.9428736102783334\n"
     ]
    },
    {
     "name": "stderr",
     "output_type": "stream",
     "text": [
      "dist_matrix: 100%|##########| 15/15 [00:18<00:00,  1.21s/it]\n",
      "r_index: 100%|##########| 2/2 [00:01<00:00,  1.06it/s]\n"
     ]
    },
    {
     "name": "stdout",
     "output_type": "stream",
     "text": [
      "Estimator predicts 0.7023 for case with 0.88 and selected CV 2 and 6 minority cases using random state 5 and sample size (56, 4388)\n",
      "Prior to SMOGN sampling, mean is 2.7755807346587927e-15 standard deviation is 0.9428736102783335\n"
     ]
    },
    {
     "name": "stderr",
     "output_type": "stream",
     "text": [
      "dist_matrix: 100%|##########| 14/14 [00:15<00:00,  1.08s/it]\n",
      "r_index: 100%|##########| 4/4 [00:04<00:00,  1.01s/it]\n"
     ]
    },
    {
     "name": "stdout",
     "output_type": "stream",
     "text": [
      "Estimator predicts 0.3794 for case with 0.4 and selected CV 3 and 6 minority cases using random state 5 and sample size (58, 1388)\n",
      "Prior to SMOGN sampling, mean is 3.5947342260346265e-15 standard deviation is 0.9428736102783334\n"
     ]
    },
    {
     "name": "stderr",
     "output_type": "stream",
     "text": [
      "dist_matrix: 100%|##########| 15/15 [00:17<00:00,  1.20s/it]\n",
      "r_index: 100%|##########| 2/2 [00:02<00:00,  1.27s/it]\n"
     ]
    },
    {
     "name": "stdout",
     "output_type": "stream",
     "text": [
      "Estimator predicts 0.5962 for case with 0.6 and selected CV 3 and 6 minority cases using random state 5 and sample size (56, 1388)\n",
      "Prior to SMOGN sampling, mean is 4.197852668689133e-15 standard deviation is 0.9428736102783337\n"
     ]
    },
    {
     "name": "stderr",
     "output_type": "stream",
     "text": [
      "dist_matrix: 100%|##########| 15/15 [00:17<00:00,  1.20s/it]\n",
      "r_index: 100%|##########| 2/2 [00:02<00:00,  1.02s/it]\n"
     ]
    },
    {
     "name": "stdout",
     "output_type": "stream",
     "text": [
      "Estimator predicts 0.5012 for case with 0.81 and selected CV 3 and 6 minority cases using random state 5 and sample size (56, 3388)\n",
      "Prior to SMOGN sampling, mean is 3.3461332532068517e-15 standard deviation is 0.9428736102783333\n"
     ]
    },
    {
     "name": "stderr",
     "output_type": "stream",
     "text": [
      "dist_matrix: 100%|##########| 15/15 [00:19<00:00,  1.27s/it]\n",
      "r_index: 100%|##########| 2/2 [00:02<00:00,  1.06s/it]\n"
     ]
    },
    {
     "name": "stdout",
     "output_type": "stream",
     "text": [
      "Estimator predicts 0.7475 for case with 0.64 and selected CV 2 and 6 minority cases using random state 5 and sample size (56, 2388)\n",
      "Prior to SMOGN sampling, mean is 2.9586172948168506e-15 standard deviation is 0.9428736102783334\n"
     ]
    },
    {
     "name": "stderr",
     "output_type": "stream",
     "text": [
      "dist_matrix: 100%|##########| 15/15 [00:17<00:00,  1.17s/it]\n",
      "r_index: 100%|##########| 2/2 [00:02<00:00,  1.02s/it]\n"
     ]
    },
    {
     "name": "stdout",
     "output_type": "stream",
     "text": [
      "Estimator predicts 0.5442 for case with 0.72 and selected CV 3 and 6 minority cases using random state 5 and sample size (56, 388)\n",
      "Prior to SMOGN sampling, mean is 4.9981587087320136e-15 standard deviation is 0.9428736102783335\n"
     ]
    },
    {
     "name": "stderr",
     "output_type": "stream",
     "text": [
      "dist_matrix: 100%|##########| 14/14 [00:15<00:00,  1.12s/it]\n",
      "r_index: 100%|##########| 4/4 [00:04<00:00,  1.08s/it]\n"
     ]
    },
    {
     "name": "stdout",
     "output_type": "stream",
     "text": [
      "Estimator predicts 0.5933 for case with 0.31 and selected CV 3 and 6 minority cases using random state 5 and sample size (58, 2388)\n",
      "Prior to SMOGN sampling, mean is 3.0597137878683644e-15 standard deviation is 0.9428736102783335\n"
     ]
    },
    {
     "name": "stderr",
     "output_type": "stream",
     "text": [
      "dist_matrix: 100%|##########| 15/15 [00:15<00:00,  1.04s/it]\n",
      "r_index: 100%|##########| 2/2 [00:01<00:00,  1.09it/s]\n"
     ]
    },
    {
     "name": "stdout",
     "output_type": "stream",
     "text": [
      "Estimator predicts 0.4837 for case with 0.68 and selected CV 3 and 6 minority cases using random state 5 and sample size (56, 388)\n",
      "Prior to SMOGN sampling, mean is 3.050691729197508e-15 standard deviation is 0.9428736102783334\n"
     ]
    },
    {
     "name": "stderr",
     "output_type": "stream",
     "text": [
      "dist_matrix: 100%|##########| 14/14 [00:13<00:00,  1.01it/s]\n",
      "r_index: 100%|##########| 4/4 [00:03<00:00,  1.01it/s]\n"
     ]
    },
    {
     "name": "stdout",
     "output_type": "stream",
     "text": [
      "Estimator predicts 0.3878 for case with 0.34 and selected CV 3 and 6 minority cases using random state 5 and sample size (58, 3388)\n",
      "Prior to SMOGN sampling, mean is 2.9869811641998853e-15 standard deviation is 0.9428736102783335\n"
     ]
    },
    {
     "name": "stderr",
     "output_type": "stream",
     "text": [
      "dist_matrix: 100%|##########| 15/15 [00:15<00:00,  1.06s/it]\n",
      "r_index: 100%|##########| 2/2 [00:01<00:00,  1.05it/s]\n"
     ]
    },
    {
     "name": "stdout",
     "output_type": "stream",
     "text": [
      "Estimator predicts 0.3943 for case with 0.59 and selected CV 3 and 6 minority cases using random state 5 and sample size (56, 4388)\n",
      "Prior to SMOGN sampling, mean is 3.306831682558464e-15 standard deviation is 0.9428736102783336\n"
     ]
    },
    {
     "name": "stderr",
     "output_type": "stream",
     "text": [
      "dist_matrix: 100%|##########| 14/14 [00:13<00:00,  1.02it/s]\n",
      "r_index: 100%|##########| 4/4 [00:03<00:00,  1.06it/s]\n"
     ]
    },
    {
     "name": "stdout",
     "output_type": "stream",
     "text": [
      "Estimator predicts 0.6406 for case with 0.94 and selected CV 5 and 6 minority cases using random state 5 and sample size (58, 3388)\n",
      "Prior to SMOGN sampling, mean is 2.5989090515082563e-15 standard deviation is 0.9428736102783336\n"
     ]
    },
    {
     "name": "stderr",
     "output_type": "stream",
     "text": [
      "dist_matrix: 100%|##########| 15/15 [00:15<00:00,  1.06s/it]\n",
      "r_index: 100%|##########| 2/2 [00:01<00:00,  1.06it/s]\n"
     ]
    },
    {
     "name": "stdout",
     "output_type": "stream",
     "text": [
      "Estimator predicts 0.619 for case with 0.84 and selected CV 2 and 6 minority cases using random state 5 and sample size (56, 388)\n",
      "Prior to SMOGN sampling, mean is 1.236207422674529e-15 standard deviation is 0.9428736102783336\n"
     ]
    },
    {
     "name": "stderr",
     "output_type": "stream",
     "text": [
      "dist_matrix: 100%|##########| 15/15 [00:16<00:00,  1.08s/it]\n",
      "r_index: 100%|##########| 2/2 [00:01<00:00,  1.04it/s]\n"
     ]
    },
    {
     "name": "stdout",
     "output_type": "stream",
     "text": [
      "Estimator predicts 0.4417 for case with 0.1 and selected CV 3 and 4 minority cases using random state 5 and sample size (56, 388)\n",
      "Prior to SMOGN sampling, mean is 3.4126863846350182e-15 standard deviation is 0.9428736102783333\n"
     ]
    },
    {
     "name": "stderr",
     "output_type": "stream",
     "text": [
      "dist_matrix: 100%|##########| 14/14 [00:13<00:00,  1.02it/s]\n",
      "r_index: 100%|##########| 4/4 [00:03<00:00,  1.01it/s]\n"
     ]
    },
    {
     "name": "stdout",
     "output_type": "stream",
     "text": [
      "Estimator predicts 0.5296 for case with 0.41 and selected CV 5 and 6 minority cases using random state 5 and sample size (58, 388)\n",
      "Prior to SMOGN sampling, mean is 4.274972731848234e-15 standard deviation is 0.9428736102783336\n"
     ]
    },
    {
     "name": "stderr",
     "output_type": "stream",
     "text": [
      "dist_matrix: 100%|##########| 15/15 [00:16<00:00,  1.08s/it]\n",
      "r_index: 100%|##########| 2/2 [00:01<00:00,  1.03it/s]\n"
     ]
    },
    {
     "name": "stdout",
     "output_type": "stream",
     "text": [
      "Estimator predicts 0.679 for case with 0.57 and selected CV 5 and 6 minority cases using random state 5 and sample size (56, 1388)\n",
      "Prior to SMOGN sampling, mean is 2.6172621434619846e-15 standard deviation is 0.9428736102783335\n"
     ]
    },
    {
     "name": "stderr",
     "output_type": "stream",
     "text": [
      "dist_matrix: 100%|##########| 15/15 [00:15<00:00,  1.06s/it]\n",
      "r_index: 100%|##########| 2/2 [00:01<00:00,  1.04it/s]\n"
     ]
    },
    {
     "name": "stdout",
     "output_type": "stream",
     "text": [
      "Estimator predicts 0.7525 for case with 0.66 and selected CV 4 and 6 minority cases using random state 5 and sample size (56, 2388)\n",
      "Prior to SMOGN sampling, mean is 1.4799883915548597e-15 standard deviation is 0.9428736102783335\n"
     ]
    },
    {
     "name": "stderr",
     "output_type": "stream",
     "text": [
      "dist_matrix: 100%|##########| 15/15 [00:15<00:00,  1.04s/it]\n",
      "r_index: 100%|##########| 2/2 [00:01<00:00,  1.07it/s]\n"
     ]
    },
    {
     "name": "stdout",
     "output_type": "stream",
     "text": [
      "Estimator predicts 0.5735 for case with 0.63 and selected CV 2 and 6 minority cases using random state 5 and sample size (56, 3388)\n",
      "Prior to SMOGN sampling, mean is 3.78222002060571e-15 standard deviation is 0.9428736102783333\n"
     ]
    },
    {
     "name": "stderr",
     "output_type": "stream",
     "text": [
      "dist_matrix: 100%|##########| 14/14 [00:13<00:00,  1.03it/s]\n",
      "r_index: 100%|##########| 4/4 [00:03<00:00,  1.05it/s]\n"
     ]
    },
    {
     "name": "stdout",
     "output_type": "stream",
     "text": [
      "Estimator predicts 0.7018 for case with 0.47 and selected CV 4 and 6 minority cases using random state 5 and sample size (58, 3388)\n",
      "Prior to SMOGN sampling, mean is 1.9759544387623463e-15 standard deviation is 0.9428736102783336\n"
     ]
    },
    {
     "name": "stderr",
     "output_type": "stream",
     "text": [
      "dist_matrix: 100%|##########| 14/14 [00:13<00:00,  1.02it/s]\n",
      "r_index: 100%|##########| 4/4 [00:03<00:00,  1.04it/s]\n"
     ]
    },
    {
     "name": "stdout",
     "output_type": "stream",
     "text": [
      "Estimator predicts 0.3236 for case with 0.28 and selected CV 4 and 4 minority cases using random state 5 and sample size (58, 2388)\n",
      "Prior to SMOGN sampling, mean is -9.57944887093254e-16 standard deviation is 0.9428736102783334\n"
     ]
    },
    {
     "name": "stderr",
     "output_type": "stream",
     "text": [
      "dist_matrix: 100%|##########| 15/15 [00:15<00:00,  1.06s/it]\n",
      "r_index: 100%|##########| 2/2 [00:02<00:00,  1.00s/it]\n"
     ]
    },
    {
     "name": "stdout",
     "output_type": "stream",
     "text": [
      "Estimator predicts 0.6172 for case with 0.59 and selected CV 2 and 6 minority cases using random state 5 and sample size (56, 2388)\n",
      "Prior to SMOGN sampling, mean is 1.061636766885699e-15 standard deviation is 0.9428736102783336\n"
     ]
    },
    {
     "name": "stderr",
     "output_type": "stream",
     "text": [
      "dist_matrix: 100%|##########| 15/15 [00:16<00:00,  1.10s/it]\n",
      "r_index: 100%|##########| 2/2 [00:01<00:00,  1.05it/s]\n"
     ]
    },
    {
     "name": "stdout",
     "output_type": "stream",
     "text": [
      "Estimator predicts 0.685 for case with 0.53 and selected CV 3 and 6 minority cases using random state 5 and sample size (56, 388)\n",
      "Prior to SMOGN sampling, mean is -1.2810087414167951e-16 standard deviation is 0.9428736102783336\n"
     ]
    },
    {
     "name": "stderr",
     "output_type": "stream",
     "text": [
      "dist_matrix: 100%|##########| 15/15 [00:15<00:00,  1.04s/it]\n",
      "r_index: 100%|##########| 2/2 [00:01<00:00,  1.05it/s]\n"
     ]
    },
    {
     "name": "stdout",
     "output_type": "stream",
     "text": [
      "Estimator predicts 0.5988 for case with 0.86 and selected CV 4 and 6 minority cases using random state 5 and sample size (56, 388)\n",
      "Prior to SMOGN sampling, mean is 8.549327514472436e-16 standard deviation is 0.9428736102783335\n"
     ]
    },
    {
     "name": "stderr",
     "output_type": "stream",
     "text": [
      "dist_matrix: 100%|##########| 14/14 [00:13<00:00,  1.03it/s]\n",
      "r_index: 100%|##########| 4/4 [00:03<00:00,  1.06it/s]\n"
     ]
    },
    {
     "name": "stdout",
     "output_type": "stream",
     "text": [
      "Estimator predicts 0.4491 for case with 0.48 and selected CV 3 and 6 minority cases using random state 5 and sample size (58, 1388)\n",
      "Prior to SMOGN sampling, mean is 1.7654809330573003e-15 standard deviation is 0.9428736102783336\n"
     ]
    },
    {
     "name": "stderr",
     "output_type": "stream",
     "text": [
      "dist_matrix: 100%|##########| 15/15 [00:16<00:00,  1.10s/it]\n",
      "r_index: 100%|##########| 2/2 [00:01<00:00,  1.00it/s]\n"
     ]
    },
    {
     "name": "stdout",
     "output_type": "stream",
     "text": [
      "Estimator predicts 0.7086 for case with 0.66 and selected CV 5 and 6 minority cases using random state 5 and sample size (56, 2388)\n",
      "Prior to SMOGN sampling, mean is 1.9869539349501027e-15 standard deviation is 0.9428736102783336\n"
     ]
    },
    {
     "name": "stderr",
     "output_type": "stream",
     "text": [
      "dist_matrix: 100%|##########| 14/14 [00:14<00:00,  1.03s/it]\n",
      "r_index: 100%|##########| 4/4 [00:03<00:00,  1.05it/s]\n"
     ]
    },
    {
     "name": "stdout",
     "output_type": "stream",
     "text": [
      "Estimator predicts 0.5394 for case with 0.33 and selected CV 5 and 6 minority cases using random state 5 and sample size (58, 388)\n",
      "Prior to SMOGN sampling, mean is 2.5607815843855277e-15 standard deviation is 0.9428736102783335\n"
     ]
    },
    {
     "name": "stderr",
     "output_type": "stream",
     "text": [
      "dist_matrix: 100%|##########| 14/14 [00:13<00:00,  1.00it/s]\n",
      "r_index: 100%|##########| 4/4 [00:03<00:00,  1.02it/s]\n"
     ]
    },
    {
     "name": "stdout",
     "output_type": "stream",
     "text": [
      "Estimator predicts 0.473 for case with 0.49 and selected CV 2 and 6 minority cases using random state 5 and sample size (58, 6388)\n",
      "Prior to SMOGN sampling, mean is -4.688998711949176e-16 standard deviation is 0.9391305482199347\n"
     ]
    },
    {
     "name": "stderr",
     "output_type": "stream",
     "text": [
      "dist_matrix: 100%|##########| 15/15 [00:15<00:00,  1.06s/it]\n",
      "r_index: 100%|##########| 2/2 [00:01<00:00,  1.08it/s]\n"
     ]
    },
    {
     "name": "stdout",
     "output_type": "stream",
     "text": [
      "Estimator predicts 0.7591 for case with 0.78 and selected CV 3 and 6 minority cases using random state 5 and sample size (56, 1388)\n",
      "Prior to SMOGN sampling, mean is 1.2628410342302761e-15 standard deviation is 0.9428736102783334\n"
     ]
    },
    {
     "name": "stderr",
     "output_type": "stream",
     "text": [
      "dist_matrix: 100%|##########| 15/15 [00:15<00:00,  1.06s/it]\n",
      "r_index: 100%|##########| 2/2 [00:01<00:00,  1.03it/s]\n"
     ]
    },
    {
     "name": "stdout",
     "output_type": "stream",
     "text": [
      "Estimator predicts 0.587 for case with 0.81 and selected CV 2 and 6 minority cases using random state 5 and sample size (56, 1388)\n",
      "Prior to SMOGN sampling, mean is -1.6455987835952367e-16 standard deviation is 0.9428736102783335\n"
     ]
    },
    {
     "name": "stderr",
     "output_type": "stream",
     "text": [
      "dist_matrix: 100%|##########| 15/15 [00:15<00:00,  1.06s/it]\n",
      "r_index: 100%|##########| 2/2 [00:01<00:00,  1.03it/s]\n"
     ]
    },
    {
     "name": "stdout",
     "output_type": "stream",
     "text": [
      "Estimator predicts 0.751 for case with 0.71 and selected CV 4 and 6 minority cases using random state 5 and sample size (56, 1388)\n",
      "Prior to SMOGN sampling, mean is 1.430923223166778e-15 standard deviation is 0.9428736102783336\n"
     ]
    },
    {
     "name": "stderr",
     "output_type": "stream",
     "text": [
      "dist_matrix: 100%|##########| 14/14 [00:14<00:00,  1.02s/it]\n",
      "r_index: 100%|##########| 4/4 [00:03<00:00,  1.04it/s]\n"
     ]
    },
    {
     "name": "stdout",
     "output_type": "stream",
     "text": [
      "Estimator predicts 0.5625 for case with 0.32 and selected CV 5 and 6 minority cases using random state 5 and sample size (58, 388)\n",
      "Prior to SMOGN sampling, mean is 1.9922682982767715e-16 standard deviation is 0.9428736102783337\n"
     ]
    },
    {
     "name": "stderr",
     "output_type": "stream",
     "text": [
      "dist_matrix: 100%|##########| 15/15 [00:15<00:00,  1.05s/it]\n",
      "r_index: 100%|##########| 2/2 [00:01<00:00,  1.03it/s]\n"
     ]
    },
    {
     "name": "stdout",
     "output_type": "stream",
     "text": [
      "Estimator predicts 0.7053 for case with 0.83 and selected CV 5 and 6 minority cases using random state 5 and sample size (56, 3388)\n",
      "Estimator predicts 0.7425 for case with 0.72 and selected CV 4 and 3 minority cases using random state 6 and sample size (36, 3388)\n",
      "Estimator predicts 0.5192 for case with 0.47 and selected CV 5 and 3 minority cases using random state 6 and sample size (36, 388)\n",
      "Estimator predicts 0.8663 for case with 0.69 and selected CV 3 and 3 minority cases using random state 6 and sample size (36, 388)\n",
      "Estimator predicts 0.7105 for case with 0.42 and selected CV 4 and 3 minority cases using random state 6 and sample size (36, 3388)\n",
      "Estimator predicts 0.5862 for case with 0.15 and selected CV 3 and 2 minority cases using random state 6 and sample size (36, 6388)\n",
      "Estimator predicts 0.4844 for case with 0.44 and selected CV 4 and 3 minority cases using random state 6 and sample size (36, 388)\n",
      "Estimator predicts 0.6951 for case with 0.88 and selected CV 4 and 3 minority cases using random state 6 and sample size (36, 3388)\n",
      "Estimator predicts 0.5759 for case with 0.4 and selected CV 3 and 3 minority cases using random state 6 and sample size (36, 6388)\n",
      "Estimator predicts 0.5992 for case with 0.6 and selected CV 5 and 3 minority cases using random state 6 and sample size (36, 2388)\n",
      "Estimator predicts 0.5182 for case with 0.81 and selected CV 3 and 3 minority cases using random state 6 and sample size (36, 3388)\n",
      "Estimator predicts 0.6956 for case with 0.64 and selected CV 5 and 3 minority cases using random state 6 and sample size (36, 388)\n",
      "Estimator predicts 0.5325 for case with 0.72 and selected CV 3 and 3 minority cases using random state 6 and sample size (36, 2388)\n",
      "Estimator predicts 0.5855 for case with 0.31 and selected CV 4 and 3 minority cases using random state 6 and sample size (36, 5388)\n",
      "Estimator predicts 0.5249 for case with 0.68 and selected CV 4 and 3 minority cases using random state 6 and sample size (36, 1388)\n",
      "Estimator predicts 0.4768 for case with 0.34 and selected CV 5 and 3 minority cases using random state 6 and sample size (36, 5388)\n",
      "Estimator predicts 0.4516 for case with 0.59 and selected CV 4 and 3 minority cases using random state 6 and sample size (36, 2388)\n",
      "Estimator predicts 0.6606 for case with 0.94 and selected CV 5 and 3 minority cases using random state 6 and sample size (36, 1388)\n",
      "Estimator predicts 0.7698 for case with 0.84 and selected CV 5 and 3 minority cases using random state 6 and sample size (36, 388)\n",
      "Estimator predicts 0.4544 for case with 0.1 and selected CV 5 and 2 minority cases using random state 6 and sample size (36, 5388)\n",
      "Estimator predicts 0.4849 for case with 0.41 and selected CV 4 and 3 minority cases using random state 6 and sample size (36, 388)\n",
      "Estimator predicts 0.6311 for case with 0.57 and selected CV 3 and 3 minority cases using random state 6 and sample size (36, 4388)\n",
      "Estimator predicts 0.689 for case with 0.66 and selected CV 3 and 3 minority cases using random state 6 and sample size (36, 388)\n",
      "Estimator predicts 0.5985 for case with 0.63 and selected CV 5 and 3 minority cases using random state 6 and sample size (36, 1388)\n",
      "Estimator predicts 0.5773 for case with 0.47 and selected CV 4 and 3 minority cases using random state 6 and sample size (36, 3388)\n",
      "Estimator predicts 0.3694 for case with 0.28 and selected CV 3 and 2 minority cases using random state 6 and sample size (36, 1388)\n",
      "Estimator predicts 0.6502 for case with 0.59 and selected CV 3 and 3 minority cases using random state 6 and sample size (36, 388)\n",
      "Estimator predicts 0.6894 for case with 0.53 and selected CV 3 and 3 minority cases using random state 6 and sample size (36, 2388)\n",
      "Estimator predicts 0.6756 for case with 0.86 and selected CV 4 and 3 minority cases using random state 6 and sample size (36, 2388)\n",
      "Estimator predicts 0.4743 for case with 0.48 and selected CV 5 and 3 minority cases using random state 6 and sample size (36, 1388)\n",
      "Estimator predicts 0.6493 for case with 0.66 and selected CV 4 and 3 minority cases using random state 6 and sample size (36, 1388)\n",
      "Estimator predicts 0.5529 for case with 0.33 and selected CV 4 and 3 minority cases using random state 6 and sample size (36, 388)\n",
      "Estimator predicts 0.3053 for case with 0.49 and selected CV 3 and 3 minority cases using random state 6 and sample size (36, 2388)\n",
      "Estimator predicts 0.7194 for case with 0.78 and selected CV 5 and 3 minority cases using random state 6 and sample size (36, 3388)\n",
      "Estimator predicts 0.536 for case with 0.81 and selected CV 3 and 3 minority cases using random state 6 and sample size (36, 1388)\n",
      "Estimator predicts 0.6606 for case with 0.71 and selected CV 4 and 3 minority cases using random state 6 and sample size (36, 4388)\n",
      "Estimator predicts 0.463 for case with 0.32 and selected CV 5 and 3 minority cases using random state 6 and sample size (36, 1388)\n",
      "Estimator predicts 0.7173 for case with 0.83 and selected CV 3 and 3 minority cases using random state 6 and sample size (36, 1388)\n",
      "Estimator predicts 0.9578 for case with 0.72 and selected CV 4 and 62 minority cases using random state 6 and sample size (418, 6388)\n",
      "Estimator predicts 0.7527 for case with 0.47 and selected CV 4 and 61 minority cases using random state 6 and sample size (418, 388)\n",
      "Estimator predicts 1.0464 for case with 0.69 and selected CV 4 and 62 minority cases using random state 6 and sample size (418, 388)\n",
      "Estimator predicts 0.8966 for case with 0.42 and selected CV 2 and 60 minority cases using random state 6 and sample size (418, 388)\n",
      "Estimator predicts 0.5375 for case with 0.15 and selected CV 4 and 106 minority cases using random state 6 and sample size (429, 4388)\n",
      "Estimator predicts 0.7306 for case with 0.44 and selected CV 4 and 61 minority cases using random state 6 and sample size (418, 388)\n",
      "Estimator predicts 0.9803 for case with 0.88 and selected CV 4 and 61 minority cases using random state 6 and sample size (418, 5388)\n",
      "Estimator predicts 0.6705 for case with 0.4 and selected CV 4 and 58 minority cases using random state 6 and sample size (418, 6388)\n",
      "Estimator predicts 0.8342 for case with 0.6 and selected CV 2 and 63 minority cases using random state 6 and sample size (418, 388)\n",
      "Estimator predicts 0.7984 for case with 0.81 and selected CV 4 and 61 minority cases using random state 6 and sample size (418, 388)\n",
      "Estimator predicts 1.0453 for case with 0.64 and selected CV 4 and 62 minority cases using random state 6 and sample size (418, 6388)\n",
      "Estimator predicts 0.8433 for case with 0.72 and selected CV 4 and 62 minority cases using random state 6 and sample size (418, 5388)\n",
      "Estimator predicts 0.8669 for case with 0.31 and selected CV 4 and 57 minority cases using random state 6 and sample size (418, 6388)\n",
      "Estimator predicts 0.7304 for case with 0.68 and selected CV 4 and 62 minority cases using random state 6 and sample size (418, 388)\n",
      "Estimator predicts 0.6333 for case with 0.34 and selected CV 2 and 57 minority cases using random state 6 and sample size (418, 388)\n",
      "Estimator predicts 0.7145 for case with 0.59 and selected CV 2 and 63 minority cases using random state 6 and sample size (418, 388)\n",
      "Estimator predicts 0.908 for case with 0.94 and selected CV 4 and 60 minority cases using random state 6 and sample size (418, 6388)\n",
      "Estimator predicts 0.9599 for case with 0.84 and selected CV 4 and 61 minority cases using random state 6 and sample size (418, 388)\n",
      "Estimator predicts 0.3489 for case with 0.1 and selected CV 2 and 104 minority cases using random state 6 and sample size (429, 4388)\n",
      "Estimator predicts 0.7008 for case with 0.41 and selected CV 2 and 59 minority cases using random state 6 and sample size (418, 388)\n",
      "Estimator predicts 0.906 for case with 0.57 and selected CV 2 and 63 minority cases using random state 6 and sample size (418, 388)\n",
      "Estimator predicts 1.0246 for case with 0.66 and selected CV 4 and 62 minority cases using random state 6 and sample size (418, 388)\n",
      "Estimator predicts 0.8603 for case with 0.63 and selected CV 2 and 62 minority cases using random state 6 and sample size (418, 388)\n",
      "Estimator predicts 0.8448 for case with 0.47 and selected CV 2 and 61 minority cases using random state 6 and sample size (418, 388)\n",
      "Estimator predicts 0.5131 for case with 0.28 and selected CV 2 and 109 minority cases using random state 6 and sample size (429, 388)\n",
      "Estimator predicts 0.9041 for case with 0.59 and selected CV 2 and 63 minority cases using random state 6 and sample size (418, 388)\n",
      "Estimator predicts 0.9453 for case with 0.53 and selected CV 2 and 63 minority cases using random state 6 and sample size (418, 388)\n",
      "Estimator predicts 0.8719 for case with 0.86 and selected CV 2 and 61 minority cases using random state 6 and sample size (418, 388)\n",
      "Estimator predicts 0.7149 for case with 0.48 and selected CV 2 and 61 minority cases using random state 6 and sample size (418, 388)\n",
      "Estimator predicts 0.8933 for case with 0.66 and selected CV 4 and 62 minority cases using random state 6 and sample size (418, 6388)\n",
      "Estimator predicts 0.7774 for case with 0.33 and selected CV 2 and 57 minority cases using random state 6 and sample size (418, 1388)\n",
      "Estimator predicts 0.6859 for case with 0.49 and selected CV 4 and 61 minority cases using random state 6 and sample size (418, 5388)\n",
      "Estimator predicts 0.9785 for case with 0.78 and selected CV 2 and 61 minority cases using random state 6 and sample size (418, 388)\n",
      "Estimator predicts 0.8233 for case with 0.81 and selected CV 4 and 61 minority cases using random state 6 and sample size (418, 388)\n",
      "Estimator predicts 0.9533 for case with 0.71 and selected CV 2 and 62 minority cases using random state 6 and sample size (418, 388)\n",
      "Estimator predicts 0.707 for case with 0.32 and selected CV 2 and 57 minority cases using random state 6 and sample size (418, 388)\n",
      "Estimator predicts 0.9781 for case with 0.83 and selected CV 4 and 61 minority cases using random state 6 and sample size (418, 5388)\n",
      "Prior to SMOGN sampling, mean is 2.254216974343621e-15 standard deviation is 0.9428736102783335\n"
     ]
    },
    {
     "name": "stderr",
     "output_type": "stream",
     "text": [
      "dist_matrix: 100%|##########| 15/15 [00:17<00:00,  1.16s/it]\n",
      "r_index: 100%|##########| 2/2 [00:02<00:00,  1.02s/it]\n"
     ]
    },
    {
     "name": "stdout",
     "output_type": "stream",
     "text": [
      "Estimator predicts 0.7391 for case with 0.72 and selected CV 2 and 7 minority cases using random state 6 and sample size (56, 3388)\n",
      "Prior to SMOGN sampling, mean is 4.618428910564806e-15 standard deviation is 0.9428736102783335\n"
     ]
    },
    {
     "name": "stderr",
     "output_type": "stream",
     "text": [
      "dist_matrix: 100%|##########| 14/14 [00:15<00:00,  1.08s/it]\n",
      "r_index: 100%|##########| 4/4 [00:04<00:00,  1.11s/it]\n"
     ]
    },
    {
     "name": "stdout",
     "output_type": "stream",
     "text": [
      "Estimator predicts 0.5531 for case with 0.47 and selected CV 4 and 6 minority cases using random state 6 and sample size (58, 6388)\n",
      "Prior to SMOGN sampling, mean is 1.0984665406379618e-15 standard deviation is 0.9428736102783335\n"
     ]
    },
    {
     "name": "stderr",
     "output_type": "stream",
     "text": [
      "dist_matrix: 100%|##########| 15/15 [00:23<00:00,  1.55s/it]\n",
      "r_index: 100%|##########| 2/2 [00:02<00:00,  1.14s/it]\n"
     ]
    },
    {
     "name": "stdout",
     "output_type": "stream",
     "text": [
      "Estimator predicts 0.8088 for case with 0.69 and selected CV 2 and 6 minority cases using random state 6 and sample size (56, 5388)\n",
      "Prior to SMOGN sampling, mean is 3.877754970640942e-15 standard deviation is 0.9427075675526859\n"
     ]
    },
    {
     "name": "stderr",
     "output_type": "stream",
     "text": [
      "dist_matrix: 100%|##########| 14/14 [00:20<00:00,  1.47s/it]\n",
      "r_index: 100%|##########| 4/4 [00:05<00:00,  1.32s/it]\n"
     ]
    },
    {
     "name": "stdout",
     "output_type": "stream",
     "text": [
      "Estimator predicts 0.6169 for case with 0.42 and selected CV 5 and 6 minority cases using random state 6 and sample size (58, 3388)\n",
      "Prior to SMOGN sampling, mean is 3.4877054204324126e-15 standard deviation is 0.9428736102783335\n"
     ]
    },
    {
     "name": "stderr",
     "output_type": "stream",
     "text": [
      "dist_matrix: 100%|##########| 14/14 [00:19<00:00,  1.37s/it]\n",
      "r_index: 100%|##########| 4/4 [00:04<00:00,  1.24s/it]\n"
     ]
    },
    {
     "name": "stdout",
     "output_type": "stream",
     "text": [
      "Estimator predicts 0.5063 for case with 0.15 and selected CV 3 and 4 minority cases using random state 6 and sample size (58, 388)\n",
      "Prior to SMOGN sampling, mean is 2.9073275092222564e-15 standard deviation is 0.9428736102783335\n"
     ]
    },
    {
     "name": "stderr",
     "output_type": "stream",
     "text": [
      "dist_matrix: 100%|##########| 14/14 [00:21<00:00,  1.51s/it]\n",
      "r_index: 100%|##########| 4/4 [00:05<00:00,  1.32s/it]\n"
     ]
    },
    {
     "name": "stdout",
     "output_type": "stream",
     "text": [
      "Estimator predicts 0.5811 for case with 0.44 and selected CV 4 and 6 minority cases using random state 6 and sample size (58, 4388)\n",
      "Prior to SMOGN sampling, mean is 4.831559597933187e-15 standard deviation is 0.9428736102783334\n"
     ]
    },
    {
     "name": "stderr",
     "output_type": "stream",
     "text": [
      "dist_matrix: 100%|##########| 15/15 [00:22<00:00,  1.50s/it]\n",
      "r_index: 100%|##########| 2/2 [00:02<00:00,  1.10s/it]\n"
     ]
    },
    {
     "name": "stdout",
     "output_type": "stream",
     "text": [
      "Estimator predicts 0.7983 for case with 0.88 and selected CV 3 and 6 minority cases using random state 6 and sample size (56, 388)\n",
      "Prior to SMOGN sampling, mean is 2.7755807346587927e-15 standard deviation is 0.9428736102783335\n"
     ]
    },
    {
     "name": "stderr",
     "output_type": "stream",
     "text": [
      "dist_matrix: 100%|##########| 14/14 [00:19<00:00,  1.38s/it]\n",
      "r_index: 100%|##########| 4/4 [00:04<00:00,  1.23s/it]\n"
     ]
    },
    {
     "name": "stdout",
     "output_type": "stream",
     "text": [
      "Estimator predicts 0.4907 for case with 0.4 and selected CV 4 and 6 minority cases using random state 6 and sample size (58, 6388)\n",
      "Prior to SMOGN sampling, mean is 3.5947342260346265e-15 standard deviation is 0.9428736102783334\n"
     ]
    },
    {
     "name": "stderr",
     "output_type": "stream",
     "text": [
      "dist_matrix: 100%|##########| 15/15 [00:22<00:00,  1.52s/it]\n",
      "r_index: 100%|##########| 2/2 [00:02<00:00,  1.28s/it]\n"
     ]
    },
    {
     "name": "stdout",
     "output_type": "stream",
     "text": [
      "Estimator predicts 0.5699 for case with 0.6 and selected CV 3 and 6 minority cases using random state 6 and sample size (56, 5388)\n",
      "Prior to SMOGN sampling, mean is 4.197852668689133e-15 standard deviation is 0.9428736102783337\n"
     ]
    },
    {
     "name": "stderr",
     "output_type": "stream",
     "text": [
      "dist_matrix: 100%|##########| 15/15 [00:23<00:00,  1.55s/it]\n",
      "r_index: 100%|##########| 2/2 [00:02<00:00,  1.33s/it]\n"
     ]
    },
    {
     "name": "stdout",
     "output_type": "stream",
     "text": [
      "Estimator predicts 0.5241 for case with 0.81 and selected CV 5 and 6 minority cases using random state 6 and sample size (56, 2388)\n",
      "Prior to SMOGN sampling, mean is 3.3461332532068517e-15 standard deviation is 0.9428736102783333\n"
     ]
    },
    {
     "name": "stderr",
     "output_type": "stream",
     "text": [
      "dist_matrix: 100%|##########| 15/15 [00:19<00:00,  1.30s/it]\n",
      "r_index: 100%|##########| 2/2 [00:01<00:00,  1.26it/s]\n"
     ]
    },
    {
     "name": "stdout",
     "output_type": "stream",
     "text": [
      "Estimator predicts 0.7857 for case with 0.64 and selected CV 5 and 6 minority cases using random state 6 and sample size (56, 388)\n",
      "Prior to SMOGN sampling, mean is 2.9586172948168506e-15 standard deviation is 0.9428736102783334\n"
     ]
    },
    {
     "name": "stderr",
     "output_type": "stream",
     "text": [
      "dist_matrix: 100%|##########| 15/15 [00:18<00:00,  1.26s/it]\n",
      "r_index: 100%|##########| 2/2 [00:02<00:00,  1.06s/it]\n"
     ]
    },
    {
     "name": "stdout",
     "output_type": "stream",
     "text": [
      "Estimator predicts 0.5596 for case with 0.72 and selected CV 3 and 6 minority cases using random state 6 and sample size (56, 1388)\n",
      "Prior to SMOGN sampling, mean is 4.9981587087320136e-15 standard deviation is 0.9428736102783335\n"
     ]
    },
    {
     "name": "stderr",
     "output_type": "stream",
     "text": [
      "dist_matrix: 100%|##########| 14/14 [00:16<00:00,  1.21s/it]\n",
      "r_index: 100%|##########| 4/4 [00:04<00:00,  1.02s/it]\n"
     ]
    },
    {
     "name": "stdout",
     "output_type": "stream",
     "text": [
      "Estimator predicts 0.6092 for case with 0.31 and selected CV 2 and 6 minority cases using random state 6 and sample size (58, 1388)\n",
      "Prior to SMOGN sampling, mean is 3.0597137878683644e-15 standard deviation is 0.9428736102783335\n"
     ]
    },
    {
     "name": "stderr",
     "output_type": "stream",
     "text": [
      "dist_matrix: 100%|##########| 15/15 [00:18<00:00,  1.26s/it]\n",
      "r_index: 100%|##########| 2/2 [00:02<00:00,  1.01s/it]\n"
     ]
    },
    {
     "name": "stdout",
     "output_type": "stream",
     "text": [
      "Estimator predicts 0.5043 for case with 0.68 and selected CV 2 and 6 minority cases using random state 6 and sample size (56, 2388)\n",
      "Prior to SMOGN sampling, mean is 3.050691729197508e-15 standard deviation is 0.9428736102783334\n"
     ]
    },
    {
     "name": "stderr",
     "output_type": "stream",
     "text": [
      "dist_matrix: 100%|##########| 14/14 [00:16<00:00,  1.17s/it]\n",
      "r_index: 100%|##########| 4/4 [00:04<00:00,  1.06s/it]\n"
     ]
    },
    {
     "name": "stdout",
     "output_type": "stream",
     "text": [
      "Estimator predicts 0.3356 for case with 0.34 and selected CV 3 and 6 minority cases using random state 6 and sample size (58, 1388)\n",
      "Prior to SMOGN sampling, mean is 2.9869811641998853e-15 standard deviation is 0.9428736102783335\n"
     ]
    },
    {
     "name": "stderr",
     "output_type": "stream",
     "text": [
      "dist_matrix: 100%|##########| 15/15 [00:18<00:00,  1.22s/it]\n",
      "r_index: 100%|##########| 2/2 [00:02<00:00,  1.01s/it]\n"
     ]
    },
    {
     "name": "stdout",
     "output_type": "stream",
     "text": [
      "Estimator predicts 0.4072 for case with 0.59 and selected CV 5 and 6 minority cases using random state 6 and sample size (56, 2388)\n",
      "Prior to SMOGN sampling, mean is 3.306831682558464e-15 standard deviation is 0.9428736102783336\n"
     ]
    },
    {
     "name": "stderr",
     "output_type": "stream",
     "text": [
      "dist_matrix: 100%|##########| 14/14 [00:15<00:00,  1.11s/it]\n",
      "r_index: 100%|##########| 4/4 [00:04<00:00,  1.01s/it]\n"
     ]
    },
    {
     "name": "stdout",
     "output_type": "stream",
     "text": [
      "Estimator predicts 0.5933 for case with 0.94 and selected CV 4 and 6 minority cases using random state 6 and sample size (58, 5388)\n",
      "Prior to SMOGN sampling, mean is 2.5989090515082563e-15 standard deviation is 0.9428736102783336\n"
     ]
    },
    {
     "name": "stderr",
     "output_type": "stream",
     "text": [
      "dist_matrix: 100%|##########| 15/15 [00:18<00:00,  1.23s/it]\n",
      "r_index: 100%|##########| 2/2 [00:02<00:00,  1.01s/it]\n"
     ]
    },
    {
     "name": "stdout",
     "output_type": "stream",
     "text": [
      "Estimator predicts 0.6637 for case with 0.84 and selected CV 2 and 6 minority cases using random state 6 and sample size (56, 3388)\n",
      "Prior to SMOGN sampling, mean is 1.236207422674529e-15 standard deviation is 0.9428736102783336\n"
     ]
    },
    {
     "name": "stderr",
     "output_type": "stream",
     "text": [
      "dist_matrix: 100%|##########| 15/15 [00:18<00:00,  1.23s/it]\n",
      "r_index: 100%|##########| 2/2 [00:02<00:00,  1.06s/it]\n"
     ]
    },
    {
     "name": "stdout",
     "output_type": "stream",
     "text": [
      "Estimator predicts 0.3358 for case with 0.1 and selected CV 4 and 4 minority cases using random state 6 and sample size (56, 2388)\n",
      "Prior to SMOGN sampling, mean is 3.4126863846350182e-15 standard deviation is 0.9428736102783333\n"
     ]
    },
    {
     "name": "stderr",
     "output_type": "stream",
     "text": [
      "dist_matrix: 100%|##########| 14/14 [00:15<00:00,  1.10s/it]\n",
      "r_index: 100%|##########| 4/4 [00:04<00:00,  1.00s/it]\n"
     ]
    },
    {
     "name": "stdout",
     "output_type": "stream",
     "text": [
      "Estimator predicts 0.8159 for case with 0.41 and selected CV 4 and 6 minority cases using random state 6 and sample size (58, 4388)\n",
      "Prior to SMOGN sampling, mean is 4.274972731848234e-15 standard deviation is 0.9428736102783336\n"
     ]
    },
    {
     "name": "stderr",
     "output_type": "stream",
     "text": [
      "dist_matrix: 100%|##########| 15/15 [00:18<00:00,  1.24s/it]\n",
      "r_index: 100%|##########| 2/2 [00:02<00:00,  1.01s/it]\n"
     ]
    },
    {
     "name": "stdout",
     "output_type": "stream",
     "text": [
      "Estimator predicts 0.6251 for case with 0.57 and selected CV 2 and 6 minority cases using random state 6 and sample size (56, 3388)\n",
      "Prior to SMOGN sampling, mean is 2.6172621434619846e-15 standard deviation is 0.9428736102783335\n"
     ]
    },
    {
     "name": "stderr",
     "output_type": "stream",
     "text": [
      "dist_matrix: 100%|##########| 15/15 [00:19<00:00,  1.28s/it]\n",
      "r_index: 100%|##########| 2/2 [00:01<00:00,  1.03it/s]\n"
     ]
    },
    {
     "name": "stdout",
     "output_type": "stream",
     "text": [
      "Estimator predicts 0.6951 for case with 0.66 and selected CV 2 and 6 minority cases using random state 6 and sample size (56, 3388)\n",
      "Prior to SMOGN sampling, mean is 1.4799883915548597e-15 standard deviation is 0.9428736102783335\n"
     ]
    },
    {
     "name": "stderr",
     "output_type": "stream",
     "text": [
      "dist_matrix: 100%|##########| 15/15 [00:18<00:00,  1.25s/it]\n",
      "r_index: 100%|##########| 2/2 [00:01<00:00,  1.04it/s]\n"
     ]
    },
    {
     "name": "stdout",
     "output_type": "stream",
     "text": [
      "Estimator predicts 0.6647 for case with 0.63 and selected CV 2 and 6 minority cases using random state 6 and sample size (56, 1388)\n",
      "Prior to SMOGN sampling, mean is 3.78222002060571e-15 standard deviation is 0.9428736102783333\n"
     ]
    },
    {
     "name": "stderr",
     "output_type": "stream",
     "text": [
      "dist_matrix: 100%|##########| 14/14 [00:15<00:00,  1.13s/it]\n",
      "r_index: 100%|##########| 4/4 [00:04<00:00,  1.01s/it]\n"
     ]
    },
    {
     "name": "stdout",
     "output_type": "stream",
     "text": [
      "Estimator predicts 0.6331 for case with 0.47 and selected CV 4 and 6 minority cases using random state 6 and sample size (58, 5388)\n",
      "Prior to SMOGN sampling, mean is 1.9759544387623463e-15 standard deviation is 0.9428736102783336\n"
     ]
    },
    {
     "name": "stderr",
     "output_type": "stream",
     "text": [
      "dist_matrix: 100%|##########| 14/14 [00:15<00:00,  1.14s/it]\n",
      "r_index: 100%|##########| 4/4 [00:04<00:00,  1.19s/it]\n"
     ]
    },
    {
     "name": "stdout",
     "output_type": "stream",
     "text": [
      "Estimator predicts 0.3547 for case with 0.28 and selected CV 5 and 4 minority cases using random state 6 and sample size (58, 4388)\n",
      "Prior to SMOGN sampling, mean is -9.57944887093254e-16 standard deviation is 0.9428736102783334\n"
     ]
    },
    {
     "name": "stderr",
     "output_type": "stream",
     "text": [
      "dist_matrix: 100%|##########| 15/15 [00:17<00:00,  1.18s/it]\n",
      "r_index: 100%|##########| 2/2 [00:01<00:00,  1.12it/s]\n"
     ]
    },
    {
     "name": "stdout",
     "output_type": "stream",
     "text": [
      "Estimator predicts 0.6261 for case with 0.59 and selected CV 2 and 6 minority cases using random state 6 and sample size (56, 1388)\n",
      "Prior to SMOGN sampling, mean is 1.061636766885699e-15 standard deviation is 0.9428736102783336\n"
     ]
    },
    {
     "name": "stderr",
     "output_type": "stream",
     "text": [
      "dist_matrix: 100%|##########| 15/15 [00:19<00:00,  1.29s/it]\n",
      "r_index: 100%|##########| 2/2 [00:01<00:00,  1.02it/s]\n"
     ]
    },
    {
     "name": "stdout",
     "output_type": "stream",
     "text": [
      "Estimator predicts 0.6057 for case with 0.53 and selected CV 4 and 6 minority cases using random state 6 and sample size (56, 3388)\n",
      "Prior to SMOGN sampling, mean is -1.2810087414167951e-16 standard deviation is 0.9428736102783336\n"
     ]
    },
    {
     "name": "stderr",
     "output_type": "stream",
     "text": [
      "dist_matrix: 100%|##########| 15/15 [00:18<00:00,  1.25s/it]\n",
      "r_index: 100%|##########| 2/2 [00:02<00:00,  1.05s/it]\n"
     ]
    },
    {
     "name": "stdout",
     "output_type": "stream",
     "text": [
      "Estimator predicts 0.6702 for case with 0.86 and selected CV 3 and 6 minority cases using random state 6 and sample size (56, 388)\n",
      "Prior to SMOGN sampling, mean is 8.549327514472436e-16 standard deviation is 0.9428736102783335\n"
     ]
    },
    {
     "name": "stderr",
     "output_type": "stream",
     "text": [
      "dist_matrix: 100%|##########| 14/14 [00:15<00:00,  1.09s/it]\n",
      "r_index: 100%|##########| 4/4 [00:04<00:00,  1.10s/it]\n"
     ]
    },
    {
     "name": "stdout",
     "output_type": "stream",
     "text": [
      "Estimator predicts 0.4441 for case with 0.48 and selected CV 5 and 6 minority cases using random state 6 and sample size (58, 1388)\n",
      "Prior to SMOGN sampling, mean is 1.7654809330573003e-15 standard deviation is 0.9428736102783336\n"
     ]
    },
    {
     "name": "stderr",
     "output_type": "stream",
     "text": [
      "dist_matrix: 100%|##########| 15/15 [00:17<00:00,  1.20s/it]\n",
      "r_index: 100%|##########| 2/2 [00:01<00:00,  1.08it/s]\n"
     ]
    },
    {
     "name": "stdout",
     "output_type": "stream",
     "text": [
      "Estimator predicts 0.6449 for case with 0.66 and selected CV 4 and 6 minority cases using random state 6 and sample size (56, 388)\n",
      "Prior to SMOGN sampling, mean is 1.9869539349501027e-15 standard deviation is 0.9428736102783336\n"
     ]
    },
    {
     "name": "stderr",
     "output_type": "stream",
     "text": [
      "dist_matrix: 100%|##########| 14/14 [00:16<00:00,  1.17s/it]\n",
      "r_index: 100%|##########| 4/4 [00:04<00:00,  1.09s/it]\n"
     ]
    },
    {
     "name": "stdout",
     "output_type": "stream",
     "text": [
      "Estimator predicts 0.4938 for case with 0.33 and selected CV 4 and 6 minority cases using random state 6 and sample size (58, 388)\n",
      "Prior to SMOGN sampling, mean is 2.5607815843855277e-15 standard deviation is 0.9428736102783335\n"
     ]
    },
    {
     "name": "stderr",
     "output_type": "stream",
     "text": [
      "dist_matrix: 100%|##########| 14/14 [00:15<00:00,  1.13s/it]\n",
      "r_index: 100%|##########| 4/4 [00:04<00:00,  1.02s/it]\n"
     ]
    },
    {
     "name": "stdout",
     "output_type": "stream",
     "text": [
      "Estimator predicts 0.5176 for case with 0.49 and selected CV 4 and 6 minority cases using random state 6 and sample size (58, 3388)\n",
      "Prior to SMOGN sampling, mean is -4.688998711949176e-16 standard deviation is 0.9391305482199347\n"
     ]
    },
    {
     "name": "stderr",
     "output_type": "stream",
     "text": [
      "dist_matrix: 100%|##########| 15/15 [00:17<00:00,  1.19s/it]\n",
      "r_index: 100%|##########| 2/2 [00:02<00:00,  1.09s/it]\n"
     ]
    },
    {
     "name": "stdout",
     "output_type": "stream",
     "text": [
      "Estimator predicts 0.8132 for case with 0.78 and selected CV 2 and 6 minority cases using random state 6 and sample size (56, 2388)\n",
      "Prior to SMOGN sampling, mean is 1.2628410342302761e-15 standard deviation is 0.9428736102783334\n"
     ]
    },
    {
     "name": "stderr",
     "output_type": "stream",
     "text": [
      "dist_matrix: 100%|##########| 15/15 [00:17<00:00,  1.18s/it]\n",
      "r_index: 100%|##########| 2/2 [00:01<00:00,  1.06it/s]\n"
     ]
    },
    {
     "name": "stdout",
     "output_type": "stream",
     "text": [
      "Estimator predicts 0.5782 for case with 0.81 and selected CV 5 and 6 minority cases using random state 6 and sample size (56, 4388)\n",
      "Prior to SMOGN sampling, mean is -1.6455987835952367e-16 standard deviation is 0.9428736102783335\n"
     ]
    },
    {
     "name": "stderr",
     "output_type": "stream",
     "text": [
      "dist_matrix: 100%|##########| 15/15 [00:18<00:00,  1.21s/it]\n",
      "r_index: 100%|##########| 2/2 [00:02<00:00,  1.11s/it]\n"
     ]
    },
    {
     "name": "stdout",
     "output_type": "stream",
     "text": [
      "Estimator predicts 0.7352 for case with 0.71 and selected CV 4 and 6 minority cases using random state 6 and sample size (56, 3388)\n",
      "Prior to SMOGN sampling, mean is 1.430923223166778e-15 standard deviation is 0.9428736102783336\n"
     ]
    },
    {
     "name": "stderr",
     "output_type": "stream",
     "text": [
      "dist_matrix: 100%|##########| 14/14 [00:15<00:00,  1.12s/it]\n",
      "r_index: 100%|##########| 4/4 [00:04<00:00,  1.03s/it]\n"
     ]
    },
    {
     "name": "stdout",
     "output_type": "stream",
     "text": [
      "Estimator predicts 0.5947 for case with 0.32 and selected CV 4 and 6 minority cases using random state 6 and sample size (58, 5388)\n",
      "Prior to SMOGN sampling, mean is 1.9922682982767715e-16 standard deviation is 0.9428736102783337\n"
     ]
    },
    {
     "name": "stderr",
     "output_type": "stream",
     "text": [
      "dist_matrix: 100%|##########| 15/15 [00:20<00:00,  1.38s/it]\n",
      "r_index: 100%|##########| 2/2 [00:02<00:00,  1.01s/it]\n"
     ]
    },
    {
     "name": "stdout",
     "output_type": "stream",
     "text": [
      "Estimator predicts 0.7274 for case with 0.83 and selected CV 2 and 6 minority cases using random state 6 and sample size (56, 5388)\n",
      "Estimator predicts 0.7425 for case with 0.72 and selected CV 4 and 3 minority cases using random state 7 and sample size (36, 3388)\n",
      "Estimator predicts 0.5192 for case with 0.47 and selected CV 5 and 3 minority cases using random state 7 and sample size (36, 388)\n",
      "Estimator predicts 0.8663 for case with 0.69 and selected CV 3 and 3 minority cases using random state 7 and sample size (36, 388)\n",
      "Estimator predicts 0.7105 for case with 0.42 and selected CV 4 and 3 minority cases using random state 7 and sample size (36, 3388)\n",
      "Estimator predicts 0.5862 for case with 0.15 and selected CV 3 and 2 minority cases using random state 7 and sample size (36, 6388)\n",
      "Estimator predicts 0.4844 for case with 0.44 and selected CV 4 and 3 minority cases using random state 7 and sample size (36, 388)\n",
      "Estimator predicts 0.6951 for case with 0.88 and selected CV 4 and 3 minority cases using random state 7 and sample size (36, 3388)\n",
      "Estimator predicts 0.5759 for case with 0.4 and selected CV 3 and 3 minority cases using random state 7 and sample size (36, 6388)\n",
      "Estimator predicts 0.5992 for case with 0.6 and selected CV 5 and 3 minority cases using random state 7 and sample size (36, 2388)\n",
      "Estimator predicts 0.5182 for case with 0.81 and selected CV 3 and 3 minority cases using random state 7 and sample size (36, 3388)\n",
      "Estimator predicts 0.6956 for case with 0.64 and selected CV 5 and 3 minority cases using random state 7 and sample size (36, 388)\n",
      "Estimator predicts 0.5325 for case with 0.72 and selected CV 3 and 3 minority cases using random state 7 and sample size (36, 2388)\n",
      "Estimator predicts 0.5855 for case with 0.31 and selected CV 4 and 3 minority cases using random state 7 and sample size (36, 5388)\n",
      "Estimator predicts 0.5249 for case with 0.68 and selected CV 4 and 3 minority cases using random state 7 and sample size (36, 1388)\n",
      "Estimator predicts 0.4768 for case with 0.34 and selected CV 5 and 3 minority cases using random state 7 and sample size (36, 5388)\n",
      "Estimator predicts 0.4516 for case with 0.59 and selected CV 4 and 3 minority cases using random state 7 and sample size (36, 2388)\n",
      "Estimator predicts 0.6606 for case with 0.94 and selected CV 5 and 3 minority cases using random state 7 and sample size (36, 1388)\n",
      "Estimator predicts 0.7698 for case with 0.84 and selected CV 5 and 3 minority cases using random state 7 and sample size (36, 388)\n",
      "Estimator predicts 0.4544 for case with 0.1 and selected CV 5 and 2 minority cases using random state 7 and sample size (36, 5388)\n",
      "Estimator predicts 0.4849 for case with 0.41 and selected CV 4 and 3 minority cases using random state 7 and sample size (36, 388)\n",
      "Estimator predicts 0.6311 for case with 0.57 and selected CV 3 and 3 minority cases using random state 7 and sample size (36, 4388)\n",
      "Estimator predicts 0.689 for case with 0.66 and selected CV 3 and 3 minority cases using random state 7 and sample size (36, 388)\n",
      "Estimator predicts 0.5985 for case with 0.63 and selected CV 5 and 3 minority cases using random state 7 and sample size (36, 1388)\n",
      "Estimator predicts 0.5773 for case with 0.47 and selected CV 4 and 3 minority cases using random state 7 and sample size (36, 3388)\n",
      "Estimator predicts 0.3694 for case with 0.28 and selected CV 3 and 2 minority cases using random state 7 and sample size (36, 1388)\n",
      "Estimator predicts 0.6502 for case with 0.59 and selected CV 3 and 3 minority cases using random state 7 and sample size (36, 388)\n",
      "Estimator predicts 0.6894 for case with 0.53 and selected CV 3 and 3 minority cases using random state 7 and sample size (36, 2388)\n",
      "Estimator predicts 0.6756 for case with 0.86 and selected CV 4 and 3 minority cases using random state 7 and sample size (36, 2388)\n",
      "Estimator predicts 0.4743 for case with 0.48 and selected CV 5 and 3 minority cases using random state 7 and sample size (36, 1388)\n",
      "Estimator predicts 0.6493 for case with 0.66 and selected CV 4 and 3 minority cases using random state 7 and sample size (36, 1388)\n",
      "Estimator predicts 0.5529 for case with 0.33 and selected CV 4 and 3 minority cases using random state 7 and sample size (36, 388)\n",
      "Estimator predicts 0.3053 for case with 0.49 and selected CV 3 and 3 minority cases using random state 7 and sample size (36, 2388)\n",
      "Estimator predicts 0.7194 for case with 0.78 and selected CV 5 and 3 minority cases using random state 7 and sample size (36, 3388)\n",
      "Estimator predicts 0.536 for case with 0.81 and selected CV 3 and 3 minority cases using random state 7 and sample size (36, 1388)\n",
      "Estimator predicts 0.6606 for case with 0.71 and selected CV 4 and 3 minority cases using random state 7 and sample size (36, 4388)\n",
      "Estimator predicts 0.463 for case with 0.32 and selected CV 5 and 3 minority cases using random state 7 and sample size (36, 1388)\n",
      "Estimator predicts 0.7173 for case with 0.83 and selected CV 3 and 3 minority cases using random state 7 and sample size (36, 1388)\n",
      "Estimator predicts 0.6923 for case with 0.72 and selected CV 2 and 134 minority cases using random state 7 and sample size (418, 5388)\n",
      "Estimator predicts 0.5072 for case with 0.47 and selected CV 2 and 134 minority cases using random state 7 and sample size (418, 388)\n",
      "Estimator predicts 0.8028 for case with 0.69 and selected CV 4 and 134 minority cases using random state 7 and sample size (418, 1388)\n",
      "Estimator predicts 0.6368 for case with 0.42 and selected CV 4 and 134 minority cases using random state 7 and sample size (418, 388)\n",
      "Estimator predicts 0.3021 for case with 0.15 and selected CV 2 and 186 minority cases using random state 7 and sample size (429, 388)\n",
      "Estimator predicts 0.4882 for case with 0.44 and selected CV 4 and 134 minority cases using random state 7 and sample size (418, 6388)\n",
      "Estimator predicts 0.6841 for case with 0.88 and selected CV 2 and 134 minority cases using random state 7 and sample size (418, 388)\n",
      "Estimator predicts 0.4158 for case with 0.4 and selected CV 2 and 133 minority cases using random state 7 and sample size (418, 6388)\n",
      "Estimator predicts 0.579 for case with 0.6 and selected CV 2 and 134 minority cases using random state 7 and sample size (418, 6388)\n",
      "Estimator predicts 0.5114 for case with 0.81 and selected CV 2 and 134 minority cases using random state 7 and sample size (418, 388)\n",
      "Estimator predicts 0.6757 for case with 0.64 and selected CV 3 and 134 minority cases using random state 7 and sample size (418, 5388)\n",
      "Estimator predicts 0.583 for case with 0.72 and selected CV 4 and 134 minority cases using random state 7 and sample size (418, 3388)\n",
      "Estimator predicts 0.6168 for case with 0.31 and selected CV 4 and 131 minority cases using random state 7 and sample size (418, 3388)\n",
      "Estimator predicts 0.4947 for case with 0.68 and selected CV 2 and 134 minority cases using random state 7 and sample size (418, 388)\n",
      "Estimator predicts 0.3808 for case with 0.34 and selected CV 2 and 132 minority cases using random state 7 and sample size (418, 388)\n",
      "Estimator predicts 0.46 for case with 0.59 and selected CV 2 and 134 minority cases using random state 7 and sample size (418, 388)\n",
      "Estimator predicts 0.6677 for case with 0.94 and selected CV 4 and 135 minority cases using random state 7 and sample size (418, 5388)\n",
      "Estimator predicts 0.6774 for case with 0.84 and selected CV 2 and 134 minority cases using random state 7 and sample size (418, 4388)\n",
      "Estimator predicts 0.0945 for case with 0.1 and selected CV 3 and 182 minority cases using random state 7 and sample size (429, 388)\n",
      "Estimator predicts 0.4451 for case with 0.41 and selected CV 2 and 134 minority cases using random state 7 and sample size (418, 388)\n",
      "Estimator predicts 0.6199 for case with 0.57 and selected CV 4 and 134 minority cases using random state 7 and sample size (418, 5388)\n",
      "Estimator predicts 0.758 for case with 0.66 and selected CV 2 and 134 minority cases using random state 7 and sample size (418, 388)\n",
      "Estimator predicts 0.4746 for case with 0.63 and selected CV 2 and 134 minority cases using random state 7 and sample size (418, 388)\n",
      "Estimator predicts 0.5855 for case with 0.47 and selected CV 2 and 134 minority cases using random state 7 and sample size (418, 4388)\n",
      "Estimator predicts 0.1407 for case with 0.28 and selected CV 3 and 193 minority cases using random state 7 and sample size (429, 388)\n",
      "Estimator predicts 0.6561 for case with 0.59 and selected CV 2 and 134 minority cases using random state 7 and sample size (418, 388)\n",
      "Estimator predicts 0.6945 for case with 0.53 and selected CV 4 and 134 minority cases using random state 7 and sample size (418, 388)\n",
      "Estimator predicts 0.6098 for case with 0.86 and selected CV 2 and 134 minority cases using random state 7 and sample size (418, 388)\n",
      "Estimator predicts 0.5194 for case with 0.48 and selected CV 4 and 134 minority cases using random state 7 and sample size (418, 388)\n",
      "Estimator predicts 0.6374 for case with 0.66 and selected CV 4 and 134 minority cases using random state 7 and sample size (418, 6388)\n",
      "Estimator predicts 0.5302 for case with 0.33 and selected CV 2 and 132 minority cases using random state 7 and sample size (418, 5388)\n",
      "Estimator predicts 0.4353 for case with 0.49 and selected CV 4 and 134 minority cases using random state 7 and sample size (418, 6388)\n",
      "Estimator predicts 0.7195 for case with 0.78 and selected CV 2 and 134 minority cases using random state 7 and sample size (418, 388)\n",
      "Estimator predicts 0.5968 for case with 0.81 and selected CV 2 and 134 minority cases using random state 7 and sample size (418, 5388)\n",
      "Estimator predicts 0.6995 for case with 0.71 and selected CV 4 and 134 minority cases using random state 7 and sample size (418, 6388)\n",
      "Estimator predicts 0.4604 for case with 0.32 and selected CV 2 and 132 minority cases using random state 7 and sample size (418, 388)\n",
      "Estimator predicts 0.7275 for case with 0.83 and selected CV 2 and 134 minority cases using random state 7 and sample size (418, 6388)\n",
      "Prior to SMOGN sampling, mean is 2.254216974343621e-15 standard deviation is 0.9428736102783335\n"
     ]
    },
    {
     "name": "stderr",
     "output_type": "stream",
     "text": [
      "dist_matrix: 100%|##########| 15/15 [00:23<00:00,  1.54s/it]\n",
      "r_index: 100%|##########| 2/2 [00:02<00:00,  1.19s/it]\n"
     ]
    },
    {
     "name": "stdout",
     "output_type": "stream",
     "text": [
      "Estimator predicts 0.6935 for case with 0.72 and selected CV 2 and 7 minority cases using random state 7 and sample size (56, 6388)\n",
      "Prior to SMOGN sampling, mean is 4.618428910564806e-15 standard deviation is 0.9428736102783335\n"
     ]
    },
    {
     "name": "stderr",
     "output_type": "stream",
     "text": [
      "dist_matrix: 100%|##########| 14/14 [00:18<00:00,  1.30s/it]\n",
      "r_index: 100%|##########| 4/4 [00:04<00:00,  1.11s/it]\n"
     ]
    },
    {
     "name": "stdout",
     "output_type": "stream",
     "text": [
      "Estimator predicts 0.5231 for case with 0.47 and selected CV 5 and 8 minority cases using random state 7 and sample size (58, 5388)\n",
      "Prior to SMOGN sampling, mean is 1.0984665406379618e-15 standard deviation is 0.9428736102783335\n"
     ]
    },
    {
     "name": "stderr",
     "output_type": "stream",
     "text": [
      "dist_matrix: 100%|##########| 15/15 [00:20<00:00,  1.38s/it]\n",
      "r_index: 100%|##########| 2/2 [00:02<00:00,  1.03s/it]\n"
     ]
    },
    {
     "name": "stdout",
     "output_type": "stream",
     "text": [
      "Estimator predicts 0.7298 for case with 0.69 and selected CV 4 and 7 minority cases using random state 7 and sample size (56, 388)\n",
      "Prior to SMOGN sampling, mean is 3.877754970640942e-15 standard deviation is 0.9427075675526859\n"
     ]
    },
    {
     "name": "stderr",
     "output_type": "stream",
     "text": [
      "dist_matrix: 100%|##########| 14/14 [00:19<00:00,  1.38s/it]\n",
      "r_index: 100%|##########| 4/4 [00:04<00:00,  1.18s/it]\n"
     ]
    },
    {
     "name": "stdout",
     "output_type": "stream",
     "text": [
      "Estimator predicts 0.6041 for case with 0.42 and selected CV 5 and 8 minority cases using random state 7 and sample size (58, 2388)\n",
      "Prior to SMOGN sampling, mean is 3.4877054204324126e-15 standard deviation is 0.9428736102783335\n"
     ]
    },
    {
     "name": "stderr",
     "output_type": "stream",
     "text": [
      "dist_matrix: 100%|##########| 14/14 [00:18<00:00,  1.31s/it]\n",
      "r_index: 100%|##########| 4/4 [00:04<00:00,  1.15s/it]\n"
     ]
    },
    {
     "name": "stdout",
     "output_type": "stream",
     "text": [
      "Estimator predicts 0.3342 for case with 0.15 and selected CV 5 and 5 minority cases using random state 7 and sample size (58, 5388)\n",
      "Prior to SMOGN sampling, mean is 2.9073275092222564e-15 standard deviation is 0.9428736102783335\n"
     ]
    },
    {
     "name": "stderr",
     "output_type": "stream",
     "text": [
      "dist_matrix: 100%|##########| 14/14 [00:17<00:00,  1.26s/it]\n",
      "r_index: 100%|##########| 4/4 [00:04<00:00,  1.13s/it]\n"
     ]
    },
    {
     "name": "stdout",
     "output_type": "stream",
     "text": [
      "Estimator predicts 0.4694 for case with 0.44 and selected CV 4 and 8 minority cases using random state 7 and sample size (58, 5388)\n",
      "Prior to SMOGN sampling, mean is 4.831559597933187e-15 standard deviation is 0.9428736102783334\n"
     ]
    },
    {
     "name": "stderr",
     "output_type": "stream",
     "text": [
      "dist_matrix: 100%|##########| 15/15 [00:21<00:00,  1.46s/it]\n",
      "r_index: 100%|##########| 2/2 [00:02<00:00,  1.08s/it]\n"
     ]
    },
    {
     "name": "stdout",
     "output_type": "stream",
     "text": [
      "Estimator predicts 0.783 for case with 0.88 and selected CV 4 and 7 minority cases using random state 7 and sample size (56, 1388)\n",
      "Prior to SMOGN sampling, mean is 2.7755807346587927e-15 standard deviation is 0.9428736102783335\n"
     ]
    },
    {
     "name": "stderr",
     "output_type": "stream",
     "text": [
      "dist_matrix: 100%|##########| 14/14 [00:19<00:00,  1.41s/it]\n",
      "r_index: 100%|##########| 4/4 [00:04<00:00,  1.13s/it]\n"
     ]
    },
    {
     "name": "stdout",
     "output_type": "stream",
     "text": [
      "Estimator predicts 0.4685 for case with 0.4 and selected CV 4 and 8 minority cases using random state 7 and sample size (58, 1388)\n",
      "Prior to SMOGN sampling, mean is 3.5947342260346265e-15 standard deviation is 0.9428736102783334\n"
     ]
    },
    {
     "name": "stderr",
     "output_type": "stream",
     "text": [
      "dist_matrix: 100%|##########| 15/15 [00:21<00:00,  1.42s/it]\n",
      "r_index: 100%|##########| 2/2 [00:01<00:00,  1.13it/s]\n"
     ]
    },
    {
     "name": "stdout",
     "output_type": "stream",
     "text": [
      "Estimator predicts 0.5897 for case with 0.6 and selected CV 4 and 7 minority cases using random state 7 and sample size (56, 3388)\n",
      "Prior to SMOGN sampling, mean is 4.197852668689133e-15 standard deviation is 0.9428736102783337\n"
     ]
    },
    {
     "name": "stderr",
     "output_type": "stream",
     "text": [
      "dist_matrix: 100%|##########| 15/15 [00:21<00:00,  1.43s/it]\n",
      "r_index: 100%|##########| 2/2 [00:02<00:00,  1.09s/it]\n"
     ]
    },
    {
     "name": "stdout",
     "output_type": "stream",
     "text": [
      "Estimator predicts 0.5402 for case with 0.81 and selected CV 4 and 7 minority cases using random state 7 and sample size (56, 5388)\n",
      "Prior to SMOGN sampling, mean is 3.3461332532068517e-15 standard deviation is 0.9428736102783333\n"
     ]
    },
    {
     "name": "stderr",
     "output_type": "stream",
     "text": [
      "dist_matrix: 100%|##########| 15/15 [00:22<00:00,  1.53s/it]\n",
      "r_index: 100%|##########| 2/2 [00:02<00:00,  1.01s/it]\n"
     ]
    },
    {
     "name": "stdout",
     "output_type": "stream",
     "text": [
      "Estimator predicts 0.6975 for case with 0.64 and selected CV 5 and 7 minority cases using random state 7 and sample size (56, 1388)\n",
      "Prior to SMOGN sampling, mean is 2.9586172948168506e-15 standard deviation is 0.9428736102783334\n"
     ]
    },
    {
     "name": "stderr",
     "output_type": "stream",
     "text": [
      "dist_matrix: 100%|##########| 15/15 [00:20<00:00,  1.39s/it]\n",
      "r_index: 100%|##########| 2/2 [00:02<00:00,  1.14s/it]\n"
     ]
    },
    {
     "name": "stdout",
     "output_type": "stream",
     "text": [
      "Estimator predicts 0.6521 for case with 0.72 and selected CV 4 and 7 minority cases using random state 7 and sample size (56, 388)\n",
      "Prior to SMOGN sampling, mean is 4.9981587087320136e-15 standard deviation is 0.9428736102783335\n"
     ]
    },
    {
     "name": "stderr",
     "output_type": "stream",
     "text": [
      "dist_matrix: 100%|##########| 14/14 [00:18<00:00,  1.33s/it]\n",
      "r_index: 100%|##########| 4/4 [00:05<00:00,  1.28s/it]\n"
     ]
    },
    {
     "name": "stdout",
     "output_type": "stream",
     "text": [
      "Estimator predicts 0.5293 for case with 0.31 and selected CV 4 and 8 minority cases using random state 7 and sample size (58, 1388)\n",
      "Prior to SMOGN sampling, mean is 3.0597137878683644e-15 standard deviation is 0.9428736102783335\n"
     ]
    },
    {
     "name": "stderr",
     "output_type": "stream",
     "text": [
      "dist_matrix: 100%|##########| 15/15 [00:21<00:00,  1.45s/it]\n",
      "r_index: 100%|##########| 2/2 [00:02<00:00,  1.31s/it]\n"
     ]
    },
    {
     "name": "stdout",
     "output_type": "stream",
     "text": [
      "Estimator predicts 0.5051 for case with 0.68 and selected CV 4 and 7 minority cases using random state 7 and sample size (56, 1388)\n",
      "Prior to SMOGN sampling, mean is 3.050691729197508e-15 standard deviation is 0.9428736102783334\n"
     ]
    },
    {
     "name": "stderr",
     "output_type": "stream",
     "text": [
      "dist_matrix: 100%|##########| 14/14 [00:15<00:00,  1.09s/it]\n",
      "r_index: 100%|##########| 4/4 [00:03<00:00,  1.21it/s]\n"
     ]
    },
    {
     "name": "stdout",
     "output_type": "stream",
     "text": [
      "Estimator predicts 0.3956 for case with 0.34 and selected CV 3 and 8 minority cases using random state 7 and sample size (58, 2388)\n",
      "Prior to SMOGN sampling, mean is 2.9869811641998853e-15 standard deviation is 0.9428736102783335\n"
     ]
    },
    {
     "name": "stderr",
     "output_type": "stream",
     "text": [
      "dist_matrix: 100%|##########| 15/15 [00:17<00:00,  1.16s/it]\n",
      "r_index: 100%|##########| 2/2 [00:02<00:00,  1.16s/it]\n"
     ]
    },
    {
     "name": "stdout",
     "output_type": "stream",
     "text": [
      "Estimator predicts 0.4917 for case with 0.59 and selected CV 4 and 7 minority cases using random state 7 and sample size (56, 5388)\n",
      "Prior to SMOGN sampling, mean is 3.306831682558464e-15 standard deviation is 0.9428736102783336\n"
     ]
    },
    {
     "name": "stderr",
     "output_type": "stream",
     "text": [
      "dist_matrix: 100%|##########| 14/14 [00:16<00:00,  1.15s/it]\n",
      "r_index: 100%|##########| 4/4 [00:04<00:00,  1.07s/it]\n"
     ]
    },
    {
     "name": "stdout",
     "output_type": "stream",
     "text": [
      "Estimator predicts 0.6386 for case with 0.94 and selected CV 2 and 8 minority cases using random state 7 and sample size (58, 3388)\n",
      "Prior to SMOGN sampling, mean is 2.5989090515082563e-15 standard deviation is 0.9428736102783336\n"
     ]
    },
    {
     "name": "stderr",
     "output_type": "stream",
     "text": [
      "dist_matrix: 100%|##########| 15/15 [00:17<00:00,  1.16s/it]\n",
      "r_index: 100%|##########| 2/2 [00:02<00:00,  1.03s/it]\n"
     ]
    },
    {
     "name": "stdout",
     "output_type": "stream",
     "text": [
      "Estimator predicts 0.7781 for case with 0.84 and selected CV 4 and 7 minority cases using random state 7 and sample size (56, 2388)\n",
      "Prior to SMOGN sampling, mean is 1.236207422674529e-15 standard deviation is 0.9428736102783336\n"
     ]
    },
    {
     "name": "stderr",
     "output_type": "stream",
     "text": [
      "dist_matrix: 100%|##########| 15/15 [00:15<00:00,  1.01s/it]\n",
      "r_index: 100%|##########| 2/2 [00:01<00:00,  1.08it/s]\n"
     ]
    },
    {
     "name": "stdout",
     "output_type": "stream",
     "text": [
      "Estimator predicts 0.2065 for case with 0.1 and selected CV 2 and 5 minority cases using random state 7 and sample size (56, 2388)\n",
      "Prior to SMOGN sampling, mean is 3.4126863846350182e-15 standard deviation is 0.9428736102783333\n"
     ]
    },
    {
     "name": "stderr",
     "output_type": "stream",
     "text": [
      "dist_matrix: 100%|##########| 14/14 [00:13<00:00,  1.02it/s]\n",
      "r_index: 100%|##########| 4/4 [00:03<00:00,  1.03it/s]\n"
     ]
    },
    {
     "name": "stdout",
     "output_type": "stream",
     "text": [
      "Estimator predicts 0.3673 for case with 0.41 and selected CV 3 and 8 minority cases using random state 7 and sample size (58, 3388)\n",
      "Prior to SMOGN sampling, mean is 4.274972731848234e-15 standard deviation is 0.9428736102783336\n"
     ]
    },
    {
     "name": "stderr",
     "output_type": "stream",
     "text": [
      "dist_matrix: 100%|##########| 15/15 [00:15<00:00,  1.05s/it]\n",
      "r_index: 100%|##########| 2/2 [00:01<00:00,  1.04it/s]\n"
     ]
    },
    {
     "name": "stdout",
     "output_type": "stream",
     "text": [
      "Estimator predicts 0.5927 for case with 0.57 and selected CV 4 and 7 minority cases using random state 7 and sample size (56, 1388)\n",
      "Prior to SMOGN sampling, mean is 2.6172621434619846e-15 standard deviation is 0.9428736102783335\n"
     ]
    },
    {
     "name": "stderr",
     "output_type": "stream",
     "text": [
      "dist_matrix: 100%|##########| 15/15 [00:14<00:00,  1.00it/s]\n",
      "r_index: 100%|##########| 2/2 [00:01<00:00,  1.06it/s]\n"
     ]
    },
    {
     "name": "stdout",
     "output_type": "stream",
     "text": [
      "Estimator predicts 0.7182 for case with 0.66 and selected CV 4 and 7 minority cases using random state 7 and sample size (56, 4388)\n",
      "Prior to SMOGN sampling, mean is 1.4799883915548597e-15 standard deviation is 0.9428736102783335\n"
     ]
    },
    {
     "name": "stderr",
     "output_type": "stream",
     "text": [
      "dist_matrix: 100%|##########| 15/15 [00:15<00:00,  1.02s/it]\n",
      "r_index: 100%|##########| 2/2 [00:01<00:00,  1.06it/s]\n"
     ]
    },
    {
     "name": "stdout",
     "output_type": "stream",
     "text": [
      "Estimator predicts 0.6201 for case with 0.63 and selected CV 4 and 7 minority cases using random state 7 and sample size (56, 6388)\n",
      "Prior to SMOGN sampling, mean is 3.78222002060571e-15 standard deviation is 0.9428736102783333\n"
     ]
    },
    {
     "name": "stderr",
     "output_type": "stream",
     "text": [
      "dist_matrix: 100%|##########| 14/14 [00:13<00:00,  1.07it/s]\n",
      "r_index: 100%|##########| 4/4 [00:03<00:00,  1.05it/s]\n"
     ]
    },
    {
     "name": "stdout",
     "output_type": "stream",
     "text": [
      "Estimator predicts 0.5484 for case with 0.47 and selected CV 5 and 8 minority cases using random state 7 and sample size (58, 2388)\n",
      "Prior to SMOGN sampling, mean is 1.9759544387623463e-15 standard deviation is 0.9428736102783336\n"
     ]
    },
    {
     "name": "stderr",
     "output_type": "stream",
     "text": [
      "dist_matrix: 100%|##########| 14/14 [00:13<00:00,  1.05it/s]\n",
      "r_index: 100%|##########| 4/4 [00:03<00:00,  1.07it/s]\n"
     ]
    },
    {
     "name": "stdout",
     "output_type": "stream",
     "text": [
      "Estimator predicts 0.3474 for case with 0.28 and selected CV 3 and 5 minority cases using random state 7 and sample size (58, 3388)\n",
      "Prior to SMOGN sampling, mean is -9.57944887093254e-16 standard deviation is 0.9428736102783334\n"
     ]
    },
    {
     "name": "stderr",
     "output_type": "stream",
     "text": [
      "dist_matrix: 100%|##########| 15/15 [00:15<00:00,  1.05s/it]\n",
      "r_index: 100%|##########| 2/2 [00:01<00:00,  1.04it/s]\n"
     ]
    },
    {
     "name": "stdout",
     "output_type": "stream",
     "text": [
      "Estimator predicts 0.6395 for case with 0.59 and selected CV 5 and 7 minority cases using random state 7 and sample size (56, 2388)\n",
      "Prior to SMOGN sampling, mean is 1.061636766885699e-15 standard deviation is 0.9428736102783336\n"
     ]
    },
    {
     "name": "stderr",
     "output_type": "stream",
     "text": [
      "dist_matrix: 100%|##########| 15/15 [00:15<00:00,  1.03s/it]\n",
      "r_index: 100%|##########| 2/2 [00:01<00:00,  1.07it/s]\n"
     ]
    },
    {
     "name": "stdout",
     "output_type": "stream",
     "text": [
      "Estimator predicts 0.591 for case with 0.53 and selected CV 5 and 7 minority cases using random state 7 and sample size (56, 2388)\n",
      "Prior to SMOGN sampling, mean is -1.2810087414167951e-16 standard deviation is 0.9428736102783336\n"
     ]
    },
    {
     "name": "stderr",
     "output_type": "stream",
     "text": [
      "dist_matrix: 100%|##########| 15/15 [00:15<00:00,  1.02s/it]\n",
      "r_index: 100%|##########| 2/2 [00:01<00:00,  1.04it/s]\n"
     ]
    },
    {
     "name": "stdout",
     "output_type": "stream",
     "text": [
      "Estimator predicts 0.7266 for case with 0.86 and selected CV 4 and 7 minority cases using random state 7 and sample size (56, 6388)\n",
      "Prior to SMOGN sampling, mean is 8.549327514472436e-16 standard deviation is 0.9428736102783335\n"
     ]
    },
    {
     "name": "stderr",
     "output_type": "stream",
     "text": [
      "dist_matrix: 100%|##########| 14/14 [00:13<00:00,  1.06it/s]\n",
      "r_index: 100%|##########| 4/4 [00:03<00:00,  1.06it/s]\n"
     ]
    },
    {
     "name": "stdout",
     "output_type": "stream",
     "text": [
      "Estimator predicts 0.4945 for case with 0.48 and selected CV 3 and 8 minority cases using random state 7 and sample size (58, 6388)\n",
      "Prior to SMOGN sampling, mean is 1.7654809330573003e-15 standard deviation is 0.9428736102783336\n"
     ]
    },
    {
     "name": "stderr",
     "output_type": "stream",
     "text": [
      "dist_matrix: 100%|##########| 15/15 [00:15<00:00,  1.03s/it]\n",
      "r_index: 100%|##########| 2/2 [00:01<00:00,  1.04it/s]\n"
     ]
    },
    {
     "name": "stdout",
     "output_type": "stream",
     "text": [
      "Estimator predicts 0.7365 for case with 0.66 and selected CV 4 and 7 minority cases using random state 7 and sample size (56, 388)\n",
      "Prior to SMOGN sampling, mean is 1.9869539349501027e-15 standard deviation is 0.9428736102783336\n"
     ]
    },
    {
     "name": "stderr",
     "output_type": "stream",
     "text": [
      "dist_matrix: 100%|##########| 14/14 [00:13<00:00,  1.01it/s]\n",
      "r_index: 100%|##########| 4/4 [00:03<00:00,  1.06it/s]\n"
     ]
    },
    {
     "name": "stdout",
     "output_type": "stream",
     "text": [
      "Estimator predicts 0.5351 for case with 0.33 and selected CV 4 and 8 minority cases using random state 7 and sample size (58, 1388)\n",
      "Prior to SMOGN sampling, mean is 2.5607815843855277e-15 standard deviation is 0.9428736102783335\n"
     ]
    },
    {
     "name": "stderr",
     "output_type": "stream",
     "text": [
      "dist_matrix: 100%|##########| 14/14 [00:13<00:00,  1.03it/s]\n",
      "r_index: 100%|##########| 4/4 [00:03<00:00,  1.03it/s]\n"
     ]
    },
    {
     "name": "stdout",
     "output_type": "stream",
     "text": [
      "Estimator predicts 0.398 for case with 0.49 and selected CV 5 and 8 minority cases using random state 7 and sample size (58, 6388)\n",
      "Prior to SMOGN sampling, mean is -4.688998711949176e-16 standard deviation is 0.9391305482199347\n"
     ]
    },
    {
     "name": "stderr",
     "output_type": "stream",
     "text": [
      "dist_matrix: 100%|##########| 15/15 [00:15<00:00,  1.07s/it]\n",
      "r_index: 100%|##########| 2/2 [00:02<00:00,  1.00s/it]\n"
     ]
    },
    {
     "name": "stdout",
     "output_type": "stream",
     "text": [
      "Estimator predicts 0.8688 for case with 0.78 and selected CV 2 and 7 minority cases using random state 7 and sample size (56, 388)\n",
      "Prior to SMOGN sampling, mean is 1.2628410342302761e-15 standard deviation is 0.9428736102783334\n"
     ]
    },
    {
     "name": "stderr",
     "output_type": "stream",
     "text": [
      "dist_matrix: 100%|##########| 15/15 [00:15<00:00,  1.03s/it]\n",
      "r_index: 100%|##########| 2/2 [00:01<00:00,  1.00it/s]\n"
     ]
    },
    {
     "name": "stdout",
     "output_type": "stream",
     "text": [
      "Estimator predicts 0.6226 for case with 0.81 and selected CV 5 and 7 minority cases using random state 7 and sample size (56, 5388)\n",
      "Prior to SMOGN sampling, mean is -1.6455987835952367e-16 standard deviation is 0.9428736102783335\n"
     ]
    },
    {
     "name": "stderr",
     "output_type": "stream",
     "text": [
      "dist_matrix: 100%|##########| 15/15 [00:15<00:00,  1.05s/it]\n",
      "r_index: 100%|##########| 2/2 [00:01<00:00,  1.04it/s]\n"
     ]
    },
    {
     "name": "stdout",
     "output_type": "stream",
     "text": [
      "Estimator predicts 0.6957 for case with 0.71 and selected CV 3 and 7 minority cases using random state 7 and sample size (56, 2388)\n",
      "Prior to SMOGN sampling, mean is 1.430923223166778e-15 standard deviation is 0.9428736102783336\n"
     ]
    },
    {
     "name": "stderr",
     "output_type": "stream",
     "text": [
      "dist_matrix: 100%|##########| 14/14 [00:13<00:00,  1.04it/s]\n",
      "r_index: 100%|##########| 4/4 [00:03<00:00,  1.06it/s]\n"
     ]
    },
    {
     "name": "stdout",
     "output_type": "stream",
     "text": [
      "Estimator predicts 0.475 for case with 0.32 and selected CV 2 and 8 minority cases using random state 7 and sample size (58, 5388)\n",
      "Prior to SMOGN sampling, mean is 1.9922682982767715e-16 standard deviation is 0.9428736102783337\n"
     ]
    },
    {
     "name": "stderr",
     "output_type": "stream",
     "text": [
      "dist_matrix: 100%|##########| 15/15 [00:15<00:00,  1.05s/it]\n",
      "r_index: 100%|##########| 2/2 [00:01<00:00,  1.05it/s]\n"
     ]
    },
    {
     "name": "stdout",
     "output_type": "stream",
     "text": [
      "Estimator predicts 0.7129 for case with 0.83 and selected CV 4 and 7 minority cases using random state 7 and sample size (56, 388)\n",
      "Estimator predicts 0.7425 for case with 0.72 and selected CV 4 and 3 minority cases using random state 8 and sample size (36, 3388)\n",
      "Estimator predicts 0.5192 for case with 0.47 and selected CV 5 and 3 minority cases using random state 8 and sample size (36, 388)\n",
      "Estimator predicts 0.8663 for case with 0.69 and selected CV 3 and 3 minority cases using random state 8 and sample size (36, 388)\n",
      "Estimator predicts 0.7105 for case with 0.42 and selected CV 4 and 3 minority cases using random state 8 and sample size (36, 3388)\n",
      "Estimator predicts 0.5862 for case with 0.15 and selected CV 3 and 2 minority cases using random state 8 and sample size (36, 6388)\n",
      "Estimator predicts 0.4844 for case with 0.44 and selected CV 4 and 3 minority cases using random state 8 and sample size (36, 388)\n",
      "Estimator predicts 0.6951 for case with 0.88 and selected CV 4 and 3 minority cases using random state 8 and sample size (36, 3388)\n",
      "Estimator predicts 0.5759 for case with 0.4 and selected CV 3 and 3 minority cases using random state 8 and sample size (36, 6388)\n",
      "Estimator predicts 0.5992 for case with 0.6 and selected CV 5 and 3 minority cases using random state 8 and sample size (36, 2388)\n",
      "Estimator predicts 0.5182 for case with 0.81 and selected CV 3 and 3 minority cases using random state 8 and sample size (36, 3388)\n",
      "Estimator predicts 0.6956 for case with 0.64 and selected CV 5 and 3 minority cases using random state 8 and sample size (36, 388)\n",
      "Estimator predicts 0.5325 for case with 0.72 and selected CV 3 and 3 minority cases using random state 8 and sample size (36, 2388)\n",
      "Estimator predicts 0.5855 for case with 0.31 and selected CV 4 and 3 minority cases using random state 8 and sample size (36, 5388)\n",
      "Estimator predicts 0.5249 for case with 0.68 and selected CV 4 and 3 minority cases using random state 8 and sample size (36, 1388)\n",
      "Estimator predicts 0.4768 for case with 0.34 and selected CV 5 and 3 minority cases using random state 8 and sample size (36, 5388)\n",
      "Estimator predicts 0.4516 for case with 0.59 and selected CV 4 and 3 minority cases using random state 8 and sample size (36, 2388)\n",
      "Estimator predicts 0.6606 for case with 0.94 and selected CV 5 and 3 minority cases using random state 8 and sample size (36, 1388)\n",
      "Estimator predicts 0.7698 for case with 0.84 and selected CV 5 and 3 minority cases using random state 8 and sample size (36, 388)\n",
      "Estimator predicts 0.4544 for case with 0.1 and selected CV 5 and 2 minority cases using random state 8 and sample size (36, 5388)\n",
      "Estimator predicts 0.4849 for case with 0.41 and selected CV 4 and 3 minority cases using random state 8 and sample size (36, 388)\n",
      "Estimator predicts 0.6311 for case with 0.57 and selected CV 3 and 3 minority cases using random state 8 and sample size (36, 4388)\n",
      "Estimator predicts 0.689 for case with 0.66 and selected CV 3 and 3 minority cases using random state 8 and sample size (36, 388)\n",
      "Estimator predicts 0.5985 for case with 0.63 and selected CV 5 and 3 minority cases using random state 8 and sample size (36, 1388)\n",
      "Estimator predicts 0.5773 for case with 0.47 and selected CV 4 and 3 minority cases using random state 8 and sample size (36, 3388)\n",
      "Estimator predicts 0.3694 for case with 0.28 and selected CV 3 and 2 minority cases using random state 8 and sample size (36, 1388)\n",
      "Estimator predicts 0.6502 for case with 0.59 and selected CV 3 and 3 minority cases using random state 8 and sample size (36, 388)\n",
      "Estimator predicts 0.6894 for case with 0.53 and selected CV 3 and 3 minority cases using random state 8 and sample size (36, 2388)\n",
      "Estimator predicts 0.6756 for case with 0.86 and selected CV 4 and 3 minority cases using random state 8 and sample size (36, 2388)\n",
      "Estimator predicts 0.4743 for case with 0.48 and selected CV 5 and 3 minority cases using random state 8 and sample size (36, 1388)\n",
      "Estimator predicts 0.6493 for case with 0.66 and selected CV 4 and 3 minority cases using random state 8 and sample size (36, 1388)\n",
      "Estimator predicts 0.5529 for case with 0.33 and selected CV 4 and 3 minority cases using random state 8 and sample size (36, 388)\n",
      "Estimator predicts 0.3053 for case with 0.49 and selected CV 3 and 3 minority cases using random state 8 and sample size (36, 2388)\n",
      "Estimator predicts 0.7194 for case with 0.78 and selected CV 5 and 3 minority cases using random state 8 and sample size (36, 3388)\n",
      "Estimator predicts 0.536 for case with 0.81 and selected CV 3 and 3 minority cases using random state 8 and sample size (36, 1388)\n",
      "Estimator predicts 0.6606 for case with 0.71 and selected CV 4 and 3 minority cases using random state 8 and sample size (36, 4388)\n",
      "Estimator predicts 0.463 for case with 0.32 and selected CV 5 and 3 minority cases using random state 8 and sample size (36, 1388)\n",
      "Estimator predicts 0.7173 for case with 0.83 and selected CV 3 and 3 minority cases using random state 8 and sample size (36, 1388)\n",
      "Estimator predicts 0.4285 for case with 0.72 and selected CV 3 and 187 minority cases using random state 8 and sample size (418, 388)\n",
      "Estimator predicts 0.2406 for case with 0.47 and selected CV 3 and 185 minority cases using random state 8 and sample size (418, 388)\n",
      "Estimator predicts 0.5371 for case with 0.69 and selected CV 3 and 186 minority cases using random state 8 and sample size (418, 388)\n",
      "Estimator predicts 0.3248 for case with 0.42 and selected CV 3 and 184 minority cases using random state 8 and sample size (418, 388)\n",
      "Estimator predicts 0.3959 for case with 0.15 and selected CV 4 and 136 minority cases using random state 8 and sample size (429, 4388)\n",
      "Estimator predicts 0.2178 for case with 0.44 and selected CV 4 and 185 minority cases using random state 8 and sample size (418, 3388)\n",
      "Estimator predicts 0.3955 for case with 0.88 and selected CV 3 and 186 minority cases using random state 8 and sample size (418, 388)\n",
      "Estimator predicts 0.2883 for case with 0.4 and selected CV 3 and 184 minority cases using random state 8 and sample size (418, 388)\n",
      "Estimator predicts 0.318 for case with 0.6 and selected CV 3 and 187 minority cases using random state 8 and sample size (418, 388)\n",
      "Estimator predicts 0.2567 for case with 0.81 and selected CV 3 and 186 minority cases using random state 8 and sample size (418, 388)\n",
      "Estimator predicts 0.5052 for case with 0.64 and selected CV 2 and 187 minority cases using random state 8 and sample size (418, 388)\n",
      "Estimator predicts 0.3137 for case with 0.72 and selected CV 3 and 187 minority cases using random state 8 and sample size (418, 388)\n",
      "Estimator predicts 0.3613 for case with 0.31 and selected CV 2 and 183 minority cases using random state 8 and sample size (418, 388)\n",
      "Estimator predicts 0.2175 for case with 0.68 and selected CV 3 and 186 minority cases using random state 8 and sample size (418, 388)\n",
      "Estimator predicts 0.1275 for case with 0.34 and selected CV 2 and 183 minority cases using random state 8 and sample size (418, 388)\n",
      "Estimator predicts 0.197 for case with 0.59 and selected CV 3 and 187 minority cases using random state 8 and sample size (418, 388)\n",
      "Estimator predicts 0.4247 for case with 0.94 and selected CV 4 and 185 minority cases using random state 8 and sample size (418, 6388)\n",
      "Estimator predicts 0.4286 for case with 0.84 and selected CV 3 and 186 minority cases using random state 8 and sample size (418, 388)\n",
      "Estimator predicts 0.2077 for case with 0.1 and selected CV 2 and 135 minority cases using random state 8 and sample size (429, 1388)\n",
      "Estimator predicts 0.1908 for case with 0.41 and selected CV 3 and 184 minority cases using random state 8 and sample size (418, 388)\n",
      "Estimator predicts 0.3661 for case with 0.57 and selected CV 3 and 187 minority cases using random state 8 and sample size (418, 388)\n",
      "Estimator predicts 0.5285 for case with 0.66 and selected CV 2 and 186 minority cases using random state 8 and sample size (418, 388)\n",
      "Estimator predicts 0.2254 for case with 0.63 and selected CV 3 and 187 minority cases using random state 8 and sample size (418, 388)\n",
      "Estimator predicts 0.3274 for case with 0.47 and selected CV 3 and 185 minority cases using random state 8 and sample size (418, 388)\n",
      "Estimator predicts 0.3042 for case with 0.28 and selected CV 2 and 141 minority cases using random state 8 and sample size (429, 388)\n",
      "Estimator predicts 0.4021 for case with 0.59 and selected CV 3 and 187 minority cases using random state 8 and sample size (418, 388)\n",
      "Estimator predicts 0.3453 for case with 0.53 and selected CV 3 and 187 minority cases using random state 8 and sample size (418, 388)\n",
      "Estimator predicts 0.3468 for case with 0.86 and selected CV 3 and 186 minority cases using random state 8 and sample size (418, 388)\n",
      "Estimator predicts 0.2156 for case with 0.48 and selected CV 3 and 185 minority cases using random state 8 and sample size (418, 388)\n",
      "Estimator predicts 0.4307 for case with 0.66 and selected CV 2 and 186 minority cases using random state 8 and sample size (418, 388)\n",
      "Estimator predicts 0.2707 for case with 0.33 and selected CV 3 and 183 minority cases using random state 8 and sample size (418, 388)\n",
      "Estimator predicts 0.161 for case with 0.49 and selected CV 3 and 186 minority cases using random state 8 and sample size (418, 388)\n",
      "Estimator predicts 0.4603 for case with 0.78 and selected CV 4 and 186 minority cases using random state 8 and sample size (418, 388)\n",
      "Estimator predicts 0.3177 for case with 0.81 and selected CV 3 and 186 minority cases using random state 8 and sample size (418, 388)\n",
      "Estimator predicts 0.4164 for case with 0.71 and selected CV 3 and 186 minority cases using random state 8 and sample size (418, 388)\n",
      "Estimator predicts 0.204 for case with 0.32 and selected CV 3 and 183 minority cases using random state 8 and sample size (418, 388)\n",
      "Estimator predicts 0.3981 for case with 0.83 and selected CV 3 and 186 minority cases using random state 8 and sample size (418, 388)\n",
      "Prior to SMOGN sampling, mean is 2.254216974343621e-15 standard deviation is 0.9428736102783335\n"
     ]
    },
    {
     "name": "stderr",
     "output_type": "stream",
     "text": [
      "dist_matrix: 100%|##########| 15/15 [00:15<00:00,  1.04s/it]\n",
      "r_index: 100%|##########| 2/2 [00:01<00:00,  1.06it/s]\n"
     ]
    },
    {
     "name": "stdout",
     "output_type": "stream",
     "text": [
      "Estimator predicts 0.7916 for case with 0.72 and selected CV 3 and 6 minority cases using random state 8 and sample size (56, 1388)\n",
      "Prior to SMOGN sampling, mean is 4.618428910564806e-15 standard deviation is 0.9428736102783335\n"
     ]
    },
    {
     "name": "stderr",
     "output_type": "stream",
     "text": [
      "dist_matrix: 100%|##########| 14/14 [00:13<00:00,  1.05it/s]\n",
      "r_index: 100%|##########| 4/4 [00:03<00:00,  1.11it/s]\n"
     ]
    },
    {
     "name": "stdout",
     "output_type": "stream",
     "text": [
      "Estimator predicts 0.5876 for case with 0.47 and selected CV 4 and 7 minority cases using random state 8 and sample size (58, 3388)\n",
      "Prior to SMOGN sampling, mean is 1.0984665406379618e-15 standard deviation is 0.9428736102783335\n"
     ]
    },
    {
     "name": "stderr",
     "output_type": "stream",
     "text": [
      "dist_matrix: 100%|##########| 15/15 [00:15<00:00,  1.02s/it]\n",
      "r_index: 100%|##########| 2/2 [00:01<00:00,  1.01it/s]\n"
     ]
    },
    {
     "name": "stdout",
     "output_type": "stream",
     "text": [
      "Estimator predicts 0.8206 for case with 0.69 and selected CV 4 and 6 minority cases using random state 8 and sample size (56, 1388)\n",
      "Prior to SMOGN sampling, mean is 3.877754970640942e-15 standard deviation is 0.9427075675526859\n"
     ]
    },
    {
     "name": "stderr",
     "output_type": "stream",
     "text": [
      "dist_matrix: 100%|##########| 14/14 [00:13<00:00,  1.02it/s]\n",
      "r_index: 100%|##########| 4/4 [00:03<00:00,  1.05it/s]\n"
     ]
    },
    {
     "name": "stdout",
     "output_type": "stream",
     "text": [
      "Estimator predicts 0.5982 for case with 0.42 and selected CV 3 and 7 minority cases using random state 8 and sample size (58, 388)\n",
      "Prior to SMOGN sampling, mean is 3.4877054204324126e-15 standard deviation is 0.9428736102783335\n"
     ]
    },
    {
     "name": "stderr",
     "output_type": "stream",
     "text": [
      "dist_matrix: 100%|##########| 14/14 [00:08<00:00,  1.71it/s]\n",
      "r_index: 100%|##########| 4/4 [00:02<00:00,  1.49it/s]\n"
     ]
    },
    {
     "name": "stdout",
     "output_type": "stream",
     "text": [
      "Estimator predicts 0.3724 for case with 0.15 and selected CV 3 and 5 minority cases using random state 8 and sample size (58, 388)\n",
      "Prior to SMOGN sampling, mean is 2.9073275092222564e-15 standard deviation is 0.9428736102783335\n"
     ]
    },
    {
     "name": "stderr",
     "output_type": "stream",
     "text": [
      "dist_matrix: 100%|##########| 14/14 [00:14<00:00,  1.01s/it]\n",
      "r_index: 100%|##########| 4/4 [00:04<00:00,  1.09s/it]\n"
     ]
    },
    {
     "name": "stdout",
     "output_type": "stream",
     "text": [
      "Estimator predicts 0.426 for case with 0.44 and selected CV 3 and 7 minority cases using random state 8 and sample size (58, 388)\n",
      "Prior to SMOGN sampling, mean is 4.831559597933187e-15 standard deviation is 0.9428736102783334\n"
     ]
    },
    {
     "name": "stderr",
     "output_type": "stream",
     "text": [
      "dist_matrix: 100%|##########| 15/15 [00:17<00:00,  1.17s/it]\n",
      "r_index: 100%|##########| 2/2 [00:01<00:00,  1.00it/s]\n"
     ]
    },
    {
     "name": "stdout",
     "output_type": "stream",
     "text": [
      "Estimator predicts 0.7682 for case with 0.88 and selected CV 4 and 6 minority cases using random state 8 and sample size (56, 1388)\n",
      "Prior to SMOGN sampling, mean is 2.7755807346587927e-15 standard deviation is 0.9428736102783335\n"
     ]
    },
    {
     "name": "stderr",
     "output_type": "stream",
     "text": [
      "dist_matrix: 100%|##########| 14/14 [00:15<00:00,  1.13s/it]\n",
      "r_index: 100%|##########| 4/4 [00:03<00:00,  1.06it/s]\n"
     ]
    },
    {
     "name": "stdout",
     "output_type": "stream",
     "text": [
      "Estimator predicts 0.4092 for case with 0.4 and selected CV 4 and 7 minority cases using random state 8 and sample size (58, 2388)\n",
      "Prior to SMOGN sampling, mean is 3.5947342260346265e-15 standard deviation is 0.9428736102783334\n"
     ]
    },
    {
     "name": "stderr",
     "output_type": "stream",
     "text": [
      "dist_matrix: 100%|##########| 15/15 [00:17<00:00,  1.14s/it]\n",
      "r_index: 100%|##########| 2/2 [00:02<00:00,  1.17s/it]\n"
     ]
    },
    {
     "name": "stdout",
     "output_type": "stream",
     "text": [
      "Estimator predicts 0.5882 for case with 0.6 and selected CV 5 and 6 minority cases using random state 8 and sample size (56, 5388)\n",
      "Prior to SMOGN sampling, mean is 4.197852668689133e-15 standard deviation is 0.9428736102783337\n"
     ]
    },
    {
     "name": "stderr",
     "output_type": "stream",
     "text": [
      "dist_matrix: 100%|##########| 15/15 [00:18<00:00,  1.25s/it]\n",
      "r_index: 100%|##########| 2/2 [00:02<00:00,  1.02s/it]\n"
     ]
    },
    {
     "name": "stdout",
     "output_type": "stream",
     "text": [
      "Estimator predicts 0.5138 for case with 0.81 and selected CV 3 and 6 minority cases using random state 8 and sample size (56, 388)\n",
      "Prior to SMOGN sampling, mean is 3.3461332532068517e-15 standard deviation is 0.9428736102783333\n"
     ]
    },
    {
     "name": "stderr",
     "output_type": "stream",
     "text": [
      "dist_matrix: 100%|##########| 15/15 [00:17<00:00,  1.16s/it]\n",
      "r_index: 100%|##########| 2/2 [00:01<00:00,  1.04it/s]\n"
     ]
    },
    {
     "name": "stdout",
     "output_type": "stream",
     "text": [
      "Estimator predicts 0.6858 for case with 0.64 and selected CV 5 and 6 minority cases using random state 8 and sample size (56, 388)\n",
      "Prior to SMOGN sampling, mean is 2.9586172948168506e-15 standard deviation is 0.9428736102783334\n"
     ]
    },
    {
     "name": "stderr",
     "output_type": "stream",
     "text": [
      "dist_matrix: 100%|##########| 15/15 [00:17<00:00,  1.19s/it]\n",
      "r_index: 100%|##########| 2/2 [00:02<00:00,  1.08s/it]\n"
     ]
    },
    {
     "name": "stdout",
     "output_type": "stream",
     "text": [
      "Estimator predicts 0.6014 for case with 0.72 and selected CV 4 and 6 minority cases using random state 8 and sample size (56, 388)\n",
      "Prior to SMOGN sampling, mean is 4.9981587087320136e-15 standard deviation is 0.9428736102783335\n"
     ]
    },
    {
     "name": "stderr",
     "output_type": "stream",
     "text": [
      "dist_matrix: 100%|##########| 14/14 [00:14<00:00,  1.05s/it]\n",
      "r_index: 100%|##########| 4/4 [00:03<00:00,  1.04it/s]\n"
     ]
    },
    {
     "name": "stdout",
     "output_type": "stream",
     "text": [
      "Estimator predicts 0.5812 for case with 0.31 and selected CV 3 and 7 minority cases using random state 8 and sample size (58, 4388)\n",
      "Prior to SMOGN sampling, mean is 3.0597137878683644e-15 standard deviation is 0.9428736102783335\n"
     ]
    },
    {
     "name": "stderr",
     "output_type": "stream",
     "text": [
      "dist_matrix: 100%|##########| 15/15 [00:17<00:00,  1.19s/it]\n",
      "r_index: 100%|##########| 2/2 [00:01<00:00,  1.04it/s]\n"
     ]
    },
    {
     "name": "stdout",
     "output_type": "stream",
     "text": [
      "Estimator predicts 0.5505 for case with 0.68 and selected CV 3 and 6 minority cases using random state 8 and sample size (56, 1388)\n",
      "Prior to SMOGN sampling, mean is 3.050691729197508e-15 standard deviation is 0.9428736102783334\n"
     ]
    },
    {
     "name": "stderr",
     "output_type": "stream",
     "text": [
      "dist_matrix: 100%|##########| 14/14 [00:15<00:00,  1.13s/it]\n",
      "r_index: 100%|##########| 4/4 [00:04<00:00,  1.16s/it]\n"
     ]
    },
    {
     "name": "stdout",
     "output_type": "stream",
     "text": [
      "Estimator predicts 0.4157 for case with 0.34 and selected CV 4 and 7 minority cases using random state 8 and sample size (58, 388)\n",
      "Prior to SMOGN sampling, mean is 2.9869811641998853e-15 standard deviation is 0.9428736102783335\n"
     ]
    },
    {
     "name": "stderr",
     "output_type": "stream",
     "text": [
      "dist_matrix: 100%|##########| 15/15 [00:16<00:00,  1.08s/it]\n",
      "r_index: 100%|##########| 2/2 [00:02<00:00,  1.08s/it]\n"
     ]
    },
    {
     "name": "stdout",
     "output_type": "stream",
     "text": [
      "Estimator predicts 0.4304 for case with 0.59 and selected CV 3 and 6 minority cases using random state 8 and sample size (56, 1388)\n",
      "Prior to SMOGN sampling, mean is 3.306831682558464e-15 standard deviation is 0.9428736102783336\n"
     ]
    },
    {
     "name": "stderr",
     "output_type": "stream",
     "text": [
      "dist_matrix: 100%|##########| 14/14 [00:14<00:00,  1.05s/it]\n",
      "r_index: 100%|##########| 4/4 [00:04<00:00,  1.01s/it]\n"
     ]
    },
    {
     "name": "stdout",
     "output_type": "stream",
     "text": [
      "Estimator predicts 0.5052 for case with 0.94 and selected CV 2 and 7 minority cases using random state 8 and sample size (58, 4388)\n",
      "Prior to SMOGN sampling, mean is 2.5989090515082563e-15 standard deviation is 0.9428736102783336\n"
     ]
    },
    {
     "name": "stderr",
     "output_type": "stream",
     "text": [
      "dist_matrix: 100%|##########| 15/15 [00:17<00:00,  1.16s/it]\n",
      "r_index: 100%|##########| 2/2 [00:01<00:00,  1.03it/s]\n"
     ]
    },
    {
     "name": "stdout",
     "output_type": "stream",
     "text": [
      "Estimator predicts 0.8012 for case with 0.84 and selected CV 5 and 6 minority cases using random state 8 and sample size (56, 1388)\n",
      "Prior to SMOGN sampling, mean is 1.236207422674529e-15 standard deviation is 0.9428736102783336\n"
     ]
    },
    {
     "name": "stderr",
     "output_type": "stream",
     "text": [
      "dist_matrix: 100%|##########| 15/15 [00:10<00:00,  1.37it/s]\n",
      "r_index: 100%|##########| 2/2 [00:01<00:00,  1.17it/s]\n"
     ]
    },
    {
     "name": "stdout",
     "output_type": "stream",
     "text": [
      "Estimator predicts 0.2798 for case with 0.1 and selected CV 3 and 4 minority cases using random state 8 and sample size (56, 388)\n",
      "Prior to SMOGN sampling, mean is 3.4126863846350182e-15 standard deviation is 0.9428736102783333\n"
     ]
    },
    {
     "name": "stderr",
     "output_type": "stream",
     "text": [
      "dist_matrix: 100%|##########| 14/14 [00:13<00:00,  1.04it/s]\n",
      "r_index: 100%|##########| 4/4 [00:03<00:00,  1.05it/s]\n"
     ]
    },
    {
     "name": "stdout",
     "output_type": "stream",
     "text": [
      "Estimator predicts 0.3873 for case with 0.41 and selected CV 2 and 7 minority cases using random state 8 and sample size (58, 388)\n",
      "Prior to SMOGN sampling, mean is 4.274972731848234e-15 standard deviation is 0.9428736102783336\n"
     ]
    },
    {
     "name": "stderr",
     "output_type": "stream",
     "text": [
      "dist_matrix: 100%|##########| 15/15 [00:15<00:00,  1.01s/it]\n",
      "r_index: 100%|##########| 2/2 [00:01<00:00,  1.05it/s]\n"
     ]
    },
    {
     "name": "stdout",
     "output_type": "stream",
     "text": [
      "Estimator predicts 0.6399 for case with 0.57 and selected CV 4 and 6 minority cases using random state 8 and sample size (56, 4388)\n",
      "Prior to SMOGN sampling, mean is 2.6172621434619846e-15 standard deviation is 0.9428736102783335\n"
     ]
    },
    {
     "name": "stderr",
     "output_type": "stream",
     "text": [
      "dist_matrix: 100%|##########| 15/15 [00:15<00:00,  1.06s/it]\n",
      "r_index: 100%|##########| 2/2 [00:01<00:00,  1.07it/s]\n"
     ]
    },
    {
     "name": "stdout",
     "output_type": "stream",
     "text": [
      "Estimator predicts 0.7017 for case with 0.66 and selected CV 2 and 6 minority cases using random state 8 and sample size (56, 6388)\n",
      "Prior to SMOGN sampling, mean is 1.4799883915548597e-15 standard deviation is 0.9428736102783335\n"
     ]
    },
    {
     "name": "stderr",
     "output_type": "stream",
     "text": [
      "dist_matrix: 100%|##########| 15/15 [00:15<00:00,  1.04s/it]\n",
      "r_index: 100%|##########| 2/2 [00:01<00:00,  1.05it/s]\n"
     ]
    },
    {
     "name": "stdout",
     "output_type": "stream",
     "text": [
      "Estimator predicts 0.5705 for case with 0.63 and selected CV 2 and 6 minority cases using random state 8 and sample size (56, 5388)\n",
      "Prior to SMOGN sampling, mean is 3.78222002060571e-15 standard deviation is 0.9428736102783333\n"
     ]
    },
    {
     "name": "stderr",
     "output_type": "stream",
     "text": [
      "dist_matrix: 100%|##########| 14/14 [00:13<00:00,  1.04it/s]\n",
      "r_index: 100%|##########| 4/4 [00:03<00:00,  1.07it/s]\n"
     ]
    },
    {
     "name": "stdout",
     "output_type": "stream",
     "text": [
      "Estimator predicts 0.6213 for case with 0.47 and selected CV 4 and 7 minority cases using random state 8 and sample size (58, 388)\n",
      "Prior to SMOGN sampling, mean is 1.9759544387623463e-15 standard deviation is 0.9428736102783336\n"
     ]
    },
    {
     "name": "stderr",
     "output_type": "stream",
     "text": [
      "dist_matrix: 100%|##########| 14/14 [00:13<00:00,  1.06it/s]\n",
      "r_index: 100%|##########| 4/4 [00:03<00:00,  1.09it/s]\n"
     ]
    },
    {
     "name": "stdout",
     "output_type": "stream",
     "text": [
      "Estimator predicts 0.3837 for case with 0.28 and selected CV 4 and 5 minority cases using random state 8 and sample size (58, 388)\n",
      "Prior to SMOGN sampling, mean is -9.57944887093254e-16 standard deviation is 0.9428736102783334\n"
     ]
    },
    {
     "name": "stderr",
     "output_type": "stream",
     "text": [
      "dist_matrix: 100%|##########| 15/15 [00:15<00:00,  1.06s/it]\n",
      "r_index: 100%|##########| 2/2 [00:01<00:00,  1.07it/s]\n"
     ]
    },
    {
     "name": "stdout",
     "output_type": "stream",
     "text": [
      "Estimator predicts 0.6861 for case with 0.59 and selected CV 2 and 6 minority cases using random state 8 and sample size (56, 1388)\n",
      "Prior to SMOGN sampling, mean is 1.061636766885699e-15 standard deviation is 0.9428736102783336\n"
     ]
    },
    {
     "name": "stderr",
     "output_type": "stream",
     "text": [
      "dist_matrix: 100%|##########| 15/15 [00:15<00:00,  1.04s/it]\n",
      "r_index: 100%|##########| 2/2 [00:01<00:00,  1.05it/s]\n"
     ]
    },
    {
     "name": "stdout",
     "output_type": "stream",
     "text": [
      "Estimator predicts 0.5803 for case with 0.53 and selected CV 4 and 6 minority cases using random state 8 and sample size (56, 6388)\n",
      "Prior to SMOGN sampling, mean is -1.2810087414167951e-16 standard deviation is 0.9428736102783336\n"
     ]
    },
    {
     "name": "stderr",
     "output_type": "stream",
     "text": [
      "dist_matrix: 100%|##########| 15/15 [00:15<00:00,  1.01s/it]\n",
      "r_index: 100%|##########| 2/2 [00:01<00:00,  1.05it/s]\n"
     ]
    },
    {
     "name": "stdout",
     "output_type": "stream",
     "text": [
      "Estimator predicts 0.6678 for case with 0.86 and selected CV 2 and 6 minority cases using random state 8 and sample size (56, 4388)\n",
      "Prior to SMOGN sampling, mean is 8.549327514472436e-16 standard deviation is 0.9428736102783335\n"
     ]
    },
    {
     "name": "stderr",
     "output_type": "stream",
     "text": [
      "dist_matrix: 100%|##########| 14/14 [00:13<00:00,  1.02it/s]\n",
      "r_index: 100%|##########| 4/4 [00:03<00:00,  1.05it/s]\n"
     ]
    },
    {
     "name": "stdout",
     "output_type": "stream",
     "text": [
      "Estimator predicts 0.4281 for case with 0.48 and selected CV 4 and 7 minority cases using random state 8 and sample size (58, 388)\n",
      "Prior to SMOGN sampling, mean is 1.7654809330573003e-15 standard deviation is 0.9428736102783336\n"
     ]
    },
    {
     "name": "stderr",
     "output_type": "stream",
     "text": [
      "dist_matrix: 100%|##########| 15/15 [00:16<00:00,  1.07s/it]\n",
      "r_index: 100%|##########| 2/2 [00:01<00:00,  1.06it/s]\n"
     ]
    },
    {
     "name": "stdout",
     "output_type": "stream",
     "text": [
      "Estimator predicts 0.7055 for case with 0.66 and selected CV 4 and 6 minority cases using random state 8 and sample size (56, 1388)\n",
      "Prior to SMOGN sampling, mean is 1.9869539349501027e-15 standard deviation is 0.9428736102783336\n"
     ]
    },
    {
     "name": "stderr",
     "output_type": "stream",
     "text": [
      "dist_matrix: 100%|##########| 14/14 [00:13<00:00,  1.02it/s]\n",
      "r_index: 100%|##########| 4/4 [00:03<00:00,  1.04it/s]\n"
     ]
    },
    {
     "name": "stdout",
     "output_type": "stream",
     "text": [
      "Estimator predicts 0.4743 for case with 0.33 and selected CV 5 and 7 minority cases using random state 8 and sample size (58, 388)\n",
      "Prior to SMOGN sampling, mean is 2.5607815843855277e-15 standard deviation is 0.9428736102783335\n"
     ]
    },
    {
     "name": "stderr",
     "output_type": "stream",
     "text": [
      "dist_matrix: 100%|##########| 14/14 [00:13<00:00,  1.03it/s]\n",
      "r_index: 100%|##########| 4/4 [00:03<00:00,  1.03it/s]\n"
     ]
    },
    {
     "name": "stdout",
     "output_type": "stream",
     "text": [
      "Estimator predicts 0.6967 for case with 0.49 and selected CV 4 and 7 minority cases using random state 8 and sample size (58, 388)\n",
      "Prior to SMOGN sampling, mean is -4.688998711949176e-16 standard deviation is 0.9391305482199347\n"
     ]
    },
    {
     "name": "stderr",
     "output_type": "stream",
     "text": [
      "dist_matrix: 100%|##########| 15/15 [00:15<00:00,  1.01s/it]\n",
      "r_index: 100%|##########| 2/2 [00:01<00:00,  1.06it/s]\n"
     ]
    },
    {
     "name": "stdout",
     "output_type": "stream",
     "text": [
      "Estimator predicts 0.7444 for case with 0.78 and selected CV 4 and 6 minority cases using random state 8 and sample size (56, 3388)\n",
      "Prior to SMOGN sampling, mean is 1.2628410342302761e-15 standard deviation is 0.9428736102783334\n"
     ]
    },
    {
     "name": "stderr",
     "output_type": "stream",
     "text": [
      "dist_matrix: 100%|##########| 15/15 [00:15<00:00,  1.03s/it]\n",
      "r_index: 100%|##########| 2/2 [00:01<00:00,  1.02it/s]\n"
     ]
    },
    {
     "name": "stdout",
     "output_type": "stream",
     "text": [
      "Estimator predicts 0.5695 for case with 0.81 and selected CV 4 and 6 minority cases using random state 8 and sample size (56, 1388)\n",
      "Prior to SMOGN sampling, mean is -1.6455987835952367e-16 standard deviation is 0.9428736102783335\n"
     ]
    },
    {
     "name": "stderr",
     "output_type": "stream",
     "text": [
      "dist_matrix: 100%|##########| 15/15 [00:15<00:00,  1.07s/it]\n",
      "r_index: 100%|##########| 2/2 [00:01<00:00,  1.03it/s]\n"
     ]
    },
    {
     "name": "stdout",
     "output_type": "stream",
     "text": [
      "Estimator predicts 0.7015 for case with 0.71 and selected CV 3 and 6 minority cases using random state 8 and sample size (56, 1388)\n",
      "Prior to SMOGN sampling, mean is 1.430923223166778e-15 standard deviation is 0.9428736102783336\n"
     ]
    },
    {
     "name": "stderr",
     "output_type": "stream",
     "text": [
      "dist_matrix: 100%|##########| 14/14 [00:14<00:00,  1.00s/it]\n",
      "r_index: 100%|##########| 4/4 [00:03<00:00,  1.04it/s]\n"
     ]
    },
    {
     "name": "stdout",
     "output_type": "stream",
     "text": [
      "Estimator predicts 0.4574 for case with 0.32 and selected CV 5 and 7 minority cases using random state 8 and sample size (58, 388)\n",
      "Prior to SMOGN sampling, mean is 1.9922682982767715e-16 standard deviation is 0.9428736102783337\n"
     ]
    },
    {
     "name": "stderr",
     "output_type": "stream",
     "text": [
      "dist_matrix: 100%|##########| 15/15 [00:15<00:00,  1.02s/it]\n",
      "r_index: 100%|##########| 2/2 [00:01<00:00,  1.04it/s]\n"
     ]
    },
    {
     "name": "stdout",
     "output_type": "stream",
     "text": [
      "Estimator predicts 0.6872 for case with 0.83 and selected CV 3 and 6 minority cases using random state 8 and sample size (56, 1388)\n",
      "Estimator predicts 0.7425 for case with 0.72 and selected CV 4 and 3 minority cases using random state 9 and sample size (36, 3388)\n",
      "Estimator predicts 0.5192 for case with 0.47 and selected CV 5 and 3 minority cases using random state 9 and sample size (36, 388)\n",
      "Estimator predicts 0.8663 for case with 0.69 and selected CV 3 and 3 minority cases using random state 9 and sample size (36, 388)\n",
      "Estimator predicts 0.7105 for case with 0.42 and selected CV 4 and 3 minority cases using random state 9 and sample size (36, 3388)\n",
      "Estimator predicts 0.5862 for case with 0.15 and selected CV 3 and 2 minority cases using random state 9 and sample size (36, 6388)\n",
      "Estimator predicts 0.4844 for case with 0.44 and selected CV 4 and 3 minority cases using random state 9 and sample size (36, 388)\n",
      "Estimator predicts 0.6951 for case with 0.88 and selected CV 4 and 3 minority cases using random state 9 and sample size (36, 3388)\n",
      "Estimator predicts 0.5759 for case with 0.4 and selected CV 3 and 3 minority cases using random state 9 and sample size (36, 6388)\n",
      "Estimator predicts 0.5992 for case with 0.6 and selected CV 5 and 3 minority cases using random state 9 and sample size (36, 2388)\n",
      "Estimator predicts 0.5182 for case with 0.81 and selected CV 3 and 3 minority cases using random state 9 and sample size (36, 3388)\n",
      "Estimator predicts 0.6956 for case with 0.64 and selected CV 5 and 3 minority cases using random state 9 and sample size (36, 388)\n",
      "Estimator predicts 0.5325 for case with 0.72 and selected CV 3 and 3 minority cases using random state 9 and sample size (36, 2388)\n",
      "Estimator predicts 0.5855 for case with 0.31 and selected CV 4 and 3 minority cases using random state 9 and sample size (36, 5388)\n",
      "Estimator predicts 0.5249 for case with 0.68 and selected CV 4 and 3 minority cases using random state 9 and sample size (36, 1388)\n",
      "Estimator predicts 0.4768 for case with 0.34 and selected CV 5 and 3 minority cases using random state 9 and sample size (36, 5388)\n",
      "Estimator predicts 0.4516 for case with 0.59 and selected CV 4 and 3 minority cases using random state 9 and sample size (36, 2388)\n",
      "Estimator predicts 0.6606 for case with 0.94 and selected CV 5 and 3 minority cases using random state 9 and sample size (36, 1388)\n",
      "Estimator predicts 0.7698 for case with 0.84 and selected CV 5 and 3 minority cases using random state 9 and sample size (36, 388)\n",
      "Estimator predicts 0.4544 for case with 0.1 and selected CV 5 and 2 minority cases using random state 9 and sample size (36, 5388)\n",
      "Estimator predicts 0.4849 for case with 0.41 and selected CV 4 and 3 minority cases using random state 9 and sample size (36, 388)\n",
      "Estimator predicts 0.6311 for case with 0.57 and selected CV 3 and 3 minority cases using random state 9 and sample size (36, 4388)\n",
      "Estimator predicts 0.689 for case with 0.66 and selected CV 3 and 3 minority cases using random state 9 and sample size (36, 388)\n",
      "Estimator predicts 0.5985 for case with 0.63 and selected CV 5 and 3 minority cases using random state 9 and sample size (36, 1388)\n",
      "Estimator predicts 0.5773 for case with 0.47 and selected CV 4 and 3 minority cases using random state 9 and sample size (36, 3388)\n",
      "Estimator predicts 0.3694 for case with 0.28 and selected CV 3 and 2 minority cases using random state 9 and sample size (36, 1388)\n",
      "Estimator predicts 0.6502 for case with 0.59 and selected CV 3 and 3 minority cases using random state 9 and sample size (36, 388)\n",
      "Estimator predicts 0.6894 for case with 0.53 and selected CV 3 and 3 minority cases using random state 9 and sample size (36, 2388)\n",
      "Estimator predicts 0.6756 for case with 0.86 and selected CV 4 and 3 minority cases using random state 9 and sample size (36, 2388)\n",
      "Estimator predicts 0.4743 for case with 0.48 and selected CV 5 and 3 minority cases using random state 9 and sample size (36, 1388)\n",
      "Estimator predicts 0.6493 for case with 0.66 and selected CV 4 and 3 minority cases using random state 9 and sample size (36, 1388)\n",
      "Estimator predicts 0.5529 for case with 0.33 and selected CV 4 and 3 minority cases using random state 9 and sample size (36, 388)\n",
      "Estimator predicts 0.3053 for case with 0.49 and selected CV 3 and 3 minority cases using random state 9 and sample size (36, 2388)\n",
      "Estimator predicts 0.7194 for case with 0.78 and selected CV 5 and 3 minority cases using random state 9 and sample size (36, 3388)\n",
      "Estimator predicts 0.536 for case with 0.81 and selected CV 3 and 3 minority cases using random state 9 and sample size (36, 1388)\n",
      "Estimator predicts 0.6606 for case with 0.71 and selected CV 4 and 3 minority cases using random state 9 and sample size (36, 4388)\n",
      "Estimator predicts 0.463 for case with 0.32 and selected CV 5 and 3 minority cases using random state 9 and sample size (36, 1388)\n",
      "Estimator predicts 0.7173 for case with 0.83 and selected CV 3 and 3 minority cases using random state 9 and sample size (36, 1388)\n",
      "Estimator predicts 0.6387 for case with 0.72 and selected CV 2 and 139 minority cases using random state 9 and sample size (418, 388)\n",
      "Estimator predicts 0.3988 for case with 0.47 and selected CV 2 and 138 minority cases using random state 9 and sample size (418, 388)\n",
      "Estimator predicts 0.7327 for case with 0.69 and selected CV 2 and 139 minority cases using random state 9 and sample size (418, 388)\n",
      "Estimator predicts 0.5302 for case with 0.42 and selected CV 4 and 135 minority cases using random state 9 and sample size (418, 4388)\n",
      "Estimator predicts 0.7083 for case with 0.15 and selected CV 3 and 49 minority cases using random state 9 and sample size (429, 388)\n",
      "Estimator predicts 0.427 for case with 0.44 and selected CV 2 and 135 minority cases using random state 9 and sample size (418, 388)\n",
      "Estimator predicts 0.6634 for case with 0.88 and selected CV 2 and 138 minority cases using random state 9 and sample size (418, 1388)\n",
      "Estimator predicts 0.3357 for case with 0.4 and selected CV 2 and 135 minority cases using random state 9 and sample size (418, 1388)\n",
      "Estimator predicts 0.4835 for case with 0.6 and selected CV 2 and 140 minority cases using random state 9 and sample size (418, 388)\n",
      "Estimator predicts 0.4101 for case with 0.81 and selected CV 2 and 138 minority cases using random state 9 and sample size (418, 388)\n",
      "Estimator predicts 0.5418 for case with 0.64 and selected CV 2 and 140 minority cases using random state 9 and sample size (418, 388)\n",
      "Estimator predicts 0.4847 for case with 0.72 and selected CV 4 and 139 minority cases using random state 9 and sample size (418, 6388)\n",
      "Estimator predicts 0.4771 for case with 0.31 and selected CV 3 and 132 minority cases using random state 9 and sample size (418, 388)\n",
      "Estimator predicts 0.3489 for case with 0.68 and selected CV 2 and 140 minority cases using random state 9 and sample size (418, 388)\n",
      "Estimator predicts 0.3956 for case with 0.34 and selected CV 2 and 133 minority cases using random state 9 and sample size (418, 388)\n",
      "Estimator predicts 0.3624 for case with 0.59 and selected CV 2 and 140 minority cases using random state 9 and sample size (418, 388)\n",
      "Estimator predicts 0.5253 for case with 0.94 and selected CV 2 and 136 minority cases using random state 9 and sample size (418, 388)\n",
      "Estimator predicts 0.4923 for case with 0.84 and selected CV 2 and 138 minority cases using random state 9 and sample size (418, 388)\n",
      "Estimator predicts 0.6533 for case with 0.1 and selected CV 4 and 47 minority cases using random state 9 and sample size (429, 388)\n",
      "Estimator predicts 0.4394 for case with 0.41 and selected CV 2 and 135 minority cases using random state 9 and sample size (418, 388)\n",
      "Estimator predicts 0.5433 for case with 0.57 and selected CV 3 and 139 minority cases using random state 9 and sample size (418, 388)\n",
      "Estimator predicts 0.6531 for case with 0.66 and selected CV 2 and 140 minority cases using random state 9 and sample size (418, 3388)\n",
      "Estimator predicts 0.497 for case with 0.63 and selected CV 2 and 140 minority cases using random state 9 and sample size (418, 388)\n",
      "Estimator predicts 0.5012 for case with 0.47 and selected CV 4 and 138 minority cases using random state 9 and sample size (418, 6388)\n",
      "Estimator predicts 0.5562 for case with 0.28 and selected CV 3 and 56 minority cases using random state 9 and sample size (429, 5388)\n",
      "Estimator predicts 0.5193 for case with 0.59 and selected CV 2 and 140 minority cases using random state 9 and sample size (418, 388)\n",
      "Estimator predicts 0.5786 for case with 0.53 and selected CV 2 and 139 minority cases using random state 9 and sample size (418, 388)\n",
      "Estimator predicts 0.5154 for case with 0.86 and selected CV 2 and 138 minority cases using random state 9 and sample size (418, 388)\n",
      "Estimator predicts 0.3733 for case with 0.48 and selected CV 5 and 138 minority cases using random state 9 and sample size (418, 4388)\n",
      "Estimator predicts 0.5227 for case with 0.66 and selected CV 2 and 140 minority cases using random state 9 and sample size (418, 388)\n",
      "Estimator predicts 0.4429 for case with 0.33 and selected CV 2 and 133 minority cases using random state 9 and sample size (418, 388)\n",
      "Estimator predicts 0.3563 for case with 0.49 and selected CV 2 and 139 minority cases using random state 9 and sample size (418, 388)\n",
      "Estimator predicts 0.6642 for case with 0.78 and selected CV 2 and 138 minority cases using random state 9 and sample size (418, 1388)\n",
      "Estimator predicts 0.5138 for case with 0.81 and selected CV 2 and 138 minority cases using random state 9 and sample size (418, 388)\n",
      "Estimator predicts 0.5119 for case with 0.71 and selected CV 2 and 138 minority cases using random state 9 and sample size (418, 388)\n",
      "Estimator predicts 0.3684 for case with 0.32 and selected CV 2 and 132 minority cases using random state 9 and sample size (418, 388)\n",
      "Estimator predicts 0.5886 for case with 0.83 and selected CV 2 and 138 minority cases using random state 9 and sample size (418, 388)\n",
      "Prior to SMOGN sampling, mean is 2.254216974343621e-15 standard deviation is 0.9428736102783335\n"
     ]
    },
    {
     "name": "stderr",
     "output_type": "stream",
     "text": [
      "dist_matrix: 100%|##########| 15/15 [00:16<00:00,  1.10s/it]\n",
      "r_index: 100%|##########| 2/2 [00:01<00:00,  1.00it/s]\n"
     ]
    },
    {
     "name": "stdout",
     "output_type": "stream",
     "text": [
      "Estimator predicts 0.6698 for case with 0.72 and selected CV 2 and 6 minority cases using random state 9 and sample size (56, 388)\n",
      "Prior to SMOGN sampling, mean is 4.618428910564806e-15 standard deviation is 0.9428736102783335\n"
     ]
    },
    {
     "name": "stderr",
     "output_type": "stream",
     "text": [
      "dist_matrix: 100%|##########| 14/14 [00:15<00:00,  1.07s/it]\n",
      "r_index: 100%|##########| 4/4 [00:04<00:00,  1.02s/it]\n"
     ]
    },
    {
     "name": "stdout",
     "output_type": "stream",
     "text": [
      "Estimator predicts 0.53 for case with 0.47 and selected CV 3 and 7 minority cases using random state 9 and sample size (58, 4388)\n",
      "Prior to SMOGN sampling, mean is 1.0984665406379618e-15 standard deviation is 0.9428736102783335\n"
     ]
    },
    {
     "name": "stderr",
     "output_type": "stream",
     "text": [
      "dist_matrix: 100%|##########| 15/15 [00:16<00:00,  1.13s/it]\n",
      "r_index: 100%|##########| 2/2 [00:01<00:00,  1.01it/s]\n"
     ]
    },
    {
     "name": "stdout",
     "output_type": "stream",
     "text": [
      "Estimator predicts 0.8104 for case with 0.69 and selected CV 4 and 6 minority cases using random state 9 and sample size (56, 6388)\n",
      "Prior to SMOGN sampling, mean is 3.877754970640942e-15 standard deviation is 0.9427075675526859\n"
     ]
    },
    {
     "name": "stderr",
     "output_type": "stream",
     "text": [
      "dist_matrix: 100%|##########| 14/14 [00:14<00:00,  1.02s/it]\n",
      "r_index: 100%|##########| 4/4 [00:04<00:00,  1.02s/it]\n"
     ]
    },
    {
     "name": "stdout",
     "output_type": "stream",
     "text": [
      "Estimator predicts 0.5598 for case with 0.42 and selected CV 2 and 7 minority cases using random state 9 and sample size (58, 1388)\n",
      "Prior to SMOGN sampling, mean is 3.4877054204324126e-15 standard deviation is 0.9428736102783335\n"
     ]
    },
    {
     "name": "stderr",
     "output_type": "stream",
     "text": [
      "dist_matrix: 100%|##########| 14/14 [00:14<00:00,  1.06s/it]\n",
      "r_index: 100%|##########| 4/4 [00:03<00:00,  1.04it/s]\n"
     ]
    },
    {
     "name": "stdout",
     "output_type": "stream",
     "text": [
      "Estimator predicts 0.4341 for case with 0.15 and selected CV 5 and 4 minority cases using random state 9 and sample size (58, 388)\n",
      "Prior to SMOGN sampling, mean is 2.9073275092222564e-15 standard deviation is 0.9428736102783335\n"
     ]
    },
    {
     "name": "stderr",
     "output_type": "stream",
     "text": [
      "dist_matrix: 100%|##########| 14/14 [00:11<00:00,  1.22it/s]\n",
      "r_index: 100%|##########| 4/4 [00:02<00:00,  1.48it/s]\n"
     ]
    },
    {
     "name": "stdout",
     "output_type": "stream",
     "text": [
      "Estimator predicts 0.5518 for case with 0.44 and selected CV 3 and 7 minority cases using random state 9 and sample size (58, 1388)\n",
      "Prior to SMOGN sampling, mean is 4.831559597933187e-15 standard deviation is 0.9428736102783334\n"
     ]
    },
    {
     "name": "stderr",
     "output_type": "stream",
     "text": [
      "dist_matrix: 100%|##########| 15/15 [00:13<00:00,  1.15it/s]\n",
      "r_index: 100%|##########| 2/2 [00:01<00:00,  1.49it/s]\n"
     ]
    },
    {
     "name": "stdout",
     "output_type": "stream",
     "text": [
      "Estimator predicts 0.7607 for case with 0.88 and selected CV 2 and 6 minority cases using random state 9 and sample size (56, 2388)\n",
      "Prior to SMOGN sampling, mean is 2.7755807346587927e-15 standard deviation is 0.9428736102783335\n"
     ]
    },
    {
     "name": "stderr",
     "output_type": "stream",
     "text": [
      "dist_matrix: 100%|##########| 14/14 [00:14<00:00,  1.02s/it]\n",
      "r_index: 100%|##########| 4/4 [00:02<00:00,  1.49it/s]\n"
     ]
    },
    {
     "name": "stdout",
     "output_type": "stream",
     "text": [
      "Estimator predicts 0.3978 for case with 0.4 and selected CV 4 and 7 minority cases using random state 9 and sample size (58, 388)\n",
      "Prior to SMOGN sampling, mean is 3.5947342260346265e-15 standard deviation is 0.9428736102783334\n"
     ]
    },
    {
     "name": "stderr",
     "output_type": "stream",
     "text": [
      "dist_matrix: 100%|##########| 15/15 [00:10<00:00,  1.38it/s]\n",
      "r_index: 100%|##########| 2/2 [00:01<00:00,  1.49it/s]\n"
     ]
    },
    {
     "name": "stdout",
     "output_type": "stream",
     "text": [
      "Estimator predicts 0.5404 for case with 0.6 and selected CV 4 and 6 minority cases using random state 9 and sample size (56, 3388)\n",
      "Prior to SMOGN sampling, mean is 4.197852668689133e-15 standard deviation is 0.9428736102783337\n"
     ]
    },
    {
     "name": "stderr",
     "output_type": "stream",
     "text": [
      "dist_matrix: 100%|##########| 15/15 [00:10<00:00,  1.44it/s]\n",
      "r_index: 100%|##########| 2/2 [00:01<00:00,  1.48it/s]\n"
     ]
    },
    {
     "name": "stdout",
     "output_type": "stream",
     "text": [
      "Estimator predicts 0.4977 for case with 0.81 and selected CV 2 and 6 minority cases using random state 9 and sample size (56, 3388)\n",
      "Prior to SMOGN sampling, mean is 3.3461332532068517e-15 standard deviation is 0.9428736102783333\n"
     ]
    },
    {
     "name": "stderr",
     "output_type": "stream",
     "text": [
      "dist_matrix: 100%|##########| 15/15 [00:13<00:00,  1.12it/s]\n",
      "r_index: 100%|##########| 2/2 [00:01<00:00,  1.50it/s]\n"
     ]
    },
    {
     "name": "stdout",
     "output_type": "stream",
     "text": [
      "Estimator predicts 0.7643 for case with 0.64 and selected CV 2 and 6 minority cases using random state 9 and sample size (56, 388)\n",
      "Prior to SMOGN sampling, mean is 2.9586172948168506e-15 standard deviation is 0.9428736102783334\n"
     ]
    },
    {
     "name": "stderr",
     "output_type": "stream",
     "text": [
      "dist_matrix: 100%|##########| 15/15 [00:15<00:00,  1.05s/it]\n",
      "r_index: 100%|##########| 2/2 [00:01<00:00,  1.49it/s]\n"
     ]
    },
    {
     "name": "stdout",
     "output_type": "stream",
     "text": [
      "Estimator predicts 0.5581 for case with 0.72 and selected CV 2 and 6 minority cases using random state 9 and sample size (56, 5388)\n",
      "Prior to SMOGN sampling, mean is 4.9981587087320136e-15 standard deviation is 0.9428736102783335\n"
     ]
    },
    {
     "name": "stderr",
     "output_type": "stream",
     "text": [
      "dist_matrix: 100%|##########| 14/14 [00:15<00:00,  1.11s/it]\n",
      "r_index: 100%|##########| 4/4 [00:02<00:00,  1.49it/s]\n"
     ]
    },
    {
     "name": "stdout",
     "output_type": "stream",
     "text": [
      "Estimator predicts 0.5994 for case with 0.31 and selected CV 5 and 7 minority cases using random state 9 and sample size (58, 4388)\n",
      "Prior to SMOGN sampling, mean is 3.0597137878683644e-15 standard deviation is 0.9428736102783335\n"
     ]
    },
    {
     "name": "stderr",
     "output_type": "stream",
     "text": [
      "dist_matrix: 100%|##########| 15/15 [00:15<00:00,  1.05s/it]\n",
      "r_index: 100%|##########| 2/2 [00:01<00:00,  1.50it/s]\n"
     ]
    },
    {
     "name": "stdout",
     "output_type": "stream",
     "text": [
      "Estimator predicts 0.5092 for case with 0.68 and selected CV 3 and 6 minority cases using random state 9 and sample size (56, 1388)\n",
      "Prior to SMOGN sampling, mean is 3.050691729197508e-15 standard deviation is 0.9428736102783334\n"
     ]
    },
    {
     "name": "stderr",
     "output_type": "stream",
     "text": [
      "dist_matrix: 100%|##########| 14/14 [00:12<00:00,  1.09it/s]\n",
      "r_index: 100%|##########| 4/4 [00:02<00:00,  1.49it/s]\n"
     ]
    },
    {
     "name": "stdout",
     "output_type": "stream",
     "text": [
      "Estimator predicts 0.3634 for case with 0.34 and selected CV 4 and 7 minority cases using random state 9 and sample size (58, 2388)\n",
      "Prior to SMOGN sampling, mean is 2.9869811641998853e-15 standard deviation is 0.9428736102783335\n"
     ]
    },
    {
     "name": "stderr",
     "output_type": "stream",
     "text": [
      "dist_matrix: 100%|##########| 15/15 [00:16<00:00,  1.11s/it]\n",
      "r_index: 100%|##########| 2/2 [00:01<00:00,  1.24it/s]\n"
     ]
    },
    {
     "name": "stdout",
     "output_type": "stream",
     "text": [
      "Estimator predicts 0.4083 for case with 0.59 and selected CV 4 and 6 minority cases using random state 9 and sample size (56, 2388)\n",
      "Prior to SMOGN sampling, mean is 3.306831682558464e-15 standard deviation is 0.9428736102783336\n"
     ]
    },
    {
     "name": "stderr",
     "output_type": "stream",
     "text": [
      "dist_matrix: 100%|##########| 14/14 [00:15<00:00,  1.09s/it]\n",
      "r_index: 100%|##########| 4/4 [00:04<00:00,  1.10s/it]\n"
     ]
    },
    {
     "name": "stdout",
     "output_type": "stream",
     "text": [
      "Estimator predicts 0.6163 for case with 0.94 and selected CV 4 and 7 minority cases using random state 9 and sample size (58, 1388)\n",
      "Prior to SMOGN sampling, mean is 2.5989090515082563e-15 standard deviation is 0.9428736102783336\n"
     ]
    },
    {
     "name": "stderr",
     "output_type": "stream",
     "text": [
      "dist_matrix: 100%|##########| 15/15 [00:17<00:00,  1.15s/it]\n",
      "r_index: 100%|##########| 2/2 [00:02<00:00,  1.09s/it]\n"
     ]
    },
    {
     "name": "stdout",
     "output_type": "stream",
     "text": [
      "Estimator predicts 0.5763 for case with 0.84 and selected CV 5 and 6 minority cases using random state 9 and sample size (56, 4388)\n",
      "Prior to SMOGN sampling, mean is 1.236207422674529e-15 standard deviation is 0.9428736102783336\n"
     ]
    },
    {
     "name": "stderr",
     "output_type": "stream",
     "text": [
      "dist_matrix: 100%|##########| 15/15 [00:16<00:00,  1.09s/it]\n",
      "r_index: 100%|##########| 2/2 [00:01<00:00,  1.11it/s]\n"
     ]
    },
    {
     "name": "stdout",
     "output_type": "stream",
     "text": [
      "Estimator predicts 0.2607 for case with 0.1 and selected CV 3 and 4 minority cases using random state 9 and sample size (56, 388)\n",
      "Prior to SMOGN sampling, mean is 3.4126863846350182e-15 standard deviation is 0.9428736102783333\n"
     ]
    },
    {
     "name": "stderr",
     "output_type": "stream",
     "text": [
      "dist_matrix: 100%|##########| 14/14 [00:14<00:00,  1.03s/it]\n",
      "r_index: 100%|##########| 4/4 [00:04<00:00,  1.00s/it]\n"
     ]
    },
    {
     "name": "stdout",
     "output_type": "stream",
     "text": [
      "Estimator predicts 0.5196 for case with 0.41 and selected CV 2 and 7 minority cases using random state 9 and sample size (58, 388)\n",
      "Prior to SMOGN sampling, mean is 4.274972731848234e-15 standard deviation is 0.9428736102783336\n"
     ]
    },
    {
     "name": "stderr",
     "output_type": "stream",
     "text": [
      "dist_matrix: 100%|##########| 15/15 [00:16<00:00,  1.11s/it]\n",
      "r_index: 100%|##########| 2/2 [00:01<00:00,  1.05it/s]\n"
     ]
    },
    {
     "name": "stdout",
     "output_type": "stream",
     "text": [
      "Estimator predicts 0.7256 for case with 0.57 and selected CV 5 and 6 minority cases using random state 9 and sample size (56, 4388)\n",
      "Prior to SMOGN sampling, mean is 2.6172621434619846e-15 standard deviation is 0.9428736102783335\n"
     ]
    },
    {
     "name": "stderr",
     "output_type": "stream",
     "text": [
      "dist_matrix: 100%|##########| 15/15 [00:17<00:00,  1.14s/it]\n",
      "r_index: 100%|##########| 2/2 [00:01<00:00,  1.09it/s]\n"
     ]
    },
    {
     "name": "stdout",
     "output_type": "stream",
     "text": [
      "Estimator predicts 0.7215 for case with 0.66 and selected CV 3 and 6 minority cases using random state 9 and sample size (56, 388)\n",
      "Prior to SMOGN sampling, mean is 1.4799883915548597e-15 standard deviation is 0.9428736102783335\n"
     ]
    },
    {
     "name": "stderr",
     "output_type": "stream",
     "text": [
      "dist_matrix: 100%|##########| 15/15 [00:11<00:00,  1.32it/s]\n",
      "r_index: 100%|##########| 2/2 [00:02<00:00,  1.08s/it]\n"
     ]
    },
    {
     "name": "stdout",
     "output_type": "stream",
     "text": [
      "Estimator predicts 0.5929 for case with 0.63 and selected CV 2 and 6 minority cases using random state 9 and sample size (56, 388)\n",
      "Prior to SMOGN sampling, mean is 3.78222002060571e-15 standard deviation is 0.9428736102783333\n"
     ]
    },
    {
     "name": "stderr",
     "output_type": "stream",
     "text": [
      "dist_matrix: 100%|##########| 14/14 [00:08<00:00,  1.70it/s]\n",
      "r_index: 100%|##########| 4/4 [00:02<00:00,  1.52it/s]\n"
     ]
    },
    {
     "name": "stdout",
     "output_type": "stream",
     "text": [
      "Estimator predicts 0.6168 for case with 0.47 and selected CV 5 and 7 minority cases using random state 9 and sample size (58, 1388)\n",
      "Prior to SMOGN sampling, mean is 1.9759544387623463e-15 standard deviation is 0.9428736102783336\n"
     ]
    },
    {
     "name": "stderr",
     "output_type": "stream",
     "text": [
      "dist_matrix: 100%|##########| 14/14 [00:08<00:00,  1.71it/s]\n",
      "r_index: 100%|##########| 4/4 [00:02<00:00,  1.51it/s]\n"
     ]
    },
    {
     "name": "stdout",
     "output_type": "stream",
     "text": [
      "Estimator predicts 0.3213 for case with 0.28 and selected CV 4 and 4 minority cases using random state 9 and sample size (58, 388)\n",
      "Prior to SMOGN sampling, mean is -9.57944887093254e-16 standard deviation is 0.9428736102783334\n"
     ]
    },
    {
     "name": "stderr",
     "output_type": "stream",
     "text": [
      "dist_matrix: 100%|##########| 15/15 [00:09<00:00,  1.60it/s]\n",
      "r_index: 100%|##########| 2/2 [00:01<00:00,  1.50it/s]\n"
     ]
    },
    {
     "name": "stdout",
     "output_type": "stream",
     "text": [
      "Estimator predicts 0.7022 for case with 0.59 and selected CV 4 and 6 minority cases using random state 9 and sample size (56, 2388)\n",
      "Prior to SMOGN sampling, mean is 1.061636766885699e-15 standard deviation is 0.9428736102783336\n"
     ]
    },
    {
     "name": "stderr",
     "output_type": "stream",
     "text": [
      "dist_matrix: 100%|##########| 15/15 [00:09<00:00,  1.59it/s]\n",
      "r_index: 100%|##########| 2/2 [00:01<00:00,  1.49it/s]\n"
     ]
    },
    {
     "name": "stdout",
     "output_type": "stream",
     "text": [
      "Estimator predicts 0.5676 for case with 0.53 and selected CV 5 and 6 minority cases using random state 9 and sample size (56, 2388)\n",
      "Prior to SMOGN sampling, mean is -1.2810087414167951e-16 standard deviation is 0.9428736102783336\n"
     ]
    },
    {
     "name": "stderr",
     "output_type": "stream",
     "text": [
      "dist_matrix: 100%|##########| 15/15 [00:09<00:00,  1.59it/s]\n",
      "r_index: 100%|##########| 2/2 [00:01<00:00,  1.49it/s]\n"
     ]
    },
    {
     "name": "stdout",
     "output_type": "stream",
     "text": [
      "Estimator predicts 0.6168 for case with 0.86 and selected CV 4 and 6 minority cases using random state 9 and sample size (56, 4388)\n",
      "Prior to SMOGN sampling, mean is 8.549327514472436e-16 standard deviation is 0.9428736102783335\n"
     ]
    },
    {
     "name": "stderr",
     "output_type": "stream",
     "text": [
      "dist_matrix: 100%|##########| 14/14 [00:08<00:00,  1.69it/s]\n",
      "r_index: 100%|##########| 4/4 [00:02<00:00,  1.50it/s]\n"
     ]
    },
    {
     "name": "stdout",
     "output_type": "stream",
     "text": [
      "Estimator predicts 0.4574 for case with 0.48 and selected CV 5 and 7 minority cases using random state 9 and sample size (58, 6388)\n",
      "Prior to SMOGN sampling, mean is 1.7654809330573003e-15 standard deviation is 0.9428736102783336\n"
     ]
    },
    {
     "name": "stderr",
     "output_type": "stream",
     "text": [
      "dist_matrix: 100%|##########| 15/15 [00:09<00:00,  1.58it/s]\n",
      "r_index: 100%|##########| 2/2 [00:01<00:00,  1.51it/s]\n"
     ]
    },
    {
     "name": "stdout",
     "output_type": "stream",
     "text": [
      "Estimator predicts 0.6596 for case with 0.66 and selected CV 2 and 6 minority cases using random state 9 and sample size (56, 388)\n",
      "Prior to SMOGN sampling, mean is 1.9869539349501027e-15 standard deviation is 0.9428736102783336\n"
     ]
    },
    {
     "name": "stderr",
     "output_type": "stream",
     "text": [
      "dist_matrix: 100%|##########| 14/14 [00:09<00:00,  1.47it/s]\n",
      "r_index: 100%|##########| 4/4 [00:02<00:00,  1.51it/s]\n"
     ]
    },
    {
     "name": "stdout",
     "output_type": "stream",
     "text": [
      "Estimator predicts 0.5009 for case with 0.33 and selected CV 4 and 7 minority cases using random state 9 and sample size (58, 2388)\n",
      "Prior to SMOGN sampling, mean is 2.5607815843855277e-15 standard deviation is 0.9428736102783335\n"
     ]
    },
    {
     "name": "stderr",
     "output_type": "stream",
     "text": [
      "dist_matrix: 100%|##########| 14/14 [00:12<00:00,  1.16it/s]\n",
      "r_index: 100%|##########| 4/4 [00:02<00:00,  1.49it/s]\n"
     ]
    },
    {
     "name": "stdout",
     "output_type": "stream",
     "text": [
      "Estimator predicts 0.446 for case with 0.49 and selected CV 4 and 7 minority cases using random state 9 and sample size (58, 6388)\n",
      "Prior to SMOGN sampling, mean is -4.688998711949176e-16 standard deviation is 0.9391305482199347\n"
     ]
    },
    {
     "name": "stderr",
     "output_type": "stream",
     "text": [
      "dist_matrix: 100%|##########| 15/15 [00:12<00:00,  1.18it/s]\n",
      "r_index: 100%|##########| 2/2 [00:01<00:00,  1.51it/s]\n"
     ]
    },
    {
     "name": "stdout",
     "output_type": "stream",
     "text": [
      "Estimator predicts 0.7675 for case with 0.78 and selected CV 4 and 6 minority cases using random state 9 and sample size (56, 3388)\n",
      "Prior to SMOGN sampling, mean is 1.2628410342302761e-15 standard deviation is 0.9428736102783334\n"
     ]
    },
    {
     "name": "stderr",
     "output_type": "stream",
     "text": [
      "dist_matrix: 100%|##########| 15/15 [00:09<00:00,  1.63it/s]\n",
      "r_index: 100%|##########| 2/2 [00:01<00:00,  1.49it/s]\n"
     ]
    },
    {
     "name": "stdout",
     "output_type": "stream",
     "text": [
      "Estimator predicts 0.5579 for case with 0.81 and selected CV 4 and 6 minority cases using random state 9 and sample size (56, 2388)\n",
      "Prior to SMOGN sampling, mean is -1.6455987835952367e-16 standard deviation is 0.9428736102783335\n"
     ]
    },
    {
     "name": "stderr",
     "output_type": "stream",
     "text": [
      "dist_matrix: 100%|##########| 15/15 [00:09<00:00,  1.59it/s]\n",
      "r_index: 100%|##########| 2/2 [00:01<00:00,  1.49it/s]\n"
     ]
    },
    {
     "name": "stdout",
     "output_type": "stream",
     "text": [
      "Estimator predicts 0.6831 for case with 0.71 and selected CV 3 and 6 minority cases using random state 9 and sample size (56, 1388)\n",
      "Prior to SMOGN sampling, mean is 1.430923223166778e-15 standard deviation is 0.9428736102783336\n"
     ]
    },
    {
     "name": "stderr",
     "output_type": "stream",
     "text": [
      "dist_matrix: 100%|##########| 14/14 [00:08<00:00,  1.75it/s]\n",
      "r_index: 100%|##########| 4/4 [00:02<00:00,  1.52it/s]\n"
     ]
    },
    {
     "name": "stdout",
     "output_type": "stream",
     "text": [
      "Estimator predicts 0.441 for case with 0.32 and selected CV 2 and 7 minority cases using random state 9 and sample size (58, 4388)\n",
      "Prior to SMOGN sampling, mean is 1.9922682982767715e-16 standard deviation is 0.9428736102783337\n"
     ]
    },
    {
     "name": "stderr",
     "output_type": "stream",
     "text": [
      "dist_matrix: 100%|##########| 15/15 [00:09<00:00,  1.58it/s]\n",
      "r_index: 100%|##########| 2/2 [00:01<00:00,  1.52it/s]\n"
     ]
    },
    {
     "name": "stdout",
     "output_type": "stream",
     "text": [
      "Estimator predicts 0.6732 for case with 0.83 and selected CV 3 and 6 minority cases using random state 9 and sample size (56, 388)\n"
     ]
    }
   ],
   "source": [
    "retrain = 1\n",
    "if retrain == 0:\n",
    "    plt.rcParams['figure.figsize'] = [75, 5]\n",
    "    fs = 32\n",
    "    fig,ax = plt.subplots(1,ns,sharex=True,sharey=True)\n",
    "    col = np.where(per_change <= 0.3,'orangered','blue')\n",
    "for j in np.arange(1,ns):\n",
    "    if retrain == 1:\n",
    "        results_ls_wbs[j,:] = train_estimator(subsc,X_all_c,K_all_c,per_change,pre_updrs_iii_on,age,sex,dd,None,'wbs',True,True,j,True)\n",
    "        results_ls_aug[j,:] = train_estimator(subsc,X_all_c,K_all_c,per_change,pre_updrs_iii_on,age,sex,dd,None,'nc_iid_q',True,True,j,True)\n",
    "        results_ls_smogn[j,:] = train_estimator(subsc,X_all_c,K_all_c,per_change,pre_updrs_iii_on,age,sex,dd,None,'smogn',True,True,j,True)"
   ]
  },
  {
   "cell_type": "code",
   "execution_count": 17,
   "metadata": {},
   "outputs": [
    {
     "data": {
      "image/png": "[encoded data removed]",
      "text/plain": [
       "<Figure size 2500x2500 with 4 Axes>"
      ]
     },
     "metadata": {},
     "output_type": "display_data"
    }
   ],
   "source": [
    "ylim = 1.25\n",
    "fs = 32\n",
    "ofx = 0.515\n",
    "ofy = 0.8\n",
    "pre_imp = (np.asarray(pre_updrs_iii_off,dtype=float)-np.asarray(pre_updrs_iii_on,dtype=float))/np.asarray(pre_updrs_iii_off,dtype=float)\n",
    "plt.rcParams['figure.figsize'] = [25, 25]\n",
    "fig,ax = plt.subplots(2,2,sharex=True,sharey=True)\n",
    "col = np.where(per_change <= 0.3,'orangered','blue')\n",
    "ax[0,0].scatter(pre_imp,per_change, c=col,linewidth=0)\n",
    "lr = stats.linregress(pre_imp,per_change)\n",
    "y_model = pre_imp*lr.slope+lr.intercept\n",
    "ax[0,0].plot(pre_imp,y_model,color='r')\n",
    "ci,pi,x_line,y_line = util.confidence_interval(pre_imp,per_change,ylim)\n",
    "ax[0,0].fill_between(x_line, (y_line+ci), (y_line-ci), color='r', alpha=0.05)\n",
    "ax[0,0].text(ofx,ofy,'$y$ = '+str(np.round(lr.slope,2))+'$x$ + '+str(np.round(lr.intercept,3))+'\\n'+'$r$ = '+str(np.round(lr.rvalue,3))+'\\n'+'$p$ = '+str(('{:.3f}'.format(lr.pvalue))),\n",
    "                    ha='left', va='bottom', transform=ax[0,0].transAxes,fontsize=fs,\n",
    "                    bbox=dict(facecolor='white', edgecolor='lightgray', boxstyle='round')) \n",
    "ax[0,0].hlines(0.3,0,2,linestyle='dashed',color='black')\n",
    "ax[0,0].vlines(0.3,0,2,linestyle='dashed',color='black')\n",
    "ax[0,0].set_title('LCT',fontsize=fs)\n",
    "ax[0,0].set_xlabel('Prediction',fontsize=fs)\n",
    "ax[0,0].xaxis.set_tick_params(labelleft=True,labelsize=fs//1.5)\n",
    "ax[0,0].set_xlim([0,ylim])\n",
    "ax[0,0].set_ylabel('True UPDRS-III improvement',fontsize=fs)\n",
    "ax[0,0].yaxis.set_tick_params(labelleft=True,labelsize=fs//1.5)\n",
    "ax[0,0].set_ylim([0,ylim])\n",
    "\n",
    "ax[0,1].scatter(np.median(results_ls_aug,axis=0),per_change, c=col,linewidth=0)\n",
    "lr = stats.linregress(np.squeeze(np.median(results_ls_aug,axis=0)),per_change)\n",
    "y_model = np.median(results_ls_aug,axis=0)*lr.slope+lr.intercept\n",
    "ax[0,1].plot(np.median(results_ls_aug,axis=0),y_model,color='r')\n",
    "ci,pi,x_line,y_line = util.confidence_interval(np.median(results_ls_aug,axis=0),per_change,ylim)\n",
    "ax[0,1].fill_between(x_line,y_line+ci,y_line-ci,color = 'r',label = '95% confidence interval',alpha=0.05)\n",
    "pl = r'$'+latex_sci(lr.pvalue,0)+'$'\n",
    "ax[0,1].text(ofx+0.013,ofy-0.01,'$y$ = '+str(np.round(lr.slope,2))+'$x$ + '+str(np.round(lr.intercept,2))+'\\n'+'$r$ = '+str(np.round(lr.rvalue,2))+'\\n'+'$p$ = '+pl,\n",
    "                    ha='left', va='bottom', transform=ax[0,1].transAxes,fontsize=fs,\n",
    "                    bbox=dict(facecolor='white', edgecolor='lightgray', boxstyle='round')) \n",
    "ax[0,1].hlines(0.3,0,2,linestyle='dashed',color='black')\n",
    "ax[0,1].vlines(0.3,0,2,linestyle='dashed',color='black')\n",
    "ax[0,1].set_title('Noise Compensated Lasso',fontsize=fs)\n",
    "ax[0,1].set_xlabel('Prediction',fontsize=fs)\n",
    "ax[0,1].xaxis.set_tick_params(labelleft=True,labelsize=fs//1.5)\n",
    "ax[0,1].yaxis.set_tick_params(labelleft=True,labelsize=fs//1.5)\n",
    "\n",
    "ax[1,0].scatter(np.median(results_ls_smogn,axis=0),per_change, c=col,linewidth=0)\n",
    "lr = stats.linregress(np.squeeze(np.median(results_ls_smogn,axis=0)),per_change)\n",
    "y_model = np.median(results_ls_smogn,axis=0)*lr.slope+lr.intercept\n",
    "ax[1,0].plot(np.median(results_ls_smogn,axis=0),y_model,color='r')\n",
    "ci,pi,x_line,y_line = util.confidence_interval(np.median(results_ls_smogn,axis=0),per_change,ylim)\n",
    "ax[1,0].fill_between(x_line,y_line+ci,y_line-ci,color = 'r',label = '95% confidence interval',alpha=0.05)\n",
    "pl = r'$'+latex_sci(lr.pvalue,0)+'$'\n",
    "ax[1,0].text(ofx+0.015,ofy-0.01,'$y$ = '+str(np.round(lr.slope,2))+'$x$ + '+str(np.round(lr.intercept,2))+'\\n'+'$r$ = '+str(np.round(lr.rvalue,2))+'\\n'+'$p$ = '+pl,\n",
    "                    ha='left', va='bottom', transform=ax[1,0].transAxes,fontsize=fs,\n",
    "                    bbox=dict(facecolor='white', edgecolor='lightgray', boxstyle='round')) \n",
    "ax[1,0].hlines(0.3,0,2,linestyle='dashed',color='black')\n",
    "ax[1,0].vlines(0.3,0,2,linestyle='dashed',color='black')\n",
    "ax[1,0].set_xlabel('Prediction',fontsize=fs)\n",
    "ax[1,0].xaxis.set_tick_params(labelleft=True,labelsize=fs//1.5)\n",
    "ax[1,0].set_ylabel('True Improvement',fontsize=fs)\n",
    "ax[1,0].yaxis.set_tick_params(labelleft=True,labelsize=fs//1.5)\n",
    "ax[1,0].set_title('SMOGN Lasso',fontsize=fs)\n",
    "\n",
    "ax[1,1].scatter(np.median(results_ls_wbs,axis=0),per_change, c=col,linewidth=0)\n",
    "lr = stats.linregress(np.squeeze(np.median(results_ls_wbs,axis=0)),per_change)\n",
    "y_model = np.median(results_ls_wbs,axis=0)*lr.slope+lr.intercept\n",
    "ax[1,1].plot(np.median(results_ls_wbs,axis=0),y_model,color='r')\n",
    "ci,pi,x_line,y_line = util.confidence_interval(np.median(results_ls_wbs,axis=0),per_change,ylim)\n",
    "ax[1,1].fill_between(x_line,y_line+ci,y_line-ci,color = 'r',label = '95% confidence interval',alpha=0.05)\n",
    "pl = r'$'+latex_sci(lr.pvalue,0)+'$'\n",
    "ax[1,1].text(ofx+0.013,ofy-0.01,'$y$ = '+str(np.round(lr.slope,2))+'$x$ + '+str(np.round(lr.intercept,2))+'\\n'+'$r$ = '+str(np.round(lr.rvalue,2))+'\\n'+'$p$ = '+pl,\n",
    "                    ha='left', va='bottom', transform=ax[1,1].transAxes,fontsize=fs,\n",
    "                    bbox=dict(facecolor='white', edgecolor='lightgray', boxstyle='round')) \n",
    "\n",
    "ax[1,1].hlines(0.3,0,2,linestyle='dashed',color='black')\n",
    "ax[1,1].vlines(0.3,0,2,linestyle='dashed',color='black')\n",
    "ax[1,1].set_xlabel('Prediction',fontsize=fs)\n",
    "ax[1,1].xaxis.set_tick_params(labelleft=True,labelsize=fs//1.5)\n",
    "ax[1,1].yaxis.set_tick_params(labelleft=True,labelsize=fs//1.5)\n",
    "ax[1,1].set_title('Wild Boostrap Lasso',fontsize=fs)\n",
    "\n",
    "plt.style.use('default')"
   ]
  },
  {
   "cell_type": "code",
   "execution_count": 22,
   "metadata": {},
   "outputs": [],
   "source": [
    "import scipy"
   ]
  },
  {
   "cell_type": "code",
   "execution_count": 23,
   "metadata": {},
   "outputs": [],
   "source": [
    "def rec(res,pc):\n",
    "        y_true = pc\n",
    "        y_pred = res\n",
    "        epsilon_0 = 0.0\n",
    "        epsilon_max = 1.0\n",
    "        d_epsilon = 0.05\n",
    "        y = []\n",
    "        x = np.arange(epsilon_0,epsilon_max,d_epsilon)\n",
    "        epsilon = np.abs(y_true-y_pred) \n",
    "        for j in np.arange(len(x)):\n",
    "            c = 0\n",
    "            for k in np.arange(len(epsilon)):\n",
    "                if epsilon[k] < x[j]:\n",
    "                    c = c+1\n",
    "            y.append(c/len(y_true))\n",
    "        auc_rec = scipy.integrate.simps(y,x)/epsilon_max\n",
    "        return x, np.array(y), auc_rec\n",
    "\n"
   ]
  },
  {
   "cell_type": "code",
   "execution_count": 24,
   "metadata": {},
   "outputs": [
    {
     "data": {
      "text/plain": [
       "<matplotlib.legend.Legend at 0x7ff4bd067950>"
      ]
     },
     "execution_count": 24,
     "metadata": {},
     "output_type": "execute_result"
    },
    {
     "data": {
      "image/png": "[encoded data removed]",
      "text/plain": [
       "<Figure size 1000x1000 with 1 Axes>"
      ]
     },
     "metadata": {},
     "output_type": "display_data"
    }
   ],
   "source": [
    "plt.rcParams[\"figure.figsize\"] = (10,10)\n",
    "fig,ax = plt.subplots(1,1,sharex=True,sharey=True)\n",
    "x_lct,y_lct,eta = rec(pre_imp,per_change)\n",
    "plt.plot(x_lct,y_lct,linewidth=5,label='LCT %0.2f' % eta, color='tab:blue')\n",
    "# x_ls,y_ls,a,eta = rec(results_ls,per_change)\n",
    "# plt.plot(x_ls,y_ls,label='Lasso %0.2f' % eta)\n",
    "# x_ls,y_ls,eta = rec(results_lsw,per_change)\n",
    "# plt.plot(x_ls,y_ls,linewidth=5,label='Bootstrap Lasso %0.3f' % eta, color='tab:blue')\n",
    "x_smogn,y_smogn,eta = rec(np.median(results_ls_smogn,axis=0),per_change)\n",
    "plt.plot(x_smogn,y_smogn,linewidth=5,label='SMOGN Lasso %0.2f' % eta, color='tab:red')\n",
    "x_lsa,y_lsa,eta = rec(np.median(results_ls_aug,axis=0),per_change)\n",
    "plt.plot(x_lsa,y_lsa,linewidth=5,label='Noise Compensated Lasso %0.2f' % eta, color='tab:orange')\n",
    "x_wbs,y_wbs,eta = rec(np.median(results_ls_wbs,axis=0),per_change)\n",
    "plt.plot(x_wbs,y_wbs,linewidth=5,label='Wild Bootstrap Lasso %0.2f' % eta, color=\"tab:green\")\n",
    "x_n,y_n,eta = rec(np.median(per_change)*np.ones_like(per_change),per_change)\n",
    "plt.plot(x_n,y_n,linestyle='dashed',color='k',linewidth=5,label='Mean %0.2f' % eta)\n",
    "plt.xlabel('Absolute deviation',fontsize=fs)\n",
    "plt.ylabel('Accuracy',fontsize=fs)\n",
    "plt.xlim([0,1])\n",
    "plt.title('Regression Error Characteristic',fontsize=fs)\n",
    "ax.xaxis.set_tick_params(labelleft=True,labelsize=fs//1.5)\n",
    "ax.yaxis.set_tick_params(labelleft=True,labelsize=fs//1.5)\n",
    "ax.legend(bbox_to_anchor=(0.215,0.375),fontsize=fs//1.5)\n"
   ]
  },
  {
   "cell_type": "code",
   "execution_count": 25,
   "metadata": {},
   "outputs": [
    {
     "data": {
      "text/plain": [
       "0.2944097491066251"
      ]
     },
     "execution_count": 25,
     "metadata": {},
     "output_type": "execute_result"
    }
   ],
   "source": [
    "res = scipy.stats.wilcoxon(np.median(results_ls_aug,axis=0),np.median(results_ls_smogn,axis=0))\n",
    "res.pvalue"
   ]
  }
 ],
 "metadata": {
  "kernelspec": {
   "display_name": "pdradenv",
   "language": "python",
   "name": "python3"
  },
  "language_info": {
   "codemirror_mode": {
    "name": "ipython",
    "version": 3
   },
   "file_extension": ".py",
   "mimetype": "text/x-python",
   "name": "python",
   "nbconvert_exporter": "python",
   "pygments_lexer": "ipython3",
   "version": "3.7.12"
  },
  "orig_nbformat": 4,
  "vscode": {
   "interpreter": {
    "hash": "14732b5bb7ad6abfe54a083b8d194ae3941adfb1b18321b588b21cb8f420fced"
   }
  }
 },
 "nbformat": 4,
 "nbformat_minor": 2
}
