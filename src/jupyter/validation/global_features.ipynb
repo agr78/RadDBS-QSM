{
 "cells": [
  {
   "cell_type": "code",
   "execution_count": 1,
   "metadata": {},
   "outputs": [],
   "source": [
    "import os\n",
    "import SimpleITK as sitk\n",
    "import six\n",
    "import matplotlib.pyplot as plt\n",
    "import pydicom\n",
    "import pydicom.data\n",
    "import PyQt5\n",
    "import numpy as np\n",
    "import os, glob\n",
    "import pydicom\n",
    "import pylab as pl\n",
    "import sys\n",
    "import matplotlib.path as mplPath\n",
    "import keyboard\n",
    "import nibabel as nib\n",
    "from scipy import ndimage\n",
    "from radiomics import featureextractor \n",
    "from radiomics import imageoperations\n",
    "from radiomics import glcm\n",
    "from radiomics import base, cMatrices\n",
    "from collections import OrderedDict\n",
    "from IPython.core.display import display, HTML\n",
    "from util import IndexTracker\n",
    "import nrrd\n",
    "\n",
    "%matplotlib widget"
   ]
  },
  {
   "cell_type": "code",
   "execution_count": null,
   "metadata": {},
   "outputs": [],
   "source": [
    "# Load QSM and segmentation\n",
    "seg = nib.load('D:/Elements Drive 2020/datasets/CBIC_QSM/AD_p etc/seg.nii.gz')\n",
    "qsm = nib.load('D:/Elements Drive 2020/datasets/CBIC_QSM/AD_p etc/qsm_p.nii')\n",
    "\n",
    "# Set window level\n",
    "level = 0\n",
    "window = 500\n",
    "m1=level-window/2\n",
    "m2=level+window/2\n",
    "# Partition mask\n",
    "seg_mask = np.rot90(np.swapaxes(np.dstack(seg.get_fdata()),0,2)) > 0\n",
    "rsn_mask = np.rot90(np.swapaxes(np.dstack(seg.get_fdata()),0,2)) == 1\n",
    "lsn_mask = np.rot90(np.swapaxes(np.dstack(seg.get_fdata()),0,2)) == 2\n",
    "rrn_mask = np.rot90(np.swapaxes(np.dstack(seg.get_fdata()),0,2)) == 3\n",
    "lrn_mask = np.rot90(np.swapaxes(np.dstack(seg.get_fdata()),0,2)) == 4\n",
    "lstn_mask = np.rot90(np.swapaxes(np.dstack(seg.get_fdata()),0,2)) == 5\n",
    "rstn_mask = np.rot90(np.swapaxes(np.dstack(seg.get_fdata()),0,2)) == 6\n"
   ]
  }
 ],
 "metadata": {
  "kernelspec": {
   "display_name": "pdradenv",
   "language": "python",
   "name": "python3"
  },
  "language_info": {
   "codemirror_mode": {
    "name": "ipython",
    "version": 3
   },
   "file_extension": ".py",
   "mimetype": "text/x-python",
   "name": "python",
   "nbconvert_exporter": "python",
   "pygments_lexer": "ipython3",
   "version": "3.7.15 (default, Nov 24 2022, 18:44:54) [MSC v.1916 64 bit (AMD64)]"
  },
  "orig_nbformat": 4,
  "vscode": {
   "interpreter": {
    "hash": "14732b5bb7ad6abfe54a083b8d194ae3941adfb1b18321b588b21cb8f420fced"
   }
  }
 },
 "nbformat": 4,
 "nbformat_minor": 2
}
