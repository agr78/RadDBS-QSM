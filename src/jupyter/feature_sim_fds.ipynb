{
 "cells": [
  {
   "cell_type": "code",
   "execution_count": 1,
   "metadata": {},
   "outputs": [],
   "source": [
    "# Import libraries\n",
    "from scipy.cluster.hierarchy import dendrogram, linkage\n",
    "import matplotlib as mpl\n",
    "import matplotlib.pyplot as plt\n",
    "from mpl_toolkits.axes_grid1 import make_axes_locatable\n",
    "import nibabel as nib\n",
    "from sklearn.svm import SVR\n",
    "import sklearn.model_selection as sms\n",
    "import sklearn.linear_model as skl\n",
    "import sklearn.preprocessing as skp\n",
    "from sklearn.pipeline import Pipeline\n",
    "import sklearn.metrics as skm\n",
    "import SimpleITK as sitk\n",
    "import six\n",
    "from radiomics import featureextractor \n",
    "import numpy as np\n",
    "import os\n",
    "import pickle\n",
    "import pandas as pd\n",
    "import logging\n",
    "from scipy.stats import linregress\n",
    "import smogn\n",
    "import pandas\n",
    "from collections import Counter\n",
    "from multiprocessing import Pool\n",
    "from notebook import notebookapp\n",
    "from numpy import matlib\n",
    "import random\n",
    "from scipy import ndimage\n",
    "from util import pyvis\n",
    "from util import extract\n",
    "from loader import data_loader\n",
    "from IPython.display import HTML\n",
    "import util\n",
    "import smogn\n",
    "from smogn.phi import phi\n",
    "from smogn.phi_ctrl_pts import phi_ctrl_pts\n",
    "import warnings\n",
    "from multiprocessing import Pool\n",
    "import sklearn.linear_model as skl\n",
    "import sklearn.neural_network as snn\n",
    "import sklearn.feature_selection as skf\n",
    "from imbalanced_regression import fds\n",
    "import scipy\n",
    "from scipy.ndimage import gaussian_filter1d\n",
    "from scipy.signal.windows import triang\n",
    "from scipy.ndimage import convolve1d\n",
    "import scipy.stats as stats\n",
    "import torch\n",
    "from torch.nn import KLDivLoss\n"
   ]
  },
  {
   "cell_type": "markdown",
   "metadata": {},
   "source": [
    "For the dataset $\\{(\\mathbf{x}_i,y_i)\\}^N_{i=1}$ with feature space $\\mathbf{x} \\in \\mathbb{R}^d$ and label $y_i \\in \\mathbb{R}$:"
   ]
  },
  {
   "cell_type": "code",
   "execution_count": 2,
   "metadata": {},
   "outputs": [
    {
     "name": "stdout",
     "output_type": "stream",
     "text": [
      "Allocated arrays\n",
      "Created feature matrix\n",
      "Created ROI matrix\n",
      "Created feature label matrix\n"
     ]
    }
   ],
   "source": [
    "# Get case IDs\n",
    "case_list = open('/home/ali/RadDBS-QSM/data/docs/cases_90','r')\n",
    "lines = case_list.read()\n",
    "lists = np.loadtxt(case_list.name,comments=\"#\", delimiter=\",\",unpack=False,dtype=str)\n",
    "case_id = []\n",
    "for lines in lists:     \n",
    "    case_id.append(lines[-9:-7])\n",
    "\n",
    "# Load scores\n",
    "file_dir = '/home/ali/RadDBS-QSM/data/docs/QSM anonymus- 6.22.2023-1528.csv'\n",
    "motor_df = util.filter_scores(file_dir,'pre-dbs updrs','stim','CORNELL ID')\n",
    "# Find cases with all required scores\n",
    "subs,pre_imp,post_imp,pre_updrs_off = util.get_full_cases(motor_df,\n",
    "                                                          'CORNELL ID',\n",
    "                                                          'OFF (pre-dbs updrs)',\n",
    "                                                          'ON (pre-dbs updrs)',\n",
    "                                                          'OFF meds ON stim 6mo')\n",
    "# Load extracted features\n",
    "npy_dir = '/home/ali/RadDBS-QSM/data/npy/'\n",
    "phi_dir = '/home/ali/RadDBS-QSM/data/phi/phi/'\n",
    "roi_path = '/data/Ali/atlas/mcgill_pd_atlas/PD25-subcortical-labels.csv'\n",
    "n_rois = 6\n",
    "Phi_all, X_all, R_all, K_all, ID_all = util.load_featstruct(phi_dir,npy_dir+'X/',npy_dir+'R/',npy_dir+'K/',n_rois,1595,False)\n",
    "ids = np.asarray(ID_all).astype(int)\n",
    "# Find overlap between scored subjects and feature extraction cases\n",
    "c_cases = np.intersect1d(np.asarray(case_id).astype(int),np.asarray(subs).astype(int))\n",
    "# Complete case indices with respect to feature matrix\n",
    "c_cases_idx = np.in1d(ids,c_cases)\n",
    "X_all_c = X_all[c_cases_idx,:,:]\n",
    "K_all_c = K_all[c_cases_idx,:,:]\n",
    "R_all_c = R_all[c_cases_idx,:,:]\n",
    "# Re-index the scored subjects with respect to complete cases\n",
    "s_cases_idx = np.in1d(subs,ids[c_cases_idx])\n",
    "pre_imp = pre_imp[s_cases_idx]\n",
    "post_imp = post_imp[s_cases_idx]\n",
    "pre_updrs_off = pre_updrs_off[s_cases_idx]\n",
    "per_change = post_imp"
   ]
  },
  {
   "cell_type": "code",
   "execution_count": 3,
   "metadata": {},
   "outputs": [
    {
     "data": {
      "text/plain": [
       "Text(0, 0.5, 'Frequency')"
      ]
     },
     "execution_count": 3,
     "metadata": {},
     "output_type": "execute_result"
    },
    {
     "data": {
      "image/png": "[encoded data removed]",
      "text/plain": [
       "<Figure size 432x288 with 1 Axes>"
      ]
     },
     "metadata": {
      "needs_background": "light"
     },
     "output_type": "display_data"
    }
   ],
   "source": [
    "fig, ax = plt.subplots()\n",
    "h = plt.hist(X_all_c.ravel(),bins=10000)\n",
    "ax.loglog()\n",
    "ax.set_xticklabels([])\n",
    "plt.title('Feature distribution')\n",
    "plt.xlabel('Feature value')\n",
    "plt.ylabel('Frequency')"
   ]
  },
  {
   "cell_type": "code",
   "execution_count": 4,
   "metadata": {},
   "outputs": [
    {
     "data": {
      "text/plain": [
       "Text(0, 0.5, 'Frequency')"
      ]
     },
     "execution_count": 4,
     "metadata": {},
     "output_type": "execute_result"
    },
    {
     "data": {
      "image/png": "[encoded data removed]",
      "text/plain": [
       "<Figure size 432x288 with 1 Axes>"
      ]
     },
     "metadata": {
      "needs_background": "light"
     },
     "output_type": "display_data"
    }
   ],
   "source": [
    "plt.hist(per_change)\n",
    "plt.title('Target distribution')\n",
    "plt.xlabel('DBS outcome')\n",
    "plt.ylabel('Frequency')"
   ]
  },
  {
   "cell_type": "code",
   "execution_count": 5,
   "metadata": {},
   "outputs": [],
   "source": [
    "# Assign the anchor target to the median\n",
    "anchor = np.min(per_change)\n"
   ]
  },
  {
   "cell_type": "code",
   "execution_count": 6,
   "metadata": {},
   "outputs": [],
   "source": [
    "X0 = X_all_c.reshape(X_all_c.shape[0],X_all_c.shape[1]*X_all_c.shape[2])\n",
    "arr1inds = per_change.argsort()\n",
    "X0 = X0[arr1inds[::-1]]\n",
    "per_change = per_change[arr1inds[::-1]]\n",
    "aj = np.where(per_change==anchor)\n",
    "aj = aj[0][0]\n",
    "# sel = skf.SelectKBest(skf.r_regression,k=2000)\n",
    "# X0_s = sel.fit_transform(X0,per_change)\n",
    "X0_s = X0\n",
    "X0_ss = skp.StandardScaler().fit_transform(X0_s)"
   ]
  },
  {
   "cell_type": "code",
   "execution_count": 7,
   "metadata": {},
   "outputs": [],
   "source": [
    "C0 = np.zeros((1,len(per_change))).T\n",
    "C0_s = np.zeros((1,len(per_change))).T\n",
    "\n",
    "for j in np.arange(len(per_change)):\n",
    "    C0[j] = skm.pairwise.cosine_similarity(np.expand_dims(X0[aj,:],axis=0),\n",
    "                                        np.expand_dims(X0[j,:],axis=0))\n",
    "    C0_s[j] = skm.pairwise.cosine_similarity(np.expand_dims(X0_ss[aj,:],axis=0),\n",
    "                                        np.expand_dims(X0_ss[j,:],axis=0))"
   ]
  },
  {
   "cell_type": "code",
   "execution_count": 18,
   "metadata": {},
   "outputs": [
    {
     "data": {
      "text/plain": [
       "Text(0.5, 1.0, 'Standard')"
      ]
     },
     "execution_count": 18,
     "metadata": {},
     "output_type": "execute_result"
    },
    {
     "data": {
      "image/png": "[encoded data removed]",
      "text/plain": [
       "<Figure size 1800x720 with 2 Axes>"
      ]
     },
     "metadata": {
      "needs_background": "light"
     },
     "output_type": "display_data"
    }
   ],
   "source": [
    "fig, ax = plt.subplots(1,2,figsize=(25,10),sharey=True)\n",
    "pd.DataFrame(C0,index=per_change).plot.bar(ax=ax[0],legend=False,width=0.9)\n",
    "ax[0].set_xticks([])\n",
    "ax[0].get_children()\n",
    "ax[0].get_children()[aj].set_color('#ff7f0e') \n",
    "ax[0].set_ylim([-0.25,1.25])\n",
    "ax[0].set_ylabel('Similarity with respect to anchor target',fontsize=24)\n",
    "ax[0].set_xlabel('Target',fontsize=24)\n",
    "ax[0].set_title('Raw',fontsize=24)\n",
    "pd.DataFrame(C0_s,index=sorted(per_change)).plot.bar(ax=ax[1],legend=False,width=0.9)\n",
    "ax[1].set_xticks([])\n",
    "ax[1].get_children()\n",
    "ax[1].get_children()[aj].set_color('#ff7f0e') \n",
    "ax[1].set_xlabel('Target',fontsize=24)\n",
    "ax[1].set_title('Standard',fontsize=24)\n"
   ]
  },
  {
   "cell_type": "markdown",
   "metadata": {},
   "source": [
    "Define the structure $\\mathcal{Y}$ which can be divided into $\\mathcal{B}$ groups \n",
    "$$[y_0,y_1),[y_1,y_2),...[y_{B-1},y_B)$$\n",
    "Where $\\mathcal{B}=\\{1,...,B\\} \\in \\mathbb{Z^+}$, or the index space. The defined bins give a minimum resolution for the regression task\n",
    "$$\\delta y \\overset{\\Delta}{=}y_{b+1}-y_b$$\n",
    "For (learned) feature space, let $z=f(\\mathbf{x},\\theta)$, where $f$ if is a deep neural network parameterized by $\\theta$. Then, the final prediction is $\\hat{y}=g(z)$. \\\n",
    "\\\n",
    "Both features $\\mathbf{z}$ and labels $y$ will be smoothed with a symmetric kernel $k(x,x')$. Begin with feature distribution smoothing over $N_b$ bins\n",
    "$$\\mathbf{\\mu}_b=\\frac{1}{N_b} \\sum_{i=1}^{N_b} \\mathbf{z}_i$$\n",
    "$$\\mathbf{\\Sigma}_b=\\frac{1}{N_b-1} \\sum_{i=1}^{N_b} (\\mathbf{z}_i-\\mathbf{\\mu}_b)(\\mathbf{z}_i-\\mathbf{\\mu}_b)^T"
   ]
  },
  {
   "cell_type": "code",
   "execution_count": 10,
   "metadata": {},
   "outputs": [
    {
     "data": {
      "image/png": "[encoded data removed]",
      "text/plain": [
       "<Figure size 432x288 with 1 Axes>"
      ]
     },
     "metadata": {
      "needs_background": "light"
     },
     "output_type": "display_data"
    }
   ],
   "source": [
    "B = 100\n",
    "mu_b = []\n",
    "s_b = []\n",
    "fig, ax = plt.subplots()\n",
    "h = plt.hist(X0_ss.ravel(),bins=B)\n",
    "ax.set_xticklabels([])\n",
    "ax.set_ylim([0,1e5])\n",
    "plt.title('Feature distribution')\n",
    "plt.xlabel('Feature value')\n",
    "plt.ylabel('Frequency')\n",
    "for j in np.arange(B):\n",
    "    mu_b.append((1/h[0][j])*np.sum(X0_ss.ravel()[(h[1][j] < X0_ss.ravel()) & (X0_ss.ravel() < h[1][j+1])]))\n",
    "    s_b.append((1/(h[0][j]-1))*np.sum((X0_ss.ravel()[(h[1][j] < X0_ss.ravel()) & (X0_ss.ravel() < h[1][j+1])]-mu_b[j])**2))\n"
   ]
  },
  {
   "cell_type": "code",
   "execution_count": 11,
   "metadata": {},
   "outputs": [],
   "source": [
    "S_b = np.asarray(s_b)\n",
    "S_b[np.isnan(S_b)] = 0\n",
    "Mu_b = np.asarray(mu_b)"
   ]
  },
  {
   "cell_type": "markdown",
   "metadata": {},
   "source": [
    "Both features $\\mathbf{z}$ and labels $y$ will be smoothed with a symmetric kernel $k(x,x')$. Begin with feature distribution smoothing over $N_b$ bins\n",
    "$$\\tilde{\\mathbf{\\mu}}_b=\\sum_{b' \\in \\mathcal{B}} k(y_b,y_{b'}) \\mathbf{\\mu}_{b'}$$\n",
    "$$\\tilde{\\mathbf{\\Sigma}}_b=\\sum_{b' \\in \\mathcal{B}}k(y_b,y_{b'}) \\mathbf{\\Sigma}_{b'}"
   ]
  },
  {
   "cell_type": "code",
   "execution_count": 12,
   "metadata": {},
   "outputs": [],
   "source": [
    "def get_lds_kernel_window(kernel, ks, sigma):\n",
    "    assert kernel in ['gaussian', 'triang', 'laplace']\n",
    "    half_ks = (ks - 1) // 2\n",
    "    if kernel == 'gaussian':\n",
    "        base_kernel = [0.] * half_ks + [1.] + [0.] * half_ks\n",
    "        kernel_window = gaussian_filter1d(base_kernel, sigma=sigma) / max(gaussian_filter1d(base_kernel, sigma=sigma))\n",
    "    elif kernel == 'triang':\n",
    "        kernel_window = triang(ks)\n",
    "    else:\n",
    "        laplace = lambda x: np.exp(-abs(x) / sigma) / (2. * sigma)\n",
    "        kernel_window = list(map(laplace, np.arange(-half_ks, half_ks + 1))) / max(map(laplace, np.arange(-half_ks, half_ks + 1)))\n",
    "\n",
    "    return kernel_window\n",
    "\n",
    "Mut_b = gaussian_filter1d(Mu_b, sigma=2)\n",
    "St_b = gaussian_filter1d(S_b, sigma=2)"
   ]
  },
  {
   "cell_type": "code",
   "execution_count": 13,
   "metadata": {},
   "outputs": [
    {
     "data": {
      "text/plain": [
       "Text(0.5, 0.98, 'Gaussian filtering')"
      ]
     },
     "execution_count": 13,
     "metadata": {},
     "output_type": "execute_result"
    },
    {
     "data": {
      "image/png": "[encoded data removed]",
      "text/plain": [
       "<Figure size 432x288 with 2 Axes>"
      ]
     },
     "metadata": {
      "needs_background": "light"
     },
     "output_type": "display_data"
    },
    {
     "data": {
      "image/png": "[encoded data removed]",
      "text/plain": [
       "<Figure size 432x288 with 2 Axes>"
      ]
     },
     "metadata": {
      "needs_background": "light"
     },
     "output_type": "display_data"
    }
   ],
   "source": [
    "fig, ax = plt.subplots(2,1,sharex=True,sharey=True)\n",
    "ax[0].bar(np.arange(B),Mu_b)\n",
    "ax[0].set_ylabel(r'$\\mu_b$',fontsize=14)\n",
    "ax[1].bar(np.arange(B),Mut_b)\n",
    "ax[1].set_ylabel(r'$\\tilde{\\mu}_b$',fontsize=14)\n",
    "ax[1].set_xlabel('Bin')\n",
    "plt.suptitle('Gaussian filtering',fontsize=14)\n",
    "fig, ax = plt.subplots(2,1,sharex=True,sharey=True)\n",
    "ax[0].bar(np.arange(B),S_b)\n",
    "ax[0].set_ylabel(r'$\\Sigma_b$',fontsize=14)\n",
    "ax[1].bar(np.arange(B),St_b)\n",
    "ax[1].set_ylabel(r'$\\tilde{\\Sigma}_b$',fontsize=14)\n",
    "ax[1].set_xlabel('Bin')\n",
    "plt.suptitle('Gaussian filtering')\n"
   ]
  },
  {
   "cell_type": "markdown",
   "metadata": {},
   "source": [
    "The features can be whitened and recolored accoring to Sun et. al\n",
    "$$\\tilde{z}=\\tilde{\\mathbf{\\Sigma}}^{\\frac{1}{2}}_b\\mathbf{\\Sigma}^{-\\frac{1}{2}}_b(z-\\mathbf{\\mu}_b)+\\tilde{\\mathbf{\\mu}}_b"
   ]
  },
  {
   "cell_type": "code",
   "execution_count": 14,
   "metadata": {},
   "outputs": [],
   "source": [
    "z = np.zeros_like(X0_ss.ravel())\n",
    "idx = 0\n",
    "for j in np.arange(B):\n",
    "    x = X0_ss.ravel()[(h[1][j] < X0_ss.ravel()) & (X0_ss.ravel() < h[1][j+1])]\n",
    "    z[idx:idx+len(x)] = x\n",
    "    mu_zb = Mu_b[j]\n",
    "    mut_zb = Mut_b[j]\n",
    "    s_zb = S_b[j]\n",
    "    st_zb = St_b[j]\n",
    "    idx = idx+len(x)\n"
   ]
  },
  {
   "cell_type": "code",
   "execution_count": 15,
   "metadata": {},
   "outputs": [],
   "source": [
    "zt = np.sqrt(st_zb)/np.sqrt(s_zb)*(z-mu_zb)+mut_zb"
   ]
  },
  {
   "cell_type": "code",
   "execution_count": 16,
   "metadata": {},
   "outputs": [
    {
     "data": {
      "text/plain": [
       "<matplotlib.legend.Legend at 0x7f2fe5098950>"
      ]
     },
     "execution_count": 16,
     "metadata": {},
     "output_type": "execute_result"
    },
    {
     "data": {
      "image/png": "[encoded data removed]",
      "text/plain": [
       "<Figure size 432x288 with 1 Axes>"
      ]
     },
     "metadata": {
      "needs_background": "light"
     },
     "output_type": "display_data"
    }
   ],
   "source": [
    "h0 = plt.hist(X0_ss.ravel(),bins=B,label='Original')\n",
    "h = plt.hist(zt.ravel(),bins=B,label='Whitened and recolored')\n",
    "plt.xlabel('Feature value')\n",
    "plt.ylabel('Frequency')\n",
    "plt.legend()"
   ]
  }
 ],
 "metadata": {
  "kernelspec": {
   "display_name": "pdradenv",
   "language": "python",
   "name": "python3"
  },
  "language_info": {
   "codemirror_mode": {
    "name": "ipython",
    "version": 3
   },
   "file_extension": ".py",
   "mimetype": "text/x-python",
   "name": "python",
   "nbconvert_exporter": "python",
   "pygments_lexer": "ipython3",
   "version": "3.7.16"
  }
 },
 "nbformat": 4,
 "nbformat_minor": 2
}
