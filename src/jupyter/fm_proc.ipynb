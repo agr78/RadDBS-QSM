{
 "cells": [
  {
   "cell_type": "code",
   "execution_count": 1,
   "metadata": {},
   "outputs": [
    {
     "data": {
      "text/html": [
       "\n",
       "<style>\n",
       ".jupyter-matplotlib {\n",
       "    background-color: #000;\n",
       "}\n",
       "\n",
       ".widget-label, .jupyter-matplotlib-header{\n",
       "    color: #fff;\n",
       "}\n",
       "\n",
       ".jupyter-button {\n",
       "    background-color: #333;\n",
       "    color: #fff;\n",
       "}\n",
       "</style>\n"
      ],
      "text/plain": [
       "<IPython.core.display.HTML object>"
      ]
     },
     "execution_count": 1,
     "metadata": {},
     "output_type": "execute_result"
    }
   ],
   "source": [
    "import SimpleITK as sitk\n",
    "import six\n",
    "import matplotlib.pyplot as plt\n",
    "import numpy as np\n",
    "np.seterr(all=\"ignore\")\n",
    "import os\n",
    "import nibabel as nib\n",
    "from radiomics import featureextractor \n",
    "from IPython.core.display import display, HTML\n",
    "from IPython.utils import io\n",
    "import logging\n",
    "from util import pyvis, make_feature_map\n",
    "from scipy.stats import wilcoxon\n",
    "import pandas as pd\n",
    "import nrrd\n",
    "HTML('''\n",
    "<style>\n",
    ".jupyter-matplotlib {\n",
    "    background-color: #000;\n",
    "}\n",
    "\n",
    ".widget-label, .jupyter-matplotlib-header{\n",
    "    color: #fff;\n",
    "}\n",
    "\n",
    ".jupyter-button {\n",
    "    background-color: #333;\n",
    "    color: #fff;\n",
    "}\n",
    "</style>\n",
    "''')"
   ]
  },
  {
   "cell_type": "code",
   "execution_count": 2,
   "metadata": {},
   "outputs": [],
   "source": [
    "res = ['07','20','31']\n",
    "nres = ['05','22','28']\n",
    "ids = ['07','20','31','05','22','28']"
   ]
  },
  {
   "cell_type": "code",
   "execution_count": 3,
   "metadata": {},
   "outputs": [],
   "source": [
    "\n",
    "%matplotlib widget\n",
    "visualize = 0\n",
    "level = 0\n",
    "window = 500\n",
    "m1 = level-window/2\n",
    "m2 = level+window/2\n",
    "slices = []\n",
    "segs = []\n",
    "qsms = []\n",
    "skipcount = 0\n",
    "for j in np.arange(len(ids)):\n",
    "    V = nib.load('/home/ali/RadDBS-QSM/data/nii/chh/qsm/QSM_e10_imaginary_'+ids[j]+'.nii.gz')\n",
    "    M = nib.load('/home/ali/RadDBS-QSM/data/nii/chh/seg/'+ids[j]+'.nii.gz')\n",
    "    qsms.append(V.get_fdata())\n",
    "    segs.append(M.get_fdata())\n",
    "    rows,cols,slices = V.shape\n",
    "    img_shape = (slices,rows,cols)\n",
    "    plots = np.zeros(img_shape)\n",
    "\n",
    "\n",
    "    for i in np.arange(slices):\n",
    "        pix = V.get_fdata()[:,:,i]\n",
    "        m = V.get_fdata() != -250\n",
    "        pix[pix<m1]=m1\n",
    "        pix[pix>m2]=m2\n",
    "        # plots[i,:,:] = m[:,:,i]*pix\n",
    "\n",
    "    if visualize == 1:\n",
    "        pyvis(np.hstack((np.flip(V.get_fdata().T),np.flip(100*M.get_fdata().T))),10,10)\n",
    "\n",
    "\n"
   ]
  },
  {
   "cell_type": "code",
   "execution_count": 4,
   "metadata": {},
   "outputs": [],
   "source": [
    "df = pd.read_csv('/home/ali/RadDBS-QSM/data/xlxs/updrs_iii_chh.csv')\n",
    "n_rois = 6\n",
    "n_cases = 37\n",
    "n_features = 1596\n",
    "X0_gt = np.load('/home/ali/RadDBS-QSM/data/npy/rp/X0_gt_chh_rois_rp.npy')\n",
    "R = np.load('/home/ali/RadDBS-QSM/data/npy/rp/R_chh_rp.npy')\n",
    "K = np.load('/home/ali/RadDBS-QSM/data/npy/rp/K_chh_rp.npy')\n",
    "K_all_c = K.reshape(n_cases,n_rois,n_features-1)[:,0:4,:]\n",
    "K_all_c = K_all_c[0,0,:].reshape(-1,1)\n",
    "X_all_c = X0_gt.reshape(n_cases,n_rois,n_features)[:,0:4,:]\n",
    "# Patient IDs\n",
    "subject_id = np.asarray(df[df.columns[0]])[1:]\n",
    "# Only extract ROI if it is present in all cases\n",
    "seg_labels_all = segs[0]\n",
    "s_directory = '/home/ali/RadDBS-QSM/data/nii/chh/orig/seg/'\n",
    "s_directory = os.listdir(s_directory)\n",
    "s_directory = sorted(s_directory)\n",
    "case_number = np.zeros_like(np.asarray(s_directory))\n",
    "for i in range(n_cases):\n",
    "    case_number[i] = float(s_directory[i][:2])\n",
    "subject_id_corr = subject_id[np.in1d(subject_id,case_number)]\n",
    "pre_updrs_iii_off =  np.asarray(df[df.columns[3]][np.hstack((False,np.in1d(subject_id,subject_id_corr)))])                                \n",
    "pre_updrs_iii_on =  np.asarray(df[df.columns[4]][np.hstack((False,np.in1d(subject_id,subject_id_corr)))])\n",
    "post_updrs_iii_off =  np.asarray(df[df.columns[6]][np.hstack((False,np.in1d(subject_id,subject_id_corr)))])\n",
    "per_change = (np.asarray(pre_updrs_iii_off).astype(float)-np.asarray(post_updrs_iii_off).astype(float))/(np.asarray(pre_updrs_iii_off).astype(float))"
   ]
  },
  {
   "cell_type": "code",
   "execution_count": 5,
   "metadata": {},
   "outputs": [
    {
     "name": "stdout",
     "output_type": "stream",
     "text": [
      "Enabled features:\n",
      "\t {'firstorder': [], 'glcm': [], 'gldm': [], 'glszm': []}\n"
     ]
    }
   ],
   "source": [
    "logger = logging.getLogger(\"radiomics\")\n",
    "logger.setLevel(logging.CRITICAL)\n",
    "reextract = 0\n",
    "rewrite = 0\n",
    "# Extract predictive features only\n",
    "extractor = featureextractor.RadiomicsFeatureExtractor()\n",
    "extractor.disableAllImageTypes()\n",
    "extractor.disableAllFeatures()\n",
    "extractor.enableImageTypeByName('Original')\n",
    "extractor.enableImageTypeByName('Gradient')\n",
    "extractor.enableImageTypeByName('Square')\n",
    "extractor.enableImageTypeByName('Wavelet')\n",
    "extractor.enableFeatureClassByName('firstorder')\n",
    "extractor.enableFeatureClassByName('glcm')\n",
    "extractor.enableFeatureClassByName('gldm')\n",
    "extractor.enableFeatureClassByName('glszm')\n",
    "print('Enabled features:\\n\\t', extractor.enabledFeatures)\n",
    "x_row = []\n",
    "Phi = []\n",
    "keylib = []\n",
    "roilib = []\n",
    "roi_names = np.asarray(['Right substantia nigra','Right subthalamic nucleus',\n",
    "                            'Left subthalamic nucleus', 'Left substantia nigra', 'Right dentate nucleus', 'Left dentate nucleus'])\n",
    "phi_predict = ['wavelet-LLL_gldm_GrayLevelNonUniformity','gradient_glcm_SumEntropy','square_firstorder_Variance','wavelet-HHL_glszm_SizeZoneNonUniformity']\n",
    "phic = '\\t'.join(phi_predict)\n",
    "# Convert to SITK images and extract features\n",
    "if reextract == 1:\n",
    "    for j in np.arange(len(ids)):\n",
    "        qsm_sitk = sitk.GetImageFromArray(qsms[j]) \n",
    "        seg = np.asarray(segs[j].astype(int))\n",
    "        seg_sitk = sitk.GetImageFromArray(seg) \n",
    "        for k in np.arange(1,len(roi_names)+1):\n",
    "            with io.capture_output() as captured:\n",
    "                featureVector = extractor.execute(qsm_sitk,seg_sitk,voxelBased=True,label=k);\n",
    "                fv_count = 0\n",
    "                Phi.append(featureVector)\n",
    "            print('Extracted feature maps for subject',ids[j],'ROI',str(k))\n",
    "            for key, value in six.iteritems(featureVector):\n",
    "                if isinstance(value, sitk.Image):  # Feature map\n",
    "                    if key in phic and rewrite == 1:\n",
    "                        print('Writing '+key+' map')\n",
    "                        sitk.WriteImage(value,key +'_'+ids[j]+'_'+str(k)+'.nrrd', True)\n",
    "                        sitk.WriteImage(seg_sitk,key +'seg_'+ids[j]+'_'+str(k)+'.nrrd', True)\n",
    "                if key == 'diagnostics_Mask-original_BoundingBox':\n",
    "                    lims = value\n",
    "                    # Assuming kernel radius of 3, slide of 1, and padding of 0\n",
    "                    sitk.WriteImage(seg_sitk[lims[0]-1:lims[0]+lims[3]+1,lims[1]-1:lims[1]+lims[4]+1,lims[2]-1:lims[2]+lims[5]+1], 'seg_crop_' + ids[j] +'_'+str(k)+ '.nrrd',True)\n",
    "                    sitk.WriteImage(qsm_sitk[lims[0]-1:lims[0]+lims[3]+1,lims[1]-1:lims[1]+lims[4]+1,lims[2]-1:lims[2]+lims[5]+1], 'qsm_crop_' + ids[j] +'_'+str(k)+ '.nrrd',True)\n",
    "\n",
    "       \n",
    "\n",
    "\n"
   ]
  },
  {
   "cell_type": "code",
   "execution_count": 6,
   "metadata": {},
   "outputs": [],
   "source": [
    "# Import the maps from `.nrrd` files and visualize\n",
    "feat_name = 'wavelet-HHL_glszm_SizeZoneNonUniformity'\n",
    "r_num1 = 1\n",
    "r_num2 = 4"
   ]
  },
  {
   "cell_type": "code",
   "execution_count": 7,
   "metadata": {},
   "outputs": [
    {
     "data": {
      "text/plain": [
       "(5.0, 0.3125)"
      ]
     },
     "execution_count": 7,
     "metadata": {},
     "output_type": "execute_result"
    }
   ],
   "source": [
    "X_r = (X_all_c[per_change>0.85,2:4,np.where(K_all_c == feat_name)[0][0]]).astype(float)\n",
    "X_nr = (X_all_c[per_change<0.3,2:4,np.where(K_all_c == feat_name)[0][0]]).astype(float)\n",
    "res = wilcoxon(X_r.ravel(),X_nr.ravel())\n",
    "res.statistic, res.pvalue"
   ]
  },
  {
   "cell_type": "code",
   "execution_count": 8,
   "metadata": {},
   "outputs": [
    {
     "data": {
      "text/plain": [
       "9.425675675675675"
      ]
     },
     "execution_count": 8,
     "metadata": {},
     "output_type": "execute_result"
    }
   ],
   "source": [
    "np.median(X_r)"
   ]
  },
  {
   "cell_type": "code",
   "execution_count": 9,
   "metadata": {},
   "outputs": [
    {
     "data": {
      "text/plain": [
       "14.207122093023255"
      ]
     },
     "execution_count": 9,
     "metadata": {},
     "output_type": "execute_result"
    }
   ],
   "source": [
    "np.median(X_nr)"
   ]
  },
  {
   "cell_type": "code",
   "execution_count": 10,
   "metadata": {},
   "outputs": [],
   "source": [
    "# ROI 1\n",
    "pq = True\n",
    "hr1,_ = nrrd.read('./'+feat_name+'_'+str(pr)+'_'+str(r_num1)+'.nrrd')\n",
    "if pq == True:\n",
    "    hrq1,_ = nrrd.read('./qsm_crop_'+str(pr)+'_'+str(r_num1)+'.nrrd')\n",
    "    mr1,mrq1 = nrrd.read('./seg_crop_'+str(pr)+'_'+str(r_num1)+'.nrrd')\n",
    "    # hr1 = hrq1*(abs(hr1)!=0)\n",
    "    hr1 = hrq1\n",
    "\n",
    "# ROI 2\n",
    "hr2,_ = nrrd.read('./'+feat_name+'_'+str(pr)+'_'+str(r_num2)+'.nrrd')\n",
    "if pq == True:\n",
    "    hrq2,_ = nrrd.read('./qsm_crop_'+str(pr)+'_'+str(r_num2)+'.nrrd')\n",
    "    mr2,mrq2 = nrrd.read('./seg_crop_'+str(pr)+'_'+str(r_num2)+'.nrrd')\n",
    "    # hr2 = hrq2*(abs(hr2)!=0)\n",
    "    hr2 = hrq2\n",
    "\n",
    "# Pad the ROIs to the same shape\n",
    "px,py,pz = np.asarray(hr1.shape)-np.asarray(hr2.shape)\n",
    "px,py,pz\n",
    "hr1p = np.pad(hr1,((0,abs(min(0,px))),(0,abs(min(0,py))),(0,abs(min(0,pz)))))\n",
    "hr2p = np.pad(hr2,((0,abs(max(0,px))),(0,abs(max(0,py))),(0,abs(max(0,pz)))))\n",
    "hr = np.flipud(np.concatenate((hr1p,hr2p),axis=2))\n",
    "pyvis(hr,10,10,'gray',500,0,-250,250)"
   ]
  },
  {
   "cell_type": "code",
   "execution_count": null,
   "metadata": {},
   "outputs": [],
   "source": [
    "# make_feature_map(res[2],feat_name,False,(r_num1,r_num2),8,0,0,3)\n",
    "# make_feature_map(res[0],feat_name,False,(r_num1,r_num2),8,0,0,3)\n",
    "# make_feature_map(nres[0],feat_name,False,(r_num1,r_num2),8,0,0,3)\n",
    "# make_feature_map(nres[1],feat_name,False,(r_num1,r_num2),8,0,0,3)"
   ]
  },
  {
   "cell_type": "code",
   "execution_count": null,
   "metadata": {},
   "outputs": [],
   "source": [
    "# make_feature_map(res[2],feat_name,True,(r_num1,r_num2),500,0,-250,250)\n",
    "# make_feature_map(res[0],feat_name,True,(r_num1,r_num2),500,0,-250,250)\n",
    "# make_feature_map(nres[0],feat_name,True,(r_num1,r_num2),500,0,-250,250)\n",
    "# make_feature_map(nres[1],feat_name,True,(r_num1,r_num2),500,0,-250,250)"
   ]
  }
 ],
 "metadata": {
  "kernelspec": {
   "display_name": "pdradenv",
   "language": "python",
   "name": "python3"
  },
  "language_info": {
   "codemirror_mode": {
    "name": "ipython",
    "version": 3
   },
   "file_extension": ".py",
   "mimetype": "text/x-python",
   "name": "python",
   "nbconvert_exporter": "python",
   "pygments_lexer": "ipython3",
   "version": "3.7.15"
  },
  "orig_nbformat": 4,
  "vscode": {
   "interpreter": {
    "hash": "14732b5bb7ad6abfe54a083b8d194ae3941adfb1b18321b588b21cb8f420fced"
   }
  }
 },
 "nbformat": 4,
 "nbformat_minor": 2
}
