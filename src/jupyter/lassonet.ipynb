{
 "cells": [
  {
   "cell_type": "code",
   "execution_count": 1,
   "metadata": {},
   "outputs": [],
   "source": [
    "# Import libraries\n",
    "import matplotlib.pyplot as plt\n",
    "import sklearn.model_selection as sms\n",
    "import sklearn.linear_model as slm\n",
    "import sklearn.preprocessing as skp\n",
    "import sklearn.feature_selection as skf\n",
    "from sklearn.cluster import DBSCAN\n",
    "import numpy as np\n",
    "from IPython.display import HTML\n",
    "import util\n",
    "from scipy.spatial import cKDTree\n",
    "from lassonet import LassoNetRegressor, LassoNetRegressorCV\n",
    "import os\n",
    "from torch.optim import SGD\n",
    "from functools import partial\n",
    "import torch\n",
    "import torch.nn.functional as F\n"
   ]
  },
  {
   "cell_type": "code",
   "execution_count": 2,
   "metadata": {},
   "outputs": [
    {
     "name": "stdout",
     "output_type": "stream",
     "text": [
      "Allocated arrays\n",
      "Created feature matrix\n",
      "Created ROI matrix\n",
      "Created feature label matrix\n",
      "['Left red nucleus' 'Left substantia nigra' 'Left subthalamic nucleus'\n",
      " 'Right Substantia nigra' 'Right red nucleus' 'Right subthalamic nucleus']\n"
     ]
    }
   ],
   "source": [
    "# Get case IDs\n",
    "case_list = open('/home/ali/RadDBS-QSM/data/docs/cases_90','r')\n",
    "lines = case_list.read()\n",
    "lists = np.loadtxt(case_list.name,comments=\"#\", delimiter=\",\",unpack=False,dtype=str)\n",
    "case_id = []\n",
    "for lines in lists:     \n",
    "    case_id.append(lines[-9:-7])\n",
    "\n",
    "# Load scores\n",
    "file_dir = '/home/ali/RadDBS-QSM/data/docs/QSM anonymus- 6.22.2023-1528.csv'\n",
    "motor_df = util.filter_scores(file_dir,'pre-dbs updrs','stim','CORNELL ID')\n",
    "# Find cases with all required scores\n",
    "subs,pre_imp,post_imp,pre_updrs_off = util.get_full_cases(motor_df,\n",
    "                                                          'CORNELL ID',\n",
    "                                                          'OFF (pre-dbs updrs)',\n",
    "                                                          'ON (pre-dbs updrs)',\n",
    "                                                          'OFF meds ON stim 6mo')\n",
    "# Load extracted features\n",
    "npy_dir = '/home/ali/RadDBS-QSM/data/npy/'\n",
    "phi_dir = '/home/ali/RadDBS-QSM/data/phi/phi/'\n",
    "roi_path = '/data/Ali/atlas/mcgill_pd_atlas/PD25-subcortical-labels.csv'\n",
    "n_rois = 6\n",
    "all_rois = False\n",
    "Phi_all, X_all, R_all, K_all, ID_all = util.load_featstruct(phi_dir,npy_dir+'X/',npy_dir+'R/',npy_dir+'K/',n_rois,1595,all_rois)\n",
    "ids = np.asarray(ID_all).astype(int)\n",
    "# Find overlap between scored subjects and feature extraction cases\n",
    "c_cases = np.intersect1d(np.asarray(case_id).astype(int),np.asarray(subs).astype(int))\n",
    "# Complete case indices with respect to feature matrix\n",
    "c_cases_idx = np.in1d(ids,c_cases)\n",
    "\n",
    "X_all_c, K, R, subsc, pre_imp, pre_updrs_off, per_change = util.re_index(X_all,K_all,R_all,c_cases_idx,subs,ids,all_rois,pre_imp,pre_updrs_off,post_imp)"
   ]
  },
  {
   "cell_type": "code",
   "execution_count": 8,
   "metadata": {},
   "outputs": [
    {
     "name": "stderr",
     "output_type": "stream",
     "text": [
      "/home/ali/anaconda3/envs/pdlnetenv/lib/python3.11/site-packages/lassonet/interfaces.py:464: UserWarning: lambda_start=6.554 (selected automatically) might be too large.\n",
      "Features start to disappear at current_lambda=8.478.\n",
      "  warnings.warn(\n"
     ]
    },
    {
     "name": "stdout",
     "output_type": "stream",
     "text": [
      "0.9999950063229057\n",
      "Lasso predicts 0.44 with regularization 0.0001 and 60 nonzero coefficients and LassoNet predicts 0.63 for case 67 with 0.48\n"
     ]
    },
    {
     "name": "stderr",
     "output_type": "stream",
     "text": [
      "/home/ali/anaconda3/envs/pdlnetenv/lib/python3.11/site-packages/lassonet/interfaces.py:464: UserWarning: lambda_start=6.554 (selected automatically) might be too large.\n",
      "Features start to disappear at current_lambda=8.478.\n",
      "  warnings.warn(\n"
     ]
    },
    {
     "name": "stdout",
     "output_type": "stream",
     "text": [
      "0.9999951804904189\n",
      "Lasso predicts 0.54 with regularization 0.0001 and 50 nonzero coefficients and LassoNet predicts 0.62 for case 75 with 0.97\n"
     ]
    },
    {
     "ename": "KeyboardInterrupt",
     "evalue": "",
     "output_type": "error",
     "traceback": [
      "\u001b[0;31m---------------------------------------------------------------------------\u001b[0m",
      "\u001b[0;31mKeyboardInterrupt\u001b[0m                         Traceback (most recent call last)",
      "\u001b[1;32m/home/ali/RadDBS-QSM/src/jupyter/lassonet.ipynb Cell 3\u001b[0m line \u001b[0;36m5\n\u001b[1;32m     <a href='vscode-notebook-cell://ssh-remote%2B7b22686f73744e616d65223a2249424d436c6f7564227d/home/ali/RadDBS-QSM/src/jupyter/lassonet.ipynb#W2sdnNjb2RlLXJlbW90ZQ%3D%3D?line=38'>39</a>\u001b[0m lr \u001b[39m=\u001b[39m \u001b[39m1e-3\u001b[39m\n\u001b[1;32m     <a href='vscode-notebook-cell://ssh-remote%2B7b22686f73744e616d65223a2249424d436c6f7564227d/home/ali/RadDBS-QSM/src/jupyter/lassonet.ipynb#W2sdnNjb2RlLXJlbW90ZQ%3D%3D?line=39'>40</a>\u001b[0m lassonet \u001b[39m=\u001b[39m LassoNetRegressor(\u001b[39m#CV(\u001b[39;00m\n\u001b[1;32m     <a href='vscode-notebook-cell://ssh-remote%2B7b22686f73744e616d65223a2249424d436c6f7564227d/home/ali/RadDBS-QSM/src/jupyter/lassonet.ipynb#W2sdnNjb2RlLXJlbW90ZQ%3D%3D?line=40'>41</a>\u001b[0m \u001b[39m#M=10, # Approximate standard LASSO\u001b[39;00m\n\u001b[1;32m     <a href='vscode-notebook-cell://ssh-remote%2B7b22686f73744e616d65223a2249424d436c6f7564227d/home/ali/RadDBS-QSM/src/jupyter/lassonet.ipynb#W2sdnNjb2RlLXJlbW90ZQ%3D%3D?line=41'>42</a>\u001b[0m \u001b[39m#batch_size=len(y_train), # Leads to gradient descent optimization\u001b[39;00m\n\u001b[0;32m   (...)\u001b[0m\n\u001b[1;32m     <a href='vscode-notebook-cell://ssh-remote%2B7b22686f73744e616d65223a2249424d436c6f7564227d/home/ali/RadDBS-QSM/src/jupyter/lassonet.ipynb#W2sdnNjb2RlLXJlbW90ZQ%3D%3D?line=50'>51</a>\u001b[0m \u001b[39m#gamma=0, # No L2 regularization\u001b[39;00m\n\u001b[1;32m     <a href='vscode-notebook-cell://ssh-remote%2B7b22686f73744e616d65223a2249424d436c6f7564227d/home/ali/RadDBS-QSM/src/jupyter/lassonet.ipynb#W2sdnNjb2RlLXJlbW90ZQ%3D%3D?line=51'>52</a>\u001b[0m )\n\u001b[0;32m---> <a href='vscode-notebook-cell://ssh-remote%2B7b22686f73744e616d65223a2249424d436c6f7564227d/home/ali/RadDBS-QSM/src/jupyter/lassonet.ipynb#W2sdnNjb2RlLXJlbW90ZQ%3D%3D?line=53'>54</a>\u001b[0m est_lsn \u001b[39m=\u001b[39m lassonet\u001b[39m.\u001b[39mfit(X0_ss,y_train)\n\u001b[1;32m     <a href='vscode-notebook-cell://ssh-remote%2B7b22686f73744e616d65223a2249424d436c6f7564227d/home/ali/RadDBS-QSM/src/jupyter/lassonet.ipynb#W2sdnNjb2RlLXJlbW90ZQ%3D%3D?line=54'>55</a>\u001b[0m \u001b[39m#print(est_lsn.best_cv_score_)\u001b[39;00m\n\u001b[1;32m     <a href='vscode-notebook-cell://ssh-remote%2B7b22686f73744e616d65223a2249424d436c6f7564227d/home/ali/RadDBS-QSM/src/jupyter/lassonet.ipynb#W2sdnNjb2RlLXJlbW90ZQ%3D%3D?line=55'>56</a>\u001b[0m \u001b[39mprint\u001b[39m(est_ls\u001b[39m.\u001b[39mscore(X0_ss,y_train))\n",
      "File \u001b[0;32m~/anaconda3/envs/pdlnetenv/lib/python3.11/site-packages/lassonet/interfaces.py:226\u001b[0m, in \u001b[0;36mBaseLassoNet.fit\u001b[0;34m(self, X, y, X_val, y_val)\u001b[0m\n\u001b[1;32m    221\u001b[0m \u001b[39mdef\u001b[39;00m \u001b[39mfit\u001b[39m(\u001b[39mself\u001b[39m, X, y, \u001b[39m*\u001b[39m, X_val\u001b[39m=\u001b[39m\u001b[39mNone\u001b[39;00m, y_val\u001b[39m=\u001b[39m\u001b[39mNone\u001b[39;00m):\n\u001b[1;32m    222\u001b[0m \u001b[39m    \u001b[39m\u001b[39m\"\"\"Train the model.\u001b[39;00m\n\u001b[1;32m    223\u001b[0m \u001b[39m    Note that if `lambda_` is not given, the trained model\u001b[39;00m\n\u001b[1;32m    224\u001b[0m \u001b[39m    will most likely not use any feature.\u001b[39;00m\n\u001b[1;32m    225\u001b[0m \u001b[39m    \"\"\"\u001b[39;00m\n\u001b[0;32m--> 226\u001b[0m     \u001b[39mself\u001b[39m\u001b[39m.\u001b[39mpath_ \u001b[39m=\u001b[39m \u001b[39mself\u001b[39m\u001b[39m.\u001b[39mpath(X, y, X_val\u001b[39m=\u001b[39mX_val, y_val\u001b[39m=\u001b[39my_val, return_state_dicts\u001b[39m=\u001b[39m\u001b[39mFalse\u001b[39;00m)\n\u001b[1;32m    227\u001b[0m     \u001b[39mreturn\u001b[39;00m \u001b[39mself\u001b[39m\n",
      "File \u001b[0;32m~/anaconda3/envs/pdlnetenv/lib/python3.11/site-packages/lassonet/interfaces.py:449\u001b[0m, in \u001b[0;36mBaseLassoNet.path\u001b[0;34m(self, X, y, X_val, y_val, lambda_seq, lambda_max, return_state_dicts, callback, disable_lambda_warning)\u001b[0m\n\u001b[1;32m    447\u001b[0m \u001b[39mif\u001b[39;00m \u001b[39mself\u001b[39m\u001b[39m.\u001b[39mmodel\u001b[39m.\u001b[39mselected_count() \u001b[39m==\u001b[39m \u001b[39m0\u001b[39m:\n\u001b[1;32m    448\u001b[0m     \u001b[39mbreak\u001b[39;00m\n\u001b[0;32m--> 449\u001b[0m last \u001b[39m=\u001b[39m \u001b[39mself\u001b[39m\u001b[39m.\u001b[39m_train(\n\u001b[1;32m    450\u001b[0m     X_train,\n\u001b[1;32m    451\u001b[0m     y_train,\n\u001b[1;32m    452\u001b[0m     X_val,\n\u001b[1;32m    453\u001b[0m     y_val,\n\u001b[1;32m    454\u001b[0m     batch_size\u001b[39m=\u001b[39m\u001b[39mself\u001b[39m\u001b[39m.\u001b[39mbatch_size,\n\u001b[1;32m    455\u001b[0m     lambda_\u001b[39m=\u001b[39mcurrent_lambda,\n\u001b[1;32m    456\u001b[0m     epochs\u001b[39m=\u001b[39m\u001b[39mself\u001b[39m\u001b[39m.\u001b[39mn_iters_path,\n\u001b[1;32m    457\u001b[0m     optimizer\u001b[39m=\u001b[39moptimizer,\n\u001b[1;32m    458\u001b[0m     patience\u001b[39m=\u001b[39m\u001b[39mself\u001b[39m\u001b[39m.\u001b[39mpatience_path,\n\u001b[1;32m    459\u001b[0m     return_state_dict\u001b[39m=\u001b[39mreturn_state_dicts,\n\u001b[1;32m    460\u001b[0m )\n\u001b[1;32m    461\u001b[0m \u001b[39mif\u001b[39;00m is_dense \u001b[39mand\u001b[39;00m \u001b[39mself\u001b[39m\u001b[39m.\u001b[39mmodel\u001b[39m.\u001b[39mselected_count() \u001b[39m<\u001b[39m X_train\u001b[39m.\u001b[39mshape[\u001b[39m1\u001b[39m]:\n\u001b[1;32m    462\u001b[0m     is_dense \u001b[39m=\u001b[39m \u001b[39mFalse\u001b[39;00m\n",
      "File \u001b[0;32m~/anaconda3/envs/pdlnetenv/lib/python3.11/site-packages/lassonet/interfaces.py:306\u001b[0m, in \u001b[0;36mBaseLassoNet._train\u001b[0;34m(self, X_train, y_train, X_val, y_val, batch_size, epochs, lambda_, optimizer, return_state_dict, patience)\u001b[0m\n\u001b[1;32m    303\u001b[0m         \u001b[39mreturn\u001b[39;00m ans\n\u001b[1;32m    305\u001b[0m     optimizer\u001b[39m.\u001b[39mstep(closure)\n\u001b[0;32m--> 306\u001b[0m     model\u001b[39m.\u001b[39mprox(\n\u001b[1;32m    307\u001b[0m         lambda_\u001b[39m=\u001b[39mlambda_ \u001b[39m*\u001b[39m optimizer\u001b[39m.\u001b[39mparam_groups[\u001b[39m0\u001b[39m][\u001b[39m\"\u001b[39m\u001b[39mlr\u001b[39m\u001b[39m\"\u001b[39m],\n\u001b[1;32m    308\u001b[0m         M\u001b[39m=\u001b[39m\u001b[39mself\u001b[39m\u001b[39m.\u001b[39mM,\n\u001b[1;32m    309\u001b[0m     )\n\u001b[1;32m    311\u001b[0m \u001b[39mif\u001b[39;00m epoch \u001b[39m==\u001b[39m \u001b[39m0\u001b[39m:\n\u001b[1;32m    312\u001b[0m     \u001b[39m# fallback to running loss of first epoch\u001b[39;00m\n\u001b[1;32m    313\u001b[0m     real_loss \u001b[39m=\u001b[39m loss\n",
      "File \u001b[0;32m~/anaconda3/envs/pdlnetenv/lib/python3.11/site-packages/lassonet/model.py:54\u001b[0m, in \u001b[0;36mLassoNet.prox\u001b[0;34m(self, lambda_, lambda_bar, M)\u001b[0m\n\u001b[1;32m     52\u001b[0m \u001b[39mif\u001b[39;00m \u001b[39mself\u001b[39m\u001b[39m.\u001b[39mgroups \u001b[39mis\u001b[39;00m \u001b[39mNone\u001b[39;00m:\n\u001b[1;32m     53\u001b[0m     \u001b[39mwith\u001b[39;00m torch\u001b[39m.\u001b[39mno_grad():\n\u001b[0;32m---> 54\u001b[0m         inplace_prox(\n\u001b[1;32m     55\u001b[0m             beta\u001b[39m=\u001b[39m\u001b[39mself\u001b[39m\u001b[39m.\u001b[39mskip,\n\u001b[1;32m     56\u001b[0m             theta\u001b[39m=\u001b[39m\u001b[39mself\u001b[39m\u001b[39m.\u001b[39mlayers[\u001b[39m0\u001b[39m],\n\u001b[1;32m     57\u001b[0m             lambda_\u001b[39m=\u001b[39mlambda_,\n\u001b[1;32m     58\u001b[0m             lambda_bar\u001b[39m=\u001b[39mlambda_bar,\n\u001b[1;32m     59\u001b[0m             M\u001b[39m=\u001b[39mM,\n\u001b[1;32m     60\u001b[0m         )\n\u001b[1;32m     61\u001b[0m \u001b[39melse\u001b[39;00m:\n\u001b[1;32m     62\u001b[0m     \u001b[39mwith\u001b[39;00m torch\u001b[39m.\u001b[39mno_grad():\n",
      "File \u001b[0;32m~/anaconda3/envs/pdlnetenv/lib/python3.11/site-packages/lassonet/prox.py:61\u001b[0m, in \u001b[0;36minplace_prox\u001b[0;34m(beta, theta, lambda_, lambda_bar, M)\u001b[0m\n\u001b[1;32m     60\u001b[0m \u001b[39mdef\u001b[39;00m \u001b[39minplace_prox\u001b[39m(beta, theta, lambda_, lambda_bar, M):\n\u001b[0;32m---> 61\u001b[0m     beta\u001b[39m.\u001b[39mweight\u001b[39m.\u001b[39mdata, theta\u001b[39m.\u001b[39mweight\u001b[39m.\u001b[39mdata \u001b[39m=\u001b[39m prox(\n\u001b[1;32m     62\u001b[0m         beta\u001b[39m.\u001b[39mweight\u001b[39m.\u001b[39mdata, theta\u001b[39m.\u001b[39mweight\u001b[39m.\u001b[39mdata, lambda_\u001b[39m=\u001b[39mlambda_, lambda_bar\u001b[39m=\u001b[39mlambda_bar, M\u001b[39m=\u001b[39mM\n\u001b[1;32m     63\u001b[0m     )\n",
      "File \u001b[0;32m~/anaconda3/envs/pdlnetenv/lib/python3.11/site-packages/lassonet/prox.py:42\u001b[0m, in \u001b[0;36mprox\u001b[0;34m(v, u, lambda_, lambda_bar, M)\u001b[0m\n\u001b[1;32m     39\u001b[0m x \u001b[39m=\u001b[39m F\u001b[39m.\u001b[39mrelu(\u001b[39m1\u001b[39m \u001b[39m-\u001b[39m a_s \u001b[39m/\u001b[39m norm_v) \u001b[39m/\u001b[39m (\u001b[39m1\u001b[39m \u001b[39m+\u001b[39m s \u001b[39m*\u001b[39m M \u001b[39m*\u001b[39m\u001b[39m*\u001b[39m \u001b[39m2\u001b[39m)\n\u001b[1;32m     41\u001b[0m w \u001b[39m=\u001b[39m M \u001b[39m*\u001b[39m x \u001b[39m*\u001b[39m norm_v\n\u001b[0;32m---> 42\u001b[0m intervals \u001b[39m=\u001b[39m soft_threshold(lambda_bar, u_abs_sorted)\n\u001b[1;32m     43\u001b[0m lower \u001b[39m=\u001b[39m torch\u001b[39m.\u001b[39mcat([intervals, zeros])\n\u001b[1;32m     45\u001b[0m idx \u001b[39m=\u001b[39m torch\u001b[39m.\u001b[39msum(lower \u001b[39m>\u001b[39m w, dim\u001b[39m=\u001b[39m\u001b[39m0\u001b[39m)\u001b[39m.\u001b[39munsqueeze(\u001b[39m0\u001b[39m)\n",
      "File \u001b[0;32m~/anaconda3/envs/pdlnetenv/lib/python3.11/site-packages/lassonet/prox.py:5\u001b[0m, in \u001b[0;36msoft_threshold\u001b[0;34m(l, x)\u001b[0m\n\u001b[1;32m      1\u001b[0m \u001b[39mimport\u001b[39;00m \u001b[39mtorch\u001b[39;00m\n\u001b[1;32m      2\u001b[0m \u001b[39mfrom\u001b[39;00m \u001b[39mtorch\u001b[39;00m\u001b[39m.\u001b[39;00m\u001b[39mnn\u001b[39;00m \u001b[39mimport\u001b[39;00m functional \u001b[39mas\u001b[39;00m F\n\u001b[0;32m----> 5\u001b[0m \u001b[39mdef\u001b[39;00m \u001b[39msoft_threshold\u001b[39m(l, x):\n\u001b[1;32m      6\u001b[0m     \u001b[39mreturn\u001b[39;00m torch\u001b[39m.\u001b[39msign(x) \u001b[39m*\u001b[39m torch\u001b[39m.\u001b[39mrelu(torch\u001b[39m.\u001b[39mabs(x) \u001b[39m-\u001b[39m l)\n\u001b[1;32m      9\u001b[0m \u001b[39mdef\u001b[39;00m \u001b[39msign_binary\u001b[39m(x):\n",
      "\u001b[0;31mKeyboardInterrupt\u001b[0m: "
     ]
    }
   ],
   "source": [
    "# Training parameters\n",
    "scoring = 'r2'\n",
    "results_bls = np.zeros_like(per_change)\n",
    "results_ls = np.zeros_like(per_change)\n",
    "all_rois = False\n",
    "scale_together = False\n",
    "epsilon = 1e-1\n",
    "# Train\n",
    "for j in np.arange(len(subsc)):\n",
    "    test_id = subsc[j]\n",
    "    test_index = subsc == test_id\n",
    "    train_index = subsc != test_id\n",
    "    X_train = X_all_c[train_index,:,:]\n",
    "    X_test = X_all_c[test_index,:,:]\n",
    "    y_train = per_change[train_index]\n",
    "    y_test = per_change[test_index]\n",
    "    # Cross validation\n",
    "    X0_ss0,scaler_ss,X_test_ss0 = util.model_scale(skp.StandardScaler(),\n",
    "                                                X_train,train_index,X_test,\n",
    "                                                test_index,pre_updrs_off,all_rois,scale_together)\n",
    "    with np.errstate(divide='ignore', invalid='ignore'):\n",
    "      # Feature selection\n",
    "      sel = skf.SelectKBest(skf.r_regression,k=1700)\n",
    "      X0_ss = sel.fit_transform(X0_ss0,y_train)\n",
    "      X_test_ss = sel.transform(X_test_ss0)\n",
    "      y_n = cKDTree(X0_ss).query(X_test_ss, k=1)[1]\n",
    "    \n",
    "    # LASSO\n",
    "    lasso = slm.LassoCV(max_iter=int(1e4),n_jobs=-1)\n",
    "    est_ls = lasso.fit(X0_ss,y_train)\n",
    "    results_ls[j] = est_ls.predict(X_test_ss).item()\n",
    "  \n",
    "    # LASSONet\n",
    "    # Xy = np.dot(X0_ss.T,y_train)\n",
    "    # if Xy.ndim == 1:\n",
    "    #     Xy = Xy[:, np.newaxis]\n",
    "    # alpha_max = np.sqrt(np.sum(Xy**2, axis=1)).max()/len(y_train) \n",
    "    # alphas = np.linspace(alpha_max*1e-2,alpha_max,100)\n",
    "    lr = 1e-3\n",
    "    lassonet = LassoNetRegressor(#CV(\n",
    "    #M=10, # Approximate standard LASSO\n",
    "    #batch_size=len(y_train), # Leads to gradient descent optimization\n",
    "    #hidden_dims=(100,),\n",
    "    #n_iters=(int(1e4),int(1e2)), # Iterations for objective function and path\n",
    "    #lambda_seq=alphas, # Path multipler and initial lambda disregarded\n",
    "    #optim=partial(SGD,lr=lr,momentum=0.9,weight_decay=0), # Approximate coordinate descent\n",
    "    #backtrack=False, # Approximate monotonic coordinate descent path\n",
    "    #verbose=1,\n",
    "    torch_seed=0,\n",
    "    random_state=0,\n",
    "    #gamma=0, # No L2 regularization\n",
    "    )\n",
    "\n",
    "    est_lsn = lassonet.fit(X0_ss,y_train)\n",
    "    #print(est_lsn.best_cv_score_)\n",
    "    print(est_ls.score(X0_ss,y_train))\n",
    "    results_bls[j] = est_lsn.predict(X_test_ss).item()\n",
    "\n",
    "    # Training status\n",
    "    print('Lasso predicts',str(np.round(results_ls[j],2)),\n",
    "          'with regularization',str(np.round(est_ls.alpha_,5)),\n",
    "          'and',str(np.sum(est_ls.coef_!=0)),'nonzero coefficients',\n",
    "          'and LassoNet predicts',str(np.round(results_bls[j],2)),\n",
    "          #'with regularization',str(np.round(est_lsn.best_lambda_,5)),\n",
    "          #'and',str(np.sum(np.asarray(est_lsn.feature_importances_ != 0.0))),'nonzero coefficients',\n",
    "          'for case',str(int(subsc[j])),'with',str(np.round(per_change[j],2)))\n",
    "\n"
   ]
  },
  {
   "cell_type": "code",
   "execution_count": null,
   "metadata": {},
   "outputs": [],
   "source": [
    "util.eval_prediction(np.vstack((pre_imp,\n",
    "                               results_ls,\n",
    "                               results_bls,\n",
    "                               )),\n",
    "                               per_change,\n",
    "                               ['LCT',\n",
    "                                'Lasso',\n",
    "                                'LassoNet'\n",
    "                                ],(30,5))\n",
    "plt.ylim([0,2])\n",
    "plt.xlim([0,2])\n",
    "plt.style.use('default')\n",
    "\n"
   ]
  }
 ],
 "metadata": {
  "kernelspec": {
   "display_name": "pdradenv",
   "language": "python",
   "name": "python3"
  },
  "language_info": {
   "codemirror_mode": {
    "name": "ipython",
    "version": 3
   },
   "file_extension": ".py",
   "mimetype": "text/x-python",
   "name": "python",
   "nbconvert_exporter": "python",
   "pygments_lexer": "ipython3",
   "version": "3.11.7"
  }
 },
 "nbformat": 4,
 "nbformat_minor": 2
}
