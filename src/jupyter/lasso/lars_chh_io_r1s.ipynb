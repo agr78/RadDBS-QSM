{
 "cells": [
  {
   "cell_type": "code",
   "execution_count": 1,
   "metadata": {},
   "outputs": [
    {
     "name": "stderr",
     "output_type": "stream",
     "text": [
      "Intel(R) Extension for Scikit-learn* enabled (https://github.com/intel/scikit-learn-intelex)\n"
     ]
    }
   ],
   "source": [
    "# Import libraries\n",
    "import sys\n",
    "sys.path.append('../')\n",
    "import matplotlib.pyplot as plt\n",
    "import pandas as pd\n",
    "import warnings\n",
    "from econml.sklearn_extensions.linear_model import WeightedLassoCV\n",
    "import sklearn.model_selection as sms\n",
    "import sklearn.linear_model as slm\n",
    "import sklearn.preprocessing as skp\n",
    "import sklearn.metrics as sme\n",
    "import sklearn.feature_selection as skf\n",
    "import sklearn.ensemble as ske\n",
    "import sklearn.utils as sku\n",
    "import sklearn.decomposition as skd\n",
    "import sklearn.neighbors as skn\n",
    "from sklearn.exceptions import ConvergenceWarning\n",
    "from celer import GroupLassoCV\n",
    "from sklearnex import patch_sklearn, config_context\n",
    "from sklearn.cluster import DBSCAN\n",
    "import numpy as np\n",
    "import scipy.stats as stats\n",
    "from IPython.display import HTML\n",
    "import util\n",
    "from scipy.spatial import cKDTree\n",
    "import nibabel as nib\n",
    "import os\n",
    "import pickle\n",
    "from torch import nn\n",
    "patch_sklearn()"
   ]
  },
  {
   "cell_type": "code",
   "execution_count": 2,
   "metadata": {},
   "outputs": [
    {
     "data": {
      "text/html": [
       "\n",
       "<style>\n",
       ".jupyter-matplotlib {\n",
       "    background-color: #000;\n",
       "}\n",
       "\n",
       ".widget-label, .jupyter-matplotlib-header{\n",
       "    color: #fff;\n",
       "}\n",
       "\n",
       ".jupyter-button {\n",
       "    background-color: #333;\n",
       "    color: #fff;\n",
       "}\n",
       "</style>\n"
      ],
      "text/plain": [
       "<IPython.core.display.HTML object>"
      ]
     },
     "execution_count": 2,
     "metadata": {},
     "output_type": "execute_result"
    }
   ],
   "source": [
    "HTML('''\n",
    "<style>\n",
    ".jupyter-matplotlib {\n",
    "    background-color: #000;\n",
    "}\n",
    "\n",
    ".widget-label, .jupyter-matplotlib-header{\n",
    "    color: #fff;\n",
    "}\n",
    "\n",
    ".jupyter-button {\n",
    "    background-color: #333;\n",
    "    color: #fff;\n",
    "}\n",
    "</style>\n",
    "''')"
   ]
  },
  {
   "cell_type": "code",
   "execution_count": 3,
   "metadata": {},
   "outputs": [],
   "source": [
    "# Maybe y should also be scaled? \n",
    "# Perhaps a transform would be more effective, or scaling implemented with consistent cross-validation\n",
    "# Different scaling methods? \n",
    "#     This seems most important for noise-sensitive models like LARS. All other use StandardScaler()\n",
    "# Transformers?\n",
    "# Model-specific scaling methods?\n",
    "#     Yes, see above\n",
    "# Common cross-validation function ✓\n",
    "#     Use built-in functions wherever possible and `utils.gridsearch_pickparams()` elsewhere\n",
    "# Quantile loss\n",
    "# RANSAC\n",
    "# Data augmentation? (Mixup)\n",
    "# Data generation? (SMOGN)\n",
    "# Combine CHH dataset ✓\n",
    "# Implement CV and test ✓\n",
    "# Print selected features ✓\n",
    "# Make magnitude templates\n",
    "# Sample weights ✓\n",
    "# Look at segmentations by error ✓ (Appears to have most difference in red nucleus, which includes surrounding (white?) matter for underperforming cases)\n",
    "# Extract features from current (1:6) eroded ROIs\n",
    "# Extract features from all ROIs\n",
    "# Plot segmentation variance against error for each case across all ROIs ✓\n",
    "# Why does excluding the subthalamic nucleus increase the correlation (r=0.5 -> r=0.6)?\n",
    "# Best performance with all ROIs: cvn=6, k=1800\n",
    "# Best performance with ROIs 0:4, excluding STN: cvn=6, k=1800\n",
    "# Should the pre-operative UPDRS be appended once or to each ROI? ✓\n",
    "# Plot histogram of features for successful and unsuccessful predictions"
   ]
  },
  {
   "cell_type": "code",
   "execution_count": 4,
   "metadata": {},
   "outputs": [
    {
     "name": "stdout",
     "output_type": "stream",
     "text": [
      "Found ROIs [0. 1. 2. 3. 4. 5. 6.] at segmentation directory file 00000001 for case 1.0\n",
      "Found ROIs [0. 1. 2. 3. 4. 5. 6.] at segmentation directory file 00000002 for case 2.0\n",
      "Found ROIs [0. 1. 2. 3. 4. 5. 6.] at segmentation directory file 00000003 for case 3.0\n",
      "Found ROIs [0. 1. 2. 3. 4. 5. 6.] at segmentation directory file 00000004 for case 4.0\n",
      "Found ROIs [0. 1. 2. 3. 4. 5. 6.] at segmentation directory file 00000005 for case 5.0\n",
      "Found ROIs [0. 1. 2. 3. 4. 5. 6.] at segmentation directory file 00000006 for case 6.0\n",
      "Found ROIs [0. 1. 2. 3. 4. 5. 6.] at segmentation directory file 00000007 for case 7.0\n",
      "Found ROIs [0. 1. 2. 3. 4. 5. 6.] at segmentation directory file 00000008 for case 8.0\n",
      "Found ROIs [0. 1. 2. 3. 4. 5. 6.] at segmentation directory file 00000009 for case 9.0\n",
      "Found ROIs [0. 1. 2. 3. 4. 5. 6.] at segmentation directory file 00000010 for case 10.0\n",
      "Found ROIs [0. 1. 2. 3. 4. 5. 6.] at segmentation directory file 00000011 for case 11.0\n",
      "Found ROIs [0. 1. 2. 3. 4. 5. 6.] at segmentation directory file 00000013 for case 13.0\n",
      "Found ROIs [0. 1. 2. 3. 4. 5. 6.] at segmentation directory file 00000014 for case 14.0\n",
      "Found ROIs [0. 1. 2. 3. 4. 5. 6.] at segmentation directory file 00000016 for case 16.0\n",
      "Found ROIs [0. 1. 2. 3. 4. 5. 6.] at segmentation directory file 00000018 for case 18.0\n",
      "Found ROIs [0. 1. 2. 3. 4. 5. 6.] at segmentation directory file 00000019 for case 19.0\n",
      "Found ROIs [0. 1. 2. 3. 4. 5. 6.] at segmentation directory file 00000020 for case 20.0\n",
      "Found ROIs [0. 1. 2. 3. 4. 5. 6.] at segmentation directory file 00000021 for case 21.0\n",
      "Found ROIs [0. 1. 2. 3. 4. 5. 6.] at segmentation directory file 00000022 for case 22.0\n",
      "Found ROIs [0. 1. 2. 3. 4. 5. 6.] at segmentation directory file 00000023 for case 23.0\n",
      "Found ROIs [0. 1. 2. 3. 4. 5. 6.] at segmentation directory file 00000024 for case 24.0\n",
      "Found ROIs [0. 1. 2. 3. 4. 5. 6.] at segmentation directory file 00000025 for case 25.0\n",
      "Found ROIs [0. 1. 2. 3. 4. 5. 6.] at segmentation directory file 00000026 for case 26.0\n",
      "Found ROIs [0. 1. 2. 3. 4. 5. 6.] at segmentation directory file 00000027 for case 27.0\n",
      "Found ROIs [0. 1. 2. 3. 4. 5. 6.] at segmentation directory file 00000028 for case 28.0\n",
      "Found ROIs [0. 1. 2. 3. 4. 5. 6.] at segmentation directory file 00000029 for case 29.0\n",
      "Found ROIs [0. 1. 2. 3. 4. 5. 6.] at segmentation directory file 00000030 for case 30.0\n",
      "Found ROIs [0. 1. 2. 3. 4. 5. 6.] at segmentation directory file 00000031 for case 31.0\n",
      "Found ROIs [0. 1. 2. 3. 4. 5. 6.] at segmentation directory file 00000032 for case 32.0\n",
      "Found ROIs [0. 1. 2. 3. 4. 5. 6.] at segmentation directory file 00000033 for case 33.0\n",
      "Found ROIs [0. 1. 2. 3. 4. 5. 6.] at segmentation directory file 00000034 for case 34.0\n",
      "Found ROIs [0. 1. 2. 3. 4. 5. 6.] at segmentation directory file 00000035 for case 35.0\n",
      "Found ROIs [0. 1. 2. 3. 4. 5. 6.] at segmentation directory file 00000036 for case 36.0\n",
      "Found ROIs [0. 1. 2. 3. 4. 5. 6.] at segmentation directory file 00000037 for case 37.0\n",
      "Found ROIs [0. 1. 2. 3. 4. 5. 6.] at segmentation directory file 00000038 for case 38.0\n",
      "Found ROIs [0. 1. 2. 3. 4. 5. 6.] at segmentation directory file 00000039 for case 39.0\n",
      "Found ROIs [0. 1. 2. 3. 4. 5. 6.] at segmentation directory file 00000040 for case 40.0\n"
     ]
    }
   ],
   "source": [
    "# Augment with CHH data\n",
    "X0_gt = np.load('/home/ali/RadDBS-QSM/data/npy/old/X0_gt_chh_rois.npy')\n",
    "df = pd.read_csv('/home/ali/RadDBS-QSM/data/xlxs/updrs_iii_chh.csv')\n",
    "# Patient IDs\n",
    "subject_id = np.asarray(df[df.columns[0]])[1:]\n",
    "n_rois = 6\n",
    "# Data\n",
    "s_directory = open('/home/ali/RadDBS-QSM/data/roi/roi_list','r').read().splitlines()\n",
    "# Load\n",
    "with open('/home/ali/RadDBS-QSM/data/pickles/segs_chh', \"rb\") as fp:  \n",
    "    segs = pickle.load(fp)\n",
    "    n_cases = len(segs)\n",
    "with open('/home/ali/RadDBS-QSM/data/pickles/qsms_chh', \"rb\") as fp:  \n",
    "    qsms = pickle.load(fp)\n",
    "with open('/home/ali/RadDBS-QSM/data/phi/chh/Phi_mcl_gt_roi_chh', \"rb\") as fp:  \n",
    "    Phi_gt = pickle.load(fp)\n",
    "L = int(len(X0_gt)/n_cases)\n",
    "n_features = int(L/n_rois)\n",
    "# Only extract ROI if it is present in all cases\n",
    "seg_labels_all = segs[0]\n",
    "case_number = np.zeros_like(np.asarray(s_directory))\n",
    "for i in range(n_cases):\n",
    "    case_number[i] = float(s_directory[i][-2:])\n",
    "subject_id_corr = subject_id[np.in1d(subject_id,case_number)]\n",
    "for i in range(n_cases):\n",
    "    try:\n",
    "        print('Found ROIs',str(np.unique(segs[i])),'at segmentation directory file',s_directory[i],'for case',str(subject_id_corr[i]))\n",
    "    except:\n",
    "        print('Case',subject_id[i],'quarantined')\n",
    "pre_updrs_iii_off =  np.asarray(df[df.columns[3]][1:][np.in1d(subject_id,subject_id_corr)]).astype(float)                             \n",
    "pre_updrs_iii_on =  np.asarray(df[df.columns[4]][1:][np.in1d(subject_id,subject_id_corr)]).astype(float) \n",
    "post_updrs_iii_off =  np.asarray(df[df.columns[6]][1:][np.in1d(subject_id,subject_id_corr)]).astype(float) \n",
    "\n",
    "per_change = (pre_updrs_iii_off-post_updrs_iii_off)/pre_updrs_iii_off\n",
    "pre_updrs_off = pre_updrs_iii_off\n",
    "X_all_c = X0_gt.reshape(n_cases,n_rois,n_features)\n",
    "X_all_c = X_all_c[:,0:4,:]\n",
    "lct_change = (pre_updrs_iii_off-pre_updrs_iii_on)/pre_updrs_iii_off\n",
    "pre_imp = lct_change\n",
    "subsc = subject_id_corr"
   ]
  },
  {
   "cell_type": "code",
   "execution_count": 5,
   "metadata": {},
   "outputs": [],
   "source": [
    "scoring = 'r2'\n",
    "r = 1\n",
    "results_bls = np.zeros_like(per_change)\n",
    "results_ls = np.zeros(r*len(per_change))\n",
    "results_gls = np.zeros_like(per_change)\n",
    "gerror = np.zeros_like(per_change)\n",
    "alphas = np.logspace(-5,-3,100)\n",
    "Ks = []\n",
    "Kstg = []\n",
    "w = []\n",
    "wg = []\n",
    "pcases = []"
   ]
  },
  {
   "cell_type": "code",
   "execution_count": 7,
   "metadata": {},
   "outputs": [
    {
     "name": "stdout",
     "output_type": "stream",
     "text": [
      "Prior to SMOGN sampling, mean is -0.00022618759167442574 standard deviation is 0.9563718354509787\n"
     ]
    },
    {
     "name": "stderr",
     "output_type": "stream",
     "text": [
      "dist_matrix: 100%|##########| 10/10 [00:01<00:00,  6.91it/s]\n",
      "synth_matrix: 100%|##########| 10/10 [00:01<00:00,  5.91it/s]\n",
      "r_index: 100%|##########| 2/2 [00:00<00:00,  5.54it/s]\n"
     ]
    },
    {
     "name": "stdout",
     "output_type": "stream",
     "text": [
      "Prior to SMOGN sampling, mean is 0.05826026866713419 standard deviation is 0.9398494112464955\n"
     ]
    },
    {
     "name": "stderr",
     "output_type": "stream",
     "text": [
      "dist_matrix: 100%|##########| 9/9 [00:01<00:00,  8.03it/s]\n",
      "synth_matrix: 100%|##########| 9/9 [00:02<00:00,  3.26it/s]\n",
      "r_index: 100%|##########| 2/2 [00:00<00:00, 16.05it/s]\n"
     ]
    },
    {
     "name": "stdout",
     "output_type": "stream",
     "text": [
      "Lasso predicts 0.7023 for case with 0.72\n",
      "Prior to SMOGN sampling, mean is 0.003029150952347568 standard deviation is 0.8768078998782638\n"
     ]
    },
    {
     "name": "stderr",
     "output_type": "stream",
     "text": [
      "dist_matrix: 100%|##########| 11/11 [00:00<00:00, 20.91it/s]\n",
      "synth_matrix: 100%|##########| 11/11 [00:00<00:00, 24.28it/s]\n"
     ]
    },
    {
     "name": "stdout",
     "output_type": "stream",
     "text": [
      "Prior to SMOGN sampling, mean is 0.038093635406525765 standard deviation is 0.8338913196739561\n"
     ]
    },
    {
     "name": "stderr",
     "output_type": "stream",
     "text": [
      "dist_matrix: 100%|##########| 21/21 [00:01<00:00, 11.92it/s]\n",
      "r_index: 100%|##########| 17/17 [00:00<00:00, 40.03it/s]\n"
     ]
    },
    {
     "name": "stdout",
     "output_type": "stream",
     "text": [
      "Lasso predicts 0.5114 for case with 0.47\n",
      "Prior to SMOGN sampling, mean is 0.005833521559395042 standard deviation is 0.9253295516159236\n"
     ]
    },
    {
     "name": "stderr",
     "output_type": "stream",
     "text": [
      "dist_matrix: 100%|##########| 10/10 [00:05<00:00,  2.00it/s]\n",
      "synth_matrix: 100%|##########| 10/10 [00:04<00:00,  2.26it/s]\n",
      "r_index: 100%|##########| 2/2 [00:00<00:00,  4.61it/s]\n"
     ]
    },
    {
     "name": "stdout",
     "output_type": "stream",
     "text": [
      "Prior to SMOGN sampling, mean is 0.06036821672430718 standard deviation is 0.9157367568994988\n"
     ]
    },
    {
     "name": "stderr",
     "output_type": "stream",
     "text": [
      "dist_matrix: 100%|##########| 22/22 [00:24<00:00,  1.09s/it]\n",
      "r_index: 100%|##########| 16/16 [00:03<00:00,  4.15it/s]\n"
     ]
    },
    {
     "name": "stdout",
     "output_type": "stream",
     "text": [
      "Lasso predicts 0.7591 for case with 0.69\n",
      "Prior to SMOGN sampling, mean is 0.0004581363426300526 standard deviation is 0.9295108338147758\n"
     ]
    },
    {
     "name": "stderr",
     "output_type": "stream",
     "text": [
      "dist_matrix: 100%|##########| 11/11 [00:01<00:00,  6.78it/s]\n",
      "synth_matrix: 100%|##########| 11/11 [00:01<00:00,  6.66it/s]\n"
     ]
    },
    {
     "name": "stdout",
     "output_type": "stream",
     "text": [
      "Prior to SMOGN sampling, mean is 0.038582023968335835 standard deviation is 0.9198666383198942\n"
     ]
    },
    {
     "name": "stderr",
     "output_type": "stream",
     "text": [
      "dist_matrix: 100%|##########| 18/18 [00:04<00:00,  3.97it/s]\n",
      "synth_matrix: 100%|##########| 18/18 [00:01<00:00, 13.78it/s]\n",
      "r_index: 100%|##########| 2/2 [00:00<00:00,  8.47it/s]\n"
     ]
    },
    {
     "name": "stdout",
     "output_type": "stream",
     "text": [
      "Lasso predicts 0.6522 for case with 0.42\n",
      "Prior to SMOGN sampling, mean is -0.007698993689956977 standard deviation is 0.9138529712348196\n"
     ]
    },
    {
     "name": "stderr",
     "output_type": "stream",
     "text": [
      "dist_matrix: 100%|##########| 10/10 [00:06<00:00,  1.61it/s]\n",
      "synth_matrix: 100%|##########| 10/10 [00:07<00:00,  1.28it/s]\n",
      "r_index: 100%|##########| 2/2 [00:01<00:00,  1.80it/s]\n"
     ]
    },
    {
     "name": "stdout",
     "output_type": "stream",
     "text": [
      "Prior to SMOGN sampling, mean is 0.001152932291930431 standard deviation is 0.8773494917267611\n"
     ]
    },
    {
     "name": "stderr",
     "output_type": "stream",
     "text": [
      "dist_matrix: 100%|##########| 22/22 [00:06<00:00,  3.17it/s]\n",
      "r_index: 100%|##########| 17/17 [00:02<00:00,  6.86it/s]\n"
     ]
    },
    {
     "name": "stdout",
     "output_type": "stream",
     "text": [
      "Lasso predicts 0.3775 for case with 0.15\n",
      "Prior to SMOGN sampling, mean is -0.0036960847058148836 standard deviation is 0.9417384034306958\n"
     ]
    },
    {
     "name": "stderr",
     "output_type": "stream",
     "text": [
      "dist_matrix: 100%|##########| 11/11 [00:06<00:00,  1.71it/s]\n",
      "synth_matrix: 100%|##########| 11/11 [00:05<00:00,  2.01it/s]\n"
     ]
    },
    {
     "name": "stdout",
     "output_type": "stream",
     "text": [
      "Prior to SMOGN sampling, mean is 0.040172847934719765 standard deviation is 0.9052301825567977\n"
     ]
    },
    {
     "name": "stderr",
     "output_type": "stream",
     "text": [
      "dist_matrix: 100%|##########| 15/15 [00:11<00:00,  1.32it/s]\n",
      "synth_matrix: 100%|##########| 15/15 [00:04<00:00,  3.27it/s]\n",
      "r_index: 100%|##########| 7/7 [00:02<00:00,  2.88it/s]\n"
     ]
    },
    {
     "name": "stdout",
     "output_type": "stream",
     "text": [
      "Lasso predicts 0.53 for case with 0.44\n",
      "Prior to SMOGN sampling, mean is 0.012711895301952 standard deviation is 0.9363328130936893\n"
     ]
    },
    {
     "name": "stderr",
     "output_type": "stream",
     "text": [
      "dist_matrix: 100%|##########| 10/10 [00:01<00:00,  7.66it/s]\n",
      "synth_matrix: 100%|##########| 10/10 [00:01<00:00,  7.97it/s]\n",
      "r_index: 100%|##########| 2/2 [00:00<00:00,  8.70it/s]\n"
     ]
    },
    {
     "name": "stdout",
     "output_type": "stream",
     "text": [
      "Prior to SMOGN sampling, mean is 0.06739323120865129 standard deviation is 0.9271771971797147\n"
     ]
    },
    {
     "name": "stderr",
     "output_type": "stream",
     "text": [
      "dist_matrix: 100%|##########| 22/22 [00:06<00:00,  3.50it/s]\n",
      "r_index: 100%|##########| 16/16 [00:00<00:00, 17.95it/s]\n"
     ]
    },
    {
     "name": "stdout",
     "output_type": "stream",
     "text": [
      "Lasso predicts 0.6892 for case with 0.88\n",
      "Prior to SMOGN sampling, mean is 0.004913904542791004 standard deviation is 0.8981640450481619\n"
     ]
    },
    {
     "name": "stderr",
     "output_type": "stream",
     "text": [
      "dist_matrix: 100%|##########| 11/11 [00:06<00:00,  1.72it/s]\n",
      "synth_matrix: 100%|##########| 11/11 [00:03<00:00,  2.81it/s]\n"
     ]
    },
    {
     "name": "stdout",
     "output_type": "stream",
     "text": [
      "Prior to SMOGN sampling, mean is 0.038884888431044366 standard deviation is 0.825724662686239\n"
     ]
    },
    {
     "name": "stderr",
     "output_type": "stream",
     "text": [
      "dist_matrix: 100%|##########| 23/23 [00:26<00:00,  1.16s/it]\n",
      "r_index: 100%|##########| 15/15 [00:03<00:00,  4.54it/s]\n"
     ]
    },
    {
     "name": "stdout",
     "output_type": "stream",
     "text": [
      "Lasso predicts 0.5307 for case with 0.4\n",
      "Prior to SMOGN sampling, mean is 0.0031020688349128658 standard deviation is 0.8951950016404583\n"
     ]
    },
    {
     "name": "stderr",
     "output_type": "stream",
     "text": [
      "dist_matrix: 100%|##########| 10/10 [00:05<00:00,  1.92it/s]\n",
      "synth_matrix: 100%|##########| 10/10 [00:05<00:00,  1.67it/s]\n",
      "r_index: 100%|##########| 2/2 [00:01<00:00,  1.46it/s]\n"
     ]
    },
    {
     "name": "stdout",
     "output_type": "stream",
     "text": [
      "Prior to SMOGN sampling, mean is 0.02922278791516557 standard deviation is 0.8392789808176238\n"
     ]
    },
    {
     "name": "stderr",
     "output_type": "stream",
     "text": [
      "dist_matrix: 100%|##########| 29/29 [00:42<00:00,  1.48s/it]\n",
      "r_index: 100%|##########| 8/8 [00:02<00:00,  3.67it/s]\n"
     ]
    },
    {
     "name": "stdout",
     "output_type": "stream",
     "text": [
      "Lasso predicts 0.6178 for case with 0.6\n",
      "Prior to SMOGN sampling, mean is 0.0006268944961808429 standard deviation is 0.9069110134019046\n"
     ]
    },
    {
     "name": "stderr",
     "output_type": "stream",
     "text": [
      "dist_matrix: 100%|##########| 10/10 [00:05<00:00,  1.99it/s]\n",
      "synth_matrix: 100%|##########| 10/10 [00:04<00:00,  2.08it/s]\n",
      "r_index: 100%|##########| 2/2 [00:00<00:00,  4.59it/s]\n"
     ]
    },
    {
     "name": "stdout",
     "output_type": "stream",
     "text": [
      "Prior to SMOGN sampling, mean is 0.031418905065406996 standard deviation is 0.8606982371300247\n"
     ]
    },
    {
     "name": "stderr",
     "output_type": "stream",
     "text": [
      "dist_matrix: 100%|##########| 26/26 [00:37<00:00,  1.43s/it]\n",
      "r_index: 100%|##########| 11/11 [00:02<00:00,  3.82it/s]\n"
     ]
    },
    {
     "name": "stdout",
     "output_type": "stream",
     "text": [
      "Lasso predicts 0.4313 for case with 0.81\n",
      "Prior to SMOGN sampling, mean is 0.006071159825172921 standard deviation is 0.9381724932280177\n"
     ]
    },
    {
     "name": "stderr",
     "output_type": "stream",
     "text": [
      "dist_matrix: 100%|##########| 10/10 [00:01<00:00,  7.62it/s]\n",
      "synth_matrix: 100%|##########| 10/10 [00:01<00:00,  8.90it/s]\n",
      "r_index: 100%|##########| 2/2 [00:00<00:00,  8.86it/s]\n"
     ]
    },
    {
     "name": "stdout",
     "output_type": "stream",
     "text": [
      "Prior to SMOGN sampling, mean is 0.04944035629126349 standard deviation is 0.895233746898123\n"
     ]
    },
    {
     "name": "stderr",
     "output_type": "stream",
     "text": [
      "dist_matrix: 100%|##########| 19/19 [00:04<00:00,  4.08it/s]\n",
      "synth_matrix: 100%|##########| 19/19 [00:01<00:00, 14.90it/s]\n"
     ]
    },
    {
     "name": "stdout",
     "output_type": "stream",
     "text": [
      "Lasso predicts 0.6733 for case with 0.64\n",
      "Prior to SMOGN sampling, mean is -0.003517827075474636 standard deviation is 0.9407531891545898\n"
     ]
    },
    {
     "name": "stderr",
     "output_type": "stream",
     "text": [
      "dist_matrix: 100%|##########| 10/10 [00:04<00:00,  2.00it/s]\n",
      "synth_matrix: 100%|##########| 10/10 [00:04<00:00,  2.25it/s]\n",
      "r_index: 100%|##########| 2/2 [00:00<00:00,  2.25it/s]\n"
     ]
    },
    {
     "name": "stdout",
     "output_type": "stream",
     "text": [
      "Prior to SMOGN sampling, mean is 0.025574557574524634 standard deviation is 0.8883443526398731\n"
     ]
    },
    {
     "name": "stderr",
     "output_type": "stream",
     "text": [
      "dist_matrix: 100%|##########| 16/16 [00:13<00:00,  1.19it/s]\n",
      "synth_matrix: 100%|##########| 16/16 [00:05<00:00,  2.84it/s]\n",
      "r_index: 100%|##########| 6/6 [00:01<00:00,  3.39it/s]\n"
     ]
    },
    {
     "name": "stdout",
     "output_type": "stream",
     "text": [
      "Lasso predicts 0.6158 for case with 0.72\n",
      "Prior to SMOGN sampling, mean is -0.00046416909129615294 standard deviation is 0.9186275792979283\n"
     ]
    },
    {
     "name": "stderr",
     "output_type": "stream",
     "text": [
      "dist_matrix: 100%|##########| 10/10 [00:04<00:00,  2.00it/s]\n",
      "synth_matrix: 100%|##########| 10/10 [00:04<00:00,  2.06it/s]\n",
      "r_index: 100%|##########| 2/2 [00:01<00:00,  1.51it/s]\n"
     ]
    },
    {
     "name": "stdout",
     "output_type": "stream",
     "text": [
      "Prior to SMOGN sampling, mean is 0.030994067179709265 standard deviation is 0.8645212971626676\n"
     ]
    },
    {
     "name": "stderr",
     "output_type": "stream",
     "text": [
      "dist_matrix: 100%|##########| 23/23 [00:26<00:00,  1.15s/it]\n",
      "r_index: 100%|##########| 15/15 [00:03<00:00,  4.15it/s]\n"
     ]
    },
    {
     "name": "stdout",
     "output_type": "stream",
     "text": [
      "Lasso predicts 0.5833 for case with 0.31\n",
      "Prior to SMOGN sampling, mean is 0.008997067137187757 standard deviation is 0.8859803307039009\n"
     ]
    },
    {
     "name": "stderr",
     "output_type": "stream",
     "text": [
      "dist_matrix: 100%|##########| 10/10 [00:00<00:00, 28.29it/s]\n",
      "synth_matrix: 100%|##########| 10/10 [00:00<00:00, 33.47it/s]\n",
      "r_index: 100%|##########| 2/2 [00:00<00:00, 22.56it/s]\n"
     ]
    },
    {
     "name": "stdout",
     "output_type": "stream",
     "text": [
      "Prior to SMOGN sampling, mean is 0.04594178028379458 standard deviation is 0.8447364734297581\n"
     ]
    },
    {
     "name": "stderr",
     "output_type": "stream",
     "text": [
      "dist_matrix: 100%|##########| 25/25 [00:02<00:00, 10.80it/s]\n",
      "r_index: 100%|##########| 13/13 [00:00<00:00, 39.58it/s]\n"
     ]
    },
    {
     "name": "stdout",
     "output_type": "stream",
     "text": [
      "Lasso predicts 0.4662 for case with 0.68\n",
      "Prior to SMOGN sampling, mean is -0.002022555907437087 standard deviation is 0.9302865024743591\n"
     ]
    },
    {
     "name": "stderr",
     "output_type": "stream",
     "text": [
      "dist_matrix: 100%|##########| 11/11 [00:06<00:00,  1.76it/s]\n",
      "synth_matrix: 100%|##########| 11/11 [00:05<00:00,  1.93it/s]\n"
     ]
    },
    {
     "name": "stdout",
     "output_type": "stream",
     "text": [
      "Prior to SMOGN sampling, mean is 0.04036698081943775 standard deviation is 0.8990163430630597\n"
     ]
    },
    {
     "name": "stderr",
     "output_type": "stream",
     "text": [
      "dist_matrix: 100%|##########| 18/18 [00:16<00:00,  1.08it/s]\n",
      "synth_matrix: 100%|##########| 18/18 [00:05<00:00,  3.35it/s]\n",
      "r_index: 100%|##########| 2/2 [00:01<00:00,  1.73it/s]\n"
     ]
    },
    {
     "name": "stdout",
     "output_type": "stream",
     "text": [
      "Lasso predicts 0.3888 for case with 0.34\n",
      "Prior to SMOGN sampling, mean is 0.0015131276470766214 standard deviation is 0.931977481624881\n"
     ]
    },
    {
     "name": "stderr",
     "output_type": "stream",
     "text": [
      "dist_matrix: 100%|##########| 10/10 [00:03<00:00,  2.98it/s]\n",
      "synth_matrix: 100%|##########| 10/10 [00:03<00:00,  2.97it/s]\n",
      "r_index: 100%|##########| 2/2 [00:00<00:00,  2.22it/s]\n"
     ]
    },
    {
     "name": "stdout",
     "output_type": "stream",
     "text": [
      "Prior to SMOGN sampling, mean is 0.03392921637070851 standard deviation is 0.8865384166257881\n"
     ]
    },
    {
     "name": "stderr",
     "output_type": "stream",
     "text": [
      "dist_matrix: 100%|##########| 22/22 [00:15<00:00,  1.42it/s]\n",
      "r_index: 100%|##########| 16/16 [00:03<00:00,  5.25it/s]\n"
     ]
    },
    {
     "name": "stdout",
     "output_type": "stream",
     "text": [
      "Lasso predicts 0.4743 for case with 0.59\n",
      "Prior to SMOGN sampling, mean is 0.012417216538268072 standard deviation is 0.8881255973664945\n"
     ]
    },
    {
     "name": "stderr",
     "output_type": "stream",
     "text": [
      "dist_matrix: 100%|##########| 10/10 [00:00<00:00, 28.36it/s]\n",
      "synth_matrix: 100%|##########| 10/10 [00:00<00:00, 37.20it/s]\n",
      "r_index: 100%|##########| 2/2 [00:00<00:00, 33.59it/s]\n"
     ]
    },
    {
     "name": "stdout",
     "output_type": "stream",
     "text": [
      "Prior to SMOGN sampling, mean is 0.050123324067376976 standard deviation is 0.856745793489557\n"
     ]
    },
    {
     "name": "stderr",
     "output_type": "stream",
     "text": [
      "dist_matrix: 100%|##########| 23/23 [00:01<00:00, 12.52it/s]\n",
      "r_index: 100%|##########| 15/15 [00:00<00:00, 58.70it/s]\n"
     ]
    },
    {
     "name": "stdout",
     "output_type": "stream",
     "text": [
      "Lasso predicts 0.7067 for case with 0.94\n",
      "Prior to SMOGN sampling, mean is 0.013193171659226656 standard deviation is 0.8908935675714956\n"
     ]
    },
    {
     "name": "stderr",
     "output_type": "stream",
     "text": [
      "dist_matrix: 100%|##########| 10/10 [00:00<00:00, 28.76it/s]\n",
      "synth_matrix: 100%|##########| 10/10 [00:00<00:00, 26.00it/s]\n",
      "r_index: 100%|##########| 2/2 [00:00<00:00, 66.87it/s]\n"
     ]
    },
    {
     "name": "stdout",
     "output_type": "stream",
     "text": [
      "Prior to SMOGN sampling, mean is 0.05122665777154884 standard deviation is 0.8537950848839942\n"
     ]
    },
    {
     "name": "stderr",
     "output_type": "stream",
     "text": [
      "dist_matrix: 100%|##########| 23/23 [00:01<00:00, 12.62it/s]\n",
      "r_index: 100%|##########| 15/15 [00:00<00:00, 66.03it/s]\n"
     ]
    },
    {
     "name": "stdout",
     "output_type": "stream",
     "text": [
      "Lasso predicts 0.7839 for case with 0.84\n",
      "Prior to SMOGN sampling, mean is 0.009584082306713785 standard deviation is 0.984078248009551\n"
     ]
    },
    {
     "name": "stderr",
     "output_type": "stream",
     "text": [
      "dist_matrix: 100%|##########| 12/12 [00:03<00:00,  3.57it/s]\n",
      "r_index: 100%|##########| 10/10 [00:01<00:00,  5.10it/s]\n"
     ]
    },
    {
     "name": "stdout",
     "output_type": "stream",
     "text": [
      "Prior to SMOGN sampling, mean is 0.06093659533078473 standard deviation is 0.9849842272574981\n"
     ]
    },
    {
     "name": "stderr",
     "output_type": "stream",
     "text": [
      "dist_matrix: 100%|##########| 26/26 [00:17<00:00,  1.47it/s]\n",
      "r_index: 100%|##########| 11/11 [00:01<00:00,  7.53it/s]\n"
     ]
    },
    {
     "name": "stdout",
     "output_type": "stream",
     "text": [
      "Lasso predicts 0.4384 for case with 0.1\n",
      "Prior to SMOGN sampling, mean is -0.0014120554492820915 standard deviation is 0.9196993593809196\n"
     ]
    },
    {
     "name": "stderr",
     "output_type": "stream",
     "text": [
      "dist_matrix: 100%|##########| 11/11 [00:06<00:00,  1.75it/s]\n",
      "synth_matrix: 100%|##########| 11/11 [00:05<00:00,  1.91it/s]\n"
     ]
    },
    {
     "name": "stdout",
     "output_type": "stream",
     "text": [
      "Prior to SMOGN sampling, mean is 0.028897482088832006 standard deviation is 0.880642700388619\n"
     ]
    },
    {
     "name": "stderr",
     "output_type": "stream",
     "text": [
      "dist_matrix: 100%|##########| 21/21 [00:22<00:00,  1.09s/it]\n",
      "r_index: 100%|##########| 17/17 [00:06<00:00,  2.61it/s]\n"
     ]
    },
    {
     "name": "stdout",
     "output_type": "stream",
     "text": [
      "Lasso predicts 0.4779 for case with 0.41\n",
      "Prior to SMOGN sampling, mean is 0.018417346453539596 standard deviation is 0.950662432628722\n"
     ]
    },
    {
     "name": "stderr",
     "output_type": "stream",
     "text": [
      "dist_matrix: 100%|##########| 10/10 [00:02<00:00,  3.89it/s]\n",
      "synth_matrix: 100%|##########| 10/10 [00:03<00:00,  3.09it/s]\n",
      "r_index: 100%|##########| 2/2 [00:00<00:00,  4.79it/s]\n"
     ]
    },
    {
     "name": "stdout",
     "output_type": "stream",
     "text": [
      "Prior to SMOGN sampling, mean is 0.06148246281431052 standard deviation is 0.891103528850109\n"
     ]
    },
    {
     "name": "stderr",
     "output_type": "stream",
     "text": [
      "dist_matrix: 100%|##########| 29/29 [00:20<00:00,  1.40it/s]\n",
      "r_index: 100%|##########| 8/8 [00:00<00:00,  9.56it/s]\n"
     ]
    },
    {
     "name": "stdout",
     "output_type": "stream",
     "text": [
      "Lasso predicts 0.5674 for case with 0.57\n",
      "Prior to SMOGN sampling, mean is 0.0010576558919551055 standard deviation is 0.933235258033548\n"
     ]
    },
    {
     "name": "stderr",
     "output_type": "stream",
     "text": [
      "dist_matrix: 100%|##########| 10/10 [00:03<00:00,  3.09it/s]\n",
      "synth_matrix: 100%|##########| 10/10 [00:02<00:00,  4.43it/s]\n",
      "r_index: 100%|##########| 2/2 [00:00<00:00,  7.14it/s]\n"
     ]
    },
    {
     "name": "stdout",
     "output_type": "stream",
     "text": [
      "Prior to SMOGN sampling, mean is 0.04607974981967567 standard deviation is 0.9149126534129804\n"
     ]
    },
    {
     "name": "stderr",
     "output_type": "stream",
     "text": [
      "dist_matrix: 100%|##########| 22/22 [00:15<00:00,  1.41it/s]\n",
      "r_index: 100%|##########| 16/16 [00:02<00:00,  5.74it/s]\n"
     ]
    },
    {
     "name": "stdout",
     "output_type": "stream",
     "text": [
      "Lasso predicts 0.6457 for case with 0.66\n",
      "Prior to SMOGN sampling, mean is 0.006128135327013686 standard deviation is 0.9258845855672884\n"
     ]
    },
    {
     "name": "stderr",
     "output_type": "stream",
     "text": [
      "dist_matrix: 100%|##########| 10/10 [00:05<00:00,  1.91it/s]\n",
      "synth_matrix: 100%|##########| 10/10 [00:05<00:00,  1.96it/s]\n",
      "r_index: 100%|##########| 2/2 [00:00<00:00,  2.10it/s]\n"
     ]
    },
    {
     "name": "stdout",
     "output_type": "stream",
     "text": [
      "Prior to SMOGN sampling, mean is 0.05877022832046312 standard deviation is 0.9099284222019011\n"
     ]
    },
    {
     "name": "stderr",
     "output_type": "stream",
     "text": [
      "dist_matrix: 100%|##########| 23/23 [00:26<00:00,  1.15s/it]\n",
      "r_index: 100%|##########| 15/15 [00:04<00:00,  3.67it/s]\n"
     ]
    },
    {
     "name": "stdout",
     "output_type": "stream",
     "text": [
      "Lasso predicts 0.6217 for case with 0.63\n",
      "Prior to SMOGN sampling, mean is 0.0063009905380531335 standard deviation is 0.9360849797487161\n"
     ]
    },
    {
     "name": "stderr",
     "output_type": "stream",
     "text": [
      "dist_matrix: 100%|##########| 11/11 [00:01<00:00,  6.92it/s]\n",
      "synth_matrix: 100%|##########| 11/11 [00:01<00:00,  8.46it/s]\n"
     ]
    },
    {
     "name": "stdout",
     "output_type": "stream",
     "text": [
      "Prior to SMOGN sampling, mean is 0.04981493211218959 standard deviation is 0.8816806457684372\n"
     ]
    },
    {
     "name": "stderr",
     "output_type": "stream",
     "text": [
      "dist_matrix: 100%|##########| 18/18 [00:04<00:00,  4.26it/s]\n",
      "synth_matrix: 100%|##########| 18/18 [00:01<00:00, 14.55it/s]\n",
      "r_index: 100%|##########| 2/2 [00:00<00:00,  8.79it/s]\n"
     ]
    },
    {
     "name": "stdout",
     "output_type": "stream",
     "text": [
      "Lasso predicts 0.5305 for case with 0.47\n",
      "Prior to SMOGN sampling, mean is 0.006363144114449578 standard deviation is 0.9064160531042827\n"
     ]
    },
    {
     "name": "stderr",
     "output_type": "stream",
     "text": [
      "dist_matrix: 100%|##########| 10/10 [00:03<00:00,  3.07it/s]\n",
      "synth_matrix: 100%|##########| 10/10 [00:03<00:00,  2.68it/s]\n",
      "r_index: 100%|##########| 2/2 [00:00<00:00,  2.34it/s]\n"
     ]
    },
    {
     "name": "stdout",
     "output_type": "stream",
     "text": [
      "Prior to SMOGN sampling, mean is 0.04041209338436582 standard deviation is 0.8729133478916923\n"
     ]
    },
    {
     "name": "stderr",
     "output_type": "stream",
     "text": [
      "dist_matrix: 100%|##########| 32/32 [00:34<00:00,  1.07s/it]\n",
      "r_index: 100%|##########| 7/7 [00:00<00:00,  7.12it/s]\n"
     ]
    },
    {
     "name": "stdout",
     "output_type": "stream",
     "text": [
      "Lasso predicts 0.4012 for case with 0.28\n",
      "Prior to SMOGN sampling, mean is -0.0023285945288948782 standard deviation is 0.9190034214671092\n"
     ]
    },
    {
     "name": "stderr",
     "output_type": "stream",
     "text": [
      "dist_matrix: 100%|##########| 10/10 [00:04<00:00,  2.26it/s]\n",
      "synth_matrix: 100%|##########| 10/10 [00:03<00:00,  2.74it/s]\n",
      "r_index: 100%|##########| 2/2 [00:01<00:00,  1.45it/s]\n"
     ]
    },
    {
     "name": "stdout",
     "output_type": "stream",
     "text": [
      "Prior to SMOGN sampling, mean is 0.038942281017911126 standard deviation is 0.8933415256612794\n"
     ]
    },
    {
     "name": "stderr",
     "output_type": "stream",
     "text": [
      "dist_matrix: 100%|##########| 21/21 [00:19<00:00,  1.09it/s]\n",
      "r_index: 100%|##########| 17/17 [00:04<00:00,  4.18it/s]\n"
     ]
    },
    {
     "name": "stdout",
     "output_type": "stream",
     "text": [
      "Lasso predicts 0.6408 for case with 0.59\n",
      "Prior to SMOGN sampling, mean is 0.0030113874919287624 standard deviation is 0.9199789104042395\n"
     ]
    },
    {
     "name": "stderr",
     "output_type": "stream",
     "text": [
      "dist_matrix: 100%|##########| 10/10 [00:03<00:00,  2.99it/s]\n",
      "synth_matrix: 100%|##########| 10/10 [00:02<00:00,  4.33it/s]\n",
      "r_index: 100%|##########| 2/2 [00:00<00:00,  6.92it/s]\n"
     ]
    },
    {
     "name": "stdout",
     "output_type": "stream",
     "text": [
      "Prior to SMOGN sampling, mean is 0.04838241732231781 standard deviation is 0.886834174984751\n"
     ]
    },
    {
     "name": "stderr",
     "output_type": "stream",
     "text": [
      "dist_matrix: 100%|##########| 26/26 [00:22<00:00,  1.17it/s]\n",
      "r_index: 100%|##########| 11/11 [00:01<00:00,  5.97it/s]\n"
     ]
    },
    {
     "name": "stdout",
     "output_type": "stream",
     "text": [
      "Lasso predicts 0.5872 for case with 0.53\n",
      "Prior to SMOGN sampling, mean is 0.0020482139740369667 standard deviation is 0.9015467940423089\n"
     ]
    },
    {
     "name": "stderr",
     "output_type": "stream",
     "text": [
      "dist_matrix: 100%|##########| 10/10 [00:06<00:00,  1.58it/s]\n",
      "synth_matrix: 100%|##########| 10/10 [00:06<00:00,  1.44it/s]\n",
      "r_index: 100%|##########| 2/2 [00:01<00:00,  1.21it/s]\n"
     ]
    },
    {
     "name": "stdout",
     "output_type": "stream",
     "text": [
      "Prior to SMOGN sampling, mean is 0.022257465646467002 standard deviation is 0.8335949735943379\n"
     ]
    },
    {
     "name": "stderr",
     "output_type": "stream",
     "text": [
      "dist_matrix: 100%|##########| 28/28 [00:47<00:00,  1.69s/it]\n",
      "r_index: 100%|##########| 10/10 [00:03<00:00,  3.17it/s]\n"
     ]
    },
    {
     "name": "stdout",
     "output_type": "stream",
     "text": [
      "Lasso predicts 0.6463 for case with 0.86\n",
      "Prior to SMOGN sampling, mean is 0.0015526880403645951 standard deviation is 0.9439260026084326\n"
     ]
    },
    {
     "name": "stderr",
     "output_type": "stream",
     "text": [
      "dist_matrix: 100%|##########| 11/11 [00:07<00:00,  1.49it/s]\n",
      "synth_matrix: 100%|##########| 11/11 [00:05<00:00,  1.92it/s]\n"
     ]
    },
    {
     "name": "stdout",
     "output_type": "stream",
     "text": [
      "Prior to SMOGN sampling, mean is 0.04370654528332099 standard deviation is 0.9043454152694325\n"
     ]
    },
    {
     "name": "stderr",
     "output_type": "stream",
     "text": [
      "dist_matrix: 100%|##########| 18/18 [00:19<00:00,  1.09s/it]\n",
      "synth_matrix: 100%|##########| 18/18 [00:06<00:00,  2.58it/s]\n",
      "r_index: 100%|##########| 2/2 [00:00<00:00,  3.75it/s]\n"
     ]
    },
    {
     "name": "stdout",
     "output_type": "stream",
     "text": [
      "Lasso predicts 0.4675 for case with 0.48\n",
      "Prior to SMOGN sampling, mean is -0.0024307147844221345 standard deviation is 0.9910032092735783\n"
     ]
    },
    {
     "name": "stderr",
     "output_type": "stream",
     "text": [
      "dist_matrix: 100%|##########| 10/10 [00:02<00:00,  4.13it/s]\n",
      "synth_matrix: 100%|##########| 10/10 [00:03<00:00,  3.07it/s]\n",
      "r_index: 100%|##########| 2/2 [00:00<00:00,  3.06it/s]\n"
     ]
    },
    {
     "name": "stdout",
     "output_type": "stream",
     "text": [
      "Prior to SMOGN sampling, mean is 0.050730723000002025 standard deviation is 0.9656492029353971\n"
     ]
    },
    {
     "name": "stderr",
     "output_type": "stream",
     "text": [
      "dist_matrix: 100%|##########| 12/12 [00:03<00:00,  3.48it/s]\n",
      "synth_matrix: 100%|##########| 12/12 [00:06<00:00,  2.00it/s]\n",
      "r_index: 100%|##########| 1/1 [00:00<00:00,  8.84it/s]\n"
     ]
    },
    {
     "name": "stdout",
     "output_type": "stream",
     "text": [
      "Lasso predicts 0.6451 for case with 0.66\n",
      "Prior to SMOGN sampling, mean is 0.004162149229692376 standard deviation is 0.9537006698549196\n"
     ]
    },
    {
     "name": "stderr",
     "output_type": "stream",
     "text": [
      "dist_matrix: 100%|##########| 11/11 [00:02<00:00,  3.77it/s]\n",
      "synth_matrix: 100%|##########| 11/11 [00:02<00:00,  4.46it/s]\n"
     ]
    },
    {
     "name": "stdout",
     "output_type": "stream",
     "text": [
      "Prior to SMOGN sampling, mean is 0.037424687280232474 standard deviation is 0.9054656830426637\n"
     ]
    },
    {
     "name": "stderr",
     "output_type": "stream",
     "text": [
      "dist_matrix: 100%|##########| 21/21 [00:10<00:00,  1.99it/s]\n",
      "r_index: 100%|##########| 17/17 [00:02<00:00,  7.59it/s]\n"
     ]
    },
    {
     "name": "stdout",
     "output_type": "stream",
     "text": [
      "Lasso predicts 0.6331 for case with 0.33\n",
      "Prior to SMOGN sampling, mean is 0.0050095985487736945 standard deviation is 0.908751733070714\n"
     ]
    },
    {
     "name": "stderr",
     "output_type": "stream",
     "text": [
      "dist_matrix: 100%|##########| 11/11 [00:01<00:00,  6.84it/s]\n",
      "synth_matrix: 100%|##########| 11/11 [00:02<00:00,  4.62it/s]\n"
     ]
    },
    {
     "name": "stdout",
     "output_type": "stream",
     "text": [
      "Prior to SMOGN sampling, mean is 0.026048729649262123 standard deviation is 0.8443658942319022\n"
     ]
    },
    {
     "name": "stderr",
     "output_type": "stream",
     "text": [
      "dist_matrix: 100%|##########| 26/26 [00:08<00:00,  2.96it/s]\n",
      "r_index: 100%|##########| 11/11 [00:00<00:00, 13.46it/s]\n"
     ]
    },
    {
     "name": "stdout",
     "output_type": "stream",
     "text": [
      "Lasso predicts 0.316 for case with 0.49\n",
      "Prior to SMOGN sampling, mean is 0.025731013390154867 standard deviation is 0.9305798827883391\n"
     ]
    },
    {
     "name": "stderr",
     "output_type": "stream",
     "text": [
      "dist_matrix: 100%|##########| 10/10 [00:01<00:00,  7.54it/s]\n",
      "synth_matrix: 100%|##########| 10/10 [00:01<00:00,  5.64it/s]\n",
      "r_index: 100%|##########| 2/2 [00:00<00:00,  5.36it/s]\n"
     ]
    },
    {
     "name": "stdout",
     "output_type": "stream",
     "text": [
      "Prior to SMOGN sampling, mean is 0.08337273558787497 standard deviation is 0.9266743742468648\n"
     ]
    },
    {
     "name": "stderr",
     "output_type": "stream",
     "text": [
      "dist_matrix: 100%|##########| 26/26 [00:08<00:00,  2.95it/s]\n",
      "r_index: 100%|##########| 11/11 [00:00<00:00, 17.78it/s]\n"
     ]
    },
    {
     "name": "stdout",
     "output_type": "stream",
     "text": [
      "Lasso predicts 0.8645 for case with 0.78\n",
      "Prior to SMOGN sampling, mean is 0.006417383502535807 standard deviation is 0.9372650255534835\n"
     ]
    },
    {
     "name": "stderr",
     "output_type": "stream",
     "text": [
      "dist_matrix: 100%|##########| 10/10 [00:03<00:00,  3.07it/s]\n",
      "synth_matrix: 100%|##########| 10/10 [00:03<00:00,  3.06it/s]\n",
      "r_index: 100%|##########| 2/2 [00:00<00:00,  2.48it/s]\n"
     ]
    },
    {
     "name": "stdout",
     "output_type": "stream",
     "text": [
      "Prior to SMOGN sampling, mean is 0.051796468719761644 standard deviation is 0.8972751900941386\n"
     ]
    },
    {
     "name": "stderr",
     "output_type": "stream",
     "text": [
      "dist_matrix: 100%|##########| 21/21 [00:14<00:00,  1.48it/s]\n",
      "r_index: 100%|##########| 17/17 [00:02<00:00,  5.94it/s]\n"
     ]
    },
    {
     "name": "stdout",
     "output_type": "stream",
     "text": [
      "Lasso predicts 0.5758 for case with 0.81\n",
      "Prior to SMOGN sampling, mean is 0.002016210997286731 standard deviation is 0.9322333744885325\n"
     ]
    },
    {
     "name": "stderr",
     "output_type": "stream",
     "text": [
      "dist_matrix: 100%|##########| 10/10 [00:03<00:00,  3.06it/s]\n",
      "synth_matrix: 100%|##########| 10/10 [00:03<00:00,  2.90it/s]\n",
      "r_index: 100%|##########| 2/2 [00:00<00:00,  3.45it/s]\n"
     ]
    },
    {
     "name": "stdout",
     "output_type": "stream",
     "text": [
      "Prior to SMOGN sampling, mean is 0.04586518776144711 standard deviation is 0.8969739523431887\n"
     ]
    },
    {
     "name": "stderr",
     "output_type": "stream",
     "text": [
      "dist_matrix: 100%|##########| 22/22 [00:15<00:00,  1.40it/s]\n",
      "r_index: 100%|##########| 16/16 [00:03<00:00,  5.07it/s]\n"
     ]
    },
    {
     "name": "stdout",
     "output_type": "stream",
     "text": [
      "Lasso predicts 0.7274 for case with 0.71\n",
      "Prior to SMOGN sampling, mean is -0.008787132629686278 standard deviation is 0.9522016605469455\n"
     ]
    },
    {
     "name": "stderr",
     "output_type": "stream",
     "text": [
      "dist_matrix: 100%|##########| 11/11 [00:07<00:00,  1.49it/s]\n",
      "synth_matrix: 100%|##########| 11/11 [00:05<00:00,  1.95it/s]\n"
     ]
    },
    {
     "name": "stdout",
     "output_type": "stream",
     "text": [
      "Prior to SMOGN sampling, mean is 0.028411536657319134 standard deviation is 0.9277441306433638\n"
     ]
    },
    {
     "name": "stderr",
     "output_type": "stream",
     "text": [
      "dist_matrix: 100%|##########| 15/15 [00:13<00:00,  1.10it/s]\n",
      "synth_matrix: 100%|##########| 15/15 [00:04<00:00,  3.00it/s]\n",
      "r_index: 100%|##########| 7/7 [00:02<00:00,  2.94it/s]\n"
     ]
    },
    {
     "name": "stdout",
     "output_type": "stream",
     "text": [
      "Lasso predicts 0.4949 for case with 0.32\n",
      "Prior to SMOGN sampling, mean is -0.004069199050782191 standard deviation is 0.9531950255882574\n"
     ]
    },
    {
     "name": "stderr",
     "output_type": "stream",
     "text": [
      "dist_matrix: 100%|##########| 10/10 [00:06<00:00,  1.65it/s]\n",
      "synth_matrix: 100%|##########| 10/10 [00:04<00:00,  2.05it/s]\n",
      "r_index: 100%|##########| 2/2 [00:01<00:00,  1.84it/s]\n"
     ]
    },
    {
     "name": "stdout",
     "output_type": "stream",
     "text": [
      "Prior to SMOGN sampling, mean is 0.04502321607873538 standard deviation is 0.9335920495042357\n"
     ]
    },
    {
     "name": "stderr",
     "output_type": "stream",
     "text": [
      "dist_matrix: 100%|##########| 16/16 [00:15<00:00,  1.03it/s]\n",
      "synth_matrix: 100%|##########| 16/16 [00:06<00:00,  2.50it/s]\n",
      "r_index: 100%|##########| 6/6 [00:02<00:00,  2.81it/s]\n"
     ]
    },
    {
     "name": "stdout",
     "output_type": "stream",
     "text": [
      "Lasso predicts 0.6013 for case with 0.83\n"
     ]
    }
   ],
   "source": [
    "Js = []\n",
    "err_var = np.zeros_like(per_change)\n",
    "rerror = np.zeros_like(per_change)\n",
    "kappa = []\n",
    "c = 0\n",
    "for j in np.arange(len(subsc)):\n",
    "    test_id = subsc[j]\n",
    "    test_index = subsc == test_id\n",
    "    train_index = subsc != test_id\n",
    "    X_train = X_all_c[train_index,:,:]\n",
    "    X_test = X_all_c[test_index,:,:]\n",
    "    y_train = per_change[train_index]\n",
    "    y_test = per_change[test_index]\n",
    "\n",
    "    y_cat = y_train <= 0.3\n",
    "    idy = np.where(y_cat==1)\n",
    "    # Cross validation\n",
    "    X0_ss0,scaler_ss,X_test_ss0 = util.model_scale(skp.StandardScaler(),\n",
    "                                                X_train,train_index,X_test,\n",
    "                                                test_index,pre_updrs_off,None,None,None,None,None,None,None,None,None,False,False,False)\n",
    "    cvn = 10\n",
    "    # Resample to avoid stratification errors\n",
    "    while np.sum(y_cat) < cvn:\n",
    "      idyr = np.random.choice(np.asarray(idy).ravel())\n",
    "      X0_ss0 = np.append(X0_ss0,X0_ss0[idyr,:].reshape(1,-1),axis=0)\n",
    "      y_train = np.append(y_train,y_train[idyr])\n",
    "      y_cat = y_train <= 0.3\n",
    "      \n",
    "    for k in np.arange(r):\n",
    "      skf_g = sms.StratifiedKFold(n_splits=cvn,shuffle=True,random_state=k)\n",
    "      skf_gen = skf_g.split(X0_ss0,y_cat)\n",
    "      lasso = slm.LassoLarsCV(max_iter=1000,cv=cvn,n_jobs=-1,normalize=False,eps=0.1)\n",
    "      with warnings.catch_warnings() and np.errstate(divide='ignore', invalid='ignore'):\n",
    "        # Feature selection\n",
    "        warnings.filterwarnings(\"ignore\", category=ConvergenceWarning)\n",
    "        sel = skf.RFECV(lasso,step=1000,cv=skf_gen)\n",
    "        X0_sst = sel.fit_transform(X0_ss0,y_train)\n",
    "        X_test_sst = sel.transform(X_test_ss0)\n",
    "        X_smogn,y_smogn,idxk,sscaler = util.rad_smogn(X0_sst,y_train,np.min(y_train),np.median(y_train),1,0,0.5,0.2)\n",
    "        X0_ss = np.vstack((X0_sst,X_smogn))\n",
    "        y_train = np.hstack((y_train,y_smogn))\n",
    "        X_smogn,y_smogn,idxk,sscaler = util.rad_smogn(X0_ss,y_train,np.min(y_train),np.median(y_train),1,0,0.5,0.2)\n",
    "        X0_ss = np.vstack((X0_ss,X_smogn))\n",
    "        y_train = np.hstack((y_train,y_smogn))\n",
    "        X_test_ss = X_test_sst\n",
    "        dx, y_n = cKDTree(X0_ss).query(X_test_ss, k=1)\n",
    "\n",
    "      # LASSO\n",
    "      with warnings.catch_warnings():\n",
    "        warnings.filterwarnings(\"ignore\", category=ConvergenceWarning)\n",
    "        lasso = slm.LassoLarsCV(max_iter=1000,cv=cvn,n_jobs=-1,normalize=False,eps=0.1)\n",
    "        est_ls = lasso.fit(X0_ss,y_train)\n",
    "      results_ls[c] = est_ls.predict(X_test_ss)\n",
    "      print('Lasso predicts',str(np.round(results_ls[c],4)),\n",
    "                'for case with',str(np.round(np.repeat(per_change,r)[c],2)))\n",
    "    \n",
    "      c=c+1\n",
    "\n",
    "        \n",
    "\n",
    "  \n"
   ]
  },
  {
   "cell_type": "code",
   "execution_count": 9,
   "metadata": {},
   "outputs": [
    {
     "data": {
      "image/png": "[encoded data removed]",
      "text/plain": [
       "<Figure size 750x1000 with 2 Axes>"
      ]
     },
     "metadata": {},
     "output_type": "display_data"
    }
   ],
   "source": [
    "util.eval_prediction(np.vstack((np.repeat(pre_imp,r),\n",
    "                               results_ls,\n",
    "                               )),\n",
    "                               np.repeat(per_change,r),\n",
    "                               ['LCT',\n",
    "                                'Lasso',\n",
    "                                ],(15,5))\n",
    "plt.ylim([0,2])\n",
    "plt.xlim([0,2])\n",
    "plt.style.use('default')"
   ]
  }
 ],
 "metadata": {
  "kernelspec": {
   "display_name": "pdradenv",
   "language": "python",
   "name": "python3"
  },
  "language_info": {
   "codemirror_mode": {
    "name": "ipython",
    "version": 3
   },
   "file_extension": ".py",
   "mimetype": "text/x-python",
   "name": "python",
   "nbconvert_exporter": "python",
   "pygments_lexer": "ipython3",
   "version": "3.7.16"
  }
 },
 "nbformat": 4,
 "nbformat_minor": 2
}
