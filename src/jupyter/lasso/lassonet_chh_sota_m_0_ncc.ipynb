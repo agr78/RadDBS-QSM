{
 "cells": [
  {
   "cell_type": "code",
   "execution_count": 1,
   "metadata": {},
   "outputs": [
    {
     "name": "stdout",
     "output_type": "stream",
     "text": [
      "Skipping torch import\n"
     ]
    }
   ],
   "source": [
    "# Import libraries\n",
    "import sys\n",
    "sys.path.append('../')\n",
    "import matplotlib.pyplot as plt\n",
    "import sklearn.model_selection as sms\n",
    "import sklearn.linear_model as slm\n",
    "import sklearn.preprocessing as skp\n",
    "import sklearn.feature_selection as skf\n",
    "from sklearn.cluster import DBSCAN\n",
    "import numpy as np\n",
    "from IPython.display import HTML\n",
    "import util\n",
    "from scipy.spatial import cKDTree\n",
    "from lassonet import LassoNetRegressor, LassoNetRegressorCV\n",
    "import os\n",
    "import pandas as pd\n",
    "import pickle\n",
    "from torch.optim import SGD, Adam\n",
    "from functools import partial\n",
    "import torch\n",
    "import torch.nn.functional as F\n",
    "import traceback\n",
    "from scipy import stats\n",
    "import warnings\n",
    "from sklearn.exceptions import ConvergenceWarning"
   ]
  },
  {
   "cell_type": "code",
   "execution_count": 2,
   "metadata": {},
   "outputs": [
    {
     "name": "stderr",
     "output_type": "stream",
     "text": [
      "/tmp/ipykernel_1856/3066526659.py:24: DeprecationWarning: `in1d` is deprecated. Use `np.isin` instead.\n",
      "  subject_id_corr = subject_id[np.in1d(subject_id,case_number)]\n"
     ]
    },
    {
     "name": "stdout",
     "output_type": "stream",
     "text": [
      "Found ROIs [0. 1. 2. 3. 4. 5. 6.] at segmentation directory file 00000001 for case 1.0\n",
      "Found ROIs [0. 1. 2. 3. 4. 5. 6.] at segmentation directory file 00000002 for case 2.0\n",
      "Found ROIs [0. 1. 2. 3. 4. 5. 6.] at segmentation directory file 00000003 for case 3.0\n",
      "Found ROIs [0. 1. 2. 3. 4. 5. 6.] at segmentation directory file 00000004 for case 4.0\n",
      "Found ROIs [0. 1. 2. 3. 4. 5. 6.] at segmentation directory file 00000005 for case 5.0\n",
      "Found ROIs [0. 1. 2. 3. 4. 5. 6.] at segmentation directory file 00000006 for case 6.0\n",
      "Found ROIs [0. 1. 2. 3. 4. 5. 6.] at segmentation directory file 00000007 for case 7.0\n",
      "Found ROIs [0. 1. 2. 3. 4. 5. 6.] at segmentation directory file 00000008 for case 8.0\n",
      "Found ROIs [0. 1. 2. 3. 4. 5. 6.] at segmentation directory file 00000009 for case 9.0\n",
      "Found ROIs [0. 1. 2. 3. 4. 5. 6.] at segmentation directory file 00000010 for case 10.0\n",
      "Found ROIs [0. 1. 2. 3. 4. 5. 6.] at segmentation directory file 00000011 for case 11.0\n",
      "Found ROIs [0. 1. 2. 3. 4. 5. 6.] at segmentation directory file 00000013 for case 13.0\n",
      "Found ROIs [0. 1. 2. 3. 4. 5. 6.] at segmentation directory file 00000014 for case 14.0\n",
      "Found ROIs [0. 1. 2. 3. 4. 5. 6.] at segmentation directory file 00000016 for case 16.0\n",
      "Found ROIs [0. 1. 2. 3. 4. 5. 6.] at segmentation directory file 00000018 for case 18.0\n",
      "Found ROIs [0. 1. 2. 3. 4. 5. 6.] at segmentation directory file 00000019 for case 19.0\n",
      "Found ROIs [0. 1. 2. 3. 4. 5. 6.] at segmentation directory file 00000020 for case 20.0\n",
      "Found ROIs [0. 1. 2. 3. 4. 5. 6.] at segmentation directory file 00000021 for case 21.0\n",
      "Found ROIs [0. 1. 2. 3. 4. 5. 6.] at segmentation directory file 00000022 for case 22.0\n",
      "Found ROIs [0. 1. 2. 3. 4. 5. 6.] at segmentation directory file 00000023 for case 23.0\n",
      "Found ROIs [0. 1. 2. 3. 4. 5. 6.] at segmentation directory file 00000024 for case 24.0\n",
      "Found ROIs [0. 1. 2. 3. 4. 5. 6.] at segmentation directory file 00000025 for case 25.0\n",
      "Found ROIs [0. 1. 2. 3. 4. 5. 6.] at segmentation directory file 00000026 for case 26.0\n",
      "Found ROIs [0. 1. 2. 3. 4. 5. 6.] at segmentation directory file 00000027 for case 27.0\n",
      "Found ROIs [0. 1. 2. 3. 4. 5. 6.] at segmentation directory file 00000028 for case 28.0\n",
      "Found ROIs [0. 1. 2. 3. 4. 5. 6.] at segmentation directory file 00000029 for case 29.0\n",
      "Found ROIs [0. 1. 2. 3. 4. 5. 6.] at segmentation directory file 00000030 for case 30.0\n",
      "Found ROIs [0. 1. 2. 3. 4. 5. 6.] at segmentation directory file 00000031 for case 31.0\n",
      "Found ROIs [0. 1. 2. 3. 4. 5. 6.] at segmentation directory file 00000032 for case 32.0\n",
      "Found ROIs [0. 1. 2. 3. 4. 5. 6.] at segmentation directory file 00000033 for case 33.0\n",
      "Found ROIs [0. 1. 2. 3. 4. 5. 6.] at segmentation directory file 00000034 for case 34.0\n",
      "Found ROIs [0. 1. 2. 3. 4. 5. 6.] at segmentation directory file 00000035 for case 35.0\n",
      "Found ROIs [0. 1. 2. 3. 4. 5. 6.] at segmentation directory file 00000036 for case 36.0\n",
      "Found ROIs [0. 1. 2. 3. 4. 5. 6.] at segmentation directory file 00000037 for case 37.0\n",
      "Found ROIs [0. 1. 2. 3. 4. 5. 6.] at segmentation directory file 00000038 for case 38.0\n",
      "Found ROIs [0. 1. 2. 3. 4. 5. 6.] at segmentation directory file 00000039 for case 39.0\n",
      "Found ROIs [0. 1. 2. 3. 4. 5. 6.] at segmentation directory file 00000040 for case 40.0\n"
     ]
    },
    {
     "name": "stderr",
     "output_type": "stream",
     "text": [
      "/tmp/ipykernel_1856/3066526659.py:30: DeprecationWarning: `in1d` is deprecated. Use `np.isin` instead.\n",
      "  pre_updrs_iii_off =  np.asarray(df[df.columns[3]][1:][np.in1d(subject_id,subject_id_corr)]).astype(float)\n",
      "/tmp/ipykernel_1856/3066526659.py:31: DeprecationWarning: `in1d` is deprecated. Use `np.isin` instead.\n",
      "  pre_updrs_iii_on =  np.asarray(df[df.columns[4]][1:][np.in1d(subject_id,subject_id_corr)]).astype(float)\n",
      "/tmp/ipykernel_1856/3066526659.py:32: DeprecationWarning: `in1d` is deprecated. Use `np.isin` instead.\n",
      "  post_updrs_iii_off =  np.asarray(df[df.columns[6]][1:][np.in1d(subject_id,subject_id_corr)]).astype(float)\n"
     ]
    }
   ],
   "source": [
    "# Augment with CHH data\n",
    "X0_gt = np.load('/data/Ali/RadDBS-QSM/data/npy/old/X0_gt_chh_rois.npy')\n",
    "df = pd.read_csv('/data/Ali/RadDBS-QSM/data/xlxs/updrs_iii_chh.csv')\n",
    "# Patient IDs\n",
    "subject_id = np.asarray(df[df.columns[0]])[1:]\n",
    "n_rois = 6\n",
    "# Data\n",
    "s_directory = open('/data/Ali/RadDBS-QSM/data/roi/roi_list','r').read().splitlines()\n",
    "# Load\n",
    "with open('/data/Ali/RadDBS-QSM/data/pickles/segs_chh', \"rb\") as fp:  \n",
    "    segs = pickle.load(fp)\n",
    "    n_cases = len(segs)\n",
    "with open('/data/Ali/RadDBS-QSM/data/pickles/qsms_chh', \"rb\") as fp:  \n",
    "    qsms = pickle.load(fp)\n",
    "with open('/data/Ali/RadDBS-QSM/data/phi/chh/_ts/Phi_mcl_gt_roi_chh', \"rb\") as fp:  \n",
    "    Phi_gt = pickle.load(fp)\n",
    "L = int(len(X0_gt)/n_cases)\n",
    "n_features = int(L/n_rois)\n",
    "# Only extract ROI if it is present in all cases\n",
    "seg_labels_all = segs[0]\n",
    "case_number = np.zeros_like(np.asarray(s_directory))\n",
    "for i in range(n_cases):\n",
    "    case_number[i] = float(s_directory[i][-2:])\n",
    "subject_id_corr = subject_id[np.in1d(subject_id,case_number)]\n",
    "for i in range(n_cases):\n",
    "    try:\n",
    "        print('Found ROIs',str(np.unique(segs[i])),'at segmentation directory file',s_directory[i],'for case',str(subject_id_corr[i]))\n",
    "    except:\n",
    "        print('Case',subject_id[i],'quarantined')\n",
    "pre_updrs_iii_off =  np.asarray(df[df.columns[3]][1:][np.in1d(subject_id,subject_id_corr)]).astype(float)                             \n",
    "pre_updrs_iii_on =  np.asarray(df[df.columns[4]][1:][np.in1d(subject_id,subject_id_corr)]).astype(float) \n",
    "post_updrs_iii_off =  np.asarray(df[df.columns[6]][1:][np.in1d(subject_id,subject_id_corr)]).astype(float) \n",
    "\n",
    "per_change = (pre_updrs_iii_off-post_updrs_iii_off)/pre_updrs_iii_off\n",
    "pre_updrs_off = pre_updrs_iii_off\n",
    "X_all_c = X0_gt.reshape(n_cases,n_rois,n_features)\n",
    "X_all_c = X_all_c[:,0:4,:]\n",
    "\n",
    "lct_change = (pre_updrs_iii_off-pre_updrs_iii_on)/pre_updrs_iii_off\n",
    "pre_imp = lct_change\n",
    "# X_all_c = X_all_c.reshape(X_all_c.shape[0],z-1)\n",
    "# X_all_c = np.append(X_all_c,pre_imp.reshape(-1,1),axis=1)\n",
    "subsc = subject_id_corr\n",
    "subs_init = subsc"
   ]
  },
  {
   "cell_type": "code",
   "execution_count": 3,
   "metadata": {},
   "outputs": [],
   "source": [
    "# # Training parameters\n",
    "# scoring = 'r2'\n",
    "# results_bls = np.zeros_like(per_change)\n",
    "# results_ls = np.zeros_like(per_change)\n",
    "# scaler = skp.StandardScaler()\n",
    "# #X = X_all_c.astype(float)#scaler.fit_transform(np.asarray(X_all_c,dtype=float).reshape(X_all_c.shape[0],-1))\n",
    "# epsilon = 1e-1\n",
    "# ledd = np.zeros_like(per_change)\n",
    "# cvn = 6\n",
    "# # Train\n",
    "# for j in np.arange(len(subsc)):\n",
    "#     test_id = subsc[j]\n",
    "#     test_index = subsc == test_id\n",
    "#     train_index = subsc != test_id\n",
    "#     X_train = X_all_c[train_index,:,:]\n",
    "#     X_test = X_all_c[test_index,:,:]\n",
    "#     y_train = per_change[train_index]\n",
    "#     y_test = per_change[test_index]\n",
    "#     # Try this with common scaling\n",
    "#     X0_ss0,scaler_ss,X_test_ss0 = util.model_scale(skp.StandardScaler(),\n",
    "#                                                 X_train,train_index,X_test,\n",
    "#                                                 test_index,pre_updrs_off,ledd,None,None,None,None,None,None,None,None,False,False,False)\n",
    "#     with np.errstate(divide='ignore', invalid='ignore'):\n",
    "#       # Feature selection\n",
    "#       sel = skf.SelectKBest(skf.r_regression,k='all')\n",
    "#       X0_ss = sel.fit_transform(X0_ss0,y_train)\n",
    "#       X_test_ss = sel.transform(X_test_ss0)\n",
    "#       y_n = cKDTree(X0_ss).query(X_test_ss, k=1)[1]\n",
    "    \n",
    "#       Xy = np.dot(X0_ss.T,y_train)\n",
    "#     if Xy.ndim == 1:\n",
    "#         Xy = Xy[:, np.newaxis]\n",
    "#     alpha_max = np.sqrt(np.sum(Xy**2, axis=1)).max()/len(y_train) \n",
    "#     alphas = np.linspace(alpha_max*1e-3,alpha_max,10)\n",
    "#     # LASSO\n",
    "#     lasso = slm.LassoCV(max_iter=int(1e5),n_jobs=-1,cv=cvn,alphas=alphas,random_state=0)\n",
    "#     est_ls = lasso.fit(X0_ss,y_train)\n",
    "#     print('LassoCV score:',est_ls.score(X0_ss,y_train))\n",
    "#     results_ls[j] = est_ls.predict(X_test_ss).item()\n",
    "#     print('Lasso predicts',str(np.round(results_ls[j],2)),\n",
    "#           'with regularization',str(np.round(est_ls.alpha_,5)))\n",
    "#     # LASSONet\n",
    "#     lr=1e-3 # NOT ACTUALLY PASSING\n",
    "#     lassonet = LassoNetRegressorCV(\n",
    "#     cv=cvn,\n",
    "#     M=1e-16, # Approximate standard LASSO\n",
    "#     batch_size=len(y_train), # Leads to gradient descent optimization\n",
    "#     hidden_dims=(5,), #CHANGE\n",
    "#     #n_iters=(int(1e4),int(1e2)), # Iterations for objective function and path\n",
    "#     tol=0.99,#1-est_ls.tol,  \n",
    "#     lambda_seq=alphas, # Path multipler and initial lambda disregarded\n",
    "#     optim=partial(SGD,lr=lr,momentum=0.9), # Approximate coordinate descent\n",
    "#     #backtrack=True, # Approximate monotonic coordinate descent path\n",
    "#     verbose=1,\n",
    "#     torch_seed=0,\n",
    "#     random_state=0,\n",
    "#     gamma=0.0, # No L2 regularization\n",
    "#     gamma_skip=0.0, # No L2 regularization on skip connection\n",
    "#     patience=None, # Disable early stopping\n",
    "#     val_size=0.1,\n",
    "#     )\n",
    "#     # What should these norms be...besides nonzero?\n",
    "#     est_lsn = lassonet.fit(X0_ss,y_train)\n",
    "  \n",
    "#     print('LassoNetCV score:',est_lsn.score(X0_ss,y_train))\n",
    "#     results_bls[j] = est_lsn.predict(X_test_ss).item()\n",
    "\n",
    "#     # Training status\n",
    "#     print('Lasso predicts',str(np.round(results_ls[j],2)),\n",
    "#           'with regularization',str(np.round(est_ls.alpha_,5)),\n",
    "#           'and',str(np.sum(est_ls.coef_!=0)),'nonzero coefficients',\n",
    "#           'and LassoNet predicts',str(np.round(results_bls[j],2)),\n",
    "#           'for case',str(int(subsc[j])),'with',str(np.round(per_change[j],2)))\n",
    "\n"
   ]
  },
  {
   "cell_type": "code",
   "execution_count": 4,
   "metadata": {},
   "outputs": [
    {
     "name": "stdout",
     "output_type": "stream",
     "text": [
      "Label distribution of: 0.5669595264848581 0.20858808082526412 -0.24474920851943865\n",
      "Resampled to size (37,)\n",
      "Resampled to size (38,)\n"
     ]
    },
    {
     "name": "stderr",
     "output_type": "stream",
     "text": [
      "Choosing lambda with cross-validation: 100%|██████████| 2/2 [07:18<00:00, 219.26s/it]\n",
      "Choosing lambda with cross-validation: 100%|██████████| 3/3 [10:48<00:00, 216.02s/it]\n",
      "Choosing lambda with cross-validation: 100%|██████████| 4/4 [14:50<00:00, 222.70s/it]\n",
      "Choosing lambda with cross-validation: 100%|██████████| 5/5 [18:16<00:00, 219.39s/it]\n",
      "Choosing lambda with cross-validation: 100%|██████████| 4/4 [15:43<00:00, 235.88s/it]\n"
     ]
    },
    {
     "name": "stdout",
     "output_type": "stream",
     "text": [
      "LassoNetCV score: 0.2915414848299027\n",
      "LassoNet predicts 0.79 for case 1 with 0.72\n",
      "Label distribution of: 0.5738548357091768 0.20932917254901903 -0.3279210191356042\n",
      "Resampled to size (37,)\n",
      "Resampled to size (38,)\n"
     ]
    },
    {
     "name": "stderr",
     "output_type": "stream",
     "text": [
      "Choosing lambda with cross-validation: 100%|██████████| 2/2 [07:12<00:00, 216.10s/it]\n",
      "Choosing lambda with cross-validation: 100%|██████████| 3/3 [10:19<00:00, 206.55s/it]\n",
      "Choosing lambda with cross-validation: 100%|██████████| 4/4 [14:41<00:00, 220.37s/it]\n",
      "Choosing lambda with cross-validation: 100%|██████████| 5/5 [18:14<00:00, 218.97s/it]\n",
      "Choosing lambda with cross-validation: 100%|██████████| 5/5 [19:19<00:00, 231.85s/it]\n"
     ]
    },
    {
     "name": "stdout",
     "output_type": "stream",
     "text": [
      "LassoNetCV score: 0.29236041083797415\n",
      "LassoNet predicts 0.71 for case 2 with 0.47\n",
      "Label distribution of: 0.5677185809199048 0.20908232478622193 -0.24926099868801613\n",
      "Resampled to size (37,)\n",
      "Resampled to size (38,)\n"
     ]
    },
    {
     "name": "stderr",
     "output_type": "stream",
     "text": [
      "Choosing lambda with cross-validation: 100%|██████████| 2/2 [07:56<00:00, 238.33s/it]\n",
      "Choosing lambda with cross-validation: 100%|██████████| 3/3 [10:28<00:00, 209.42s/it]\n",
      "Choosing lambda with cross-validation: 100%|██████████| 4/4 [41:24<00:00, 621.06s/it]\n",
      "Choosing lambda with cross-validation: 100%|██████████| 5/5 [1:39:14<00:00, 1190.87s/it]\n",
      "Choosing lambda with cross-validation: 100%|██████████| 4/4 [1:06:16<00:00, 994.00s/it] \n"
     ]
    },
    {
     "name": "stdout",
     "output_type": "stream",
     "text": [
      "LassoNetCV score: 0.29176333714832803\n",
      "LassoNet predicts 0.9 for case 3 with 0.69\n",
      "Label distribution of: 0.5752269235227969 0.2084721065940771 -0.34398027688109245\n",
      "Resampled to size (37,)\n",
      "Resampled to size (38,)\n"
     ]
    },
    {
     "name": "stderr",
     "output_type": "stream",
     "text": [
      "Choosing lambda with cross-validation: 100%|██████████| 2/2 [32:22<00:00, 971.45s/it]\n",
      "Choosing lambda with cross-validation: 100%|██████████| 3/3 [48:28<00:00, 969.55s/it]\n",
      "Choosing lambda with cross-validation: 100%|██████████| 4/4 [1:04:36<00:00, 969.23s/it]\n",
      "Choosing lambda with cross-validation: 100%|██████████| 5/5 [1:20:30<00:00, 966.08s/it]\n",
      "Choosing lambda with cross-validation: 100%|██████████| 5/5 [1:22:29<00:00, 989.84s/it] \n"
     ]
    },
    {
     "name": "stdout",
     "output_type": "stream",
     "text": [
      "LassoNetCV score: 0.29344082335197896\n",
      "LassoNet predicts 0.7 for case 4 with 0.42\n",
      "Label distribution of: 0.5827907017222488 0.19744836811095323 -0.25025976222641483\n",
      "Resampled to size (37,)\n",
      "Resampled to size (38,)\n",
      "Resampled to size (39,)\n"
     ]
    },
    {
     "name": "stderr",
     "output_type": "stream",
     "text": [
      "Choosing lambda with cross-validation: 100%|██████████| 2/2 [33:25<00:00, 1002.52s/it]\n",
      "Choosing lambda with cross-validation: 100%|██████████| 3/3 [50:36<00:00, 1012.17s/it]\n",
      "Choosing lambda with cross-validation: 100%|██████████| 4/4 [1:07:20<00:00, 1010.09s/it]\n",
      "Choosing lambda with cross-validation: 100%|██████████| 5/5 [1:23:47<00:00, 1005.47s/it]\n",
      "Choosing lambda with cross-validation: 100%|██████████| 4/4 [1:09:25<00:00, 1041.30s/it]\n"
     ]
    },
    {
     "name": "stdout",
     "output_type": "stream",
     "text": [
      "LassoNetCV score: 0.5610842498760389\n",
      "LassoNet predicts 0.32 for case 5 with 0.15\n",
      "Label distribution of: 0.5746924331750638 0.20884605172212908 -0.33822865445502964\n",
      "Resampled to size (37,)\n",
      "Resampled to size (38,)\n"
     ]
    },
    {
     "name": "stderr",
     "output_type": "stream",
     "text": [
      "Choosing lambda with cross-validation: 100%|██████████| 2/2 [03:36<00:00, 108.23s/it]\n",
      "Choosing lambda with cross-validation: 100%|██████████| 3/3 [05:21<00:00, 107.23s/it]\n",
      "Choosing lambda with cross-validation: 100%|██████████| 4/4 [07:15<00:00, 108.98s/it]\n",
      "Choosing lambda with cross-validation: 100%|██████████| 5/5 [08:59<00:00, 107.80s/it]\n",
      "Choosing lambda with cross-validation: 100%|██████████| 5/5 [09:46<00:00, 117.24s/it]\n"
     ]
    },
    {
     "name": "stdout",
     "output_type": "stream",
     "text": [
      "LassoNetCV score: 0.2921492273925267\n",
      "LassoNet predicts 0.6 for case 6 with 0.44\n",
      "Label distribution of: 0.5624312245980657 0.20344924934212058 -0.28703446866429055\n",
      "Resampled to size (37,)\n",
      "Resampled to size (38,)\n"
     ]
    },
    {
     "name": "stderr",
     "output_type": "stream",
     "text": [
      "Choosing lambda with cross-validation: 100%|██████████| 2/2 [03:35<00:00, 107.77s/it]\n",
      "Choosing lambda with cross-validation: 100%|██████████| 3/3 [05:25<00:00, 108.43s/it]\n",
      "Choosing lambda with cross-validation: 100%|██████████| 4/4 [07:16<00:00, 109.06s/it]\n",
      "Choosing lambda with cross-validation: 100%|██████████| 5/5 [08:52<00:00, 106.53s/it]\n",
      "Choosing lambda with cross-validation: 100%|██████████| 5/5 [09:57<00:00, 119.53s/it]\n"
     ]
    },
    {
     "name": "stdout",
     "output_type": "stream",
     "text": [
      "LassoNetCV score: 0.2924660784349904\n",
      "LassoNet predicts 0.74 for case 7 with 0.88\n",
      "Label distribution of: 0.5758937568978073 0.20793336707043802 -0.35000008336051325\n",
      "Resampled to size (37,)\n",
      "Resampled to size (38,)\n"
     ]
    },
    {
     "name": "stderr",
     "output_type": "stream",
     "text": [
      "Choosing lambda with cross-validation: 100%|██████████| 2/2 [03:34<00:00, 107.25s/it]\n",
      "Choosing lambda with cross-validation: 100%|██████████| 3/3 [05:33<00:00, 111.31s/it]\n",
      "Choosing lambda with cross-validation: 100%|██████████| 4/4 [08:25<00:00, 126.27s/it]\n",
      "Choosing lambda with cross-validation: 100%|██████████| 5/5 [10:01<00:00, 120.29s/it]\n",
      "Choosing lambda with cross-validation: 100%|██████████| 5/5 [09:39<00:00, 115.95s/it]\n"
     ]
    },
    {
     "name": "stdout",
     "output_type": "stream",
     "text": [
      "LassoNetCV score: 0.29368901519051327\n",
      "LassoNet predicts 0.52 for case 8 with 0.4\n",
      "Label distribution of: 0.5702986081106105 0.20999601422390549 -0.27751686488556404\n",
      "Resampled to size (37,)\n",
      "Resampled to size (38,)\n"
     ]
    },
    {
     "name": "stderr",
     "output_type": "stream",
     "text": [
      "Choosing lambda with cross-validation: 100%|██████████| 2/2 [03:33<00:00, 106.91s/it]\n",
      "Choosing lambda with cross-validation: 100%|██████████| 3/3 [05:26<00:00, 108.74s/it]\n",
      "Choosing lambda with cross-validation: 100%|██████████| 4/4 [07:08<00:00, 107.13s/it]\n",
      "Choosing lambda with cross-validation: 100%|██████████| 5/5 [08:52<00:00, 106.50s/it]\n",
      "Choosing lambda with cross-validation: 100%|██████████| 5/5 [10:20<00:00, 124.20s/it]\n"
     ]
    },
    {
     "name": "stdout",
     "output_type": "stream",
     "text": [
      "LassoNetCV score: 0.291627567720654\n",
      "LassoNet predicts 0.65 for case 9 with 0.6\n",
      "Label distribution of: 0.5643062245980658 0.2060398064467874 -0.25159784666703033\n",
      "Resampled to size (37,)\n",
      "Resampled to size (38,)\n"
     ]
    },
    {
     "name": "stderr",
     "output_type": "stream",
     "text": [
      "Choosing lambda with cross-validation: 100%|██████████| 2/2 [03:41<00:00, 110.91s/it]\n",
      "Choosing lambda with cross-validation: 100%|██████████| 3/3 [05:12<00:00, 104.28s/it]\n",
      "Choosing lambda with cross-validation: 100%|██████████| 4/4 [06:52<00:00, 103.03s/it]\n",
      "Choosing lambda with cross-validation: 100%|██████████| 5/5 [08:43<00:00, 104.78s/it]\n",
      "Choosing lambda with cross-validation: 100%|██████████| 5/5 [09:31<00:00, 114.31s/it]\n"
     ]
    },
    {
     "name": "stdout",
     "output_type": "stream",
     "text": [
      "LassoNetCV score: 0.2911273955777921\n",
      "LassoNet predicts 0.6 for case 10 with 0.81\n",
      "Label distribution of: 0.5691451725886095 0.20973322323580731 -0.2629533781637346\n",
      "Resampled to size (37,)\n",
      "Resampled to size (38,)\n"
     ]
    },
    {
     "name": "stderr",
     "output_type": "stream",
     "text": [
      "Choosing lambda with cross-validation: 100%|██████████| 2/2 [03:39<00:00, 109.70s/it]\n",
      "Choosing lambda with cross-validation: 100%|██████████| 3/3 [05:14<00:00, 104.80s/it]\n",
      "Choosing lambda with cross-validation: 100%|██████████| 4/4 [06:55<00:00, 103.79s/it]\n",
      "Choosing lambda with cross-validation: 100%|██████████| 5/5 [08:57<00:00, 107.56s/it]\n",
      "Choosing lambda with cross-validation: 100%|██████████| 5/5 [09:55<00:00, 119.09s/it]\n"
     ]
    },
    {
     "name": "stdout",
     "output_type": "stream",
     "text": [
      "LassoNetCV score: 0.29149060058891463\n",
      "LassoNet predicts 0.82 for case 11 with 0.64\n",
      "Label distribution of: 0.5669751715300725 0.2085993111100245 -0.24481874200363993\n",
      "Resampled to size (37,)\n",
      "Resampled to size (38,)\n"
     ]
    },
    {
     "name": "stderr",
     "output_type": "stream",
     "text": [
      "Choosing lambda with cross-validation: 100%|██████████| 2/2 [04:32<00:00, 136.29s/it]\n",
      "Choosing lambda with cross-validation: 100%|██████████| 3/3 [06:46<00:00, 135.60s/it]\n",
      "Choosing lambda with cross-validation: 100%|██████████| 4/4 [09:18<00:00, 139.68s/it]\n",
      "Choosing lambda with cross-validation: 100%|██████████| 5/5 [11:06<00:00, 133.35s/it]\n",
      "Choosing lambda with cross-validation: 100%|██████████| 5/5 [12:02<00:00, 144.51s/it]\n"
     ]
    },
    {
     "name": "stdout",
     "output_type": "stream",
     "text": [
      "LassoNetCV score: 0.2916958010666705\n",
      "LassoNet predicts 0.7 for case 13 with 0.72\n",
      "Label distribution of: 0.5783286604955017 0.20527469945818264 -0.35630765675696446\n",
      "Resampled to size (37,)\n",
      "Resampled to size (38,)\n"
     ]
    },
    {
     "name": "stderr",
     "output_type": "stream",
     "text": [
      "Choosing lambda with cross-validation: 100%|██████████| 2/2 [03:30<00:00, 105.32s/it]\n",
      "Choosing lambda with cross-validation: 100%|██████████| 3/3 [05:13<00:00, 104.45s/it]\n",
      "Choosing lambda with cross-validation: 100%|██████████| 4/4 [07:13<00:00, 108.29s/it]\n",
      "Choosing lambda with cross-validation: 100%|██████████| 5/5 [08:36<00:00, 103.22s/it]\n",
      "Choosing lambda with cross-validation: 100%|██████████| 5/5 [09:32<00:00, 114.42s/it]\n"
     ]
    },
    {
     "name": "stdout",
     "output_type": "stream",
     "text": [
      "LassoNetCV score: 0.29519131118385755\n",
      "LassoNet predicts 0.72 for case 14 with 0.31\n",
      "Label distribution of: 0.5679867801536214 0.20923231991769523 -0.25136542100761594\n",
      "Resampled to size (37,)\n",
      "Resampled to size (38,)\n"
     ]
    },
    {
     "name": "stderr",
     "output_type": "stream",
     "text": [
      "Choosing lambda with cross-validation: 100%|██████████| 2/2 [03:41<00:00, 110.73s/it]\n",
      "Choosing lambda with cross-validation: 100%|██████████| 3/3 [05:13<00:00, 104.47s/it]\n",
      "Choosing lambda with cross-validation: 100%|██████████| 4/4 [07:02<00:00, 105.55s/it]\n",
      "Choosing lambda with cross-validation: 100%|██████████| 5/5 [08:33<00:00, 102.75s/it]\n",
      "Choosing lambda with cross-validation: 100%|██████████| 4/4 [07:52<00:00, 118.00s/it]\n"
     ]
    },
    {
     "name": "stdout",
     "output_type": "stream",
     "text": [
      "LassoNetCV score: 0.2909802229847228\n",
      "LassoNet predicts 0.57 for case 16 with 0.68\n",
      "Label distribution of: 0.5774859976810078 0.2063190239320207 -0.3574795129443696\n",
      "Resampled to size (37,)\n",
      "Resampled to size (38,)\n"
     ]
    },
    {
     "name": "stderr",
     "output_type": "stream",
     "text": [
      "Choosing lambda with cross-validation: 100%|██████████| 2/2 [03:30<00:00, 105.20s/it]\n",
      "Choosing lambda with cross-validation: 100%|██████████| 3/3 [05:13<00:00, 104.66s/it]\n",
      "Choosing lambda with cross-validation: 100%|██████████| 4/4 [07:02<00:00, 105.57s/it]\n",
      "Choosing lambda with cross-validation: 100%|██████████| 5/5 [08:44<00:00, 105.00s/it]\n",
      "Choosing lambda with cross-validation: 100%|██████████| 5/5 [48:31<00:00, 582.37s/it]\n"
     ]
    },
    {
     "name": "stdout",
     "output_type": "stream",
     "text": [
      "LassoNetCV score: 0.29376557796026914\n",
      "LassoNet predicts 0.43 for case 18 with 0.34\n",
      "Label distribution of: 0.5705357997614644 0.21002096073970725 -0.2807677568009367\n",
      "Resampled to size (37,)\n",
      "Resampled to size (38,)\n"
     ]
    },
    {
     "name": "stderr",
     "output_type": "stream",
     "text": [
      "Choosing lambda with cross-validation: 100%|██████████| 2/2 [32:20<00:00, 970.12s/it]\n",
      "Choosing lambda with cross-validation: 100%|██████████| 3/3 [48:58<00:00, 979.49s/it]\n",
      "Choosing lambda with cross-validation: 100%|██████████| 4/4 [1:03:42<00:00, 955.50s/it]\n",
      "Choosing lambda with cross-validation: 100%|██████████| 5/5 [1:20:11<00:00, 962.35s/it]\n",
      "Choosing lambda with cross-validation: 100%|██████████| 4/4 [1:05:14<00:00, 978.73s/it]\n"
     ]
    },
    {
     "name": "stdout",
     "output_type": "stream",
     "text": [
      "LassoNetCV score: 0.2916005980121431\n",
      "LassoNet predicts 0.56 for case 19 with 0.59\n",
      "Label distribution of: 0.5607985715368413 0.2006390097129064 -0.34802680409786524\n",
      "Resampled to size (37,)\n",
      "Resampled to size (38,)\n"
     ]
    },
    {
     "name": "stderr",
     "output_type": "stream",
     "text": [
      "Choosing lambda with cross-validation: 100%|██████████| 2/2 [32:14<00:00, 967.29s/it]\n",
      "Choosing lambda with cross-validation: 100%|██████████| 3/3 [48:02<00:00, 960.86s/it]\n",
      "Choosing lambda with cross-validation: 100%|██████████| 4/4 [1:03:59<00:00, 959.77s/it]\n",
      "Choosing lambda with cross-validation: 100%|██████████| 5/5 [1:19:55<00:00, 959.13s/it]\n",
      "Choosing lambda with cross-validation: 100%|██████████| 5/5 [1:21:47<00:00, 981.59s/it] \n"
     ]
    },
    {
     "name": "stdout",
     "output_type": "stream",
     "text": [
      "LassoNetCV score: 0.29327065269147123\n",
      "LassoNet predicts 0.68 for case 20 with 0.94\n",
      "Label distribution of: 0.5636330386570226 0.20518643494540414 -0.26076044933979126\n",
      "Resampled to size (37,)\n",
      "Resampled to size (38,)\n"
     ]
    },
    {
     "name": "stderr",
     "output_type": "stream",
     "text": [
      "Choosing lambda with cross-validation: 100%|██████████| 2/2 [32:12<00:00, 966.45s/it]\n",
      "Choosing lambda with cross-validation: 100%|██████████| 3/3 [48:27<00:00, 969.26s/it]\n",
      "Choosing lambda with cross-validation: 100%|██████████| 4/4 [1:02:14<00:00, 933.63s/it]\n",
      "Choosing lambda with cross-validation: 100%|██████████| 5/5 [08:39<00:00, 103.97s/it]\n",
      "Choosing lambda with cross-validation: 100%|██████████| 4/4 [07:45<00:00, 116.27s/it]\n"
     ]
    },
    {
     "name": "stdout",
     "output_type": "stream",
     "text": [
      "LassoNetCV score: 0.2919892025594739\n",
      "LassoNet predicts 0.83 for case 21 with 0.84\n",
      "Label distribution of: 0.5841874969994993 0.19415564179220104 -0.16306203646880674\n",
      "Resampled to size (37,)\n",
      "Resampled to size (38,)\n",
      "Resampled to size (39,)\n"
     ]
    },
    {
     "name": "stderr",
     "output_type": "stream",
     "text": [
      "Choosing lambda with cross-validation: 100%|██████████| 2/2 [03:35<00:00, 107.65s/it]\n",
      "Choosing lambda with cross-validation: 100%|██████████| 3/3 [05:27<00:00, 109.25s/it]\n",
      "Choosing lambda with cross-validation: 100%|██████████| 4/4 [07:10<00:00, 107.67s/it]\n",
      "Choosing lambda with cross-validation: 100%|██████████| 5/5 [08:50<00:00, 106.14s/it]\n",
      "Choosing lambda with cross-validation: 100%|██████████| 5/5 [09:58<00:00, 119.61s/it]\n"
     ]
    },
    {
     "name": "stdout",
     "output_type": "stream",
     "text": [
      "LassoNetCV score: 0.5510593260240102\n",
      "LassoNet predicts 0.3 for case 22 with 0.1\n",
      "Label distribution of: 0.5753580538663584 0.20837251231034953 -0.34527291849868297\n",
      "Resampled to size (37,)\n",
      "Resampled to size (38,)\n"
     ]
    },
    {
     "name": "stderr",
     "output_type": "stream",
     "text": [
      "Choosing lambda with cross-validation: 100%|██████████| 2/2 [03:33<00:00, 106.73s/it]\n",
      "Choosing lambda with cross-validation: 100%|██████████| 3/3 [05:24<00:00, 108.24s/it]\n",
      "Choosing lambda with cross-validation: 100%|██████████| 4/4 [07:18<00:00, 109.68s/it]\n",
      "Choosing lambda with cross-validation: 100%|██████████| 5/5 [09:05<00:00, 109.04s/it]\n",
      "Choosing lambda with cross-validation: 100%|██████████| 5/5 [09:49<00:00, 117.90s/it]\n"
     ]
    },
    {
     "name": "stdout",
     "output_type": "stream",
     "text": [
      "LassoNetCV score: 0.29273492271022394\n",
      "LassoNet predicts 0.69 for case 23 with 0.41\n",
      "Label distribution of: 0.5710026531694943 0.21004110516915736 -0.28733840263675836\n",
      "Resampled to size (37,)\n",
      "Resampled to size (38,)\n"
     ]
    },
    {
     "name": "stderr",
     "output_type": "stream",
     "text": [
      "Choosing lambda with cross-validation: 100%|██████████| 2/2 [03:32<00:00, 106.20s/it]\n",
      "Choosing lambda with cross-validation: 100%|██████████| 3/3 [05:25<00:00, 108.45s/it]\n",
      "Choosing lambda with cross-validation: 100%|██████████| 4/4 [07:26<00:00, 111.59s/it]\n",
      "Choosing lambda with cross-validation: 100%|██████████| 5/5 [08:53<00:00, 106.64s/it]\n",
      "Choosing lambda with cross-validation: 100%|██████████| 5/5 [09:48<00:00, 117.68s/it]\n"
     ]
    },
    {
     "name": "stdout",
     "output_type": "stream",
     "text": [
      "LassoNetCV score: 0.29118590611564055\n",
      "LassoNet predicts 0.66 for case 24 with 0.57\n",
      "Label distribution of: 0.568660732794787 0.20955271665824066 -0.2576598769765803\n",
      "Resampled to size (37,)\n",
      "Resampled to size (38,)\n"
     ]
    },
    {
     "name": "stderr",
     "output_type": "stream",
     "text": [
      "Choosing lambda with cross-validation: 100%|██████████| 2/2 [03:33<00:00, 106.84s/it]\n",
      "Choosing lambda with cross-validation: 100%|██████████| 3/3 [05:26<00:00, 108.73s/it]\n",
      "Choosing lambda with cross-validation: 100%|██████████| 4/4 [07:15<00:00, 108.87s/it]\n",
      "Choosing lambda with cross-validation: 100%|██████████| 5/5 [08:44<00:00, 104.92s/it]\n",
      "Choosing lambda with cross-validation: 100%|██████████| 5/5 [09:47<00:00, 117.54s/it]\n"
     ]
    },
    {
     "name": "stdout",
     "output_type": "stream",
     "text": [
      "LassoNetCV score: 0.2911829706429987\n",
      "LassoNet predicts 0.77 for case 25 with 0.66\n",
      "Label distribution of: 0.5694255265923677 0.20981871046638942 -0.2662656536773807\n",
      "Resampled to size (37,)\n",
      "Resampled to size (38,)\n"
     ]
    },
    {
     "name": "stderr",
     "output_type": "stream",
     "text": [
      "Choosing lambda with cross-validation: 100%|██████████| 2/2 [03:29<00:00, 104.85s/it]\n",
      "Choosing lambda with cross-validation: 100%|██████████| 3/3 [05:30<00:00, 110.04s/it]\n",
      "Choosing lambda with cross-validation: 100%|██████████| 4/4 [07:00<00:00, 105.09s/it]\n",
      "Choosing lambda with cross-validation: 100%|██████████| 5/5 [08:52<00:00, 106.57s/it]\n",
      "Choosing lambda with cross-validation: 100%|██████████| 5/5 [09:25<00:00, 113.11s/it]\n"
     ]
    },
    {
     "name": "stdout",
     "output_type": "stream",
     "text": [
      "LassoNetCV score: 0.2911551426764023\n",
      "LassoNet predicts 0.67 for case 26 with 0.63\n",
      "Label distribution of: 0.5738037736176735 0.20935457901382964 -0.3272511581002607\n",
      "Resampled to size (37,)\n",
      "Resampled to size (38,)\n"
     ]
    },
    {
     "name": "stderr",
     "output_type": "stream",
     "text": [
      "Choosing lambda with cross-validation: 100%|██████████| 2/2 [03:25<00:00, 103.00s/it]\n",
      "Choosing lambda with cross-validation: 100%|██████████| 3/3 [05:34<00:00, 111.64s/it]\n",
      "Choosing lambda with cross-validation: 100%|██████████| 4/4 [06:52<00:00, 103.09s/it]\n",
      "Choosing lambda with cross-validation: 100%|██████████| 5/5 [08:45<00:00, 105.04s/it]\n",
      "Choosing lambda with cross-validation: 100%|██████████| 4/4 [07:39<00:00, 114.95s/it]\n"
     ]
    },
    {
     "name": "stdout",
     "output_type": "stream",
     "text": [
      "LassoNetCV score: 0.292264914661171\n",
      "LassoNet predicts 0.77 for case 27 with 0.47\n",
      "Label distribution of: 0.5790052986721398 0.2043392189714069 -0.3521164038418525\n",
      "Resampled to size (37,)\n",
      "Resampled to size (38,)\n",
      "Resampled to size (39,)\n"
     ]
    },
    {
     "name": "stderr",
     "output_type": "stream",
     "text": [
      "Choosing lambda with cross-validation: 100%|██████████| 2/2 [03:37<00:00, 108.61s/it]\n",
      "Choosing lambda with cross-validation: 100%|██████████| 3/3 [05:23<00:00, 107.93s/it]\n",
      "Choosing lambda with cross-validation: 100%|██████████| 4/4 [07:02<00:00, 105.62s/it]\n",
      "Choosing lambda with cross-validation: 100%|██████████| 5/5 [08:56<00:00, 107.30s/it]\n",
      "Choosing lambda with cross-validation: 100%|██████████| 3/3 [05:58<00:00, 119.41s/it]\n"
     ]
    },
    {
     "name": "stdout",
     "output_type": "stream",
     "text": [
      "LassoNetCV score: 0.5609260953311684\n",
      "LassoNet predicts 0.16 for case 28 with 0.28\n",
      "Label distribution of: 0.5703496493519336 0.21000221972805436 -0.27821061318927803\n",
      "Resampled to size (37,)\n",
      "Resampled to size (38,)\n"
     ]
    },
    {
     "name": "stderr",
     "output_type": "stream",
     "text": [
      "Choosing lambda with cross-validation: 100%|██████████| 2/2 [03:26<00:00, 103.47s/it]\n",
      "Choosing lambda with cross-validation: 100%|██████████| 3/3 [05:24<00:00, 108.07s/it]\n",
      "Choosing lambda with cross-validation: 100%|██████████| 4/4 [06:50<00:00, 102.70s/it]\n",
      "Choosing lambda with cross-validation: 100%|██████████| 5/5 [08:59<00:00, 107.89s/it]\n",
      "Choosing lambda with cross-validation: 100%|██████████| 5/5 [09:23<00:00, 112.74s/it]\n"
     ]
    },
    {
     "name": "stdout",
     "output_type": "stream",
     "text": [
      "LassoNetCV score: 0.2912004601735606\n",
      "LassoNet predicts 0.77 for case 29 with 0.59\n",
      "Label distribution of: 0.572169786689569 0.20992345901172824 -0.3042853268818935\n",
      "Resampled to size (37,)\n",
      "Resampled to size (38,)\n"
     ]
    },
    {
     "name": "stderr",
     "output_type": "stream",
     "text": [
      "Choosing lambda with cross-validation: 100%|██████████| 2/2 [03:32<00:00, 106.08s/it]\n",
      "Choosing lambda with cross-validation: 100%|██████████| 3/3 [05:13<00:00, 104.54s/it]\n",
      "Choosing lambda with cross-validation: 100%|██████████| 4/4 [07:01<00:00, 105.43s/it]\n",
      "Choosing lambda with cross-validation: 100%|██████████| 5/5 [08:45<00:00, 105.07s/it]\n",
      "Choosing lambda with cross-validation: 100%|██████████| 4/4 [07:29<00:00, 112.37s/it]\n"
     ]
    },
    {
     "name": "stdout",
     "output_type": "stream",
     "text": [
      "LassoNetCV score: 0.2920282821242932\n",
      "LassoNet predicts 0.77 for case 30 with 0.53\n",
      "Label distribution of: 0.5629738602569804 0.2042678402570905 -0.27346537727473835\n",
      "Resampled to size (37,)\n",
      "Resampled to size (38,)\n"
     ]
    },
    {
     "name": "stderr",
     "output_type": "stream",
     "text": [
      "Choosing lambda with cross-validation: 100%|██████████| 2/2 [03:29<00:00, 104.97s/it]\n",
      "Choosing lambda with cross-validation: 100%|██████████| 3/3 [05:23<00:00, 107.75s/it]\n",
      "Choosing lambda with cross-validation: 100%|██████████| 4/4 [06:47<00:00, 101.89s/it]\n",
      "Choosing lambda with cross-validation: 100%|██████████| 5/5 [08:41<00:00, 104.28s/it]\n",
      "Choosing lambda with cross-validation: 100%|██████████| 5/5 [09:36<00:00, 115.33s/it]\n"
     ]
    },
    {
     "name": "stdout",
     "output_type": "stream",
     "text": [
      "LassoNetCV score: 0.29271407940848193\n",
      "LassoNet predicts 0.69 for case 31 with 0.86\n",
      "Label distribution of: 0.5735011834458024 0.20949562291124812 -0.3232022231648087\n",
      "Resampled to size (37,)\n",
      "Resampled to size (38,)\n"
     ]
    },
    {
     "name": "stderr",
     "output_type": "stream",
     "text": [
      "Choosing lambda with cross-validation: 100%|██████████| 2/2 [03:25<00:00, 102.93s/it]\n",
      "Choosing lambda with cross-validation: 100%|██████████| 3/3 [05:14<00:00, 104.74s/it]\n",
      "Choosing lambda with cross-validation: 100%|██████████| 4/4 [07:10<00:00, 107.66s/it]\n",
      "Choosing lambda with cross-validation: 100%|██████████| 5/5 [09:09<00:00, 109.81s/it]\n",
      "Choosing lambda with cross-validation: 100%|██████████| 5/5 [09:43<00:00, 116.67s/it]\n"
     ]
    },
    {
     "name": "stdout",
     "output_type": "stream",
     "text": [
      "LassoNetCV score: 0.2930407256449623\n",
      "LassoNet predicts 0.59 for case 32 with 0.48\n",
      "Label distribution of: 0.568660732794787 0.20955271665824066 -0.2576598769765803\n",
      "Resampled to size (37,)\n",
      "Resampled to size (38,)\n"
     ]
    },
    {
     "name": "stderr",
     "output_type": "stream",
     "text": [
      "Choosing lambda with cross-validation: 100%|██████████| 2/2 [03:33<00:00, 106.87s/it]\n",
      "Choosing lambda with cross-validation: 100%|██████████| 3/3 [05:37<00:00, 112.49s/it]\n",
      "Choosing lambda with cross-validation: 100%|██████████| 4/4 [07:15<00:00, 108.93s/it]\n",
      "Choosing lambda with cross-validation: 100%|██████████| 5/5 [08:54<00:00, 106.97s/it]\n",
      "Choosing lambda with cross-validation: 100%|██████████| 5/5 [10:00<00:00, 120.18s/it]\n"
     ]
    },
    {
     "name": "stdout",
     "output_type": "stream",
     "text": [
      "LassoNetCV score: 0.2922164809379231\n",
      "LassoNet predicts 0.79 for case 33 with 0.66\n",
      "Label distribution of: 0.5776164097832509 0.206166083456723 -0.3575627941827524\n",
      "Resampled to size (37,)\n",
      "Resampled to size (38,)\n"
     ]
    },
    {
     "name": "stderr",
     "output_type": "stream",
     "text": [
      "Choosing lambda with cross-validation: 100%|██████████| 2/2 [03:33<00:00, 106.99s/it]\n",
      "Choosing lambda with cross-validation: 100%|██████████| 3/3 [05:27<00:00, 109.17s/it]\n",
      "Choosing lambda with cross-validation: 100%|██████████| 4/4 [07:16<00:00, 109.12s/it]\n",
      "Choosing lambda with cross-validation: 100%|██████████| 5/5 [09:04<00:00, 108.82s/it]\n",
      "Choosing lambda with cross-validation: 100%|██████████| 5/5 [09:48<00:00, 117.68s/it]\n"
     ]
    },
    {
     "name": "stdout",
     "output_type": "stream",
     "text": [
      "LassoNetCV score: 0.2952877600705538\n",
      "LassoNet predicts 0.59 for case 34 with 0.33\n",
      "Label distribution of: 0.5731361230448997 0.20964415222225632 -0.31816132090731236\n",
      "Resampled to size (37,)\n",
      "Resampled to size (38,)\n"
     ]
    },
    {
     "name": "stderr",
     "output_type": "stream",
     "text": [
      "Choosing lambda with cross-validation: 100%|██████████| 2/2 [03:32<00:00, 106.14s/it]\n",
      "Choosing lambda with cross-validation: 100%|██████████| 3/3 [05:29<00:00, 109.69s/it]\n",
      "Choosing lambda with cross-validation: 100%|██████████| 4/4 [07:26<00:00, 111.71s/it]\n",
      "Choosing lambda with cross-validation: 100%|██████████| 5/5 [08:56<00:00, 107.39s/it]\n",
      "Choosing lambda with cross-validation: 100%|██████████| 5/5 [09:46<00:00, 117.29s/it]\n"
     ]
    },
    {
     "name": "stdout",
     "output_type": "stream",
     "text": [
      "LassoNetCV score: 0.2932499292958398\n",
      "LassoNet predicts 0.48 for case 35 with 0.49\n",
      "Label distribution of: 0.5652707307709053 0.20711530756483246 -0.2442832622694056\n",
      "Resampled to size (37,)\n",
      "Resampled to size (38,)\n"
     ]
    },
    {
     "name": "stderr",
     "output_type": "stream",
     "text": [
      "Choosing lambda with cross-validation: 100%|██████████| 2/2 [03:43<00:00, 111.89s/it]\n",
      "Choosing lambda with cross-validation: 100%|██████████| 3/3 [05:36<00:00, 112.33s/it]\n",
      "Choosing lambda with cross-validation: 100%|██████████| 4/4 [07:08<00:00, 107.05s/it]\n",
      "Choosing lambda with cross-validation: 100%|██████████| 5/5 [08:58<00:00, 107.78s/it]\n",
      "Choosing lambda with cross-validation: 100%|██████████| 4/4 [07:53<00:00, 118.31s/it]\n"
     ]
    },
    {
     "name": "stdout",
     "output_type": "stream",
     "text": [
      "LassoNetCV score: 0.29259070388662456\n",
      "LassoNet predicts 0.77 for case 36 with 0.78\n",
      "Label distribution of: 0.5644585150464088 0.20622109204736833 -0.2500116622013785\n",
      "Resampled to size (37,)\n",
      "Resampled to size (38,)\n"
     ]
    },
    {
     "name": "stderr",
     "output_type": "stream",
     "text": [
      "Choosing lambda with cross-validation: 100%|██████████| 2/2 [03:34<00:00, 107.43s/it]\n",
      "Choosing lambda with cross-validation: 100%|██████████| 3/3 [05:35<00:00, 111.97s/it]\n",
      "Choosing lambda with cross-validation: 100%|██████████| 4/4 [07:12<00:00, 108.06s/it]\n",
      "Choosing lambda with cross-validation: 100%|██████████| 5/5 [09:04<00:00, 108.95s/it]\n",
      "Choosing lambda with cross-validation: 100%|██████████| 5/5 [09:38<00:00, 115.61s/it]\n"
     ]
    },
    {
     "name": "stdout",
     "output_type": "stream",
     "text": [
      "LassoNetCV score: 0.292840513195588\n",
      "LassoNet predicts 0.65 for case 37 with 0.81\n",
      "Label distribution of: 0.5670343992012403 0.20864142707871972 -0.24509142715462312\n",
      "Resampled to size (37,)\n",
      "Resampled to size (38,)\n"
     ]
    },
    {
     "name": "stderr",
     "output_type": "stream",
     "text": [
      "Choosing lambda with cross-validation: 100%|██████████| 2/2 [03:32<00:00, 106.21s/it]\n",
      "Choosing lambda with cross-validation: 100%|██████████| 3/3 [05:48<00:00, 116.03s/it]\n",
      "Choosing lambda with cross-validation: 100%|██████████| 4/4 [07:07<00:00, 106.86s/it]\n",
      "Choosing lambda with cross-validation: 100%|██████████| 5/5 [08:54<00:00, 106.81s/it]\n",
      "Choosing lambda with cross-validation: 100%|██████████| 5/5 [09:55<00:00, 119.02s/it]\n"
     ]
    },
    {
     "name": "stdout",
     "output_type": "stream",
     "text": [
      "LassoNetCV score: 0.29212330697993105\n",
      "LassoNet predicts 0.83 for case 38 with 0.71\n",
      "Label distribution of: 0.5781196303951672 0.20554616966278674 -0.356990224910928\n",
      "Resampled to size (37,)\n",
      "Resampled to size (38,)\n"
     ]
    },
    {
     "name": "stderr",
     "output_type": "stream",
     "text": [
      "Choosing lambda with cross-validation: 100%|██████████| 2/2 [03:33<00:00, 106.63s/it]\n",
      "Choosing lambda with cross-validation: 100%|██████████| 3/3 [05:38<00:00, 112.83s/it]\n",
      "Choosing lambda with cross-validation: 100%|██████████| 4/4 [07:11<00:00, 107.84s/it]\n",
      "Choosing lambda with cross-validation: 100%|██████████| 5/5 [09:14<00:00, 110.90s/it]\n",
      "Choosing lambda with cross-validation: 100%|██████████| 4/4 [07:46<00:00, 116.73s/it]\n"
     ]
    },
    {
     "name": "stdout",
     "output_type": "stream",
     "text": [
      "LassoNetCV score: 0.2958834088344152\n",
      "LassoNet predicts 0.59 for case 39 with 0.32\n",
      "Label distribution of: 0.5637275208943621 0.2053113472299323 -0.2592529006209024\n",
      "Resampled to size (37,)\n",
      "Resampled to size (38,)\n"
     ]
    },
    {
     "name": "stderr",
     "output_type": "stream",
     "text": [
      "Choosing lambda with cross-validation: 100%|██████████| 2/2 [03:34<00:00, 107.15s/it]\n",
      "Choosing lambda with cross-validation: 100%|██████████| 3/3 [05:37<00:00, 112.43s/it]\n",
      "Choosing lambda with cross-validation: 100%|██████████| 4/4 [07:15<00:00, 108.90s/it]\n",
      "Choosing lambda with cross-validation: 100%|██████████| 5/5 [09:05<00:00, 109.08s/it]\n",
      "Choosing lambda with cross-validation: 100%|██████████| 4/4 [07:42<00:00, 115.73s/it]\n"
     ]
    },
    {
     "name": "stdout",
     "output_type": "stream",
     "text": [
      "LassoNetCV score: 0.29255519381284123\n",
      "LassoNet predicts 0.75 for case 40 with 0.83\n"
     ]
    }
   ],
   "source": [
    "# Noise compensated LASSO\n",
    "retrain = 1\n",
    "results_bls = np.zeros_like(per_change)\n",
    "K_nz_nc = []\n",
    "K_nz_nc_lr = []\n",
    "E_nz_nc = []\n",
    "E_nz_nc_lr = []\n",
    "R_nz_cd = []\n",
    "results_ls_aug = np.zeros_like(per_change)\n",
    "reg = True\n",
    "if retrain == 1:\n",
    "\n",
    "  aug = True\n",
    "  K_nz = []\n",
    "  c = 0\n",
    "\n",
    "  for j in np.arange(c,len(subsc)):\n",
    "      test_id = subsc[j]\n",
    "      test_index = subsc == test_id\n",
    "      train_index = subsc != test_id\n",
    "      X_train = X_all_c[train_index,:,:]\n",
    "      X_test = X_all_c[test_index,:,:]\n",
    "      y_train0 = per_change[train_index]\n",
    "      y_test = per_change[test_index]\n",
    "\n",
    "      y_cat = y_train0 <= 0.3\n",
    "      idy = np.where(y_cat==1)\n",
    "      # Cross validation\n",
    "                                            \n",
    "      X0_ss00,scaler_ss,X_test_ss0 = util.model_scale(skp.StandardScaler(),\n",
    "                                                  X_train,train_index,X_test,\n",
    "                                                  test_index,pre_updrs_iii_on,None,None,None,None,\n",
    "                                                  None,None,None,None,None,False,False,False)\n",
    "      cvn = 5\n",
    "      cv_scores = np.zeros((cvn+1,1))\n",
    "      cv_lgr_scores = np.zeros((cvn+1,1))\n",
    "      rs = 1\n",
    "      rcfs = 1000\n",
    "      (mu, sigma) = stats.norm.fit(y_train0)\n",
    "      kappa = stats.skew(y_train0)\n",
    "      print('Label distribution of:',mu,sigma,kappa)\n",
    "      Q = 10\n",
    "      for jj in np.arange(Q):\n",
    "        # Resample to avoid stratification errors\n",
    "        while np.sum(y_cat) < cvn:\n",
    "          np.random.seed(rs)\n",
    "          idyr = np.random.choice(np.asarray(idy).ravel())\n",
    "          X0_ss00 = np.append(X0_ss00,X0_ss00[idyr,:].reshape(1,-1),axis=0)\n",
    "          y_train0 = np.append(y_train0,y_train0[idyr])\n",
    "          y_cat = y_train0 <= 0.3\n",
    "          rs = rs+1\n",
    "          print('Resampled to size',y_train0.shape)\n",
    "          y_train_n = y_train0\n",
    "          X0_ss0_n = X0_ss00\n",
    "        if aug == True:\n",
    "          y_train_n = np.append(y_train_n,y_train0+(1.96*sigma)*np.random.normal(0,1,1))\n",
    "          y_cat = y_train_n <= 0.3\n",
    "          X0_ss0_n = np.append(X0_ss0_n,X0_ss00,axis=0)\n",
    "\n",
    "      y_train = y_train_n\n",
    "      X0_ss = X0_ss0_n\n",
    "      \n",
    "      for jj in np.arange(2,cvn+1):\n",
    "        #LASSONet\n",
    "        lr=1e-3 # NOT ACTUALLY PASSING\n",
    "        lassonet = LassoNetRegressorCV(\n",
    "        cv=jj,\n",
    "        M=1e-16, # Approximate standard LASSO\n",
    "        batch_size=len(y_train), # Leads to gradient descent optimization\n",
    "        hidden_dims=(5,), #CHANGE\n",
    "        #n_iters=(int(1e4),int(1e2)), # Iterations for objective function and path\n",
    "        tol=0.99,#1-est_ls.tol,  \n",
    "        #lambda_seq=alphas, # Path multipler and initial lambda disregarded\n",
    "        optim=partial(SGD,lr=lr,momentum=0.9), # Approximate coordinate descent\n",
    "        #backtrack=True, # Approximate monotonic coordinate descent path\n",
    "        verbose=1,\n",
    "        torch_seed=0,\n",
    "        random_state=0,\n",
    "        gamma=0.0, # No L2 regularization\n",
    "        gamma_skip=0.0, # No L2 regularization on skip connection\n",
    "        patience=None, # Disable early stopping\n",
    "        val_size=0.1,\n",
    "        )\n",
    "        with warnings.catch_warnings(category=UserWarning):     \n",
    "          warnings.simplefilter(\"ignore\") \n",
    "          est_lsn = lassonet.fit(X0_ss,y_train)\n",
    "        cv_scores[jj] = est_lsn.score(X0_ss,y_train)\n",
    "      with warnings.catch_warnings() and np.errstate(divide='ignore', invalid='ignore'):     \n",
    "        if reg == True: \n",
    "          best_cv = np.argmax(cv_scores)\n",
    "          #LASSONet\n",
    "          lr=1e-3 # NOT ACTUALLY PASSING\n",
    "          lassonet = LassoNetRegressorCV(\n",
    "          cv=best_cv,\n",
    "          M=1e-16, # Approximate standard LASSO\n",
    "          batch_size=len(y_train), # Leads to gradient descent optimization\n",
    "          hidden_dims=(100,), #CHANGE\n",
    "          #n_iters=(int(1e4),int(1e2)), # Iterations for objective function and path\n",
    "          tol=0.99,#1-est_ls.tol,  \n",
    "          #lambda_seq=alphas, # Path multipler and initial lambda disregarded\n",
    "          optim=partial(SGD,lr=lr,momentum=0.9), # Approximate coordinate descent\n",
    "          #backtrack=True, # Approximate monotonic coordinate descent path\n",
    "          verbose=1,\n",
    "          torch_seed=0,\n",
    "          random_state=0,\n",
    "          gamma=0.0, # No L2 regularization\n",
    "          gamma_skip=0.0, # No L2 regularization on skip connection\n",
    "          patience=None, # Disable early stopping\n",
    "          val_size=0.1,\n",
    "          )\n",
    "        with warnings.catch_warnings(category=UserWarning):  \n",
    "          warnings.simplefilter(\"ignore\")    \n",
    "          est_lsn = lassonet.fit(X0_ss,y_train)\n",
    "      print('LassoNetCV score:',est_lsn.score(X0_ss,y_train))\n",
    "      results_bls[j] = est_lsn.predict(X_test_ss0).item()\n",
    "      print('LassoNet predicts',str(np.round(results_bls[j],2)),'for case',str(int(subsc[j])),'with',str(np.round(per_change[j],2)))\n",
    "      c = c+1\n",
    "\n",
    "    \n"
   ]
  },
  {
   "cell_type": "code",
   "execution_count": 7,
   "metadata": {},
   "outputs": [
    {
     "data": {
      "image/png": "[encoded data removed]",
      "text/plain": [
       "<Figure size 1500x1000 with 2 Axes>"
      ]
     },
     "metadata": {},
     "output_type": "display_data"
    }
   ],
   "source": [
    "util.eval_prediction(np.vstack((pre_imp,\n",
    "                            #    results_ls_aug,\n",
    "                               results_bls,\n",
    "                               )),\n",
    "                               per_change,\n",
    "                               ['LCT',\n",
    "                                'Lasso',\n",
    "                                'LassoNet'\n",
    "                                ],(30,5))\n",
    "plt.ylim([0,2])\n",
    "plt.xlim([0,2])\n",
    "plt.style.use('default')\n",
    "\n"
   ]
  },
  {
   "cell_type": "code",
   "execution_count": 8,
   "metadata": {},
   "outputs": [
    {
     "data": {
      "text/plain": [
       "Text(0.1, 0.8, '$y=0.85\\\\; x+0.02$\\n$r = 0.64$\\n$p = 1.85e-05$')"
      ]
     },
     "execution_count": 8,
     "metadata": {},
     "output_type": "execute_result"
    },
    {
     "data": {
      "image/png": "[encoded data removed]",
      "text/plain": [
       "<Figure size 640x480 with 1 Axes>"
      ]
     },
     "metadata": {},
     "output_type": "display_data"
    }
   ],
   "source": [
    "plt.scatter(results_bls,per_change)\n",
    "lr = stats.linregress(results_bls,per_change)\n",
    "plt.plot(results_bls,results_bls*lr.slope+lr.intercept,color='r')\n",
    "plt.xlim(0,1)\n",
    "plt.ylim(0,1)\n",
    "plt.title('LassoNet')\n",
    "plt.ylabel(\"DBS improvement\",fontsize=14)\n",
    "plt.xlabel(\"Prediction\",fontsize=14)\n",
    "text = f\"$y={lr.slope:0.2f}\\; x{lr.intercept:+0.2f}$\\n$r = {lr.rvalue:0.2f}$\\n$p = {lr.pvalue:0.2e}$\"\n",
    "plt.text(0.1, 0.8, text,\n",
    "    fontsize=14, verticalalignment='top')"
   ]
  },
  {
   "cell_type": "code",
   "execution_count": 9,
   "metadata": {},
   "outputs": [
    {
     "data": {
      "text/plain": [
       "Text(0.1, 0.8, '$y=0.11\\\\; x+0.50$\\n$r = 0.12$\\n$p = 4.83e-01$')"
      ]
     },
     "execution_count": 9,
     "metadata": {},
     "output_type": "execute_result"
    },
    {
     "data": {
      "image/png": "[encoded data removed]",
      "text/plain": [
       "<Figure size 640x480 with 1 Axes>"
      ]
     },
     "metadata": {},
     "output_type": "display_data"
    }
   ],
   "source": [
    "plt.scatter(lct_change,per_change)\n",
    "lr = stats.linregress(lct_change,per_change)\n",
    "plt.plot(lct_change,lct_change*lr.slope+lr.intercept,color='r')\n",
    "plt.xlim(0,1)\n",
    "plt.ylim(0,1)\n",
    "plt.title('LCT')\n",
    "plt.ylabel(\"DBS improvement\",fontsize=14)\n",
    "plt.xlabel(\"Prediction\",fontsize=14)\n",
    "text = f\"$y={lr.slope:0.2f}\\; x{lr.intercept:+0.2f}$\\n$r = {lr.rvalue:0.2f}$\\n$p = {lr.pvalue:0.2e}$\"\n",
    "plt.text(0.1, 0.8, text,\n",
    "    fontsize=14, verticalalignment='top')"
   ]
  }
 ],
 "metadata": {
  "kernelspec": {
   "display_name": "pdlnetenv",
   "language": "python",
   "name": "python3"
  },
  "language_info": {
   "codemirror_mode": {
    "name": "ipython",
    "version": 3
   },
   "file_extension": ".py",
   "mimetype": "text/x-python",
   "name": "python",
   "nbconvert_exporter": "python",
   "pygments_lexer": "ipython3",
   "version": "3.11.7"
  }
 },
 "nbformat": 4,
 "nbformat_minor": 2
}
