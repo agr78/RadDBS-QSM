{
 "cells": [
  {
   "cell_type": "code",
   "execution_count": 1,
   "metadata": {},
   "outputs": [],
   "source": [
    "# Import libraries\n",
    "import sys\n",
    "sys.path.append('../')\n",
    "import matplotlib.pyplot as plt\n",
    "import sklearn.model_selection as sms\n",
    "import sklearn.linear_model as slm\n",
    "import sklearn.preprocessing as skp\n",
    "import sklearn.feature_selection as skf\n",
    "from sklearn.cluster import DBSCAN\n",
    "import numpy as np\n",
    "from IPython.display import HTML\n",
    "import util\n",
    "from scipy.spatial import cKDTree\n",
    "from lassonet import LassoNetRegressor, LassoNetRegressorCV\n",
    "import os\n",
    "import pandas as pd\n",
    "import pickle\n",
    "from torch.optim import SGD, Adam\n",
    "from functools import partial\n",
    "import torch\n",
    "import torch.nn.functional as F\n",
    "import traceback\n"
   ]
  },
  {
   "cell_type": "code",
   "execution_count": 2,
   "metadata": {},
   "outputs": [
    {
     "name": "stdout",
     "output_type": "stream",
     "text": [
      "Found ROIs [0. 1. 2. 3. 4. 5. 6.] at segmentation directory file 00000001 for case 1.0\n",
      "Found ROIs [0. 1. 2. 3. 4. 5. 6.] at segmentation directory file 00000002 for case 2.0\n",
      "Found ROIs [0. 1. 2. 3. 4. 5. 6.] at segmentation directory file 00000003 for case 3.0\n",
      "Found ROIs [0. 1. 2. 3. 4. 5. 6.] at segmentation directory file 00000004 for case 4.0\n",
      "Found ROIs [0. 1. 2. 3. 4. 5. 6.] at segmentation directory file 00000005 for case 5.0\n",
      "Found ROIs [0. 1. 2. 3. 4. 5. 6.] at segmentation directory file 00000006 for case 6.0\n",
      "Found ROIs [0. 1. 2. 3. 4. 5. 6.] at segmentation directory file 00000007 for case 7.0\n",
      "Found ROIs [0. 1. 2. 3. 4. 5. 6.] at segmentation directory file 00000008 for case 8.0\n",
      "Found ROIs [0. 1. 2. 3. 4. 5. 6.] at segmentation directory file 00000009 for case 9.0\n",
      "Found ROIs [0. 1. 2. 3. 4. 5. 6.] at segmentation directory file 00000010 for case 10.0\n",
      "Found ROIs [0. 1. 2. 3. 4. 5. 6.] at segmentation directory file 00000011 for case 11.0\n",
      "Found ROIs [0. 1. 2. 3. 4. 5. 6.] at segmentation directory file 00000013 for case 13.0\n",
      "Found ROIs [0. 1. 2. 3. 4. 5. 6.] at segmentation directory file 00000014 for case 14.0\n",
      "Found ROIs [0. 1. 2. 3. 4. 5. 6.] at segmentation directory file 00000016 for case 16.0\n",
      "Found ROIs [0. 1. 2. 3. 4. 5. 6.] at segmentation directory file 00000018 for case 18.0\n",
      "Found ROIs [0. 1. 2. 3. 4. 5. 6.] at segmentation directory file 00000019 for case 19.0\n",
      "Found ROIs [0. 1. 2. 3. 4. 5. 6.] at segmentation directory file 00000020 for case 20.0\n",
      "Found ROIs [0. 1. 2. 3. 4. 5. 6.] at segmentation directory file 00000021 for case 21.0\n",
      "Found ROIs [0. 1. 2. 3. 4. 5. 6.] at segmentation directory file 00000022 for case 22.0\n",
      "Found ROIs [0. 1. 2. 3. 4. 5. 6.] at segmentation directory file 00000023 for case 23.0\n",
      "Found ROIs [0. 1. 2. 3. 4. 5. 6.] at segmentation directory file 00000024 for case 24.0\n",
      "Found ROIs [0. 1. 2. 3. 4. 5. 6.] at segmentation directory file 00000025 for case 25.0\n",
      "Found ROIs [0. 1. 2. 3. 4. 5. 6.] at segmentation directory file 00000026 for case 26.0\n",
      "Found ROIs [0. 1. 2. 3. 4. 5. 6.] at segmentation directory file 00000027 for case 27.0\n",
      "Found ROIs [0. 1. 2. 3. 4. 5. 6.] at segmentation directory file 00000028 for case 28.0\n",
      "Found ROIs [0. 1. 2. 3. 4. 5. 6.] at segmentation directory file 00000029 for case 29.0\n",
      "Found ROIs [0. 1. 2. 3. 4. 5. 6.] at segmentation directory file 00000030 for case 30.0\n",
      "Found ROIs [0. 1. 2. 3. 4. 5. 6.] at segmentation directory file 00000031 for case 31.0\n",
      "Found ROIs [0. 1. 2. 3. 4. 5. 6.] at segmentation directory file 00000032 for case 32.0\n",
      "Found ROIs [0. 1. 2. 3. 4. 5. 6.] at segmentation directory file 00000033 for case 33.0\n",
      "Found ROIs [0. 1. 2. 3. 4. 5. 6.] at segmentation directory file 00000034 for case 34.0\n",
      "Found ROIs [0. 1. 2. 3. 4. 5. 6.] at segmentation directory file 00000035 for case 35.0\n",
      "Found ROIs [0. 1. 2. 3. 4. 5. 6.] at segmentation directory file 00000036 for case 36.0\n",
      "Found ROIs [0. 1. 2. 3. 4. 5. 6.] at segmentation directory file 00000037 for case 37.0\n",
      "Found ROIs [0. 1. 2. 3. 4. 5. 6.] at segmentation directory file 00000038 for case 38.0\n",
      "Found ROIs [0. 1. 2. 3. 4. 5. 6.] at segmentation directory file 00000039 for case 39.0\n",
      "Found ROIs [0. 1. 2. 3. 4. 5. 6.] at segmentation directory file 00000040 for case 40.0\n"
     ]
    }
   ],
   "source": [
    "# Augment with CHH data\n",
    "X0_gt = np.load('/home/ali/RadDBS-QSM/data/npy/old/X0_gt_chh_rois.npy')\n",
    "df = pd.read_csv('/home/ali/RadDBS-QSM/data/xlxs/updrs_iii_chh.csv')\n",
    "# Patient IDs\n",
    "subject_id = np.asarray(df[df.columns[0]])[1:]\n",
    "n_rois = 6\n",
    "# Data\n",
    "s_directory = open('/home/ali/RadDBS-QSM/data/roi/roi_list','r').read().splitlines()\n",
    "# Load\n",
    "with open('/home/ali/RadDBS-QSM/data/pickles/segs_chh', \"rb\") as fp:  \n",
    "    segs = pickle.load(fp)\n",
    "    n_cases = len(segs)\n",
    "with open('/home/ali/RadDBS-QSM/data/pickles/qsms_chh', \"rb\") as fp:  \n",
    "    qsms = pickle.load(fp)\n",
    "with open('/home/ali/RadDBS-QSM/data/phi/chh/Phi_mcl_gt_roi_chh', \"rb\") as fp:  \n",
    "    Phi_gt = pickle.load(fp)\n",
    "L = int(len(X0_gt)/n_cases)\n",
    "n_features = int(L/n_rois)\n",
    "# Only extract ROI if it is present in all cases\n",
    "seg_labels_all = segs[0]\n",
    "case_number = np.zeros_like(np.asarray(s_directory))\n",
    "for i in range(n_cases):\n",
    "    case_number[i] = float(s_directory[i][-2:])\n",
    "subject_id_corr = subject_id[np.in1d(subject_id,case_number)]\n",
    "for i in range(n_cases):\n",
    "    try:\n",
    "        print('Found ROIs',str(np.unique(segs[i])),'at segmentation directory file',s_directory[i],'for case',str(subject_id_corr[i]))\n",
    "    except:\n",
    "        print('Case',subject_id[i],'quarantined')\n",
    "pre_updrs_iii_off =  np.asarray(df[df.columns[3]][1:][np.in1d(subject_id,subject_id_corr)]).astype(float)                             \n",
    "pre_updrs_iii_on =  np.asarray(df[df.columns[4]][1:][np.in1d(subject_id,subject_id_corr)]).astype(float) \n",
    "post_updrs_iii_off =  np.asarray(df[df.columns[6]][1:][np.in1d(subject_id,subject_id_corr)]).astype(float) \n",
    "\n",
    "per_change = (pre_updrs_iii_off-post_updrs_iii_off)/pre_updrs_iii_off\n",
    "pre_updrs_off = pre_updrs_iii_off\n",
    "X_all_c = X0_gt.reshape(n_cases,n_rois,n_features)\n",
    "X_all_c = X_all_c[:,0:4,:]\n",
    "\n",
    "lct_change = (pre_updrs_iii_off-pre_updrs_iii_on)/pre_updrs_iii_off\n",
    "pre_imp = lct_change\n",
    "# X_all_c = X_all_c.reshape(X_all_c.shape[0],-1)\n",
    "# X_all_c = np.append(X_all_c,pre_imp.reshape(-1,1),axis=1)\n",
    "subsc = subject_id_corr\n",
    "subs_init = subsc"
   ]
  },
  {
   "cell_type": "code",
   "execution_count": 4,
   "metadata": {},
   "outputs": [
    {
     "name": "stdout",
     "output_type": "stream",
     "text": [
      "LassoCV score: 0.9013353368956226\n",
      "Lasso predicts 0.76 with regularization 0.02345\n"
     ]
    },
    {
     "name": "stderr",
     "output_type": "stream",
     "text": [
      "Choosing lambda with cross-validation: 100%|██████████| 5/5 [00:55<00:00, 11.19s/it]\n"
     ]
    },
    {
     "name": "stdout",
     "output_type": "stream",
     "text": [
      "Lambda start: 0.00010514676204212955\n",
      "Best lambda: 0.046843442748631725\n",
      "All LassoNet scores: [-127.07543764  -35.52532923  -42.65358837  -57.5664055  -188.15620817]\n",
      "Mean LassoNetCV score: -90.19539378108384\n",
      "LassoNet(\n",
      "  (dropout): Dropout(p=0, inplace=False)\n",
      "  (layers): ModuleList(\n",
      "    (0): Linear(in_features=6385, out_features=1, bias=True)\n",
      "    (1): Linear(in_features=1, out_features=1, bias=True)\n",
      "  )\n",
      "  (skip): Linear(in_features=6385, out_features=1, bias=True)\n",
      ")\n",
      "Lasso predicts 0.76 with regularization 0.02345 and 23 nonzero coefficients and LassoNet predicts 0.55 for case 1 with 0.72\n",
      "LassoCV score: 0.8943761452637891\n",
      "Lasso predicts 0.51 with regularization 0.02378\n"
     ]
    },
    {
     "name": "stderr",
     "output_type": "stream",
     "text": [
      "Choosing lambda with cross-validation: 100%|██████████| 5/5 [00:56<00:00, 11.25s/it]\n"
     ]
    },
    {
     "name": "stdout",
     "output_type": "stream",
     "text": [
      "Lambda start: 0.00010664623509202634\n",
      "Best lambda: 0.04751146598207964\n",
      "All LassoNet scores: [ -90.51085618  -62.03826122  -41.02737722  -66.79816275 -158.9277969 ]\n",
      "Mean LassoNetCV score: -83.860490856316\n",
      "LassoNet(\n",
      "  (dropout): Dropout(p=0, inplace=False)\n",
      "  (layers): ModuleList(\n",
      "    (0): Linear(in_features=6385, out_features=1, bias=True)\n",
      "    (1): Linear(in_features=1, out_features=1, bias=True)\n",
      "  )\n",
      "  (skip): Linear(in_features=6385, out_features=1, bias=True)\n",
      ")\n",
      "Lasso predicts 0.51 with regularization 0.02378 and 21 nonzero coefficients and LassoNet predicts 0.6 for case 2 with 0.47\n",
      "LassoCV score: 0.893843012453517\n",
      "Lasso predicts 0.7 with regularization 0.02413\n"
     ]
    },
    {
     "name": "stderr",
     "output_type": "stream",
     "text": [
      "Choosing lambda with cross-validation: 100%|██████████| 5/5 [00:55<00:00, 11.11s/it]\n"
     ]
    },
    {
     "name": "stdout",
     "output_type": "stream",
     "text": [
      "Lambda start: 0.00010822785204402868\n",
      "Best lambda: 0.05995064104396113\n",
      "All LassoNet scores: [ -70.02222185  -24.10518912  -21.8321009   -36.6090478  -169.69250561]\n",
      "Mean LassoNetCV score: -64.45221305677833\n",
      "LassoNet(\n",
      "  (dropout): Dropout(p=0, inplace=False)\n",
      "  (layers): ModuleList(\n",
      "    (0): Linear(in_features=6385, out_features=1, bias=True)\n",
      "    (1): Linear(in_features=1, out_features=1, bias=True)\n",
      "  )\n",
      "  (skip): Linear(in_features=6385, out_features=1, bias=True)\n",
      ")\n",
      "Lasso predicts 0.7 with regularization 0.02413 and 18 nonzero coefficients and LassoNet predicts 1.13 for case 3 with 0.69\n",
      "LassoCV score: 0.6521783917189226\n",
      "Lasso predicts 0.61 with regularization 0.04781\n"
     ]
    },
    {
     "name": "stderr",
     "output_type": "stream",
     "text": [
      "Choosing lambda with cross-validation: 100%|██████████| 5/5 [00:54<00:00, 10.94s/it]\n"
     ]
    },
    {
     "name": "stdout",
     "output_type": "stream",
     "text": [
      "Lambda start: 0.0001074354084490981\n",
      "Best lambda: 0.036274207859582824\n",
      "All LassoNet scores: [ -68.44328466 -103.5601322   -76.34665814  -93.96123172 -138.39779948]\n",
      "Mean LassoNetCV score: -96.14182124009936\n",
      "LassoNet(\n",
      "  (dropout): Dropout(p=0, inplace=False)\n",
      "  (layers): ModuleList(\n",
      "    (0): Linear(in_features=6385, out_features=1, bias=True)\n",
      "    (1): Linear(in_features=1, out_features=1, bias=True)\n",
      "  )\n",
      "  (skip): Linear(in_features=6385, out_features=1, bias=True)\n",
      ")\n",
      "Lasso predicts 0.61 with regularization 0.04781 and 14 nonzero coefficients and LassoNet predicts 0.57 for case 4 with 0.42\n",
      "LassoCV score: 0.0\n",
      "Lasso predicts 0.58 with regularization 0.10036\n"
     ]
    },
    {
     "name": "stderr",
     "output_type": "stream",
     "text": [
      "Choosing lambda with cross-validation: 100%|██████████| 5/5 [00:54<00:00, 10.96s/it]\n"
     ]
    },
    {
     "name": "stdout",
     "output_type": "stream",
     "text": [
      "Lambda start: 0.00010036359567121217\n",
      "Best lambda: 0.033222058481347586\n",
      "All LassoNet scores: [-246.98779674 -120.13259957  -67.47057885 -114.09502991 -170.82265897]\n",
      "Mean LassoNetCV score: -143.90173280757642\n",
      "LassoNet(\n",
      "  (dropout): Dropout(p=0, inplace=False)\n",
      "  (layers): ModuleList(\n",
      "    (0): Linear(in_features=6385, out_features=1, bias=True)\n",
      "    (1): Linear(in_features=1, out_features=1, bias=True)\n",
      "  )\n",
      "  (skip): Linear(in_features=6385, out_features=1, bias=True)\n",
      ")\n",
      "Lasso predicts 0.58 with regularization 0.10036 and 1 nonzero coefficients and LassoNet predicts 0.59 for case 5 with 0.15\n",
      "LassoCV score: 0.8958492016830151\n",
      "Lasso predicts 0.5 with regularization 0.02306\n"
     ]
    },
    {
     "name": "stderr",
     "output_type": "stream",
     "text": [
      "Choosing lambda with cross-validation: 100%|██████████| 5/5 [00:53<00:00, 10.69s/it]\n"
     ]
    },
    {
     "name": "stdout",
     "output_type": "stream",
     "text": [
      "Lambda start: 0.00010339669859422713\n",
      "Best lambda: 0.03491058851960003\n",
      "All LassoNet scores: [-138.39334832  -89.92876835  -67.9268043  -103.09917512 -167.32272287]\n",
      "Mean LassoNetCV score: -113.33416379447706\n",
      "LassoNet(\n",
      "  (dropout): Dropout(p=0, inplace=False)\n",
      "  (layers): ModuleList(\n",
      "    (0): Linear(in_features=6385, out_features=1, bias=True)\n",
      "    (1): Linear(in_features=1, out_features=1, bias=True)\n",
      "  )\n",
      "  (skip): Linear(in_features=6385, out_features=1, bias=True)\n",
      ")\n",
      "Lasso predicts 0.5 with regularization 0.02306 and 23 nonzero coefficients and LassoNet predicts 0.86 for case 6 with 0.44\n",
      "LassoCV score: 0.9713959174888699\n",
      "Lasso predicts 0.71 with regularization 0.01145\n"
     ]
    },
    {
     "name": "stderr",
     "output_type": "stream",
     "text": [
      "Choosing lambda with cross-validation: 100%|██████████| 5/5 [00:55<00:00, 11.13s/it]\n"
     ]
    },
    {
     "name": "stdout",
     "output_type": "stream",
     "text": [
      "Lambda start: 0.00010220000905583082\n",
      "Best lambda: 0.10053347800102776\n",
      "All LassoNet scores: [ -55.09064711   -3.32685045   -2.01877188  -14.64034433 -486.26596301]\n",
      "Mean LassoNetCV score: -112.26851535552369\n",
      "LassoNet(\n",
      "  (dropout): Dropout(p=0, inplace=False)\n",
      "  (layers): ModuleList(\n",
      "    (0): Linear(in_features=6385, out_features=1, bias=True)\n",
      "    (1): Linear(in_features=1, out_features=1, bias=True)\n",
      "  )\n",
      "  (skip): Linear(in_features=6385, out_features=1, bias=True)\n",
      ")\n",
      "Lasso predicts 0.71 with regularization 0.01145 and 26 nonzero coefficients and LassoNet predicts 1.0 for case 7 with 0.88\n",
      "LassoCV score: 0.7953372557071289\n",
      "Lasso predicts 0.51 with regularization 0.03476\n"
     ]
    },
    {
     "name": "stderr",
     "output_type": "stream",
     "text": [
      "Choosing lambda with cross-validation:   0%|          | 0/5 [00:02<?, ?it/s]\n"
     ]
    },
    {
     "ename": "KeyboardInterrupt",
     "evalue": "",
     "output_type": "error",
     "traceback": [
      "\u001b[0;31m---------------------------------------------------------------------------\u001b[0m",
      "\u001b[0;31mKeyboardInterrupt\u001b[0m                         Traceback (most recent call last)",
      "Cell \u001b[0;32mIn[4], line 59\u001b[0m\n\u001b[1;32m     42\u001b[0m lassonet \u001b[38;5;241m=\u001b[39m LassoNetRegressorCV(\n\u001b[1;32m     43\u001b[0m M\u001b[38;5;241m=\u001b[39m\u001b[38;5;241m1e-16\u001b[39m, \u001b[38;5;66;03m# Approximate standard LASSO\u001b[39;00m\n\u001b[1;32m     44\u001b[0m batch_size\u001b[38;5;241m=\u001b[39m\u001b[38;5;28mlen\u001b[39m(y_train), \u001b[38;5;66;03m# Leads to gradient descent optimization\u001b[39;00m\n\u001b[0;32m   (...)\u001b[0m\n\u001b[1;32m     56\u001b[0m patience\u001b[38;5;241m=\u001b[39m\u001b[38;5;28;01mNone\u001b[39;00m \u001b[38;5;66;03m# Disable early stopping\u001b[39;00m\n\u001b[1;32m     57\u001b[0m )\n\u001b[1;32m     58\u001b[0m \u001b[38;5;66;03m# What should these norms be...besides nonzero?\u001b[39;00m\n\u001b[0;32m---> 59\u001b[0m est_lsn \u001b[38;5;241m=\u001b[39m lassonet\u001b[38;5;241m.\u001b[39mfit(X0_ss,y_train)\n\u001b[1;32m     61\u001b[0m \u001b[38;5;28mprint\u001b[39m(\u001b[38;5;124m'\u001b[39m\u001b[38;5;124mBest lambda:\u001b[39m\u001b[38;5;124m'\u001b[39m,est_lsn\u001b[38;5;241m.\u001b[39mbest_lambda_)\n\u001b[1;32m     62\u001b[0m \u001b[38;5;28mprint\u001b[39m(\u001b[38;5;124m'\u001b[39m\u001b[38;5;124mAll LassoNet scores:\u001b[39m\u001b[38;5;124m'\u001b[39m,est_lsn\u001b[38;5;241m.\u001b[39mbest_cv_scores_)\n",
      "File \u001b[0;32m~/anaconda3/envs/pdlnetenv/lib/python3.11/site-packages/lassonet/interfaces.py:777\u001b[0m, in \u001b[0;36mBaseLassoNetCV.fit\u001b[0;34m(self, X, y)\u001b[0m\n\u001b[1;32m    768\u001b[0m \u001b[38;5;28;01mdef\u001b[39;00m \u001b[38;5;21mfit\u001b[39m(\n\u001b[1;32m    769\u001b[0m     \u001b[38;5;28mself\u001b[39m,\n\u001b[1;32m    770\u001b[0m     X,\n\u001b[1;32m    771\u001b[0m     y,\n\u001b[1;32m    772\u001b[0m ):\n\u001b[1;32m    773\u001b[0m \u001b[38;5;250m    \u001b[39m\u001b[38;5;124;03m\"\"\"Train the model.\u001b[39;00m\n\u001b[1;32m    774\u001b[0m \u001b[38;5;124;03m    Note that if `lambda_` is not given, the trained model\u001b[39;00m\n\u001b[1;32m    775\u001b[0m \u001b[38;5;124;03m    will most likely not use any feature.\u001b[39;00m\n\u001b[1;32m    776\u001b[0m \u001b[38;5;124;03m    \"\"\"\u001b[39;00m\n\u001b[0;32m--> 777\u001b[0m     \u001b[38;5;28mself\u001b[39m\u001b[38;5;241m.\u001b[39mpath(X, y, return_state_dicts\u001b[38;5;241m=\u001b[39m\u001b[38;5;28;01mFalse\u001b[39;00m)\n\u001b[1;32m    778\u001b[0m     \u001b[38;5;28;01mreturn\u001b[39;00m \u001b[38;5;28mself\u001b[39m\n",
      "File \u001b[0;32m~/anaconda3/envs/pdlnetenv/lib/python3.11/site-packages/lassonet/interfaces.py:711\u001b[0m, in \u001b[0;36mBaseLassoNetCV.path\u001b[0;34m(self, X, y, return_state_dicts)\u001b[0m\n\u001b[1;32m    708\u001b[0m         split_lambdas\u001b[38;5;241m.\u001b[39mappend(hist[\u001b[38;5;241m-\u001b[39m\u001b[38;5;241m1\u001b[39m]\u001b[38;5;241m.\u001b[39mlambda_)\n\u001b[1;32m    709\u001b[0m         split_scores\u001b[38;5;241m.\u001b[39mappend(model\u001b[38;5;241m.\u001b[39mscore(X[test_index], y[test_index]))\n\u001b[0;32m--> 711\u001b[0m     path \u001b[38;5;241m=\u001b[39m \u001b[38;5;28msuper\u001b[39m()\u001b[38;5;241m.\u001b[39mpath(\n\u001b[1;32m    712\u001b[0m         X[train_index],\n\u001b[1;32m    713\u001b[0m         y[train_index],\n\u001b[1;32m    714\u001b[0m         return_state_dicts\u001b[38;5;241m=\u001b[39m\u001b[38;5;28;01mFalse\u001b[39;00m,  \u001b[38;5;66;03m# avoid memory cost\u001b[39;00m\n\u001b[1;32m    715\u001b[0m         callback\u001b[38;5;241m=\u001b[39mcallback,\n\u001b[1;32m    716\u001b[0m     )\n\u001b[1;32m    717\u001b[0m     \u001b[38;5;28mself\u001b[39m\u001b[38;5;241m.\u001b[39mraw_paths_\u001b[38;5;241m.\u001b[39mappend(path)\n\u001b[1;32m    719\u001b[0m \u001b[38;5;66;03m# build final path\u001b[39;00m\n\u001b[1;32m    720\u001b[0m \u001b[38;5;66;03m#print('Raw lambdas:',raw_lambdas_)\u001b[39;00m\n",
      "File \u001b[0;32m~/anaconda3/envs/pdlnetenv/lib/python3.11/site-packages/lassonet/interfaces.py:397\u001b[0m, in \u001b[0;36mBaseLassoNet.path\u001b[0;34m(self, X, y, X_val, y_val, lambda_seq, lambda_max, return_state_dicts, callback, disable_lambda_warning)\u001b[0m\n\u001b[1;32m    394\u001b[0m \u001b[38;5;28mself\u001b[39m\u001b[38;5;241m.\u001b[39m_init_model(X_train, y_train)\n\u001b[1;32m    395\u001b[0m \u001b[38;5;28;01mif\u001b[39;00m \u001b[38;5;28mself\u001b[39m\u001b[38;5;241m.\u001b[39mn_iters_init:\n\u001b[1;32m    396\u001b[0m     hist\u001b[38;5;241m.\u001b[39mappend(\n\u001b[0;32m--> 397\u001b[0m         \u001b[38;5;28mself\u001b[39m\u001b[38;5;241m.\u001b[39m_train(\n\u001b[1;32m    398\u001b[0m             X_train,\n\u001b[1;32m    399\u001b[0m             y_train,\n\u001b[1;32m    400\u001b[0m             X_val,\n\u001b[1;32m    401\u001b[0m             y_val,\n\u001b[1;32m    402\u001b[0m             batch_size\u001b[38;5;241m=\u001b[39m\u001b[38;5;28mself\u001b[39m\u001b[38;5;241m.\u001b[39mbatch_size,\n\u001b[1;32m    403\u001b[0m             lambda_\u001b[38;5;241m=\u001b[39m\u001b[38;5;241m0\u001b[39m,\n\u001b[1;32m    404\u001b[0m             epochs\u001b[38;5;241m=\u001b[39m\u001b[38;5;28mself\u001b[39m\u001b[38;5;241m.\u001b[39mn_iters_init,\n\u001b[1;32m    405\u001b[0m             optimizer\u001b[38;5;241m=\u001b[39m\u001b[38;5;28mself\u001b[39m\u001b[38;5;241m.\u001b[39moptim_init(\u001b[38;5;28mself\u001b[39m\u001b[38;5;241m.\u001b[39mmodel\u001b[38;5;241m.\u001b[39mparameters()),\n\u001b[1;32m    406\u001b[0m             patience\u001b[38;5;241m=\u001b[39m\u001b[38;5;28mself\u001b[39m\u001b[38;5;241m.\u001b[39mpatience_init,\n\u001b[1;32m    407\u001b[0m             return_state_dict\u001b[38;5;241m=\u001b[39mreturn_state_dicts,\n\u001b[1;32m    408\u001b[0m         )\n\u001b[1;32m    409\u001b[0m     )\n\u001b[1;32m    410\u001b[0m \u001b[38;5;28;01mif\u001b[39;00m callback \u001b[38;5;129;01mis\u001b[39;00m \u001b[38;5;129;01mnot\u001b[39;00m \u001b[38;5;28;01mNone\u001b[39;00m:\n\u001b[1;32m    411\u001b[0m     callback(\u001b[38;5;28mself\u001b[39m, hist)\n",
      "File \u001b[0;32m~/anaconda3/envs/pdlnetenv/lib/python3.11/site-packages/lassonet/interfaces.py:305\u001b[0m, in \u001b[0;36mBaseLassoNet._train\u001b[0;34m(self, X_train, y_train, X_val, y_val, batch_size, epochs, lambda_, optimizer, return_state_dict, patience)\u001b[0m\n\u001b[1;32m    302\u001b[0m         loss \u001b[38;5;241m+\u001b[39m\u001b[38;5;241m=\u001b[39m ans\u001b[38;5;241m.\u001b[39mitem() \u001b[38;5;241m*\u001b[39m batch_size \u001b[38;5;241m/\u001b[39m n_train\n\u001b[1;32m    303\u001b[0m         \u001b[38;5;28;01mreturn\u001b[39;00m ans\n\u001b[0;32m--> 305\u001b[0m     optimizer\u001b[38;5;241m.\u001b[39mstep(closure)\n\u001b[1;32m    306\u001b[0m     model\u001b[38;5;241m.\u001b[39mprox(\n\u001b[1;32m    307\u001b[0m         lambda_\u001b[38;5;241m=\u001b[39mlambda_ \u001b[38;5;241m*\u001b[39m optimizer\u001b[38;5;241m.\u001b[39mparam_groups[\u001b[38;5;241m0\u001b[39m][\u001b[38;5;124m\"\u001b[39m\u001b[38;5;124mlr\u001b[39m\u001b[38;5;124m\"\u001b[39m],\n\u001b[1;32m    308\u001b[0m         M\u001b[38;5;241m=\u001b[39m\u001b[38;5;28mself\u001b[39m\u001b[38;5;241m.\u001b[39mM,\n\u001b[1;32m    309\u001b[0m     )\n\u001b[1;32m    311\u001b[0m \u001b[38;5;28;01mif\u001b[39;00m epoch \u001b[38;5;241m==\u001b[39m \u001b[38;5;241m0\u001b[39m:\n\u001b[1;32m    312\u001b[0m     \u001b[38;5;66;03m# fallback to running loss of first epoch\u001b[39;00m\n",
      "File \u001b[0;32m~/anaconda3/envs/pdlnetenv/lib/python3.11/site-packages/torch/optim/optimizer.py:385\u001b[0m, in \u001b[0;36mOptimizer.profile_hook_step.<locals>.wrapper\u001b[0;34m(*args, **kwargs)\u001b[0m\n\u001b[1;32m    380\u001b[0m         \u001b[38;5;28;01melse\u001b[39;00m:\n\u001b[1;32m    381\u001b[0m             \u001b[38;5;28;01mraise\u001b[39;00m \u001b[38;5;167;01mRuntimeError\u001b[39;00m(\n\u001b[1;32m    382\u001b[0m                 \u001b[38;5;124mf\u001b[39m\u001b[38;5;124m\"\u001b[39m\u001b[38;5;132;01m{\u001b[39;00mfunc\u001b[38;5;132;01m}\u001b[39;00m\u001b[38;5;124m must return None or a tuple of (new_args, new_kwargs), but got \u001b[39m\u001b[38;5;132;01m{\u001b[39;00mresult\u001b[38;5;132;01m}\u001b[39;00m\u001b[38;5;124m.\u001b[39m\u001b[38;5;124m\"\u001b[39m\n\u001b[1;32m    383\u001b[0m             )\n\u001b[0;32m--> 385\u001b[0m out \u001b[38;5;241m=\u001b[39m func(\u001b[38;5;241m*\u001b[39margs, \u001b[38;5;241m*\u001b[39m\u001b[38;5;241m*\u001b[39mkwargs)\n\u001b[1;32m    386\u001b[0m \u001b[38;5;28mself\u001b[39m\u001b[38;5;241m.\u001b[39m_optimizer_step_code()\n\u001b[1;32m    388\u001b[0m \u001b[38;5;66;03m# call optimizer step post hooks\u001b[39;00m\n",
      "File \u001b[0;32m~/anaconda3/envs/pdlnetenv/lib/python3.11/site-packages/torch/optim/optimizer.py:76\u001b[0m, in \u001b[0;36m_use_grad_for_differentiable.<locals>._use_grad\u001b[0;34m(self, *args, **kwargs)\u001b[0m\n\u001b[1;32m     74\u001b[0m     torch\u001b[38;5;241m.\u001b[39mset_grad_enabled(\u001b[38;5;28mself\u001b[39m\u001b[38;5;241m.\u001b[39mdefaults[\u001b[38;5;124m'\u001b[39m\u001b[38;5;124mdifferentiable\u001b[39m\u001b[38;5;124m'\u001b[39m])\n\u001b[1;32m     75\u001b[0m     torch\u001b[38;5;241m.\u001b[39m_dynamo\u001b[38;5;241m.\u001b[39mgraph_break()\n\u001b[0;32m---> 76\u001b[0m     ret \u001b[38;5;241m=\u001b[39m func(\u001b[38;5;28mself\u001b[39m, \u001b[38;5;241m*\u001b[39margs, \u001b[38;5;241m*\u001b[39m\u001b[38;5;241m*\u001b[39mkwargs)\n\u001b[1;32m     77\u001b[0m \u001b[38;5;28;01mfinally\u001b[39;00m:\n\u001b[1;32m     78\u001b[0m     torch\u001b[38;5;241m.\u001b[39m_dynamo\u001b[38;5;241m.\u001b[39mgraph_break()\n",
      "File \u001b[0;32m~/anaconda3/envs/pdlnetenv/lib/python3.11/site-packages/torch/optim/adam.py:146\u001b[0m, in \u001b[0;36mAdam.step\u001b[0;34m(self, closure)\u001b[0m\n\u001b[1;32m    144\u001b[0m \u001b[38;5;28;01mif\u001b[39;00m closure \u001b[38;5;129;01mis\u001b[39;00m \u001b[38;5;129;01mnot\u001b[39;00m \u001b[38;5;28;01mNone\u001b[39;00m:\n\u001b[1;32m    145\u001b[0m     \u001b[38;5;28;01mwith\u001b[39;00m torch\u001b[38;5;241m.\u001b[39menable_grad():\n\u001b[0;32m--> 146\u001b[0m         loss \u001b[38;5;241m=\u001b[39m closure()\n\u001b[1;32m    148\u001b[0m \u001b[38;5;28;01mfor\u001b[39;00m group \u001b[38;5;129;01min\u001b[39;00m \u001b[38;5;28mself\u001b[39m\u001b[38;5;241m.\u001b[39mparam_groups:\n\u001b[1;32m    149\u001b[0m     params_with_grad \u001b[38;5;241m=\u001b[39m []\n",
      "File \u001b[0;32m~/anaconda3/envs/pdlnetenv/lib/python3.11/site-packages/lassonet/interfaces.py:301\u001b[0m, in \u001b[0;36mBaseLassoNet._train.<locals>.closure\u001b[0;34m()\u001b[0m\n\u001b[1;32m    296\u001b[0m     \u001b[38;5;28mprint\u001b[39m(\n\u001b[1;32m    297\u001b[0m         \u001b[38;5;124m\"\u001b[39m\u001b[38;5;124ml2_regularization_skip:\u001b[39m\u001b[38;5;124m\"\u001b[39m,\n\u001b[1;32m    298\u001b[0m         model\u001b[38;5;241m.\u001b[39ml2_regularization_skip(),\n\u001b[1;32m    299\u001b[0m     )\n\u001b[1;32m    300\u001b[0m     \u001b[38;5;28;01massert\u001b[39;00m \u001b[38;5;28;01mFalse\u001b[39;00m\n\u001b[0;32m--> 301\u001b[0m ans\u001b[38;5;241m.\u001b[39mbackward()\n\u001b[1;32m    302\u001b[0m loss \u001b[38;5;241m+\u001b[39m\u001b[38;5;241m=\u001b[39m ans\u001b[38;5;241m.\u001b[39mitem() \u001b[38;5;241m*\u001b[39m batch_size \u001b[38;5;241m/\u001b[39m n_train\n\u001b[1;32m    303\u001b[0m \u001b[38;5;28;01mreturn\u001b[39;00m ans\n",
      "File \u001b[0;32m~/anaconda3/envs/pdlnetenv/lib/python3.11/site-packages/torch/_tensor.py:463\u001b[0m, in \u001b[0;36mTensor.backward\u001b[0;34m(self, gradient, retain_graph, create_graph, inputs)\u001b[0m\n\u001b[1;32m    460\u001b[0m     \u001b[38;5;66;03m# All strings are unicode in Python 3.\u001b[39;00m\n\u001b[1;32m    461\u001b[0m     \u001b[38;5;28;01mreturn\u001b[39;00m torch\u001b[38;5;241m.\u001b[39m_tensor_str\u001b[38;5;241m.\u001b[39m_str(\u001b[38;5;28mself\u001b[39m, tensor_contents\u001b[38;5;241m=\u001b[39mtensor_contents)\n\u001b[0;32m--> 463\u001b[0m \u001b[38;5;28;01mdef\u001b[39;00m \u001b[38;5;21mbackward\u001b[39m(\n\u001b[1;32m    464\u001b[0m     \u001b[38;5;28mself\u001b[39m, gradient\u001b[38;5;241m=\u001b[39m\u001b[38;5;28;01mNone\u001b[39;00m, retain_graph\u001b[38;5;241m=\u001b[39m\u001b[38;5;28;01mNone\u001b[39;00m, create_graph\u001b[38;5;241m=\u001b[39m\u001b[38;5;28;01mFalse\u001b[39;00m, inputs\u001b[38;5;241m=\u001b[39m\u001b[38;5;28;01mNone\u001b[39;00m\n\u001b[1;32m    465\u001b[0m ):\n\u001b[1;32m    466\u001b[0m \u001b[38;5;250m    \u001b[39m\u001b[38;5;124mr\u001b[39m\u001b[38;5;124;03m\"\"\"Computes the gradient of current tensor wrt graph leaves.\u001b[39;00m\n\u001b[1;32m    467\u001b[0m \n\u001b[1;32m    468\u001b[0m \u001b[38;5;124;03m    The graph is differentiated using the chain rule. If the tensor is\u001b[39;00m\n\u001b[0;32m   (...)\u001b[0m\n\u001b[1;32m    510\u001b[0m \u001b[38;5;124;03m            used to compute the attr::tensors.\u001b[39;00m\n\u001b[1;32m    511\u001b[0m \u001b[38;5;124;03m    \"\"\"\u001b[39;00m\n\u001b[1;32m    512\u001b[0m     \u001b[38;5;28;01mif\u001b[39;00m has_torch_function_unary(\u001b[38;5;28mself\u001b[39m):\n",
      "\u001b[0;31mKeyboardInterrupt\u001b[0m: "
     ]
    }
   ],
   "source": [
    "# Training parameters\n",
    "scoring = 'r2'\n",
    "results_bls = np.zeros_like(per_change)\n",
    "results_ls = np.zeros_like(per_change)\n",
    "scaler = skp.StandardScaler()\n",
    "#X = X_all_c.astype(float)#scaler.fit_transform(np.asarray(X_all_c,dtype=float).reshape(X_all_c.shape[0],-1))\n",
    "epsilon = 1e-1\n",
    "ledd = np.zeros_like(per_change)\n",
    "# Train\n",
    "for j in np.arange(len(subsc)):\n",
    "    test_id = subsc[j]\n",
    "    test_index = subsc == test_id\n",
    "    train_index = subsc != test_id\n",
    "    X_train = X_all_c[train_index,:,:]\n",
    "    X_test = X_all_c[test_index,:,:]\n",
    "    y_train = per_change[train_index]\n",
    "    y_test = per_change[test_index]\n",
    "    X0_ss0,scaler_ss,X_test_ss0 = util.model_scale(skp.StandardScaler(),\n",
    "                                                X_train,train_index,X_test,\n",
    "                                                test_index,pre_updrs_off,ledd,False,False,False)\n",
    "    with np.errstate(divide='ignore', invalid='ignore'):\n",
    "      # Feature selection\n",
    "      sel = skf.SelectKBest(skf.r_regression,k='all')\n",
    "      X0_ss = sel.fit_transform(X0_ss0,y_train)\n",
    "      X_test_ss = sel.transform(X_test_ss0)\n",
    "      y_n = cKDTree(X0_ss).query(X_test_ss, k=1)[1]\n",
    "    \n",
    "      Xy = np.dot(X0_ss.T,y_train)\n",
    "    if Xy.ndim == 1:\n",
    "        Xy = Xy[:, np.newaxis]\n",
    "    alpha_max = np.sqrt(np.sum(Xy**2, axis=1)).max()/len(y_train) \n",
    "    alphas = np.linspace(alpha_max*1e-3,alpha_max,10)\n",
    "    # LASSO\n",
    "    lasso = slm.LassoCV(max_iter=int(1e5),n_jobs=-1,alphas=alphas,random_state=0)\n",
    "    est_ls = lasso.fit(X0_ss,y_train)\n",
    "    print('LassoCV score:',est_ls.score(X0_ss,y_train))\n",
    "    results_ls[j] = est_ls.predict(X_test_ss).item()\n",
    "    print('Lasso predicts',str(np.round(results_ls[j],2)),\n",
    "          'with regularization',str(np.round(est_ls.alpha_,5)))\n",
    "    # LASSONet\n",
    "    lr=1e-3\n",
    "    lassonet = LassoNetRegressorCV(\n",
    "    M=1e-16, # Approximate standard LASSO\n",
    "    batch_size=len(y_train), # Leads to gradient descent optimization\n",
    "    hidden_dims=(1,),\n",
    "    n_iters=(int(1e5),int(1e2)), # Iterations for objective function and path\n",
    "    tol=0.99,#1-est_ls.tol,  \n",
    "    lambda_seq=alphas, # Path multipler and initial lambda disregarded\n",
    "    optim=partial(Adam,lr=lr,amsgrad=True), # Approximate coordinate descent\n",
    "    #backtrack=True, # Approximate monotonic coordinate descent path\n",
    "    verbose=1,\n",
    "    torch_seed=0,\n",
    "    random_state=0,\n",
    "    gamma=0.0, # No L2 regularization\n",
    "    gamma_skip=0.0, # No L2 regularization on skip connection\n",
    "    patience=None # Disable early stopping\n",
    "    )\n",
    "    # What should these norms be...besides nonzero?\n",
    "    est_lsn = lassonet.fit(X0_ss,y_train)\n",
    "  \n",
    "    print('Best lambda:',est_lsn.best_lambda_)\n",
    "    print('All LassoNet scores:',est_lsn.best_cv_scores_)\n",
    "    print('Mean LassoNetCV score:',est_lsn.best_cv_score_)\n",
    "    print(lassonet.model)\n",
    "    results_bls[j] = est_lsn.predict(X_test_ss).item()\n",
    "\n",
    "    # Training status\n",
    "    print('Lasso predicts',str(np.round(results_ls[j],2)),\n",
    "          'with regularization',str(np.round(est_ls.alpha_,5)),\n",
    "          'and',str(np.sum(est_ls.coef_!=0)),'nonzero coefficients',\n",
    "          'and LassoNet predicts',str(np.round(results_bls[j],2)),\n",
    "          'for case',str(int(subsc[j])),'with',str(np.round(per_change[j],2)))\n",
    "\n"
   ]
  },
  {
   "cell_type": "code",
   "execution_count": null,
   "metadata": {},
   "outputs": [],
   "source": [
    "util.eval_prediction(np.vstack((pre_imp,\n",
    "                               results_ls,\n",
    "                               results_bls,\n",
    "                               )),\n",
    "                               per_change,\n",
    "                               ['LCT',\n",
    "                                'Lasso',\n",
    "                                'LassoNet'\n",
    "                                ],(30,5))\n",
    "plt.ylim([0,2])\n",
    "plt.xlim([0,2])\n",
    "plt.style.use('default')\n",
    "\n"
   ]
  }
 ],
 "metadata": {
  "kernelspec": {
   "display_name": "pdradenv",
   "language": "python",
   "name": "python3"
  },
  "language_info": {
   "codemirror_mode": {
    "name": "ipython",
    "version": 3
   },
   "file_extension": ".py",
   "mimetype": "text/x-python",
   "name": "python",
   "nbconvert_exporter": "python",
   "pygments_lexer": "ipython3",
   "version": "3.11.7"
  }
 },
 "nbformat": 4,
 "nbformat_minor": 2
}
