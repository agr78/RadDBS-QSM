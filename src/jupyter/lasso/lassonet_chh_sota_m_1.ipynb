{
 "cells": [
  {
   "cell_type": "code",
   "execution_count": 1,
   "metadata": {},
   "outputs": [],
   "source": [
    "# Import libraries\n",
    "import sys\n",
    "sys.path.append('../')\n",
    "import matplotlib.pyplot as plt\n",
    "import sklearn.model_selection as sms\n",
    "import sklearn.linear_model as slm\n",
    "import sklearn.preprocessing as skp\n",
    "import sklearn.feature_selection as skf\n",
    "from sklearn.cluster import DBSCAN\n",
    "import numpy as np\n",
    "from IPython.display import HTML\n",
    "import util\n",
    "from scipy.spatial import cKDTree\n",
    "from lassonet import LassoNetRegressor, LassoNetRegressorCV\n",
    "import os\n",
    "import pandas as pd\n",
    "import pickle\n",
    "from torch.optim import SGD, Adam\n",
    "from functools import partial\n",
    "import torch\n",
    "import torch.nn.functional as F\n",
    "import traceback\n",
    "from scipy import stats\n"
   ]
  },
  {
   "cell_type": "code",
   "execution_count": 2,
   "metadata": {},
   "outputs": [
    {
     "name": "stdout",
     "output_type": "stream",
     "text": [
      "Found ROIs [0. 1. 2. 3. 4. 5. 6.] at segmentation directory file 00000001 for case 1.0\n",
      "Found ROIs [0. 1. 2. 3. 4. 5. 6.] at segmentation directory file 00000002 for case 2.0\n",
      "Found ROIs [0. 1. 2. 3. 4. 5. 6.] at segmentation directory file 00000003 for case 3.0\n",
      "Found ROIs [0. 1. 2. 3. 4. 5. 6.] at segmentation directory file 00000004 for case 4.0\n",
      "Found ROIs [0. 1. 2. 3. 4. 5. 6.] at segmentation directory file 00000005 for case 5.0\n",
      "Found ROIs [0. 1. 2. 3. 4. 5. 6.] at segmentation directory file 00000006 for case 6.0\n",
      "Found ROIs [0. 1. 2. 3. 4. 5. 6.] at segmentation directory file 00000007 for case 7.0\n",
      "Found ROIs [0. 1. 2. 3. 4. 5. 6.] at segmentation directory file 00000008 for case 8.0\n",
      "Found ROIs [0. 1. 2. 3. 4. 5. 6.] at segmentation directory file 00000009 for case 9.0\n",
      "Found ROIs [0. 1. 2. 3. 4. 5. 6.] at segmentation directory file 00000010 for case 10.0\n",
      "Found ROIs [0. 1. 2. 3. 4. 5. 6.] at segmentation directory file 00000011 for case 11.0\n",
      "Found ROIs [0. 1. 2. 3. 4. 5. 6.] at segmentation directory file 00000013 for case 13.0\n",
      "Found ROIs [0. 1. 2. 3. 4. 5. 6.] at segmentation directory file 00000014 for case 14.0\n",
      "Found ROIs [0. 1. 2. 3. 4. 5. 6.] at segmentation directory file 00000016 for case 16.0\n",
      "Found ROIs [0. 1. 2. 3. 4. 5. 6.] at segmentation directory file 00000018 for case 18.0\n",
      "Found ROIs [0. 1. 2. 3. 4. 5. 6.] at segmentation directory file 00000019 for case 19.0\n",
      "Found ROIs [0. 1. 2. 3. 4. 5. 6.] at segmentation directory file 00000020 for case 20.0\n",
      "Found ROIs [0. 1. 2. 3. 4. 5. 6.] at segmentation directory file 00000021 for case 21.0\n",
      "Found ROIs [0. 1. 2. 3. 4. 5. 6.] at segmentation directory file 00000022 for case 22.0\n",
      "Found ROIs [0. 1. 2. 3. 4. 5. 6.] at segmentation directory file 00000023 for case 23.0\n",
      "Found ROIs [0. 1. 2. 3. 4. 5. 6.] at segmentation directory file 00000024 for case 24.0\n",
      "Found ROIs [0. 1. 2. 3. 4. 5. 6.] at segmentation directory file 00000025 for case 25.0\n",
      "Found ROIs [0. 1. 2. 3. 4. 5. 6.] at segmentation directory file 00000026 for case 26.0\n",
      "Found ROIs [0. 1. 2. 3. 4. 5. 6.] at segmentation directory file 00000027 for case 27.0\n",
      "Found ROIs [0. 1. 2. 3. 4. 5. 6.] at segmentation directory file 00000028 for case 28.0\n",
      "Found ROIs [0. 1. 2. 3. 4. 5. 6.] at segmentation directory file 00000029 for case 29.0\n",
      "Found ROIs [0. 1. 2. 3. 4. 5. 6.] at segmentation directory file 00000030 for case 30.0\n",
      "Found ROIs [0. 1. 2. 3. 4. 5. 6.] at segmentation directory file 00000031 for case 31.0\n",
      "Found ROIs [0. 1. 2. 3. 4. 5. 6.] at segmentation directory file 00000032 for case 32.0\n",
      "Found ROIs [0. 1. 2. 3. 4. 5. 6.] at segmentation directory file 00000033 for case 33.0\n",
      "Found ROIs [0. 1. 2. 3. 4. 5. 6.] at segmentation directory file 00000034 for case 34.0\n",
      "Found ROIs [0. 1. 2. 3. 4. 5. 6.] at segmentation directory file 00000035 for case 35.0\n",
      "Found ROIs [0. 1. 2. 3. 4. 5. 6.] at segmentation directory file 00000036 for case 36.0\n",
      "Found ROIs [0. 1. 2. 3. 4. 5. 6.] at segmentation directory file 00000037 for case 37.0\n",
      "Found ROIs [0. 1. 2. 3. 4. 5. 6.] at segmentation directory file 00000038 for case 38.0\n",
      "Found ROIs [0. 1. 2. 3. 4. 5. 6.] at segmentation directory file 00000039 for case 39.0\n",
      "Found ROIs [0. 1. 2. 3. 4. 5. 6.] at segmentation directory file 00000040 for case 40.0\n"
     ]
    }
   ],
   "source": [
    "# Augment with CHH data\n",
    "X0_gt = np.load('/home/ali/RadDBS-QSM/data/npy/old/X0_gt_chh_rois.npy')\n",
    "df = pd.read_csv('/home/ali/RadDBS-QSM/data/xlxs/updrs_iii_chh.csv')\n",
    "# Patient IDs\n",
    "subject_id = np.asarray(df[df.columns[0]])[1:]\n",
    "n_rois = 6\n",
    "# Data\n",
    "s_directory = open('/home/ali/RadDBS-QSM/data/roi/roi_list','r').read().splitlines()\n",
    "# Load\n",
    "with open('/home/ali/RadDBS-QSM/data/pickles/segs_chh', \"rb\") as fp:  \n",
    "    segs = pickle.load(fp)\n",
    "    n_cases = len(segs)\n",
    "with open('/home/ali/RadDBS-QSM/data/pickles/qsms_chh', \"rb\") as fp:  \n",
    "    qsms = pickle.load(fp)\n",
    "with open('/home/ali/RadDBS-QSM/data/phi/chh/Phi_mcl_gt_roi_chh', \"rb\") as fp:  \n",
    "    Phi_gt = pickle.load(fp)\n",
    "L = int(len(X0_gt)/n_cases)\n",
    "n_features = int(L/n_rois)\n",
    "# Only extract ROI if it is present in all cases\n",
    "seg_labels_all = segs[0]\n",
    "case_number = np.zeros_like(np.asarray(s_directory))\n",
    "for i in range(n_cases):\n",
    "    case_number[i] = float(s_directory[i][-2:])\n",
    "subject_id_corr = subject_id[np.in1d(subject_id,case_number)]\n",
    "for i in range(n_cases):\n",
    "    try:\n",
    "        print('Found ROIs',str(np.unique(segs[i])),'at segmentation directory file',s_directory[i],'for case',str(subject_id_corr[i]))\n",
    "    except:\n",
    "        print('Case',subject_id[i],'quarantined')\n",
    "pre_updrs_iii_off =  np.asarray(df[df.columns[3]][1:][np.in1d(subject_id,subject_id_corr)]).astype(float)                             \n",
    "pre_updrs_iii_on =  np.asarray(df[df.columns[4]][1:][np.in1d(subject_id,subject_id_corr)]).astype(float) \n",
    "post_updrs_iii_off =  np.asarray(df[df.columns[6]][1:][np.in1d(subject_id,subject_id_corr)]).astype(float) \n",
    "\n",
    "per_change = (pre_updrs_iii_off-post_updrs_iii_off)/pre_updrs_iii_off\n",
    "pre_updrs_off = pre_updrs_iii_off\n",
    "X_all_c = X0_gt.reshape(n_cases,n_rois,n_features)\n",
    "X_all_c = X_all_c[:,0:4,:]\n",
    "\n",
    "lct_change = (pre_updrs_iii_off-pre_updrs_iii_on)/pre_updrs_iii_off\n",
    "pre_imp = lct_change\n",
    "# X_all_c = X_all_c.reshape(X_all_c.shape[0],z-1)\n",
    "# X_all_c = np.append(X_all_c,pre_imp.reshape(-1,1),axis=1)\n",
    "subsc = subject_id_corr\n",
    "subs_init = subsc"
   ]
  },
  {
   "cell_type": "code",
   "execution_count": 3,
   "metadata": {},
   "outputs": [
    {
     "name": "stdout",
     "output_type": "stream",
     "text": [
      "LassoCV score: 9.325873406851315e-15\n",
      "Lasso predicts 0.57 with regularization 0.10515\n"
     ]
    },
    {
     "name": "stderr",
     "output_type": "stream",
     "text": [
      "Choosing lambda with cross-validation: 100%|██████████| 6/6 [01:00<00:00, 10.07s/it]\n"
     ]
    },
    {
     "name": "stdout",
     "output_type": "stream",
     "text": [
      "Lambda start: 0.00010514676204212955\n",
      "LassoNetCV score: 0.9143421052248588\n",
      "Lasso predicts 0.57 with regularization 0.10515 and 1 nonzero coefficients and LassoNet predicts 0.71 for case 1 with 0.72\n",
      "LassoCV score: 0.7920259724716745\n",
      "Lasso predicts 0.51 with regularization 0.03562\n"
     ]
    },
    {
     "name": "stderr",
     "output_type": "stream",
     "text": [
      "Choosing lambda with cross-validation: 100%|██████████| 6/6 [00:53<00:00,  8.94s/it]\n"
     ]
    },
    {
     "name": "stdout",
     "output_type": "stream",
     "text": [
      "Lambda start: 0.00010664623509202634\n",
      "LassoNetCV score: 0.9190696739965949\n",
      "Lasso predicts 0.51 with regularization 0.03562 and 16 nonzero coefficients and LassoNet predicts 0.47 for case 2 with 0.47\n",
      "LassoCV score: 0.9678280928202933\n",
      "Lasso predicts 0.77 with regularization 0.01212\n"
     ]
    },
    {
     "name": "stderr",
     "output_type": "stream",
     "text": [
      "Choosing lambda with cross-validation: 100%|██████████| 6/6 [00:55<00:00,  9.29s/it]\n"
     ]
    },
    {
     "name": "stdout",
     "output_type": "stream",
     "text": [
      "Lambda start: 0.00010822785204402868\n",
      "LassoNetCV score: 0.9461185613971905\n",
      "Lasso predicts 0.77 with regularization 0.01212 and 29 nonzero coefficients and LassoNet predicts 0.73 for case 3 with 0.69\n",
      "LassoCV score: 0.7839565314508254\n",
      "Lasso predicts 0.58 with regularization 0.03588\n"
     ]
    },
    {
     "name": "stderr",
     "output_type": "stream",
     "text": [
      "Choosing lambda with cross-validation: 100%|██████████| 6/6 [00:47<00:00,  7.96s/it]\n"
     ]
    },
    {
     "name": "stdout",
     "output_type": "stream",
     "text": [
      "Lambda start: 0.0001074354084490981\n",
      "LassoNetCV score: 0.9239090108400433\n",
      "Lasso predicts 0.58 with regularization 0.03588 and 17 nonzero coefficients and LassoNet predicts 0.76 for case 4 with 0.42\n",
      "LassoCV score: 0.6599517440648446\n",
      "Lasso predicts 0.57 with regularization 0.04466\n"
     ]
    },
    {
     "name": "stderr",
     "output_type": "stream",
     "text": [
      "Choosing lambda with cross-validation: 100%|██████████| 6/6 [00:49<00:00,  8.23s/it]\n"
     ]
    },
    {
     "name": "stdout",
     "output_type": "stream",
     "text": [
      "Lambda start: 0.00010036359567121217\n",
      "LassoNetCV score: 0.9140577326829172\n",
      "Lasso predicts 0.57 with regularization 0.04466 and 15 nonzero coefficients and LassoNet predicts 0.49 for case 5 with 0.15\n",
      "LassoCV score: 0.6715612405341714\n",
      "Lasso predicts 0.55 with regularization 0.04601\n"
     ]
    },
    {
     "name": "stderr",
     "output_type": "stream",
     "text": [
      "Choosing lambda with cross-validation: 100%|██████████| 6/6 [00:52<00:00,  8.81s/it]\n"
     ]
    },
    {
     "name": "stdout",
     "output_type": "stream",
     "text": [
      "Lambda start: 0.00010339669859422713\n",
      "LassoNetCV score: 0.9148263196079812\n",
      "Lasso predicts 0.55 with regularization 0.04601 and 17 nonzero coefficients and LassoNet predicts 0.47 for case 6 with 0.44\n",
      "LassoCV score: 0.7901245742995024\n",
      "Lasso predicts 0.66 with regularization 0.03413\n"
     ]
    },
    {
     "name": "stderr",
     "output_type": "stream",
     "text": [
      "Choosing lambda with cross-validation: 100%|██████████| 6/6 [00:59<00:00,  9.85s/it]\n"
     ]
    },
    {
     "name": "stdout",
     "output_type": "stream",
     "text": [
      "Lambda start: 0.00010220000905583082\n",
      "LassoNetCV score: 0.951347595909665\n",
      "Lasso predicts 0.66 with regularization 0.03413 and 20 nonzero coefficients and LassoNet predicts 0.73 for case 7 with 0.88\n",
      "LassoCV score: 0.7953372557071289\n",
      "Lasso predicts 0.51 with regularization 0.03476\n"
     ]
    },
    {
     "name": "stderr",
     "output_type": "stream",
     "text": [
      "Choosing lambda with cross-validation: 100%|██████████| 6/6 [01:05<00:00, 10.93s/it]\n"
     ]
    },
    {
     "name": "stdout",
     "output_type": "stream",
     "text": [
      "Lambda start: 0.00010408350771967274\n",
      "LassoNetCV score: 0.9126250981182806\n",
      "Lasso predicts 0.51 with regularization 0.03476 and 17 nonzero coefficients and LassoNet predicts 0.51 for case 8 with 0.4\n",
      "LassoCV score: 0.9717412480809773\n",
      "Lasso predicts 0.6 with regularization 0.01162\n"
     ]
    },
    {
     "name": "stderr",
     "output_type": "stream",
     "text": [
      "Choosing lambda with cross-validation: 100%|██████████| 6/6 [01:08<00:00, 11.33s/it]\n"
     ]
    },
    {
     "name": "stdout",
     "output_type": "stream",
     "text": [
      "Lambda start: 0.00010377740745079964\n",
      "LassoNetCV score: 0.9255614534367166\n",
      "Lasso predicts 0.6 with regularization 0.01162 and 31 nonzero coefficients and LassoNet predicts 0.5 for case 9 with 0.6\n",
      "LassoCV score: 0.9999973049470543\n",
      "Lasso predicts 0.5 with regularization 0.00011\n"
     ]
    },
    {
     "name": "stderr",
     "output_type": "stream",
     "text": [
      "Choosing lambda with cross-validation: 100%|██████████| 6/6 [01:12<00:00, 12.10s/it]\n"
     ]
    },
    {
     "name": "stdout",
     "output_type": "stream",
     "text": [
      "Lambda start: 0.00010662580455584098\n",
      "LassoNetCV score: 0.9381336241167196\n",
      "Lasso predicts 0.5 with regularization 0.00011 and 45 nonzero coefficients and LassoNet predicts 0.54 for case 10 with 0.81\n",
      "LassoCV score: 0.9717564171204529\n",
      "Lasso predicts 0.73 with regularization 0.01178\n"
     ]
    },
    {
     "name": "stderr",
     "output_type": "stream",
     "text": [
      "Choosing lambda with cross-validation: 100%|██████████| 6/6 [00:58<00:00,  9.81s/it]\n"
     ]
    },
    {
     "name": "stdout",
     "output_type": "stream",
     "text": [
      "Lambda start: 0.00010518835693905853\n",
      "LassoNetCV score: 0.9272528703081943\n",
      "Lasso predicts 0.73 with regularization 0.01178 and 27 nonzero coefficients and LassoNet predicts 0.71 for case 11 with 0.64\n",
      "LassoCV score: 0.9645816261774185\n",
      "Lasso predicts 0.56 with regularization 0.01263\n"
     ]
    },
    {
     "name": "stderr",
     "output_type": "stream",
     "text": [
      "Choosing lambda with cross-validation: 100%|██████████| 6/6 [00:58<00:00,  9.69s/it]\n"
     ]
    },
    {
     "name": "stdout",
     "output_type": "stream",
     "text": [
      "Lambda start: 0.00011272399375027192\n",
      "LassoNetCV score: 0.9030918081390168\n",
      "Lasso predicts 0.56 with regularization 0.01263 and 29 nonzero coefficients and LassoNet predicts 0.62 for case 13 with 0.72\n",
      "LassoCV score: 0.9999975155917136\n",
      "Lasso predicts 0.62 with regularization 0.0001\n"
     ]
    },
    {
     "name": "stderr",
     "output_type": "stream",
     "text": [
      "Choosing lambda with cross-validation: 100%|██████████| 6/6 [00:57<00:00,  9.50s/it]\n"
     ]
    },
    {
     "name": "stdout",
     "output_type": "stream",
     "text": [
      "Lambda start: 0.00010292342089862934\n",
      "LassoNetCV score: 0.9377883304297663\n",
      "Lasso predicts 0.62 with regularization 0.0001 and 43 nonzero coefficients and LassoNet predicts 0.53 for case 14 with 0.31\n",
      "LassoCV score: 0.8981226207969186\n",
      "Lasso predicts 0.48 with regularization 0.02337\n"
     ]
    },
    {
     "name": "stderr",
     "output_type": "stream",
     "text": [
      "Choosing lambda with cross-validation: 100%|██████████| 6/6 [00:58<00:00,  9.81s/it]\n"
     ]
    },
    {
     "name": "stdout",
     "output_type": "stream",
     "text": [
      "Lambda start: 0.00010480680852549647\n",
      "LassoNetCV score: 0.9030494515657087\n",
      "Lasso predicts 0.48 with regularization 0.02337 and 23 nonzero coefficients and LassoNet predicts 0.52 for case 16 with 0.68\n",
      "LassoCV score: 0.8896350886875815\n",
      "Lasso predicts 0.46 with regularization 0.02347\n"
     ]
    },
    {
     "name": "stderr",
     "output_type": "stream",
     "text": [
      "Choosing lambda with cross-validation: 100%|██████████| 6/6 [01:00<00:00, 10.01s/it]\n"
     ]
    },
    {
     "name": "stdout",
     "output_type": "stream",
     "text": [
      "Lambda start: 0.00010525187082352603\n",
      "LassoNetCV score: 0.9110352256174176\n",
      "Lasso predicts 0.46 with regularization 0.02347 and 22 nonzero coefficients and LassoNet predicts 0.34 for case 18 with 0.34\n",
      "LassoCV score: 0.9728800818990946\n",
      "Lasso predicts 0.48 with regularization 0.01166\n"
     ]
    },
    {
     "name": "stderr",
     "output_type": "stream",
     "text": [
      "Choosing lambda with cross-validation: 100%|██████████| 6/6 [01:04<00:00, 10.80s/it]\n"
     ]
    },
    {
     "name": "stdout",
     "output_type": "stream",
     "text": [
      "Lambda start: 0.00010414442041608566\n",
      "LassoNetCV score: 0.8941260903721144\n",
      "Lasso predicts 0.48 with regularization 0.01166 and 28 nonzero coefficients and LassoNet predicts 0.34 for case 19 with 0.59\n",
      "LassoCV score: 0.8863767948898792\n",
      "Lasso predicts 0.66 with regularization 0.02349\n"
     ]
    },
    {
     "name": "stderr",
     "output_type": "stream",
     "text": [
      "Choosing lambda with cross-validation: 100%|██████████| 6/6 [01:09<00:00, 11.66s/it]\n"
     ]
    },
    {
     "name": "stdout",
     "output_type": "stream",
     "text": [
      "Lambda start: 0.00010534056114274049\n",
      "LassoNetCV score: 0.9472542374365543\n",
      "Lasso predicts 0.66 with regularization 0.02349 and 27 nonzero coefficients and LassoNet predicts 0.63 for case 20 with 0.94\n",
      "LassoCV score: 0.8974789308087396\n",
      "Lasso predicts 0.73 with regularization 0.0225\n"
     ]
    },
    {
     "name": "stderr",
     "output_type": "stream",
     "text": [
      "Choosing lambda with cross-validation: 100%|██████████| 6/6 [01:05<00:00, 10.90s/it]\n"
     ]
    },
    {
     "name": "stdout",
     "output_type": "stream",
     "text": [
      "Lambda start: 0.00010091544598757371\n",
      "LassoNetCV score: 0.8934489964094794\n",
      "Lasso predicts 0.73 with regularization 0.0225 and 23 nonzero coefficients and LassoNet predicts 0.68 for case 21 with 0.84\n",
      "LassoCV score: 0.9758689345308533\n",
      "Lasso predicts 0.29 with regularization 0.00977\n"
     ]
    },
    {
     "name": "stderr",
     "output_type": "stream",
     "text": [
      "Choosing lambda with cross-validation: 100%|██████████| 6/6 [00:47<00:00,  7.94s/it]\n"
     ]
    },
    {
     "name": "stdout",
     "output_type": "stream",
     "text": [
      "Lambda start: 8.720057597676787e-05\n",
      "LassoNetCV score: 0.8936825340702285\n",
      "Lasso predicts 0.29 with regularization 0.00977 and 29 nonzero coefficients and LassoNet predicts 0.33 for case 22 with 0.1\n",
      "LassoCV score: 0.9999975289110306\n",
      "Lasso predicts 0.45 with regularization 0.0001\n"
     ]
    },
    {
     "name": "stderr",
     "output_type": "stream",
     "text": [
      "Choosing lambda with cross-validation: 100%|██████████| 6/6 [00:49<00:00,  8.26s/it]\n"
     ]
    },
    {
     "name": "stdout",
     "output_type": "stream",
     "text": [
      "Lambda start: 0.00010415953832338453\n",
      "LassoNetCV score: 0.9136143969147622\n",
      "Lasso predicts 0.45 with regularization 0.0001 and 46 nonzero coefficients and LassoNet predicts 0.52 for case 23 with 0.41\n",
      "LassoCV score: 0.9724629469663969\n",
      "Lasso predicts 0.63 with regularization 0.01162\n"
     ]
    },
    {
     "name": "stderr",
     "output_type": "stream",
     "text": [
      "Choosing lambda with cross-validation: 100%|██████████| 6/6 [00:53<00:00,  8.85s/it]\n"
     ]
    },
    {
     "name": "stdout",
     "output_type": "stream",
     "text": [
      "Lambda start: 0.00010375838731416488\n",
      "LassoNetCV score: 0.9091449599884708\n",
      "Lasso predicts 0.63 with regularization 0.01162 and 30 nonzero coefficients and LassoNet predicts 0.76 for case 24 with 0.57\n",
      "LassoCV score: 0.9999974648703529\n",
      "Lasso predicts 0.72 with regularization 0.0001\n"
     ]
    },
    {
     "name": "stderr",
     "output_type": "stream",
     "text": [
      "Choosing lambda with cross-validation: 100%|██████████| 6/6 [00:57<00:00,  9.59s/it]\n"
     ]
    },
    {
     "name": "stdout",
     "output_type": "stream",
     "text": [
      "Lambda start: 0.00010356846765887074\n",
      "LassoNetCV score: 0.9119284842625999\n",
      "Lasso predicts 0.72 with regularization 0.0001 and 53 nonzero coefficients and LassoNet predicts 0.61 for case 25 with 0.66\n",
      "LassoCV score: 0.9007150132427456\n",
      "Lasso predicts 0.59 with regularization 0.02315\n"
     ]
    },
    {
     "name": "stderr",
     "output_type": "stream",
     "text": [
      "Choosing lambda with cross-validation: 100%|██████████| 6/6 [00:57<00:00,  9.52s/it]\n"
     ]
    },
    {
     "name": "stdout",
     "output_type": "stream",
     "text": [
      "Lambda start: 0.0001037927692885411\n",
      "LassoNetCV score: 0.8839780842969303\n",
      "Lasso predicts 0.59 with regularization 0.02315 and 25 nonzero coefficients and LassoNet predicts 0.41 for case 26 with 0.63\n",
      "LassoCV score: 0.9999976566238157\n",
      "Lasso predicts 0.6 with regularization 0.0001\n"
     ]
    },
    {
     "name": "stderr",
     "output_type": "stream",
     "text": [
      "Choosing lambda with cross-validation: 100%|██████████| 6/6 [00:56<00:00,  9.43s/it]\n"
     ]
    },
    {
     "name": "stdout",
     "output_type": "stream",
     "text": [
      "Lambda start: 0.00010239807065900299\n",
      "LassoNetCV score: 0.9173650633902576\n",
      "Lasso predicts 0.6 with regularization 0.0001 and 45 nonzero coefficients and LassoNet predicts 0.54 for case 27 with 0.47\n",
      "LassoCV score: 0.8998847100114885\n",
      "Lasso predicts 0.43 with regularization 0.0222\n"
     ]
    },
    {
     "name": "stderr",
     "output_type": "stream",
     "text": [
      "Choosing lambda with cross-validation: 100%|██████████| 6/6 [00:59<00:00,  9.96s/it]\n"
     ]
    },
    {
     "name": "stdout",
     "output_type": "stream",
     "text": [
      "Lambda start: 9.95550844830892e-05\n",
      "LassoNetCV score: 0.8882140802251908\n",
      "Lasso predicts 0.43 with regularization 0.0222 and 24 nonzero coefficients and LassoNet predicts 0.44 for case 28 with 0.28\n",
      "LassoCV score: 0.8037513659197076\n",
      "Lasso predicts 0.65 with regularization 0.0347\n"
     ]
    },
    {
     "name": "stderr",
     "output_type": "stream",
     "text": [
      "Choosing lambda with cross-validation: 100%|██████████| 6/6 [01:08<00:00, 11.46s/it]\n"
     ]
    },
    {
     "name": "stdout",
     "output_type": "stream",
     "text": [
      "Lambda start: 0.00010390574575083613\n",
      "LassoNetCV score: 0.9068836687946231\n",
      "Lasso predicts 0.65 with regularization 0.0347 and 17 nonzero coefficients and LassoNet predicts 0.73 for case 29 with 0.59\n",
      "LassoCV score: 0.796258956098367\n",
      "Lasso predicts 0.68 with regularization 0.03542\n"
     ]
    },
    {
     "name": "stderr",
     "output_type": "stream",
     "text": [
      "Choosing lambda with cross-validation: 100%|██████████| 6/6 [01:07<00:00, 11.21s/it]\n"
     ]
    },
    {
     "name": "stdout",
     "output_type": "stream",
     "text": [
      "Lambda start: 0.00010604274159639285\n",
      "LassoNetCV score: 0.9194004030333776\n",
      "Lasso predicts 0.68 with regularization 0.03542 and 22 nonzero coefficients and LassoNet predicts 0.57 for case 30 with 0.53\n",
      "LassoCV score: 0.7907419471112881\n",
      "Lasso predicts 0.57 with regularization 0.03452\n"
     ]
    },
    {
     "name": "stderr",
     "output_type": "stream",
     "text": [
      "Choosing lambda with cross-validation: 100%|██████████| 6/6 [01:08<00:00, 11.35s/it]\n"
     ]
    },
    {
     "name": "stdout",
     "output_type": "stream",
     "text": [
      "Lambda start: 0.00010334891053617935\n",
      "LassoNetCV score: 0.9302883457970721\n",
      "Lasso predicts 0.57 with regularization 0.03452 and 18 nonzero coefficients and LassoNet predicts 0.65 for case 31 with 0.86\n",
      "LassoCV score: 0.8993151123301029\n",
      "Lasso predicts 0.5 with regularization 0.02303\n"
     ]
    },
    {
     "name": "stderr",
     "output_type": "stream",
     "text": [
      "Choosing lambda with cross-validation: 100%|██████████| 6/6 [00:53<00:00,  8.91s/it]\n"
     ]
    },
    {
     "name": "stdout",
     "output_type": "stream",
     "text": [
      "Lambda start: 0.00010327002875449353\n",
      "LassoNetCV score: 0.9054355592687011\n",
      "Lasso predicts 0.5 with regularization 0.02303 and 23 nonzero coefficients and LassoNet predicts 0.46 for case 32 with 0.48\n",
      "LassoCV score: 0.8075984338649802\n",
      "Lasso predicts 0.7 with regularization 0.03437\n"
     ]
    },
    {
     "name": "stderr",
     "output_type": "stream",
     "text": [
      "Choosing lambda with cross-validation: 100%|██████████| 6/6 [00:52<00:00,  8.76s/it]\n"
     ]
    },
    {
     "name": "stdout",
     "output_type": "stream",
     "text": [
      "Lambda start: 0.00010290648649499963\n",
      "LassoNetCV score: 0.9136998583377475\n",
      "Lasso predicts 0.7 with regularization 0.03437 and 18 nonzero coefficients and LassoNet predicts 0.7 for case 33 with 0.66\n",
      "LassoCV score: 0.7993122176326131\n",
      "Lasso predicts 0.53 with regularization 0.03553\n"
     ]
    },
    {
     "name": "stderr",
     "output_type": "stream",
     "text": [
      "Choosing lambda with cross-validation: 100%|██████████| 6/6 [00:53<00:00,  8.98s/it]\n"
     ]
    },
    {
     "name": "stdout",
     "output_type": "stream",
     "text": [
      "Lambda start: 0.00010637518117607356\n",
      "LassoNetCV score: 0.9016286036377799\n",
      "Lasso predicts 0.53 with regularization 0.03553 and 20 nonzero coefficients and LassoNet predicts 0.47 for case 34 with 0.33\n",
      "LassoCV score: 0.8951601025975016\n",
      "Lasso predicts 0.49 with regularization 0.02369\n"
     ]
    },
    {
     "name": "stderr",
     "output_type": "stream",
     "text": [
      "Choosing lambda with cross-validation: 100%|██████████| 6/6 [00:53<00:00,  8.97s/it]\n"
     ]
    },
    {
     "name": "stdout",
     "output_type": "stream",
     "text": [
      "Lambda start: 0.0001062516784143694\n",
      "LassoNetCV score: 0.9059940323505746\n",
      "Lasso predicts 0.49 with regularization 0.02369 and 21 nonzero coefficients and LassoNet predicts 0.5 for case 35 with 0.49\n",
      "LassoCV score: 0.8939229742522596\n",
      "Lasso predicts 0.7 with regularization 0.02323\n"
     ]
    },
    {
     "name": "stderr",
     "output_type": "stream",
     "text": [
      "Choosing lambda with cross-validation: 100%|██████████| 6/6 [00:54<00:00,  9.02s/it]\n"
     ]
    },
    {
     "name": "stdout",
     "output_type": "stream",
     "text": [
      "Lambda start: 0.00010416148302657408\n",
      "LassoNetCV score: 0.9092333036439788\n",
      "Lasso predicts 0.7 with regularization 0.02323 and 24 nonzero coefficients and LassoNet predicts 0.62 for case 36 with 0.78\n",
      "LassoCV score: 0.9054378273130355\n",
      "Lasso predicts 0.57 with regularization 0.02238\n"
     ]
    },
    {
     "name": "stderr",
     "output_type": "stream",
     "text": [
      "Choosing lambda with cross-validation: 100%|██████████| 6/6 [00:55<00:00,  9.28s/it]\n"
     ]
    },
    {
     "name": "stdout",
     "output_type": "stream",
     "text": [
      "Lambda start: 0.00010037946640202495\n",
      "LassoNetCV score: 0.9141427976383764\n",
      "Lasso predicts 0.57 with regularization 0.02238 and 22 nonzero coefficients and LassoNet predicts 0.6 for case 37 with 0.81\n",
      "LassoCV score: 0.8983025916108357\n",
      "Lasso predicts 0.64 with regularization 0.02282\n"
     ]
    },
    {
     "name": "stderr",
     "output_type": "stream",
     "text": [
      "Choosing lambda with cross-validation: 100%|██████████| 6/6 [00:57<00:00,  9.55s/it]\n"
     ]
    },
    {
     "name": "stdout",
     "output_type": "stream",
     "text": [
      "Lambda start: 0.00010232425884383442\n",
      "LassoNetCV score: 0.9192888845954825\n",
      "Lasso predicts 0.64 with regularization 0.02282 and 23 nonzero coefficients and LassoNet predicts 0.69 for case 38 with 0.71\n",
      "LassoCV score: 0.895668287409421\n",
      "Lasso predicts 0.51 with regularization 0.02279\n"
     ]
    },
    {
     "name": "stderr",
     "output_type": "stream",
     "text": [
      "Choosing lambda with cross-validation: 100%|██████████| 6/6 [01:01<00:00, 10.24s/it]\n"
     ]
    },
    {
     "name": "stdout",
     "output_type": "stream",
     "text": [
      "Lambda start: 0.00010218976698484276\n",
      "LassoNetCV score: 0.8945000570237109\n",
      "Lasso predicts 0.51 with regularization 0.02279 and 21 nonzero coefficients and LassoNet predicts 0.53 for case 39 with 0.32\n",
      "LassoCV score: 0.8175058150369485\n",
      "Lasso predicts 0.67 with regularization 0.03209\n"
     ]
    },
    {
     "name": "stderr",
     "output_type": "stream",
     "text": [
      "Choosing lambda with cross-validation: 100%|██████████| 6/6 [01:08<00:00, 11.39s/it]\n"
     ]
    },
    {
     "name": "stdout",
     "output_type": "stream",
     "text": [
      "Lambda start: 9.608274346350337e-05\n",
      "LassoNetCV score: 0.9103125874012331\n",
      "Lasso predicts 0.67 with regularization 0.03209 and 20 nonzero coefficients and LassoNet predicts 0.63 for case 40 with 0.83\n"
     ]
    }
   ],
   "source": [
    "# Training parameters\n",
    "scoring = 'r2'\n",
    "results_bls = np.zeros_like(per_change)\n",
    "results_ls = np.zeros_like(per_change)\n",
    "scaler = skp.StandardScaler()\n",
    "#X = X_all_c.astype(float)#scaler.fit_transform(np.asarray(X_all_c,dtype=float).reshape(X_all_c.shape[0],-1))\n",
    "epsilon = 1e-1\n",
    "ledd = np.zeros_like(per_change)\n",
    "cvn = 6\n",
    "# Train\n",
    "for j in np.arange(len(subsc)):\n",
    "    test_id = subsc[j]\n",
    "    test_index = subsc == test_id\n",
    "    train_index = subsc != test_id\n",
    "    X_train = X_all_c[train_index,:,:]\n",
    "    X_test = X_all_c[test_index,:,:]\n",
    "    y_train = per_change[train_index]\n",
    "    y_test = per_change[test_index]\n",
    "    # Try this with common scaling\n",
    "    X0_ss0,scaler_ss,X_test_ss0 = util.model_scale(skp.StandardScaler(),\n",
    "                                                X_train,train_index,X_test,\n",
    "                                                test_index,pre_updrs_off,ledd,None,None,None,None,None,None,None,None,False,False,False)\n",
    "    with np.errstate(divide='ignore', invalid='ignore'):\n",
    "      # Feature selection\n",
    "      sel = skf.SelectKBest(skf.r_regression,k='all')\n",
    "      X0_ss = sel.fit_transform(X0_ss0,y_train)\n",
    "      X_test_ss = sel.transform(X_test_ss0)\n",
    "      y_n = cKDTree(X0_ss).query(X_test_ss, k=1)[1]\n",
    "    \n",
    "      Xy = np.dot(X0_ss.T,y_train)\n",
    "    if Xy.ndim == 1:\n",
    "        Xy = Xy[:, np.newaxis]\n",
    "    alpha_max = np.sqrt(np.sum(Xy**2, axis=1)).max()/len(y_train) \n",
    "    alphas = np.linspace(alpha_max*1e-3,alpha_max,10)\n",
    "    # LASSO\n",
    "    lasso = slm.LassoCV(max_iter=int(1e5),n_jobs=-1,cv=cvn,alphas=alphas,random_state=0)\n",
    "    est_ls = lasso.fit(X0_ss,y_train)\n",
    "    print('LassoCV score:',est_ls.score(X0_ss,y_train))\n",
    "    results_ls[j] = est_ls.predict(X_test_ss).item()\n",
    "    print('Lasso predicts',str(np.round(results_ls[j],2)),\n",
    "          'with regularization',str(np.round(est_ls.alpha_,5)))\n",
    "    # LASSONet\n",
    "    lr=1e-5\n",
    "    lassonet = LassoNetRegressorCV(\n",
    "    cv=cvn,\n",
    "    M=1, # Approximate standard LASSO\n",
    "    batch_size=len(y_train), # Leads to gradient descent optimization\n",
    "    hidden_dims=(5,),\n",
    "    #n_iters=(int(1e4),int(1e2)), # Iterations for objective function and path\n",
    "    tol=0.99,#1-est_ls.tol,  \n",
    "    lambda_seq=alphas, # Path multipler and initial lambda disregarded\n",
    "    optim=partial(SGD,lr=lr,momentum=0.9), # Approximate coordinate descent\n",
    "    #backtrack=True, # Approximate monotonic coordinate descent path\n",
    "    verbose=1,\n",
    "    torch_seed=0,\n",
    "    random_state=0,\n",
    "    gamma=0.0, # No L2 regularization\n",
    "    gamma_skip=0.0, # No L2 regularization on skip connection\n",
    "    patience=None, # Disable early stopping\n",
    "    val_size=0.1,\n",
    "    )\n",
    "    # What should these norms be...besides nonzero?\n",
    "    est_lsn = lassonet.fit(X0_ss,y_train)\n",
    "  \n",
    "    print('LassoNetCV score:',est_lsn.score(X0_ss,y_train))\n",
    "    results_bls[j] = est_lsn.predict(X_test_ss).item()\n",
    "\n",
    "    # Training status\n",
    "    print('Lasso predicts',str(np.round(results_ls[j],2)),\n",
    "          'with regularization',str(np.round(est_ls.alpha_,5)),\n",
    "          'and',str(np.sum(est_ls.coef_!=0)),'nonzero coefficients',\n",
    "          'and LassoNet predicts',str(np.round(results_bls[j],2)),\n",
    "          'for case',str(int(subsc[j])),'with',str(np.round(per_change[j],2)))\n",
    "\n"
   ]
  },
  {
   "cell_type": "code",
   "execution_count": 4,
   "metadata": {},
   "outputs": [
    {
     "data": {
      "image/png": "[encoded data removed]",
      "text/plain": [
       "<Figure size 1000x1500 with 3 Axes>"
      ]
     },
     "metadata": {},
     "output_type": "display_data"
    }
   ],
   "source": [
    "util.eval_prediction(np.vstack((pre_imp,\n",
    "                               results_ls,\n",
    "                               results_bls,\n",
    "                               )),\n",
    "                               per_change,\n",
    "                               ['LCT',\n",
    "                                'Lasso',\n",
    "                                'LassoNet'\n",
    "                                ],(30,5))\n",
    "plt.ylim([0,2])\n",
    "plt.xlim([0,2])\n",
    "plt.style.use('default')\n",
    "\n"
   ]
  },
  {
   "cell_type": "code",
   "execution_count": 25,
   "metadata": {},
   "outputs": [
    {
     "data": {
      "text/plain": [
       "Text(0.1, 0.8, '$y=1.00\\\\; x+0.00$\\n$r = 0.58$\\n$p = 1.59e-04$')"
      ]
     },
     "execution_count": 25,
     "metadata": {},
     "output_type": "execute_result"
    },
    {
     "data": {
      "image/png": "[encoded data removed]",
      "text/plain": [
       "<Figure size 640x480 with 1 Axes>"
      ]
     },
     "metadata": {},
     "output_type": "display_data"
    }
   ],
   "source": [
    "plt.scatter(results_bls,per_change)\n",
    "lr = stats.linregress(results_bls,per_change)\n",
    "plt.plot(results_bls,results_bls*lr.slope+lr.intercept,color='r')\n",
    "plt.xlim(0,1)\n",
    "plt.ylim(0,1)\n",
    "plt.title('LassoNet')\n",
    "plt.ylabel(\"DBS improvement\",fontsize=14)\n",
    "plt.xlabel(\"Prediction\",fontsize=14)\n",
    "text = f\"$y={lr.slope:0.2f}\\; x{lr.intercept:+0.2f}$\\n$r = {lr.rvalue:0.2f}$\\n$p = {lr.pvalue:0.2e}$\"\n",
    "plt.text(0.1, 0.8, text,\n",
    "    fontsize=14, verticalalignment='top')"
   ]
  },
  {
   "cell_type": "code",
   "execution_count": null,
   "metadata": {},
   "outputs": [],
   "source": [
    "plt.scatter(results_bls,per_change)\n",
    "lr = stats.linregress(results_bls,per_change)\n",
    "plt.plot(results_bls,results_bls*lr.slope+lr.intercept,color='r')\n",
    "plt.xlim(0,1)\n",
    "plt.ylim(0,1)\n",
    "plt.title('LassoNet')\n",
    "plt.ylabel(\"DBS improvement\",fontsize=14)\n",
    "plt.xlabel(\"Prediction\",fontsize=14)\n",
    "text = f\"$y={lr.slope:0.2f}\\; x{lr.intercept:+0.2f}$\\n$r = {lr.rvalue:0.2f}$\\n$p = {lr.pvalue:0.2e}$\"\n",
    "plt.text(0.1, 0.8, text,\n",
    "    fontsize=14, verticalalignment='top')"
   ]
  }
 ],
 "metadata": {
  "kernelspec": {
   "display_name": "pdradenv",
   "language": "python",
   "name": "python3"
  },
  "language_info": {
   "codemirror_mode": {
    "name": "ipython",
    "version": 3
   },
   "file_extension": ".py",
   "mimetype": "text/x-python",
   "name": "python",
   "nbconvert_exporter": "python",
   "pygments_lexer": "ipython3",
   "version": "3.11.7"
  }
 },
 "nbformat": 4,
 "nbformat_minor": 2
}
