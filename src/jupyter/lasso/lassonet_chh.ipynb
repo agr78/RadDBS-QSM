{
 "cells": [
  {
   "cell_type": "code",
   "execution_count": 1,
   "metadata": {},
   "outputs": [],
   "source": [
    "# Import libraries\n",
    "import sys\n",
    "sys.path.append('../')\n",
    "import matplotlib.pyplot as plt\n",
    "import sklearn.model_selection as sms\n",
    "import sklearn.linear_model as slm\n",
    "import sklearn.preprocessing as skp\n",
    "import sklearn.feature_selection as skf\n",
    "from sklearn.cluster import DBSCAN\n",
    "import numpy as np\n",
    "from IPython.display import HTML\n",
    "import util\n",
    "from scipy.spatial import cKDTree\n",
    "from lassonet import LassoNetRegressor, LassoNetRegressorCV\n",
    "import os\n",
    "import pandas as pd\n",
    "import pickle\n",
    "from torch.optim import SGD, Adam\n",
    "from functools import partial\n",
    "import torch\n",
    "import torch.nn.functional as F\n",
    "import traceback\n"
   ]
  },
  {
   "cell_type": "code",
   "execution_count": 2,
   "metadata": {},
   "outputs": [
    {
     "name": "stdout",
     "output_type": "stream",
     "text": [
      "Found ROIs [0. 1. 2. 3. 4. 5. 6.] at segmentation directory file 00000001 for case 1.0\n",
      "Found ROIs [0. 1. 2. 3. 4. 5. 6.] at segmentation directory file 00000002 for case 2.0\n",
      "Found ROIs [0. 1. 2. 3. 4. 5. 6.] at segmentation directory file 00000003 for case 3.0\n",
      "Found ROIs [0. 1. 2. 3. 4. 5. 6.] at segmentation directory file 00000004 for case 4.0\n",
      "Found ROIs [0. 1. 2. 3. 4. 5. 6.] at segmentation directory file 00000005 for case 5.0\n",
      "Found ROIs [0. 1. 2. 3. 4. 5. 6.] at segmentation directory file 00000006 for case 6.0\n",
      "Found ROIs [0. 1. 2. 3. 4. 5. 6.] at segmentation directory file 00000007 for case 7.0\n",
      "Found ROIs [0. 1. 2. 3. 4. 5. 6.] at segmentation directory file 00000008 for case 8.0\n",
      "Found ROIs [0. 1. 2. 3. 4. 5. 6.] at segmentation directory file 00000009 for case 9.0\n",
      "Found ROIs [0. 1. 2. 3. 4. 5. 6.] at segmentation directory file 00000010 for case 10.0\n",
      "Found ROIs [0. 1. 2. 3. 4. 5. 6.] at segmentation directory file 00000011 for case 11.0\n",
      "Found ROIs [0. 1. 2. 3. 4. 5. 6.] at segmentation directory file 00000013 for case 13.0\n",
      "Found ROIs [0. 1. 2. 3. 4. 5. 6.] at segmentation directory file 00000014 for case 14.0\n",
      "Found ROIs [0. 1. 2. 3. 4. 5. 6.] at segmentation directory file 00000016 for case 16.0\n",
      "Found ROIs [0. 1. 2. 3. 4. 5. 6.] at segmentation directory file 00000018 for case 18.0\n",
      "Found ROIs [0. 1. 2. 3. 4. 5. 6.] at segmentation directory file 00000019 for case 19.0\n",
      "Found ROIs [0. 1. 2. 3. 4. 5. 6.] at segmentation directory file 00000020 for case 20.0\n",
      "Found ROIs [0. 1. 2. 3. 4. 5. 6.] at segmentation directory file 00000021 for case 21.0\n",
      "Found ROIs [0. 1. 2. 3. 4. 5. 6.] at segmentation directory file 00000022 for case 22.0\n",
      "Found ROIs [0. 1. 2. 3. 4. 5. 6.] at segmentation directory file 00000023 for case 23.0\n",
      "Found ROIs [0. 1. 2. 3. 4. 5. 6.] at segmentation directory file 00000024 for case 24.0\n",
      "Found ROIs [0. 1. 2. 3. 4. 5. 6.] at segmentation directory file 00000025 for case 25.0\n",
      "Found ROIs [0. 1. 2. 3. 4. 5. 6.] at segmentation directory file 00000026 for case 26.0\n",
      "Found ROIs [0. 1. 2. 3. 4. 5. 6.] at segmentation directory file 00000027 for case 27.0\n",
      "Found ROIs [0. 1. 2. 3. 4. 5. 6.] at segmentation directory file 00000028 for case 28.0\n",
      "Found ROIs [0. 1. 2. 3. 4. 5. 6.] at segmentation directory file 00000029 for case 29.0\n",
      "Found ROIs [0. 1. 2. 3. 4. 5. 6.] at segmentation directory file 00000030 for case 30.0\n",
      "Found ROIs [0. 1. 2. 3. 4. 5. 6.] at segmentation directory file 00000031 for case 31.0\n",
      "Found ROIs [0. 1. 2. 3. 4. 5. 6.] at segmentation directory file 00000032 for case 32.0\n",
      "Found ROIs [0. 1. 2. 3. 4. 5. 6.] at segmentation directory file 00000033 for case 33.0\n",
      "Found ROIs [0. 1. 2. 3. 4. 5. 6.] at segmentation directory file 00000034 for case 34.0\n",
      "Found ROIs [0. 1. 2. 3. 4. 5. 6.] at segmentation directory file 00000035 for case 35.0\n",
      "Found ROIs [0. 1. 2. 3. 4. 5. 6.] at segmentation directory file 00000036 for case 36.0\n",
      "Found ROIs [0. 1. 2. 3. 4. 5. 6.] at segmentation directory file 00000037 for case 37.0\n",
      "Found ROIs [0. 1. 2. 3. 4. 5. 6.] at segmentation directory file 00000038 for case 38.0\n",
      "Found ROIs [0. 1. 2. 3. 4. 5. 6.] at segmentation directory file 00000039 for case 39.0\n",
      "Found ROIs [0. 1. 2. 3. 4. 5. 6.] at segmentation directory file 00000040 for case 40.0\n"
     ]
    }
   ],
   "source": [
    "# Augment with CHH data\n",
    "X0_gt = np.load('/home/ali/RadDBS-QSM/data/npy/old/X0_gt_chh_rois.npy')\n",
    "df = pd.read_csv('/home/ali/RadDBS-QSM/data/xlxs/updrs_iii_chh.csv')\n",
    "# Patient IDs\n",
    "subject_id = np.asarray(df[df.columns[0]])[1:]\n",
    "n_rois = 6\n",
    "# Data\n",
    "s_directory = open('/home/ali/RadDBS-QSM/data/roi/roi_list','r').read().splitlines()\n",
    "# Load\n",
    "with open('/home/ali/RadDBS-QSM/data/pickles/segs_chh', \"rb\") as fp:  \n",
    "    segs = pickle.load(fp)\n",
    "    n_cases = len(segs)\n",
    "with open('/home/ali/RadDBS-QSM/data/pickles/qsms_chh', \"rb\") as fp:  \n",
    "    qsms = pickle.load(fp)\n",
    "with open('/home/ali/RadDBS-QSM/data/phi/chh/Phi_mcl_gt_roi_chh', \"rb\") as fp:  \n",
    "    Phi_gt = pickle.load(fp)\n",
    "L = int(len(X0_gt)/n_cases)\n",
    "n_features = int(L/n_rois)\n",
    "# Only extract ROI if it is present in all cases\n",
    "seg_labels_all = segs[0]\n",
    "case_number = np.zeros_like(np.asarray(s_directory))\n",
    "for i in range(n_cases):\n",
    "    case_number[i] = float(s_directory[i][-2:])\n",
    "subject_id_corr = subject_id[np.in1d(subject_id,case_number)]\n",
    "for i in range(n_cases):\n",
    "    try:\n",
    "        print('Found ROIs',str(np.unique(segs[i])),'at segmentation directory file',s_directory[i],'for case',str(subject_id_corr[i]))\n",
    "    except:\n",
    "        print('Case',subject_id[i],'quarantined')\n",
    "pre_updrs_iii_off =  np.asarray(df[df.columns[3]][1:][np.in1d(subject_id,subject_id_corr)]).astype(float)                             \n",
    "pre_updrs_iii_on =  np.asarray(df[df.columns[4]][1:][np.in1d(subject_id,subject_id_corr)]).astype(float) \n",
    "post_updrs_iii_off =  np.asarray(df[df.columns[6]][1:][np.in1d(subject_id,subject_id_corr)]).astype(float) \n",
    "\n",
    "per_change = (pre_updrs_iii_off-post_updrs_iii_off)/pre_updrs_iii_off\n",
    "pre_updrs_off = pre_updrs_iii_off\n",
    "X_all_c = X0_gt.reshape(n_cases,n_rois,n_features)\n",
    "X_all_c = X_all_c[:,0:4,:]\n",
    "\n",
    "lct_change = (pre_updrs_iii_off-pre_updrs_iii_on)/pre_updrs_iii_off\n",
    "pre_imp = lct_change\n",
    "# X_all_c = X_all_c.reshape(X_all_c.shape[0],z-1)\n",
    "# X_all_c = np.append(X_all_c,pre_imp.reshape(-1,1),axis=1)\n",
    "subsc = subject_id_corr\n",
    "subs_init = subsc"
   ]
  },
  {
   "cell_type": "code",
   "execution_count": 3,
   "metadata": {},
   "outputs": [
    {
     "name": "stdout",
     "output_type": "stream",
     "text": [
      "LassoCV score: 0.9013353368956226\n",
      "Lasso predicts 0.76 with regularization 0.02345\n"
     ]
    },
    {
     "name": "stderr",
     "output_type": "stream",
     "text": [
      "Choosing lambda with cross-validation: 100%|██████████| 5/5 [00:49<00:00,  9.81s/it]\n"
     ]
    },
    {
     "name": "stdout",
     "output_type": "stream",
     "text": [
      "Lambda start: 0.00010514676204212955\n",
      "Model: LassoNet(\n",
      "  (dropout): Dropout(p=0, inplace=False)\n",
      "  (layers): ModuleList(\n",
      "    (0): Linear(in_features=6385, out_features=1, bias=True)\n",
      "    (1): Linear(in_features=1, out_features=1, bias=True)\n",
      "  )\n",
      "  (skip): Linear(in_features=6385, out_features=1, bias=True)\n",
      ")\n",
      "LassoNet score: 0.924442354687688\n",
      "Lasso predicts 0.76 with regularization 0.02345 and 23 nonzero coefficients and LassoNet predicts 0.72 for case 1 with 0.72\n",
      "LassoCV score: 0.8943761452637891\n",
      "Lasso predicts 0.51 with regularization 0.02378\n"
     ]
    },
    {
     "name": "stderr",
     "output_type": "stream",
     "text": [
      "Choosing lambda with cross-validation: 100%|██████████| 5/5 [00:44<00:00,  8.98s/it]\n"
     ]
    },
    {
     "name": "stdout",
     "output_type": "stream",
     "text": [
      "Lambda start: 0.00010664623509202634\n",
      "Model: LassoNet(\n",
      "  (dropout): Dropout(p=0, inplace=False)\n",
      "  (layers): ModuleList(\n",
      "    (0): Linear(in_features=6385, out_features=1, bias=True)\n",
      "    (1): Linear(in_features=1, out_features=1, bias=True)\n",
      "  )\n",
      "  (skip): Linear(in_features=6385, out_features=1, bias=True)\n",
      ")\n",
      "LassoNet score: 0.9445347116152985\n",
      "Lasso predicts 0.51 with regularization 0.02378 and 21 nonzero coefficients and LassoNet predicts 0.5 for case 2 with 0.47\n",
      "LassoCV score: 0.893843012453517\n",
      "Lasso predicts 0.7 with regularization 0.02413\n"
     ]
    },
    {
     "name": "stderr",
     "output_type": "stream",
     "text": [
      "Choosing lambda with cross-validation: 100%|██████████| 5/5 [00:40<00:00,  8.14s/it]\n"
     ]
    },
    {
     "name": "stdout",
     "output_type": "stream",
     "text": [
      "Lambda start: 0.00010822785204402868\n",
      "Model: LassoNet(\n",
      "  (dropout): Dropout(p=0, inplace=False)\n",
      "  (layers): ModuleList(\n",
      "    (0): Linear(in_features=6385, out_features=1, bias=True)\n",
      "    (1): Linear(in_features=1, out_features=1, bias=True)\n",
      "  )\n",
      "  (skip): Linear(in_features=6385, out_features=1, bias=True)\n",
      ")\n",
      "LassoNet score: 0.9456571283832265\n",
      "Lasso predicts 0.7 with regularization 0.02413 and 18 nonzero coefficients and LassoNet predicts 0.9 for case 3 with 0.69\n",
      "LassoCV score: 0.6521783917189226\n",
      "Lasso predicts 0.61 with regularization 0.04781\n"
     ]
    },
    {
     "name": "stderr",
     "output_type": "stream",
     "text": [
      "Choosing lambda with cross-validation: 100%|██████████| 5/5 [00:46<00:00,  9.30s/it]\n"
     ]
    },
    {
     "name": "stdout",
     "output_type": "stream",
     "text": [
      "Lambda start: 0.0001074354084490981\n",
      "Model: LassoNet(\n",
      "  (dropout): Dropout(p=0, inplace=False)\n",
      "  (layers): ModuleList(\n",
      "    (0): Linear(in_features=6385, out_features=1, bias=True)\n",
      "    (1): Linear(in_features=1, out_features=1, bias=True)\n",
      "  )\n",
      "  (skip): Linear(in_features=6385, out_features=1, bias=True)\n",
      ")\n",
      "LassoNet score: 0.9570509391538986\n",
      "Lasso predicts 0.61 with regularization 0.04781 and 14 nonzero coefficients and LassoNet predicts 0.71 for case 4 with 0.42\n",
      "LassoCV score: 0.0\n",
      "Lasso predicts 0.58 with regularization 0.10036\n"
     ]
    },
    {
     "name": "stderr",
     "output_type": "stream",
     "text": [
      "Choosing lambda with cross-validation: 100%|██████████| 5/5 [00:45<00:00,  9.01s/it]\n"
     ]
    },
    {
     "name": "stdout",
     "output_type": "stream",
     "text": [
      "Lambda start: 0.00010036359567121217\n",
      "Model: LassoNet(\n",
      "  (dropout): Dropout(p=0, inplace=False)\n",
      "  (layers): ModuleList(\n",
      "    (0): Linear(in_features=6385, out_features=1, bias=True)\n",
      "    (1): Linear(in_features=1, out_features=1, bias=True)\n",
      "  )\n",
      "  (skip): Linear(in_features=6385, out_features=1, bias=True)\n",
      ")\n",
      "LassoNet score: 0.9075872161940357\n",
      "Lasso predicts 0.58 with regularization 0.10036 and 1 nonzero coefficients and LassoNet predicts 0.47 for case 5 with 0.15\n",
      "LassoCV score: 0.8958492016830151\n",
      "Lasso predicts 0.5 with regularization 0.02306\n"
     ]
    },
    {
     "name": "stderr",
     "output_type": "stream",
     "text": [
      "Choosing lambda with cross-validation: 100%|██████████| 5/5 [00:47<00:00,  9.44s/it]\n"
     ]
    },
    {
     "name": "stdout",
     "output_type": "stream",
     "text": [
      "Lambda start: 0.00010339669859422713\n",
      "Model: LassoNet(\n",
      "  (dropout): Dropout(p=0, inplace=False)\n",
      "  (layers): ModuleList(\n",
      "    (0): Linear(in_features=6385, out_features=1, bias=True)\n",
      "    (1): Linear(in_features=1, out_features=1, bias=True)\n",
      "  )\n",
      "  (skip): Linear(in_features=6385, out_features=1, bias=True)\n",
      ")\n",
      "LassoNet score: 0.9380101451740898\n",
      "Lasso predicts 0.5 with regularization 0.02306 and 23 nonzero coefficients and LassoNet predicts 0.47 for case 6 with 0.44\n",
      "LassoCV score: 0.9713959174888699\n",
      "Lasso predicts 0.71 with regularization 0.01145\n"
     ]
    },
    {
     "name": "stderr",
     "output_type": "stream",
     "text": [
      "Choosing lambda with cross-validation: 100%|██████████| 5/5 [00:46<00:00,  9.38s/it]\n"
     ]
    },
    {
     "name": "stdout",
     "output_type": "stream",
     "text": [
      "Lambda start: 0.00010220000905583082\n",
      "Model: LassoNet(\n",
      "  (dropout): Dropout(p=0, inplace=False)\n",
      "  (layers): ModuleList(\n",
      "    (0): Linear(in_features=6385, out_features=1, bias=True)\n",
      "    (1): Linear(in_features=1, out_features=1, bias=True)\n",
      "  )\n",
      "  (skip): Linear(in_features=6385, out_features=1, bias=True)\n",
      ")\n",
      "LassoNet score: 0.9701388404937398\n",
      "Lasso predicts 0.71 with regularization 0.01145 and 26 nonzero coefficients and LassoNet predicts 0.76 for case 7 with 0.88\n",
      "LassoCV score: 0.7953372557071289\n",
      "Lasso predicts 0.51 with regularization 0.03476\n"
     ]
    },
    {
     "name": "stderr",
     "output_type": "stream",
     "text": [
      "Choosing lambda with cross-validation: 100%|██████████| 5/5 [00:47<00:00,  9.43s/it]\n"
     ]
    },
    {
     "name": "stdout",
     "output_type": "stream",
     "text": [
      "Lambda start: 0.00010408350771967274\n",
      "Model: LassoNet(\n",
      "  (dropout): Dropout(p=0, inplace=False)\n",
      "  (layers): ModuleList(\n",
      "    (0): Linear(in_features=6385, out_features=1, bias=True)\n",
      "    (1): Linear(in_features=1, out_features=1, bias=True)\n",
      "  )\n",
      "  (skip): Linear(in_features=6385, out_features=1, bias=True)\n",
      ")\n",
      "LassoNet score: 0.9312977120334585\n",
      "Lasso predicts 0.51 with regularization 0.03476 and 17 nonzero coefficients and LassoNet predicts 0.46 for case 8 with 0.4\n",
      "LassoCV score: 0.898639703883686\n",
      "Lasso predicts 0.57 with regularization 0.02314\n"
     ]
    },
    {
     "name": "stderr",
     "output_type": "stream",
     "text": [
      "Choosing lambda with cross-validation: 100%|██████████| 5/5 [00:47<00:00,  9.42s/it]\n"
     ]
    },
    {
     "name": "stdout",
     "output_type": "stream",
     "text": [
      "Lambda start: 0.00010377740745079964\n",
      "Model: LassoNet(\n",
      "  (dropout): Dropout(p=0, inplace=False)\n",
      "  (layers): ModuleList(\n",
      "    (0): Linear(in_features=6385, out_features=1, bias=True)\n",
      "    (1): Linear(in_features=1, out_features=1, bias=True)\n",
      "  )\n",
      "  (skip): Linear(in_features=6385, out_features=1, bias=True)\n",
      ")\n",
      "LassoNet score: 0.9388592170370631\n",
      "Lasso predicts 0.57 with regularization 0.02314 and 23 nonzero coefficients and LassoNet predicts 0.51 for case 9 with 0.6\n",
      "LassoCV score: 0.9999973049470543\n",
      "Lasso predicts 0.5 with regularization 0.00011\n"
     ]
    },
    {
     "name": "stderr",
     "output_type": "stream",
     "text": [
      "Choosing lambda with cross-validation: 100%|██████████| 5/5 [00:46<00:00,  9.26s/it]\n"
     ]
    },
    {
     "name": "stdout",
     "output_type": "stream",
     "text": [
      "Lambda start: 0.00010662580455584098\n",
      "Model: LassoNet(\n",
      "  (dropout): Dropout(p=0, inplace=False)\n",
      "  (layers): ModuleList(\n",
      "    (0): Linear(in_features=6385, out_features=1, bias=True)\n",
      "    (1): Linear(in_features=1, out_features=1, bias=True)\n",
      "  )\n",
      "  (skip): Linear(in_features=6385, out_features=1, bias=True)\n",
      ")\n",
      "LassoNet score: 0.9444504076423225\n",
      "Lasso predicts 0.5 with regularization 0.00011 and 45 nonzero coefficients and LassoNet predicts 0.5 for case 10 with 0.81\n",
      "LassoCV score: 0.9717564171204529\n",
      "Lasso predicts 0.73 with regularization 0.01178\n"
     ]
    },
    {
     "name": "stderr",
     "output_type": "stream",
     "text": [
      "Choosing lambda with cross-validation: 100%|██████████| 5/5 [00:46<00:00,  9.35s/it]\n"
     ]
    },
    {
     "name": "stdout",
     "output_type": "stream",
     "text": [
      "Lambda start: 0.00010518835693905853\n",
      "Model: LassoNet(\n",
      "  (dropout): Dropout(p=0, inplace=False)\n",
      "  (layers): ModuleList(\n",
      "    (0): Linear(in_features=6385, out_features=1, bias=True)\n",
      "    (1): Linear(in_features=1, out_features=1, bias=True)\n",
      "  )\n",
      "  (skip): Linear(in_features=6385, out_features=1, bias=True)\n",
      ")\n",
      "LassoNet score: 0.9495307313304109\n",
      "Lasso predicts 0.73 with regularization 0.01178 and 27 nonzero coefficients and LassoNet predicts 0.74 for case 11 with 0.64\n",
      "LassoCV score: 0.8791914925635586\n",
      "Lasso predicts 0.52 with regularization 0.02514\n"
     ]
    },
    {
     "name": "stderr",
     "output_type": "stream",
     "text": [
      "Choosing lambda with cross-validation: 100%|██████████| 5/5 [00:46<00:00,  9.37s/it]\n"
     ]
    },
    {
     "name": "stdout",
     "output_type": "stream",
     "text": [
      "Lambda start: 0.00011272399375027192\n",
      "Model: LassoNet(\n",
      "  (dropout): Dropout(p=0, inplace=False)\n",
      "  (layers): ModuleList(\n",
      "    (0): Linear(in_features=6385, out_features=1, bias=True)\n",
      "    (1): Linear(in_features=1, out_features=1, bias=True)\n",
      "  )\n",
      "  (skip): Linear(in_features=6385, out_features=1, bias=True)\n",
      ")\n",
      "LassoNet score: 0.938162986694191\n",
      "Lasso predicts 0.52 with regularization 0.02514 and 22 nonzero coefficients and LassoNet predicts 0.61 for case 13 with 0.72\n",
      "LassoCV score: 0.9020049259292493\n",
      "Lasso predicts 0.57 with regularization 0.02295\n"
     ]
    },
    {
     "name": "stderr",
     "output_type": "stream",
     "text": [
      "Choosing lambda with cross-validation: 100%|██████████| 5/5 [00:47<00:00,  9.57s/it]\n"
     ]
    },
    {
     "name": "stdout",
     "output_type": "stream",
     "text": [
      "Lambda start: 0.00010292342089862934\n",
      "Model: LassoNet(\n",
      "  (dropout): Dropout(p=0, inplace=False)\n",
      "  (layers): ModuleList(\n",
      "    (0): Linear(in_features=6385, out_features=1, bias=True)\n",
      "    (1): Linear(in_features=1, out_features=1, bias=True)\n",
      "  )\n",
      "  (skip): Linear(in_features=6385, out_features=1, bias=True)\n",
      ")\n",
      "LassoNet score: 0.9799573431090087\n",
      "Lasso predicts 0.57 with regularization 0.02295 and 24 nonzero coefficients and LassoNet predicts 0.58 for case 14 with 0.31\n",
      "LassoCV score: 0.8981226207969186\n",
      "Lasso predicts 0.48 with regularization 0.02337\n"
     ]
    },
    {
     "name": "stderr",
     "output_type": "stream",
     "text": [
      "Choosing lambda with cross-validation: 100%|██████████| 5/5 [00:47<00:00,  9.45s/it]\n"
     ]
    },
    {
     "name": "stdout",
     "output_type": "stream",
     "text": [
      "Lambda start: 0.00010480680852549647\n",
      "Model: LassoNet(\n",
      "  (dropout): Dropout(p=0, inplace=False)\n",
      "  (layers): ModuleList(\n",
      "    (0): Linear(in_features=6385, out_features=1, bias=True)\n",
      "    (1): Linear(in_features=1, out_features=1, bias=True)\n",
      "  )\n",
      "  (skip): Linear(in_features=6385, out_features=1, bias=True)\n",
      ")\n",
      "LassoNet score: 0.9292620210795474\n",
      "Lasso predicts 0.48 with regularization 0.02337 and 23 nonzero coefficients and LassoNet predicts 0.5 for case 16 with 0.68\n",
      "LassoCV score: 0.6524471490099304\n",
      "Lasso predicts 0.52 with regularization 0.04684\n"
     ]
    },
    {
     "name": "stderr",
     "output_type": "stream",
     "text": [
      "Choosing lambda with cross-validation: 100%|██████████| 5/5 [00:44<00:00,  8.91s/it]\n"
     ]
    },
    {
     "name": "stdout",
     "output_type": "stream",
     "text": [
      "Lambda start: 0.00010525187082352603\n",
      "Model: LassoNet(\n",
      "  (dropout): Dropout(p=0, inplace=False)\n",
      "  (layers): ModuleList(\n",
      "    (0): Linear(in_features=6385, out_features=1, bias=True)\n",
      "    (1): Linear(in_features=1, out_features=1, bias=True)\n",
      "  )\n",
      "  (skip): Linear(in_features=6385, out_features=1, bias=True)\n",
      ")\n",
      "LassoNet score: 0.9243476508651658\n",
      "Lasso predicts 0.52 with regularization 0.04684 and 17 nonzero coefficients and LassoNet predicts 0.36 for case 18 with 0.34\n",
      "LassoCV score: 0.9005559372859426\n",
      "Lasso predicts 0.49 with regularization 0.02322\n"
     ]
    },
    {
     "name": "stderr",
     "output_type": "stream",
     "text": [
      "Choosing lambda with cross-validation: 100%|██████████| 5/5 [00:46<00:00,  9.25s/it]\n"
     ]
    },
    {
     "name": "stdout",
     "output_type": "stream",
     "text": [
      "Lambda start: 0.00010414442041608566\n",
      "Model: LassoNet(\n",
      "  (dropout): Dropout(p=0, inplace=False)\n",
      "  (layers): ModuleList(\n",
      "    (0): Linear(in_features=6385, out_features=1, bias=True)\n",
      "    (1): Linear(in_features=1, out_features=1, bias=True)\n",
      "  )\n",
      "  (skip): Linear(in_features=6385, out_features=1, bias=True)\n",
      ")\n",
      "LassoNet score: 0.8896109904591536\n",
      "Lasso predicts 0.49 with regularization 0.02322 and 23 nonzero coefficients and LassoNet predicts 0.29 for case 19 with 0.59\n",
      "LassoCV score: 0.8863767948898792\n",
      "Lasso predicts 0.66 with regularization 0.02349\n"
     ]
    },
    {
     "name": "stderr",
     "output_type": "stream",
     "text": [
      "Choosing lambda with cross-validation: 100%|██████████| 5/5 [00:46<00:00,  9.20s/it]\n"
     ]
    },
    {
     "name": "stdout",
     "output_type": "stream",
     "text": [
      "Lambda start: 0.00010534056114274049\n",
      "Model: LassoNet(\n",
      "  (dropout): Dropout(p=0, inplace=False)\n",
      "  (layers): ModuleList(\n",
      "    (0): Linear(in_features=6385, out_features=1, bias=True)\n",
      "    (1): Linear(in_features=1, out_features=1, bias=True)\n",
      "  )\n",
      "  (skip): Linear(in_features=6385, out_features=1, bias=True)\n",
      ")\n",
      "LassoNet score: 0.9498036072221211\n",
      "Lasso predicts 0.66 with regularization 0.02349 and 27 nonzero coefficients and LassoNet predicts 0.6 for case 20 with 0.94\n",
      "LassoCV score: 0.7909397336064675\n",
      "Lasso predicts 0.69 with regularization 0.03371\n"
     ]
    },
    {
     "name": "stderr",
     "output_type": "stream",
     "text": [
      "Choosing lambda with cross-validation: 100%|██████████| 5/5 [00:42<00:00,  8.44s/it]\n"
     ]
    },
    {
     "name": "stdout",
     "output_type": "stream",
     "text": [
      "Lambda start: 0.00010091544598757371\n",
      "Model: LassoNet(\n",
      "  (dropout): Dropout(p=0, inplace=False)\n",
      "  (layers): ModuleList(\n",
      "    (0): Linear(in_features=6385, out_features=1, bias=True)\n",
      "    (1): Linear(in_features=1, out_features=1, bias=True)\n",
      "  )\n",
      "  (skip): Linear(in_features=6385, out_features=1, bias=True)\n",
      ")\n",
      "LassoNet score: 0.8952772568665843\n",
      "Lasso predicts 0.69 with regularization 0.03371 and 17 nonzero coefficients and LassoNet predicts 0.64 for case 21 with 0.84\n",
      "LassoCV score: 0.7021364595347834\n",
      "Lasso predicts 0.46 with regularization 0.0388\n"
     ]
    },
    {
     "name": "stderr",
     "output_type": "stream",
     "text": [
      "Choosing lambda with cross-validation: 100%|██████████| 5/5 [00:41<00:00,  8.29s/it]\n"
     ]
    },
    {
     "name": "stdout",
     "output_type": "stream",
     "text": [
      "Lambda start: 8.720057597676787e-05\n",
      "Model: LassoNet(\n",
      "  (dropout): Dropout(p=0, inplace=False)\n",
      "  (layers): ModuleList(\n",
      "    (0): Linear(in_features=6385, out_features=1, bias=True)\n",
      "    (1): Linear(in_features=1, out_features=1, bias=True)\n",
      "  )\n",
      "  (skip): Linear(in_features=6385, out_features=1, bias=True)\n",
      ")\n",
      "LassoNet score: 0.9307464118392785\n",
      "Lasso predicts 0.46 with regularization 0.0388 and 18 nonzero coefficients and LassoNet predicts 0.34 for case 22 with 0.1\n",
      "LassoCV score: 0.9065397966471356\n",
      "Lasso predicts 0.54 with regularization 0.02323\n"
     ]
    },
    {
     "name": "stderr",
     "output_type": "stream",
     "text": [
      "Choosing lambda with cross-validation: 100%|██████████| 5/5 [00:46<00:00,  9.35s/it]\n"
     ]
    },
    {
     "name": "stdout",
     "output_type": "stream",
     "text": [
      "Lambda start: 0.00010415953832338453\n",
      "Model: LassoNet(\n",
      "  (dropout): Dropout(p=0, inplace=False)\n",
      "  (layers): ModuleList(\n",
      "    (0): Linear(in_features=6385, out_features=1, bias=True)\n",
      "    (1): Linear(in_features=1, out_features=1, bias=True)\n",
      "  )\n",
      "  (skip): Linear(in_features=6385, out_features=1, bias=True)\n",
      ")\n",
      "LassoNet score: 0.9348369898279759\n",
      "Lasso predicts 0.54 with regularization 0.02323 and 19 nonzero coefficients and LassoNet predicts 0.46 for case 23 with 0.41\n",
      "LassoCV score: 0.9040990059516021\n",
      "Lasso predicts 0.63 with regularization 0.02314\n"
     ]
    },
    {
     "name": "stderr",
     "output_type": "stream",
     "text": [
      "Choosing lambda with cross-validation: 100%|██████████| 5/5 [00:47<00:00,  9.42s/it]\n"
     ]
    },
    {
     "name": "stdout",
     "output_type": "stream",
     "text": [
      "Lambda start: 0.00010375838731416488\n",
      "Model: LassoNet(\n",
      "  (dropout): Dropout(p=0, inplace=False)\n",
      "  (layers): ModuleList(\n",
      "    (0): Linear(in_features=6385, out_features=1, bias=True)\n",
      "    (1): Linear(in_features=1, out_features=1, bias=True)\n",
      "  )\n",
      "  (skip): Linear(in_features=6385, out_features=1, bias=True)\n",
      ")\n",
      "LassoNet score: 0.915694114756833\n",
      "Lasso predicts 0.63 with regularization 0.02314 and 23 nonzero coefficients and LassoNet predicts 0.77 for case 24 with 0.57\n",
      "LassoCV score: 0.9007448829563882\n",
      "Lasso predicts 0.72 with regularization 0.0231\n"
     ]
    },
    {
     "name": "stderr",
     "output_type": "stream",
     "text": [
      "Choosing lambda with cross-validation: 100%|██████████| 5/5 [00:47<00:00,  9.53s/it]\n"
     ]
    },
    {
     "name": "stdout",
     "output_type": "stream",
     "text": [
      "Lambda start: 0.00010356846765887074\n",
      "Model: LassoNet(\n",
      "  (dropout): Dropout(p=0, inplace=False)\n",
      "  (layers): ModuleList(\n",
      "    (0): Linear(in_features=6385, out_features=1, bias=True)\n",
      "    (1): Linear(in_features=1, out_features=1, bias=True)\n",
      "  )\n",
      "  (skip): Linear(in_features=6385, out_features=1, bias=True)\n",
      ")\n",
      "LassoNet score: 0.8938136305291114\n",
      "Lasso predicts 0.72 with regularization 0.0231 and 22 nonzero coefficients and LassoNet predicts 0.66 for case 25 with 0.66\n",
      "LassoCV score: 0.9007150132427456\n",
      "Lasso predicts 0.59 with regularization 0.02315\n"
     ]
    },
    {
     "name": "stderr",
     "output_type": "stream",
     "text": [
      "Choosing lambda with cross-validation: 100%|██████████| 5/5 [00:47<00:00,  9.55s/it]\n"
     ]
    },
    {
     "name": "stdout",
     "output_type": "stream",
     "text": [
      "Lambda start: 0.0001037927692885411\n",
      "Model: LassoNet(\n",
      "  (dropout): Dropout(p=0, inplace=False)\n",
      "  (layers): ModuleList(\n",
      "    (0): Linear(in_features=6385, out_features=1, bias=True)\n",
      "    (1): Linear(in_features=1, out_features=1, bias=True)\n",
      "  )\n",
      "  (skip): Linear(in_features=6385, out_features=1, bias=True)\n",
      ")\n",
      "LassoNet score: 0.8464071248045135\n",
      "Lasso predicts 0.59 with regularization 0.02315 and 25 nonzero coefficients and LassoNet predicts 0.48 for case 26 with 0.63\n",
      "LassoCV score: 0.9034891165567804\n",
      "Lasso predicts 0.57 with regularization 0.02283\n"
     ]
    },
    {
     "name": "stderr",
     "output_type": "stream",
     "text": [
      "Choosing lambda with cross-validation: 100%|██████████| 5/5 [00:47<00:00,  9.49s/it]\n"
     ]
    },
    {
     "name": "stdout",
     "output_type": "stream",
     "text": [
      "Lambda start: 0.00010239807065900299\n",
      "Model: LassoNet(\n",
      "  (dropout): Dropout(p=0, inplace=False)\n",
      "  (layers): ModuleList(\n",
      "    (0): Linear(in_features=6385, out_features=1, bias=True)\n",
      "    (1): Linear(in_features=1, out_features=1, bias=True)\n",
      "  )\n",
      "  (skip): Linear(in_features=6385, out_features=1, bias=True)\n",
      ")\n",
      "LassoNet score: 0.8954813075576109\n",
      "Lasso predicts 0.57 with regularization 0.02283 and 22 nonzero coefficients and LassoNet predicts 0.55 for case 27 with 0.47\n",
      "LassoCV score: 0.0\n",
      "Lasso predicts 0.58 with regularization 0.09956\n"
     ]
    },
    {
     "name": "stderr",
     "output_type": "stream",
     "text": [
      "Choosing lambda with cross-validation: 100%|██████████| 5/5 [00:45<00:00,  9.14s/it]\n"
     ]
    },
    {
     "name": "stdout",
     "output_type": "stream",
     "text": [
      "Lambda start: 9.95550844830892e-05\n",
      "Model: LassoNet(\n",
      "  (dropout): Dropout(p=0, inplace=False)\n",
      "  (layers): ModuleList(\n",
      "    (0): Linear(in_features=6385, out_features=1, bias=True)\n",
      "    (1): Linear(in_features=1, out_features=1, bias=True)\n",
      "  )\n",
      "  (skip): Linear(in_features=6385, out_features=1, bias=True)\n",
      ")\n",
      "LassoNet score: 0.9026535833266529\n",
      "Lasso predicts 0.58 with regularization 0.09956 and 0 nonzero coefficients and LassoNet predicts 0.4 for case 28 with 0.28\n",
      "LassoCV score: 0.9002760056317239\n",
      "Lasso predicts 0.64 with regularization 0.02317\n"
     ]
    },
    {
     "name": "stderr",
     "output_type": "stream",
     "text": [
      "Choosing lambda with cross-validation: 100%|██████████| 5/5 [00:46<00:00,  9.28s/it]\n"
     ]
    },
    {
     "name": "stdout",
     "output_type": "stream",
     "text": [
      "Lambda start: 0.00010390574575083613\n",
      "Model: LassoNet(\n",
      "  (dropout): Dropout(p=0, inplace=False)\n",
      "  (layers): ModuleList(\n",
      "    (0): Linear(in_features=6385, out_features=1, bias=True)\n",
      "    (1): Linear(in_features=1, out_features=1, bias=True)\n",
      "  )\n",
      "  (skip): Linear(in_features=6385, out_features=1, bias=True)\n",
      ")\n",
      "LassoNet score: 0.8759961483807762\n",
      "Lasso predicts 0.64 with regularization 0.02317 and 24 nonzero coefficients and LassoNet predicts 0.64 for case 29 with 0.59\n",
      "LassoCV score: 0.8981370257426909\n",
      "Lasso predicts 0.71 with regularization 0.02365\n"
     ]
    },
    {
     "name": "stderr",
     "output_type": "stream",
     "text": [
      "Choosing lambda with cross-validation: 100%|██████████| 5/5 [00:41<00:00,  8.29s/it]\n"
     ]
    },
    {
     "name": "stdout",
     "output_type": "stream",
     "text": [
      "Lambda start: 0.00010604274159639285\n",
      "Model: LassoNet(\n",
      "  (dropout): Dropout(p=0, inplace=False)\n",
      "  (layers): ModuleList(\n",
      "    (0): Linear(in_features=6385, out_features=1, bias=True)\n",
      "    (1): Linear(in_features=1, out_features=1, bias=True)\n",
      "  )\n",
      "  (skip): Linear(in_features=6385, out_features=1, bias=True)\n",
      ")\n",
      "LassoNet score: 0.8978125674588401\n",
      "Lasso predicts 0.71 with regularization 0.02365 and 21 nonzero coefficients and LassoNet predicts 0.61 for case 30 with 0.53\n",
      "LassoCV score: 0.8944506449699814\n",
      "Lasso predicts 0.6 with regularization 0.02305\n"
     ]
    },
    {
     "name": "stderr",
     "output_type": "stream",
     "text": [
      "Choosing lambda with cross-validation: 100%|██████████| 5/5 [00:46<00:00,  9.20s/it]\n"
     ]
    },
    {
     "name": "stdout",
     "output_type": "stream",
     "text": [
      "Lambda start: 0.00010334891053617935\n",
      "Model: LassoNet(\n",
      "  (dropout): Dropout(p=0, inplace=False)\n",
      "  (layers): ModuleList(\n",
      "    (0): Linear(in_features=6385, out_features=1, bias=True)\n",
      "    (1): Linear(in_features=1, out_features=1, bias=True)\n",
      "  )\n",
      "  (skip): Linear(in_features=6385, out_features=1, bias=True)\n",
      ")\n",
      "LassoNet score: 0.9122472007425393\n",
      "Lasso predicts 0.6 with regularization 0.02305 and 24 nonzero coefficients and LassoNet predicts 0.63 for case 31 with 0.86\n",
      "LassoCV score: 0.8993151123301029\n",
      "Lasso predicts 0.5 with regularization 0.02303\n"
     ]
    },
    {
     "name": "stderr",
     "output_type": "stream",
     "text": [
      "Choosing lambda with cross-validation: 100%|██████████| 5/5 [00:45<00:00,  9.12s/it]\n"
     ]
    },
    {
     "name": "stdout",
     "output_type": "stream",
     "text": [
      "Lambda start: 0.00010327002875449353\n",
      "Model: LassoNet(\n",
      "  (dropout): Dropout(p=0, inplace=False)\n",
      "  (layers): ModuleList(\n",
      "    (0): Linear(in_features=6385, out_features=1, bias=True)\n",
      "    (1): Linear(in_features=1, out_features=1, bias=True)\n",
      "  )\n",
      "  (skip): Linear(in_features=6385, out_features=1, bias=True)\n",
      ")\n",
      "LassoNet score: 0.8868200077420085\n",
      "Lasso predicts 0.5 with regularization 0.02303 and 23 nonzero coefficients and LassoNet predicts 0.49 for case 32 with 0.48\n",
      "LassoCV score: 0.902970289071514\n",
      "Lasso predicts 0.71 with regularization 0.02295\n"
     ]
    },
    {
     "name": "stderr",
     "output_type": "stream",
     "text": [
      "Choosing lambda with cross-validation: 100%|██████████| 5/5 [00:47<00:00,  9.45s/it]\n"
     ]
    },
    {
     "name": "stdout",
     "output_type": "stream",
     "text": [
      "Lambda start: 0.00010290648649499963\n",
      "Model: LassoNet(\n",
      "  (dropout): Dropout(p=0, inplace=False)\n",
      "  (layers): ModuleList(\n",
      "    (0): Linear(in_features=6385, out_features=1, bias=True)\n",
      "    (1): Linear(in_features=1, out_features=1, bias=True)\n",
      "  )\n",
      "  (skip): Linear(in_features=6385, out_features=1, bias=True)\n",
      ")\n",
      "LassoNet score: 0.8677682554323093\n",
      "Lasso predicts 0.71 with regularization 0.02295 and 20 nonzero coefficients and LassoNet predicts 0.74 for case 33 with 0.66\n",
      "LassoCV score: 0.8989903181890337\n",
      "Lasso predicts 0.52 with regularization 0.02372\n"
     ]
    },
    {
     "name": "stderr",
     "output_type": "stream",
     "text": [
      "Choosing lambda with cross-validation: 100%|██████████| 5/5 [00:46<00:00,  9.38s/it]\n"
     ]
    },
    {
     "name": "stdout",
     "output_type": "stream",
     "text": [
      "Lambda start: 0.00010637518117607356\n",
      "Model: LassoNet(\n",
      "  (dropout): Dropout(p=0, inplace=False)\n",
      "  (layers): ModuleList(\n",
      "    (0): Linear(in_features=6385, out_features=1, bias=True)\n",
      "    (1): Linear(in_features=1, out_features=1, bias=True)\n",
      "  )\n",
      "  (skip): Linear(in_features=6385, out_features=1, bias=True)\n",
      ")\n",
      "LassoNet score: 0.8973857688537674\n",
      "Lasso predicts 0.52 with regularization 0.02372 and 21 nonzero coefficients and LassoNet predicts 0.51 for case 34 with 0.33\n",
      "LassoCV score: 0.9699544821168231\n",
      "Lasso predicts 0.45 with regularization 0.0119\n"
     ]
    },
    {
     "name": "stderr",
     "output_type": "stream",
     "text": [
      "Choosing lambda with cross-validation: 100%|██████████| 5/5 [00:46<00:00,  9.35s/it]\n"
     ]
    },
    {
     "name": "stdout",
     "output_type": "stream",
     "text": [
      "Lambda start: 0.0001062516784143694\n",
      "Model: LassoNet(\n",
      "  (dropout): Dropout(p=0, inplace=False)\n",
      "  (layers): ModuleList(\n",
      "    (0): Linear(in_features=6385, out_features=1, bias=True)\n",
      "    (1): Linear(in_features=1, out_features=1, bias=True)\n",
      "  )\n",
      "  (skip): Linear(in_features=6385, out_features=1, bias=True)\n",
      ")\n",
      "LassoNet score: 0.8897585185036798\n",
      "Lasso predicts 0.45 with regularization 0.0119 and 30 nonzero coefficients and LassoNet predicts 0.42 for case 35 with 0.49\n",
      "LassoCV score: 0.8939229742522596\n",
      "Lasso predicts 0.7 with regularization 0.02323\n"
     ]
    },
    {
     "name": "stderr",
     "output_type": "stream",
     "text": [
      "Choosing lambda with cross-validation: 100%|██████████| 5/5 [00:46<00:00,  9.30s/it]\n"
     ]
    },
    {
     "name": "stdout",
     "output_type": "stream",
     "text": [
      "Lambda start: 0.00010416148302657408\n",
      "Model: LassoNet(\n",
      "  (dropout): Dropout(p=0, inplace=False)\n",
      "  (layers): ModuleList(\n",
      "    (0): Linear(in_features=6385, out_features=1, bias=True)\n",
      "    (1): Linear(in_features=1, out_features=1, bias=True)\n",
      "  )\n",
      "  (skip): Linear(in_features=6385, out_features=1, bias=True)\n",
      ")\n",
      "LassoNet score: 0.8682091633063501\n",
      "Lasso predicts 0.7 with regularization 0.02323 and 24 nonzero coefficients and LassoNet predicts 0.66 for case 36 with 0.78\n",
      "LassoCV score: 0.9999974227636591\n",
      "Lasso predicts 0.59 with regularization 0.0001\n"
     ]
    },
    {
     "name": "stderr",
     "output_type": "stream",
     "text": [
      "Choosing lambda with cross-validation: 100%|██████████| 5/5 [00:46<00:00,  9.36s/it]\n"
     ]
    },
    {
     "name": "stdout",
     "output_type": "stream",
     "text": [
      "Lambda start: 0.00010037946640202495\n",
      "Model: LassoNet(\n",
      "  (dropout): Dropout(p=0, inplace=False)\n",
      "  (layers): ModuleList(\n",
      "    (0): Linear(in_features=6385, out_features=1, bias=True)\n",
      "    (1): Linear(in_features=1, out_features=1, bias=True)\n",
      "  )\n",
      "  (skip): Linear(in_features=6385, out_features=1, bias=True)\n",
      ")\n",
      "LassoNet score: 0.8884824667509982\n",
      "Lasso predicts 0.59 with regularization 0.0001 and 48 nonzero coefficients and LassoNet predicts 0.6 for case 37 with 0.81\n",
      "LassoCV score: 0.8983025916108357\n",
      "Lasso predicts 0.64 with regularization 0.02282\n"
     ]
    },
    {
     "name": "stderr",
     "output_type": "stream",
     "text": [
      "Choosing lambda with cross-validation: 100%|██████████| 5/5 [00:45<00:00,  9.16s/it]\n"
     ]
    },
    {
     "name": "stdout",
     "output_type": "stream",
     "text": [
      "Lambda start: 0.00010232425884383442\n",
      "Model: LassoNet(\n",
      "  (dropout): Dropout(p=0, inplace=False)\n",
      "  (layers): ModuleList(\n",
      "    (0): Linear(in_features=6385, out_features=1, bias=True)\n",
      "    (1): Linear(in_features=1, out_features=1, bias=True)\n",
      "  )\n",
      "  (skip): Linear(in_features=6385, out_features=1, bias=True)\n",
      ")\n",
      "LassoNet score: 0.8887306911645609\n",
      "Lasso predicts 0.64 with regularization 0.02282 and 23 nonzero coefficients and LassoNet predicts 0.69 for case 38 with 0.71\n",
      "LassoCV score: 0.895668287409421\n",
      "Lasso predicts 0.51 with regularization 0.02279\n"
     ]
    },
    {
     "name": "stderr",
     "output_type": "stream",
     "text": [
      "Choosing lambda with cross-validation: 100%|██████████| 5/5 [00:46<00:00,  9.36s/it]\n"
     ]
    },
    {
     "name": "stdout",
     "output_type": "stream",
     "text": [
      "Lambda start: 0.00010218976698484276\n",
      "Model: LassoNet(\n",
      "  (dropout): Dropout(p=0, inplace=False)\n",
      "  (layers): ModuleList(\n",
      "    (0): Linear(in_features=6385, out_features=1, bias=True)\n",
      "    (1): Linear(in_features=1, out_features=1, bias=True)\n",
      "  )\n",
      "  (skip): Linear(in_features=6385, out_features=1, bias=True)\n",
      ")\n",
      "LassoNet score: 0.8826143374903479\n",
      "Lasso predicts 0.51 with regularization 0.02279 and 21 nonzero coefficients and LassoNet predicts 0.53 for case 39 with 0.32\n",
      "LassoCV score: 0.8175058150369485\n",
      "Lasso predicts 0.67 with regularization 0.03209\n"
     ]
    },
    {
     "name": "stderr",
     "output_type": "stream",
     "text": [
      "Choosing lambda with cross-validation: 100%|██████████| 5/5 [00:41<00:00,  8.38s/it]\n"
     ]
    },
    {
     "name": "stdout",
     "output_type": "stream",
     "text": [
      "Lambda start: 9.608274346350337e-05\n",
      "Model: LassoNet(\n",
      "  (dropout): Dropout(p=0, inplace=False)\n",
      "  (layers): ModuleList(\n",
      "    (0): Linear(in_features=6385, out_features=1, bias=True)\n",
      "    (1): Linear(in_features=1, out_features=1, bias=True)\n",
      "  )\n",
      "  (skip): Linear(in_features=6385, out_features=1, bias=True)\n",
      ")\n",
      "LassoNet score: 0.8663093364462451\n",
      "Lasso predicts 0.67 with regularization 0.03209 and 20 nonzero coefficients and LassoNet predicts 0.64 for case 40 with 0.83\n"
     ]
    }
   ],
   "source": [
    "# Training parameters\n",
    "scoring = 'r2'\n",
    "results_bls = np.zeros_like(per_change)\n",
    "results_ls = np.zeros_like(per_change)\n",
    "scaler = skp.StandardScaler()\n",
    "#X = X_all_c.astype(float)#scaler.fit_transform(np.asarray(X_all_c,dtype=float).reshape(X_all_c.shape[0],-1))\n",
    "epsilon = 1e-1\n",
    "ledd = np.zeros_like(per_change)\n",
    "# Train\n",
    "for j in np.arange(len(subsc)):\n",
    "    test_id = subsc[j]\n",
    "    test_index = subsc == test_id\n",
    "    train_index = subsc != test_id\n",
    "    X_train = X_all_c[train_index,:,:]\n",
    "    X_test = X_all_c[test_index,:,:]\n",
    "    y_train = per_change[train_index]\n",
    "    y_test = per_change[test_index]\n",
    "    # Try this with common scaling\n",
    "    X0_ss0,scaler_ss,X_test_ss0 = util.model_scale(skp.StandardScaler(),\n",
    "                                                X_train,train_index,X_test,\n",
    "                                                test_index,pre_updrs_off,ledd,False,False,False)\n",
    "    with np.errstate(divide='ignore', invalid='ignore'):\n",
    "      # Feature selection\n",
    "      sel = skf.SelectKBest(skf.r_regression,k='all')\n",
    "      X0_ss = sel.fit_transform(X0_ss0,y_train)\n",
    "      X_test_ss = sel.transform(X_test_ss0)\n",
    "      y_n = cKDTree(X0_ss).query(X_test_ss, k=1)[1]\n",
    "    \n",
    "      Xy = np.dot(X0_ss.T,y_train)\n",
    "    if Xy.ndim == 1:\n",
    "        Xy = Xy[:, np.newaxis]\n",
    "    alpha_max = np.sqrt(np.sum(Xy**2, axis=1)).max()/len(y_train) \n",
    "    alphas = np.linspace(alpha_max*1e-3,alpha_max,10)\n",
    "    # LASSO\n",
    "    lasso = slm.LassoCV(max_iter=int(1e5),n_jobs=-1,alphas=alphas,random_state=0)\n",
    "    est_ls = lasso.fit(X0_ss,y_train)\n",
    "    print('LassoCV score:',est_ls.score(X0_ss,y_train))\n",
    "    results_ls[j] = est_ls.predict(X_test_ss).item()\n",
    "    print('Lasso predicts',str(np.round(results_ls[j],2)),\n",
    "          'with regularization',str(np.round(est_ls.alpha_,5)))\n",
    "    # LASSONet\n",
    "    lr=1e-3\n",
    "    lassonet = LassoNetRegressorCV(\n",
    "    M=1e-16, # Approximate standard LASSO\n",
    "    batch_size=len(y_train), # Leads to gradient descent optimization\n",
    "    hidden_dims=(1,),\n",
    "    #n_iters=(int(1e5),int(1e2)), # Iterations for objective function and path\n",
    "    tol=0.99,#1-est_ls.tol,  \n",
    "    lambda_seq=alphas, # Path multipler and initial lambda disregarded\n",
    "    optim=partial(SGD,lr=lr,momentum=1), # Approximate coordinate descent\n",
    "    #backtrack=True, # Approximate monotonic coordinate descent path\n",
    "    verbose=1,\n",
    "    torch_seed=0,\n",
    "    random_state=0,\n",
    "    gamma=0.0, # No L2 regularization\n",
    "    gamma_skip=0.0, # No L2 regularization on skip connection\n",
    "    patience=None # Disable early stopping\n",
    "    )\n",
    "    # What should these norms be...besides nonzero?\n",
    "    est_lsn = lassonet.fit(X0_ss,y_train)\n",
    "  \n",
    "    # print('Best lambda:',est_lsn.best_lambda_)\n",
    "    # print('All LassoNet scores:',est_lsn.best_cv_scores_)\n",
    "    # print('Mean LassoNetCV score:',est_lsn.best_cv_score_)\n",
    "    print('Model:',lassonet.model)\n",
    "    print('LassoNetCV score:',est_lsn.score(X0_ss,y_train))\n",
    "    results_bls[j] = est_lsn.predict(X_test_ss).item()\n",
    "\n",
    "    # Training status\n",
    "    print('Lasso predicts',str(np.round(results_ls[j],2)),\n",
    "          'with regularization',str(np.round(est_ls.alpha_,5)),\n",
    "          'and',str(np.sum(est_ls.coef_!=0)),'nonzero coefficients',\n",
    "          'and LassoNet predicts',str(np.round(results_bls[j],2)),\n",
    "          'for case',str(int(subsc[j])),'with',str(np.round(per_change[j],2)))\n",
    "\n"
   ]
  },
  {
   "cell_type": "code",
   "execution_count": 4,
   "metadata": {},
   "outputs": [
    {
     "data": {
      "image/png": "[encoded data removed]",
      "text/plain": [
       "<Figure size 1000x1500 with 3 Axes>"
      ]
     },
     "metadata": {},
     "output_type": "display_data"
    }
   ],
   "source": [
    "util.eval_prediction(np.vstack((pre_imp,\n",
    "                               results_ls,\n",
    "                               results_bls,\n",
    "                               )),\n",
    "                               per_change,\n",
    "                               ['LCT',\n",
    "                                'Lasso',\n",
    "                                'LassoNet'\n",
    "                                ],(30,5))\n",
    "plt.ylim([0,2])\n",
    "plt.xlim([0,2])\n",
    "plt.style.use('default')\n",
    "\n"
   ]
  }
 ],
 "metadata": {
  "kernelspec": {
   "display_name": "pdradenv",
   "language": "python",
   "name": "python3"
  },
  "language_info": {
   "codemirror_mode": {
    "name": "ipython",
    "version": 3
   },
   "file_extension": ".py",
   "mimetype": "text/x-python",
   "name": "python",
   "nbconvert_exporter": "python",
   "pygments_lexer": "ipython3",
   "version": "3.11.7"
  }
 },
 "nbformat": 4,
 "nbformat_minor": 2
}
