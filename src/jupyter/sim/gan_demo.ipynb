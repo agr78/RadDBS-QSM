{
 "cells": [
  {
   "cell_type": "code",
   "execution_count": null,
   "metadata": {},
   "outputs": [],
   "source": [
    "from torchfusion.gan.learners import *\n",
    "from torchfusion.gan.applications import StandardGenerator,StandardProjectionDiscriminator\n",
    "from torch.optim import Adam\n",
    "from torchfusion.datasets import mnist_loader\n",
    "import torch.cuda as cuda\n",
    "import torch.nn as nn\n",
    "import torch\n",
    "from torch.distributions import Normal\n",
    "\n",
    "G = StandardGenerator(output_size=(1,32,32),latent_size=128,num_classes=10)\n",
    "D = StandardProjectionDiscriminator(input_size=(1,32,32),apply_sigmoid=False,num_classes=10)\n",
    "\n",
    "if cuda.is_available():\n",
    "    G = nn.DataParallel(G.cuda())\n",
    "    D = nn.DataParallel(D.cuda())\n",
    "\n",
    "g_optim = Adam(G.parameters(),lr=0.0002,betas=(0.5,0.999))\n",
    "d_optim = Adam(D.parameters(),lr=0.0002,betas=(0.5,0.999))\n",
    "\n",
    "dataset = mnist_loader(size=32,batch_size=64)\n",
    "\n",
    "learner = RAvgStandardGanLearner(G,D)\n",
    "\n",
    "if __name__ == \"__main__\":\n",
    "    learner.train(dataset,num_classes=10,gen_optimizer=g_optim,disc_optimizer=d_optim,save_outputs_interval=500,model_dir=\"./MNIST-gan\",latent_size=128,num_epochs=50,batch_log=False)"
   ]
  }
 ],
 "metadata": {
  "kernelspec": {
   "display_name": "pdradenv",
   "language": "python",
   "name": "python3"
  },
  "language_info": {
   "codemirror_mode": {
    "name": "ipython",
    "version": 3
   },
   "file_extension": ".py",
   "mimetype": "text/x-python",
   "name": "python",
   "nbconvert_exporter": "python",
   "pygments_lexer": "ipython3",
   "version": "3.7.16"
  }
 },
 "nbformat": 4,
 "nbformat_minor": 2
}
