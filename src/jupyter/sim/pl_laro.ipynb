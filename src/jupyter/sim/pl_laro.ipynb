{
 "cells": [
  {
   "cell_type": "code",
   "execution_count": null,
   "metadata": {},
   "outputs": [],
   "source": [
    "# Import libraries\n",
    "import sys \n",
    "sys.path.append('../')\n",
    "import numpy as np \n",
    "import pandas as pd \n",
    "import os\n",
    "import warnings\n",
    "import torch\n",
    "from torchvision import datasets, transforms, models\n",
    "from torchvision.models import vgg19\n",
    "from torch.autograd import Variable\n",
    "from matplotlib import pyplot as plt\n",
    "from scipy.spatial import cKDTree\n",
    "from sklearn.exceptions import ConvergenceWarning\n",
    "import sklearn.linear_model as slm\n",
    "import sklearn.feature_selection as skf\n",
    "import sklearn.preprocessing as skp\n",
    "import util\n",
    "import cv2\n",
    "import pickle"
   ]
  },
  {
   "cell_type": "code",
   "execution_count": null,
   "metadata": {},
   "outputs": [],
   "source": [
    "# Augment with CHH data\n",
    "X0_gt = np.load('/home/ali/RadDBS-QSM/data/npy/old/X0_gt_chh_rois.npy')\n",
    "df = pd.read_csv('/home/ali/RadDBS-QSM/data/xlxs/updrs_iii_chh.csv')\n",
    "# Patient IDs\n",
    "subject_id = np.asarray(df[df.columns[0]])[1:]\n",
    "n_rois = 6\n",
    "# Data\n",
    "s_directory = open('/home/ali/RadDBS-QSM/data/roi/roi_list','r').read().splitlines()\n",
    "# Load\n",
    "with open('/home/ali/RadDBS-QSM/data/pickles/segs_chh', \"rb\") as fp:  \n",
    "    segs = pickle.load(fp)\n",
    "    n_cases = len(segs)\n",
    "with open('/home/ali/RadDBS-QSM/data/pickles/qsms_chh', \"rb\") as fp:  \n",
    "    qsms = pickle.load(fp)\n",
    "# with open('/home/ali/RadDBS-QSM/data/phi/chh/Phi_mcl_gt_roi_chh', \"rb\") as fp:  \n",
    "#     Phi_gt = pickle.load(fp)\n",
    "L = int(len(X0_gt)/n_cases)\n",
    "n_features = int(L/n_rois)\n",
    "# Only extract ROI if it is present in all cases\n",
    "seg_labels_all = segs[0]\n",
    "case_number = np.zeros_like(np.asarray(s_directory))\n",
    "for i in range(n_cases):\n",
    "    case_number[i] = float(s_directory[i][-2:])\n",
    "subject_id_corr = subject_id[np.in1d(subject_id,case_number)]\n",
    "for i in range(n_cases):\n",
    "    try:\n",
    "        print('Found ROIs',str(np.unique(segs[i])),'at segmentation directory file',s_directory[i],'for case',str(subject_id_corr[i]))\n",
    "    except:\n",
    "        print('Case',subject_id[i],'quarantined')\n",
    "pre_updrs_iii_off =  np.asarray(df[df.columns[3]][1:][np.in1d(subject_id,subject_id_corr)]).astype(float)                             \n",
    "pre_updrs_iii_on =  np.asarray(df[df.columns[4]][1:][np.in1d(subject_id,subject_id_corr)]).astype(float) \n",
    "post_updrs_iii_off =  np.asarray(df[df.columns[6]][1:][np.in1d(subject_id,subject_id_corr)]).astype(float) \n",
    "\n",
    "per_change = (pre_updrs_iii_off-post_updrs_iii_off)/pre_updrs_iii_off\n",
    "pre_updrs_off = pre_updrs_iii_off\n",
    "X_all_c = X0_gt.reshape(n_cases,n_rois,n_features)\n",
    "X_all_c = X_all_c[:,0:4,:]\n",
    "\n",
    "lct_change = (pre_updrs_iii_off-pre_updrs_iii_on)/pre_updrs_iii_off\n",
    "pre_imp = lct_change\n",
    "X_all_c = X_all_c.reshape(X_all_c.shape[0],-1)\n",
    "X_all_c = np.append(X_all_c,pre_imp.reshape(-1,1),axis=1)\n",
    "subsc = subject_id_corr"
   ]
  },
  {
   "cell_type": "code",
   "execution_count": null,
   "metadata": {},
   "outputs": [],
   "source": [
    "pt_model = vgg19(weights='DEFAULT')\n",
    "pt_model\n",
    "for param in pt_model.parameters():\n",
    "    param.required_grad = False"
   ]
  },
  {
   "cell_type": "code",
   "execution_count": null,
   "metadata": {},
   "outputs": [],
   "source": [
    "subs_init = subsc\n",
    "X_img, subsc0, per_change0, pre_metric0, pre_imp0 = util.slice_pick(subsc=subs_init,\n",
    "                        per_change=per_change,\n",
    "                        pre_metric=pre_updrs_off,\n",
    "                        pre_comp=pre_imp,\n",
    "                        pshape=(64,64,64),\n",
    "                        roi_l=0,roi_u=4,\n",
    "                        mask_crop_output=False,mask_output=False,o_index=False,\n",
    "                        file_path='/home/ali/RadDBS-QSM/src/jupyter/mlp/torch/X_chh.pt',\n",
    "                        qsm_path='/home/ali/RadDBS-QSM/data/nii/chh/qsm/',\n",
    "                        seg_prefix='/home/ali/RadDBS-QSM/data/nii/chh/seg/',\n",
    "                        save_image=False,\n",
    "                        L=10,\n",
    "                        new_prefix=False,\n",
    "                        img_directory='/home/ali/RadDBS-QSM/src/jupyter/mlp/chh_tensor_slices_0/',\n",
    "                        visualize=False,\n",
    "                        reload=True)\n",
    "Xr = torch.zeros((len(X_img),X_img[0].shape[0],X_img[0].shape[1]))\n",
    "for j in np.arange(len(X_img)):\n",
    "    img = X_img[j]\n",
    "    img[img>250] = 250\n",
    "    img[img<-250] = -250\n",
    "    Xr[j,:,:] = img\n",
    "    plt.imshow(np.rot90(img.cpu()),cmap=\"gray\")\n",
    "    plt.show()\n",
    "    np.save('./chh_tensor_slices_0/case_'+str(subsc[j])+'_0.npy',img.cpu())"
   ]
  },
  {
   "cell_type": "code",
   "execution_count": null,
   "metadata": {},
   "outputs": [],
   "source": [
    "pt_model"
   ]
  },
  {
   "cell_type": "code",
   "execution_count": null,
   "metadata": {},
   "outputs": [],
   "source": [
    "util.get_layer_output(X_img[j],pt_model,{\"features\": \"layer36\"})['layer36'].detach().numpy().shape"
   ]
  },
  {
   "cell_type": "code",
   "execution_count": null,
   "metadata": {},
   "outputs": [],
   "source": [
    "# Get the last max pooling layer\n",
    "pt_model.__getattr__('features')[36].register_forward_hook('features')#fc3.register_forward_hook(get_activation('fc3'))"
   ]
  },
  {
   "cell_type": "code",
   "execution_count": null,
   "metadata": {},
   "outputs": [],
   "source": [
    "Z = []\n",
    "zc1 = []\n",
    "x = []\n",
    "for j in np.arange(len(X_img)):\n",
    "    x_img = X_img[j]\n",
    "    x_img[x_img>250] = 250\n",
    "    x_img[x_img<-250] = -250\n",
    "    x.append(x_img.cpu().numpy())\n",
    "    Z.append(util.get_latent_rep(X_img[j],pt_model).detach().numpy())\n",
    "    zc1.append(util.get_layer_output(X_img[j],pt_model,{\"layer4.2.conv3\": \"layer4\"})['layer4'].detach().numpy())\n",
    "    plt.imshow(Z[j].reshape((10,100)))"
   ]
  },
  {
   "cell_type": "code",
   "execution_count": null,
   "metadata": {},
   "outputs": [],
   "source": [
    "X = np.asarray(x)\n",
    "Zc1 = np.asarray(zc1)"
   ]
  },
  {
   "cell_type": "code",
   "execution_count": null,
   "metadata": {},
   "outputs": [],
   "source": [
    "# plt.figure(figsize=(9, 5), dpi=100)\n",
    "\n",
    "# plt.imshow(np.rot90(np.hstack((X[0:9,:].reshape((-1,64)),X[9:18,:].reshape((-1,64)),\n",
    "#                       X[18:27,:].reshape((-1,64)),X[27:36,:].reshape((-1,64)),\n",
    "#                      X[36:45,:].reshape((-1,64))))),cmap='gray')\n",
    "                     \n",
    "# plt.style.use('dark_background')\n",
    "# plt.axis('off')\n"
   ]
  },
  {
   "cell_type": "code",
   "execution_count": null,
   "metadata": {},
   "outputs": [],
   "source": [
    "Z = np.asarray(Z)"
   ]
  },
  {
   "cell_type": "code",
   "execution_count": null,
   "metadata": {},
   "outputs": [],
   "source": [
    "plt.figure(figsize=(10, 10), dpi=100)\n",
    "\n",
    "plt.imshow(np.squeeze(Z))\n",
    "                     \n",
    "plt.style.use('dark_background')\n",
    "plt.axis('off')\n"
   ]
  },
  {
   "cell_type": "code",
   "execution_count": null,
   "metadata": {},
   "outputs": [],
   "source": [
    "plt.imshow(np.squeeze(Zc1[0])[0,:,:])"
   ]
  },
  {
   "cell_type": "code",
   "execution_count": null,
   "metadata": {},
   "outputs": [],
   "source": [
    "# for j in np.arange(Zc1.shape[2]):\n",
    "#     plt.figure(figsize=(9, 5), dpi=100)\n",
    "#     c = j\n",
    "#     plt.imshow(np.rot90(np.hstack((Zc1[0:9,0,c,:,:].reshape(-1,6),Zc1[9:18,0,c,:,:].reshape(-1,6),\n",
    "#                         Zc1[18:27,0,c,:,:].reshape(-1,6),Zc1[27:36,0,c,:,:].reshape(-1,6),\n",
    "#                         Zc1[36:45,0,c,:,:].reshape(-1,6)))),cmap='gray')\n",
    "#     plt.imsave(\"./channels/fig\"+str(j)+\".jpeg\",(np.rot90(np.hstack((Zc1[0:9,0,c,:,:].reshape(-1,6),Zc1[9:18,0,c,:,:].reshape(-1,6),\n",
    "#                         Zc1[18:27,0,c,:,:].reshape(-1,6),Zc1[27:36,0,c,:,:].reshape(-1,6),\n",
    "#                         Zc1[36:45,0,c,:,:].reshape(-1,6))))),cmap='gray')\n",
    "                        \n",
    "#     plt.style.use('dark_background')\n",
    "#     plt.axis('off')\n",
    "\n"
   ]
  },
  {
   "cell_type": "code",
   "execution_count": null,
   "metadata": {},
   "outputs": [],
   "source": [
    "rerecord = 0\n",
    "if rerecord == 1:\n",
    "    image_folder = 'channels'\n",
    "    video_name = 'channels.avi'\n",
    "\n",
    "    images = [img for img in os.listdir(image_folder) if img.endswith(\".jpeg\")]\n",
    "    frame = cv2.imread(os.path.join(image_folder, images[0]))\n",
    "    height, width, layers = frame.shape\n",
    "    video = cv2.VideoWriter(video_name, 0, 1, (width,height))\n",
    "\n",
    "    for image in images:\n",
    "        video.write(cv2.imread(os.path.join(image_folder, image)))\n",
    "\n",
    "    cv2.destroyAllWindows()\n",
    "    video.release()"
   ]
  },
  {
   "cell_type": "code",
   "execution_count": null,
   "metadata": {},
   "outputs": [],
   "source": [
    "r = np.zeros(len(per_change))\n",
    "err_var = np.zeros(len(per_change))\n",
    "rerror = np.zeros(len(per_change))\n",
    "kappa = []\n",
    "results_ls = np.zeros(len(per_change))\n",
    "scaler = skp.StandardScaler()\n",
    "Z = np.asarray(Zc1.reshape(Zc1.shape[0],-1))\n",
    "Z = scaler.fit_transform(np.squeeze(Z))\n",
    "for j in np.arange(len(subsc)):\n",
    "    test_id = subsc[j]\n",
    "    test_index = subsc == test_id\n",
    "    train_index = subsc != test_id\n",
    "    X_train = Z[train_index]\n",
    "    X_test = Z[test_index]\n",
    "    y_train = per_change[train_index].ravel()\n",
    "    y_test = per_change[test_index]\n",
    "\n",
    "    X0_ss0 = X_train.reshape(X_train.shape[0],-1)\n",
    "    X_test_ss0 = X_test.reshape(X_test.shape[0],-1)\n",
    "    # Cross validation\n",
    "    cvn = 5\n",
    "    # X0_ss0,scaler_ss,X_test_ss0 = util.model_scale(skp.StandardScaler(),\n",
    "    #                                             X_train,train_index,X_test,test_index,pre_metric,ledd,False,False,False)\n",
    "    lasso = slm.LassoCV(max_iter=1000,cv=cvn,n_jobs=-1,verbose=1)\n",
    "\n",
    "    with warnings.catch_warnings() and np.errstate(divide='ignore', invalid='ignore'):\n",
    "      # Feature selection\n",
    "      warnings.filterwarnings(\"ignore\", category=ConvergenceWarning)\n",
    "      sel = skf.SelectKBest(skf.r_regression,k=10)\n",
    "      X0_ss = sel.fit_transform(X0_ss0,y_train)\n",
    "      X_test_ss = sel.transform(X_test_ss0)\n",
    "      est_ls = lasso.fit(X0_ss,y_train)\n",
    "    results_ls[j] = est_ls.predict(X_test_ss)\n",
    "      \n",
    "    print('Lasso predicts',str(np.round(results_ls[j],2)),\n",
    "              'for case with',str(np.round(per_change[j],2)))\n",
    "              #'with regularization',str(est_ls.alpha_))"
   ]
  },
  {
   "cell_type": "code",
   "execution_count": null,
   "metadata": {},
   "outputs": [],
   "source": [
    "util.eval_prediction(np.vstack((np.squeeze(pre_imp),\n",
    "                               results_ls.T,\n",
    "                               )),\n",
    "                               np.squeeze(per_change),\n",
    "                               ['LCT',\n",
    "                                'Lasso',\n",
    "                                ],(20,10))\n",
    "plt.ylim([0,1.5])\n",
    "plt.xlim([0,1.5])\n",
    "plt.style.use('default')"
   ]
  }
 ],
 "metadata": {
  "kernelspec": {
   "display_name": "pdradenv",
   "language": "python",
   "name": "python3"
  },
  "language_info": {
   "codemirror_mode": {
    "name": "ipython",
    "version": 3
   },
   "file_extension": ".py",
   "mimetype": "text/x-python",
   "name": "python",
   "nbconvert_exporter": "python",
   "pygments_lexer": "ipython3",
   "version": "3.7.16"
  }
 },
 "nbformat": 4,
 "nbformat_minor": 2
}
