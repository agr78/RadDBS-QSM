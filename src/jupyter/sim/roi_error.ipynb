{
 "cells": [
  {
   "cell_type": "code",
   "execution_count": null,
   "metadata": {},
   "outputs": [],
   "source": [
    "import nibabel as nib\n",
    "import os\n",
    "import numpy as np\n",
    "import matplotlib.pyplot as plt"
   ]
  },
  {
   "cell_type": "code",
   "execution_count": null,
   "metadata": {},
   "outputs": [],
   "source": [
    "nii_dir = '/home/ali/RadDBS-QSM/data/nii'\n",
    "qsms = sorted(os.listdir(nii_dir+'/qsm/'))\n",
    "segs = sorted(os.listdir(nii_dir+'/seg/'))\n",
    "vrrn = np.zeros(len(qsms))\n",
    "vlrn = np.zeros(len(qsms))\n",
    "vrsn = np.zeros(len(qsms))\n",
    "vlsn = np.zeros(len(qsms))\n",
    "vrst = np.zeros(len(qsms))\n",
    "vlst = np.zeros(len(qsms))\n",
    "for j in np.arange(len(qsms)):\n",
    "        if int(qsms[j][-9:-7]) == int(segs[j][-9:-7]):\n",
    "            print('Computing variance for case '+qsms[j],'with mask '+segs[j])\n",
    "            mask = nib.load(nii_dir+'/seg/'+segs[j]).get_fdata()\n",
    "            chi = nib.load(nii_dir+'/qsm/'+qsms[j]).get_fdata()\n",
    "            rrn = mask == 1\n",
    "            lrn = mask == 2\n",
    "            rsn = mask == 3\n",
    "            lsn = mask == 4\n",
    "            rst = mask == 5\n",
    "            lst = mask == 6\n",
    "\n",
    "            vrrn[j] = np.var(chi[rrn==1])\n",
    "            vlrn[j] = np.var(chi[lrn==1])\n",
    "            vrsn[j] = np.var(chi[rsn==1])\n",
    "            vlsn[j] = np.var(chi[lsn==1])\n",
    "            vrst[j] = np.var(chi[rst==1])\n",
    "            vlst[j] = np.var(chi[lst==1])\n"
   ]
  }
 ],
 "metadata": {
  "kernelspec": {
   "display_name": "pdradenv",
   "language": "python",
   "name": "python3"
  },
  "language_info": {
   "codemirror_mode": {
    "name": "ipython",
    "version": 3
   },
   "file_extension": ".py",
   "mimetype": "text/x-python",
   "name": "python",
   "nbconvert_exporter": "python",
   "pygments_lexer": "ipython3",
   "version": "3.7.16"
  }
 },
 "nbformat": 4,
 "nbformat_minor": 2
}
