{
 "cells": [
  {
   "cell_type": "code",
   "execution_count": 1,
   "metadata": {},
   "outputs": [],
   "source": [
    "# Import libraries\n",
    "from scipy.cluster.hierarchy import dendrogram, linkage\n",
    "import matplotlib as mpl\n",
    "import matplotlib.pyplot as plt\n",
    "from mpl_toolkits.axes_grid1 import make_axes_locatable\n",
    "import nibabel as nib\n",
    "from sklearn.svm import SVR\n",
    "import sklearn.model_selection as sms\n",
    "import sklearn.linear_model as skl\n",
    "import sklearn.preprocessing as skp\n",
    "from sklearn.pipeline import Pipeline\n",
    "import sklearn.metrics as skm\n",
    "import SimpleITK as sitk\n",
    "import six\n",
    "from radiomics import featureextractor \n",
    "import numpy as np\n",
    "import os\n",
    "import pickle\n",
    "import pandas as pd\n",
    "import logging\n",
    "from scipy.stats import linregress\n",
    "import smogn\n",
    "import pandas\n",
    "from collections import Counter\n",
    "from multiprocessing import Pool\n",
    "from notebook import notebookapp\n",
    "from numpy import matlib\n",
    "import random\n",
    "from scipy import ndimage\n",
    "from util import pyvis\n",
    "from util import extract\n",
    "from loader import data_loader\n",
    "from IPython.display import HTML\n",
    "import util\n",
    "import smogn\n",
    "from smogn.phi import phi\n",
    "from smogn.phi_ctrl_pts import phi_ctrl_pts\n",
    "import warnings\n",
    "from multiprocessing import Pool\n",
    "import sklearn.linear_model as skl\n",
    "import sklearn.neural_network as snn\n",
    "from imbalanced_regression import fds"
   ]
  },
  {
   "cell_type": "code",
   "execution_count": 2,
   "metadata": {},
   "outputs": [
    {
     "data": {
      "text/html": [
       "\n",
       "<style>\n",
       ".jupyter-matplotlib {\n",
       "    background-color: #000;\n",
       "}\n",
       "\n",
       ".widget-label, .jupyter-matplotlib-header{\n",
       "    color: #fff;\n",
       "}\n",
       "\n",
       ".jupyter-button {\n",
       "    background-color: #333;\n",
       "    color: #fff;\n",
       "}\n",
       "</style>\n"
      ],
      "text/plain": [
       "<IPython.core.display.HTML object>"
      ]
     },
     "execution_count": 2,
     "metadata": {},
     "output_type": "execute_result"
    }
   ],
   "source": [
    "HTML('''\n",
    "<style>\n",
    ".jupyter-matplotlib {\n",
    "    background-color: #000;\n",
    "}\n",
    "\n",
    ".widget-label, .jupyter-matplotlib-header{\n",
    "    color: #fff;\n",
    "}\n",
    "\n",
    ".jupyter-button {\n",
    "    background-color: #333;\n",
    "    color: #fff;\n",
    "}\n",
    "</style>\n",
    "''')"
   ]
  },
  {
   "cell_type": "code",
   "execution_count": 3,
   "metadata": {},
   "outputs": [],
   "source": [
    "# Get case IDs\n",
    "case_list = open('/home/ali/RadDBS-QSM/data/docs/cases_90','r')\n",
    "lines = case_list.read()\n",
    "lists = np.loadtxt(case_list.name,comments=\"#\", delimiter=\",\",unpack=False,dtype=str)\n",
    "case_id = []\n",
    "for lines in lists:     \n",
    "    case_id.append(lines[-9:-7])\n",
    "\n",
    "# Load scores\n",
    "file_dir = '/home/ali/RadDBS-QSM/data/docs/QSM anonymus- 6.22.2023-1528.csv'\n",
    "motor_df = util.filter_scores(file_dir,'pre-dbs updrs','stim','CORNELL ID')\n",
    "# Find cases with all required scores\n",
    "subs,pre_imp,post_imp,pre_updrs_off = util.get_full_cases(motor_df,\n",
    "                                                          'CORNELL ID',\n",
    "                                                          'OFF (pre-dbs updrs)',\n",
    "                                                          'ON (pre-dbs updrs)',\n",
    "                                                          'OFF meds ON stim 6mo')\n",
    "# Load extracted features\n",
    "npy_dir = '/home/ali/RadDBS-QSM/data/npy/'\n",
    "phi_dir = '/home/ali/RadDBS-QSM/data/phi/'\n",
    "roi_path = '/data/Ali/atlas/mcgill_pd_atlas/PD25-subcortical-labels.csv'\n",
    "n_rois = 6\n",
    "Phi_all, X_all, R_all, K_all, ID_all = util.load_featstruct(phi_dir,npy_dir+'X/',npy_dir+'R/',npy_dir+'K/',n_rois,1595)\n",
    "ids = np.asarray(ID_all).astype(int)\n",
    "# Find overlap between scored subjects and feature extraction cases\n",
    "c_cases = np.intersect1d(np.asarray(case_id).astype(int),np.asarray(subs).astype(int))\n",
    "# Complete case indices with respect to feature matrix\n",
    "c_cases_idx = np.in1d(ids,c_cases)\n",
    "X_all_c = X_all[c_cases_idx,:,:]\n",
    "K_all_c = K_all[c_cases_idx,:,:]\n",
    "R_all_c = R_all[c_cases_idx,:,:]\n",
    "# Re-index the scored subjects with respect to complete cases\n",
    "s_cases_idx = np.in1d(subs,ids[c_cases_idx])\n",
    "pre_imp = pre_imp[s_cases_idx]\n",
    "post_imp = post_imp[s_cases_idx]\n",
    "pre_updrs_off = pre_updrs_off[s_cases_idx]\n",
    "per_change = post_imp"
   ]
  },
  {
   "cell_type": "code",
   "execution_count": 4,
   "metadata": {},
   "outputs": [
    {
     "data": {
      "text/plain": [
       "Text(0, 0.5, 'Frequency')"
      ]
     },
     "execution_count": 4,
     "metadata": {},
     "output_type": "execute_result"
    },
    {
     "data": {
      "image/png": "[encoded data removed]",
      "text/plain": [
       "<Figure size 432x288 with 1 Axes>"
      ]
     },
     "metadata": {
      "needs_background": "light"
     },
     "output_type": "display_data"
    }
   ],
   "source": [
    "fig, ax = plt.subplots()\n",
    "plt.hist(X_all_c.ravel())\n",
    "plt.loglog()\n",
    "ax.set_xticklabels([])\n",
    "plt.title('Feature distribution')\n",
    "plt.xlabel('Feature')\n",
    "plt.ylabel('Frequency')"
   ]
  },
  {
   "cell_type": "code",
   "execution_count": 5,
   "metadata": {},
   "outputs": [
    {
     "data": {
      "text/plain": [
       "Text(0, 0.5, 'Frequency')"
      ]
     },
     "execution_count": 5,
     "metadata": {},
     "output_type": "execute_result"
    },
    {
     "data": {
      "image/png": "[encoded data removed]",
      "text/plain": [
       "<Figure size 432x288 with 1 Axes>"
      ]
     },
     "metadata": {
      "needs_background": "light"
     },
     "output_type": "display_data"
    }
   ],
   "source": [
    "plt.hist(per_change,bins=20)\n",
    "plt.title('Target distribution')\n",
    "plt.xlabel('DBS outcome')\n",
    "plt.ylabel('Frequency')"
   ]
  },
  {
   "cell_type": "code",
   "execution_count": 6,
   "metadata": {},
   "outputs": [],
   "source": [
    "# Assign the anchor target to the median\n",
    "anchor = np.median(per_change)\n",
    "aj = np.where(per_change==anchor)\n",
    "aj = aj[0][0]"
   ]
  },
  {
   "cell_type": "code",
   "execution_count": 7,
   "metadata": {},
   "outputs": [],
   "source": [
    "X0 = X_all_c.reshape(X_all_c.shape[0],X_all_c.shape[1]*X_all_c.shape[2])\n",
    "X0_s = skp.StandardScaler().fit_transform(X0)\n",
    "X0_mm = skp.MinMaxScaler().fit_transform(X0)\n",
    "X0_ma = skp.MaxAbsScaler().fit_transform(X0)\n",
    "X0_rs = skp.RobustScaler().fit_transform(X0)"
   ]
  },
  {
   "cell_type": "code",
   "execution_count": 8,
   "metadata": {},
   "outputs": [],
   "source": [
    "C0 = np.zeros((1,len(per_change))).T\n",
    "C0_s = np.zeros((1,len(per_change))).T\n",
    "C0_mm = np.zeros((1,len(per_change))).T\n",
    "C0_ma = np.zeros((1,len(per_change))).T\n",
    "C0_rs = np.zeros((1,len(per_change))).T\n",
    "for j in np.arange(len(per_change)):\n",
    "    C0[j] = skm.pairwise.cosine_similarity(np.expand_dims(X0[aj,:],axis=0),\n",
    "                                          np.expand_dims(X0[j,:],axis=0))\n",
    "    C0_s[j] = skm.pairwise.cosine_similarity(np.expand_dims(X0_s[aj,:],axis=0),\n",
    "                                          np.expand_dims(X0_s[j,:],axis=0))\n",
    "    C0_mm[j] = skm.pairwise.cosine_similarity(np.expand_dims(X0_mm[aj,:],axis=0),\n",
    "                                          np.expand_dims(X0_mm[j,:],axis=0))\n",
    "    C0_ma[j] = skm.pairwise.cosine_similarity(np.expand_dims(X0_ma[aj,:],axis=0),\n",
    "                                          np.expand_dims(X0_ma[j,:],axis=0))    \n",
    "    C0_rs[j] = skm.pairwise.cosine_similarity(np.expand_dims(X0_rs[aj,:],axis=0),\n",
    "                                          np.expand_dims(X0_rs[j,:],axis=0))"
   ]
  },
  {
   "cell_type": "code",
   "execution_count": 9,
   "metadata": {},
   "outputs": [
    {
     "data": {
      "text/plain": [
       "Text(0.5, 0.98, 'Feature vector similarity')"
      ]
     },
     "execution_count": 9,
     "metadata": {},
     "output_type": "execute_result"
    },
    {
     "data": {
      "image/png": "[encoded data removed]",
      "text/plain": [
       "<Figure size 1800x720 with 5 Axes>"
      ]
     },
     "metadata": {
      "needs_background": "light"
     },
     "output_type": "display_data"
    }
   ],
   "source": [
    "fig, ax = plt.subplots(1,5,figsize=(25,10),sharey=True)\n",
    "pd.DataFrame(C0,index=per_change).plot.bar(ax=ax[0],legend=False,width=0.9)\n",
    "ax[0].set_xticks([])\n",
    "ax[0].get_children()\n",
    "ax[0].get_children()[aj].set_color('#ff7f0e') \n",
    "ax[0].set_ylim([-0.5,1])\n",
    "ax[0].set_ylabel('Similarity with respect to anchor target',fontsize=24)\n",
    "ax[0].set_xlabel('Target',fontsize=24)\n",
    "ax[0].set_title('Raw',fontsize=24)\n",
    "pd.DataFrame(C0_s,index=per_change).plot.bar(ax=ax[1],legend=False,width=0.9)\n",
    "ax[1].set_xticks([])\n",
    "ax[1].get_children()\n",
    "ax[1].get_children()[aj].set_color('#ff7f0e') \n",
    "ax[1].set_xlabel('Target',fontsize=24)\n",
    "ax[1].set_title('Standard',fontsize=24)\n",
    "pd.DataFrame(C0_mm,index=per_change).plot.bar(ax=ax[2],legend=False,width=0.9)\n",
    "ax[2].set_xticks([])\n",
    "ax[2].get_children()\n",
    "ax[2].get_children()[aj].set_color('#ff7f0e') \n",
    "ax[2].set_xlabel('Target',fontsize=24)\n",
    "ax[2].set_title('Minimum-Maximum',fontsize=24)\n",
    "pd.DataFrame(C0_ma,index=per_change).plot.bar(ax=ax[3],legend=False,width=0.9)\n",
    "ax[3].set_xticks([])\n",
    "ax[3].get_children()\n",
    "ax[3].get_children()[aj].set_color('#ff7f0e') \n",
    "ax[3].set_xlabel('Target',fontsize=24)\n",
    "ax[3].set_title('Maximum-Absolute',fontsize=24)\n",
    "pd.DataFrame(C0_rs,index=per_change).plot.bar(ax=ax[4],legend=False,width=0.9)\n",
    "ax[4].set_xticks([])\n",
    "ax[4].get_children()\n",
    "ax[4].get_children()[aj].set_color('#ff7f0e') \n",
    "ax[4].set_xlabel('Target',fontsize=24)\n",
    "ax[4].set_title('Robust',fontsize=24)\n",
    "plt.suptitle('Feature vector similarity',fontsize=30)"
   ]
  }
 ],
 "metadata": {
  "kernelspec": {
   "display_name": "pdradenv",
   "language": "python",
   "name": "python3"
  },
  "language_info": {
   "codemirror_mode": {
    "name": "ipython",
    "version": 3
   },
   "file_extension": ".py",
   "mimetype": "text/x-python",
   "name": "python",
   "nbconvert_exporter": "python",
   "pygments_lexer": "ipython3",
   "version": "3.7.16"
  }
 },
 "nbformat": 4,
 "nbformat_minor": 2
}
