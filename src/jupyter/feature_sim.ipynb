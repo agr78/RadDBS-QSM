{
 "cells": [
  {
   "cell_type": "code",
   "execution_count": 84,
   "metadata": {},
   "outputs": [],
   "source": [
    "# Import libraries\n",
    "from scipy.cluster.hierarchy import dendrogram, linkage\n",
    "import matplotlib as mpl\n",
    "import matplotlib.pyplot as plt\n",
    "from mpl_toolkits.axes_grid1 import make_axes_locatable\n",
    "import nibabel as nib\n",
    "from sklearn.svm import SVR\n",
    "import sklearn.model_selection as sms\n",
    "import sklearn.linear_model as skl\n",
    "import sklearn.preprocessing as skp\n",
    "from sklearn.pipeline import Pipeline\n",
    "import sklearn.metrics as skm\n",
    "import SimpleITK as sitk\n",
    "import six\n",
    "from radiomics import featureextractor \n",
    "import numpy as np\n",
    "import os\n",
    "import pickle\n",
    "import pandas as pd\n",
    "import logging\n",
    "from scipy.stats import linregress\n",
    "import smogn\n",
    "import pandas\n",
    "from collections import Counter\n",
    "from multiprocessing import Pool\n",
    "from notebook import notebookapp\n",
    "from numpy import matlib\n",
    "import random\n",
    "from scipy import ndimage\n",
    "from util import pyvis\n",
    "from util import extract\n",
    "from loader import data_loader\n",
    "from IPython.display import HTML\n",
    "import util\n",
    "import smogn\n",
    "from smogn.phi import phi\n",
    "from smogn.phi_ctrl_pts import phi_ctrl_pts\n",
    "import warnings\n",
    "from multiprocessing import Pool\n",
    "import sklearn.linear_model as skl\n",
    "import sklearn.neural_network as snn\n",
    "from imbalanced_regression import fds\n",
    "import scipy\n",
    "from scipy.ndimage import gaussian_filter1d\n",
    "from scipy.signal.windows import triang\n",
    "from scipy.ndimage import convolve1d\n",
    "import scipy.stats as stats\n",
    "import torch\n",
    "from torch.nn import KLDivLoss\n"
   ]
  },
  {
   "cell_type": "markdown",
   "metadata": {},
   "source": [
    "For the dataset $\\{(\\mathbf{x}_i,y_i)\\}^N_{i=1}$ with feature space $\\mathbf{x} \\in \\mathbb{R}^d$ and label $y_i \\in \\mathbb{R}$:"
   ]
  },
  {
   "cell_type": "code",
   "execution_count": 2,
   "metadata": {},
   "outputs": [],
   "source": [
    "# Get case IDs\n",
    "case_list = open('/home/ali/RadDBS-QSM/data/docs/cases_90','r')\n",
    "lines = case_list.read()\n",
    "lists = np.loadtxt(case_list.name,comments=\"#\", delimiter=\",\",unpack=False,dtype=str)\n",
    "case_id = []\n",
    "for lines in lists:     \n",
    "    case_id.append(lines[-9:-7])\n",
    "\n",
    "# Load scores\n",
    "file_dir = '/home/ali/RadDBS-QSM/data/docs/QSM anonymus- 6.22.2023-1528.csv'\n",
    "motor_df = util.filter_scores(file_dir,'pre-dbs updrs','stim','CORNELL ID')\n",
    "# Find cases with all required scores\n",
    "subs,pre_imp,post_imp,pre_updrs_off = util.get_full_cases(motor_df,\n",
    "                                                          'CORNELL ID',\n",
    "                                                          'OFF (pre-dbs updrs)',\n",
    "                                                          'ON (pre-dbs updrs)',\n",
    "                                                          'OFF meds ON stim 6mo')\n",
    "# Load extracted features\n",
    "npy_dir = '/home/ali/RadDBS-QSM/data/npy/'\n",
    "phi_dir = '/home/ali/RadDBS-QSM/data/phi/'\n",
    "roi_path = '/data/Ali/atlas/mcgill_pd_atlas/PD25-subcortical-labels.csv'\n",
    "n_rois = 6\n",
    "Phi_all, X_all, R_all, K_all, ID_all = util.load_featstruct(phi_dir,npy_dir+'X/',npy_dir+'R/',npy_dir+'K/',n_rois,1595)\n",
    "ids = np.asarray(ID_all).astype(int)\n",
    "# Find overlap between scored subjects and feature extraction cases\n",
    "c_cases = np.intersect1d(np.asarray(case_id).astype(int),np.asarray(subs).astype(int))\n",
    "# Complete case indices with respect to feature matrix\n",
    "c_cases_idx = np.in1d(ids,c_cases)\n",
    "X_all_c = X_all[c_cases_idx,:,:]\n",
    "K_all_c = K_all[c_cases_idx,:,:]\n",
    "R_all_c = R_all[c_cases_idx,:,:]\n",
    "# Re-index the scored subjects with respect to complete cases\n",
    "s_cases_idx = np.in1d(subs,ids[c_cases_idx])\n",
    "pre_imp = pre_imp[s_cases_idx]\n",
    "post_imp = post_imp[s_cases_idx]\n",
    "pre_updrs_off = pre_updrs_off[s_cases_idx]\n",
    "per_change = post_imp"
   ]
  },
  {
   "cell_type": "code",
   "execution_count": 3,
   "metadata": {},
   "outputs": [
    {
     "data": {
      "text/plain": [
       "Text(0, 0.5, 'Frequency')"
      ]
     },
     "execution_count": 3,
     "metadata": {},
     "output_type": "execute_result"
    },
    {
     "data": {
      "image/png": "[encoded data removed]",
      "text/plain": [
       "<Figure size 432x288 with 1 Axes>"
      ]
     },
     "metadata": {
      "needs_background": "light"
     },
     "output_type": "display_data"
    }
   ],
   "source": [
    "fig, ax = plt.subplots()\n",
    "h = plt.hist(X_all_c.ravel(),bins=10000)\n",
    "plt.loglog()\n",
    "ax.set_xticklabels([])\n",
    "plt.title('Feature distribution')\n",
    "plt.xlabel('Feature value')\n",
    "plt.ylabel('Frequency')"
   ]
  },
  {
   "cell_type": "code",
   "execution_count": 4,
   "metadata": {},
   "outputs": [
    {
     "data": {
      "text/plain": [
       "Text(0, 0.5, 'Frequency')"
      ]
     },
     "execution_count": 4,
     "metadata": {},
     "output_type": "execute_result"
    },
    {
     "data": {
      "image/png": "[encoded data removed]",
      "text/plain": [
       "<Figure size 432x288 with 1 Axes>"
      ]
     },
     "metadata": {
      "needs_background": "light"
     },
     "output_type": "display_data"
    }
   ],
   "source": [
    "plt.hist(per_change,bins=20)\n",
    "plt.title('Target distribution')\n",
    "plt.xlabel('DBS outcome')\n",
    "plt.ylabel('Frequency')"
   ]
  },
  {
   "cell_type": "code",
   "execution_count": 5,
   "metadata": {},
   "outputs": [],
   "source": [
    "# Assign the anchor target to the median\n",
    "anchor = np.median(per_change)\n",
    "aj = np.where(per_change==anchor)\n",
    "aj = aj[0][0]"
   ]
  },
  {
   "cell_type": "code",
   "execution_count": 6,
   "metadata": {},
   "outputs": [],
   "source": [
    "X0 = X_all_c.reshape(X_all_c.shape[0],X_all_c.shape[1]*X_all_c.shape[2])\n",
    "X0_s = skp.StandardScaler().fit_transform(X0)\n",
    "X0_mm = skp.MinMaxScaler().fit_transform(X0)\n",
    "X0_ma = skp.MaxAbsScaler().fit_transform(X0)\n",
    "X0_rs = skp.RobustScaler().fit_transform(X0)"
   ]
  },
  {
   "cell_type": "code",
   "execution_count": 7,
   "metadata": {},
   "outputs": [],
   "source": [
    "C0 = np.zeros((1,len(per_change))).T\n",
    "C0_s = np.zeros((1,len(per_change))).T\n",
    "C0_mm = np.zeros((1,len(per_change))).T\n",
    "C0_ma = np.zeros((1,len(per_change))).T\n",
    "C0_rs = np.zeros((1,len(per_change))).T\n",
    "for j in np.arange(len(per_change)):\n",
    "    C0[j] = skm.pairwise.cosine_similarity(np.expand_dims(X0[aj,:],axis=0),\n",
    "                                          np.expand_dims(X0[j,:],axis=0))\n",
    "    C0_s[j] = skm.pairwise.cosine_similarity(np.expand_dims(X0_s[aj,:],axis=0),\n",
    "                                          np.expand_dims(X0_s[j,:],axis=0))\n",
    "    C0_mm[j] = skm.pairwise.cosine_similarity(np.expand_dims(X0_mm[aj,:],axis=0),\n",
    "                                          np.expand_dims(X0_mm[j,:],axis=0))\n",
    "    C0_ma[j] = skm.pairwise.cosine_similarity(np.expand_dims(X0_ma[aj,:],axis=0),\n",
    "                                          np.expand_dims(X0_ma[j,:],axis=0))    \n",
    "    C0_rs[j] = skm.pairwise.cosine_similarity(np.expand_dims(X0_rs[aj,:],axis=0),\n",
    "                                          np.expand_dims(X0_rs[j,:],axis=0))"
   ]
  },
  {
   "cell_type": "code",
   "execution_count": 8,
   "metadata": {},
   "outputs": [
    {
     "data": {
      "text/plain": [
       "Text(0.5, 0.98, 'Feature vector similarity')"
      ]
     },
     "execution_count": 8,
     "metadata": {},
     "output_type": "execute_result"
    },
    {
     "data": {
      "image/png": "[encoded data removed]",
      "text/plain": [
       "<Figure size 1800x720 with 5 Axes>"
      ]
     },
     "metadata": {
      "needs_background": "light"
     },
     "output_type": "display_data"
    }
   ],
   "source": [
    "fig, ax = plt.subplots(1,5,figsize=(25,10),sharey=True)\n",
    "pd.DataFrame(C0,index=per_change).plot.bar(ax=ax[0],legend=False,width=0.9)\n",
    "ax[0].set_xticks([])\n",
    "ax[0].get_children()\n",
    "ax[0].get_children()[aj].set_color('#ff7f0e') \n",
    "ax[0].set_ylim([-0.5,1])\n",
    "ax[0].set_ylabel('Similarity with respect to anchor target',fontsize=24)\n",
    "ax[0].set_xlabel('Target',fontsize=24)\n",
    "ax[0].set_title('Raw',fontsize=24)\n",
    "pd.DataFrame(C0_s,index=per_change).plot.bar(ax=ax[1],legend=False,width=0.9)\n",
    "ax[1].set_xticks([])\n",
    "ax[1].get_children()\n",
    "ax[1].get_children()[aj].set_color('#ff7f0e') \n",
    "ax[1].set_xlabel('Target',fontsize=24)\n",
    "ax[1].set_title('Standard',fontsize=24)\n",
    "pd.DataFrame(C0_mm,index=per_change).plot.bar(ax=ax[2],legend=False,width=0.9)\n",
    "ax[2].set_xticks([])\n",
    "ax[2].get_children()\n",
    "ax[2].get_children()[aj].set_color('#ff7f0e') \n",
    "ax[2].set_xlabel('Target',fontsize=24)\n",
    "ax[2].set_title('Minimum-Maximum',fontsize=24)\n",
    "pd.DataFrame(C0_ma,index=per_change).plot.bar(ax=ax[3],legend=False,width=0.9)\n",
    "ax[3].set_xticks([])\n",
    "ax[3].get_children()\n",
    "ax[3].get_children()[aj].set_color('#ff7f0e') \n",
    "ax[3].set_xlabel('Target',fontsize=24)\n",
    "ax[3].set_title('Maximum-Absolute',fontsize=24)\n",
    "pd.DataFrame(C0_rs,index=per_change).plot.bar(ax=ax[4],legend=False,width=0.9)\n",
    "ax[4].set_xticks([])\n",
    "ax[4].get_children()\n",
    "ax[4].get_children()[aj].set_color('#ff7f0e') \n",
    "ax[4].set_xlabel('Target',fontsize=24)\n",
    "ax[4].set_title('Robust',fontsize=24)\n",
    "plt.suptitle('Feature vector similarity',fontsize=30)"
   ]
  },
  {
   "cell_type": "markdown",
   "metadata": {},
   "source": [
    "Define the structure $\\mathcal{Y}$ which can be divided into $\\mathcal{B}$ groups \n",
    "$$[y_0,y_1),[y_1,y_2),...[y_{B-1},y_B)$$\n",
    "Where $\\mathcal{B}=\\{1,...,B\\} \\in \\mathbb{Z^+}$, or the index space. The defined bins give a minimum resolution for the regression task\n",
    "$$\\delta y \\overset{\\Delta}{=}y_{b+1}-y_b$$\n",
    "For (learned) feature space, let $z=f(\\mathbf{x},\\theta)$, where $f$ if is a deep neural network parameterized by $\\theta$. Then, the final prediction is $\\hat{y}=g(z)$. \\\n",
    "\\\n",
    "Both features $\\mathbf{z}$ and labels $y$ will be smoothed with a symmetric kernel $k(x,x')$. Begin with feature distribution smoothing over $N_b$ bins\n",
    "$$\\mathbf{\\mu}_b=\\frac{1}{N_b} \\sum_{i=1}^{N_b} \\mathbf{z}_i$$\n",
    "$$\\mathbf{\\Sigma}_b=\\frac{1}{N_b-1} \\sum_{i=1}^{N_b} (\\mathbf{z}_i-\\mathbf{\\mu}_b)(\\mathbf{z}_i-\\mathbf{\\mu}_b)^T"
   ]
  },
  {
   "cell_type": "code",
   "execution_count": 9,
   "metadata": {},
   "outputs": [
    {
     "data": {
      "text/plain": [
       "array([], dtype=float64)"
      ]
     },
     "execution_count": 9,
     "metadata": {},
     "output_type": "execute_result"
    }
   ],
   "source": [
    "X0_s.ravel()[(h[1][j] < X0_s.ravel()) & (X0_s.ravel() < h[1][j+1])]"
   ]
  },
  {
   "cell_type": "code",
   "execution_count": 10,
   "metadata": {},
   "outputs": [
    {
     "name": "stderr",
     "output_type": "stream",
     "text": [
      "/home/ali/anaconda3/envs/pdradenv/lib/python3.7/site-packages/ipykernel_launcher.py:13: RuntimeWarning: divide by zero encountered in double_scalars\n",
      "  del sys.path[0]\n",
      "/home/ali/anaconda3/envs/pdradenv/lib/python3.7/site-packages/ipykernel_launcher.py:13: RuntimeWarning: invalid value encountered in double_scalars\n",
      "  del sys.path[0]\n"
     ]
    },
    {
     "data": {
      "image/png": "[encoded data removed]",
      "text/plain": [
       "<Figure size 432x288 with 1 Axes>"
      ]
     },
     "metadata": {
      "needs_background": "light"
     },
     "output_type": "display_data"
    }
   ],
   "source": [
    "B = 100\n",
    "mu_b = []\n",
    "s_b = []\n",
    "fig, ax = plt.subplots()\n",
    "h = plt.hist(X0_s.ravel(),bins=B)\n",
    "ax.set_xticklabels([])\n",
    "ax.set_ylim([0,1e5])\n",
    "plt.title('Feature distribution')\n",
    "plt.xlabel('Feature value')\n",
    "plt.ylabel('Frequency')\n",
    "for j in np.arange(B):\n",
    "    mu_b.append((1/h[0][j])*np.sum(X0_s.ravel()[(h[1][j] < X0_s.ravel()) & (X0_s.ravel() < h[1][j+1])]))\n",
    "    s_b.append((1/(h[0][j]-1))*np.sum((X0_s.ravel()[(h[1][j] < X0_s.ravel()) & (X0_s.ravel() < h[1][j+1])]-mu_b[j])**2))\n"
   ]
  },
  {
   "cell_type": "code",
   "execution_count": 11,
   "metadata": {},
   "outputs": [],
   "source": [
    "S_b = np.asarray(s_b)\n",
    "S_b[np.isnan(S_b)] = 0\n",
    "Mu_b = np.asarray(mu_b)"
   ]
  },
  {
   "cell_type": "markdown",
   "metadata": {},
   "source": [
    "Both features $\\mathbf{z}$ and labels $y$ will be smoothed with a symmetric kernel $k(x,x')$. Begin with feature distribution smoothing over $N_b$ bins\n",
    "$$\\tilde{\\mathbf{\\mu}}_b=\\sum_{b' \\in \\mathcal{B}} k(y_b,y_{b'}) \\mathbf{\\mu}_{b'}$$\n",
    "$$\\tilde{\\mathbf{\\Sigma}}_b=\\sum_{b' \\in \\mathcal{B}}k(y_b,y_{b'}) \\mathbf{\\Sigma}_{b'}"
   ]
  },
  {
   "cell_type": "code",
   "execution_count": 12,
   "metadata": {},
   "outputs": [],
   "source": [
    "def get_lds_kernel_window(kernel, ks, sigma):\n",
    "    assert kernel in ['gaussian', 'triang', 'laplace']\n",
    "    half_ks = (ks - 1) // 2\n",
    "    if kernel == 'gaussian':\n",
    "        base_kernel = [0.] * half_ks + [1.] + [0.] * half_ks\n",
    "        kernel_window = gaussian_filter1d(base_kernel, sigma=sigma) / max(gaussian_filter1d(base_kernel, sigma=sigma))\n",
    "    elif kernel == 'triang':\n",
    "        kernel_window = triang(ks)\n",
    "    else:\n",
    "        laplace = lambda x: np.exp(-abs(x) / sigma) / (2. * sigma)\n",
    "        kernel_window = list(map(laplace, np.arange(-half_ks, half_ks + 1))) / max(map(laplace, np.arange(-half_ks, half_ks + 1)))\n",
    "\n",
    "    return kernel_window\n",
    "\n",
    "Mut_b = gaussian_filter1d(Mu_b, sigma=5)\n",
    "St_b = gaussian_filter1d(S_b, sigma=5)"
   ]
  },
  {
   "cell_type": "code",
   "execution_count": 13,
   "metadata": {},
   "outputs": [
    {
     "data": {
      "text/plain": [
       "Text(0.5, 0.98, 'Gaussian filtering')"
      ]
     },
     "execution_count": 13,
     "metadata": {},
     "output_type": "execute_result"
    },
    {
     "data": {
      "image/png": "[encoded data removed]",
      "text/plain": [
       "<Figure size 432x288 with 2 Axes>"
      ]
     },
     "metadata": {
      "needs_background": "light"
     },
     "output_type": "display_data"
    },
    {
     "data": {
      "image/png": "[encoded data removed]",
      "text/plain": [
       "<Figure size 432x288 with 2 Axes>"
      ]
     },
     "metadata": {
      "needs_background": "light"
     },
     "output_type": "display_data"
    }
   ],
   "source": [
    "fig, ax = plt.subplots(2,1,sharex=True,sharey=True)\n",
    "ax[0].bar(np.arange(B),Mu_b)\n",
    "ax[0].set_ylabel(r'$\\mu_b$',fontsize=14)\n",
    "ax[1].bar(np.arange(B),Mut_b)\n",
    "ax[1].set_ylabel(r'$\\tilde{\\mu}_b$',fontsize=14)\n",
    "ax[1].set_xlabel('Bin')\n",
    "plt.suptitle('Gaussian filtering',fontsize=14)\n",
    "fig, ax = plt.subplots(2,1,sharex=True,sharey=True)\n",
    "ax[0].bar(np.arange(B),S_b)\n",
    "ax[0].set_ylabel(r'$\\Sigma_b$',fontsize=14)\n",
    "ax[1].bar(np.arange(B),St_b)\n",
    "ax[1].set_ylabel(r'$\\tilde{\\Sigma}_b$',fontsize=14)\n",
    "ax[1].set_xlabel('Bin')\n",
    "plt.suptitle('Gaussian filtering')\n"
   ]
  },
  {
   "cell_type": "markdown",
   "metadata": {},
   "source": [
    "The features can be whitened and recolored accoring to Sun et. al\n",
    "$$\\tilde{z}=\\tilde{\\mathbf{\\Sigma}}^{\\frac{1}{2}}_b\\mathbf{\\Sigma}^{-\\frac{1}{2}}_b(z-\\mathbf{\\mu}_b)+\\tilde{\\mathbf{\\mu}}_b"
   ]
  },
  {
   "cell_type": "code",
   "execution_count": 14,
   "metadata": {},
   "outputs": [],
   "source": [
    "z = np.zeros_like(X0_s.ravel())\n",
    "idx = 0\n",
    "for j in np.arange(B):\n",
    "    x = X0_s.ravel()[(h[1][j] < X0_s.ravel()) & (X0_s.ravel() < h[1][j+1])]\n",
    "    z[idx:idx+len(x)] = x\n",
    "    mu_zb = Mu_b[j]\n",
    "    mut_zb = Mut_b[j]\n",
    "    s_zb = S_b[j]\n",
    "    st_zb = St_b[j]\n",
    "    idx = idx+len(x)\n"
   ]
  },
  {
   "cell_type": "code",
   "execution_count": 15,
   "metadata": {},
   "outputs": [],
   "source": [
    "zt = np.sqrt(st_zb)/np.sqrt(s_zb)*(z-mu_zb)+mut_zb"
   ]
  },
  {
   "cell_type": "code",
   "execution_count": 488,
   "metadata": {},
   "outputs": [
    {
     "data": {
      "text/plain": [
       "<matplotlib.legend.Legend at 0x7ff88372fa90>"
      ]
     },
     "execution_count": 488,
     "metadata": {},
     "output_type": "execute_result"
    },
    {
     "data": {
      "image/png": "[encoded data removed]",
      "text/plain": [
       "<Figure size 432x288 with 1 Axes>"
      ]
     },
     "metadata": {
      "needs_background": "light"
     },
     "output_type": "display_data"
    }
   ],
   "source": [
    "h0 = plt.hist(X0_s.ravel(),bins=B,label='Original')\n",
    "h = plt.hist(zt.ravel(),bins=B,label='Whitened and recolored')\n",
    "plt.xlabel('Feature value')\n",
    "plt.ylabel('Frequency')\n",
    "plt.legend()"
   ]
  },
  {
   "cell_type": "code",
   "execution_count": 31,
   "metadata": {},
   "outputs": [],
   "source": [
    "def set_split(X,N,tp):\n",
    "    sss = sms.ShuffleSplit(n_splits=N, test_size=tp)\n",
    "    sss.get_n_splits(X)\n",
    "    train_index, test_index = next(sss.split(X))\n",
    "    X_train,X_test = X[train_index], X[test_index] \n",
    "    return X_train, X_test"
   ]
  },
  {
   "cell_type": "code",
   "execution_count": 32,
   "metadata": {},
   "outputs": [],
   "source": [
    "\n",
    "n, x, _ = plt.hist(y_train, bins=np.linspace(-1, 2, 50), \n",
    "                   histtype=u'step', density=True,color='tab:blue',linewidth=0)  \n",
    "plt.plot(x, density_train(x),color='tab:blue',label=r'$y_{train}$')\n",
    "n, y, _ = plt.hist(y_test, bins=np.linspace(-1, 2, 50), \n",
    "                   histtype=u'step', density=True,color='tab:blue',linewidth=0)  \n",
    "plt.plot(y, density_test(y),color='tab:green',label=r'$y_{test}$')\n",
    "plt.legend(fontsize=24)"
   ]
  },
  {
   "cell_type": "code",
   "execution_count": 205,
   "metadata": {},
   "outputs": [
    {
     "data": {
      "text/plain": [
       "array([0.25572107, 0.32971354, 0.04509734, 0.32171354, 0.33201903,\n",
       "       0.18498189, 0.27730792, 0.28061234, 0.25101194, 0.32602343,\n",
       "       0.29592097, 0.31398571, 0.23194911, 0.20918202, 0.33759947,\n",
       "       0.21449658, 0.31554989, 0.32048218, 0.32497467, 0.32783742,\n",
       "       0.33353758, 0.07052634, 0.33705377, 0.31563124, 0.31104913,\n",
       "       0.31383211, 0.06397189, 0.09305406, 0.27419218, 0.22367929,\n",
       "       0.19624574, 0.32616381, 0.32373438, 0.26463352, 0.31584371,\n",
       "       0.26453488, 0.22967305, 0.30690234, 0.33749387, 0.33554277,\n",
       "       0.21193501, 0.16134955, 0.10118537, 0.27023594, 0.27355461,\n",
       "       0.29346312, 0.28977062, 0.12572173, 0.02289943, 0.27578556,\n",
       "       0.33734773, 0.13293768, 0.33751359, 0.32323246, 0.31730791,\n",
       "       0.17318811, 0.18759385, 0.33533579, 0.33779028, 0.33484614,\n",
       "       0.24447735, 0.3057786 , 0.33775728, 0.181719  , 0.23298027,\n",
       "       0.31379086, 0.32903204, 0.31199357, 0.28159072, 0.32509375,\n",
       "       0.31270077, 0.25838883, 0.18217171, 0.26813423, 0.28687688,\n",
       "       0.33211463, 0.24253492, 0.21096378, 0.19704713, 0.32422242])"
      ]
     },
     "execution_count": 205,
     "metadata": {},
     "output_type": "execute_result"
    }
   ],
   "source": []
  },
  {
   "cell_type": "code",
   "execution_count": 442,
   "metadata": {},
   "outputs": [],
   "source": [
    "def kl_divergence(p, q):\n",
    "    return np.sum(np.where(p!=0,p*np.log(p/q),0))"
   ]
  },
  {
   "cell_type": "code",
   "execution_count": 484,
   "metadata": {},
   "outputs": [
    {
     "data": {
      "image/png": "[encoded data removed]",
      "text/plain": [
       "<Figure size 432x288 with 1 Axes>"
      ]
     },
     "metadata": {
      "needs_background": "light"
     },
     "output_type": "display_data"
    },
    {
     "data": {
      "text/plain": [
       "4.386149216902531"
      ]
     },
     "execution_count": 484,
     "metadata": {},
     "output_type": "execute_result"
    }
   ],
   "source": [
    "mu, sigma = 0, 1\n",
    "s = np.random.normal(mu, sigma, 1000)\n",
    "X_train,X_test = set_split(s,1,int(0.2*len(s)))\n",
    "density_train = stats.gaussian_kde(X_train)\n",
    "density_test = stats.gaussian_kde(X_test)\n",
    "density_orig = stats.gaussian_kde(s)\n",
    "x = np.arange(np.min(s), np.max(s), 0.001)\n",
    "p = stats.norm.pdf(x, np.mean(X_train), np.std(X_train))\n",
    "q = stats.norm.pdf(x, np.mean(X_test), np.std(X_test))\n",
    "r = stats.norm.pdf(x,0,1)\n",
    "n, x, _ = plt.hist(X_train, bins=np.linspace(-1, 2, 50), \n",
    "                   histtype=u'step', density=True,color='tab:blue',linewidth=0)  \n",
    "plt.plot(x, density_train(x),color='tab:blue',label=r'$y_{train}$')\n",
    "n, y, _ = plt.hist(X_test, bins=np.linspace(-1, 2, 50), \n",
    "                   histtype=u'step', density=True,color='tab:blue',linewidth=0)  \n",
    "plt.plot(y, density_test(y),color='tab:green',label=r'$y_{test}$')\n",
    "n, z, _ = plt.hist(s, bins=np.linspace(-1, 2, 50), \n",
    "                   histtype=u'step', density=True,color='tab:orange',linewidth=0)  \n",
    "plt.plot(z, density_orig(z),color='tab:orange',label=r'$y_{original}$')\n",
    "plt.legend(fontsize=14)\n",
    "plt.ylim([0,1])\n",
    "plt.xlabel('Value',fontsize=14)\n",
    "plt.ylabel('Frequency',fontsize=14)\n",
    "plt.title('Dataset distributions',fontsize=14)\n",
    "plt.show()\n",
    "kl_divergence(p,q)\n"
   ]
  },
  {
   "cell_type": "code",
   "execution_count": 458,
   "metadata": {},
   "outputs": [],
   "source": [
    "K = []\n",
    "for j in np.arange(100):\n",
    "    X_train,X_test = set_split(s,1,int(0.2*len(s)))\n",
    "    p = stats.norm.pdf(x, np.mean(X_train), np.std(X_train))\n",
    "    q = stats.norm.pdf(x, np.mean(X_test), np.std(X_test))\n",
    "    K.append(kl_divergence(p,q))"
   ]
  },
  {
   "cell_type": "code",
   "execution_count": 459,
   "metadata": {},
   "outputs": [
    {
     "data": {
      "text/plain": [
       "1.2345198609750614"
      ]
     },
     "execution_count": 459,
     "metadata": {},
     "output_type": "execute_result"
    }
   ],
   "source": [
    "np.asarray(K)[np.asarray(K)>0].mean()"
   ]
  }
 ],
 "metadata": {
  "kernelspec": {
   "display_name": "pdradenv",
   "language": "python",
   "name": "python3"
  },
  "language_info": {
   "codemirror_mode": {
    "name": "ipython",
    "version": 3
   },
   "file_extension": ".py",
   "mimetype": "text/x-python",
   "name": "python",
   "nbconvert_exporter": "python",
   "pygments_lexer": "ipython3",
   "version": "3.7.16"
  }
 },
 "nbformat": 4,
 "nbformat_minor": 2
}
