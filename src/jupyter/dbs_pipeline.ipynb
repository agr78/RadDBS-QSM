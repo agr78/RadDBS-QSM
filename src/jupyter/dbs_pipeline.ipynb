{
 "cells": [
  {
   "cell_type": "code",
   "execution_count": 1,
   "metadata": {},
   "outputs": [],
   "source": [
    "# Preliminary data notebook for\n",
    "# NIH: Imaging Guided Intervention Surgery Study Section\n",
    "\n",
    "# Exploratory aim: evaluate presurgical scans between STN and GPi targets\n",
    "#   Given retrospective GPi acquisitions?\n",
    "#   Search for radiomic differentiators for STN versus GPi selection in presurgical scans"
   ]
  },
  {
   "cell_type": "code",
   "execution_count": 2,
   "metadata": {},
   "outputs": [],
   "source": [
    "# Import libraries\n",
    "from time import time\n",
    "from joblib import Memory\n",
    "from joblib import parallel_backend\n",
    "from scipy import sparse\n",
    "from scipy import linalg\n",
    "from scipy.cluster.hierarchy import dendrogram, linkage\n",
    "import matplotlib.pyplot as plt\n",
    "from mpl_toolkits.axes_grid1 import make_axes_locatable\n",
    "import nibabel as nib\n",
    "import tempfile\n",
    "from sklearn.svm import SVR\n",
    "from sklearn.svm import NuSVR\n",
    "from sklearn.datasets import make_regression\n",
    "from sklearn.linear_model import Lasso\n",
    "from sklearn.linear_model import LassoCV\n",
    "from sklearn.preprocessing import StandardScaler\n",
    "from sklearn.cluster import FeatureAgglomeration\n",
    "from sklearn.cluster import ward_tree\n",
    "from sklearn.pipeline import Pipeline\n",
    "from sklearn.model_selection import GridSearchCV\n",
    "from sklearn.model_selection import KFold\n",
    "from sklearn.multiclass import OneVsRestClassifier\n",
    "from sklearn.multiclass import OneVsOneClassifier\n",
    "from sklearn.feature_selection import SelectFromModel\n",
    "from sklearn.neural_network import MLPClassifier\n",
    "import SimpleITK as sitk\n",
    "import six\n",
    "from radiomics import featureextractor \n",
    "from radiomics import imageoperations\n",
    "import numpy as np\n",
    "from numpy import linalg\n",
    "import os\n",
    "import pywt\n",
    "from util import IndexTracker\n",
    "from util import par_feat_extract\n",
    "import pickle\n",
    "\n",
    "%matplotlib widget"
   ]
  },
  {
   "cell_type": "code",
   "execution_count": 3,
   "metadata": {},
   "outputs": [
    {
     "name": "stdout",
     "output_type": "stream",
     "text": [
      "F:\\dbs\\stn-dbs\\Cornell_anonymized\\Anonymized - 01\n",
      "F:\\dbs\\stn-dbs\\Cornell_anonymized\\Anonymized - 02\n",
      "F:\\dbs\\stn-dbs\\Cornell_anonymized\\Anonymized - 03\n",
      "F:\\dbs\\stn-dbs\\Cornell_anonymized\\Anonymized - 04\n",
      "F:\\dbs\\stn-dbs\\Cornell_anonymized\\Anonymized - 05\n",
      "F:\\dbs\\stn-dbs\\Cornell_anonymized\\Anonymized - 06\n",
      "F:\\dbs\\stn-dbs\\Cornell_anonymized\\Anonymized - 07\n",
      "F:\\dbs\\stn-dbs\\Cornell_anonymized\\Anonymized - 08\n",
      "F:\\dbs\\stn-dbs\\Cornell_anonymized\\Anonymized - 09\n",
      "F:\\dbs\\stn-dbs\\Cornell_anonymized\\Anonymized - 10\n",
      "F:\\dbs\\stn-dbs\\Cornell_anonymized\\Anonymized - 11\n",
      "F:\\dbs\\stn-dbs\\Cornell_anonymized\\Anonymized - 12\n",
      "F:\\dbs\\stn-dbs\\Cornell_anonymized\\Anonymized - 13\n",
      "F:\\dbs\\stn-dbs\\Cornell_anonymized\\Anonymized - 14\n",
      "F:\\dbs\\stn-dbs\\Cornell_anonymized\\Anonymized - 15\n",
      "F:\\dbs\\stn-dbs\\Cornell_anonymized\\Anonymized - 16\n",
      "F:\\dbs\\stn-dbs\\Cornell_anonymized\\Anonymized - 17\n",
      "F:\\dbs\\stn-dbs\\Cornell_anonymized\\Anonymized - 18\n",
      "F:\\dbs\\stn-dbs\\Cornell_anonymized\\Anonymized - 19\n",
      "F:\\dbs\\stn-dbs\\Cornell_anonymized\\Anonymized - 20\n",
      "F:\\dbs\\stn-dbs\\Cornell_anonymized\\Anonymized - 21\n",
      "F:\\dbs\\stn-dbs\\Cornell_anonymized\\Anonymized - 22\n",
      "F:\\dbs\\stn-dbs\\Cornell_anonymized\\Anonymized - 23\n",
      "F:\\dbs\\stn-dbs\\Cornell_anonymized\\Anonymized - 24\n",
      "F:\\dbs\\stn-dbs\\Cornell_anonymized\\Anonymized - 25\n",
      "F:\\dbs\\stn-dbs\\Cornell_anonymized\\Anonymized - 26\n",
      "F:\\dbs\\stn-dbs\\Cornell_anonymized\\Anonymized - 27\n"
     ]
    }
   ],
   "source": [
    "# Set window level\n",
    "level = 0\n",
    "window = 500\n",
    "m1=level-window/2\n",
    "m2=level+window/2\n",
    "visualize = 0\n",
    "rextract = 0\n",
    "# Load data\n",
    "# fig, ax = plt.subplots(2,5)\n",
    "segs = []\n",
    "qsms = []\n",
    "voxel_sizes = []\n",
    "trackers = []\n",
    "directory = 'F:\\dbs\\stn-dbs\\Cornell_anonymized'\n",
    "case_list = []\n",
    "for filename in os.listdir(directory):\n",
    "    f = os.path.join(directory,filename)\n",
    "    print(f)\n",
    "    # Training cases\n",
    "    if '08' not in filename:\n",
    "        seg = nib.load(f+'/Rh Mri Brain With Without Contrast/seg.nii.gz')\n",
    "            \n",
    "        voxel_size = seg.header['pixdim'][0:3]\n",
    "        voxel_sizes.append(voxel_size)\n",
    "        segs.append(seg.get_fdata())\n",
    "\n",
    "        qsm = nib.load(f+'/Rh Mri Brain With Without Contrast/qsm.nii.gz')\n",
    "        qsms.append(qsm.get_fdata())\n",
    "    # Test case\n",
    "    else:\n",
    "        seg_t = nib.load(f+'/Rh Mri Brain With Without Contrast/seg.nii.gz')\n",
    "        voxel_size_t = seg_t.header['pixdim'][0:3]\n",
    "        qsm_t = nib.load(f+'/Rh Mri Brain With Without Contrast/qsm.nii.gz')\n",
    "    case_list.append(filename)\n",
    "    n_cases = len(segs)\n",
    "\n",
    "label_min = np.partition(np.unique(seg_t.get_fdata().ravel()), 1)[1]\n",
    "label_max = np.amax(seg_t.get_fdata())"
   ]
  },
  {
   "cell_type": "code",
   "execution_count": 4,
   "metadata": {},
   "outputs": [],
   "source": [
    "if visualize == 1:\n",
    "    qsm_plots = qsms\n",
    "    seg_plots = segs\n",
    "    qsm_plots.append(qsm_t.get_fdata())\n",
    "    seg_plots.append(seg_t.get_fdata())\n",
    "    count = 1\n",
    "    r1_col_idx = 0\n",
    "    r2_col_idx = 0\n",
    "\n",
    "    for cases in range(n_cases):\n",
    "        # Set window/level\n",
    "        seg_tmp = seg_plots[cases]\n",
    "        seg_tmp[seg_tmp>0] = 1\n",
    "        qsm_tmp = qsm_plots[cases]\n",
    "        qsm_tmp[qsm_tmp<m1] = m1\n",
    "        qsm_tmp[qsm_tmp>m2] = m2\n",
    "        if cases == 0:\n",
    "            qsm_arr_r1 = qsm_tmp\n",
    "            seg_arr_r1 = seg_tmp\n",
    "        if cases == int((n_cases/2)):\n",
    "            qsm_arr_r2 = qsm_tmp\n",
    "            seg_arr_r2 = seg_tmp\n",
    "        else:\n",
    "            if cases in range(1,int((n_cases/2))):\n",
    "                qsm_arr_r1 = np.hstack((qsm_arr_r1,qsm_tmp))\n",
    "                seg_arr_r1 = np.hstack((seg_arr_r1,seg_tmp))\n",
    "            if cases in range(int(n_cases/2),int(n_cases)):\n",
    "                qsm_arr_r2 = np.hstack((qsm_arr_r2,qsm_tmp))\n",
    "                seg_arr_r2 = np.hstack((seg_arr_r2,seg_tmp))\n",
    "    qsm_arr = np.vstack((qsm_arr_r1,qsm_arr_r2))\n",
    "    seg_arr = np.vstack((seg_arr_r1,seg_arr_r2))\n",
    "\n",
    "    fig, ax = plt.subplots(1,1)\n",
    "    tracker = IndexTracker(ax,qsm_arr*seg_arr)\n",
    "    fig.canvas.mpl_connect('scroll_event', tracker.onscroll)   \n"
   ]
  },
  {
   "cell_type": "code",
   "execution_count": 5,
   "metadata": {},
   "outputs": [
    {
     "name": "stderr",
     "output_type": "stream",
     "text": [
      "parameter force2D must be set to True to enable shape2D extraction\n",
      "GLCM is symmetrical, therefore Sum Average = 2 * Joint Average, only 1 needs to be calculated\n",
      "GLCM is symmetrical, therefore Sum Average = 2 * Joint Average, only 1 needs to be calculated\n",
      "GLCM is symmetrical, therefore Sum Average = 2 * Joint Average, only 1 needs to be calculated\n",
      "Calculating Local Binary Pattern in 2D, but extracting features in 3D. Use with caution!\n",
      "GLCM is symmetrical, therefore Sum Average = 2 * Joint Average, only 1 needs to be calculated\n",
      "GLCM is symmetrical, therefore Sum Average = 2 * Joint Average, only 1 needs to be calculated\n",
      "GLCM is symmetrical, therefore Sum Average = 2 * Joint Average, only 1 needs to be calculated\n",
      "GLCM is symmetrical, therefore Sum Average = 2 * Joint Average, only 1 needs to be calculated\n",
      "GLCM is symmetrical, therefore Sum Average = 2 * Joint Average, only 1 needs to be calculated\n",
      "GLCM is symmetrical, therefore Sum Average = 2 * Joint Average, only 1 needs to be calculated\n",
      "GLCM is symmetrical, therefore Sum Average = 2 * Joint Average, only 1 needs to be calculated\n",
      "GLCM is symmetrical, therefore Sum Average = 2 * Joint Average, only 1 needs to be calculated\n",
      "GLCM is symmetrical, therefore Sum Average = 2 * Joint Average, only 1 needs to be calculated\n",
      "GLCM is symmetrical, therefore Sum Average = 2 * Joint Average, only 1 needs to be calculated\n",
      "GLCM is symmetrical, therefore Sum Average = 2 * Joint Average, only 1 needs to be calculated\n",
      "GLCM is symmetrical, therefore Sum Average = 2 * Joint Average, only 1 needs to be calculated\n",
      "GLCM is symmetrical, therefore Sum Average = 2 * Joint Average, only 1 needs to be calculated\n",
      "GLCM is symmetrical, therefore Sum Average = 2 * Joint Average, only 1 needs to be calculated\n",
      "GLCM is symmetrical, therefore Sum Average = 2 * Joint Average, only 1 needs to be calculated\n",
      "parameter force2D must be set to True to enable shape2D extraction\n",
      "GLCM is symmetrical, therefore Sum Average = 2 * Joint Average, only 1 needs to be calculated\n",
      "GLCM is symmetrical, therefore Sum Average = 2 * Joint Average, only 1 needs to be calculated\n",
      "GLCM is symmetrical, therefore Sum Average = 2 * Joint Average, only 1 needs to be calculated\n",
      "Calculating Local Binary Pattern in 2D, but extracting features in 3D. Use with caution!\n",
      "GLCM is symmetrical, therefore Sum Average = 2 * Joint Average, only 1 needs to be calculated\n",
      "GLCM is symmetrical, therefore Sum Average = 2 * Joint Average, only 1 needs to be calculated\n",
      "GLCM is symmetrical, therefore Sum Average = 2 * Joint Average, only 1 needs to be calculated\n",
      "GLCM is symmetrical, therefore Sum Average = 2 * Joint Average, only 1 needs to be calculated\n",
      "GLCM is symmetrical, therefore Sum Average = 2 * Joint Average, only 1 needs to be calculated\n",
      "GLCM is symmetrical, therefore Sum Average = 2 * Joint Average, only 1 needs to be calculated\n",
      "GLCM is symmetrical, therefore Sum Average = 2 * Joint Average, only 1 needs to be calculated\n",
      "GLCM is symmetrical, therefore Sum Average = 2 * Joint Average, only 1 needs to be calculated\n",
      "GLCM is symmetrical, therefore Sum Average = 2 * Joint Average, only 1 needs to be calculated\n",
      "GLCM is symmetrical, therefore Sum Average = 2 * Joint Average, only 1 needs to be calculated\n",
      "GLCM is symmetrical, therefore Sum Average = 2 * Joint Average, only 1 needs to be calculated\n",
      "GLCM is symmetrical, therefore Sum Average = 2 * Joint Average, only 1 needs to be calculated\n",
      "GLCM is symmetrical, therefore Sum Average = 2 * Joint Average, only 1 needs to be calculated\n",
      "GLCM is symmetrical, therefore Sum Average = 2 * Joint Average, only 1 needs to be calculated\n",
      "GLCM is symmetrical, therefore Sum Average = 2 * Joint Average, only 1 needs to be calculated\n"
     ]
    },
    {
     "name": "stdout",
     "output_type": "stream",
     "text": [
      "Test case extracted\n"
     ]
    }
   ],
   "source": [
    "# Define feature extraction\n",
    "extractor = featureextractor.RadiomicsFeatureExtractor()\n",
    "extractor.enableAllFeatures()\n",
    "extractor.enableAllImageTypes()\n",
    "\n",
    "# Create separate feature vector for test case\n",
    "seg_t_sitk = sitk.GetImageFromArray(seg_t.get_fdata())\n",
    "seg_t_sitk.SetSpacing(voxel_size_t.tolist())\n",
    "qsm_t_sitk = sitk.GetImageFromArray(qsm_t.get_fdata())\n",
    "qsm_t_sitk.SetSpacing(voxel_size_t.tolist())\n",
    "\n",
    "for j in range(int(label_min),int(label_max+1)):\n",
    "    featureVector_t = extractor.execute(qsm_t_sitk,seg_t_sitk,label=j)\n",
    "print('Test case extracted')\n",
    "\n",
    "# Generate feature structure Phi from all ROIs and all cases\n",
    "if rextract == 1:\n",
    "    Phi = []\n",
    "\n",
    "    # Training cases\n",
    "    for i in range(n_cases):\n",
    "        seg_sitk = sitk.GetImageFromArray(segs[i])\n",
    "        seg_sitk.SetSpacing(voxel_sizes[i].tolist())\n",
    "        qsm_sitk = sitk.GetImageFromArray(qsms[i])\n",
    "        qsm_sitk.SetSpacing(voxel_sizes[i].tolist())\n",
    "        for j in range(int(label_min),int(label_max+1)):\n",
    "            featureVector = extractor.execute(qsm_sitk,seg_sitk,label=j)\n",
    "            Phi.append(featureVector)\n",
    "    # Save feature vector\n",
    "    with open('Phi', 'wb') as fp:  \n",
    "        pickle.dump(Phi, fp)\n"
   ]
  },
  {
   "cell_type": "code",
   "execution_count": 6,
   "metadata": {},
   "outputs": [],
   "source": [
    "with open('Phi', \"rb\") as fp:  \n",
    "    Phi = pickle.load(fp)"
   ]
  },
  {
   "cell_type": "code",
   "execution_count": 7,
   "metadata": {},
   "outputs": [],
   "source": [
    "# Extract numeric feature values\n",
    "n_ROIs = 2\n",
    "x_row = []\n",
    "keys = []\n",
    "loop_count = 0\n",
    "for i in range(Phi.__len__()):\n",
    "        featureVector = Phi[i]\n",
    "        loop_count = loop_count+1\n",
    "        for key, value in six.iteritems(featureVector):\n",
    "            if 'diagnostic' in key:\n",
    "                next\n",
    "            else:\n",
    "                x_row.append(value)\n",
    "X0 = np.array(x_row)\n",
    "\n",
    "# Test case\n",
    "x_row_t = []\n",
    "for j in range(int(label_min),int(label_max+1)):\n",
    "        featureVector = featureVector_t\n",
    "        loop_count = loop_count+1\n",
    "        for key, value in six.iteritems(featureVector):\n",
    "            if 'diagnostic' in key:\n",
    "                next\n",
    "            else:\n",
    "                x_row_t.append(value)\n",
    "                keys.append(key)\n",
    "X0_t = np.array(x_row_t)"
   ]
  },
  {
   "cell_type": "code",
   "execution_count": 8,
   "metadata": {},
   "outputs": [],
   "source": [
    "# SAS features \n",
    "pre_sas = np.array((8,2,12,17,11,22,2,13,4,11,7,7,16,9,8,9,13,10,11,6,5,17,12,11,21,9)).T\n",
    "post_sas = np.array((21,3,19,13,13,14,11,23,12,4,6,11,28,17,8,21,8,17,11,9,20,17,19,15,19,11)).T\n",
    "per_change = (post_sas-pre_sas)/pre_sas\n",
    "# Apathy features\n",
    "ap = np.array(('Y','N','Y','Y','Y','Y','N','Y','Y','Y','Y','N','Y','Y','N','Y','Y','Y','Y','N','N','Y','N','Y','N','N')).T\n",
    "ap[ap=='Y'] = 1 \n",
    "ap[ap=='N'] = 0\n",
    "bi_sas = ap"
   ]
  },
  {
   "cell_type": "code",
   "execution_count": 9,
   "metadata": {},
   "outputs": [
    {
     "data": {
      "text/html": [
       "<style>\n",
       ".cell-output-ipywidget-background {\n",
       "   background-color: transparent !important;\n",
       "}\n",
       ".jp-OutputArea-output {\n",
       "   background-color: transparent;\n",
       "}  \n",
       "</style>\n"
      ],
      "text/plain": [
       "<IPython.core.display.HTML object>"
      ]
     },
     "metadata": {},
     "output_type": "display_data"
    }
   ],
   "source": [
    "%%html\n",
    "<style>\n",
    ".cell-output-ipywidget-background {\n",
    "   background-color: transparent !important;\n",
    "}\n",
    ".jp-OutputArea-output {\n",
    "   background-color: transparent;\n",
    "}  \n",
    "</style>"
   ]
  },
  {
   "cell_type": "code",
   "execution_count": 10,
   "metadata": {},
   "outputs": [
    {
     "data": {
      "application/vnd.jupyter.widget-view+json": {
       "model_id": "8fdaf06d269b4c44ae53d04d684d2dca",
       "version_major": 2,
       "version_minor": 0
      },
      "image/png": "[encoded data removed]",
      "text/html": [
       "\n",
       "            <div style=\"display: inline-block;\">\n",
       "                <div class=\"jupyter-widgets widget-label\" style=\"text-align: center;\">\n",
       "                    Figure\n",
       "                </div>\n",
       "                <img src='data:image/png;base64,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' width=640.0/>\n",
       "            </div>\n",
       "        "
      ],
      "text/plain": [
       "Canvas(toolbar=Toolbar(toolitems=[('Home', 'Reset original view', 'home', 'home'), ('Back', 'Back to previous …"
      ]
     },
     "metadata": {},
     "output_type": "display_data"
    }
   ],
   "source": [
    "# Visualize feature matrix X\n",
    "X = X0.reshape((n_cases,int(len(X0)/n_cases)))\n",
    "# Combine training data\n",
    "X = np.float64(np.vstack((X.T,pre_sas,bi_sas)).T)\n",
    "keys.append('pre_sas')\n",
    "keys.append('binary_sas')\n",
    "# Combine testing data\n",
    "X0_t = np.hstack((X0_t,5,1))\n",
    "\n",
    "fig,ax = plt.subplots(2,1)\n",
    "\n",
    "im0 = ax[0].imshow(X[:,0:100])\n",
    "ax[0].set_xticks([])\n",
    "ax[0].set_yticks([])\n",
    "ax[0].set_title('Initial feature matrix')\n",
    "ax[0].set_xlabel('Feature index')\n",
    "ax[0].set_ylabel('Case')\n",
    "divider = make_axes_locatable(ax[0])\n",
    "cax = divider.append_axes('right', size='5%', pad=0.05)\n",
    "fig.colorbar(im0, cax=cax, orientation='vertical')\n",
    "# Normalize testing and training cases together\n",
    "#   Otherwise the scale during clf.predict() is wrong\n",
    "#   Set with_mean=False to preserve data sparsity\n",
    "#   And with_std=False \n",
    "#   However, need a significant number of samples to do this\n",
    "scaler = StandardScaler()\n",
    "X_all = np.vstack((X,X0_t))\n",
    "X_all_t = scaler.fit_transform(X_all)\n",
    "X_t = X_all_t[X.shape[0]:,:]\n",
    "X = X_all_t[:X.shape[0]]\n",
    "im1 = ax[1].imshow(X[:,0:100])\n",
    "ax[1].set_xticks([])\n",
    "ax[1].set_yticks([])\n",
    "ax[1].set_xlabel('Feature index')\n",
    "ax[1].set_ylabel('Case')\n",
    "divider = make_axes_locatable(ax[1])\n",
    "cax = divider.append_axes('right', size='5%', pad=0.05)\n",
    "fig.colorbar(im1, cax=cax, orientation='vertical')\n",
    "ax[1].set_title('Standardized feature matrix')\n",
    "plt.suptitle('Feature matrix $X$');\n",
    "plt.tight_layout()\n",
    "\n"
   ]
  },
  {
   "cell_type": "code",
   "execution_count": 11,
   "metadata": {},
   "outputs": [],
   "source": [
    "# # Cross-validation for model selection\n",
    "# cv = KFold(n_cases)\n",
    "# # Feature selection\n",
    "# lasso = Lasso(alpha=0,fit_intercept=True,max_iter=100000,tol=0.001)\n",
    "# # Initialize classifier pipeline\n",
    "# clf_in = Pipeline([('Lasso',SelectFromModel(estimator=lasso,threshold='mean')),('SVM',OneVsRestClassifier(lasso, n_jobs=-1))])\n",
    "# # Select the optimal number of clusters with grid search\n",
    "# alphas = ((1e-3,1e-2,1e-1,1,10,100))\n",
    "# clf = GridSearchCV(clf_in, {'Lasso__estimator__alpha' : alphas, 'SVM__estimator__alpha' : alphas}, n_jobs=-1, cv=cv, scoring='accuracy')\n",
    "# clf.fit(X,post_sas)\n",
    "# ut = (clf.best_estimator_.predict(X_t))"
   ]
  },
  {
   "cell_type": "code",
   "execution_count": 12,
   "metadata": {},
   "outputs": [],
   "source": [
    "# # Cross-validation for model selection\n",
    "# cv = KFold(n_cases)\n",
    "# # Feature selection\n",
    "# lasso = Lasso(alpha=0,fit_intercept=True,max_iter=100000,tol=0.001)\n",
    "# # Initialize classifier pipeline\n",
    "# clf_in = Pipeline([('Lasso',SelectFromModel(estimator=lasso,threshold='mean',max_features=100)),('SVR',SVR(C=0, epsilon=0,kernel='rbf'))])\n",
    "# # Select the optimal number of clusters with grid search\n",
    "# alphas = ((1e-3,1e-2,1e-1,1,10))\n",
    "# Cs = ((1e-2,1e-1,1,10))\n",
    "# epsilons = ((0.1,0.5,1))\n",
    "# clf = GridSearchCV(clf_in, {'Lasso__estimator__alpha' : alphas, 'SVR__C' : Cs, 'SVR__epsilon' : epsilons}, n_jobs=-1, cv=cv, scoring='neg_mean_squared_error')\n",
    "# clf.fit(X,post_sas)\n",
    "# ut = (clf.best_estimator_.predict(X_t))"
   ]
  },
  {
   "cell_type": "code",
   "execution_count": 13,
   "metadata": {},
   "outputs": [],
   "source": [
    "# Auto selects first 50 features to give 1.3\n",
    "# Cross-validation for model selection\n",
    "cv = KFold(n_cases)\n",
    "# Feature selection\n",
    "lasso = Lasso(alpha=0,fit_intercept=False,max_iter=100000,tol=0.001)\n",
    "# Initialize classifier pipeline\n",
    "clf_in = Pipeline([('Lasso',SelectFromModel(estimator=lasso,threshold='mean')),('SVR',SVR(C=0,epsilon=0,kernel='rbf'))])\n",
    "# Select the optimal number of clusters with grid search\n",
    "max_feats = [10,50]\n",
    "alphas = ((0.1,1,10))\n",
    "Cs = ((100,1000))\n",
    "epsilons = ((0.1,0.2))\n",
    "clf_nsvr = GridSearchCV(clf_in,{'Lasso__estimator__alpha':alphas,'Lasso__max_features':max_feats,'SVR__C':Cs,'SVR__epsilon':epsilons},n_jobs=-1,cv=cv,scoring='neg_mean_squared_error')\n",
    "clf_nsvr.fit(X,post_sas)\n",
    "ut = clf_nsvr.best_estimator_.predict(X_t)"
   ]
  },
  {
   "cell_type": "code",
   "execution_count": 14,
   "metadata": {},
   "outputs": [
    {
     "data": {
      "text/plain": [
       "array([ 0.,  0.,  0., ...,  0.,  0., -0.])"
      ]
     },
     "execution_count": 14,
     "metadata": {},
     "output_type": "execute_result"
    }
   ],
   "source": [
    "clf_nsvr.best_estimator_.steps[0][1].estimator_.coef_"
   ]
  },
  {
   "cell_type": "code",
   "execution_count": 211,
   "metadata": {},
   "outputs": [
    {
     "name": "stdout",
     "output_type": "stream",
     "text": [
      "394\n",
      "lbp-3D-m1_firstorder_Mean\n",
      "1068\n",
      "wavelet-LHL_glcm_Imc1\n",
      "577\n",
      "lbp-3D-k_firstorder_Kurtosis\n",
      "2617\n",
      "squareroot_glszm_LargeAreaLowGrayLevelEmphasis\n",
      "1522\n",
      "wavelet-HHH_glcm_ClusterShade\n",
      "3272\n",
      "wavelet-HHH_glszm_SmallAreaEmphasis\n",
      "479\n",
      "lbp-3D-m2_firstorder_10Percentile\n",
      "1278\n",
      "wavelet-HLL_gldm_SmallDependenceLowGrayLevelEmphasis\n",
      "2425\n",
      "logarithm_glszm_GrayLevelNonUniformity\n",
      "1336\n",
      "wavelet-HLH_glcm_ClusterShade\n",
      "2996\n",
      "wavelet-HLL_glszm_ZoneEntropy\n",
      "1119\n",
      "wavelet-LHL_glszm_SmallAreaEmphasis\n",
      "781\n",
      "square_glcm_Correlation\n",
      "2270\n",
      "lbp-3D-k_firstorder_Minimum\n",
      "1593\n",
      "wavelet-HHH_ngtdm_Contrast\n",
      "3228\n",
      "wavelet-HHH_glcm_MaximumProbability\n",
      "2080\n",
      "lbp-3D-m1_firstorder_Maximum\n",
      "1185\n",
      "wavelet-LHH_gldm_SmallDependenceLowGrayLevelEmphasis\n",
      "2283\n",
      "lbp-3D-k_glcm_Correlation\n",
      "2083\n",
      "lbp-3D-m1_firstorder_Median\n",
      "2444\n",
      "logarithm_ngtdm_Contrast\n",
      "3274\n",
      "wavelet-HHH_glszm_SmallAreaLowGrayLevelEmphasis\n",
      "2088\n",
      "lbp-3D-m1_firstorder_Skewness\n",
      "1150\n",
      "wavelet-LHH_glcm_ClusterShade\n",
      "[1.50474085 1.48903577 1.45176944 1.27981818 1.24840545 0.81849591\n",
      " 0.8134293  0.77218047 0.73052876 0.66888097 0.58920766 0.5826226\n",
      " 0.44566451 0.42202543 0.4004073  0.36599687 0.24433402 0.19543143\n",
      " 0.13936026 0.13576284 0.12982598 0.09084458 0.0685808  0.06857188\n",
      " 0.        ]\n"
     ]
    },
    {
     "data": {
      "text/plain": [
       "array(['original_shape_Elongation', 'original_shape_Flatness',\n",
       "       'original_shape_LeastAxisLength', 'original_shape_MajorAxisLength',\n",
       "       'original_shape_Maximum2DDiameterColumn',\n",
       "       'original_shape_Maximum2DDiameterRow',\n",
       "       'original_shape_Maximum2DDiameterSlice',\n",
       "       'original_shape_Maximum3DDiameter', 'original_shape_MeshVolume',\n",
       "       'original_shape_MinorAxisLength', 'original_shape_Sphericity',\n",
       "       'original_shape_SurfaceArea', 'original_shape_SurfaceVolumeRatio',\n",
       "       'original_shape_VoxelVolume', 'original_firstorder_10Percentile',\n",
       "       'original_firstorder_90Percentile', 'original_firstorder_Energy',\n",
       "       'original_firstorder_Entropy',\n",
       "       'original_firstorder_InterquartileRange',\n",
       "       'original_glcm_InverseVariance',\n",
       "       'gradient_glszm_LargeAreaHighGrayLevelEmphasis',\n",
       "       'gradient_glszm_SmallAreaLowGrayLevelEmphasis',\n",
       "       'lbp-3D-k_firstorder_Kurtosis',\n",
       "       'lbp-3D-k_glszm_LargeAreaHighGrayLevelEmphasis',\n",
       "       'logarithm_glszm_LargeAreaHighGrayLevelEmphasis',\n",
       "       'square_glszm_SizeZoneNonUniformity',\n",
       "       'wavelet-LLH_glszm_LargeAreaHighGrayLevelEmphasis',\n",
       "       'wavelet-LHH_glszm_SmallAreaLowGrayLevelEmphasis',\n",
       "       'wavelet-HHL_glszm_GrayLevelNonUniformityNormalized',\n",
       "       'wavelet-HHH_gldm_DependenceNonUniformityNormalized',\n",
       "       'original_shape_Flatness', 'lbp-3D-m1_firstorder_Skewness',\n",
       "       'lbp-3D-m2_firstorder_Kurtosis', 'lbp-3D-k_firstorder_Kurtosis',\n",
       "       'logarithm_glszm_LargeAreaLowGrayLevelEmphasis',\n",
       "       'square_firstorder_Minimum', 'wavelet-LLH_glcm_ClusterShade',\n",
       "       'wavelet-LLH_glcm_Imc1',\n",
       "       'wavelet-LLH_glszm_GrayLevelNonUniformity',\n",
       "       'wavelet-LHH_glcm_InverseVariance',\n",
       "       'wavelet-LHH_glszm_SizeZoneNonUniformityNormalized',\n",
       "       'wavelet-HLL_gldm_SmallDependenceLowGrayLevelEmphasis',\n",
       "       'wavelet-HLL_glszm_GrayLevelNonUniformity',\n",
       "       'wavelet-HLL_glszm_LargeAreaHighGrayLevelEmphasis',\n",
       "       'wavelet-HLL_glszm_SmallAreaEmphasis',\n",
       "       'wavelet-HLH_firstorder_Kurtosis',\n",
       "       'wavelet-HHH_glcm_MaximumProbability',\n",
       "       'wavelet-HHH_glszm_GrayLevelNonUniformityNormalized',\n",
       "       'wavelet-HHH_glszm_SizeZoneNonUniformityNormalized',\n",
       "       'wavelet-HHH_glszm_SmallAreaLowGrayLevelEmphasis'], dtype=object)"
      ]
     },
     "execution_count": 211,
     "metadata": {},
     "output_type": "execute_result"
    }
   ],
   "source": [
    "# Cross-validation for model selection\n",
    "cv = KFold(n_cases-2)\n",
    "\n",
    "# Identify 10 most important features\n",
    "clf = LassoCV(fit_intercept=True,cv=cv,max_iter=10000,alphas=((1e-3,1e-2,1e-1))).fit(X,post_sas)\n",
    "importance = np.abs(clf.coef_)\n",
    "feat_idx = np.flip(np.argsort(importance))[:25]\n",
    "feat_weights = np.flip(np.sort(importance))[:25]\n",
    "for k in range(feat_idx.__len__()-1):\n",
    "    print(feat_idx[k])\n",
    "    print(keys[feat_idx[k]])\n",
    "\n",
    "print(feat_weights)\n",
    "\n",
    "# Feature selection\n",
    "sfm = SelectFromModel(clf,threshold=0,max_features=50)\n",
    "# Initialize pipeline\n",
    "clf_in = Pipeline([('LassoSelect',sfm),('SVR',SVR(C=0,epsilon=0,kernel='rbf'))])\n",
    "# Select the optimal number of clusters with grid search\n",
    "Cs = ((1e-1,5e-1,1,10,100))\n",
    "epsilons = ((0.25,0.5,0.75))\n",
    "clf_nsvr = GridSearchCV(clf_in,{'SVR__C':Cs,'SVR__epsilon':epsilons},n_jobs=-1,cv=cv,scoring='neg_mean_squared_error')\n",
    "clf_nsvr.fit(X,per_change)\n",
    "ut = clf_nsvr.best_estimator_.predict(X_t)\n",
    "clf_nsvr.best_estimator_.steps[0][1].get_feature_names_out(keys)"
   ]
  },
  {
   "cell_type": "code",
   "execution_count": 212,
   "metadata": {},
   "outputs": [
    {
     "data": {
      "text/plain": [
       "array([0.81326404])"
      ]
     },
     "execution_count": 212,
     "metadata": {},
     "output_type": "execute_result"
    }
   ],
   "source": [
    "ut"
   ]
  },
  {
   "cell_type": "code",
   "execution_count": 213,
   "metadata": {},
   "outputs": [
    {
     "data": {
      "text/plain": [
       "array([ 1.625     ,  0.5       ,  0.58333333, -0.23529412,  0.18181818,\n",
       "       -0.36363636,  4.5       ,  0.76923077,  2.        , -0.63636364,\n",
       "       -0.14285714,  0.57142857,  0.75      ,  0.88888889,  0.        ,\n",
       "        1.33333333, -0.38461538,  0.7       ,  0.        ,  0.5       ,\n",
       "        3.        ,  0.        ,  0.58333333,  0.36363636, -0.0952381 ,\n",
       "        0.22222222])"
      ]
     },
     "execution_count": 213,
     "metadata": {},
     "output_type": "execute_result"
    }
   ],
   "source": [
    "per_change"
   ]
  },
  {
   "cell_type": "code",
   "execution_count": 214,
   "metadata": {},
   "outputs": [
    {
     "data": {
      "text/plain": [
       "array([ 1.6153043 ,  0.49401817,  0.5734276 , -0.22569751,  0.19182663,\n",
       "       -0.35332173,  4.49034587,  0.779495  ,  1.98990361, -0.62633102,\n",
       "       -0.13318483,  0.58173088,  0.74014792,  0.89862629,  0.00996004,\n",
       "        1.32338991, -0.37452694,  0.71014788,  0.00998188,  0.49122798,\n",
       "        2.98964761,  0.00995888,  0.57328203,  0.3533978 , -0.0853654 ,\n",
       "        0.23207347])"
      ]
     },
     "execution_count": 214,
     "metadata": {},
     "output_type": "execute_result"
    }
   ],
   "source": [
    "clf_nsvr.best_estimator_.predict(X)"
   ]
  },
  {
   "cell_type": "code",
   "execution_count": 215,
   "metadata": {},
   "outputs": [
    {
     "data": {
      "text/plain": [
       "{'memory': None,\n",
       " 'steps': [('LassoSelect',\n",
       "   SelectFromModel(estimator=LassoCV(alphas=(0.001, 0.01, 0.1),\n",
       "                                     cv=KFold(n_splits=24, random_state=None, shuffle=False),\n",
       "                                     max_iter=10000),\n",
       "                   max_features=50, threshold=0)),\n",
       "  ('SVR', SVR(C=10, epsilon=0.01))],\n",
       " 'verbose': False,\n",
       " 'LassoSelect': SelectFromModel(estimator=LassoCV(alphas=(0.001, 0.01, 0.1),\n",
       "                                   cv=KFold(n_splits=24, random_state=None, shuffle=False),\n",
       "                                   max_iter=10000),\n",
       "                 max_features=50, threshold=0),\n",
       " 'SVR': SVR(C=10, epsilon=0.01),\n",
       " 'LassoSelect__estimator__alphas': (0.001, 0.01, 0.1),\n",
       " 'LassoSelect__estimator__copy_X': True,\n",
       " 'LassoSelect__estimator__cv': KFold(n_splits=24, random_state=None, shuffle=False),\n",
       " 'LassoSelect__estimator__eps': 0.001,\n",
       " 'LassoSelect__estimator__fit_intercept': True,\n",
       " 'LassoSelect__estimator__max_iter': 10000,\n",
       " 'LassoSelect__estimator__n_alphas': 100,\n",
       " 'LassoSelect__estimator__n_jobs': None,\n",
       " 'LassoSelect__estimator__normalize': 'deprecated',\n",
       " 'LassoSelect__estimator__positive': False,\n",
       " 'LassoSelect__estimator__precompute': 'auto',\n",
       " 'LassoSelect__estimator__random_state': None,\n",
       " 'LassoSelect__estimator__selection': 'cyclic',\n",
       " 'LassoSelect__estimator__tol': 0.0001,\n",
       " 'LassoSelect__estimator__verbose': False,\n",
       " 'LassoSelect__estimator': LassoCV(alphas=(0.001, 0.01, 0.1),\n",
       "         cv=KFold(n_splits=24, random_state=None, shuffle=False),\n",
       "         max_iter=10000),\n",
       " 'LassoSelect__importance_getter': 'auto',\n",
       " 'LassoSelect__max_features': 50,\n",
       " 'LassoSelect__norm_order': 1,\n",
       " 'LassoSelect__prefit': False,\n",
       " 'LassoSelect__threshold': 0,\n",
       " 'SVR__C': 10,\n",
       " 'SVR__cache_size': 200,\n",
       " 'SVR__coef0': 0.0,\n",
       " 'SVR__degree': 3,\n",
       " 'SVR__epsilon': 0.01,\n",
       " 'SVR__gamma': 'scale',\n",
       " 'SVR__kernel': 'rbf',\n",
       " 'SVR__max_iter': -1,\n",
       " 'SVR__shrinking': True,\n",
       " 'SVR__tol': 0.001,\n",
       " 'SVR__verbose': False}"
      ]
     },
     "execution_count": 215,
     "metadata": {},
     "output_type": "execute_result"
    }
   ],
   "source": [
    "#clf_nsvr.best_estimator_.get_params()\n",
    "clf_nsvr.best_estimator_.get_params()"
   ]
  },
  {
   "cell_type": "code",
   "execution_count": 216,
   "metadata": {},
   "outputs": [],
   "source": [
    "feats = clf_nsvr.best_estimator_.steps[0][1].get_support()"
   ]
  },
  {
   "cell_type": "code",
   "execution_count": 217,
   "metadata": {},
   "outputs": [
    {
     "name": "stdout",
     "output_type": "stream",
     "text": [
      "394\n",
      "lbp-3D-m1_firstorder_Mean\n",
      "1068\n",
      "wavelet-LHL_glcm_Imc1\n",
      "577\n",
      "lbp-3D-k_firstorder_Kurtosis\n",
      "2617\n",
      "squareroot_glszm_LargeAreaLowGrayLevelEmphasis\n",
      "1522\n",
      "wavelet-HHH_glcm_ClusterShade\n",
      "3272\n",
      "wavelet-HHH_glszm_SmallAreaEmphasis\n",
      "479\n",
      "lbp-3D-m2_firstorder_10Percentile\n",
      "1278\n",
      "wavelet-HLL_gldm_SmallDependenceLowGrayLevelEmphasis\n",
      "2425\n",
      "logarithm_glszm_GrayLevelNonUniformity\n",
      "1336\n",
      "wavelet-HLH_glcm_ClusterShade\n",
      "2996\n",
      "wavelet-HLL_glszm_ZoneEntropy\n",
      "1119\n",
      "wavelet-LHL_glszm_SmallAreaEmphasis\n",
      "781\n",
      "square_glcm_Correlation\n",
      "2270\n",
      "lbp-3D-k_firstorder_Minimum\n",
      "1593\n",
      "wavelet-HHH_ngtdm_Contrast\n",
      "3228\n",
      "wavelet-HHH_glcm_MaximumProbability\n",
      "2080\n",
      "lbp-3D-m1_firstorder_Maximum\n",
      "1185\n",
      "wavelet-LHH_gldm_SmallDependenceLowGrayLevelEmphasis\n",
      "2283\n",
      "lbp-3D-k_glcm_Correlation\n",
      "[1.50474085 1.48903577 1.45176944 1.27981818 1.24840545 0.81849591\n",
      " 0.8134293  0.77218047 0.73052876 0.66888097 0.58920766 0.5826226\n",
      " 0.44566451 0.42202543 0.4004073  0.36599687 0.24433402 0.19543143\n",
      " 0.13936026 0.13576284]\n"
     ]
    },
    {
     "data": {
      "text/plain": [
       "array(['lbp-3D-m1_firstorder_Mean', 'lbp-3D-m2_firstorder_10Percentile',\n",
       "       'lbp-3D-k_firstorder_Kurtosis', 'square_glcm_Correlation',\n",
       "       'wavelet-LHL_glcm_Imc1', 'wavelet-LHL_glszm_SmallAreaEmphasis',\n",
       "       'wavelet-LHH_gldm_SmallDependenceLowGrayLevelEmphasis',\n",
       "       'wavelet-HLL_gldm_SmallDependenceLowGrayLevelEmphasis',\n",
       "       'wavelet-HLH_glcm_ClusterShade', 'wavelet-HHH_glcm_ClusterShade',\n",
       "       'wavelet-HHH_ngtdm_Contrast', 'lbp-3D-m1_firstorder_Maximum',\n",
       "       'lbp-3D-m1_firstorder_Median', 'lbp-3D-k_firstorder_Minimum',\n",
       "       'lbp-3D-k_glcm_Correlation',\n",
       "       'logarithm_glszm_GrayLevelNonUniformity',\n",
       "       'squareroot_glszm_LargeAreaLowGrayLevelEmphasis',\n",
       "       'wavelet-HLL_glszm_ZoneEntropy',\n",
       "       'wavelet-HHH_glcm_MaximumProbability',\n",
       "       'wavelet-HHH_glszm_SmallAreaEmphasis'], dtype=object)"
      ]
     },
     "execution_count": 217,
     "metadata": {},
     "output_type": "execute_result"
    }
   ],
   "source": [
    "# Cross-validation for model selection\n",
    "cv = KFold(n_cases-2)\n",
    "\n",
    "# Identify 10 most important features\n",
    "clf = LassoCV(fit_intercept=True,cv=cv,max_iter=10000,alphas=((1e-3,1e-2,1e-1))).fit(X,post_sas)\n",
    "importance = np.abs(clf.coef_)\n",
    "feat_idx = np.flip(np.argsort(importance))[:20]\n",
    "feat_weights = np.flip(np.sort(importance))[:20]\n",
    "for k in range(feat_idx.__len__()-1):\n",
    "    print(feat_idx[k])\n",
    "    print(keys[feat_idx[k]])\n",
    "\n",
    "print(feat_weights)\n",
    "\n",
    "# Feature selection\n",
    "sfm = SelectFromModel(clf,threshold=0,max_features=20)\n",
    "# Initialize pipeline\n",
    "clf_in = Pipeline([('LassoSelect',sfm),('MLP',MLPClassifier(max_iter=2000))])\n",
    "# Select the optimal number of clusters with grid search\n",
    "Cs = ((1e-4,1e-3,1e-2,1e-1,1,10,100))\n",
    "clf_nsvr = GridSearchCV(clf_in,{'MLP__alpha' : Cs},n_jobs=-1,cv=cv,scoring='neg_mean_squared_error')\n",
    "clf_nsvr.fit(X,post_sas)\n",
    "ut = clf_nsvr.best_estimator_.predict(X_t)\n",
    "clf_nsvr.best_estimator_.steps[0][1].get_feature_names_out(keys)\n",
    "\n"
   ]
  },
  {
   "cell_type": "code",
   "execution_count": 218,
   "metadata": {},
   "outputs": [
    {
     "data": {
      "text/plain": [
       "array([19])"
      ]
     },
     "execution_count": 218,
     "metadata": {},
     "output_type": "execute_result"
    }
   ],
   "source": [
    "ut"
   ]
  },
  {
   "cell_type": "code",
   "execution_count": 219,
   "metadata": {},
   "outputs": [
    {
     "data": {
      "text/plain": [
       "array([21,  3, 19, 13, 13, 14, 11, 23, 12,  4,  6, 11, 28, 17,  8, 21,  8,\n",
       "       17, 11,  9, 20, 17, 19, 15, 19, 11])"
      ]
     },
     "execution_count": 219,
     "metadata": {},
     "output_type": "execute_result"
    }
   ],
   "source": [
    "clf_nsvr.predict(X)"
   ]
  },
  {
   "cell_type": "code",
   "execution_count": 220,
   "metadata": {},
   "outputs": [
    {
     "data": {
      "text/plain": [
       "array([21,  3, 19, 13, 13, 14, 11, 23, 12,  4,  6, 11, 28, 17,  8, 21,  8,\n",
       "       17, 11,  9, 20, 17, 19, 15, 19, 11])"
      ]
     },
     "execution_count": 220,
     "metadata": {},
     "output_type": "execute_result"
    }
   ],
   "source": [
    "post_sas"
   ]
  },
  {
   "cell_type": "code",
   "execution_count": 221,
   "metadata": {},
   "outputs": [],
   "source": [
    "lasso = Lasso(alpha=0,fit_intercept=True,max_iter=100000,tol=1e-5)\n",
    "clf = LassoCV(fit_intercept=True,cv=cv,max_iter=10000,alphas=((1e-3,1e-2,1e-1))).fit(X,post_sas)\n",
    "# Initialize classifier pipeline\n",
    "sfm = SelectFromModel(clf,threshold=0,max_features=20)\n",
    "clf_in = Pipeline([('LassoSelect',sfm),('Lasso',lasso)])\n",
    "# Select the optimal number of clusters with grid search\n",
    "alphas = ((1e-3,1e-2,1e-1,1,10,100))\n",
    "clf = GridSearchCV(clf_in, {'Lasso__alpha' : alphas}, n_jobs=-1, cv=cv, scoring='neg_mean_squared_error')\n",
    "clf.fit(X,post_sas)\n",
    "ut = clf.best_estimator_.predict(X_t)"
   ]
  },
  {
   "cell_type": "code",
   "execution_count": 222,
   "metadata": {},
   "outputs": [
    {
     "data": {
      "text/plain": [
       "array([14.23076923])"
      ]
     },
     "execution_count": 222,
     "metadata": {},
     "output_type": "execute_result"
    }
   ],
   "source": [
    "ut"
   ]
  },
  {
   "cell_type": "code",
   "execution_count": 223,
   "metadata": {},
   "outputs": [
    {
     "data": {
      "text/plain": [
       "{'memory': None,\n",
       " 'steps': [('LassoSelect',\n",
       "   SelectFromModel(estimator=LassoCV(alphas=(0.001, 0.01, 0.1),\n",
       "                                     cv=KFold(n_splits=24, random_state=None, shuffle=False),\n",
       "                                     max_iter=10000),\n",
       "                   max_features=20, threshold=0)),\n",
       "  ('Lasso', Lasso(alpha=10, max_iter=100000, tol=1e-05))],\n",
       " 'verbose': False,\n",
       " 'LassoSelect': SelectFromModel(estimator=LassoCV(alphas=(0.001, 0.01, 0.1),\n",
       "                                   cv=KFold(n_splits=24, random_state=None, shuffle=False),\n",
       "                                   max_iter=10000),\n",
       "                 max_features=20, threshold=0),\n",
       " 'Lasso': Lasso(alpha=10, max_iter=100000, tol=1e-05),\n",
       " 'LassoSelect__estimator__alphas': (0.001, 0.01, 0.1),\n",
       " 'LassoSelect__estimator__copy_X': True,\n",
       " 'LassoSelect__estimator__cv': KFold(n_splits=24, random_state=None, shuffle=False),\n",
       " 'LassoSelect__estimator__eps': 0.001,\n",
       " 'LassoSelect__estimator__fit_intercept': True,\n",
       " 'LassoSelect__estimator__max_iter': 10000,\n",
       " 'LassoSelect__estimator__n_alphas': 100,\n",
       " 'LassoSelect__estimator__n_jobs': None,\n",
       " 'LassoSelect__estimator__normalize': 'deprecated',\n",
       " 'LassoSelect__estimator__positive': False,\n",
       " 'LassoSelect__estimator__precompute': 'auto',\n",
       " 'LassoSelect__estimator__random_state': None,\n",
       " 'LassoSelect__estimator__selection': 'cyclic',\n",
       " 'LassoSelect__estimator__tol': 0.0001,\n",
       " 'LassoSelect__estimator__verbose': False,\n",
       " 'LassoSelect__estimator': LassoCV(alphas=(0.001, 0.01, 0.1),\n",
       "         cv=KFold(n_splits=24, random_state=None, shuffle=False),\n",
       "         max_iter=10000),\n",
       " 'LassoSelect__importance_getter': 'auto',\n",
       " 'LassoSelect__max_features': 20,\n",
       " 'LassoSelect__norm_order': 1,\n",
       " 'LassoSelect__prefit': False,\n",
       " 'LassoSelect__threshold': 0,\n",
       " 'Lasso__alpha': 10,\n",
       " 'Lasso__copy_X': True,\n",
       " 'Lasso__fit_intercept': True,\n",
       " 'Lasso__max_iter': 100000,\n",
       " 'Lasso__normalize': 'deprecated',\n",
       " 'Lasso__positive': False,\n",
       " 'Lasso__precompute': False,\n",
       " 'Lasso__random_state': None,\n",
       " 'Lasso__selection': 'cyclic',\n",
       " 'Lasso__tol': 1e-05,\n",
       " 'Lasso__warm_start': False}"
      ]
     },
     "execution_count": 223,
     "metadata": {},
     "output_type": "execute_result"
    }
   ],
   "source": [
    "clf.best_estimator_.get_params()"
   ]
  },
  {
   "cell_type": "code",
   "execution_count": 224,
   "metadata": {},
   "outputs": [
    {
     "data": {
      "text/plain": [
       "50"
      ]
     },
     "execution_count": 224,
     "metadata": {},
     "output_type": "execute_result"
    }
   ],
   "source": [
    "feats.astype(int)\n",
    "sum(feats)"
   ]
  },
  {
   "cell_type": "code",
   "execution_count": 225,
   "metadata": {},
   "outputs": [
    {
     "data": {
      "application/vnd.jupyter.widget-view+json": {
       "model_id": "3970245afccc485b842dcb4d85437a31",
       "version_major": 2,
       "version_minor": 0
      },
      "image/png": "[encoded data removed]",
      "text/html": [
       "\n",
       "            <div style=\"display: inline-block;\">\n",
       "                <div class=\"jupyter-widgets widget-label\" style=\"text-align: center;\">\n",
       "                    Figure\n",
       "                </div>\n",
       "                <img src='data:image/png;base64,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' width=640.0/>\n",
       "            </div>\n",
       "        "
      ],
      "text/plain": [
       "Canvas(toolbar=Toolbar(toolitems=[('Home', 'Reset original view', 'home', 'home'), ('Back', 'Back to previous …"
      ]
     },
     "metadata": {},
     "output_type": "display_data"
    }
   ],
   "source": [
    "fig,ax = plt.subplots(1,1)\n",
    "plt.plot(feats)\n",
    "plt.show()"
   ]
  },
  {
   "cell_type": "code",
   "execution_count": 226,
   "metadata": {},
   "outputs": [
    {
     "ename": "AttributeError",
     "evalue": "'MLPClassifier' object has no attribute 'support_vectors_'",
     "output_type": "error",
     "traceback": [
      "\u001b[1;31m---------------------------------------------------------------------------\u001b[0m",
      "\u001b[1;31mAttributeError\u001b[0m                            Traceback (most recent call last)",
      "\u001b[1;32m~\\AppData\\Local\\Temp\\ipykernel_22544\\533415130.py\u001b[0m in \u001b[0;36m<module>\u001b[1;34m\u001b[0m\n\u001b[1;32m----> 1\u001b[1;33m \u001b[0mclf_nsvr\u001b[0m\u001b[1;33m.\u001b[0m\u001b[0mbest_estimator_\u001b[0m\u001b[1;33m.\u001b[0m\u001b[0msteps\u001b[0m\u001b[1;33m[\u001b[0m\u001b[1;36m1\u001b[0m\u001b[1;33m]\u001b[0m\u001b[1;33m[\u001b[0m\u001b[1;36m1\u001b[0m\u001b[1;33m]\u001b[0m\u001b[1;33m.\u001b[0m\u001b[0msupport_vectors_\u001b[0m\u001b[1;33m.\u001b[0m\u001b[0mshape\u001b[0m\u001b[1;33m\u001b[0m\u001b[1;33m\u001b[0m\u001b[0m\n\u001b[0m",
      "\u001b[1;31mAttributeError\u001b[0m: 'MLPClassifier' object has no attribute 'support_vectors_'"
     ]
    }
   ],
   "source": [
    "clf_nsvr.best_estimator_.steps[1][1].support_vectors_.shape"
   ]
  },
  {
   "cell_type": "code",
   "execution_count": null,
   "metadata": {},
   "outputs": [],
   "source": [
    "np.array(clf_nsvr.best_estimator_.predict(X))"
   ]
  },
  {
   "cell_type": "code",
   "execution_count": null,
   "metadata": {},
   "outputs": [],
   "source": [
    "cases = np.linspace(1,n_cases,n_cases)\n",
    "fig,ax = plt.subplots(1,1)\n",
    "sv_ind = clf_nsvr.best_estimator_.steps[1][1].support_\n",
    "# Plot remaining data\n",
    "plt.scatter(cases, post_sas, label=\"data\", zorder=2, c=\"c\", edgecolors=(0, 0, 0))\n",
    "# Plot support vectors\n",
    "plt.scatter(\n",
    "    cases[sv_ind],\n",
    "    post_sas[sv_ind],\n",
    "    s=50,\n",
    "    c=\"m\",\n",
    "    label=\"SVR support vectors\",\n",
    "    zorder=2,\n",
    "    edgecolors=(0, 0, 0))\n",
    "\n",
    "\n",
    "plt.plot(cases,np.array(clf_nsvr.best_estimator_.predict(X))),\n",
    "plt.style.use('dark_background')\n",
    "plt.show()"
   ]
  },
  {
   "cell_type": "code",
   "execution_count": null,
   "metadata": {},
   "outputs": [],
   "source": [
    "X_SVR = clf_nsvr.best_estimator_.steps[1][1].support_vectors_\n",
    "fig,ax = plt.subplots(1,1)\n",
    "im_svr = plt.imshow(X_SVR)\n",
    "plt.xticks([])\n",
    "plt.yticks([])\n",
    "plt.xlabel('Selected feature index')\n",
    "plt.ylabel('Class')\n",
    "plt.title('Support vectors weights');\n",
    "divider = make_axes_locatable(ax)\n",
    "cax = divider.append_axes('right', size='5%', pad=0.05)\n",
    "plt.colorbar(im_svr,cax=cax,orientation='vertical')\n"
   ]
  },
  {
   "cell_type": "code",
   "execution_count": null,
   "metadata": {},
   "outputs": [],
   "source": [
    "clf_nsvr.best_estimator_.steps[0][1]._transform(X_t).shape"
   ]
  },
  {
   "cell_type": "code",
   "execution_count": null,
   "metadata": {},
   "outputs": [],
   "source": [
    "X_Lasso = clf_nsvr.best_estimator_.steps[0][1]._transform(X_t)\n",
    "fig,ax = plt.subplots(1,1)\n",
    "plt.stem(X_Lasso.ravel())\n",
    "plt.xticks([])\n",
    "plt.yticks([])\n",
    "plt.xlabel('Selected feature index')\n",
    "plt.ylabel('Feature weight index')\n",
    "plt.title('Lasso feature weights');"
   ]
  },
  {
   "cell_type": "code",
   "execution_count": null,
   "metadata": {},
   "outputs": [],
   "source": [
    "# Feature selection\n",
    "lasso = Lasso(alpha=0,fit_intercept=True,max_iter=100000,tol=0.001)\n",
    "# Initialize classifier pipeline\n",
    "clf_lasso_in = Pipeline([('Lasso',lasso)])\n",
    "# Select the optimal number of clusters with grid search\n",
    "alphas = ((1e-3,1e-2,1e-1,1,10,100))\n",
    "clf_lasso = GridSearchCV(clf_lasso_in, {'Lasso__alpha' : alphas}, n_jobs=-1, cv=cv, scoring='neg_mean_squared_error')\n",
    "clf_lasso.fit(X,per_change)\n",
    "ut_lasso = (clf_lasso.best_estimator_.predict(X_t))"
   ]
  },
  {
   "cell_type": "code",
   "execution_count": null,
   "metadata": {},
   "outputs": [],
   "source": [
    "ut_lasso"
   ]
  },
  {
   "cell_type": "code",
   "execution_count": null,
   "metadata": {},
   "outputs": [],
   "source": [
    "clf_lasso.best_estimator_.get_params()"
   ]
  }
 ],
 "metadata": {
  "kernelspec": {
   "display_name": "pdradenv",
   "language": "python",
   "name": "python3"
  },
  "language_info": {
   "codemirror_mode": {
    "name": "ipython",
    "version": 3
   },
   "file_extension": ".py",
   "mimetype": "text/x-python",
   "name": "python",
   "nbconvert_exporter": "python",
   "pygments_lexer": "ipython3",
   "version": "3.7.15"
  },
  "orig_nbformat": 4,
  "vscode": {
   "interpreter": {
    "hash": "14732b5bb7ad6abfe54a083b8d194ae3941adfb1b18321b588b21cb8f420fced"
   }
  }
 },
 "nbformat": 4,
 "nbformat_minor": 2
}
