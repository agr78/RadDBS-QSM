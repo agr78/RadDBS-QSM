{
 "cells": [
  {
   "cell_type": "code",
   "execution_count": 5,
   "metadata": {},
   "outputs": [],
   "source": [
    "import os\n",
    "import SimpleITK as sitk\n",
    "import six\n",
    "import matplotlib.pyplot as plt\n",
    "import pydicom\n",
    "import pydicom.data\n",
    "import numpy as np\n",
    "import os, glob\n",
    "import pydicom\n",
    "import pylab as pl\n",
    "import sys\n",
    "import matplotlib.path as mplPath\n",
    "import keyboard\n",
    "import nibabel as nib\n",
    "from scipy import ndimage\n",
    "from radiomics import featureextractor \n",
    "from radiomics import imageoperations\n",
    "from radiomics import glcm\n",
    "from radiomics import base, cMatrices\n",
    "from collections import OrderedDict\n",
    "from IPython.core.display import display, HTML\n",
    "import util\n",
    "from loader import data_loader\n",
    "import nrrd\n",
    "\n",
    "%matplotlib widget"
   ]
  },
  {
   "cell_type": "code",
   "execution_count": 7,
   "metadata": {},
   "outputs": [],
   "source": [
    "# Load data\n",
    "reload = 0\n",
    "suffix = '90'\n",
    "segs, qsms, n_cases, case_list = data_loader('/media/mts_dbs/dbs/all/nii/qsm/',\n",
    "                                             '/media/mts_dbs/dbs/all/nii/seg/',\n",
    "                                             reload,suffix,'QSM_e10_imaginary_')"
   ]
  }
 ],
 "metadata": {
  "kernelspec": {
   "display_name": "pdradenv",
   "language": "python",
   "name": "python3"
  },
  "language_info": {
   "codemirror_mode": {
    "name": "ipython",
    "version": 3
   },
   "file_extension": ".py",
   "mimetype": "text/x-python",
   "name": "python",
   "nbconvert_exporter": "python",
   "pygments_lexer": "ipython3",
   "version": "3.7.16"
  }
 },
 "nbformat": 4,
 "nbformat_minor": 2
}
