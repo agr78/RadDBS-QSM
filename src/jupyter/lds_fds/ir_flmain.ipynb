{
 "cells": [
  {
   "cell_type": "code",
   "execution_count": 1,
   "metadata": {},
   "outputs": [],
   "source": [
    "# %%\n",
    "import time\n",
    "import argparse\n",
    "import logging\n",
    "from tqdm import tqdm\n",
    "import pandas as pd\n",
    "from attrdict import AttrDict\n",
    "from collections import defaultdict\n",
    "from scipy.stats import gmean\n",
    "import numpy as np\n",
    "import random\n",
    "import torch.nn as nn\n",
    "import torch.backends.cudnn as cudnn\n",
    "from torch.utils.data import DataLoader\n",
    "from imbalanced_regression.qsm.lassonet import lassonet\n",
    "from imbalanced_regression.qsm import loss\n",
    "from imbalanced_regression.qsm.datasets import QSM_features\n",
    "from imbalanced_regression.utils import *\n",
    "from imbalanced_regression.qsm.fds import FDS\n",
    "import util\n",
    "from util import pyvis, model_scale\n",
    "import sklearn.model_selection as sks\n",
    "import sklearn.metrics as skm\n",
    "import sklearn.feature_selection as skf\n",
    "import os\n",
    "import nibabel as nib\n",
    "from IPython.display import HTML\n",
    "from datetime import datetime\n",
    "import matplotlib.pyplot as plt\n",
    "os.environ[\"KMP_WARNINGS\"] = \"FALSE\"\n"
   ]
  },
  {
   "cell_type": "code",
   "execution_count": 2,
   "metadata": {},
   "outputs": [],
   "source": [
    "# Get case IDs\n",
    "case_list = open('/home/ali/RadDBS-QSM/data/docs/cases_90','r')\n",
    "lines = case_list.read()\n",
    "lists = np.loadtxt(case_list.name,comments=\"#\", delimiter=\",\",unpack=False,dtype=str)\n",
    "case_id = []\n",
    "for lines in lists:     \n",
    "    case_id.append(lines[-9:-7])\n",
    "\n",
    "# Load scores\n",
    "file_dir = '/home/ali/RadDBS-QSM/data/docs/QSM anonymus- 6.22.2023-1528.csv'\n",
    "motor_df = util.filter_scores(file_dir,'pre-dbs updrs','stim','CORNELL ID')\n",
    "# Find cases with all required scores\n",
    "subs,pre_imp,post_imp,pre_updrs_off = util.get_full_cases(motor_df,\n",
    "                                                          'CORNELL ID',\n",
    "                                                          'OFF (pre-dbs updrs)',\n",
    "                                                          'ON (pre-dbs updrs)',\n",
    "                                                          'OFF meds ON stim 6mo')\n",
    "# Find overlap between scored subjects and nii\n",
    "ids = np.asarray(case_id).astype(int)\n",
    "# ids = ids[ids != 54]\n",
    "cases_idx = np.in1d(subs,ids)\n",
    "ccases = subs[cases_idx]\n",
    "per_change = np.round(post_imp[cases_idx],1)\n",
    "\n",
    "nii_paths = []\n",
    "per_change_match = []\n",
    "updrs_match = []\n",
    "qsm_dir = '/home/ali/RadDBS-QSM/data/npy/X/'\n",
    "qsm_niis = sorted(os.listdir(qsm_dir))\n",
    "for k in np.arange(len(ccases)):\n",
    "    for file in qsm_niis:\n",
    "        if int(ccases[k]) == int(file[4:6]):\n",
    "            nii_paths.append(qsm_dir+file)\n",
    "            per_change_match.append(per_change[k])\n",
    "            updrs_match.append(pre_updrs_off[k])\n",
    "\n",
    "train_dir, test_dir, y_train, y_test, pre_train, pre_test = sks.train_test_split(nii_paths, \n",
    "                                                                                 per_change_match, \n",
    "                                                                                 updrs_match, \n",
    "                                                                                 test_size=0.1,\n",
    "                                                                                 random_state=2)\n",
    "train_dir, val_dir, y_train, y_val, pre_train, pre_val = sks.train_test_split(train_dir, \n",
    "                                                                              y_train, \n",
    "                                                                              pre_train, \n",
    "                                                                              test_size=0.2, \n",
    "                                                                              random_state=2)"
   ]
  },
  {
   "cell_type": "code",
   "execution_count": 3,
   "metadata": {},
   "outputs": [],
   "source": [
    "args = AttrDict()\n",
    "args.gpu = 0\n",
    "args.optimizer = 'sgd'\n",
    "args.lr = 1e-3\n",
    "args.epoch = 100\n",
    "args.momentum = 0.9\n",
    "args.weight_decay = 1e-4\n",
    "args.schedule = [60,80]\n",
    "args.print_freq = 10\n",
    "args.resume = ''\n",
    "args.pretrained = False\n",
    "args.evaluate = False\n",
    "args.loss = 'l1'\n",
    "args.dataset = 'qsm'\n",
    "args.model = 'resnet50'\n",
    "args.store_root = '/home/ali/RadDBS-QSM/data/checkpoint'\n",
    "args.data_dir = '/home/ali/RadDBS-QSM/data/qsm/'\n",
    "args.fds = True\n",
    "args.fds_kernel = 'gaussian'\n",
    "args.fds_ks = 5\n",
    "args.fds_sigma = 1\n",
    "args.fds_mmt = 0.9\n",
    "args.start_update = 0\n",
    "args.start_smooth = 0\n",
    "args.bucket_num = 5\n",
    "args.bucket_start = 0\n",
    "args.start_epoch = 0\n",
    "args.best_loss = 1e5\n",
    "args.reweight = 'sqrt_inv'\n",
    "args.retrain_fc = False\n",
    "args.lds = True\n",
    "args.lds_kernel = 'gaussian'\n",
    "args.lds_ks = 3\n",
    "args.lds_sigma = 1\n",
    "args.batch_size = len(y_train)\n",
    "args.workers = 24\n",
    "args.input_type = 'features'\n",
    "args.store_name = 'L_'+str(args.loss)+'_FDS_'+str(args.fds)+'_LDS_'+str(args.lds)+'_BS_'+str(args.batch_size)+'_IT_'+str(args.input_type)+'_'+str(datetime.now())\n"
   ]
  },
  {
   "cell_type": "code",
   "execution_count": 4,
   "metadata": {},
   "outputs": [
    {
     "name": "stdout",
     "output_type": "stream",
     "text": [
      "=====> Preparing data...\n",
      "Using re-weighting: [SQRT_INV]\n",
      "Using LDS: [GAUSSIAN] (3/1)\n",
      "Training data size: 33\n",
      "Validation data size: 9\n",
      "Test data size: 5\n",
      "[0.8, 0.2, 0.2, 0.5, 0.7]\n"
     ]
    }
   ],
   "source": [
    " # Data\n",
    "print('=====> Preparing data...')\n",
    "\n",
    "train_dataset = QSM_features(data_dir=train_dir, targets=y_train, pre_metric=pre_train, scaler_ss=None, split='train',\n",
    "                        reweight=args.reweight, lds=args.lds, lds_kernel=args.lds_kernel, lds_ks=args.lds_ks, lds_sigma=args.lds_sigma)\n",
    "val_dataset = QSM_features(data_dir=val_dir, targets=y_val, pre_metric=pre_val, scaler_ss=train_dataset.__getscaler__(), split='val')\n",
    "test_dataset = QSM_features(data_dir=test_dir, targets=y_test, pre_metric=pre_test, scaler_ss=train_dataset.__getscaler__(), split='test')\n",
    "\n",
    "train_loader = DataLoader(train_dataset, batch_size=args.batch_size, shuffle=True,\n",
    "                            num_workers=args.workers, pin_memory=True, drop_last=False)\n",
    "val_loader = DataLoader(val_dataset, batch_size=args.batch_size, shuffle=False,\n",
    "                        num_workers=args.workers, pin_memory=True, drop_last=False)\n",
    "test_loader = DataLoader(test_dataset, batch_size=args.batch_size, shuffle=False,\n",
    "                            num_workers=args.workers, pin_memory=True, drop_last=False)\n",
    "print(f\"Training data size: {len(train_dataset)}\")\n",
    "print(f\"Validation data size: {len(val_dataset)}\")\n",
    "print(f\"Test data size: {len(test_dataset)}\")\n",
    "print(y_test)"
   ]
  },
  {
   "cell_type": "code",
   "execution_count": 5,
   "metadata": {},
   "outputs": [],
   "source": [
    "smoothed_dist,original_dist = train_dataset.__getslabels__()"
   ]
  },
  {
   "cell_type": "code",
   "execution_count": 6,
   "metadata": {},
   "outputs": [
    {
     "data": {
      "text/plain": [
       "Text(0.5, 1.0, 'Smoothed label distribution')"
      ]
     },
     "execution_count": 6,
     "metadata": {},
     "output_type": "execute_result"
    },
    {
     "data": {
      "image/png": "[encoded data removed]",
      "text/plain": [
       "<Figure size 432x288 with 2 Axes>"
      ]
     },
     "metadata": {
      "needs_background": "light"
     },
     "output_type": "display_data"
    }
   ],
   "source": [
    "fig,ax = plt.subplots(1,2,sharex=True,sharey=True)\n",
    "ax[0].bar(x=np.linspace(0,1,11),height=original_dist,width=0.075)\n",
    "ax[0].set_title('Original label distribution')\n",
    "ax[0].set_ylabel(r'$p(y)$')\n",
    "ax[1].bar(x=np.linspace(0,1,11),height=smoothed_dist,width=0.075)\n",
    "ax[1].set_title('Smoothed label distribution')\n"
   ]
  },
  {
   "cell_type": "code",
   "execution_count": 7,
   "metadata": {},
   "outputs": [
    {
     "name": "stderr",
     "output_type": "stream",
     "text": [
      "/home/ali/anaconda3/envs/pdradenv/lib/python3.7/site-packages/sklearn/feature_selection/_univariate_selection.py:289: RuntimeWarning: invalid value encountered in true_divide\n",
      "  correlation_coefficient /= X_norms\n"
     ]
    }
   ],
   "source": [
    "X = np.zeros((len(y_train),9576))\n",
    "y = np.zeros((len(y_train)))\n",
    "for j in np.arange(len(y_train)):\n",
    "    X0, y0, _ = train_dataset[j]\n",
    "    X[j,:] = np.squeeze(X0)\n",
    "    y[j] = y0\n",
    "sel = skf.SelectKBest(skf.r_regression,k=10)\n",
    "X = torch.tensor(sel.fit_transform(np.squeeze(np.asarray(X)),y))"
   ]
  },
  {
   "cell_type": "code",
   "execution_count": 27,
   "metadata": {},
   "outputs": [],
   "source": [
    "f = FDS(feature_dim=X.shape[1], bucket_num=args.bucket_num, \n",
    "        bucket_start=args.bucket_start,\n",
    "        start_update=args.start_update, \n",
    "        start_smooth=args.start_smooth, \n",
    "        kernel=args.fds_kernel, ks=args.fds_ks, sigma=args.fds_sigma, momentum=args.fds_mmt)"
   ]
  },
  {
   "cell_type": "code",
   "execution_count": 28,
   "metadata": {},
   "outputs": [
    {
     "name": "stdout",
     "output_type": "stream",
     "text": [
      "0.0\n",
      "0.0\n",
      "0.0\n",
      "0.0\n",
      "0.0\n",
      "0.0\n",
      "0.0\n",
      "0.0\n",
      "0.0\n",
      "0.0\n",
      "0.0\n",
      "0.0\n",
      "0.0\n",
      "0.0\n",
      "0.0\n",
      "0.0\n",
      "0.0\n",
      "0.0\n",
      "0.0\n",
      "0.0\n",
      "0.0\n",
      "0.0\n",
      "0.0\n",
      "0.0\n",
      "0.0\n",
      "0.0\n",
      "0.0\n",
      "0.0\n",
      "0.0\n",
      "0.0\n",
      "0.0\n",
      "0.0\n",
      "0.0\n",
      "0.0\n",
      "0.0\n",
      "0.0\n",
      "0.0\n",
      "0.0\n",
      "0.0\n",
      "0.0\n",
      "0.0\n",
      "0.0\n",
      "0.0\n",
      "0.0\n",
      "0.0\n",
      "0.0\n",
      "0.0\n",
      "0.0\n",
      "0.0\n",
      "0.0\n",
      "0.0\n",
      "0.0\n",
      "0.0\n",
      "0.0\n",
      "0.0\n",
      "0.0\n",
      "0.0\n",
      "0.0\n",
      "0.0\n",
      "0.0\n",
      "0.0\n",
      "0.0\n",
      "0.0\n",
      "0.0\n",
      "0.0\n",
      "0.0\n",
      "0.0\n",
      "0.0\n",
      "0.0\n",
      "0.0\n",
      "0.0\n",
      "0.0\n"
     ]
    },
    {
     "name": "stderr",
     "output_type": "stream",
     "text": [
      "/home/ali/anaconda3/envs/pdradenv/lib/python3.7/site-packages/ipykernel_launcher.py:3: UserWarning: To copy construct from a tensor, it is recommended to use sourceTensor.clone().detach() or sourceTensor.clone().detach().requires_grad_(True), rather than torch.tensor(sourceTensor).\n",
      "  This is separate from the ipykernel package so we can avoid doing imports until\n"
     ]
    },
    {
     "name": "stdout",
     "output_type": "stream",
     "text": [
      "0.0\n",
      "0.0\n",
      "0.0\n",
      "0.0\n",
      "0.0\n",
      "0.0\n",
      "0.0\n",
      "0.0\n",
      "0.0\n",
      "0.0\n",
      "0.0\n",
      "0.0\n",
      "0.0\n",
      "0.0\n",
      "0.0\n",
      "0.0\n",
      "0.0\n",
      "0.0\n",
      "0.0\n",
      "0.0\n",
      "0.0\n",
      "0.0\n",
      "0.0\n",
      "0.0\n",
      "0.0\n",
      "0.0\n",
      "0.0\n",
      "0.0\n"
     ]
    }
   ],
   "source": [
    "Xs = X\n",
    "for k in np.arange(args.epoch):\n",
    "    Xs = f.smooth(features=torch.tensor(Xs),labels=torch.tensor(y),epoch=k)\n",
    "    print(np.sum((np.asarray(Xs)-X)**2))"
   ]
  },
  {
   "cell_type": "code",
   "execution_count": 29,
   "metadata": {},
   "outputs": [],
   "source": [
    "# Assign the anchor target to the median\n",
    "anchor = np.min(y)\n",
    "arr1inds = np.asarray(y).argsort()\n",
    "X = np.asarray(X)[arr1inds]\n",
    "y = np.asarray(y)[arr1inds]\n",
    "aj = np.where(y==anchor)\n",
    "aj = aj[0][0]"
   ]
  },
  {
   "cell_type": "code",
   "execution_count": 30,
   "metadata": {},
   "outputs": [],
   "source": [
    "C0 = np.zeros((1,len(y))).T\n",
    "C0_s = np.zeros((1,len(y))).T\n",
    "for j in np.arange(len(y)):\n",
    "    C0[j] = skm.pairwise.cosine_similarity(np.squeeze(X[aj,:]).reshape(1, -1),\n",
    "                                           np.squeeze(X[j,:]).reshape(1, -1))\n",
    "    C0_s[j] = skm.pairwise.cosine_similarity(np.squeeze(Xs[aj,:]).reshape(1, -1),\n",
    "                                           np.squeeze(Xs[j,:]).reshape(1, -1))"
   ]
  },
  {
   "cell_type": "code",
   "execution_count": 31,
   "metadata": {},
   "outputs": [
    {
     "data": {
      "text/plain": [
       "Text(0.5, 1.0, 'Standard')"
      ]
     },
     "execution_count": 31,
     "metadata": {},
     "output_type": "execute_result"
    },
    {
     "data": {
      "image/png": "[encoded data removed]",
      "text/plain": [
       "<Figure size 1800x720 with 2 Axes>"
      ]
     },
     "metadata": {
      "needs_background": "light"
     },
     "output_type": "display_data"
    }
   ],
   "source": [
    "fig, ax = plt.subplots(1,2,figsize=(25,10),sharey=True)\n",
    "pd.DataFrame(C0,index=np.sort(y)).plot.bar(ax=ax[0],legend=False,width=0.9)\n",
    "ax[0].set_xticks([])\n",
    "ax[0].get_children()\n",
    "ax[0].get_children()[aj].set_color('#ff7f0e') \n",
    "ax[0].set_ylim([-0.25,1.25])\n",
    "ax[0].set_ylabel('Similarity with respect to anchor target',fontsize=24)\n",
    "ax[0].set_xlabel('Target',fontsize=24)\n",
    "ax[0].set_title('Raw',fontsize=24)\n",
    "pd.DataFrame(C0_s,index=np.sort(y)).plot.bar(ax=ax[1],legend=False,width=0.9)\n",
    "ax[1].set_xticks([])\n",
    "ax[1].get_children()\n",
    "ax[1].get_children()[aj].set_color('#ff7f0e') \n",
    "ax[1].set_xlabel('Target',fontsize=24)\n",
    "ax[1].set_title('Standard',fontsize=24)\n"
   ]
  }
 ],
 "metadata": {
  "kernelspec": {
   "display_name": "pdradenv",
   "language": "python",
   "name": "python3"
  },
  "language_info": {
   "codemirror_mode": {
    "name": "ipython",
    "version": 3
   },
   "file_extension": ".py",
   "mimetype": "text/x-python",
   "name": "python",
   "nbconvert_exporter": "python",
   "pygments_lexer": "ipython3",
   "version": "3.7.16"
  }
 },
 "nbformat": 4,
 "nbformat_minor": 2
}
