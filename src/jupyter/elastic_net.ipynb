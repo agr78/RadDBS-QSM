{
 "cells": [
  {
   "cell_type": "code",
   "execution_count": 1,
   "metadata": {},
   "outputs": [],
   "source": [
    "# Import libraries\n",
    "import matplotlib as mpl\n",
    "import matplotlib.pyplot as plt\n",
    "import nibabel as nib\n",
    "import sklearn.model_selection as sms\n",
    "import sklearn.linear_model as slm\n",
    "import sklearn.preprocessing as skp\n",
    "import sklearn.neural_network as snn\n",
    "import sklearn.metrics as sme\n",
    "import sklearn.cross_decomposition as skd\n",
    "from radiomics import featureextractor \n",
    "import numpy as np\n",
    "import pandas as pd\n",
    "from scipy.stats import linregress\n",
    "from IPython.display import HTML\n",
    "import util\n",
    "from multiprocessing import Pool\n"
   ]
  },
  {
   "cell_type": "code",
   "execution_count": 2,
   "metadata": {},
   "outputs": [
    {
     "data": {
      "text/html": [
       "\n",
       "<style>\n",
       ".jupyter-matplotlib {\n",
       "    background-color: #000;\n",
       "}\n",
       "\n",
       ".widget-label, .jupyter-matplotlib-header{\n",
       "    color: #fff;\n",
       "}\n",
       "\n",
       ".jupyter-button {\n",
       "    background-color: #333;\n",
       "    color: #fff;\n",
       "}\n",
       "</style>\n"
      ],
      "text/plain": [
       "<IPython.core.display.HTML object>"
      ]
     },
     "execution_count": 2,
     "metadata": {},
     "output_type": "execute_result"
    }
   ],
   "source": [
    "HTML('''\n",
    "<style>\n",
    ".jupyter-matplotlib {\n",
    "    background-color: #000;\n",
    "}\n",
    "\n",
    ".widget-label, .jupyter-matplotlib-header{\n",
    "    color: #fff;\n",
    "}\n",
    "\n",
    ".jupyter-button {\n",
    "    background-color: #333;\n",
    "    color: #fff;\n",
    "}\n",
    "</style>\n",
    "''')"
   ]
  },
  {
   "cell_type": "code",
   "execution_count": 3,
   "metadata": {},
   "outputs": [],
   "source": [
    "# Get case IDs\n",
    "case_list = open('/home/ali/RadDBS-QSM/data/docs/cases_90','r')\n",
    "lines = case_list.read()\n",
    "lists = np.loadtxt(case_list.name,comments=\"#\", delimiter=\",\",unpack=False,dtype=str)\n",
    "case_id = []\n",
    "for lines in lists:     \n",
    "    case_id.append(lines[-9:-7])\n",
    "\n",
    "# Load scores\n",
    "file_dir = '/home/ali/RadDBS-QSM/data/docs/QSM anonymus- 6.22.2023-1528.csv'\n",
    "motor_df = util.filter_scores(file_dir,'pre-dbs updrs','stim','CORNELL ID')\n",
    "# Find cases with all required scores\n",
    "subs,pre_imp,post_imp,pre_updrs_off = util.get_full_cases(motor_df,\n",
    "                                                          'CORNELL ID',\n",
    "                                                          'OFF (pre-dbs updrs)',\n",
    "                                                          'ON (pre-dbs updrs)',\n",
    "                                                          'OFF meds ON stim 6mo')\n",
    "# Load extracted features\n",
    "npy_dir = '/home/ali/RadDBS-QSM/data/npy/'\n",
    "phi_dir = '/home/ali/RadDBS-QSM/data/phi/'\n",
    "roi_path = '/data/Ali/atlas/mcgill_pd_atlas/PD25-subcortical-labels.csv'\n",
    "n_rois = 6\n",
    "Phi_all, X_all, R_all, K_all, ID_all = util.load_featstruct(phi_dir,npy_dir+'X/',npy_dir+'R/',npy_dir+'K/',n_rois,1595)\n",
    "ids = np.asarray(ID_all).astype(int)\n",
    "# Find overlap between scored subjects and feature extraction cases\n",
    "c_cases = np.intersect1d(np.asarray(case_id).astype(int),np.asarray(subs).astype(int))\n",
    "# Complete case indices with respect to feature matrix\n",
    "c_cases_idx = np.in1d(ids,c_cases)\n",
    "X_all_c = X_all[c_cases_idx,:,:]\n",
    "K_all_c = K_all[c_cases_idx,:,:]\n",
    "R_all_c = R_all[c_cases_idx,:,:]\n",
    "# Re-index the scored subjects with respect to complete cases\n",
    "s_cases_idx = np.in1d(subs,ids[c_cases_idx])\n",
    "pre_imp = pre_imp[s_cases_idx]\n",
    "post_imp = post_imp[s_cases_idx]\n",
    "pre_updrs_off = pre_updrs_off[s_cases_idx]\n",
    "per_change = post_imp"
   ]
  },
  {
   "cell_type": "code",
   "execution_count": 4,
   "metadata": {},
   "outputs": [
    {
     "name": "stdout",
     "output_type": "stream",
     "text": [
      "Split datasets into training ( entropy of 16.656225013237975 ) and testing ( entropy of 14.133238756942747 )\n"
     ]
    }
   ],
   "source": [
    "X_train,X_test,y_train,y_test,train_index,test_index = util.set_split(X_all_c,per_change,1,0.1)\n",
    "X0_tt,scaler = util.make_feature_matrix(X_train,pre_updrs_off[train_index])\n",
    "entropy_train = util.calc_entropy(X0_tt.ravel())\n",
    "entropy_test = util.calc_entropy(X_test.ravel())\n",
    "print('Split datasets into training ( entropy of',str(entropy_train),') and testing ( entropy of',str(entropy_test),')')\n"
   ]
  },
  {
   "cell_type": "code",
   "execution_count": 5,
   "metadata": {},
   "outputs": [],
   "source": [
    "est = slm.ElasticNet()\n",
    "cvn = 5\n",
    "\n",
    "param_grid = {'alpha': [1e-3,1e-2,1e-1],\n",
    "          'eps': [1e-4,1e-3,1e-2,1e-3],\n",
    "          'max_iter':[5000]}\n",
    "\n",
    "gsc = slm.ElasticNetCV(\n",
    "    cv=cvn, \n",
    "    verbose=True,\n",
    "    n_jobs=-1)\n",
    "\n",
    "\n"
   ]
  },
  {
   "cell_type": "code",
   "execution_count": 8,
   "metadata": {},
   "outputs": [
    {
     "name": "stderr",
     "output_type": "stream",
     "text": [
      "[Parallel(n_jobs=-1)]: Using backend ThreadingBackend with 32 concurrent workers.\n",
      "......................................................................................................................................................................."
     ]
    }
   ],
   "source": [
    "X_test_in = util.scale_feature_matrix(X_test,pre_updrs_off[test_index],scaler)\n",
    "estcv = gsc.fit(X0_tt,y_train)\n",
    "pls = skd.PLSRegression(n_components=1000)\n",
    "pls.fit(X0_tt, y_train)\n",
    "n = X_test.shape[0]\n",
    "results = estcv.predict(X_test_in.reshape([X_test_in.shape[0],\n",
    "                                           X_test_in.shape[1]*X_test_in.shape[2]]))\n",
    "\n",
    "print(results)"
   ]
  },
  {
   "cell_type": "code",
   "execution_count": 7,
   "metadata": {},
   "outputs": [
    {
     "name": "stderr",
     "output_type": "stream",
     "text": [
      "/home/ali/anaconda3/envs/pdradenv/lib/python3.7/site-packages/scipy/stats/_stats_mstats_common.py:170: RuntimeWarning: invalid value encountered in double_scalars\n",
      "  slope = ssxym / ssxm\n",
      "/home/ali/anaconda3/envs/pdradenv/lib/python3.7/site-packages/scipy/stats/_stats_mstats_common.py:187: RuntimeWarning: divide by zero encountered in double_scalars\n",
      "  slope_stderr = np.sqrt((1 - r**2) * ssym / ssxm / df)\n"
     ]
    },
    {
     "data": {
      "text/plain": [
       "<function matplotlib.pyplot.show(*args, **kw)>"
      ]
     },
     "execution_count": 7,
     "metadata": {},
     "output_type": "execute_result"
    },
    {
     "data": {
      "image/png": "[encoded data removed]",
      "text/plain": [
       "<Figure size 1080x360 with 2 Axes>"
      ]
     },
     "metadata": {
      "needs_background": "light"
     },
     "output_type": "display_data"
    }
   ],
   "source": [
    "\n",
    "ut_l = results\n",
    "plt.rcParams[\"figure.figsize\"] = (15,5)\n",
    "# Cross validation results\n",
    "[fig,ax] = plt.subplots(1,2,sharex=True, sharey=True)\n",
    "lr_prepost = linregress(pre_imp[test_index],y_test)\n",
    "ax[0].scatter(pre_imp[test_index],y_test)\n",
    "ax[0].plot(pre_imp[test_index],pre_imp[test_index]*lr_prepost.slope+lr_prepost.intercept,'-r')\n",
    "ax[0].set_title('LCT')\n",
    "ax[0].set_ylabel(\"DBS improvement\")\n",
    "ax[0].set_xlabel(\"Prediction\")\n",
    "# ax[0].set_ylim([0, 1])\n",
    "# ax[0].set_xlim([0, 1])\n",
    "text = f\"$y={lr_prepost.slope:0.3f}\\;x{lr_prepost.intercept:+0.3f}$\\n$r = {lr_prepost.rvalue:0.3f}$\\n$p = {lr_prepost.pvalue:0.3f}$\"\n",
    "ax[0].text(0.5, 0.5, text,transform=ax[0].transAxes,\n",
    "     fontsize=14, verticalalignment='top')\n",
    "ax[0].hlines(0.3,0,2,linestyle='dashed',color='black')\n",
    "ax[0].vlines(0.3,0,2,linestyle='dashed',color='black')\n",
    "\n",
    "lr_pred_qr = linregress(np.asarray(ut_l).ravel(),y_test)\n",
    "ax[1].scatter(np.asarray(ut_l).ravel(),y_test)\n",
    "ax[1].plot(np.asarray(ut_l).ravel(),np.asarray(ut_l).ravel()*lr_pred_qr.slope+lr_pred_qr.intercept,'-r')\n",
    "ax[1].set_title('MLPRegressor')\n",
    "ax[1].set_ylabel(\"DBS improvement\")\n",
    "ax[1].set_xlabel(\"Prediction\")\n",
    "text = f\"$y={lr_pred_qr.slope:0.3f}\\;x{lr_pred_qr.intercept:+0.3f}$\\n$r = {lr_pred_qr.rvalue:0.3f}$\\n$p = {lr_pred_qr.pvalue:0.10f}$\"\n",
    "ax[1].text(0.5, 0.5, text,transform=ax[1].transAxes,\n",
    "     fontsize=14, verticalalignment='top')\n",
    "ax[1].hlines(0.3,0,2,linestyle='dashed',color='black')\n",
    "ax[1].vlines(0.3,0,2,linestyle='dashed',color='black')\n",
    "\n",
    "plt.style.use('default')\n",
    "plt.show"
   ]
  }
 ],
 "metadata": {
  "kernelspec": {
   "display_name": "pdradenv",
   "language": "python",
   "name": "python3"
  },
  "language_info": {
   "codemirror_mode": {
    "name": "ipython",
    "version": 3
   },
   "file_extension": ".py",
   "mimetype": "text/x-python",
   "name": "python",
   "nbconvert_exporter": "python",
   "pygments_lexer": "ipython3",
   "version": "3.7.16"
  }
 },
 "nbformat": 4,
 "nbformat_minor": 2
}
