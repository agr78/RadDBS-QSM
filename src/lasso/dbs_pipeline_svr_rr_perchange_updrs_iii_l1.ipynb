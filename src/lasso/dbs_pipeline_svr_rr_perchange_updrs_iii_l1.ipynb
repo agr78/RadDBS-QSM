{
 "cells": [
  {
   "cell_type": "code",
   "execution_count": 1,
   "metadata": {},
   "outputs": [],
   "source": [
    "# Preliminary data notebook for\n",
    "# NIH: Imaging Guided Intervention Surgery Study Section\n",
    "\n",
    "# Exploratory aim: evaluate presurgical scans between STN and GPi targets\n",
    "#   Given retrospective GPi acquisitions?\n",
    "#   Search for radiomic differentiators for STN versus GPi selection in presurgical scans"
   ]
  },
  {
   "cell_type": "code",
   "execution_count": 2,
   "metadata": {},
   "outputs": [],
   "source": [
    "# Import libraries\n",
    "from datetime import date, datetime\n",
    "import matplotlib.pyplot as plt\n",
    "from mpl_toolkits.axes_grid1 import make_axes_locatable\n",
    "import nibabel as nib\n",
    "from sklearn.svm import SVR\n",
    "from sklearn.linear_model import LassoCV\n",
    "from sklearn.preprocessing import StandardScaler\n",
    "from sklearn.pipeline import Pipeline\n",
    "from sklearn.model_selection import GridSearchCV\n",
    "from sklearn.model_selection import KFold\n",
    "from sklearn.feature_selection import SelectFromModel\n",
    "from sklearn.metrics import r2_score\n",
    "import SimpleITK as sitk\n",
    "import six\n",
    "from radiomics import featureextractor \n",
    "import numpy as np\n",
    "import scipy.stats as stats\n",
    "import os\n",
    "import pickle\n",
    "\n",
    "%matplotlib widget"
   ]
  },
  {
   "cell_type": "code",
   "execution_count": 3,
   "metadata": {},
   "outputs": [],
   "source": [
    "# Set window level\n",
    "level = 0\n",
    "window = 500\n",
    "m1=level-window/2\n",
    "m2=level+window/2\n",
    "\n",
    "load_data = 0\n",
    "rextract = 0\n",
    "retrain = 1\n",
    "# Load data\n",
    "# fig,ax = plt.subplots(2,5)\n",
    "segs = []\n",
    "qsms = []\n",
    "voxel_sizes = []\n",
    "trackers = []\n",
    "directory = 'F:\\dbs\\stn-dbs\\Cornell_anonymized'\n",
    "case_list = []\n",
    "if load_data == 1:\n",
    "    for filename in os.listdir(directory):\n",
    "        f = os.path.join(directory,filename)\n",
    "        print(f)\n",
    "    \n",
    "        seg = nib.load(f+'/Rh Mri Brain With Without Contrast/seg.nii.gz')\n",
    "                    \n",
    "        voxel_size = seg.header['pixdim'][0:3]\n",
    "        voxel_sizes.append(voxel_size)\n",
    "        segs.append(seg.get_fdata())\n",
    "\n",
    "        qsm = nib.load(f+'/Rh Mri Brain With Without Contrast/qsm.nii.gz')\n",
    "        qsms.append(qsm.get_fdata())\n",
    "            \n",
    "        case_list.append(filename)\n",
    "        n_cases = len(segs)\n",
    "\n",
    "        label_min = np.partition(np.unique(seg.get_fdata().ravel()),1)[1]\n",
    "        label_max = np.amax(seg.get_fdata())"
   ]
  },
  {
   "cell_type": "code",
   "execution_count": 4,
   "metadata": {},
   "outputs": [],
   "source": [
    "# Define feature extraction\n",
    "extractor = featureextractor.RadiomicsFeatureExtractor()\n",
    "extractor.enableAllFeatures()\n",
    "extractor.enableAllImageTypes()\n",
    "\n",
    "# Generate feature structure Phi from all ROIs and all cases\n",
    "if rextract == 1:\n",
    "    Phi = []\n",
    "\n",
    "    # Training cases\n",
    "    for i in range(n_cases):\n",
    "        seg_sitk = sitk.GetImageFromArray(segs[i])\n",
    "        seg_sitk.SetSpacing(voxel_sizes[i].tolist())\n",
    "        qsm_sitk = sitk.GetImageFromArray(qsms[i])\n",
    "        qsm_sitk.SetSpacing(voxel_sizes[i].tolist())\n",
    "        for j in range(int(label_min),int(label_max+1)):\n",
    "            featureVector = extractor.execute(qsm_sitk,seg_sitk,label=j)\n",
    "            Phi.append(featureVector)\n",
    "    # Save feature vector\n",
    "    with open('../features/Phi_57','wb') as fp:  \n",
    "        pickle.dump(Phi,fp)\n"
   ]
  },
  {
   "cell_type": "code",
   "execution_count": 5,
   "metadata": {},
   "outputs": [],
   "source": [
    "with open('../features/Phi_57','rb') as fp:  \n",
    "    Phi = pickle.load(fp)"
   ]
  },
  {
   "cell_type": "code",
   "execution_count": 6,
   "metadata": {},
   "outputs": [
    {
     "data": {
      "text/html": [
       "   <style>\n",
       "   .cell-output-ipywidget-background {\n",
       "      background-color: transparent !important;\n",
       "   }\n",
       "   .jp-OutputArea-output {\n",
       "      background-color: transparent;\n",
       "   }  \n",
       "   </style>\n",
       "   \n"
      ],
      "text/plain": [
       "<IPython.core.display.HTML object>"
      ]
     },
     "metadata": {},
     "output_type": "display_data"
    }
   ],
   "source": [
    "%%html\n",
    "   <style>\n",
    "   .cell-output-ipywidget-background {\n",
    "      background-color: transparent !important;\n",
    "   }\n",
    "   .jp-OutputArea-output {\n",
    "      background-color: transparent;\n",
    "   }  \n",
    "   </style>\n",
    "   "
   ]
  },
  {
   "cell_type": "code",
   "execution_count": 7,
   "metadata": {},
   "outputs": [],
   "source": [
    "# UPDRS features\n",
    "subject_id = np.array((1,2,3,6,9,10,11,12,13,15,16,20,25,26,27,28,29,34,35,41,43,44,45,46,52,54))\n",
    "pre_updrs_iii_off = np.array((65,22,45,63,63,27,57,42,54,67,33,27,50,77,43,31,56,81,40,28,52,32,33,18,58,63))\n",
    "pre_updrs_iii_on = np.array((54,7,13,32,21,14,11,14,28,65,9,4,26,55,14,8,24,20,17,0,29,13,26,0,27,36))\n",
    "post_updrs_iii_off = np.array((11,2,20,3,7,11,15,21,16,21,4,9,15,9,11,4,8,25,13,16,7,26,2,8,19,8))\n",
    "per_change = (pre_updrs_iii_off-post_updrs_iii_off)/pre_updrs_iii_off\n",
    "lct_change = (pre_updrs_iii_off-pre_updrs_iii_on)/(pre_updrs_iii_off)"
   ]
  },
  {
   "cell_type": "code",
   "execution_count": 8,
   "metadata": {},
   "outputs": [],
   "source": [
    "case_id = np.repeat(subject_id,2)"
   ]
  },
  {
   "cell_type": "code",
   "execution_count": 9,
   "metadata": {},
   "outputs": [],
   "source": [
    "n_cases = subject_id.__len__()"
   ]
  },
  {
   "cell_type": "code",
   "execution_count": 10,
   "metadata": {},
   "outputs": [],
   "source": [
    "ut = np.zeros((subject_id.__len__()))\n",
    "for j in np.arange(1,np.max(subject_id)+1):\n",
    "    if j in subject_id:\n",
    "        # Extract numeric feature values\n",
    "        n_ROIs = 2\n",
    "        x_row = []\n",
    "        x_row_t = []\n",
    "        keys = []\n",
    "        per_change_train = []\n",
    "        for i in range(Phi.__len__()//2+1):\n",
    "            if i in subject_id:\n",
    "                for ii in range(0,n_ROIs-1):\n",
    "                    featureVector = Phi[i+ii]\n",
    "                    for key,value in six.iteritems(featureVector):\n",
    "                        if 'diagnostic' in key:\n",
    "                            next\n",
    "                        else:\n",
    "                            try:\n",
    "                                x_row.append(value.ravel())\n",
    "                            except:\n",
    "                                x_row.append(value)\n",
    "                            keys.append(key)\n",
    "                    if ii == 0 and pre_updrs_iii_off[subject_id == i].__len__()>0:\n",
    "                        x_row.append((pre_updrs_iii_off[subject_id == i]))\n",
    "                        x_row.append(post_updrs_iii_off[subject_id == i])\n",
    "                        x_row.append(pre_updrs_iii_on[subject_id == i])\n",
    "                        keys.append('pre_updrs_iii_off')\n",
    "                        keys.append('post_updrs_iii_off')\n",
    "                        keys.append('pre_updrs_iii_on')\n",
    "                        per_change_train.append(per_change[subject_id == i])\n",
    "                        \n",
    "        jj = int(np.where(subject_id==j)[0])\n",
    "        X0 = np.array(x_row)\n",
    "        X = X0.reshape((n_cases,int(len(X0)/(n_cases))))\n",
    "        X0_t = X[jj,:]\n",
    "       \n",
    "        # Normalize testing and training cases together\n",
    "        #   Set with_mean=False to preserve data sparsity\n",
    "        #   And with_std=False \n",
    "        #   However,need a significant number of samples to do this\n",
    "        scaler = StandardScaler()\n",
    "        X_all = np.vstack((X,X0_t))\n",
    "        X_all_t = scaler.fit_transform(X_all)\n",
    "        X_t = X_all_t[X.shape[0]:,:]\n",
    "        Xin = X_all_t[:X.shape[0]]\n",
    "\n"
   ]
  },
  {
   "cell_type": "code",
   "execution_count": 12,
   "metadata": {},
   "outputs": [
    {
     "data": {
      "application/vnd.jupyter.widget-view+json": {
       "model_id": "0760b194fc054ffc917bb6fce40f6802",
       "version_major": 2,
       "version_minor": 0
      },
      "image/png": "[encoded data removed]",
      "text/html": [
       "\n",
       "            <div style=\"display: inline-block;\">\n",
       "                <div class=\"jupyter-widgets widget-label\" style=\"text-align: center;\">\n",
       "                    Figure\n",
       "                </div>\n",
       "                <img src='data:image/png;base64,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' width=640.0/>\n",
       "            </div>\n",
       "        "
      ],
      "text/plain": [
       "Canvas(toolbar=Toolbar(toolitems=[('Home', 'Reset original view', 'home', 'home'), ('Back', 'Back to previous …"
      ]
     },
     "metadata": {},
     "output_type": "display_data"
    }
   ],
   "source": [
    "fig,ax = plt.subplots(2,1)\n",
    "plt.style.use('dark_background')\n",
    "im0 = ax[0].imshow(X[:,0:100])\n",
    "im1 = ax[1].imshow(Xin[:,0:100])\n",
    "ax[1].set_xticks([])\n",
    "ax[1].set_yticks([])\n",
    "ax[0].set_xticks([])\n",
    "ax[0].set_yticks([])\n",
    "ax[1].set_xlabel('Feature index')\n",
    "ax[0].set_ylabel('Case')\n",
    "ax[1].set_ylabel('Case')\n",
    "divider0 = make_axes_locatable(ax[0])\n",
    "divider1 = make_axes_locatable(ax[1])\n",
    "cax0 = divider0.append_axes('right',size='5%',pad=0.05)\n",
    "fig.colorbar(im0,cax=cax0,orientation='vertical')\n",
    "cax1 = divider1.append_axes('right',size='5%',pad=0.05)\n",
    "fig.colorbar(im1,cax=cax1,orientation='vertical')\n",
    "ax[1].set_title('Standardized feature matrix')\n",
    "ax[0].set_title('Feature matrix $X$');\n",
    "plt.tight_layout()\n",
    "\n"
   ]
  },
  {
   "cell_type": "code",
   "execution_count": 13,
   "metadata": {},
   "outputs": [
    {
     "name": "stderr",
     "output_type": "stream",
     "text": [
      "[Parallel(n_jobs=-1)]: Using backend ThreadingBackend with 16 concurrent workers.\n",
      "....................................................................................................................................................................................................................................................................................................................................................................................................................................................................................................................[Parallel(n_jobs=-1)]: Done   5 out of   5 | elapsed:    0.2s finished\n"
     ]
    },
    {
     "name": "stdout",
     "output_type": "stream",
     "text": [
      "Fitting 23 folds for each of 12 candidates, totalling 276 fits\n"
     ]
    },
    {
     "name": "stderr",
     "output_type": "stream",
     "text": [
      "[Parallel(n_jobs=-1)]: Using backend ThreadingBackend with 16 concurrent workers.\n",
      "....................................................................................................................................................................................................................................................................................................................................................................................................................................................................................................................[Parallel(n_jobs=-1)]: Done   5 out of   5 | elapsed:    0.2s finished\n",
      "[Parallel(n_jobs=-1)]: Using backend ThreadingBackend with 16 concurrent workers.\n",
      "......................................................................................................................................................................................................................"
     ]
    },
    {
     "name": "stdout",
     "output_type": "stream",
     "text": [
      "[Pipeline] ............. (step 1 of 2) Processing Lasso, total=   0.3s\n",
      "[Pipeline] ............... (step 2 of 2) Processing SVR, total=   0.0s\n",
      "Predicted percentage change of 0.8657041381122941 for case 1\n",
      "True percentage change [0.83076923]\n",
      "0.020125303812337413\n",
      "{'memory': None, 'steps': [('Lasso', SelectFromModel(estimator=LassoCV(max_iter=10000, n_jobs=-1, verbose=1),\n",
      "                max_features=100)), ('SVR', SVR(C=1, epsilon=0.01))], 'verbose': 1, 'Lasso': SelectFromModel(estimator=LassoCV(max_iter=10000, n_jobs=-1, verbose=1),\n",
      "                max_features=100), 'SVR': SVR(C=1, epsilon=0.01), 'Lasso__estimator__alphas': None, 'Lasso__estimator__copy_X': True, 'Lasso__estimator__cv': None, 'Lasso__estimator__eps': 0.001, 'Lasso__estimator__fit_intercept': True, 'Lasso__estimator__max_iter': 10000, 'Lasso__estimator__n_alphas': 100, 'Lasso__estimator__n_jobs': -1, 'Lasso__estimator__normalize': 'deprecated', 'Lasso__estimator__positive': False, 'Lasso__estimator__precompute': 'auto', 'Lasso__estimator__random_state': None, 'Lasso__estimator__selection': 'cyclic', 'Lasso__estimator__tol': 0.0001, 'Lasso__estimator__verbose': 1, 'Lasso__estimator': LassoCV(max_iter=10000, n_jobs=-1, verbose=1), 'Lasso__importance_getter': 'auto', 'Lasso__max_features': 100, 'Lasso__norm_order': 1, 'Lasso__prefit': False, 'Lasso__threshold': None, 'SVR__C': 1, 'SVR__cache_size': 200, 'SVR__coef0': 0.0, 'SVR__degree': 3, 'SVR__epsilon': 0.01, 'SVR__gamma': 'scale', 'SVR__kernel': 'rbf', 'SVR__max_iter': -1, 'SVR__shrinking': True, 'SVR__tol': 0.001, 'SVR__verbose': False}\n",
      "{'memory': None, 'steps': [('Lasso', SelectFromModel(estimator=LassoCV(max_iter=10000, n_jobs=-1, verbose=1),\n",
      "                max_features=100)), ('SVR', SVR(C=1, epsilon=0.01))], 'verbose': 1, 'Lasso': SelectFromModel(estimator=LassoCV(max_iter=10000, n_jobs=-1, verbose=1),\n",
      "                max_features=100), 'SVR': SVR(C=1, epsilon=0.01), 'Lasso__estimator__alphas': None, 'Lasso__estimator__copy_X': True, 'Lasso__estimator__cv': None, 'Lasso__estimator__eps': 0.001, 'Lasso__estimator__fit_intercept': True, 'Lasso__estimator__max_iter': 10000, 'Lasso__estimator__n_alphas': 100, 'Lasso__estimator__n_jobs': -1, 'Lasso__estimator__normalize': 'deprecated', 'Lasso__estimator__positive': False, 'Lasso__estimator__precompute': 'auto', 'Lasso__estimator__random_state': None, 'Lasso__estimator__selection': 'cyclic', 'Lasso__estimator__tol': 0.0001, 'Lasso__estimator__verbose': 1, 'Lasso__estimator': LassoCV(max_iter=10000, n_jobs=-1, verbose=1), 'Lasso__importance_getter': 'auto', 'Lasso__max_features': 100, 'Lasso__norm_order': 1, 'Lasso__prefit': False, 'Lasso__threshold': None, 'SVR__C': 1, 'SVR__cache_size': 200, 'SVR__coef0': 0.0, 'SVR__degree': 3, 'SVR__epsilon': 0.01, 'SVR__gamma': 'scale', 'SVR__kernel': 'rbf', 'SVR__max_iter': -1, 'SVR__shrinking': True, 'SVR__tol': 0.001, 'SVR__verbose': False}\n"
     ]
    },
    {
     "name": "stderr",
     "output_type": "stream",
     "text": [
      "..............................................................................................................................................................................................................................................................................................[Parallel(n_jobs=-1)]: Done   5 out of   5 | elapsed:    0.1s finished\n"
     ]
    },
    {
     "name": "stdout",
     "output_type": "stream",
     "text": [
      "Fitting 23 folds for each of 12 candidates, totalling 276 fits\n"
     ]
    },
    {
     "name": "stderr",
     "output_type": "stream",
     "text": [
      "[Parallel(n_jobs=-1)]: Using backend ThreadingBackend with 16 concurrent workers.\n",
      "....................................................................................................................................................................................................................................................................................................................................................................................................................................................................................................................[Parallel(n_jobs=-1)]: Done   5 out of   5 | elapsed:    0.1s finished\n"
     ]
    },
    {
     "name": "stdout",
     "output_type": "stream",
     "text": [
      "[Pipeline] ............. (step 1 of 2) Processing Lasso, total=   0.2s\n",
      "[Pipeline] ............... (step 2 of 2) Processing SVR, total=   0.0s\n",
      "Predicted percentage change of 0.7101673007551427 for case 2\n",
      "True percentage change [0.90909091]\n",
      "0.00926381183027218\n",
      "{'memory': None, 'steps': [('Lasso', SelectFromModel(estimator=LassoCV(max_iter=10000, n_jobs=-1, verbose=1),\n",
      "                max_features=100)), ('SVR', SVR(C=1, epsilon=0.01))], 'verbose': 1, 'Lasso': SelectFromModel(estimator=LassoCV(max_iter=10000, n_jobs=-1, verbose=1),\n",
      "                max_features=100), 'SVR': SVR(C=1, epsilon=0.01), 'Lasso__estimator__alphas': None, 'Lasso__estimator__copy_X': True, 'Lasso__estimator__cv': None, 'Lasso__estimator__eps': 0.001, 'Lasso__estimator__fit_intercept': True, 'Lasso__estimator__max_iter': 10000, 'Lasso__estimator__n_alphas': 100, 'Lasso__estimator__n_jobs': -1, 'Lasso__estimator__normalize': 'deprecated', 'Lasso__estimator__positive': False, 'Lasso__estimator__precompute': 'auto', 'Lasso__estimator__random_state': None, 'Lasso__estimator__selection': 'cyclic', 'Lasso__estimator__tol': 0.0001, 'Lasso__estimator__verbose': 1, 'Lasso__estimator': LassoCV(max_iter=10000, n_jobs=-1, verbose=1), 'Lasso__importance_getter': 'auto', 'Lasso__max_features': 100, 'Lasso__norm_order': 1, 'Lasso__prefit': False, 'Lasso__threshold': None, 'SVR__C': 1, 'SVR__cache_size': 200, 'SVR__coef0': 0.0, 'SVR__degree': 3, 'SVR__epsilon': 0.01, 'SVR__gamma': 'scale', 'SVR__kernel': 'rbf', 'SVR__max_iter': -1, 'SVR__shrinking': True, 'SVR__tol': 0.001, 'SVR__verbose': False}\n",
      "{'memory': None, 'steps': [('Lasso', SelectFromModel(estimator=LassoCV(max_iter=10000, n_jobs=-1, verbose=1),\n",
      "                max_features=100)), ('SVR', SVR(C=1, epsilon=0.01))], 'verbose': 1, 'Lasso': SelectFromModel(estimator=LassoCV(max_iter=10000, n_jobs=-1, verbose=1),\n",
      "                max_features=100), 'SVR': SVR(C=1, epsilon=0.01), 'Lasso__estimator__alphas': None, 'Lasso__estimator__copy_X': True, 'Lasso__estimator__cv': None, 'Lasso__estimator__eps': 0.001, 'Lasso__estimator__fit_intercept': True, 'Lasso__estimator__max_iter': 10000, 'Lasso__estimator__n_alphas': 100, 'Lasso__estimator__n_jobs': -1, 'Lasso__estimator__normalize': 'deprecated', 'Lasso__estimator__positive': False, 'Lasso__estimator__precompute': 'auto', 'Lasso__estimator__random_state': None, 'Lasso__estimator__selection': 'cyclic', 'Lasso__estimator__tol': 0.0001, 'Lasso__estimator__verbose': 1, 'Lasso__estimator': LassoCV(max_iter=10000, n_jobs=-1, verbose=1), 'Lasso__importance_getter': 'auto', 'Lasso__max_features': 100, 'Lasso__norm_order': 1, 'Lasso__prefit': False, 'Lasso__threshold': None, 'SVR__C': 1, 'SVR__cache_size': 200, 'SVR__coef0': 0.0, 'SVR__degree': 3, 'SVR__epsilon': 0.01, 'SVR__gamma': 'scale', 'SVR__kernel': 'rbf', 'SVR__max_iter': -1, 'SVR__shrinking': True, 'SVR__tol': 0.001, 'SVR__verbose': False}\n"
     ]
    },
    {
     "name": "stderr",
     "output_type": "stream",
     "text": [
      "[Parallel(n_jobs=-1)]: Using backend ThreadingBackend with 16 concurrent workers.\n",
      "....................................................................................................................................................................................................................................................................................................................................................................................................................................................................................................................[Parallel(n_jobs=-1)]: Done   5 out of   5 | elapsed:    0.3s finished\n"
     ]
    },
    {
     "name": "stdout",
     "output_type": "stream",
     "text": [
      "Fitting 23 folds for each of 12 candidates, totalling 276 fits\n"
     ]
    },
    {
     "name": "stderr",
     "output_type": "stream",
     "text": [
      "[Parallel(n_jobs=-1)]: Using backend ThreadingBackend with 16 concurrent workers.\n",
      "....................................................................................................................................................................................................................................................................................................................................................................................................................................................................................................................[Parallel(n_jobs=-1)]: Done   5 out of   5 | elapsed:    0.3s finished\n",
      "[Parallel(n_jobs=-1)]: Using backend ThreadingBackend with 16 concurrent workers.\n",
      "..................................................................................................................................................................................................."
     ]
    },
    {
     "name": "stdout",
     "output_type": "stream",
     "text": [
      "[Pipeline] ............. (step 1 of 2) Processing Lasso, total=   0.5s\n",
      "[Pipeline] ............... (step 2 of 2) Processing SVR, total=   0.0s\n",
      "Predicted percentage change of 0.677588137587264 for case 3\n",
      "True percentage change [0.55555556]\n",
      "0.02040242681919761\n",
      "{'memory': None, 'steps': [('Lasso', SelectFromModel(estimator=LassoCV(max_iter=10000, n_jobs=-1, verbose=1),\n",
      "                max_features=100)), ('SVR', SVR(C=1, epsilon=0.01))], 'verbose': 1, 'Lasso': SelectFromModel(estimator=LassoCV(max_iter=10000, n_jobs=-1, verbose=1),\n",
      "                max_features=100), 'SVR': SVR(C=1, epsilon=0.01), 'Lasso__estimator__alphas': None, 'Lasso__estimator__copy_X': True, 'Lasso__estimator__cv': None, 'Lasso__estimator__eps': 0.001, 'Lasso__estimator__fit_intercept': True, 'Lasso__estimator__max_iter': 10000, 'Lasso__estimator__n_alphas': 100, 'Lasso__estimator__n_jobs': -1, 'Lasso__estimator__normalize': 'deprecated', 'Lasso__estimator__positive': False, 'Lasso__estimator__precompute': 'auto', 'Lasso__estimator__random_state': None, 'Lasso__estimator__selection': 'cyclic', 'Lasso__estimator__tol': 0.0001, 'Lasso__estimator__verbose': 1, 'Lasso__estimator': LassoCV(max_iter=10000, n_jobs=-1, verbose=1), 'Lasso__importance_getter': 'auto', 'Lasso__max_features': 100, 'Lasso__norm_order': 1, 'Lasso__prefit': False, 'Lasso__threshold': None, 'SVR__C': 1, 'SVR__cache_size': 200, 'SVR__coef0': 0.0, 'SVR__degree': 3, 'SVR__epsilon': 0.01, 'SVR__gamma': 'scale', 'SVR__kernel': 'rbf', 'SVR__max_iter': -1, 'SVR__shrinking': True, 'SVR__tol': 0.001, 'SVR__verbose': False}\n",
      "{'memory': None, 'steps': [('Lasso', SelectFromModel(estimator=LassoCV(max_iter=10000, n_jobs=-1, verbose=1),\n",
      "                max_features=100)), ('SVR', SVR(C=1, epsilon=0.01))], 'verbose': 1, 'Lasso': SelectFromModel(estimator=LassoCV(max_iter=10000, n_jobs=-1, verbose=1),\n",
      "                max_features=100), 'SVR': SVR(C=1, epsilon=0.01), 'Lasso__estimator__alphas': None, 'Lasso__estimator__copy_X': True, 'Lasso__estimator__cv': None, 'Lasso__estimator__eps': 0.001, 'Lasso__estimator__fit_intercept': True, 'Lasso__estimator__max_iter': 10000, 'Lasso__estimator__n_alphas': 100, 'Lasso__estimator__n_jobs': -1, 'Lasso__estimator__normalize': 'deprecated', 'Lasso__estimator__positive': False, 'Lasso__estimator__precompute': 'auto', 'Lasso__estimator__random_state': None, 'Lasso__estimator__selection': 'cyclic', 'Lasso__estimator__tol': 0.0001, 'Lasso__estimator__verbose': 1, 'Lasso__estimator': LassoCV(max_iter=10000, n_jobs=-1, verbose=1), 'Lasso__importance_getter': 'auto', 'Lasso__max_features': 100, 'Lasso__norm_order': 1, 'Lasso__prefit': False, 'Lasso__threshold': None, 'SVR__C': 1, 'SVR__cache_size': 200, 'SVR__coef0': 0.0, 'SVR__degree': 3, 'SVR__epsilon': 0.01, 'SVR__gamma': 'scale', 'SVR__kernel': 'rbf', 'SVR__max_iter': -1, 'SVR__shrinking': True, 'SVR__tol': 0.001, 'SVR__verbose': False}\n"
     ]
    },
    {
     "name": "stderr",
     "output_type": "stream",
     "text": [
      ".................................................................................................................................................................................................................................................................................................................[Parallel(n_jobs=-1)]: Done   5 out of   5 | elapsed:    0.3s finished\n"
     ]
    },
    {
     "name": "stdout",
     "output_type": "stream",
     "text": [
      "Fitting 23 folds for each of 12 candidates, totalling 276 fits\n"
     ]
    },
    {
     "name": "stderr",
     "output_type": "stream",
     "text": [
      "[Parallel(n_jobs=-1)]: Using backend ThreadingBackend with 16 concurrent workers.\n",
      "....................................................................................................................................................................................................................................................................................................................................................................................................................................................................................................................[Parallel(n_jobs=-1)]: Done   5 out of   5 | elapsed:    0.3s finished\n"
     ]
    },
    {
     "name": "stdout",
     "output_type": "stream",
     "text": [
      "[Pipeline] ............. (step 1 of 2) Processing Lasso, total=   0.5s\n",
      "[Pipeline] ............... (step 2 of 2) Processing SVR, total=   0.0s\n",
      "Predicted percentage change of 0.8384050125033298 for case 6\n",
      "True percentage change [0.95238095]\n",
      "0.010549474123813326\n",
      "{'memory': None, 'steps': [('Lasso', SelectFromModel(estimator=LassoCV(max_iter=10000, n_jobs=-1, verbose=1),\n",
      "                max_features=100)), ('SVR', SVR(C=1, epsilon=0.01))], 'verbose': 1, 'Lasso': SelectFromModel(estimator=LassoCV(max_iter=10000, n_jobs=-1, verbose=1),\n",
      "                max_features=100), 'SVR': SVR(C=1, epsilon=0.01), 'Lasso__estimator__alphas': None, 'Lasso__estimator__copy_X': True, 'Lasso__estimator__cv': None, 'Lasso__estimator__eps': 0.001, 'Lasso__estimator__fit_intercept': True, 'Lasso__estimator__max_iter': 10000, 'Lasso__estimator__n_alphas': 100, 'Lasso__estimator__n_jobs': -1, 'Lasso__estimator__normalize': 'deprecated', 'Lasso__estimator__positive': False, 'Lasso__estimator__precompute': 'auto', 'Lasso__estimator__random_state': None, 'Lasso__estimator__selection': 'cyclic', 'Lasso__estimator__tol': 0.0001, 'Lasso__estimator__verbose': 1, 'Lasso__estimator': LassoCV(max_iter=10000, n_jobs=-1, verbose=1), 'Lasso__importance_getter': 'auto', 'Lasso__max_features': 100, 'Lasso__norm_order': 1, 'Lasso__prefit': False, 'Lasso__threshold': None, 'SVR__C': 1, 'SVR__cache_size': 200, 'SVR__coef0': 0.0, 'SVR__degree': 3, 'SVR__epsilon': 0.01, 'SVR__gamma': 'scale', 'SVR__kernel': 'rbf', 'SVR__max_iter': -1, 'SVR__shrinking': True, 'SVR__tol': 0.001, 'SVR__verbose': False}\n",
      "{'memory': None, 'steps': [('Lasso', SelectFromModel(estimator=LassoCV(max_iter=10000, n_jobs=-1, verbose=1),\n",
      "                max_features=100)), ('SVR', SVR(C=1, epsilon=0.01))], 'verbose': 1, 'Lasso': SelectFromModel(estimator=LassoCV(max_iter=10000, n_jobs=-1, verbose=1),\n",
      "                max_features=100), 'SVR': SVR(C=1, epsilon=0.01), 'Lasso__estimator__alphas': None, 'Lasso__estimator__copy_X': True, 'Lasso__estimator__cv': None, 'Lasso__estimator__eps': 0.001, 'Lasso__estimator__fit_intercept': True, 'Lasso__estimator__max_iter': 10000, 'Lasso__estimator__n_alphas': 100, 'Lasso__estimator__n_jobs': -1, 'Lasso__estimator__normalize': 'deprecated', 'Lasso__estimator__positive': False, 'Lasso__estimator__precompute': 'auto', 'Lasso__estimator__random_state': None, 'Lasso__estimator__selection': 'cyclic', 'Lasso__estimator__tol': 0.0001, 'Lasso__estimator__verbose': 1, 'Lasso__estimator': LassoCV(max_iter=10000, n_jobs=-1, verbose=1), 'Lasso__importance_getter': 'auto', 'Lasso__max_features': 100, 'Lasso__norm_order': 1, 'Lasso__prefit': False, 'Lasso__threshold': None, 'SVR__C': 1, 'SVR__cache_size': 200, 'SVR__coef0': 0.0, 'SVR__degree': 3, 'SVR__epsilon': 0.01, 'SVR__gamma': 'scale', 'SVR__kernel': 'rbf', 'SVR__max_iter': -1, 'SVR__shrinking': True, 'SVR__tol': 0.001, 'SVR__verbose': False}\n"
     ]
    },
    {
     "name": "stderr",
     "output_type": "stream",
     "text": [
      "[Parallel(n_jobs=-1)]: Using backend ThreadingBackend with 16 concurrent workers.\n",
      "....................................................................................................................................................................................................................................................................................................................................................................................................................................................................................................................[Parallel(n_jobs=-1)]: Done   5 out of   5 | elapsed:    0.2s finished\n"
     ]
    },
    {
     "name": "stdout",
     "output_type": "stream",
     "text": [
      "Fitting 23 folds for each of 12 candidates, totalling 276 fits\n"
     ]
    },
    {
     "name": "stderr",
     "output_type": "stream",
     "text": [
      "[Parallel(n_jobs=-1)]: Using backend ThreadingBackend with 16 concurrent workers.\n",
      "....................................................................................................................................................................................................................................................................................................................................................................................................................................................................................................................[Parallel(n_jobs=-1)]: Done   5 out of   5 | elapsed:    0.2s finished\n",
      "[Parallel(n_jobs=-1)]: Using backend ThreadingBackend with 16 concurrent workers.\n",
      ".........................................................................................................................................................................."
     ]
    },
    {
     "name": "stdout",
     "output_type": "stream",
     "text": [
      "[Pipeline] ............. (step 1 of 2) Processing Lasso, total=   0.3s\n",
      "[Pipeline] ............... (step 2 of 2) Processing SVR, total=   0.0s\n",
      "Predicted percentage change of 0.813557651007117 for case 9\n",
      "True percentage change [0.88888889]\n",
      "0.009707271627796764\n",
      "{'memory': None, 'steps': [('Lasso', SelectFromModel(estimator=LassoCV(max_iter=10000, n_jobs=-1, verbose=1),\n",
      "                max_features=100)), ('SVR', SVR(C=1, epsilon=0.01))], 'verbose': 1, 'Lasso': SelectFromModel(estimator=LassoCV(max_iter=10000, n_jobs=-1, verbose=1),\n",
      "                max_features=100), 'SVR': SVR(C=1, epsilon=0.01), 'Lasso__estimator__alphas': None, 'Lasso__estimator__copy_X': True, 'Lasso__estimator__cv': None, 'Lasso__estimator__eps': 0.001, 'Lasso__estimator__fit_intercept': True, 'Lasso__estimator__max_iter': 10000, 'Lasso__estimator__n_alphas': 100, 'Lasso__estimator__n_jobs': -1, 'Lasso__estimator__normalize': 'deprecated', 'Lasso__estimator__positive': False, 'Lasso__estimator__precompute': 'auto', 'Lasso__estimator__random_state': None, 'Lasso__estimator__selection': 'cyclic', 'Lasso__estimator__tol': 0.0001, 'Lasso__estimator__verbose': 1, 'Lasso__estimator': LassoCV(max_iter=10000, n_jobs=-1, verbose=1), 'Lasso__importance_getter': 'auto', 'Lasso__max_features': 100, 'Lasso__norm_order': 1, 'Lasso__prefit': False, 'Lasso__threshold': None, 'SVR__C': 1, 'SVR__cache_size': 200, 'SVR__coef0': 0.0, 'SVR__degree': 3, 'SVR__epsilon': 0.01, 'SVR__gamma': 'scale', 'SVR__kernel': 'rbf', 'SVR__max_iter': -1, 'SVR__shrinking': True, 'SVR__tol': 0.001, 'SVR__verbose': False}\n",
      "{'memory': None, 'steps': [('Lasso', SelectFromModel(estimator=LassoCV(max_iter=10000, n_jobs=-1, verbose=1),\n",
      "                max_features=100)), ('SVR', SVR(C=1, epsilon=0.01))], 'verbose': 1, 'Lasso': SelectFromModel(estimator=LassoCV(max_iter=10000, n_jobs=-1, verbose=1),\n",
      "                max_features=100), 'SVR': SVR(C=1, epsilon=0.01), 'Lasso__estimator__alphas': None, 'Lasso__estimator__copy_X': True, 'Lasso__estimator__cv': None, 'Lasso__estimator__eps': 0.001, 'Lasso__estimator__fit_intercept': True, 'Lasso__estimator__max_iter': 10000, 'Lasso__estimator__n_alphas': 100, 'Lasso__estimator__n_jobs': -1, 'Lasso__estimator__normalize': 'deprecated', 'Lasso__estimator__positive': False, 'Lasso__estimator__precompute': 'auto', 'Lasso__estimator__random_state': None, 'Lasso__estimator__selection': 'cyclic', 'Lasso__estimator__tol': 0.0001, 'Lasso__estimator__verbose': 1, 'Lasso__estimator': LassoCV(max_iter=10000, n_jobs=-1, verbose=1), 'Lasso__importance_getter': 'auto', 'Lasso__max_features': 100, 'Lasso__norm_order': 1, 'Lasso__prefit': False, 'Lasso__threshold': None, 'SVR__C': 1, 'SVR__cache_size': 200, 'SVR__coef0': 0.0, 'SVR__degree': 3, 'SVR__epsilon': 0.01, 'SVR__gamma': 'scale', 'SVR__kernel': 'rbf', 'SVR__max_iter': -1, 'SVR__shrinking': True, 'SVR__tol': 0.001, 'SVR__verbose': False}\n"
     ]
    },
    {
     "name": "stderr",
     "output_type": "stream",
     "text": [
      "..........................................................................................................................................................................................................................................................................................................................................[Parallel(n_jobs=-1)]: Done   5 out of   5 | elapsed:    0.2s finished\n"
     ]
    },
    {
     "name": "stdout",
     "output_type": "stream",
     "text": [
      "Fitting 23 folds for each of 12 candidates, totalling 276 fits\n"
     ]
    },
    {
     "name": "stderr",
     "output_type": "stream",
     "text": [
      "[Parallel(n_jobs=-1)]: Using backend ThreadingBackend with 16 concurrent workers.\n",
      "....................................................................................................................................................................................................................................................................................................................................................................................................................................................................................................................[Parallel(n_jobs=-1)]: Done   5 out of   5 | elapsed:    0.2s finished\n"
     ]
    },
    {
     "name": "stdout",
     "output_type": "stream",
     "text": [
      "[Pipeline] ............. (step 1 of 2) Processing Lasso, total=   0.5s\n",
      "[Pipeline] ............... (step 2 of 2) Processing SVR, total=   0.0s\n",
      "Predicted percentage change of 0.7743605486079284 for case 10\n",
      "True percentage change [0.59259259]\n",
      "0.002032505325287562\n",
      "{'memory': None, 'steps': [('Lasso', SelectFromModel(estimator=LassoCV(max_iter=10000, n_jobs=-1, verbose=1),\n",
      "                max_features=100)), ('SVR', SVR(C=1, epsilon=0.01))], 'verbose': 1, 'Lasso': SelectFromModel(estimator=LassoCV(max_iter=10000, n_jobs=-1, verbose=1),\n",
      "                max_features=100), 'SVR': SVR(C=1, epsilon=0.01), 'Lasso__estimator__alphas': None, 'Lasso__estimator__copy_X': True, 'Lasso__estimator__cv': None, 'Lasso__estimator__eps': 0.001, 'Lasso__estimator__fit_intercept': True, 'Lasso__estimator__max_iter': 10000, 'Lasso__estimator__n_alphas': 100, 'Lasso__estimator__n_jobs': -1, 'Lasso__estimator__normalize': 'deprecated', 'Lasso__estimator__positive': False, 'Lasso__estimator__precompute': 'auto', 'Lasso__estimator__random_state': None, 'Lasso__estimator__selection': 'cyclic', 'Lasso__estimator__tol': 0.0001, 'Lasso__estimator__verbose': 1, 'Lasso__estimator': LassoCV(max_iter=10000, n_jobs=-1, verbose=1), 'Lasso__importance_getter': 'auto', 'Lasso__max_features': 100, 'Lasso__norm_order': 1, 'Lasso__prefit': False, 'Lasso__threshold': None, 'SVR__C': 1, 'SVR__cache_size': 200, 'SVR__coef0': 0.0, 'SVR__degree': 3, 'SVR__epsilon': 0.01, 'SVR__gamma': 'scale', 'SVR__kernel': 'rbf', 'SVR__max_iter': -1, 'SVR__shrinking': True, 'SVR__tol': 0.001, 'SVR__verbose': False}\n",
      "{'memory': None, 'steps': [('Lasso', SelectFromModel(estimator=LassoCV(max_iter=10000, n_jobs=-1, verbose=1),\n",
      "                max_features=100)), ('SVR', SVR(C=1, epsilon=0.01))], 'verbose': 1, 'Lasso': SelectFromModel(estimator=LassoCV(max_iter=10000, n_jobs=-1, verbose=1),\n",
      "                max_features=100), 'SVR': SVR(C=1, epsilon=0.01), 'Lasso__estimator__alphas': None, 'Lasso__estimator__copy_X': True, 'Lasso__estimator__cv': None, 'Lasso__estimator__eps': 0.001, 'Lasso__estimator__fit_intercept': True, 'Lasso__estimator__max_iter': 10000, 'Lasso__estimator__n_alphas': 100, 'Lasso__estimator__n_jobs': -1, 'Lasso__estimator__normalize': 'deprecated', 'Lasso__estimator__positive': False, 'Lasso__estimator__precompute': 'auto', 'Lasso__estimator__random_state': None, 'Lasso__estimator__selection': 'cyclic', 'Lasso__estimator__tol': 0.0001, 'Lasso__estimator__verbose': 1, 'Lasso__estimator': LassoCV(max_iter=10000, n_jobs=-1, verbose=1), 'Lasso__importance_getter': 'auto', 'Lasso__max_features': 100, 'Lasso__norm_order': 1, 'Lasso__prefit': False, 'Lasso__threshold': None, 'SVR__C': 1, 'SVR__cache_size': 200, 'SVR__coef0': 0.0, 'SVR__degree': 3, 'SVR__epsilon': 0.01, 'SVR__gamma': 'scale', 'SVR__kernel': 'rbf', 'SVR__max_iter': -1, 'SVR__shrinking': True, 'SVR__tol': 0.001, 'SVR__verbose': False}\n"
     ]
    },
    {
     "name": "stderr",
     "output_type": "stream",
     "text": [
      "[Parallel(n_jobs=-1)]: Using backend ThreadingBackend with 16 concurrent workers.\n",
      "....................................................................................................................................................................................................................................................................................................................................................................................................................................................................................................................[Parallel(n_jobs=-1)]: Done   5 out of   5 | elapsed:    0.2s finished\n"
     ]
    },
    {
     "name": "stdout",
     "output_type": "stream",
     "text": [
      "Fitting 23 folds for each of 12 candidates, totalling 276 fits\n"
     ]
    },
    {
     "name": "stderr",
     "output_type": "stream",
     "text": [
      "[Parallel(n_jobs=-1)]: Using backend ThreadingBackend with 16 concurrent workers.\n",
      "....................................................................................................................................................................................................................................................................................................................................................................................................................................................................................................................[Parallel(n_jobs=-1)]: Done   5 out of   5 | elapsed:    0.2s finished\n"
     ]
    },
    {
     "name": "stdout",
     "output_type": "stream",
     "text": [
      "[Pipeline] ............. (step 1 of 2) Processing Lasso, total=   0.5s\n",
      "[Pipeline] ............... (step 2 of 2) Processing SVR, total=   0.0s\n",
      "Predicted percentage change of 0.6336597394640944 for case 11\n",
      "True percentage change [0.73684211]\n",
      "0.016422156528397357\n",
      "{'memory': None, 'steps': [('Lasso', SelectFromModel(estimator=LassoCV(max_iter=10000, n_jobs=-1, verbose=1),\n",
      "                max_features=100)), ('SVR', SVR(C=1, epsilon=0.01))], 'verbose': 1, 'Lasso': SelectFromModel(estimator=LassoCV(max_iter=10000, n_jobs=-1, verbose=1),\n",
      "                max_features=100), 'SVR': SVR(C=1, epsilon=0.01), 'Lasso__estimator__alphas': None, 'Lasso__estimator__copy_X': True, 'Lasso__estimator__cv': None, 'Lasso__estimator__eps': 0.001, 'Lasso__estimator__fit_intercept': True, 'Lasso__estimator__max_iter': 10000, 'Lasso__estimator__n_alphas': 100, 'Lasso__estimator__n_jobs': -1, 'Lasso__estimator__normalize': 'deprecated', 'Lasso__estimator__positive': False, 'Lasso__estimator__precompute': 'auto', 'Lasso__estimator__random_state': None, 'Lasso__estimator__selection': 'cyclic', 'Lasso__estimator__tol': 0.0001, 'Lasso__estimator__verbose': 1, 'Lasso__estimator': LassoCV(max_iter=10000, n_jobs=-1, verbose=1), 'Lasso__importance_getter': 'auto', 'Lasso__max_features': 100, 'Lasso__norm_order': 1, 'Lasso__prefit': False, 'Lasso__threshold': None, 'SVR__C': 1, 'SVR__cache_size': 200, 'SVR__coef0': 0.0, 'SVR__degree': 3, 'SVR__epsilon': 0.01, 'SVR__gamma': 'scale', 'SVR__kernel': 'rbf', 'SVR__max_iter': -1, 'SVR__shrinking': True, 'SVR__tol': 0.001, 'SVR__verbose': False}\n",
      "{'memory': None, 'steps': [('Lasso', SelectFromModel(estimator=LassoCV(max_iter=10000, n_jobs=-1, verbose=1),\n",
      "                max_features=100)), ('SVR', SVR(C=1, epsilon=0.01))], 'verbose': 1, 'Lasso': SelectFromModel(estimator=LassoCV(max_iter=10000, n_jobs=-1, verbose=1),\n",
      "                max_features=100), 'SVR': SVR(C=1, epsilon=0.01), 'Lasso__estimator__alphas': None, 'Lasso__estimator__copy_X': True, 'Lasso__estimator__cv': None, 'Lasso__estimator__eps': 0.001, 'Lasso__estimator__fit_intercept': True, 'Lasso__estimator__max_iter': 10000, 'Lasso__estimator__n_alphas': 100, 'Lasso__estimator__n_jobs': -1, 'Lasso__estimator__normalize': 'deprecated', 'Lasso__estimator__positive': False, 'Lasso__estimator__precompute': 'auto', 'Lasso__estimator__random_state': None, 'Lasso__estimator__selection': 'cyclic', 'Lasso__estimator__tol': 0.0001, 'Lasso__estimator__verbose': 1, 'Lasso__estimator': LassoCV(max_iter=10000, n_jobs=-1, verbose=1), 'Lasso__importance_getter': 'auto', 'Lasso__max_features': 100, 'Lasso__norm_order': 1, 'Lasso__prefit': False, 'Lasso__threshold': None, 'SVR__C': 1, 'SVR__cache_size': 200, 'SVR__coef0': 0.0, 'SVR__degree': 3, 'SVR__epsilon': 0.01, 'SVR__gamma': 'scale', 'SVR__kernel': 'rbf', 'SVR__max_iter': -1, 'SVR__shrinking': True, 'SVR__tol': 0.001, 'SVR__verbose': False}\n"
     ]
    },
    {
     "name": "stderr",
     "output_type": "stream",
     "text": [
      "[Parallel(n_jobs=-1)]: Using backend ThreadingBackend with 16 concurrent workers.\n",
      "....................................................................................................................................................................................................................................................................................................................................................................................................................................................................................................................[Parallel(n_jobs=-1)]: Done   5 out of   5 | elapsed:    0.3s finished\n"
     ]
    },
    {
     "name": "stdout",
     "output_type": "stream",
     "text": [
      "Fitting 23 folds for each of 12 candidates, totalling 276 fits\n"
     ]
    },
    {
     "name": "stderr",
     "output_type": "stream",
     "text": [
      "[Parallel(n_jobs=-1)]: Using backend ThreadingBackend with 16 concurrent workers.\n",
      "....................................................................................................................................................................................................................................................................................................................................................................................................................................................................................................................[Parallel(n_jobs=-1)]: Done   5 out of   5 | elapsed:    0.3s finished\n"
     ]
    },
    {
     "name": "stdout",
     "output_type": "stream",
     "text": [
      "[Pipeline] ............. (step 1 of 2) Processing Lasso, total=   0.4s\n",
      "[Pipeline] ............... (step 2 of 2) Processing SVR, total=   0.0s\n",
      "Predicted percentage change of 0.786372439737481 for case 12\n",
      "True percentage change [0.5]\n",
      "0.0064752576432551626\n",
      "{'memory': None, 'steps': [('Lasso', SelectFromModel(estimator=LassoCV(max_iter=10000, n_jobs=-1, verbose=1),\n",
      "                max_features=100)), ('SVR', SVR(C=1, epsilon=0.01))], 'verbose': 1, 'Lasso': SelectFromModel(estimator=LassoCV(max_iter=10000, n_jobs=-1, verbose=1),\n",
      "                max_features=100), 'SVR': SVR(C=1, epsilon=0.01), 'Lasso__estimator__alphas': None, 'Lasso__estimator__copy_X': True, 'Lasso__estimator__cv': None, 'Lasso__estimator__eps': 0.001, 'Lasso__estimator__fit_intercept': True, 'Lasso__estimator__max_iter': 10000, 'Lasso__estimator__n_alphas': 100, 'Lasso__estimator__n_jobs': -1, 'Lasso__estimator__normalize': 'deprecated', 'Lasso__estimator__positive': False, 'Lasso__estimator__precompute': 'auto', 'Lasso__estimator__random_state': None, 'Lasso__estimator__selection': 'cyclic', 'Lasso__estimator__tol': 0.0001, 'Lasso__estimator__verbose': 1, 'Lasso__estimator': LassoCV(max_iter=10000, n_jobs=-1, verbose=1), 'Lasso__importance_getter': 'auto', 'Lasso__max_features': 100, 'Lasso__norm_order': 1, 'Lasso__prefit': False, 'Lasso__threshold': None, 'SVR__C': 1, 'SVR__cache_size': 200, 'SVR__coef0': 0.0, 'SVR__degree': 3, 'SVR__epsilon': 0.01, 'SVR__gamma': 'scale', 'SVR__kernel': 'rbf', 'SVR__max_iter': -1, 'SVR__shrinking': True, 'SVR__tol': 0.001, 'SVR__verbose': False}\n",
      "{'memory': None, 'steps': [('Lasso', SelectFromModel(estimator=LassoCV(max_iter=10000, n_jobs=-1, verbose=1),\n",
      "                max_features=100)), ('SVR', SVR(C=1, epsilon=0.01))], 'verbose': 1, 'Lasso': SelectFromModel(estimator=LassoCV(max_iter=10000, n_jobs=-1, verbose=1),\n",
      "                max_features=100), 'SVR': SVR(C=1, epsilon=0.01), 'Lasso__estimator__alphas': None, 'Lasso__estimator__copy_X': True, 'Lasso__estimator__cv': None, 'Lasso__estimator__eps': 0.001, 'Lasso__estimator__fit_intercept': True, 'Lasso__estimator__max_iter': 10000, 'Lasso__estimator__n_alphas': 100, 'Lasso__estimator__n_jobs': -1, 'Lasso__estimator__normalize': 'deprecated', 'Lasso__estimator__positive': False, 'Lasso__estimator__precompute': 'auto', 'Lasso__estimator__random_state': None, 'Lasso__estimator__selection': 'cyclic', 'Lasso__estimator__tol': 0.0001, 'Lasso__estimator__verbose': 1, 'Lasso__estimator': LassoCV(max_iter=10000, n_jobs=-1, verbose=1), 'Lasso__importance_getter': 'auto', 'Lasso__max_features': 100, 'Lasso__norm_order': 1, 'Lasso__prefit': False, 'Lasso__threshold': None, 'SVR__C': 1, 'SVR__cache_size': 200, 'SVR__coef0': 0.0, 'SVR__degree': 3, 'SVR__epsilon': 0.01, 'SVR__gamma': 'scale', 'SVR__kernel': 'rbf', 'SVR__max_iter': -1, 'SVR__shrinking': True, 'SVR__tol': 0.001, 'SVR__verbose': False}\n"
     ]
    },
    {
     "name": "stderr",
     "output_type": "stream",
     "text": [
      "[Parallel(n_jobs=-1)]: Using backend ThreadingBackend with 16 concurrent workers.\n",
      "....................................................................................................................................................................................................................................................................................................................................................................................................................................................................................................................[Parallel(n_jobs=-1)]: Done   5 out of   5 | elapsed:    0.2s finished\n"
     ]
    },
    {
     "name": "stdout",
     "output_type": "stream",
     "text": [
      "Fitting 23 folds for each of 12 candidates, totalling 276 fits\n"
     ]
    },
    {
     "name": "stderr",
     "output_type": "stream",
     "text": [
      "[Parallel(n_jobs=-1)]: Using backend ThreadingBackend with 16 concurrent workers.\n",
      "....................................................................................................................................................................................................................................................................................................................................................................................................................................................................................................................[Parallel(n_jobs=-1)]: Done   5 out of   5 | elapsed:    0.1s finished\n",
      "[Parallel(n_jobs=-1)]: Using backend ThreadingBackend with 16 concurrent workers.\n",
      "..........................................................................................................................................................................................."
     ]
    },
    {
     "name": "stdout",
     "output_type": "stream",
     "text": [
      "[Pipeline] ............. (step 1 of 2) Processing Lasso, total=   0.4s\n",
      "[Pipeline] ............... (step 2 of 2) Processing SVR, total=   0.0s\n",
      "Predicted percentage change of 0.6628037007643697 for case 13\n",
      "True percentage change [0.7037037]\n",
      "0.01523498801289009\n",
      "{'memory': None, 'steps': [('Lasso', SelectFromModel(estimator=LassoCV(max_iter=10000, n_jobs=-1, verbose=1),\n",
      "                max_features=100)), ('SVR', SVR(C=1, epsilon=0.01))], 'verbose': 1, 'Lasso': SelectFromModel(estimator=LassoCV(max_iter=10000, n_jobs=-1, verbose=1),\n",
      "                max_features=100), 'SVR': SVR(C=1, epsilon=0.01), 'Lasso__estimator__alphas': None, 'Lasso__estimator__copy_X': True, 'Lasso__estimator__cv': None, 'Lasso__estimator__eps': 0.001, 'Lasso__estimator__fit_intercept': True, 'Lasso__estimator__max_iter': 10000, 'Lasso__estimator__n_alphas': 100, 'Lasso__estimator__n_jobs': -1, 'Lasso__estimator__normalize': 'deprecated', 'Lasso__estimator__positive': False, 'Lasso__estimator__precompute': 'auto', 'Lasso__estimator__random_state': None, 'Lasso__estimator__selection': 'cyclic', 'Lasso__estimator__tol': 0.0001, 'Lasso__estimator__verbose': 1, 'Lasso__estimator': LassoCV(max_iter=10000, n_jobs=-1, verbose=1), 'Lasso__importance_getter': 'auto', 'Lasso__max_features': 100, 'Lasso__norm_order': 1, 'Lasso__prefit': False, 'Lasso__threshold': None, 'SVR__C': 1, 'SVR__cache_size': 200, 'SVR__coef0': 0.0, 'SVR__degree': 3, 'SVR__epsilon': 0.01, 'SVR__gamma': 'scale', 'SVR__kernel': 'rbf', 'SVR__max_iter': -1, 'SVR__shrinking': True, 'SVR__tol': 0.001, 'SVR__verbose': False}\n",
      "{'memory': None, 'steps': [('Lasso', SelectFromModel(estimator=LassoCV(max_iter=10000, n_jobs=-1, verbose=1),\n",
      "                max_features=100)), ('SVR', SVR(C=1, epsilon=0.01))], 'verbose': 1, 'Lasso': SelectFromModel(estimator=LassoCV(max_iter=10000, n_jobs=-1, verbose=1),\n",
      "                max_features=100), 'SVR': SVR(C=1, epsilon=0.01), 'Lasso__estimator__alphas': None, 'Lasso__estimator__copy_X': True, 'Lasso__estimator__cv': None, 'Lasso__estimator__eps': 0.001, 'Lasso__estimator__fit_intercept': True, 'Lasso__estimator__max_iter': 10000, 'Lasso__estimator__n_alphas': 100, 'Lasso__estimator__n_jobs': -1, 'Lasso__estimator__normalize': 'deprecated', 'Lasso__estimator__positive': False, 'Lasso__estimator__precompute': 'auto', 'Lasso__estimator__random_state': None, 'Lasso__estimator__selection': 'cyclic', 'Lasso__estimator__tol': 0.0001, 'Lasso__estimator__verbose': 1, 'Lasso__estimator': LassoCV(max_iter=10000, n_jobs=-1, verbose=1), 'Lasso__importance_getter': 'auto', 'Lasso__max_features': 100, 'Lasso__norm_order': 1, 'Lasso__prefit': False, 'Lasso__threshold': None, 'SVR__C': 1, 'SVR__cache_size': 200, 'SVR__coef0': 0.0, 'SVR__degree': 3, 'SVR__epsilon': 0.01, 'SVR__gamma': 'scale', 'SVR__kernel': 'rbf', 'SVR__max_iter': -1, 'SVR__shrinking': True, 'SVR__tol': 0.001, 'SVR__verbose': False}\n"
     ]
    },
    {
     "name": "stderr",
     "output_type": "stream",
     "text": [
      ".........................................................................................................................................................................................................................................................................................................................[Parallel(n_jobs=-1)]: Done   5 out of   5 | elapsed:    0.1s finished\n"
     ]
    },
    {
     "name": "stdout",
     "output_type": "stream",
     "text": [
      "Fitting 23 folds for each of 12 candidates, totalling 276 fits\n"
     ]
    },
    {
     "name": "stderr",
     "output_type": "stream",
     "text": [
      "[Parallel(n_jobs=-1)]: Using backend ThreadingBackend with 16 concurrent workers.\n",
      "....................................................................................................................................................................................................................................................................................................................................................................................................................................................................................................................[Parallel(n_jobs=-1)]: Done   5 out of   5 | elapsed:    0.1s finished\n",
      "[Parallel(n_jobs=-1)]: Using backend ThreadingBackend with 16 concurrent workers.\n",
      "........................................................................................................................................................................................................."
     ]
    },
    {
     "name": "stdout",
     "output_type": "stream",
     "text": [
      "[Pipeline] ............. (step 1 of 2) Processing Lasso, total=   0.3s\n",
      "[Pipeline] ............... (step 2 of 2) Processing SVR, total=   0.0s\n",
      "Predicted percentage change of 0.6134533900858754 for case 15\n",
      "True percentage change [0.68656716]\n",
      "0.019912551982183602\n",
      "{'memory': None, 'steps': [('Lasso', SelectFromModel(estimator=LassoCV(max_iter=10000, n_jobs=-1, verbose=1),\n",
      "                max_features=100)), ('SVR', SVR(C=1, epsilon=0.01))], 'verbose': 1, 'Lasso': SelectFromModel(estimator=LassoCV(max_iter=10000, n_jobs=-1, verbose=1),\n",
      "                max_features=100), 'SVR': SVR(C=1, epsilon=0.01), 'Lasso__estimator__alphas': None, 'Lasso__estimator__copy_X': True, 'Lasso__estimator__cv': None, 'Lasso__estimator__eps': 0.001, 'Lasso__estimator__fit_intercept': True, 'Lasso__estimator__max_iter': 10000, 'Lasso__estimator__n_alphas': 100, 'Lasso__estimator__n_jobs': -1, 'Lasso__estimator__normalize': 'deprecated', 'Lasso__estimator__positive': False, 'Lasso__estimator__precompute': 'auto', 'Lasso__estimator__random_state': None, 'Lasso__estimator__selection': 'cyclic', 'Lasso__estimator__tol': 0.0001, 'Lasso__estimator__verbose': 1, 'Lasso__estimator': LassoCV(max_iter=10000, n_jobs=-1, verbose=1), 'Lasso__importance_getter': 'auto', 'Lasso__max_features': 100, 'Lasso__norm_order': 1, 'Lasso__prefit': False, 'Lasso__threshold': None, 'SVR__C': 1, 'SVR__cache_size': 200, 'SVR__coef0': 0.0, 'SVR__degree': 3, 'SVR__epsilon': 0.01, 'SVR__gamma': 'scale', 'SVR__kernel': 'rbf', 'SVR__max_iter': -1, 'SVR__shrinking': True, 'SVR__tol': 0.001, 'SVR__verbose': False}\n",
      "{'memory': None, 'steps': [('Lasso', SelectFromModel(estimator=LassoCV(max_iter=10000, n_jobs=-1, verbose=1),\n",
      "                max_features=100)), ('SVR', SVR(C=1, epsilon=0.01))], 'verbose': 1, 'Lasso': SelectFromModel(estimator=LassoCV(max_iter=10000, n_jobs=-1, verbose=1),\n",
      "                max_features=100), 'SVR': SVR(C=1, epsilon=0.01), 'Lasso__estimator__alphas': None, 'Lasso__estimator__copy_X': True, 'Lasso__estimator__cv': None, 'Lasso__estimator__eps': 0.001, 'Lasso__estimator__fit_intercept': True, 'Lasso__estimator__max_iter': 10000, 'Lasso__estimator__n_alphas': 100, 'Lasso__estimator__n_jobs': -1, 'Lasso__estimator__normalize': 'deprecated', 'Lasso__estimator__positive': False, 'Lasso__estimator__precompute': 'auto', 'Lasso__estimator__random_state': None, 'Lasso__estimator__selection': 'cyclic', 'Lasso__estimator__tol': 0.0001, 'Lasso__estimator__verbose': 1, 'Lasso__estimator': LassoCV(max_iter=10000, n_jobs=-1, verbose=1), 'Lasso__importance_getter': 'auto', 'Lasso__max_features': 100, 'Lasso__norm_order': 1, 'Lasso__prefit': False, 'Lasso__threshold': None, 'SVR__C': 1, 'SVR__cache_size': 200, 'SVR__coef0': 0.0, 'SVR__degree': 3, 'SVR__epsilon': 0.01, 'SVR__gamma': 'scale', 'SVR__kernel': 'rbf', 'SVR__max_iter': -1, 'SVR__shrinking': True, 'SVR__tol': 0.001, 'SVR__verbose': False}\n"
     ]
    },
    {
     "name": "stderr",
     "output_type": "stream",
     "text": [
      "...........................................................................................................................................................................................................................................................................................................[Parallel(n_jobs=-1)]: Done   5 out of   5 | elapsed:    0.1s finished\n"
     ]
    },
    {
     "name": "stdout",
     "output_type": "stream",
     "text": [
      "Fitting 23 folds for each of 12 candidates, totalling 276 fits\n"
     ]
    },
    {
     "name": "stderr",
     "output_type": "stream",
     "text": [
      "[Parallel(n_jobs=-1)]: Using backend ThreadingBackend with 16 concurrent workers.\n",
      "....................................................................................................................................................................................................................................................................................................................................................................................................................................................................................................................[Parallel(n_jobs=-1)]: Done   5 out of   5 | elapsed:    0.2s finished\n",
      "[Parallel(n_jobs=-1)]: Using backend ThreadingBackend with 16 concurrent workers.\n",
      ".............................................................................................................................................................."
     ]
    },
    {
     "name": "stdout",
     "output_type": "stream",
     "text": [
      "[Pipeline] ............. (step 1 of 2) Processing Lasso, total=   0.3s\n",
      "[Pipeline] ............... (step 2 of 2) Processing SVR, total=   0.0s\n",
      "Predicted percentage change of 0.7942438795990453 for case 16\n",
      "True percentage change [0.87878788]\n",
      "0.019145020114979216\n",
      "{'memory': None, 'steps': [('Lasso', SelectFromModel(estimator=LassoCV(max_iter=10000, n_jobs=-1, verbose=1),\n",
      "                max_features=100)), ('SVR', SVR(C=1, epsilon=0.01))], 'verbose': 1, 'Lasso': SelectFromModel(estimator=LassoCV(max_iter=10000, n_jobs=-1, verbose=1),\n",
      "                max_features=100), 'SVR': SVR(C=1, epsilon=0.01), 'Lasso__estimator__alphas': None, 'Lasso__estimator__copy_X': True, 'Lasso__estimator__cv': None, 'Lasso__estimator__eps': 0.001, 'Lasso__estimator__fit_intercept': True, 'Lasso__estimator__max_iter': 10000, 'Lasso__estimator__n_alphas': 100, 'Lasso__estimator__n_jobs': -1, 'Lasso__estimator__normalize': 'deprecated', 'Lasso__estimator__positive': False, 'Lasso__estimator__precompute': 'auto', 'Lasso__estimator__random_state': None, 'Lasso__estimator__selection': 'cyclic', 'Lasso__estimator__tol': 0.0001, 'Lasso__estimator__verbose': 1, 'Lasso__estimator': LassoCV(max_iter=10000, n_jobs=-1, verbose=1), 'Lasso__importance_getter': 'auto', 'Lasso__max_features': 100, 'Lasso__norm_order': 1, 'Lasso__prefit': False, 'Lasso__threshold': None, 'SVR__C': 1, 'SVR__cache_size': 200, 'SVR__coef0': 0.0, 'SVR__degree': 3, 'SVR__epsilon': 0.01, 'SVR__gamma': 'scale', 'SVR__kernel': 'rbf', 'SVR__max_iter': -1, 'SVR__shrinking': True, 'SVR__tol': 0.001, 'SVR__verbose': False}\n",
      "{'memory': None, 'steps': [('Lasso', SelectFromModel(estimator=LassoCV(max_iter=10000, n_jobs=-1, verbose=1),\n",
      "                max_features=100)), ('SVR', SVR(C=1, epsilon=0.01))], 'verbose': 1, 'Lasso': SelectFromModel(estimator=LassoCV(max_iter=10000, n_jobs=-1, verbose=1),\n",
      "                max_features=100), 'SVR': SVR(C=1, epsilon=0.01), 'Lasso__estimator__alphas': None, 'Lasso__estimator__copy_X': True, 'Lasso__estimator__cv': None, 'Lasso__estimator__eps': 0.001, 'Lasso__estimator__fit_intercept': True, 'Lasso__estimator__max_iter': 10000, 'Lasso__estimator__n_alphas': 100, 'Lasso__estimator__n_jobs': -1, 'Lasso__estimator__normalize': 'deprecated', 'Lasso__estimator__positive': False, 'Lasso__estimator__precompute': 'auto', 'Lasso__estimator__random_state': None, 'Lasso__estimator__selection': 'cyclic', 'Lasso__estimator__tol': 0.0001, 'Lasso__estimator__verbose': 1, 'Lasso__estimator': LassoCV(max_iter=10000, n_jobs=-1, verbose=1), 'Lasso__importance_getter': 'auto', 'Lasso__max_features': 100, 'Lasso__norm_order': 1, 'Lasso__prefit': False, 'Lasso__threshold': None, 'SVR__C': 1, 'SVR__cache_size': 200, 'SVR__coef0': 0.0, 'SVR__degree': 3, 'SVR__epsilon': 0.01, 'SVR__gamma': 'scale', 'SVR__kernel': 'rbf', 'SVR__max_iter': -1, 'SVR__shrinking': True, 'SVR__tol': 0.001, 'SVR__verbose': False}\n"
     ]
    },
    {
     "name": "stderr",
     "output_type": "stream",
     "text": [
      "......................................................................................................................................................................................................................................................................................................................................................[Parallel(n_jobs=-1)]: Done   5 out of   5 | elapsed:    0.2s finished\n"
     ]
    },
    {
     "name": "stdout",
     "output_type": "stream",
     "text": [
      "Fitting 23 folds for each of 12 candidates, totalling 276 fits\n"
     ]
    },
    {
     "name": "stderr",
     "output_type": "stream",
     "text": [
      "[Parallel(n_jobs=-1)]: Using backend ThreadingBackend with 16 concurrent workers.\n",
      "....................................................................................................................................................................................................................................................................................................................................................................................................................................................................................................................[Parallel(n_jobs=-1)]: Done   5 out of   5 | elapsed:    0.1s finished\n",
      "[Parallel(n_jobs=-1)]: Using backend ThreadingBackend with 16 concurrent workers.\n",
      "..........................................................................................................................................................................................."
     ]
    },
    {
     "name": "stdout",
     "output_type": "stream",
     "text": [
      "[Pipeline] ............. (step 1 of 2) Processing Lasso, total=   0.3s\n",
      "[Pipeline] ............... (step 2 of 2) Processing SVR, total=   0.0s\n",
      "Predicted percentage change of 0.7585707569504132 for case 20\n",
      "True percentage change [0.66666667]\n",
      "0.01651817860605567\n",
      "{'memory': None, 'steps': [('Lasso', SelectFromModel(estimator=LassoCV(max_iter=10000, n_jobs=-1, verbose=1),\n",
      "                max_features=100)), ('SVR', SVR(C=1, epsilon=0.01))], 'verbose': 1, 'Lasso': SelectFromModel(estimator=LassoCV(max_iter=10000, n_jobs=-1, verbose=1),\n",
      "                max_features=100), 'SVR': SVR(C=1, epsilon=0.01), 'Lasso__estimator__alphas': None, 'Lasso__estimator__copy_X': True, 'Lasso__estimator__cv': None, 'Lasso__estimator__eps': 0.001, 'Lasso__estimator__fit_intercept': True, 'Lasso__estimator__max_iter': 10000, 'Lasso__estimator__n_alphas': 100, 'Lasso__estimator__n_jobs': -1, 'Lasso__estimator__normalize': 'deprecated', 'Lasso__estimator__positive': False, 'Lasso__estimator__precompute': 'auto', 'Lasso__estimator__random_state': None, 'Lasso__estimator__selection': 'cyclic', 'Lasso__estimator__tol': 0.0001, 'Lasso__estimator__verbose': 1, 'Lasso__estimator': LassoCV(max_iter=10000, n_jobs=-1, verbose=1), 'Lasso__importance_getter': 'auto', 'Lasso__max_features': 100, 'Lasso__norm_order': 1, 'Lasso__prefit': False, 'Lasso__threshold': None, 'SVR__C': 1, 'SVR__cache_size': 200, 'SVR__coef0': 0.0, 'SVR__degree': 3, 'SVR__epsilon': 0.01, 'SVR__gamma': 'scale', 'SVR__kernel': 'rbf', 'SVR__max_iter': -1, 'SVR__shrinking': True, 'SVR__tol': 0.001, 'SVR__verbose': False}\n",
      "{'memory': None, 'steps': [('Lasso', SelectFromModel(estimator=LassoCV(max_iter=10000, n_jobs=-1, verbose=1),\n",
      "                max_features=100)), ('SVR', SVR(C=1, epsilon=0.01))], 'verbose': 1, 'Lasso': SelectFromModel(estimator=LassoCV(max_iter=10000, n_jobs=-1, verbose=1),\n",
      "                max_features=100), 'SVR': SVR(C=1, epsilon=0.01), 'Lasso__estimator__alphas': None, 'Lasso__estimator__copy_X': True, 'Lasso__estimator__cv': None, 'Lasso__estimator__eps': 0.001, 'Lasso__estimator__fit_intercept': True, 'Lasso__estimator__max_iter': 10000, 'Lasso__estimator__n_alphas': 100, 'Lasso__estimator__n_jobs': -1, 'Lasso__estimator__normalize': 'deprecated', 'Lasso__estimator__positive': False, 'Lasso__estimator__precompute': 'auto', 'Lasso__estimator__random_state': None, 'Lasso__estimator__selection': 'cyclic', 'Lasso__estimator__tol': 0.0001, 'Lasso__estimator__verbose': 1, 'Lasso__estimator': LassoCV(max_iter=10000, n_jobs=-1, verbose=1), 'Lasso__importance_getter': 'auto', 'Lasso__max_features': 100, 'Lasso__norm_order': 1, 'Lasso__prefit': False, 'Lasso__threshold': None, 'SVR__C': 1, 'SVR__cache_size': 200, 'SVR__coef0': 0.0, 'SVR__degree': 3, 'SVR__epsilon': 0.01, 'SVR__gamma': 'scale', 'SVR__kernel': 'rbf', 'SVR__max_iter': -1, 'SVR__shrinking': True, 'SVR__tol': 0.001, 'SVR__verbose': False}\n"
     ]
    },
    {
     "name": "stderr",
     "output_type": "stream",
     "text": [
      ".........................................................................................................................................................................................................................................................................................................................[Parallel(n_jobs=-1)]: Done   5 out of   5 | elapsed:    0.2s finished\n"
     ]
    },
    {
     "name": "stdout",
     "output_type": "stream",
     "text": [
      "Fitting 23 folds for each of 12 candidates, totalling 276 fits\n"
     ]
    },
    {
     "name": "stderr",
     "output_type": "stream",
     "text": [
      "[Parallel(n_jobs=-1)]: Using backend ThreadingBackend with 16 concurrent workers.\n",
      "....................................................................................................................................................................................................................................................................................................................................................................................................................................................................................................................[Parallel(n_jobs=-1)]: Done   5 out of   5 | elapsed:    0.8s finished\n"
     ]
    },
    {
     "name": "stdout",
     "output_type": "stream",
     "text": [
      "[Pipeline] ............. (step 1 of 2) Processing Lasso, total=   0.9s\n",
      "[Pipeline] ............... (step 2 of 2) Processing SVR, total=   0.0s\n",
      "Predicted percentage change of 0.7777956522646283 for case 25\n",
      "True percentage change [0.7]\n",
      "0.020148364342536185\n",
      "{'memory': None, 'steps': [('Lasso', SelectFromModel(estimator=LassoCV(max_iter=10000, n_jobs=-1, verbose=1),\n",
      "                max_features=100)), ('SVR', SVR(C=1, epsilon=0.01))], 'verbose': 1, 'Lasso': SelectFromModel(estimator=LassoCV(max_iter=10000, n_jobs=-1, verbose=1),\n",
      "                max_features=100), 'SVR': SVR(C=1, epsilon=0.01), 'Lasso__estimator__alphas': None, 'Lasso__estimator__copy_X': True, 'Lasso__estimator__cv': None, 'Lasso__estimator__eps': 0.001, 'Lasso__estimator__fit_intercept': True, 'Lasso__estimator__max_iter': 10000, 'Lasso__estimator__n_alphas': 100, 'Lasso__estimator__n_jobs': -1, 'Lasso__estimator__normalize': 'deprecated', 'Lasso__estimator__positive': False, 'Lasso__estimator__precompute': 'auto', 'Lasso__estimator__random_state': None, 'Lasso__estimator__selection': 'cyclic', 'Lasso__estimator__tol': 0.0001, 'Lasso__estimator__verbose': 1, 'Lasso__estimator': LassoCV(max_iter=10000, n_jobs=-1, verbose=1), 'Lasso__importance_getter': 'auto', 'Lasso__max_features': 100, 'Lasso__norm_order': 1, 'Lasso__prefit': False, 'Lasso__threshold': None, 'SVR__C': 1, 'SVR__cache_size': 200, 'SVR__coef0': 0.0, 'SVR__degree': 3, 'SVR__epsilon': 0.01, 'SVR__gamma': 'scale', 'SVR__kernel': 'rbf', 'SVR__max_iter': -1, 'SVR__shrinking': True, 'SVR__tol': 0.001, 'SVR__verbose': False}\n",
      "{'memory': None, 'steps': [('Lasso', SelectFromModel(estimator=LassoCV(max_iter=10000, n_jobs=-1, verbose=1),\n",
      "                max_features=100)), ('SVR', SVR(C=1, epsilon=0.01))], 'verbose': 1, 'Lasso': SelectFromModel(estimator=LassoCV(max_iter=10000, n_jobs=-1, verbose=1),\n",
      "                max_features=100), 'SVR': SVR(C=1, epsilon=0.01), 'Lasso__estimator__alphas': None, 'Lasso__estimator__copy_X': True, 'Lasso__estimator__cv': None, 'Lasso__estimator__eps': 0.001, 'Lasso__estimator__fit_intercept': True, 'Lasso__estimator__max_iter': 10000, 'Lasso__estimator__n_alphas': 100, 'Lasso__estimator__n_jobs': -1, 'Lasso__estimator__normalize': 'deprecated', 'Lasso__estimator__positive': False, 'Lasso__estimator__precompute': 'auto', 'Lasso__estimator__random_state': None, 'Lasso__estimator__selection': 'cyclic', 'Lasso__estimator__tol': 0.0001, 'Lasso__estimator__verbose': 1, 'Lasso__estimator': LassoCV(max_iter=10000, n_jobs=-1, verbose=1), 'Lasso__importance_getter': 'auto', 'Lasso__max_features': 100, 'Lasso__norm_order': 1, 'Lasso__prefit': False, 'Lasso__threshold': None, 'SVR__C': 1, 'SVR__cache_size': 200, 'SVR__coef0': 0.0, 'SVR__degree': 3, 'SVR__epsilon': 0.01, 'SVR__gamma': 'scale', 'SVR__kernel': 'rbf', 'SVR__max_iter': -1, 'SVR__shrinking': True, 'SVR__tol': 0.001, 'SVR__verbose': False}\n"
     ]
    },
    {
     "name": "stderr",
     "output_type": "stream",
     "text": [
      "[Parallel(n_jobs=-1)]: Using backend ThreadingBackend with 16 concurrent workers.\n",
      "....................................................................................................................................................................................................................................................................................................................................................................................................................................................................................................................[Parallel(n_jobs=-1)]: Done   5 out of   5 | elapsed:    0.1s finished\n"
     ]
    },
    {
     "name": "stdout",
     "output_type": "stream",
     "text": [
      "Fitting 23 folds for each of 12 candidates, totalling 276 fits\n"
     ]
    },
    {
     "name": "stderr",
     "output_type": "stream",
     "text": [
      "[Parallel(n_jobs=-1)]: Using backend ThreadingBackend with 16 concurrent workers.\n",
      "....................................................................................................................................................................................................................................................................................................................................................................................................................................................................................................................[Parallel(n_jobs=-1)]: Done   5 out of   5 | elapsed:    0.1s finished\n",
      "[Parallel(n_jobs=-1)]: Using backend ThreadingBackend with 16 concurrent workers.\n",
      "............................................................................................................................................................................................................................................................................................................................................................."
     ]
    },
    {
     "name": "stdout",
     "output_type": "stream",
     "text": [
      "[Pipeline] ............. (step 1 of 2) Processing Lasso, total=   0.2s\n",
      "[Pipeline] ............... (step 2 of 2) Processing SVR, total=   0.0s\n",
      "Predicted percentage change of 0.7848215618345034 for case 26\n",
      "True percentage change [0.88311688]\n",
      "0.009192794491248865\n",
      "{'memory': None, 'steps': [('Lasso', SelectFromModel(estimator=LassoCV(max_iter=10000, n_jobs=-1, verbose=1),\n",
      "                max_features=100)), ('SVR', SVR(C=1, epsilon=0.01))], 'verbose': 1, 'Lasso': SelectFromModel(estimator=LassoCV(max_iter=10000, n_jobs=-1, verbose=1),\n",
      "                max_features=100), 'SVR': SVR(C=1, epsilon=0.01), 'Lasso__estimator__alphas': None, 'Lasso__estimator__copy_X': True, 'Lasso__estimator__cv': None, 'Lasso__estimator__eps': 0.001, 'Lasso__estimator__fit_intercept': True, 'Lasso__estimator__max_iter': 10000, 'Lasso__estimator__n_alphas': 100, 'Lasso__estimator__n_jobs': -1, 'Lasso__estimator__normalize': 'deprecated', 'Lasso__estimator__positive': False, 'Lasso__estimator__precompute': 'auto', 'Lasso__estimator__random_state': None, 'Lasso__estimator__selection': 'cyclic', 'Lasso__estimator__tol': 0.0001, 'Lasso__estimator__verbose': 1, 'Lasso__estimator': LassoCV(max_iter=10000, n_jobs=-1, verbose=1), 'Lasso__importance_getter': 'auto', 'Lasso__max_features': 100, 'Lasso__norm_order': 1, 'Lasso__prefit': False, 'Lasso__threshold': None, 'SVR__C': 1, 'SVR__cache_size': 200, 'SVR__coef0': 0.0, 'SVR__degree': 3, 'SVR__epsilon': 0.01, 'SVR__gamma': 'scale', 'SVR__kernel': 'rbf', 'SVR__max_iter': -1, 'SVR__shrinking': True, 'SVR__tol': 0.001, 'SVR__verbose': False}\n",
      "{'memory': None, 'steps': [('Lasso', SelectFromModel(estimator=LassoCV(max_iter=10000, n_jobs=-1, verbose=1),\n",
      "                max_features=100)), ('SVR', SVR(C=1, epsilon=0.01))], 'verbose': 1, 'Lasso': SelectFromModel(estimator=LassoCV(max_iter=10000, n_jobs=-1, verbose=1),\n",
      "                max_features=100), 'SVR': SVR(C=1, epsilon=0.01), 'Lasso__estimator__alphas': None, 'Lasso__estimator__copy_X': True, 'Lasso__estimator__cv': None, 'Lasso__estimator__eps': 0.001, 'Lasso__estimator__fit_intercept': True, 'Lasso__estimator__max_iter': 10000, 'Lasso__estimator__n_alphas': 100, 'Lasso__estimator__n_jobs': -1, 'Lasso__estimator__normalize': 'deprecated', 'Lasso__estimator__positive': False, 'Lasso__estimator__precompute': 'auto', 'Lasso__estimator__random_state': None, 'Lasso__estimator__selection': 'cyclic', 'Lasso__estimator__tol': 0.0001, 'Lasso__estimator__verbose': 1, 'Lasso__estimator': LassoCV(max_iter=10000, n_jobs=-1, verbose=1), 'Lasso__importance_getter': 'auto', 'Lasso__max_features': 100, 'Lasso__norm_order': 1, 'Lasso__prefit': False, 'Lasso__threshold': None, 'SVR__C': 1, 'SVR__cache_size': 200, 'SVR__coef0': 0.0, 'SVR__degree': 3, 'SVR__epsilon': 0.01, 'SVR__gamma': 'scale', 'SVR__kernel': 'rbf', 'SVR__max_iter': -1, 'SVR__shrinking': True, 'SVR__tol': 0.001, 'SVR__verbose': False}\n"
     ]
    },
    {
     "name": "stderr",
     "output_type": "stream",
     "text": [
      ".......................................................................................................................................................[Parallel(n_jobs=-1)]: Done   5 out of   5 | elapsed:    0.2s finished\n"
     ]
    },
    {
     "name": "stdout",
     "output_type": "stream",
     "text": [
      "Fitting 23 folds for each of 12 candidates, totalling 276 fits\n"
     ]
    },
    {
     "name": "stderr",
     "output_type": "stream",
     "text": [
      "[Parallel(n_jobs=-1)]: Using backend ThreadingBackend with 16 concurrent workers.\n",
      "....................................................................................................................................................................................................................................................................................................................................................................................................................................................................................................................[Parallel(n_jobs=-1)]: Done   5 out of   5 | elapsed:    0.2s finished\n",
      "[Parallel(n_jobs=-1)]: Using backend ThreadingBackend with 16 concurrent workers.\n",
      "......................................................................................................................................................................................................."
     ]
    },
    {
     "name": "stdout",
     "output_type": "stream",
     "text": [
      "[Pipeline] ............. (step 1 of 2) Processing Lasso, total=   0.3s\n",
      "[Pipeline] ............... (step 2 of 2) Processing SVR, total=   0.0s\n",
      "Predicted percentage change of 0.7914529061561613 for case 27\n",
      "True percentage change [0.74418605]\n",
      "0.01638315380157199\n",
      "{'memory': None, 'steps': [('Lasso', SelectFromModel(estimator=LassoCV(max_iter=10000, n_jobs=-1, verbose=1),\n",
      "                max_features=100)), ('SVR', SVR(C=1, epsilon=0.01))], 'verbose': 1, 'Lasso': SelectFromModel(estimator=LassoCV(max_iter=10000, n_jobs=-1, verbose=1),\n",
      "                max_features=100), 'SVR': SVR(C=1, epsilon=0.01), 'Lasso__estimator__alphas': None, 'Lasso__estimator__copy_X': True, 'Lasso__estimator__cv': None, 'Lasso__estimator__eps': 0.001, 'Lasso__estimator__fit_intercept': True, 'Lasso__estimator__max_iter': 10000, 'Lasso__estimator__n_alphas': 100, 'Lasso__estimator__n_jobs': -1, 'Lasso__estimator__normalize': 'deprecated', 'Lasso__estimator__positive': False, 'Lasso__estimator__precompute': 'auto', 'Lasso__estimator__random_state': None, 'Lasso__estimator__selection': 'cyclic', 'Lasso__estimator__tol': 0.0001, 'Lasso__estimator__verbose': 1, 'Lasso__estimator': LassoCV(max_iter=10000, n_jobs=-1, verbose=1), 'Lasso__importance_getter': 'auto', 'Lasso__max_features': 100, 'Lasso__norm_order': 1, 'Lasso__prefit': False, 'Lasso__threshold': None, 'SVR__C': 1, 'SVR__cache_size': 200, 'SVR__coef0': 0.0, 'SVR__degree': 3, 'SVR__epsilon': 0.01, 'SVR__gamma': 'scale', 'SVR__kernel': 'rbf', 'SVR__max_iter': -1, 'SVR__shrinking': True, 'SVR__tol': 0.001, 'SVR__verbose': False}\n",
      "{'memory': None, 'steps': [('Lasso', SelectFromModel(estimator=LassoCV(max_iter=10000, n_jobs=-1, verbose=1),\n",
      "                max_features=100)), ('SVR', SVR(C=1, epsilon=0.01))], 'verbose': 1, 'Lasso': SelectFromModel(estimator=LassoCV(max_iter=10000, n_jobs=-1, verbose=1),\n",
      "                max_features=100), 'SVR': SVR(C=1, epsilon=0.01), 'Lasso__estimator__alphas': None, 'Lasso__estimator__copy_X': True, 'Lasso__estimator__cv': None, 'Lasso__estimator__eps': 0.001, 'Lasso__estimator__fit_intercept': True, 'Lasso__estimator__max_iter': 10000, 'Lasso__estimator__n_alphas': 100, 'Lasso__estimator__n_jobs': -1, 'Lasso__estimator__normalize': 'deprecated', 'Lasso__estimator__positive': False, 'Lasso__estimator__precompute': 'auto', 'Lasso__estimator__random_state': None, 'Lasso__estimator__selection': 'cyclic', 'Lasso__estimator__tol': 0.0001, 'Lasso__estimator__verbose': 1, 'Lasso__estimator': LassoCV(max_iter=10000, n_jobs=-1, verbose=1), 'Lasso__importance_getter': 'auto', 'Lasso__max_features': 100, 'Lasso__norm_order': 1, 'Lasso__prefit': False, 'Lasso__threshold': None, 'SVR__C': 1, 'SVR__cache_size': 200, 'SVR__coef0': 0.0, 'SVR__degree': 3, 'SVR__epsilon': 0.01, 'SVR__gamma': 'scale', 'SVR__kernel': 'rbf', 'SVR__max_iter': -1, 'SVR__shrinking': True, 'SVR__tol': 0.001, 'SVR__verbose': False}\n"
     ]
    },
    {
     "name": "stderr",
     "output_type": "stream",
     "text": [
      ".............................................................................................................................................................................................................................................................................................................[Parallel(n_jobs=-1)]: Done   5 out of   5 | elapsed:    0.2s finished\n"
     ]
    },
    {
     "name": "stdout",
     "output_type": "stream",
     "text": [
      "Fitting 23 folds for each of 12 candidates, totalling 276 fits\n"
     ]
    },
    {
     "name": "stderr",
     "output_type": "stream",
     "text": [
      "[Parallel(n_jobs=-1)]: Using backend ThreadingBackend with 16 concurrent workers.\n",
      "....................................................................................................................................................................................................................................................................................................................................................................................................................................................................................................................[Parallel(n_jobs=-1)]: Done   5 out of   5 | elapsed:    0.2s finished\n",
      "[Parallel(n_jobs=-1)]: Using backend ThreadingBackend with 16 concurrent workers.\n",
      ".............................................................................................................................................................................................."
     ]
    },
    {
     "name": "stdout",
     "output_type": "stream",
     "text": [
      "[Pipeline] ............. (step 1 of 2) Processing Lasso, total=   0.3s\n",
      "[Pipeline] ............... (step 2 of 2) Processing SVR, total=   0.0s\n",
      "Predicted percentage change of 0.7251731474428682 for case 28\n",
      "True percentage change [0.87096774]\n",
      "0.015573163646965\n",
      "{'memory': None, 'steps': [('Lasso', SelectFromModel(estimator=LassoCV(max_iter=10000, n_jobs=-1, verbose=1),\n",
      "                max_features=100)), ('SVR', SVR(C=1, epsilon=0.01))], 'verbose': 1, 'Lasso': SelectFromModel(estimator=LassoCV(max_iter=10000, n_jobs=-1, verbose=1),\n",
      "                max_features=100), 'SVR': SVR(C=1, epsilon=0.01), 'Lasso__estimator__alphas': None, 'Lasso__estimator__copy_X': True, 'Lasso__estimator__cv': None, 'Lasso__estimator__eps': 0.001, 'Lasso__estimator__fit_intercept': True, 'Lasso__estimator__max_iter': 10000, 'Lasso__estimator__n_alphas': 100, 'Lasso__estimator__n_jobs': -1, 'Lasso__estimator__normalize': 'deprecated', 'Lasso__estimator__positive': False, 'Lasso__estimator__precompute': 'auto', 'Lasso__estimator__random_state': None, 'Lasso__estimator__selection': 'cyclic', 'Lasso__estimator__tol': 0.0001, 'Lasso__estimator__verbose': 1, 'Lasso__estimator': LassoCV(max_iter=10000, n_jobs=-1, verbose=1), 'Lasso__importance_getter': 'auto', 'Lasso__max_features': 100, 'Lasso__norm_order': 1, 'Lasso__prefit': False, 'Lasso__threshold': None, 'SVR__C': 1, 'SVR__cache_size': 200, 'SVR__coef0': 0.0, 'SVR__degree': 3, 'SVR__epsilon': 0.01, 'SVR__gamma': 'scale', 'SVR__kernel': 'rbf', 'SVR__max_iter': -1, 'SVR__shrinking': True, 'SVR__tol': 0.001, 'SVR__verbose': False}\n",
      "{'memory': None, 'steps': [('Lasso', SelectFromModel(estimator=LassoCV(max_iter=10000, n_jobs=-1, verbose=1),\n",
      "                max_features=100)), ('SVR', SVR(C=1, epsilon=0.01))], 'verbose': 1, 'Lasso': SelectFromModel(estimator=LassoCV(max_iter=10000, n_jobs=-1, verbose=1),\n",
      "                max_features=100), 'SVR': SVR(C=1, epsilon=0.01), 'Lasso__estimator__alphas': None, 'Lasso__estimator__copy_X': True, 'Lasso__estimator__cv': None, 'Lasso__estimator__eps': 0.001, 'Lasso__estimator__fit_intercept': True, 'Lasso__estimator__max_iter': 10000, 'Lasso__estimator__n_alphas': 100, 'Lasso__estimator__n_jobs': -1, 'Lasso__estimator__normalize': 'deprecated', 'Lasso__estimator__positive': False, 'Lasso__estimator__precompute': 'auto', 'Lasso__estimator__random_state': None, 'Lasso__estimator__selection': 'cyclic', 'Lasso__estimator__tol': 0.0001, 'Lasso__estimator__verbose': 1, 'Lasso__estimator': LassoCV(max_iter=10000, n_jobs=-1, verbose=1), 'Lasso__importance_getter': 'auto', 'Lasso__max_features': 100, 'Lasso__norm_order': 1, 'Lasso__prefit': False, 'Lasso__threshold': None, 'SVR__C': 1, 'SVR__cache_size': 200, 'SVR__coef0': 0.0, 'SVR__degree': 3, 'SVR__epsilon': 0.01, 'SVR__gamma': 'scale', 'SVR__kernel': 'rbf', 'SVR__max_iter': -1, 'SVR__shrinking': True, 'SVR__tol': 0.001, 'SVR__verbose': False}\n"
     ]
    },
    {
     "name": "stderr",
     "output_type": "stream",
     "text": [
      "......................................................................................................................................................................................................................................................................................................................[Parallel(n_jobs=-1)]: Done   5 out of   5 | elapsed:    0.2s finished\n"
     ]
    },
    {
     "name": "stdout",
     "output_type": "stream",
     "text": [
      "Fitting 23 folds for each of 12 candidates, totalling 276 fits\n"
     ]
    },
    {
     "name": "stderr",
     "output_type": "stream",
     "text": [
      "[Parallel(n_jobs=-1)]: Using backend ThreadingBackend with 16 concurrent workers.\n",
      "....................................................................................................................................................................................................................................................................................................................................................................................................................................................................................................................[Parallel(n_jobs=-1)]: Done   5 out of   5 | elapsed:    1.7s finished\n"
     ]
    },
    {
     "name": "stdout",
     "output_type": "stream",
     "text": [
      "[Pipeline] ............. (step 1 of 2) Processing Lasso, total=   1.9s\n",
      "[Pipeline] ............... (step 2 of 2) Processing SVR, total=   0.0s\n",
      "Predicted percentage change of 0.806007526810026 for case 29\n",
      "True percentage change [0.85714286]\n",
      "0.012122687269721318\n",
      "{'memory': None, 'steps': [('Lasso', SelectFromModel(estimator=LassoCV(max_iter=10000, n_jobs=-1, verbose=1),\n",
      "                max_features=100)), ('SVR', SVR(C=1, epsilon=0.01))], 'verbose': 1, 'Lasso': SelectFromModel(estimator=LassoCV(max_iter=10000, n_jobs=-1, verbose=1),\n",
      "                max_features=100), 'SVR': SVR(C=1, epsilon=0.01), 'Lasso__estimator__alphas': None, 'Lasso__estimator__copy_X': True, 'Lasso__estimator__cv': None, 'Lasso__estimator__eps': 0.001, 'Lasso__estimator__fit_intercept': True, 'Lasso__estimator__max_iter': 10000, 'Lasso__estimator__n_alphas': 100, 'Lasso__estimator__n_jobs': -1, 'Lasso__estimator__normalize': 'deprecated', 'Lasso__estimator__positive': False, 'Lasso__estimator__precompute': 'auto', 'Lasso__estimator__random_state': None, 'Lasso__estimator__selection': 'cyclic', 'Lasso__estimator__tol': 0.0001, 'Lasso__estimator__verbose': 1, 'Lasso__estimator': LassoCV(max_iter=10000, n_jobs=-1, verbose=1), 'Lasso__importance_getter': 'auto', 'Lasso__max_features': 100, 'Lasso__norm_order': 1, 'Lasso__prefit': False, 'Lasso__threshold': None, 'SVR__C': 1, 'SVR__cache_size': 200, 'SVR__coef0': 0.0, 'SVR__degree': 3, 'SVR__epsilon': 0.01, 'SVR__gamma': 'scale', 'SVR__kernel': 'rbf', 'SVR__max_iter': -1, 'SVR__shrinking': True, 'SVR__tol': 0.001, 'SVR__verbose': False}\n",
      "{'memory': None, 'steps': [('Lasso', SelectFromModel(estimator=LassoCV(max_iter=10000, n_jobs=-1, verbose=1),\n",
      "                max_features=100)), ('SVR', SVR(C=1, epsilon=0.01))], 'verbose': 1, 'Lasso': SelectFromModel(estimator=LassoCV(max_iter=10000, n_jobs=-1, verbose=1),\n",
      "                max_features=100), 'SVR': SVR(C=1, epsilon=0.01), 'Lasso__estimator__alphas': None, 'Lasso__estimator__copy_X': True, 'Lasso__estimator__cv': None, 'Lasso__estimator__eps': 0.001, 'Lasso__estimator__fit_intercept': True, 'Lasso__estimator__max_iter': 10000, 'Lasso__estimator__n_alphas': 100, 'Lasso__estimator__n_jobs': -1, 'Lasso__estimator__normalize': 'deprecated', 'Lasso__estimator__positive': False, 'Lasso__estimator__precompute': 'auto', 'Lasso__estimator__random_state': None, 'Lasso__estimator__selection': 'cyclic', 'Lasso__estimator__tol': 0.0001, 'Lasso__estimator__verbose': 1, 'Lasso__estimator': LassoCV(max_iter=10000, n_jobs=-1, verbose=1), 'Lasso__importance_getter': 'auto', 'Lasso__max_features': 100, 'Lasso__norm_order': 1, 'Lasso__prefit': False, 'Lasso__threshold': None, 'SVR__C': 1, 'SVR__cache_size': 200, 'SVR__coef0': 0.0, 'SVR__degree': 3, 'SVR__epsilon': 0.01, 'SVR__gamma': 'scale', 'SVR__kernel': 'rbf', 'SVR__max_iter': -1, 'SVR__shrinking': True, 'SVR__tol': 0.001, 'SVR__verbose': False}\n"
     ]
    },
    {
     "name": "stderr",
     "output_type": "stream",
     "text": [
      "[Parallel(n_jobs=-1)]: Using backend ThreadingBackend with 16 concurrent workers.\n",
      "....................................................................................................................................................................................................................................................................................................................................................................................................................................................................................................................[Parallel(n_jobs=-1)]: Done   5 out of   5 | elapsed:    8.6s finished\n"
     ]
    },
    {
     "name": "stdout",
     "output_type": "stream",
     "text": [
      "Fitting 23 folds for each of 12 candidates, totalling 276 fits\n"
     ]
    },
    {
     "name": "stderr",
     "output_type": "stream",
     "text": [
      "[Parallel(n_jobs=-1)]: Using backend ThreadingBackend with 16 concurrent workers.\n",
      "....................................................................................................................................................................................................................................................................................................................................................................................................................................................................................................................[Parallel(n_jobs=-1)]: Done   5 out of   5 | elapsed:    0.3s finished\n"
     ]
    },
    {
     "name": "stdout",
     "output_type": "stream",
     "text": [
      "[Pipeline] ............. (step 1 of 2) Processing Lasso, total=   0.4s\n",
      "[Pipeline] ............... (step 2 of 2) Processing SVR, total=   0.0s\n",
      "Predicted percentage change of 0.6006078537468833 for case 34\n",
      "True percentage change [0.69135802]\n",
      "0.016087611530303667\n",
      "{'memory': None, 'steps': [('Lasso', SelectFromModel(estimator=LassoCV(max_iter=10000, n_jobs=-1, verbose=1),\n",
      "                max_features=100)), ('SVR', SVR(C=1, epsilon=0.01))], 'verbose': 1, 'Lasso': SelectFromModel(estimator=LassoCV(max_iter=10000, n_jobs=-1, verbose=1),\n",
      "                max_features=100), 'SVR': SVR(C=1, epsilon=0.01), 'Lasso__estimator__alphas': None, 'Lasso__estimator__copy_X': True, 'Lasso__estimator__cv': None, 'Lasso__estimator__eps': 0.001, 'Lasso__estimator__fit_intercept': True, 'Lasso__estimator__max_iter': 10000, 'Lasso__estimator__n_alphas': 100, 'Lasso__estimator__n_jobs': -1, 'Lasso__estimator__normalize': 'deprecated', 'Lasso__estimator__positive': False, 'Lasso__estimator__precompute': 'auto', 'Lasso__estimator__random_state': None, 'Lasso__estimator__selection': 'cyclic', 'Lasso__estimator__tol': 0.0001, 'Lasso__estimator__verbose': 1, 'Lasso__estimator': LassoCV(max_iter=10000, n_jobs=-1, verbose=1), 'Lasso__importance_getter': 'auto', 'Lasso__max_features': 100, 'Lasso__norm_order': 1, 'Lasso__prefit': False, 'Lasso__threshold': None, 'SVR__C': 1, 'SVR__cache_size': 200, 'SVR__coef0': 0.0, 'SVR__degree': 3, 'SVR__epsilon': 0.01, 'SVR__gamma': 'scale', 'SVR__kernel': 'rbf', 'SVR__max_iter': -1, 'SVR__shrinking': True, 'SVR__tol': 0.001, 'SVR__verbose': False}\n",
      "{'memory': None, 'steps': [('Lasso', SelectFromModel(estimator=LassoCV(max_iter=10000, n_jobs=-1, verbose=1),\n",
      "                max_features=100)), ('SVR', SVR(C=1, epsilon=0.01))], 'verbose': 1, 'Lasso': SelectFromModel(estimator=LassoCV(max_iter=10000, n_jobs=-1, verbose=1),\n",
      "                max_features=100), 'SVR': SVR(C=1, epsilon=0.01), 'Lasso__estimator__alphas': None, 'Lasso__estimator__copy_X': True, 'Lasso__estimator__cv': None, 'Lasso__estimator__eps': 0.001, 'Lasso__estimator__fit_intercept': True, 'Lasso__estimator__max_iter': 10000, 'Lasso__estimator__n_alphas': 100, 'Lasso__estimator__n_jobs': -1, 'Lasso__estimator__normalize': 'deprecated', 'Lasso__estimator__positive': False, 'Lasso__estimator__precompute': 'auto', 'Lasso__estimator__random_state': None, 'Lasso__estimator__selection': 'cyclic', 'Lasso__estimator__tol': 0.0001, 'Lasso__estimator__verbose': 1, 'Lasso__estimator': LassoCV(max_iter=10000, n_jobs=-1, verbose=1), 'Lasso__importance_getter': 'auto', 'Lasso__max_features': 100, 'Lasso__norm_order': 1, 'Lasso__prefit': False, 'Lasso__threshold': None, 'SVR__C': 1, 'SVR__cache_size': 200, 'SVR__coef0': 0.0, 'SVR__degree': 3, 'SVR__epsilon': 0.01, 'SVR__gamma': 'scale', 'SVR__kernel': 'rbf', 'SVR__max_iter': -1, 'SVR__shrinking': True, 'SVR__tol': 0.001, 'SVR__verbose': False}\n"
     ]
    },
    {
     "name": "stderr",
     "output_type": "stream",
     "text": [
      "[Parallel(n_jobs=-1)]: Using backend ThreadingBackend with 16 concurrent workers.\n",
      "....................................................................................................................................................................................................................................................................................................................................................................................................................................................................................................................[Parallel(n_jobs=-1)]: Done   5 out of   5 | elapsed:    0.2s finished\n"
     ]
    },
    {
     "name": "stdout",
     "output_type": "stream",
     "text": [
      "Fitting 23 folds for each of 12 candidates, totalling 276 fits\n"
     ]
    },
    {
     "name": "stderr",
     "output_type": "stream",
     "text": [
      "[Parallel(n_jobs=-1)]: Using backend ThreadingBackend with 16 concurrent workers.\n",
      "....................................................................................................................................................................................................................................................................................................................................................................................................................................................................................................................[Parallel(n_jobs=-1)]: Done   5 out of   5 | elapsed:    0.2s finished\n",
      "[Parallel(n_jobs=-1)]: Using backend ThreadingBackend with 16 concurrent workers.\n",
      ".................................................................................................................................................................."
     ]
    },
    {
     "name": "stdout",
     "output_type": "stream",
     "text": [
      "[Pipeline] ............. (step 1 of 2) Processing Lasso, total=   0.3s\n",
      "[Pipeline] ............... (step 2 of 2) Processing SVR, total=   0.0s\n",
      "Predicted percentage change of 0.6968753433091905 for case 35\n",
      "True percentage change [0.675]\n",
      "0.015257128335873553\n",
      "{'memory': None, 'steps': [('Lasso', SelectFromModel(estimator=LassoCV(max_iter=10000, n_jobs=-1, verbose=1),\n",
      "                max_features=100)), ('SVR', SVR(C=1, epsilon=0.01))], 'verbose': 1, 'Lasso': SelectFromModel(estimator=LassoCV(max_iter=10000, n_jobs=-1, verbose=1),\n",
      "                max_features=100), 'SVR': SVR(C=1, epsilon=0.01), 'Lasso__estimator__alphas': None, 'Lasso__estimator__copy_X': True, 'Lasso__estimator__cv': None, 'Lasso__estimator__eps': 0.001, 'Lasso__estimator__fit_intercept': True, 'Lasso__estimator__max_iter': 10000, 'Lasso__estimator__n_alphas': 100, 'Lasso__estimator__n_jobs': -1, 'Lasso__estimator__normalize': 'deprecated', 'Lasso__estimator__positive': False, 'Lasso__estimator__precompute': 'auto', 'Lasso__estimator__random_state': None, 'Lasso__estimator__selection': 'cyclic', 'Lasso__estimator__tol': 0.0001, 'Lasso__estimator__verbose': 1, 'Lasso__estimator': LassoCV(max_iter=10000, n_jobs=-1, verbose=1), 'Lasso__importance_getter': 'auto', 'Lasso__max_features': 100, 'Lasso__norm_order': 1, 'Lasso__prefit': False, 'Lasso__threshold': None, 'SVR__C': 1, 'SVR__cache_size': 200, 'SVR__coef0': 0.0, 'SVR__degree': 3, 'SVR__epsilon': 0.01, 'SVR__gamma': 'scale', 'SVR__kernel': 'rbf', 'SVR__max_iter': -1, 'SVR__shrinking': True, 'SVR__tol': 0.001, 'SVR__verbose': False}\n",
      "{'memory': None, 'steps': [('Lasso', SelectFromModel(estimator=LassoCV(max_iter=10000, n_jobs=-1, verbose=1),\n",
      "                max_features=100)), ('SVR', SVR(C=1, epsilon=0.01))], 'verbose': 1, 'Lasso': SelectFromModel(estimator=LassoCV(max_iter=10000, n_jobs=-1, verbose=1),\n",
      "                max_features=100), 'SVR': SVR(C=1, epsilon=0.01), 'Lasso__estimator__alphas': None, 'Lasso__estimator__copy_X': True, 'Lasso__estimator__cv': None, 'Lasso__estimator__eps': 0.001, 'Lasso__estimator__fit_intercept': True, 'Lasso__estimator__max_iter': 10000, 'Lasso__estimator__n_alphas': 100, 'Lasso__estimator__n_jobs': -1, 'Lasso__estimator__normalize': 'deprecated', 'Lasso__estimator__positive': False, 'Lasso__estimator__precompute': 'auto', 'Lasso__estimator__random_state': None, 'Lasso__estimator__selection': 'cyclic', 'Lasso__estimator__tol': 0.0001, 'Lasso__estimator__verbose': 1, 'Lasso__estimator': LassoCV(max_iter=10000, n_jobs=-1, verbose=1), 'Lasso__importance_getter': 'auto', 'Lasso__max_features': 100, 'Lasso__norm_order': 1, 'Lasso__prefit': False, 'Lasso__threshold': None, 'SVR__C': 1, 'SVR__cache_size': 200, 'SVR__coef0': 0.0, 'SVR__degree': 3, 'SVR__epsilon': 0.01, 'SVR__gamma': 'scale', 'SVR__kernel': 'rbf', 'SVR__max_iter': -1, 'SVR__shrinking': True, 'SVR__tol': 0.001, 'SVR__verbose': False}\n"
     ]
    },
    {
     "name": "stderr",
     "output_type": "stream",
     "text": [
      "..................................................................................................................................................................................................................................................................................................................................................[Parallel(n_jobs=-1)]: Done   5 out of   5 | elapsed:    0.2s finished\n"
     ]
    },
    {
     "name": "stdout",
     "output_type": "stream",
     "text": [
      "Fitting 23 folds for each of 12 candidates, totalling 276 fits\n"
     ]
    },
    {
     "ename": "KeyboardInterrupt",
     "evalue": "",
     "output_type": "error",
     "traceback": [
      "\u001b[1;31m---------------------------------------------------------------------------\u001b[0m",
      "\u001b[1;31mKeyboardInterrupt\u001b[0m                         Traceback (most recent call last)",
      "\u001b[1;32m~\\AppData\\Local\\Temp\\ipykernel_22728\\1951103242.py\u001b[0m in \u001b[0;36m<module>\u001b[1;34m\u001b[0m\n\u001b[0;32m     25\u001b[0m \u001b[1;33m\u001b[0m\u001b[0m\n\u001b[0;32m     26\u001b[0m             \u001b[0mclf_nsvr\u001b[0m \u001b[1;33m=\u001b[0m \u001b[0mGridSearchCV\u001b[0m\u001b[1;33m(\u001b[0m\u001b[0mclf\u001b[0m\u001b[1;33m,\u001b[0m\u001b[1;33m{\u001b[0m\u001b[1;34m'SVR__C'\u001b[0m\u001b[1;33m:\u001b[0m\u001b[0mCs\u001b[0m\u001b[1;33m,\u001b[0m\u001b[1;34m'SVR__epsilon'\u001b[0m\u001b[1;33m:\u001b[0m\u001b[0mepsilons\u001b[0m\u001b[1;33m}\u001b[0m\u001b[1;33m,\u001b[0m\u001b[0mn_jobs\u001b[0m\u001b[1;33m=\u001b[0m\u001b[1;33m-\u001b[0m\u001b[1;36m1\u001b[0m\u001b[1;33m,\u001b[0m\u001b[0mcv\u001b[0m\u001b[1;33m=\u001b[0m\u001b[0mcv\u001b[0m\u001b[1;33m,\u001b[0m\u001b[0mscoring\u001b[0m\u001b[1;33m=\u001b[0m\u001b[1;34m'neg_mean_squared_error'\u001b[0m\u001b[1;33m,\u001b[0m\u001b[0merror_score\u001b[0m\u001b[1;33m=\u001b[0m\u001b[1;34m'raise'\u001b[0m\u001b[1;33m,\u001b[0m\u001b[0mverbose\u001b[0m\u001b[1;33m=\u001b[0m\u001b[1;36m1\u001b[0m\u001b[1;33m)\u001b[0m\u001b[1;33m\u001b[0m\u001b[1;33m\u001b[0m\u001b[0m\n\u001b[1;32m---> 27\u001b[1;33m             \u001b[0mclf_nsvr\u001b[0m\u001b[1;33m.\u001b[0m\u001b[0mfit\u001b[0m\u001b[1;33m(\u001b[0m\u001b[0mX_j\u001b[0m\u001b[1;33m,\u001b[0m\u001b[0mnp\u001b[0m\u001b[1;33m.\u001b[0m\u001b[0mravel\u001b[0m\u001b[1;33m(\u001b[0m\u001b[0mper_change_train_j\u001b[0m\u001b[1;33m)\u001b[0m\u001b[1;33m)\u001b[0m\u001b[1;33m\u001b[0m\u001b[1;33m\u001b[0m\u001b[0m\n\u001b[0m\u001b[0;32m     28\u001b[0m             \u001b[0mut\u001b[0m\u001b[1;33m[\u001b[0m\u001b[0mjj\u001b[0m\u001b[1;33m]\u001b[0m \u001b[1;33m=\u001b[0m \u001b[0mclf_nsvr\u001b[0m\u001b[1;33m.\u001b[0m\u001b[0mbest_estimator_\u001b[0m\u001b[1;33m.\u001b[0m\u001b[0mpredict\u001b[0m\u001b[1;33m(\u001b[0m\u001b[0mXin\u001b[0m\u001b[1;33m[\u001b[0m\u001b[0mjj\u001b[0m\u001b[1;33m,\u001b[0m\u001b[1;33m:\u001b[0m\u001b[1;33m]\u001b[0m\u001b[1;33m.\u001b[0m\u001b[0mreshape\u001b[0m\u001b[1;33m(\u001b[0m\u001b[1;36m1\u001b[0m\u001b[1;33m,\u001b[0m\u001b[1;33m-\u001b[0m\u001b[1;36m1\u001b[0m\u001b[1;33m)\u001b[0m\u001b[1;33m)\u001b[0m\u001b[1;33m\u001b[0m\u001b[1;33m\u001b[0m\u001b[0m\n\u001b[0;32m     29\u001b[0m             \u001b[0mprint\u001b[0m\u001b[1;33m(\u001b[0m\u001b[1;34m'Predicted percentage change of'\u001b[0m\u001b[1;33m,\u001b[0m\u001b[0mut\u001b[0m\u001b[1;33m[\u001b[0m\u001b[0mjj\u001b[0m\u001b[1;33m]\u001b[0m\u001b[1;33m,\u001b[0m\u001b[1;34m'for case'\u001b[0m\u001b[1;33m,\u001b[0m\u001b[0msubject_id\u001b[0m\u001b[1;33m[\u001b[0m\u001b[0mjj\u001b[0m\u001b[1;33m]\u001b[0m\u001b[1;33m)\u001b[0m\u001b[1;33m\u001b[0m\u001b[1;33m\u001b[0m\u001b[0m\n",
      "\u001b[1;32mc:\\Users\\agr78\\Anaconda3\\envs\\pdradenv\\lib\\site-packages\\sklearn\\model_selection\\_search.py\u001b[0m in \u001b[0;36mfit\u001b[1;34m(self, X, y, groups, **fit_params)\u001b[0m\n\u001b[0;32m    889\u001b[0m                 \u001b[1;32mreturn\u001b[0m \u001b[0mresults\u001b[0m\u001b[1;33m\u001b[0m\u001b[1;33m\u001b[0m\u001b[0m\n\u001b[0;32m    890\u001b[0m \u001b[1;33m\u001b[0m\u001b[0m\n\u001b[1;32m--> 891\u001b[1;33m             \u001b[0mself\u001b[0m\u001b[1;33m.\u001b[0m\u001b[0m_run_search\u001b[0m\u001b[1;33m(\u001b[0m\u001b[0mevaluate_candidates\u001b[0m\u001b[1;33m)\u001b[0m\u001b[1;33m\u001b[0m\u001b[1;33m\u001b[0m\u001b[0m\n\u001b[0m\u001b[0;32m    892\u001b[0m \u001b[1;33m\u001b[0m\u001b[0m\n\u001b[0;32m    893\u001b[0m             \u001b[1;31m# multimetric is determined here because in the case of a callable\u001b[0m\u001b[1;33m\u001b[0m\u001b[1;33m\u001b[0m\u001b[1;33m\u001b[0m\u001b[0m\n",
      "\u001b[1;32mc:\\Users\\agr78\\Anaconda3\\envs\\pdradenv\\lib\\site-packages\\sklearn\\model_selection\\_search.py\u001b[0m in \u001b[0;36m_run_search\u001b[1;34m(self, evaluate_candidates)\u001b[0m\n\u001b[0;32m   1390\u001b[0m     \u001b[1;32mdef\u001b[0m \u001b[0m_run_search\u001b[0m\u001b[1;33m(\u001b[0m\u001b[0mself\u001b[0m\u001b[1;33m,\u001b[0m \u001b[0mevaluate_candidates\u001b[0m\u001b[1;33m)\u001b[0m\u001b[1;33m:\u001b[0m\u001b[1;33m\u001b[0m\u001b[1;33m\u001b[0m\u001b[0m\n\u001b[0;32m   1391\u001b[0m         \u001b[1;34m\"\"\"Search all candidates in param_grid\"\"\"\u001b[0m\u001b[1;33m\u001b[0m\u001b[1;33m\u001b[0m\u001b[0m\n\u001b[1;32m-> 1392\u001b[1;33m         \u001b[0mevaluate_candidates\u001b[0m\u001b[1;33m(\u001b[0m\u001b[0mParameterGrid\u001b[0m\u001b[1;33m(\u001b[0m\u001b[0mself\u001b[0m\u001b[1;33m.\u001b[0m\u001b[0mparam_grid\u001b[0m\u001b[1;33m)\u001b[0m\u001b[1;33m)\u001b[0m\u001b[1;33m\u001b[0m\u001b[1;33m\u001b[0m\u001b[0m\n\u001b[0m\u001b[0;32m   1393\u001b[0m \u001b[1;33m\u001b[0m\u001b[0m\n\u001b[0;32m   1394\u001b[0m \u001b[1;33m\u001b[0m\u001b[0m\n",
      "\u001b[1;32mc:\\Users\\agr78\\Anaconda3\\envs\\pdradenv\\lib\\site-packages\\sklearn\\model_selection\\_search.py\u001b[0m in \u001b[0;36mevaluate_candidates\u001b[1;34m(candidate_params, cv, more_results)\u001b[0m\n\u001b[0;32m    849\u001b[0m                     )\n\u001b[0;32m    850\u001b[0m                     for (cand_idx, parameters), (split_idx, (train, test)) in product(\n\u001b[1;32m--> 851\u001b[1;33m                         \u001b[0menumerate\u001b[0m\u001b[1;33m(\u001b[0m\u001b[0mcandidate_params\u001b[0m\u001b[1;33m)\u001b[0m\u001b[1;33m,\u001b[0m \u001b[0menumerate\u001b[0m\u001b[1;33m(\u001b[0m\u001b[0mcv\u001b[0m\u001b[1;33m.\u001b[0m\u001b[0msplit\u001b[0m\u001b[1;33m(\u001b[0m\u001b[0mX\u001b[0m\u001b[1;33m,\u001b[0m \u001b[0my\u001b[0m\u001b[1;33m,\u001b[0m \u001b[0mgroups\u001b[0m\u001b[1;33m)\u001b[0m\u001b[1;33m)\u001b[0m\u001b[1;33m\u001b[0m\u001b[1;33m\u001b[0m\u001b[0m\n\u001b[0m\u001b[0;32m    852\u001b[0m                     )\n\u001b[0;32m    853\u001b[0m                 )\n",
      "\u001b[1;32mc:\\Users\\agr78\\Anaconda3\\envs\\pdradenv\\lib\\site-packages\\joblib\\parallel.py\u001b[0m in \u001b[0;36m__call__\u001b[1;34m(self, iterable)\u001b[0m\n\u001b[0;32m   1059\u001b[0m \u001b[1;33m\u001b[0m\u001b[0m\n\u001b[0;32m   1060\u001b[0m             \u001b[1;32mwith\u001b[0m \u001b[0mself\u001b[0m\u001b[1;33m.\u001b[0m\u001b[0m_backend\u001b[0m\u001b[1;33m.\u001b[0m\u001b[0mretrieval_context\u001b[0m\u001b[1;33m(\u001b[0m\u001b[1;33m)\u001b[0m\u001b[1;33m:\u001b[0m\u001b[1;33m\u001b[0m\u001b[1;33m\u001b[0m\u001b[0m\n\u001b[1;32m-> 1061\u001b[1;33m                 \u001b[0mself\u001b[0m\u001b[1;33m.\u001b[0m\u001b[0mretrieve\u001b[0m\u001b[1;33m(\u001b[0m\u001b[1;33m)\u001b[0m\u001b[1;33m\u001b[0m\u001b[1;33m\u001b[0m\u001b[0m\n\u001b[0m\u001b[0;32m   1062\u001b[0m             \u001b[1;31m# Make sure that we get a last message telling us we are done\u001b[0m\u001b[1;33m\u001b[0m\u001b[1;33m\u001b[0m\u001b[1;33m\u001b[0m\u001b[0m\n\u001b[0;32m   1063\u001b[0m             \u001b[0melapsed_time\u001b[0m \u001b[1;33m=\u001b[0m \u001b[0mtime\u001b[0m\u001b[1;33m.\u001b[0m\u001b[0mtime\u001b[0m\u001b[1;33m(\u001b[0m\u001b[1;33m)\u001b[0m \u001b[1;33m-\u001b[0m \u001b[0mself\u001b[0m\u001b[1;33m.\u001b[0m\u001b[0m_start_time\u001b[0m\u001b[1;33m\u001b[0m\u001b[1;33m\u001b[0m\u001b[0m\n",
      "\u001b[1;32mc:\\Users\\agr78\\Anaconda3\\envs\\pdradenv\\lib\\site-packages\\joblib\\parallel.py\u001b[0m in \u001b[0;36mretrieve\u001b[1;34m(self)\u001b[0m\n\u001b[0;32m    936\u001b[0m             \u001b[1;32mtry\u001b[0m\u001b[1;33m:\u001b[0m\u001b[1;33m\u001b[0m\u001b[1;33m\u001b[0m\u001b[0m\n\u001b[0;32m    937\u001b[0m                 \u001b[1;32mif\u001b[0m \u001b[0mgetattr\u001b[0m\u001b[1;33m(\u001b[0m\u001b[0mself\u001b[0m\u001b[1;33m.\u001b[0m\u001b[0m_backend\u001b[0m\u001b[1;33m,\u001b[0m \u001b[1;34m'supports_timeout'\u001b[0m\u001b[1;33m,\u001b[0m \u001b[1;32mFalse\u001b[0m\u001b[1;33m)\u001b[0m\u001b[1;33m:\u001b[0m\u001b[1;33m\u001b[0m\u001b[1;33m\u001b[0m\u001b[0m\n\u001b[1;32m--> 938\u001b[1;33m                     \u001b[0mself\u001b[0m\u001b[1;33m.\u001b[0m\u001b[0m_output\u001b[0m\u001b[1;33m.\u001b[0m\u001b[0mextend\u001b[0m\u001b[1;33m(\u001b[0m\u001b[0mjob\u001b[0m\u001b[1;33m.\u001b[0m\u001b[0mget\u001b[0m\u001b[1;33m(\u001b[0m\u001b[0mtimeout\u001b[0m\u001b[1;33m=\u001b[0m\u001b[0mself\u001b[0m\u001b[1;33m.\u001b[0m\u001b[0mtimeout\u001b[0m\u001b[1;33m)\u001b[0m\u001b[1;33m)\u001b[0m\u001b[1;33m\u001b[0m\u001b[1;33m\u001b[0m\u001b[0m\n\u001b[0m\u001b[0;32m    939\u001b[0m                 \u001b[1;32melse\u001b[0m\u001b[1;33m:\u001b[0m\u001b[1;33m\u001b[0m\u001b[1;33m\u001b[0m\u001b[0m\n\u001b[0;32m    940\u001b[0m                     \u001b[0mself\u001b[0m\u001b[1;33m.\u001b[0m\u001b[0m_output\u001b[0m\u001b[1;33m.\u001b[0m\u001b[0mextend\u001b[0m\u001b[1;33m(\u001b[0m\u001b[0mjob\u001b[0m\u001b[1;33m.\u001b[0m\u001b[0mget\u001b[0m\u001b[1;33m(\u001b[0m\u001b[1;33m)\u001b[0m\u001b[1;33m)\u001b[0m\u001b[1;33m\u001b[0m\u001b[1;33m\u001b[0m\u001b[0m\n",
      "\u001b[1;32mc:\\Users\\agr78\\Anaconda3\\envs\\pdradenv\\lib\\site-packages\\joblib\\_parallel_backends.py\u001b[0m in \u001b[0;36mwrap_future_result\u001b[1;34m(future, timeout)\u001b[0m\n\u001b[0;32m    540\u001b[0m         AsyncResults.get from multiprocessing.\"\"\"\n\u001b[0;32m    541\u001b[0m         \u001b[1;32mtry\u001b[0m\u001b[1;33m:\u001b[0m\u001b[1;33m\u001b[0m\u001b[1;33m\u001b[0m\u001b[0m\n\u001b[1;32m--> 542\u001b[1;33m             \u001b[1;32mreturn\u001b[0m \u001b[0mfuture\u001b[0m\u001b[1;33m.\u001b[0m\u001b[0mresult\u001b[0m\u001b[1;33m(\u001b[0m\u001b[0mtimeout\u001b[0m\u001b[1;33m=\u001b[0m\u001b[0mtimeout\u001b[0m\u001b[1;33m)\u001b[0m\u001b[1;33m\u001b[0m\u001b[1;33m\u001b[0m\u001b[0m\n\u001b[0m\u001b[0;32m    543\u001b[0m         \u001b[1;32mexcept\u001b[0m \u001b[0mCfTimeoutError\u001b[0m \u001b[1;32mas\u001b[0m \u001b[0me\u001b[0m\u001b[1;33m:\u001b[0m\u001b[1;33m\u001b[0m\u001b[1;33m\u001b[0m\u001b[0m\n\u001b[0;32m    544\u001b[0m             \u001b[1;32mraise\u001b[0m \u001b[0mTimeoutError\u001b[0m \u001b[1;32mfrom\u001b[0m \u001b[0me\u001b[0m\u001b[1;33m\u001b[0m\u001b[1;33m\u001b[0m\u001b[0m\n",
      "\u001b[1;32mc:\\Users\\agr78\\Anaconda3\\envs\\pdradenv\\lib\\concurrent\\futures\\_base.py\u001b[0m in \u001b[0;36mresult\u001b[1;34m(self, timeout)\u001b[0m\n\u001b[0;32m    428\u001b[0m                 \u001b[1;32mreturn\u001b[0m \u001b[0mself\u001b[0m\u001b[1;33m.\u001b[0m\u001b[0m__get_result\u001b[0m\u001b[1;33m(\u001b[0m\u001b[1;33m)\u001b[0m\u001b[1;33m\u001b[0m\u001b[1;33m\u001b[0m\u001b[0m\n\u001b[0;32m    429\u001b[0m \u001b[1;33m\u001b[0m\u001b[0m\n\u001b[1;32m--> 430\u001b[1;33m             \u001b[0mself\u001b[0m\u001b[1;33m.\u001b[0m\u001b[0m_condition\u001b[0m\u001b[1;33m.\u001b[0m\u001b[0mwait\u001b[0m\u001b[1;33m(\u001b[0m\u001b[0mtimeout\u001b[0m\u001b[1;33m)\u001b[0m\u001b[1;33m\u001b[0m\u001b[1;33m\u001b[0m\u001b[0m\n\u001b[0m\u001b[0;32m    431\u001b[0m \u001b[1;33m\u001b[0m\u001b[0m\n\u001b[0;32m    432\u001b[0m             \u001b[1;32mif\u001b[0m \u001b[0mself\u001b[0m\u001b[1;33m.\u001b[0m\u001b[0m_state\u001b[0m \u001b[1;32min\u001b[0m \u001b[1;33m[\u001b[0m\u001b[0mCANCELLED\u001b[0m\u001b[1;33m,\u001b[0m \u001b[0mCANCELLED_AND_NOTIFIED\u001b[0m\u001b[1;33m]\u001b[0m\u001b[1;33m:\u001b[0m\u001b[1;33m\u001b[0m\u001b[1;33m\u001b[0m\u001b[0m\n",
      "\u001b[1;32mc:\\Users\\agr78\\Anaconda3\\envs\\pdradenv\\lib\\threading.py\u001b[0m in \u001b[0;36mwait\u001b[1;34m(self, timeout)\u001b[0m\n\u001b[0;32m    294\u001b[0m         \u001b[1;32mtry\u001b[0m\u001b[1;33m:\u001b[0m    \u001b[1;31m# restore state no matter what (e.g., KeyboardInterrupt)\u001b[0m\u001b[1;33m\u001b[0m\u001b[1;33m\u001b[0m\u001b[0m\n\u001b[0;32m    295\u001b[0m             \u001b[1;32mif\u001b[0m \u001b[0mtimeout\u001b[0m \u001b[1;32mis\u001b[0m \u001b[1;32mNone\u001b[0m\u001b[1;33m:\u001b[0m\u001b[1;33m\u001b[0m\u001b[1;33m\u001b[0m\u001b[0m\n\u001b[1;32m--> 296\u001b[1;33m                 \u001b[0mwaiter\u001b[0m\u001b[1;33m.\u001b[0m\u001b[0macquire\u001b[0m\u001b[1;33m(\u001b[0m\u001b[1;33m)\u001b[0m\u001b[1;33m\u001b[0m\u001b[1;33m\u001b[0m\u001b[0m\n\u001b[0m\u001b[0;32m    297\u001b[0m                 \u001b[0mgotit\u001b[0m \u001b[1;33m=\u001b[0m \u001b[1;32mTrue\u001b[0m\u001b[1;33m\u001b[0m\u001b[1;33m\u001b[0m\u001b[0m\n\u001b[0;32m    298\u001b[0m             \u001b[1;32melse\u001b[0m\u001b[1;33m:\u001b[0m\u001b[1;33m\u001b[0m\u001b[1;33m\u001b[0m\u001b[0m\n",
      "\u001b[1;31mKeyboardInterrupt\u001b[0m: "
     ]
    }
   ],
   "source": [
    "if retrain == 1:\n",
    "    for j in np.arange(1,np.max(subject_id)+1):\n",
    "        if j in subject_id:\n",
    "            # Remove the test case\n",
    "            jj = int(np.where(subject_id==j)[0])\n",
    "            X_j = np.delete(Xin,jj,0)\n",
    "            per_change_train_j = np.delete(per_change_train,jj,0)\n",
    "            # Debug\n",
    "            # print('Excluding subject',str(subject_id[jj]),'from training feature vector of shape',str(Xin.shape),'to create new training feature vector of shape',str(X_j.shape))\n",
    "            if (sum(sum(np.isnan(X))))>0:\n",
    "                print('NaN detected in feature vector')\n",
    "\n",
    "            # Cross-validation for model selection\n",
    "            cv = KFold(X_j.shape[0]-2)\n",
    "            # Identify most important features\n",
    "            # Do not assume data is centered,fit_intercept=True\n",
    "            # Does LassoCV automatically do LOOCV?\n",
    "            clf_in = LassoCV(fit_intercept=True,max_iter=10000,verbose=1,n_jobs=-1).fit(X_j,np.ravel(per_change_train_j))\n",
    "            sfm = SelectFromModel(clf_in,max_features=100)\n",
    "            # Initialize pipeline\n",
    "            clf = Pipeline([('Lasso',sfm),('SVR',SVR(C=0,epsilon=0,kernel='rbf'))],verbose=1)\n",
    "            # Select the optimal SVR parameters with grid search\n",
    "            Cs = ((1e-1,1,10))\n",
    "            epsilons = ((0.01,0.05,0.1,0.2))\n",
    "            \n",
    "            clf_nsvr = GridSearchCV(clf,{'SVR__C':Cs,'SVR__epsilon':epsilons},n_jobs=-1,cv=cv,scoring='neg_mean_squared_error',error_score='raise',verbose=1)\n",
    "            clf_nsvr.fit(X_j,np.ravel(per_change_train_j))\n",
    "            ut[jj] = clf_nsvr.best_estimator_.predict(Xin[jj,:].reshape(1,-1))\n",
    "            print('Predicted percentage change of',ut[jj],'for case',subject_id[jj])\n",
    "            print('True percentage change',per_change_train[jj])\n",
    "            print(clf_in.alpha_)\n",
    "            print(clf_nsvr.best_estimator_.get_params('SVR__epsilon'))\n",
    "            print(clf_nsvr.best_estimator_.get_params('SVR__C'))\n",
    "\n"
   ]
  },
  {
   "cell_type": "code",
   "execution_count": null,
   "metadata": {},
   "outputs": [],
   "source": [
    "if retrain == 1:\n",
    "    with open('lasso_pred.npy','wb') as f:\n",
    "        np.save(f,ut)\n",
    "else:\n",
    "    with open('lasso_pred.npy','rb') as f:\n",
    "        ut = np.load(f)"
   ]
  },
  {
   "cell_type": "code",
   "execution_count": null,
   "metadata": {},
   "outputs": [],
   "source": [
    "[fig,ax] = plt.subplots(1,2,sharex=True,sharey=True)\n",
    "ax[0].hist([lct_change],bins=np.linspace(0,1,100))\n",
    "ax[0].set_title('Medication response')\n",
    "ax[0].set_xlabel('Improvement')\n",
    "ax[0].set_ylabel('Frequency')\n",
    "ax[1].hist([ut],bins=np.linspace(0,1,100))\n",
    "ax[1].set_title('Lasso prediction')\n",
    "ax[1].set_xlabel('Improvement')\n",
    "ax[1].set_ylabel('Frequency')\n",
    "fig.set_size_inches(12,6)"
   ]
  },
  {
   "cell_type": "code",
   "execution_count": null,
   "metadata": {},
   "outputs": [],
   "source": [
    "#plt.style.use('dark_background')\n",
    "[fig,ax] = plt.subplots(1,2,sharex=True,sharey=True)\n",
    "ax[0].scatter(per_change,lct_change)\n",
    "z = np.polyfit(per_change,lct_change,1)\n",
    "p = np.poly1d(z)\n",
    "r2_score(per_change,p(per_change_train))\n",
    "ax[0].plot(per_change,p(per_change),'r--')\n",
    "ax[0].set_title('Medication response')\n",
    "ax[0].set_xlabel('UPDRS-III pre/post DBS percent improvement')\n",
    "ax[0].set_ylabel('UPDRS-III percent improvement')\n",
    "ax[1].text(-0.8,0.05,'y = '+ str(np.round(p[1],2))+'x'+'+' +str(np.round(p[0],3)),color='w')\n",
    "ax[1].text(-0.8,0.005,'$r^2$ = '+str(np.round(r2_score(per_change,p(per_change)),3)),color='w')\n",
    "ax[1].scatter(per_change,ut)\n",
    "z = np.polyfit(per_change,ut,1)\n",
    "p = np.poly1d(z)\n",
    "ax[1].plot(per_change,p(per_change),'r--')\n",
    "ax[1].set_title('Lasso prediction')\n",
    "ax[1].set_xlabel('UPDRS-III pre/post DBS percent improvement')\n",
    "ax[1].set_ylabel('Predicted UPDRS-III percent improvement')\n",
    "ax[1].text(0.2,0.05,'y = '+ str(np.round(p[1],2))+'x'+'+'+str(np.round(p[0],3)),color='w')\n",
    "ax[1].text(0.2,0.005,'$r^2$ = '+str(np.round(r2_score(per_change,p(per_change)),3)),color='w')\n",
    "fig.set_size_inches(12,6)\n",
    "plt.show()"
   ]
  },
  {
   "cell_type": "code",
   "execution_count": null,
   "metadata": {},
   "outputs": [],
   "source": [
    "x = per_change\n",
    "y = ut\n",
    "\n",
    "slope,intercept = np.polyfit(x,y,1)  # linear model adjustment\n",
    "y_model = np.polyval([slope,intercept],x)   # modeling...\n",
    "\n",
    "x_mean = np.mean(x)\n",
    "y_mean = np.mean(y)\n",
    "n = x.size                        # number of samples\n",
    "m = 2                             # number of parameters\n",
    "dof = n-m                       # degrees of freedom\n",
    "t = stats.t.ppf(0.975,dof)       # Students statistic of interval confidence\n",
    "residual = y-y_model\n",
    "\n",
    "std_error = (np.sum(residual**2)/dof)**(1/2)   # Standard deviation of the error\n",
    "\n",
    "# Pearson's correlation coefficient\n",
    "numerator = np.sum((x-x_mean)*(y-y_mean))\n",
    "denominator = (np.sum((x-x_mean)**2)*np.sum((y-y_mean)**2))**.5\n",
    "correlation_coef = numerator/denominator\n",
    "r = correlation_coef\n",
    "tr = r*np.sqrt(n-2)/(np.sqrt(1-r**2))\n",
    "# p-value for 2-sided test\n",
    "pv = 2*(1-stats.t.cdf(abs(tr), dof))\n",
    "# # mean squared error\n",
    "MSE = 1/n*np.sum((y-y_model)**2)\n",
    "\n",
    "# to plot the adjusted model\n",
    "x_line = np.linspace(0,np.max(x),100)\n",
    "y_line = np.polyval([slope,intercept],x_line)\n",
    "\n",
    "# confidence interval\n",
    "ci = t*std_error*(1/n+(x_line-x_mean)**2/np.sum((x-x_mean)**2))**.5\n",
    "# predicting interval\n",
    "pi = t*std_error*(1+1/n+(x_line-x_mean)**2/np.sum((x-x_mean)**2))**.5  \n",
    "\n",
    "\n",
    "plt.rcParams.update({'font.size': 14})\n",
    "[fig,ax] = plt.subplots(1,2,sharex=True,sharey=True)\n",
    "\n",
    "ax[0].plot(x,y,'o',color = 'white')\n",
    "ax[0].plot(x_line,y_line,color = 'red')\n",
    "ax[0].fill_between(x_line,y_line+pi,y_line-pi,color = 'red',label = '95% prediction interval')\n",
    "ax[0].fill_between(x_line,y_line+ci,y_line-ci,color = 'orange',label = '95% confidence interval')\n",
    "\n",
    "ax[0].set_xlabel('UPDRS-III pre/post DBS percent improvement')\n",
    "ax[0].set_ylabel('Percent improvement')\n",
    "ax[0].set_title('Lasso prediction')\n",
    "\n",
    "ax[0].text(0.01,0.1,'$y$ = '+ str(np.round(slope,2))+'$x$'+'+'+str(np.round(intercept,3)),color='w')\n",
    "ax[0].text(0.01,0.005,'$r$ = '+str(np.round(r,2))+', $p$ = '+str(round(pv,3)),color='w')\n",
    "ax[0].text(0.01,-0.075,'$MSE$ = '+str(np.round(MSE,2)),color='w')\n",
    "ax[0].margins(x=0)\n",
    "fig.set_size_inches(20,10)\n",
    "ax[0].legend(bbox_to_anchor=(1,1),fontsize=12)\n",
    "\n",
    "\n",
    "\n",
    "## Medication response\n",
    "x = per_change\n",
    "y = lct_change\n",
    "\n",
    "# Fit and evaluate linear model\n",
    "slope,intercept = np.polyfit(x,y,1)\n",
    "y_model = np.polyval([slope,intercept],x)   \n",
    "\n",
    "# Prepare correlation stats\n",
    "x_mean = np.mean(x)\n",
    "y_mean = np.mean(y)\n",
    "# Sample size\n",
    "n = x.size         \n",
    "# Parameters assuming a normal distribution              \n",
    "m = 2\n",
    "# Degrees of freedom                            \n",
    "dof = n-m\n",
    "# Students statistic of interval confidence                      \n",
    "t = stats.t.ppf(0.975,dof)      \n",
    "pv = r*np.sqrt(n-2)/(np.sqrt(1-r**2))\n",
    "# Standard deviation of the error\n",
    "residual = y-y_model\n",
    "std_error = (np.sum(residual**2)/dof)**(1/2)   \n",
    "\n",
    "# Pearson's correlation coefficient\n",
    "numerator = np.sum((x-x_mean)*(y-y_mean))\n",
    "denominator = (np.sum((x-x_mean)**2)*np.sum((y-y_mean)**2))**.5\n",
    "correlation_coef = numerator/denominator\n",
    "r = correlation_coef\n",
    "tr = r*np.sqrt(n-2)/(np.sqrt(1-r**2))\n",
    "# p-value for 2-sided test\n",
    "pv = 2*(1-stats.t.cdf(abs(tr), dof))\n",
    "\n",
    "# mean squared error\n",
    "MSE = 1/n*np.sum((y-y_model)**2)\n",
    "\n",
    "# to plot the adjusted model\n",
    "x_line = np.linspace(0,np.max(x),100)\n",
    "y_line = np.polyval([slope,intercept],x_line)\n",
    "\n",
    "# confidence interval\n",
    "ci = t*std_error*(1/n+(x_line-x_mean)**2/np.sum((x-x_mean)**2))**.5\n",
    "# predicting interval\n",
    "pi = t*std_error*(1+1/n+(x_line-x_mean)**2/np.sum((x-x_mean)**2))**.5  \n",
    "\n",
    "\n",
    "ax[1].plot(x,y,'o',color = 'white')\n",
    "ax[1].plot(x_line,y_line,color = 'red')\n",
    "ax[1].fill_between(x_line,y_line+pi,y_line-pi,color = 'red',label = '95% prediction interval')\n",
    "ax[1].fill_between(x_line,y_line+ci,y_line-ci,color = 'orange',label = '95% confidence interval')\n",
    "\n",
    "ax[1].set_xlabel('UPDRS-III pre/post DBS percent improvement')\n",
    "ax[1].set_ylabel('Percent improvement')\n",
    "ax[1].set_title('Medication response')\n",
    "\n",
    "\n",
    "ax[1].text(0.01,0.1,'$y$ = '+ str(np.round(slope,2))+'$x$'+'+'+str(np.round(intercept,3)),color='w')\n",
    "ax[1].text(0.01,0.005,'$r$ = '+str(np.round(r,2))+', $p$ = '+str(round(pv,3)),color='w')\n",
    "ax[1].text(0.01,-0.075,'$MSE$ = '+str(np.round(MSE,2)),color='w')\n",
    "ax[1].margins(x=0)\n",
    "fig.set_size_inches(20,10)\n",
    "ax[1].legend(bbox_to_anchor=(1,1),fontsize=12)\n",
    "fig.suptitle('UPDRS-III Improvement')"
   ]
  },
  {
   "cell_type": "code",
   "execution_count": null,
   "metadata": {},
   "outputs": [],
   "source": [
    "if retrain == 1:\n",
    "    feats = clf_nsvr.best_estimator_.steps[0][1].get_support()\n",
    "    with open('lasso_feats.txt','w') as f:\n",
    "        f.write('Lasso selected features from model trained on '+str(datetime.now())+'\\n')\n",
    "    for k in range(feats.__len__()-1):\n",
    "        if feats[k] == True:\n",
    "            with open('lasso_feats.txt','a') as f:\n",
    "                f.write(keys[k]+'\\n')\n",
    "            print(keys[k])\n",
    "\n",
    "    fig,ax = plt.subplots(1,1)\n",
    "    plt.plot(feats)\n",
    "    plt.show()\n",
    "\n",
    "    clf_nsvr.best_estimator_.steps[1][1].support_vectors_.shape\n",
    "    np.array(clf_nsvr.best_estimator_.predict(X_j))\n",
    "\n",
    "    cases = np.linspace(1,n_cases-1,n_cases-1)\n",
    "    fig,ax = plt.subplots(1,1)\n",
    "    sv_ind = clf_nsvr.best_estimator_.steps[1][1].support_\n",
    "    # Plot remaining data\n",
    "    plt.scatter(cases,per_change_train_j,label='data',zorder=2,c='c',edgecolors=(0,0,0))\n",
    "    # Plot support vectors\n",
    "    plt.scatter(\n",
    "        cases[sv_ind],\n",
    "        per_change_train_j[sv_ind],\n",
    "        s=50,\n",
    "        c='m',\n",
    "        label='SVR support vectors',\n",
    "        zorder=2,\n",
    "        edgecolors=(0,0,0))\n",
    "\n",
    "\n",
    "    plt.plot(cases,np.array(clf_nsvr.best_estimator_.predict(X_j))),\n",
    "    plt.style.use('dark_background')\n",
    "    plt.show()\n",
    "\n",
    "    X_SVR = clf_nsvr.best_estimator_.steps[1][1].support_vectors_\n",
    "    fig,ax = plt.subplots(1,1)\n",
    "    im_svr = plt.imshow(X_SVR)\n",
    "    plt.xticks([])\n",
    "    plt.yticks([])\n",
    "    plt.xlabel('Selected feature index')\n",
    "    plt.ylabel('Class')\n",
    "    plt.title('Support vectors weights')\n",
    "    divider = make_axes_locatable(ax)\n",
    "    cax = divider.append_axes('right',size='5%',pad=0.05)\n",
    "    plt.colorbar(im_svr,cax=cax,orientation='vertical')\n",
    "\n",
    "    X_Lasso = clf_nsvr.best_estimator_.steps[0][1]._transform(X_t)\n",
    "    fig,ax = plt.subplots(1,1)\n",
    "    plt.stem(X_Lasso.ravel())\n",
    "    plt.xticks([])\n",
    "    plt.yticks([])\n",
    "    plt.xlabel('Selected feature index')\n",
    "    plt.ylabel('Feature weight index')\n",
    "    plt.title('Lasso feature weights')\n"
   ]
  }
 ],
 "metadata": {
  "kernelspec": {
   "display_name": "pdradenv",
   "language": "python",
   "name": "python3"
  },
  "language_info": {
   "codemirror_mode": {
    "name": "ipython",
    "version": 3
   },
   "file_extension": ".py",
   "mimetype": "text/x-python",
   "name": "python",
   "nbconvert_exporter": "python",
   "pygments_lexer": "ipython3",
   "version": "3.7.15"
  },
  "orig_nbformat": 4,
  "vscode": {
   "interpreter": {
    "hash": "14732b5bb7ad6abfe54a083b8d194ae3941adfb1b18321b588b21cb8f420fced"
   }
  }
 },
 "nbformat": 4,
 "nbformat_minor": 2
}
