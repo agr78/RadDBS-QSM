{
 "cells": [
  {
   "cell_type": "code",
   "execution_count": 1,
   "metadata": {},
   "outputs": [],
   "source": [
    "# Preliminary data notebook for\n",
    "# NIH: Imaging Guided Intervention Surgery Study Section\n",
    "\n",
    "# Exploratory aim: evaluate presurgical scans between STN and GPi targets\n",
    "#   Given retrospective GPi acquisitions?\n",
    "#   Search for radiomic differentiators for STN versus GPi selection in presurgical scans"
   ]
  },
  {
   "cell_type": "code",
   "execution_count": 2,
   "metadata": {},
   "outputs": [],
   "source": [
    "# Import libraries\n",
    "from datetime import date, datetime\n",
    "import matplotlib.pyplot as plt\n",
    "from mpl_toolkits.axes_grid1 import make_axes_locatable\n",
    "import nibabel as nib\n",
    "from sklearn.svm import SVR\n",
    "from sklearn.linear_model import LassoCV\n",
    "from sklearn.preprocessing import StandardScaler\n",
    "from sklearn.preprocessing import MinMaxScaler\n",
    "from sklearn.preprocessing import Normalizer\n",
    "from sklearn.pipeline import Pipeline\n",
    "from sklearn.model_selection import GridSearchCV\n",
    "from sklearn.model_selection import KFold\n",
    "from sklearn.feature_selection import SelectFromModel\n",
    "from sklearn.metrics import r2_score\n",
    "import SimpleITK as sitk\n",
    "import six\n",
    "from radiomics import featureextractor \n",
    "import numpy as np\n",
    "import scipy.stats as stats\n",
    "import os\n",
    "import pickle\n",
    "\n",
    "%matplotlib widget"
   ]
  },
  {
   "cell_type": "code",
   "execution_count": 3,
   "metadata": {},
   "outputs": [],
   "source": [
    "# Set window level\n",
    "level = 0\n",
    "window = 500\n",
    "m1=level-window/2\n",
    "m2=level+window/2\n",
    "\n",
    "load_data = 0\n",
    "rextract = 0\n",
    "retrain = 1\n",
    "# Load data\n",
    "# fig,ax = plt.subplots(2,5)\n",
    "segs = []\n",
    "qsms = []\n",
    "voxel_sizes = []\n",
    "trackers = []\n",
    "directory = 'F:\\dbs\\stn-dbs\\Cornell_anonymized'\n",
    "case_list = []\n",
    "if load_data == 1:\n",
    "    for filename in os.listdir(directory):\n",
    "        f = os.path.join(directory,filename)\n",
    "        print(f)\n",
    "    \n",
    "        seg = nib.load(f+'/Rh Mri Brain With Without Contrast/seg.nii.gz')\n",
    "                    \n",
    "        voxel_size = seg.header['pixdim'][0:3]\n",
    "        voxel_sizes.append(voxel_size)\n",
    "        segs.append(seg.get_fdata())\n",
    "\n",
    "        qsm = nib.load(f+'/Rh Mri Brain With Without Contrast/qsm.nii.gz')\n",
    "        qsms.append(qsm.get_fdata())\n",
    "            \n",
    "        case_list.append(filename)\n",
    "        n_cases = len(segs)\n",
    "\n",
    "        label_min = np.partition(np.unique(seg.get_fdata().ravel()),1)[1]\n",
    "        label_max = np.amax(seg.get_fdata())"
   ]
  },
  {
   "cell_type": "code",
   "execution_count": 4,
   "metadata": {},
   "outputs": [],
   "source": [
    "# Define feature extraction\n",
    "extractor = featureextractor.RadiomicsFeatureExtractor()\n",
    "extractor.enableAllFeatures()\n",
    "extractor.enableAllImageTypes()\n",
    "\n",
    "# Generate feature structure Phi from all ROIs and all cases\n",
    "if rextract == 1:\n",
    "    Phi = []\n",
    "\n",
    "    # Training cases\n",
    "    for i in range(n_cases):\n",
    "        seg_sitk = sitk.GetImageFromArray(segs[i])\n",
    "        seg_sitk.SetSpacing(voxel_sizes[i].tolist())\n",
    "        qsm_sitk = sitk.GetImageFromArray(qsms[i])\n",
    "        qsm_sitk.SetSpacing(voxel_sizes[i].tolist())\n",
    "        for j in range(int(label_min),int(label_max+1)):\n",
    "            featureVector = extractor.execute(qsm_sitk,seg_sitk,label=j)\n",
    "            Phi.append(featureVector)\n",
    "    # Save feature vector\n",
    "    with open('../features/Phi_57','wb') as fp:  \n",
    "        pickle.dump(Phi,fp)\n"
   ]
  },
  {
   "cell_type": "code",
   "execution_count": 5,
   "metadata": {},
   "outputs": [],
   "source": [
    "with open('../features/Phi_57','rb') as fp:  \n",
    "    Phi = pickle.load(fp)"
   ]
  },
  {
   "cell_type": "code",
   "execution_count": 6,
   "metadata": {},
   "outputs": [
    {
     "data": {
      "text/html": [
       "   <style>\n",
       "   .cell-output-ipywidget-background {\n",
       "      background-color: transparent !important;\n",
       "   }\n",
       "   .jp-OutputArea-output {\n",
       "      background-color: transparent;\n",
       "   }  \n",
       "   </style>\n",
       "   \n"
      ],
      "text/plain": [
       "<IPython.core.display.HTML object>"
      ]
     },
     "metadata": {},
     "output_type": "display_data"
    }
   ],
   "source": [
    "%%html\n",
    "   <style>\n",
    "   .cell-output-ipywidget-background {\n",
    "      background-color: transparent !important;\n",
    "   }\n",
    "   .jp-OutputArea-output {\n",
    "      background-color: transparent;\n",
    "   }  \n",
    "   </style>\n",
    "   "
   ]
  },
  {
   "cell_type": "code",
   "execution_count": 7,
   "metadata": {},
   "outputs": [],
   "source": [
    " # SAS features \n",
    "subject_id = np.linspace(1,27,27)\n",
    "pre_sas_on = np.array((8,2,12,17,11,22,2,5,13,4,11,7,7,16,9,8,9,13,10,11,6,5,17,12,11,21,9)).T\n",
    "post_sas_on = np.array((21,3,19,13,13,14,11,12,23,12,4,6,11,28,17,8,21,8,17,11,9,20,17,19,15,19,11)).T\n",
    "per_change = (post_sas_on-pre_sas_on)/pre_sas_on\n",
    "pre_sas_off = np.array((13,2,9,20,21,12,3,27,22,29,30,17,13,27,9,8,16,31,10,2,8,5,17,14,8,12,8))\n",
    "lct_change = (pre_sas_off-pre_sas_on)/pre_sas_off\n",
    "dbs_change = (post_sas_on-pre_sas_off)/pre_sas_off\n",
    "ap = np.array(('Y','N','Y','Y','Y','Y','N','Y','Y','Y','Y','Y','N','Y','Y','N','Y','Y','Y','Y','N','N','Y','N','Y','N','N')).T\n",
    "ap[ap=='Y'] = 1 \n",
    "ap[ap=='N'] = 0\n",
    "bi_sas = ((ap)).astype('float')\n",
    "n_cases = pre_sas_on.__len__()"
   ]
  },
  {
   "cell_type": "code",
   "execution_count": 8,
   "metadata": {},
   "outputs": [
    {
     "data": {
      "text/plain": [
       "array([1., 0., 1., 1., 1., 1., 0., 1., 1., 1., 1., 1., 0., 1., 1., 0., 1.,\n",
       "       1., 1., 1., 0., 0., 1., 0., 1., 0., 0.])"
      ]
     },
     "execution_count": 8,
     "metadata": {},
     "output_type": "execute_result"
    }
   ],
   "source": [
    "bi_sas"
   ]
  },
  {
   "cell_type": "code",
   "execution_count": 9,
   "metadata": {},
   "outputs": [],
   "source": [
    "case_id = np.repeat(subject_id,2)"
   ]
  },
  {
   "cell_type": "code",
   "execution_count": 10,
   "metadata": {},
   "outputs": [],
   "source": [
    "n_cases = subject_id.__len__()"
   ]
  },
  {
   "cell_type": "code",
   "execution_count": 11,
   "metadata": {},
   "outputs": [],
   "source": [
    "ut = np.zeros((subject_id.__len__()))\n",
    "for j in np.arange(1,np.max(subject_id)+1):\n",
    "    if j in subject_id:\n",
    "        # Extract numeric feature values\n",
    "        n_ROIs = 2\n",
    "        x_row = []\n",
    "        x_row_t = []\n",
    "        keys = []\n",
    "        per_change_train = []\n",
    "        for i in range(Phi.__len__()//2+1):\n",
    "            if i in subject_id:\n",
    "                for ii in range(0,n_ROIs-1):\n",
    "                    featureVector = Phi[i+ii]\n",
    "                    for key,value in six.iteritems(featureVector):\n",
    "                        if 'diagnostic' in key:\n",
    "                            next\n",
    "                        else:\n",
    "                            try:\n",
    "                                x_row.append(value.ravel())\n",
    "                            except:\n",
    "                                x_row.append(value)\n",
    "                            keys.append(key)\n",
    "                    if ii == 0 and pre_sas_off[subject_id == i].__len__()>0:\n",
    "                        x_row.append((pre_sas_off[subject_id == i]))\n",
    "                        x_row.append(pre_sas_on[subject_id == i])\n",
    "                        x_row.append(bi_sas[subject_id == i].astype('float'))\n",
    "                        keys.append('pre_sas_off')\n",
    "                        keys.append('pre_sas_on')\n",
    "                        keys.append('bi_sas')\n",
    "                        per_change_train.append(per_change[subject_id == i])\n",
    "                        \n",
    "        jj = int(np.where(subject_id==j)[0])\n",
    "        X0 = np.array(x_row)\n",
    "        X = X0.reshape((n_cases,int(len(X0)/(n_cases))))\n",
    "        X0_t = X[jj,:]\n",
    "       \n",
    "        # Normalize testing and training cases together\n",
    "        #   Set with_mean=False to preserve data sparsity\n",
    "        #   And with_std=False \n",
    "        #   However,need a significant number of samples to do this\n",
    "        scaler = MinMaxScaler()\n",
    "        X_all = np.vstack((X,X0_t))\n",
    "        X_all_t = scaler.fit_transform(X_all)\n",
    "        X_t = X_all_t[X.shape[0]:,:]\n",
    "        Xin = X_all_t[:X.shape[0]]\n",
    "\n"
   ]
  },
  {
   "cell_type": "code",
   "execution_count": 12,
   "metadata": {},
   "outputs": [
    {
     "data": {
      "application/vnd.jupyter.widget-view+json": {
       "model_id": "44dfd13e92b349aaa21af93dd8492b60",
       "version_major": 2,
       "version_minor": 0
      },
      "image/png": "[encoded data removed]",
      "text/html": [
       "\n",
       "            <div style=\"display: inline-block;\">\n",
       "                <div class=\"jupyter-widgets widget-label\" style=\"text-align: center;\">\n",
       "                    Figure\n",
       "                </div>\n",
       "                <img src='data:image/png;base64,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' width=640.0/>\n",
       "            </div>\n",
       "        "
      ],
      "text/plain": [
       "Canvas(toolbar=Toolbar(toolitems=[('Home', 'Reset original view', 'home', 'home'), ('Back', 'Back to previous …"
      ]
     },
     "metadata": {},
     "output_type": "display_data"
    }
   ],
   "source": [
    "fig,ax = plt.subplots(2,1)\n",
    "plt.style.use('dark_background')\n",
    "im0 = ax[0].imshow(X[:,0:100])\n",
    "im1 = ax[1].imshow(Xin[:,0:100])\n",
    "ax[1].set_xticks([])\n",
    "ax[1].set_yticks([])\n",
    "ax[0].set_xticks([])\n",
    "ax[0].set_yticks([])\n",
    "ax[1].set_xlabel('Feature index')\n",
    "ax[0].set_ylabel('Case')\n",
    "ax[1].set_ylabel('Case')\n",
    "divider0 = make_axes_locatable(ax[0])\n",
    "divider1 = make_axes_locatable(ax[1])\n",
    "cax0 = divider0.append_axes('right',size='5%',pad=0.05)\n",
    "fig.colorbar(im0,cax=cax0,orientation='vertical')\n",
    "cax1 = divider1.append_axes('right',size='5%',pad=0.05)\n",
    "fig.colorbar(im1,cax=cax1,orientation='vertical')\n",
    "ax[1].set_title('Standardized feature matrix')\n",
    "ax[0].set_title('Feature matrix $X$');\n",
    "plt.tight_layout()\n",
    "\n"
   ]
  },
  {
   "cell_type": "code",
   "execution_count": 13,
   "metadata": {},
   "outputs": [
    {
     "name": "stderr",
     "output_type": "stream",
     "text": [
      "[Parallel(n_jobs=-1)]: Using backend ThreadingBackend with 64 concurrent workers.\n",
      "................................................................................................................[Parallel(n_jobs=-1)]: Done  22 out of  24 | elapsed:    1.4s remaining:    0.1s\n",
      "........[Parallel(n_jobs=-1)]: Done  24 out of  24 | elapsed:    2.0s finished\n"
     ]
    },
    {
     "name": "stdout",
     "output_type": "stream",
     "text": [
      "Fitting 24 folds for each of 20 candidates, totalling 480 fits\n"
     ]
    },
    {
     "name": "stderr",
     "output_type": "stream",
     "text": [
      "[Parallel(n_jobs=-1)]: Using backend ThreadingBackend with 64 concurrent workers.\n",
      ".................................................................................................................[Parallel(n_jobs=-1)]: Done  22 out of  24 | elapsed:    2.7s remaining:    0.2s\n",
      ".......[Parallel(n_jobs=-1)]: Done  24 out of  24 | elapsed:   15.6s finished\n"
     ]
    },
    {
     "name": "stdout",
     "output_type": "stream",
     "text": [
      "[Pipeline] ............. (step 1 of 2) Processing Lasso, total=  15.8s\n",
      "[Pipeline] ............... (step 2 of 2) Processing SVR, total=   0.0s\n",
      "Predicted percentage change of 0.9075056908199313 for case 1.0\n",
      "True percentage change [1.625]\n",
      "0.1\n",
      "{'memory': None, 'steps': [('Lasso', SelectFromModel(estimator=LassoCV(alphas=(1e-05, 0.0001, 0.001, 0.01, 0.1),\n",
      "                                  cv=KFold(n_splits=24, random_state=None, shuffle=False),\n",
      "                                  max_iter=10000, n_jobs=-1, verbose=1),\n",
      "                max_features=100)), ('SVR', SVR(C=1, epsilon=0.5))], 'verbose': 1, 'Lasso': SelectFromModel(estimator=LassoCV(alphas=(1e-05, 0.0001, 0.001, 0.01, 0.1),\n",
      "                                  cv=KFold(n_splits=24, random_state=None, shuffle=False),\n",
      "                                  max_iter=10000, n_jobs=-1, verbose=1),\n",
      "                max_features=100), 'SVR': SVR(C=1, epsilon=0.5), 'Lasso__estimator__alphas': (1e-05, 0.0001, 0.001, 0.01, 0.1), 'Lasso__estimator__copy_X': True, 'Lasso__estimator__cv': KFold(n_splits=24, random_state=None, shuffle=False), 'Lasso__estimator__eps': 0.001, 'Lasso__estimator__fit_intercept': True, 'Lasso__estimator__max_iter': 10000, 'Lasso__estimator__n_alphas': 100, 'Lasso__estimator__n_jobs': -1, 'Lasso__estimator__normalize': 'deprecated', 'Lasso__estimator__positive': False, 'Lasso__estimator__precompute': 'auto', 'Lasso__estimator__random_state': None, 'Lasso__estimator__selection': 'cyclic', 'Lasso__estimator__tol': 0.0001, 'Lasso__estimator__verbose': 1, 'Lasso__estimator': LassoCV(alphas=(1e-05, 0.0001, 0.001, 0.01, 0.1),\n",
      "        cv=KFold(n_splits=24, random_state=None, shuffle=False), max_iter=10000,\n",
      "        n_jobs=-1, verbose=1), 'Lasso__importance_getter': 'auto', 'Lasso__max_features': 100, 'Lasso__norm_order': 1, 'Lasso__prefit': False, 'Lasso__threshold': None, 'SVR__C': 1, 'SVR__cache_size': 200, 'SVR__coef0': 0.0, 'SVR__degree': 3, 'SVR__epsilon': 0.5, 'SVR__gamma': 'scale', 'SVR__kernel': 'rbf', 'SVR__max_iter': -1, 'SVR__shrinking': True, 'SVR__tol': 0.001, 'SVR__verbose': False}\n",
      "{'memory': None, 'steps': [('Lasso', SelectFromModel(estimator=LassoCV(alphas=(1e-05, 0.0001, 0.001, 0.01, 0.1),\n",
      "                                  cv=KFold(n_splits=24, random_state=None, shuffle=False),\n",
      "                                  max_iter=10000, n_jobs=-1, verbose=1),\n",
      "                max_features=100)), ('SVR', SVR(C=1, epsilon=0.5))], 'verbose': 1, 'Lasso': SelectFromModel(estimator=LassoCV(alphas=(1e-05, 0.0001, 0.001, 0.01, 0.1),\n",
      "                                  cv=KFold(n_splits=24, random_state=None, shuffle=False),\n",
      "                                  max_iter=10000, n_jobs=-1, verbose=1),\n",
      "                max_features=100), 'SVR': SVR(C=1, epsilon=0.5), 'Lasso__estimator__alphas': (1e-05, 0.0001, 0.001, 0.01, 0.1), 'Lasso__estimator__copy_X': True, 'Lasso__estimator__cv': KFold(n_splits=24, random_state=None, shuffle=False), 'Lasso__estimator__eps': 0.001, 'Lasso__estimator__fit_intercept': True, 'Lasso__estimator__max_iter': 10000, 'Lasso__estimator__n_alphas': 100, 'Lasso__estimator__n_jobs': -1, 'Lasso__estimator__normalize': 'deprecated', 'Lasso__estimator__positive': False, 'Lasso__estimator__precompute': 'auto', 'Lasso__estimator__random_state': None, 'Lasso__estimator__selection': 'cyclic', 'Lasso__estimator__tol': 0.0001, 'Lasso__estimator__verbose': 1, 'Lasso__estimator': LassoCV(alphas=(1e-05, 0.0001, 0.001, 0.01, 0.1),\n",
      "        cv=KFold(n_splits=24, random_state=None, shuffle=False), max_iter=10000,\n",
      "        n_jobs=-1, verbose=1), 'Lasso__importance_getter': 'auto', 'Lasso__max_features': 100, 'Lasso__norm_order': 1, 'Lasso__prefit': False, 'Lasso__threshold': None, 'SVR__C': 1, 'SVR__cache_size': 200, 'SVR__coef0': 0.0, 'SVR__degree': 3, 'SVR__epsilon': 0.5, 'SVR__gamma': 'scale', 'SVR__kernel': 'rbf', 'SVR__max_iter': -1, 'SVR__shrinking': True, 'SVR__tol': 0.001, 'SVR__verbose': False}\n"
     ]
    },
    {
     "name": "stderr",
     "output_type": "stream",
     "text": [
      "[Parallel(n_jobs=-1)]: Using backend ThreadingBackend with 64 concurrent workers.\n",
      "..................................................................................................................[Parallel(n_jobs=-1)]: Done  22 out of  24 | elapsed:    2.4s remaining:    0.2s\n",
      "......[Parallel(n_jobs=-1)]: Done  24 out of  24 | elapsed:    3.5s finished\n"
     ]
    },
    {
     "name": "stdout",
     "output_type": "stream",
     "text": [
      "Fitting 24 folds for each of 20 candidates, totalling 480 fits\n"
     ]
    },
    {
     "name": "stderr",
     "output_type": "stream",
     "text": [
      "[Parallel(n_jobs=-1)]: Using backend ThreadingBackend with 64 concurrent workers.\n",
      ".................................................................................................................[Parallel(n_jobs=-1)]: Done  22 out of  24 | elapsed:    0.8s remaining:    0.1s\n",
      ".......[Parallel(n_jobs=-1)]: Done  24 out of  24 | elapsed:    0.9s finished\n",
      "[Parallel(n_jobs=-1)]: Using backend ThreadingBackend with 64 concurrent workers.\n"
     ]
    },
    {
     "name": "stdout",
     "output_type": "stream",
     "text": [
      "[Pipeline] ............. (step 1 of 2) Processing Lasso, total=   1.0s\n",
      "[Pipeline] ............... (step 2 of 2) Processing SVR, total=   0.0s\n",
      "Predicted percentage change of 0.20243816418275407 for case 2.0\n",
      "True percentage change [0.5]\n",
      "0.1\n",
      "{'memory': None, 'steps': [('Lasso', SelectFromModel(estimator=LassoCV(alphas=(1e-05, 0.0001, 0.001, 0.01, 0.1),\n",
      "                                  cv=KFold(n_splits=24, random_state=None, shuffle=False),\n",
      "                                  max_iter=10000, n_jobs=-1, verbose=1),\n",
      "                max_features=100)), ('SVR', SVR(C=10, epsilon=0.2))], 'verbose': 1, 'Lasso': SelectFromModel(estimator=LassoCV(alphas=(1e-05, 0.0001, 0.001, 0.01, 0.1),\n",
      "                                  cv=KFold(n_splits=24, random_state=None, shuffle=False),\n",
      "                                  max_iter=10000, n_jobs=-1, verbose=1),\n",
      "                max_features=100), 'SVR': SVR(C=10, epsilon=0.2), 'Lasso__estimator__alphas': (1e-05, 0.0001, 0.001, 0.01, 0.1), 'Lasso__estimator__copy_X': True, 'Lasso__estimator__cv': KFold(n_splits=24, random_state=None, shuffle=False), 'Lasso__estimator__eps': 0.001, 'Lasso__estimator__fit_intercept': True, 'Lasso__estimator__max_iter': 10000, 'Lasso__estimator__n_alphas': 100, 'Lasso__estimator__n_jobs': -1, 'Lasso__estimator__normalize': 'deprecated', 'Lasso__estimator__positive': False, 'Lasso__estimator__precompute': 'auto', 'Lasso__estimator__random_state': None, 'Lasso__estimator__selection': 'cyclic', 'Lasso__estimator__tol': 0.0001, 'Lasso__estimator__verbose': 1, 'Lasso__estimator': LassoCV(alphas=(1e-05, 0.0001, 0.001, 0.01, 0.1),\n",
      "        cv=KFold(n_splits=24, random_state=None, shuffle=False), max_iter=10000,\n",
      "        n_jobs=-1, verbose=1), 'Lasso__importance_getter': 'auto', 'Lasso__max_features': 100, 'Lasso__norm_order': 1, 'Lasso__prefit': False, 'Lasso__threshold': None, 'SVR__C': 10, 'SVR__cache_size': 200, 'SVR__coef0': 0.0, 'SVR__degree': 3, 'SVR__epsilon': 0.2, 'SVR__gamma': 'scale', 'SVR__kernel': 'rbf', 'SVR__max_iter': -1, 'SVR__shrinking': True, 'SVR__tol': 0.001, 'SVR__verbose': False}\n",
      "{'memory': None, 'steps': [('Lasso', SelectFromModel(estimator=LassoCV(alphas=(1e-05, 0.0001, 0.001, 0.01, 0.1),\n",
      "                                  cv=KFold(n_splits=24, random_state=None, shuffle=False),\n",
      "                                  max_iter=10000, n_jobs=-1, verbose=1),\n",
      "                max_features=100)), ('SVR', SVR(C=10, epsilon=0.2))], 'verbose': 1, 'Lasso': SelectFromModel(estimator=LassoCV(alphas=(1e-05, 0.0001, 0.001, 0.01, 0.1),\n",
      "                                  cv=KFold(n_splits=24, random_state=None, shuffle=False),\n",
      "                                  max_iter=10000, n_jobs=-1, verbose=1),\n",
      "                max_features=100), 'SVR': SVR(C=10, epsilon=0.2), 'Lasso__estimator__alphas': (1e-05, 0.0001, 0.001, 0.01, 0.1), 'Lasso__estimator__copy_X': True, 'Lasso__estimator__cv': KFold(n_splits=24, random_state=None, shuffle=False), 'Lasso__estimator__eps': 0.001, 'Lasso__estimator__fit_intercept': True, 'Lasso__estimator__max_iter': 10000, 'Lasso__estimator__n_alphas': 100, 'Lasso__estimator__n_jobs': -1, 'Lasso__estimator__normalize': 'deprecated', 'Lasso__estimator__positive': False, 'Lasso__estimator__precompute': 'auto', 'Lasso__estimator__random_state': None, 'Lasso__estimator__selection': 'cyclic', 'Lasso__estimator__tol': 0.0001, 'Lasso__estimator__verbose': 1, 'Lasso__estimator': LassoCV(alphas=(1e-05, 0.0001, 0.001, 0.01, 0.1),\n",
      "        cv=KFold(n_splits=24, random_state=None, shuffle=False), max_iter=10000,\n",
      "        n_jobs=-1, verbose=1), 'Lasso__importance_getter': 'auto', 'Lasso__max_features': 100, 'Lasso__norm_order': 1, 'Lasso__prefit': False, 'Lasso__threshold': None, 'SVR__C': 10, 'SVR__cache_size': 200, 'SVR__coef0': 0.0, 'SVR__degree': 3, 'SVR__epsilon': 0.2, 'SVR__gamma': 'scale', 'SVR__kernel': 'rbf', 'SVR__max_iter': -1, 'SVR__shrinking': True, 'SVR__tol': 0.001, 'SVR__verbose': False}\n"
     ]
    },
    {
     "name": "stderr",
     "output_type": "stream",
     "text": [
      "..................................................................................................................[Parallel(n_jobs=-1)]: Done  22 out of  24 | elapsed:    2.6s remaining:    0.2s\n",
      "......[Parallel(n_jobs=-1)]: Done  24 out of  24 | elapsed:   11.7s finished\n"
     ]
    },
    {
     "name": "stdout",
     "output_type": "stream",
     "text": [
      "Fitting 24 folds for each of 20 candidates, totalling 480 fits\n"
     ]
    },
    {
     "name": "stderr",
     "output_type": "stream",
     "text": [
      "[Parallel(n_jobs=-1)]: Using backend ThreadingBackend with 64 concurrent workers.\n",
      "................................................................................................................[Parallel(n_jobs=-1)]: Done  22 out of  24 | elapsed:    1.7s remaining:    0.2s\n",
      "........[Parallel(n_jobs=-1)]: Done  24 out of  24 | elapsed:    2.0s finished\n"
     ]
    },
    {
     "name": "stdout",
     "output_type": "stream",
     "text": [
      "[Pipeline] ............. (step 1 of 2) Processing Lasso, total=   2.2s\n",
      "[Pipeline] ............... (step 2 of 2) Processing SVR, total=   0.0s\n",
      "Predicted percentage change of 0.12226031358389489 for case 3.0\n",
      "True percentage change [0.58333333]\n",
      "0.1\n",
      "{'memory': None, 'steps': [('Lasso', SelectFromModel(estimator=LassoCV(alphas=(1e-05, 0.0001, 0.001, 0.01, 0.1),\n",
      "                                  cv=KFold(n_splits=24, random_state=None, shuffle=False),\n",
      "                                  max_iter=10000, n_jobs=-1, verbose=1),\n",
      "                max_features=100)), ('SVR', SVR(C=1, epsilon=0.25))], 'verbose': 1, 'Lasso': SelectFromModel(estimator=LassoCV(alphas=(1e-05, 0.0001, 0.001, 0.01, 0.1),\n",
      "                                  cv=KFold(n_splits=24, random_state=None, shuffle=False),\n",
      "                                  max_iter=10000, n_jobs=-1, verbose=1),\n",
      "                max_features=100), 'SVR': SVR(C=1, epsilon=0.25), 'Lasso__estimator__alphas': (1e-05, 0.0001, 0.001, 0.01, 0.1), 'Lasso__estimator__copy_X': True, 'Lasso__estimator__cv': KFold(n_splits=24, random_state=None, shuffle=False), 'Lasso__estimator__eps': 0.001, 'Lasso__estimator__fit_intercept': True, 'Lasso__estimator__max_iter': 10000, 'Lasso__estimator__n_alphas': 100, 'Lasso__estimator__n_jobs': -1, 'Lasso__estimator__normalize': 'deprecated', 'Lasso__estimator__positive': False, 'Lasso__estimator__precompute': 'auto', 'Lasso__estimator__random_state': None, 'Lasso__estimator__selection': 'cyclic', 'Lasso__estimator__tol': 0.0001, 'Lasso__estimator__verbose': 1, 'Lasso__estimator': LassoCV(alphas=(1e-05, 0.0001, 0.001, 0.01, 0.1),\n",
      "        cv=KFold(n_splits=24, random_state=None, shuffle=False), max_iter=10000,\n",
      "        n_jobs=-1, verbose=1), 'Lasso__importance_getter': 'auto', 'Lasso__max_features': 100, 'Lasso__norm_order': 1, 'Lasso__prefit': False, 'Lasso__threshold': None, 'SVR__C': 1, 'SVR__cache_size': 200, 'SVR__coef0': 0.0, 'SVR__degree': 3, 'SVR__epsilon': 0.25, 'SVR__gamma': 'scale', 'SVR__kernel': 'rbf', 'SVR__max_iter': -1, 'SVR__shrinking': True, 'SVR__tol': 0.001, 'SVR__verbose': False}\n",
      "{'memory': None, 'steps': [('Lasso', SelectFromModel(estimator=LassoCV(alphas=(1e-05, 0.0001, 0.001, 0.01, 0.1),\n",
      "                                  cv=KFold(n_splits=24, random_state=None, shuffle=False),\n",
      "                                  max_iter=10000, n_jobs=-1, verbose=1),\n",
      "                max_features=100)), ('SVR', SVR(C=1, epsilon=0.25))], 'verbose': 1, 'Lasso': SelectFromModel(estimator=LassoCV(alphas=(1e-05, 0.0001, 0.001, 0.01, 0.1),\n",
      "                                  cv=KFold(n_splits=24, random_state=None, shuffle=False),\n",
      "                                  max_iter=10000, n_jobs=-1, verbose=1),\n",
      "                max_features=100), 'SVR': SVR(C=1, epsilon=0.25), 'Lasso__estimator__alphas': (1e-05, 0.0001, 0.001, 0.01, 0.1), 'Lasso__estimator__copy_X': True, 'Lasso__estimator__cv': KFold(n_splits=24, random_state=None, shuffle=False), 'Lasso__estimator__eps': 0.001, 'Lasso__estimator__fit_intercept': True, 'Lasso__estimator__max_iter': 10000, 'Lasso__estimator__n_alphas': 100, 'Lasso__estimator__n_jobs': -1, 'Lasso__estimator__normalize': 'deprecated', 'Lasso__estimator__positive': False, 'Lasso__estimator__precompute': 'auto', 'Lasso__estimator__random_state': None, 'Lasso__estimator__selection': 'cyclic', 'Lasso__estimator__tol': 0.0001, 'Lasso__estimator__verbose': 1, 'Lasso__estimator': LassoCV(alphas=(1e-05, 0.0001, 0.001, 0.01, 0.1),\n",
      "        cv=KFold(n_splits=24, random_state=None, shuffle=False), max_iter=10000,\n",
      "        n_jobs=-1, verbose=1), 'Lasso__importance_getter': 'auto', 'Lasso__max_features': 100, 'Lasso__norm_order': 1, 'Lasso__prefit': False, 'Lasso__threshold': None, 'SVR__C': 1, 'SVR__cache_size': 200, 'SVR__coef0': 0.0, 'SVR__degree': 3, 'SVR__epsilon': 0.25, 'SVR__gamma': 'scale', 'SVR__kernel': 'rbf', 'SVR__max_iter': -1, 'SVR__shrinking': True, 'SVR__tol': 0.001, 'SVR__verbose': False}\n"
     ]
    },
    {
     "name": "stderr",
     "output_type": "stream",
     "text": [
      "[Parallel(n_jobs=-1)]: Using backend ThreadingBackend with 64 concurrent workers.\n",
      ".................................................................................................................[Parallel(n_jobs=-1)]: Done  22 out of  24 | elapsed:    2.0s remaining:    0.2s\n",
      ".......[Parallel(n_jobs=-1)]: Done  24 out of  24 | elapsed:   11.2s finished\n"
     ]
    },
    {
     "name": "stdout",
     "output_type": "stream",
     "text": [
      "Fitting 24 folds for each of 20 candidates, totalling 480 fits\n"
     ]
    },
    {
     "name": "stderr",
     "output_type": "stream",
     "text": [
      "[Parallel(n_jobs=-1)]: Using backend ThreadingBackend with 64 concurrent workers.\n",
      "..................................................................................................................[Parallel(n_jobs=-1)]: Done  22 out of  24 | elapsed:    1.6s remaining:    0.1s\n",
      "......[Parallel(n_jobs=-1)]: Done  24 out of  24 | elapsed:    1.7s finished\n",
      "[Parallel(n_jobs=-1)]: Using backend ThreadingBackend with 64 concurrent workers.\n"
     ]
    },
    {
     "name": "stdout",
     "output_type": "stream",
     "text": [
      "[Pipeline] ............. (step 1 of 2) Processing Lasso, total=   1.8s\n",
      "[Pipeline] ............... (step 2 of 2) Processing SVR, total=   0.0s\n",
      "Predicted percentage change of 0.5001553545931421 for case 4.0\n",
      "True percentage change [-0.23529412]\n",
      "0.1\n",
      "{'memory': None, 'steps': [('Lasso', SelectFromModel(estimator=LassoCV(alphas=(1e-05, 0.0001, 0.001, 0.01, 0.1),\n",
      "                                  cv=KFold(n_splits=24, random_state=None, shuffle=False),\n",
      "                                  max_iter=10000, n_jobs=-1, verbose=1),\n",
      "                max_features=100)), ('SVR', SVR(C=0.001, epsilon=0.5))], 'verbose': 1, 'Lasso': SelectFromModel(estimator=LassoCV(alphas=(1e-05, 0.0001, 0.001, 0.01, 0.1),\n",
      "                                  cv=KFold(n_splits=24, random_state=None, shuffle=False),\n",
      "                                  max_iter=10000, n_jobs=-1, verbose=1),\n",
      "                max_features=100), 'SVR': SVR(C=0.001, epsilon=0.5), 'Lasso__estimator__alphas': (1e-05, 0.0001, 0.001, 0.01, 0.1), 'Lasso__estimator__copy_X': True, 'Lasso__estimator__cv': KFold(n_splits=24, random_state=None, shuffle=False), 'Lasso__estimator__eps': 0.001, 'Lasso__estimator__fit_intercept': True, 'Lasso__estimator__max_iter': 10000, 'Lasso__estimator__n_alphas': 100, 'Lasso__estimator__n_jobs': -1, 'Lasso__estimator__normalize': 'deprecated', 'Lasso__estimator__positive': False, 'Lasso__estimator__precompute': 'auto', 'Lasso__estimator__random_state': None, 'Lasso__estimator__selection': 'cyclic', 'Lasso__estimator__tol': 0.0001, 'Lasso__estimator__verbose': 1, 'Lasso__estimator': LassoCV(alphas=(1e-05, 0.0001, 0.001, 0.01, 0.1),\n",
      "        cv=KFold(n_splits=24, random_state=None, shuffle=False), max_iter=10000,\n",
      "        n_jobs=-1, verbose=1), 'Lasso__importance_getter': 'auto', 'Lasso__max_features': 100, 'Lasso__norm_order': 1, 'Lasso__prefit': False, 'Lasso__threshold': None, 'SVR__C': 0.001, 'SVR__cache_size': 200, 'SVR__coef0': 0.0, 'SVR__degree': 3, 'SVR__epsilon': 0.5, 'SVR__gamma': 'scale', 'SVR__kernel': 'rbf', 'SVR__max_iter': -1, 'SVR__shrinking': True, 'SVR__tol': 0.001, 'SVR__verbose': False}\n",
      "{'memory': None, 'steps': [('Lasso', SelectFromModel(estimator=LassoCV(alphas=(1e-05, 0.0001, 0.001, 0.01, 0.1),\n",
      "                                  cv=KFold(n_splits=24, random_state=None, shuffle=False),\n",
      "                                  max_iter=10000, n_jobs=-1, verbose=1),\n",
      "                max_features=100)), ('SVR', SVR(C=0.001, epsilon=0.5))], 'verbose': 1, 'Lasso': SelectFromModel(estimator=LassoCV(alphas=(1e-05, 0.0001, 0.001, 0.01, 0.1),\n",
      "                                  cv=KFold(n_splits=24, random_state=None, shuffle=False),\n",
      "                                  max_iter=10000, n_jobs=-1, verbose=1),\n",
      "                max_features=100), 'SVR': SVR(C=0.001, epsilon=0.5), 'Lasso__estimator__alphas': (1e-05, 0.0001, 0.001, 0.01, 0.1), 'Lasso__estimator__copy_X': True, 'Lasso__estimator__cv': KFold(n_splits=24, random_state=None, shuffle=False), 'Lasso__estimator__eps': 0.001, 'Lasso__estimator__fit_intercept': True, 'Lasso__estimator__max_iter': 10000, 'Lasso__estimator__n_alphas': 100, 'Lasso__estimator__n_jobs': -1, 'Lasso__estimator__normalize': 'deprecated', 'Lasso__estimator__positive': False, 'Lasso__estimator__precompute': 'auto', 'Lasso__estimator__random_state': None, 'Lasso__estimator__selection': 'cyclic', 'Lasso__estimator__tol': 0.0001, 'Lasso__estimator__verbose': 1, 'Lasso__estimator': LassoCV(alphas=(1e-05, 0.0001, 0.001, 0.01, 0.1),\n",
      "        cv=KFold(n_splits=24, random_state=None, shuffle=False), max_iter=10000,\n",
      "        n_jobs=-1, verbose=1), 'Lasso__importance_getter': 'auto', 'Lasso__max_features': 100, 'Lasso__norm_order': 1, 'Lasso__prefit': False, 'Lasso__threshold': None, 'SVR__C': 0.001, 'SVR__cache_size': 200, 'SVR__coef0': 0.0, 'SVR__degree': 3, 'SVR__epsilon': 0.5, 'SVR__gamma': 'scale', 'SVR__kernel': 'rbf', 'SVR__max_iter': -1, 'SVR__shrinking': True, 'SVR__tol': 0.001, 'SVR__verbose': False}\n"
     ]
    },
    {
     "name": "stderr",
     "output_type": "stream",
     "text": [
      "..................................................................................................................[Parallel(n_jobs=-1)]: Done  22 out of  24 | elapsed:    1.7s remaining:    0.2s\n",
      "......[Parallel(n_jobs=-1)]: Done  24 out of  24 | elapsed:    1.8s finished\n"
     ]
    },
    {
     "name": "stdout",
     "output_type": "stream",
     "text": [
      "Fitting 24 folds for each of 20 candidates, totalling 480 fits\n"
     ]
    }
   ],
   "source": [
    "if retrain == 1:\n",
    "    for j in np.arange(1,np.max(subject_id)+1):\n",
    "        if j in subject_id:\n",
    "            # Remove the test case\n",
    "            jj = int(np.where(subject_id==j)[0])\n",
    "            X_j = np.delete(Xin,jj,0)\n",
    "            per_change_train_j = np.delete(per_change_train,jj,0)\n",
    "            # Debug\n",
    "            # print('Excluding subject',str(subject_id[jj]),'from training feature vector of shape',str(Xin.shape),'to create new training feature vector of shape',str(X_j.shape))\n",
    "            if (sum(sum(np.isnan(X))))>0:\n",
    "                print('NaN detected in feature vector')\n",
    "\n",
    "            # Cross-validation for model selection\n",
    "            cv = KFold(X_j.shape[0]-2)\n",
    "            # Identify most important features\n",
    "            # Do not assume data is centered,fit_intercept=True\n",
    "            # Does LassoCV automatically do LOOCV?\n",
    "            clf_in = LassoCV(fit_intercept=True,max_iter=10000,alphas=((1e-5,1e-4,1e-3,1e-2,1e-1)),cv=cv,verbose=1,n_jobs=-1).fit(X_j,np.ravel(per_change_train_j))\n",
    "            sfm = SelectFromModel(clf_in,max_features=100)\n",
    "            # Initialize pipeline\n",
    "            clf = Pipeline([('Lasso',sfm),('SVR',SVR(C=0,epsilon=0,kernel='rbf'))],verbose=1)\n",
    "            # Select the optimal SVR parameters with grid search\n",
    "            Cs = ((1e-3,1e-2,1e-1,1,10))\n",
    "            epsilons = ((0.1,0.2,0.25,0.5))\n",
    "            \n",
    "            clf_nsvr = GridSearchCV(clf,{'SVR__C':Cs,'SVR__epsilon':epsilons},n_jobs=-1,cv=cv,scoring='neg_mean_squared_error',error_score=0.0,verbose=1)\n",
    "            if clf_nsvr.error_score != 0:\n",
    "                clf_nsvr.fit(X_j,np.ravel(per_change_train_j))\n",
    "                ut[jj] = clf_nsvr.best_estimator_.predict(Xin[jj,:].reshape(1,-1))\n",
    "                print('Predicted percentage change of',ut[jj],'for case',subject_id[jj])\n",
    "                print('True percentage change',per_change_train[jj])\n",
    "                print(clf_in.alpha_)\n",
    "                print(clf_nsvr.best_estimator_.get_params('SVR__epsilon'))\n",
    "                print(clf_nsvr.best_estimator_.get_params('SVR__C'))\n",
    "\n"
   ]
  },
  {
   "cell_type": "code",
   "execution_count": null,
   "metadata": {},
   "outputs": [],
   "source": [
    "if retrain == 1:\n",
    "    with open('lasso_sas_pred.npy','wb') as f:\n",
    "        np.save(f,ut)\n",
    "else:\n",
    "    with open('lasso_sas_pred.npy','rb') as f:\n",
    "        ut = np.load(f)"
   ]
  },
  {
   "cell_type": "code",
   "execution_count": null,
   "metadata": {},
   "outputs": [],
   "source": [
    "[fig,ax] = plt.subplots(1,2,sharex=True,sharey=True)\n",
    "ax[0].hist([lct_change],bins=np.linspace(0,1,100))\n",
    "ax[0].set_title('Medication response')\n",
    "ax[0].set_xlabel('Improvement')\n",
    "ax[0].set_ylabel('Frequency')\n",
    "ax[1].hist([ut],bins=np.linspace(0,1,100))\n",
    "ax[1].set_title('Lasso prediction')\n",
    "ax[1].set_xlabel('Improvement')\n",
    "ax[1].set_ylabel('Frequency')\n",
    "fig.set_size_inches(12,6)"
   ]
  },
  {
   "cell_type": "code",
   "execution_count": null,
   "metadata": {},
   "outputs": [],
   "source": [
    "x = per_change\n",
    "y = ut\n",
    "\n",
    "slope,intercept = np.polyfit(x,y,1)  # linear model adjustment\n",
    "y_model = np.polyval([slope,intercept],x)   # modeling...\n",
    "\n",
    "x_mean = np.mean(x)\n",
    "y_mean = np.mean(y)\n",
    "n = x.size                        # number of samples\n",
    "m = 2                             # number of parameters\n",
    "dof = n-m                       # degrees of freedom\n",
    "t = stats.t.ppf(0.975,dof)       # Students statistic of interval confidence\n",
    "residual_ut = y-y_model\n",
    "\n",
    "std_error = (np.sum(residual_ut**2)/dof)**(1/2)   # Standard deviation of the error\n",
    "\n",
    "# Pearson's correlation coefficient\n",
    "numerator = np.sum((x-x_mean)*(y-y_mean))\n",
    "denominator = (np.sum((x-x_mean)**2)*np.sum((y-y_mean)**2))**.5\n",
    "correlation_coef = numerator/denominator\n",
    "r = correlation_coef\n",
    "tr = r*np.sqrt(n-2)/(np.sqrt(1-r**2))\n",
    "# p-value for 2-sided test\n",
    "pv = 2*(1-stats.t.cdf(abs(tr), dof))\n",
    "# # mean squared error\n",
    "MSE = 1/n*np.sum((y-y_model)**2)\n",
    "print(r,pv)\n",
    "# to plot the adjusted model\n",
    "x_line = np.linspace(np.min(x),np.max(x),100)\n",
    "y_line = np.polyval([slope,intercept],x_line)\n",
    "\n",
    "# confidence interval\n",
    "ci = t*std_error*(1/n+(x_line-x_mean)**2/np.sum((x-x_mean)**2))**.5\n",
    "# predicting interval\n",
    "pi = t*std_error*(1+1/n+(x_line-x_mean)**2/np.sum((x-x_mean)**2))**.5  \n",
    "\n",
    "\n",
    "plt.rcParams.update({'font.size': 14})\n",
    "[fig,ax] = plt.subplots(1,2,sharex=True,sharey=True)\n",
    "\n",
    "ax[0].plot(x,y,'o',color = 'white')\n",
    "ax[0].plot(x_line,y_line,color = 'red')\n",
    "ax[0].fill_between(x_line,y_line+pi,y_line-pi,color = 'red',label = '95% prediction interval')\n",
    "ax[0].fill_between(x_line,y_line+ci,y_line-ci,color = 'orange',label = '95% confidence interval')\n",
    "\n",
    "ax[0].set_xlabel('SAS pre/post DBS percent improvement')\n",
    "ax[0].set_ylabel('Percent improvement')\n",
    "ax[0].set_title('Lasso prediction')\n",
    "\n",
    "ax[0].text(0.5,-4.25,'$y$ = '+ str(np.round(slope,2))+'$x$'+'+'+str(np.round(intercept,3)),color='w')\n",
    "ax[0].text(0.5,-4.5,'$r$ = '+str(np.round(r,2))+', $p$ = '+str(round(pv,3)),color='w')\n",
    "ax[0].text(0.5,-4.75,'$MSE$ = '+str(np.round(MSE,2)),color='w')\n",
    "ax[0].margins(x=0)\n",
    "fig.set_size_inches(20,10)\n",
    "ax[0].legend(bbox_to_anchor=(1,1),fontsize=12)\n",
    "\n",
    "## Medication response\n",
    "x = per_change\n",
    "y = lct_change\n",
    "\n",
    "# Fit and evaluate linear model\n",
    "slope,intercept = np.polyfit(x,y,1)\n",
    "y_model = np.polyval([slope,intercept],x)   \n",
    "\n",
    "# Prepare correlation stats\n",
    "x_mean = np.mean(x)\n",
    "y_mean = np.mean(y)\n",
    "# Sample size\n",
    "n = x.size         \n",
    "# Parameters assuming a normal distribution              \n",
    "m = 2\n",
    "# Degrees of freedom                            \n",
    "dof = n-m\n",
    "# Students statistic of interval confidence                      \n",
    "t = stats.t.ppf(0.975,dof)      \n",
    "pv = r*np.sqrt(n-2)/(np.sqrt(1-r**2))\n",
    "# Standard deviation of the error\n",
    "residual_lct = y-y_model\n",
    "std_error = (np.sum(residual_lct**2)/dof)**(1/2)   \n",
    "\n",
    "# Pearson's correlation coefficient\n",
    "numerator = np.sum((x-x_mean)*(y-y_mean))\n",
    "denominator = (np.sum((x-x_mean)**2)*np.sum((y-y_mean)**2))**.5\n",
    "correlation_coef = numerator/denominator\n",
    "r = correlation_coef\n",
    "tr = r*np.sqrt(n-2)/(np.sqrt(1-r**2))\n",
    "# p-value for 2-sided test\n",
    "pv = 2*(1-stats.t.cdf(abs(tr), dof))\n",
    "\n",
    "# mean squared error\n",
    "MSE = 1/n*np.sum((y-y_model)**2)\n",
    "print(r,pv)\n",
    "# to plot the adjusted model\n",
    "x_line = np.linspace(np.min(x),np.max(x),100)\n",
    "y_line = np.polyval([slope,intercept],x_line)\n",
    "\n",
    "# confidence interval\n",
    "ci = t*std_error*(1/n+(x_line-x_mean)**2/np.sum((x-x_mean)**2))**.5\n",
    "# predicting interval\n",
    "pi = t*std_error*(1+1/n+(x_line-x_mean)**2/np.sum((x-x_mean)**2))**.5  \n",
    "\n",
    "\n",
    "ax[1].plot(x,y,'o',color = 'white')\n",
    "ax[1].plot(x_line,y_line,color = 'red')\n",
    "ax[1].fill_between(x_line,y_line+pi,y_line-pi,color = 'red',label = '95% prediction interval')\n",
    "ax[1].fill_between(x_line,y_line+ci,y_line-ci,color = 'orange',label = '95% confidence interval')\n",
    "\n",
    "ax[1].set_xlabel('SAS pre/post DBS percent improvement')\n",
    "ax[1].set_ylabel('Percent improvement')\n",
    "ax[1].set_title('Medication response')\n",
    "\n",
    "\n",
    "ax[1].text(0.5,-4.25,'$y$ = '+ str(np.round(slope,2))+'$x$'+'+'+str(np.round(intercept,3)),color='w')\n",
    "ax[1].text(0.5,-4.5,'$r$ = '+str(np.round(r,2))+', $p$ = '+str(round(pv,3)),color='w')\n",
    "ax[1].text(0.5,-4.75,'$MSE$ = '+str(np.round(MSE,2)),color='w')\n",
    "ax[1].margins(x=0)\n",
    "fig.set_size_inches(20,10)\n",
    "ax[1].legend(bbox_to_anchor=(1,1),fontsize=12)\n",
    "fig.suptitle('SAS Improvement')\n",
    "\n"
   ]
  },
  {
   "cell_type": "code",
   "execution_count": null,
   "metadata": {},
   "outputs": [],
   "source": [
    "[fig,ax] = plt.subplots(1,2,sharex=False,sharey=True)\n",
    "ax[0].hist([residual_lct],bins=np.linspace(0,0.4,10))\n",
    "ax[0].set_title('Medication response residuals')\n",
    "ax[0].set_xlabel('Residual')\n",
    "ax[0].set_ylabel('Frequency')\n",
    "ax[1].hist([residual_ut],bins=np.linspace(0,0.1,10))\n",
    "ax[1].set_title('Lasso prediction residuals')\n",
    "ax[1].set_xlabel('Residual')\n",
    "ax[1].set_ylabel('Frequency')\n",
    "fig.set_size_inches(12,6)"
   ]
  },
  {
   "cell_type": "code",
   "execution_count": null,
   "metadata": {},
   "outputs": [],
   "source": [
    "if retrain == 1:\n",
    "    feats = clf_nsvr.best_estimator_.steps[0][1].get_support()\n",
    "    with open('lasso_sas_feats.txt','w') as f:\n",
    "        f.write('Lasso selected features from model trained on '+str(datetime.now())+'\\n')\n",
    "    for k in range(feats.__len__()-1):\n",
    "        if feats[k] == True:\n",
    "            with open('lasso_sas_feats.txt','a') as f:\n",
    "                f.write(keys[k]+'\\n')\n",
    "            print(keys[k])\n",
    "\n",
    "    fig,ax = plt.subplots(1,1)\n",
    "    plt.plot(feats)\n",
    "    plt.show()\n",
    "\n",
    "    clf_nsvr.best_estimator_.steps[1][1].support_vectors_.shape\n",
    "    np.array(clf_nsvr.best_estimator_.predict(X_j))\n",
    "\n",
    "    cases = np.linspace(1,n_cases-1,n_cases-1)\n",
    "    fig,ax = plt.subplots(1,1)\n",
    "    sv_ind = clf_nsvr.best_estimator_.steps[1][1].support_\n",
    "    # Plot remaining data\n",
    "    plt.scatter(cases,per_change_train_j,label='data',zorder=2,c='c',edgecolors=(0,0,0))\n",
    "    # Plot support vectors\n",
    "    plt.scatter(\n",
    "        cases[sv_ind],\n",
    "        per_change_train_j[sv_ind],\n",
    "        s=50,\n",
    "        c='m',\n",
    "        label='SVR support vectors',\n",
    "        zorder=2,\n",
    "        edgecolors=(0,0,0))\n",
    "\n",
    "\n",
    "    plt.plot(cases,np.array(clf_nsvr.best_estimator_.predict(X_j))),\n",
    "    plt.style.use('dark_background')\n",
    "    plt.show()\n",
    "\n",
    "    X_SVR = clf_nsvr.best_estimator_.steps[1][1].support_vectors_\n",
    "    fig,ax = plt.subplots(1,1)\n",
    "    im_svr = plt.imshow(X_SVR)\n",
    "    plt.xticks([])\n",
    "    plt.yticks([])\n",
    "    plt.xlabel('Selected feature index')\n",
    "    plt.ylabel('Class')\n",
    "    plt.title('Support vectors weights')\n",
    "    divider = make_axes_locatable(ax)\n",
    "    cax = divider.append_axes('right',size='5%',pad=0.05)\n",
    "    plt.colorbar(im_svr,cax=cax,orientation='vertical')\n",
    "\n",
    "    X_Lasso = clf_nsvr.best_estimator_.steps[0][1]._transform(X_t)\n",
    "    fig,ax = plt.subplots(1,1)\n",
    "    plt.stem(X_Lasso.ravel())\n",
    "    plt.xticks([])\n",
    "    plt.yticks([])\n",
    "    plt.xlabel('Selected feature index')\n",
    "    plt.ylabel('Feature weight index')\n",
    "    plt.title('Lasso feature weights')\n"
   ]
  }
 ],
 "metadata": {
  "kernelspec": {
   "display_name": "pdradenv",
   "language": "python",
   "name": "python3"
  },
  "language_info": {
   "codemirror_mode": {
    "name": "ipython",
    "version": 3
   },
   "file_extension": ".py",
   "mimetype": "text/x-python",
   "name": "python",
   "nbconvert_exporter": "python",
   "pygments_lexer": "ipython3",
   "version": "3.7.12"
  },
  "orig_nbformat": 4,
  "vscode": {
   "interpreter": {
    "hash": "14732b5bb7ad6abfe54a083b8d194ae3941adfb1b18321b588b21cb8f420fced"
   }
  }
 },
 "nbformat": 4,
 "nbformat_minor": 2
}
