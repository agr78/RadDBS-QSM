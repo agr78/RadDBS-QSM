{
 "cells": [
  {
   "cell_type": "code",
   "execution_count": 1,
   "metadata": {},
   "outputs": [],
   "source": [
    "# Import libraries\n",
    "import numpy as np\n",
    "import util\n",
    "import copy\n",
    "import pandas as pd"
   ]
  },
  {
   "cell_type": "markdown",
   "metadata": {},
   "source": [
    "### Synthetic Data Vault workflow\n",
    "<p align=\"center\">\n",
    "<img src=\"./svd_wf.PNG\" width=1000 height=400/>\n",
    "</p>"
   ]
  },
  {
   "cell_type": "code",
   "execution_count": 2,
   "metadata": {},
   "outputs": [],
   "source": [
    "# Get case IDs\n",
    "case_list = open('/home/ali/RadDBS-QSM/data/docs/cases_90','r')\n",
    "lines = case_list.read()\n",
    "lists = np.loadtxt(case_list.name,comments=\"#\", delimiter=\",\",unpack=False,dtype=str)\n",
    "case_id = []\n",
    "for lines in lists:     \n",
    "    case_id.append(lines[-9:-7])\n",
    "\n",
    "# Load scores\n",
    "file_dir = '/home/ali/RadDBS-QSM/data/docs/QSM anonymus- 6.22.2023-1528_wldd.csv'\n",
    "motor_df = util.filter_scores(file_dir,'pre-dbs updrs','stim','pre op levadopa equivalent dose (mg)','CORNELL ID')\n",
    "# Find cases with all required scores\n",
    "subs,pre_imp,post_imp,pre_updrs_off,ledd = util.get_full_cases(motor_df,\n",
    "                                                          'CORNELL ID',\n",
    "                                                          'OFF (pre-dbs updrs)',\n",
    "                                                          'ON (pre-dbs updrs)',\n",
    "                                                          'pre op levadopa equivalent dose (mg)',\n",
    "                                                          'OFF meds ON stim 6mo')\n",
    "# Load extracted features\n",
    "npy_dir = '/home/ali/RadDBS-QSM/data/npy/'\n",
    "phi_dir = '/home/ali/RadDBS-QSM/data/phi/phi/'\n",
    "roi_path = '/data/Ali/atlas/mcgill_pd_atlas/PD25-subcortical-labels.csv'\n",
    "n_rois = 6\n",
    "all_rois = False\n",
    "Phi_all, X_all, R_all, K_all, ID_all = util.load_featstruct(phi_dir,npy_dir+'X/',npy_dir+'R/',npy_dir+'K/',n_rois,1595,all_rois)\n",
    "ids = np.asarray(ID_all).astype(int)\n",
    "# Find overlap between scored subjects and feature extraction cases\n",
    "c_cases = np.intersect1d(np.asarray(case_id).astype(int),np.asarray(subs).astype(int))\n",
    "# Complete case indices with respect to feature matrix\n",
    "c_cases_idx = np.in1d(ids,c_cases)\n",
    "\n",
    "X_all_c, K, R, subsc, pre_imp, pre_updrs_off, per_change, ledd = util.re_index(X_all,K_all,R_all,c_cases_idx,subs,ids,all_rois,pre_imp,pre_updrs_off,post_imp,ledd)\n",
    "T = X_all_c"
   ]
  },
  {
   "cell_type": "markdown",
   "metadata": {},
   "source": [
    "### Generative model\n",
    "For table $T \\ [=] \\ m \\times n$ with $m$ patients and $n$ features, want to uncover model $\\Phi_{\\Sigma}[\\Phi^{-1}(F_i(X_i))]$ where each column $X_i$ where $i \\ \\in \\ [1,...,n]$ in table $T$ is modeled by a Guassian copula $\\Phi^{-1}(F_i(X_i))$ \\\n",
    "At each column $i$, a probability distribution over the feature can be modeled with covariance $\\Sigma$ describing the effect of feature $i$ on feature $i'$. \\\n",
    "The shape of the distribution of each feature is described by the cumulative distribution function (CDF) $F_i$. Possible distributions are: \n",
    "* Gaussian $\\mathcal{N}(\\mu,\\sigma^2)$\n",
    "* Truncated Gaussian $\\mathcal{N}(\\mu,\\sigma^2,g_{min},g_{max})$\n",
    "* Uniform $\\mathcal{U}(g_{min},g_{max})$\n",
    "* Beta $\\mathcal{B}(\\alpha,\\beta)$\n",
    "* Exponential $\\mathcal{E}(\\lambda)$\n",
    "\n",
    "The Kolmogorov-Smirnov test can test the choice of distribution fit. \\\n",
    "Since the covariance is biased by choice of distribution, multivariate Gaussian copulas are used to determine inter-feature effects"
   ]
  },
  {
   "cell_type": "markdown",
   "metadata": {},
   "source": [
    "### Database modeling\n",
    "<p align=\"center\">\n",
    "<img src=\"./sdv_cpa.PNG\" width=1000 height=300/>\n",
    "</p>"
   ]
  },
  {
   "cell_type": "markdown",
   "metadata": {},
   "source": [
    "### Gaussian copula\n",
    "The probability integral transform enables any sample of random variables drawn from a continuous distribution to be expressed in terms of random variables with a standard uniform distribution, $\\mathcal{U}(0,1)$. A Gaussian copula arises from this transform as a distribution over the unit hypercube $[0,1]^d$ from a multivariate normal distribution $\\in \\ \\mathbb{R}^d$. For any correlation matrix $R \\ in \\ [-1,1]^{d \\times d}$, the Gaussian copula $C$ is\n",
    "\n",
    "$$C_{R} = \\Phi_R(\\Phi^{-1}(u_1),...,\\Phi^{-1}(u_d))$$\n",
    "\n",
    "Where $\\Phi_R$ is the joint cumulative distribution function of multivariate $\\mathcal{N}(0,R)$ and $\\Phi^{-1}$ is its inverse. The copula can be expanded: \n",
    "\n",
    "$$C_{R}(u)=\\frac{1}{\\sqrt{\\mathrm{det}(R)}}e^{-\\frac{1}{2}\\left(\\Phi^{-1}(\\vec{u})^T\\right)\\cdot(R^{-1}-I)\\left(\\Phi^{-1}(\\vec{u})\\right)}$$\n",
    "\n",
    "From the <i>Generative model</i> section, let $Y = \\Phi^{-1}(F_i(X_i))$ so that \n",
    "\n",
    "$$Y = [\\Phi^{-1}(F_0(X_0)) \\ ... \\ \\Phi^{-1}(F_n(X_n))]$$\n",
    "\n",
    "Then covariance $\\Sigma$ can be computed over the transformed values in the table"
   ]
  },
  {
   "cell_type": "markdown",
   "metadata": {},
   "source": [
    "### Sampling\n",
    "For a table $T$ with CDFs $F$ and covariance $\\Sigma$:\n",
    "* Find the Cholesky decomposition $LL^T=\\Sigma$ \n",
    "* Sample $v \\ [=] \\ n \\times 1$\n",
    "* Apply transformation $u=Lv$ in copula space\n",
    "* Return to table space $x = [F^{-1}_0(\\Phi(u_0)) \\ ... \\ F^{-1}_n(\\Phi(u_n))]$"
   ]
  },
  {
   "cell_type": "code",
   "execution_count": null,
   "metadata": {},
   "outputs": [],
   "source": [
    "from sdv.lite import SingleTablePreset\n",
    "\n",
    "synthesizer = SingleTablePreset(metadata, name='FAST_ML')\n",
    "synthesizer.fit(data=real_data)"
   ]
  }
 ],
 "metadata": {
  "kernelspec": {
   "display_name": "pdradenv",
   "language": "python",
   "name": "python3"
  },
  "language_info": {
   "codemirror_mode": {
    "name": "ipython",
    "version": 3
   },
   "file_extension": ".py",
   "mimetype": "text/x-python",
   "name": "python",
   "nbconvert_exporter": "python",
   "pygments_lexer": "ipython3",
   "version": "3.7.16"
  }
 },
 "nbformat": 4,
 "nbformat_minor": 2
}
