{
 "cells": [
  {
   "cell_type": "code",
   "execution_count": null,
   "metadata": {},
   "outputs": [],
   "source": [
    "# Import libraries\n",
    "import sys\n",
    "import os\n",
    "module_path = os.path.abspath(os.path.join('..'))\n",
    "if module_path not in sys.path:\n",
    "    sys.path.append(module_path+\"/jupyter\")\n",
    "import numpy as np\n",
    "import util\n",
    "import copy\n",
    "import pandas as pd\n",
    "import cv2\n",
    "from string import digits\n",
    "from sdv.lite import SingleTablePreset\n",
    "from sdv.single_table import GaussianCopulaSynthesizer, CTGANSynthesizer, CopulaGANSynthesizer\n",
    "from sdv.metadata import SingleTableMetadata\n",
    "from sdv.evaluation.single_table import get_column_plot\n",
    "from sdv.metrics.tabular import ContinuousKLDivergence"
   ]
  },
  {
   "cell_type": "markdown",
   "metadata": {},
   "source": [
    "### Synthetic Data Vault workflow\n",
    "<p align=\"center\">\n",
    "<img src=\"./svd_wf.PNG\" width=1000 height=400/>\n",
    "</p>"
   ]
  },
  {
   "cell_type": "code",
   "execution_count": null,
   "metadata": {},
   "outputs": [],
   "source": [
    "# Get case IDs\n",
    "case_list = open('/home/ali/RadDBS-QSM/data/docs/cases_90','r')\n",
    "lines = case_list.read()\n",
    "lists = np.loadtxt(case_list.name,comments=\"#\", delimiter=\",\",unpack=False,dtype=str)\n",
    "case_id = []\n",
    "for lines in lists:     \n",
    "    case_id.append(lines[-9:-7])\n",
    "\n",
    "# Load scores\n",
    "file_dir = '/home/ali/RadDBS-QSM/data/docs/QSM anonymus- 6.22.2023-1528_wldd.csv'\n",
    "motor_df = util.filter_scores(file_dir,'pre-dbs updrs','stim','pre op levadopa equivalent dose (mg)','CORNELL ID')\n",
    "# Find cases with all required scores\n",
    "subs,pre_imp,post_imp,pre_updrs_off,ledd = util.get_full_cases(motor_df,\n",
    "                                                          'CORNELL ID',\n",
    "                                                          'OFF (pre-dbs updrs)',\n",
    "                                                          'ON (pre-dbs updrs)',\n",
    "                                                          'OFF meds ON stim 6mo',\n",
    "                                                          'pre op levadopa equivalent dose (mg)')\n",
    "\n",
    "# Load extracted features\n",
    "npy_dir = '/home/ali/RadDBS-QSM/data/npy/'\n",
    "phi_dir = '/home/ali/RadDBS-QSM/data/phi/phi/'\n",
    "roi_path = '/data/Ali/atlas/mcgill_pd_atlas/PD25-subcortical-labels.csv'\n",
    "n_rois = 6\n",
    "all_rois = False\n",
    "Phi_all, X_all, R_all, K_all, ID_all = util.load_featstruct(phi_dir,npy_dir+'X/',npy_dir+'R/',npy_dir+'K/',n_rois,1595,all_rois)\n",
    "ids = np.asarray(ID_all).astype(int)\n",
    "# Find overlap between scored subjects and feature extraction cases\n",
    "c_cases = np.intersect1d(np.asarray(case_id).astype(int),np.asarray(subs).astype(int))\n",
    "# Complete case indices with respect to feature matrix\n",
    "c_cases_idx = np.in1d(ids,c_cases)\n",
    "X_all = X_all[:,:,:]\n",
    "K_all = K_all[:,:,:]\n",
    "R_all = R_all[:,:,:]\n",
    "R = np.random.randint(low=0,high=1e6,size=(K_all.shape))\n",
    "K_all = np.char.add(K_all,R.astype(str))\n",
    "X_all_c, K, R, subsc, pre_imp, pre_updrs_off, per_change, ledd = util.re_index(X_all,K_all,R_all,c_cases_idx,subs,ids,all_rois,pre_imp,pre_updrs_off,post_imp,ledd)\n"
   ]
  },
  {
   "cell_type": "markdown",
   "metadata": {},
   "source": [
    "### Generative model\n",
    "For table $T \\ [=] \\ m \\times n$ with $m$ patients and $n$ features, want to uncover model $\\Phi_{\\Sigma}[\\Phi^{-1}(F_i(X_i))]$ where each column $X_i$ where $i \\ \\in \\ [1,...,n]$ in table $T$ is modeled by a Guassian copula $\\Phi^{-1}(F_i(X_i))$ \\\n",
    "At each column $i$, a probability distribution over the feature can be modeled with covariance $\\Sigma$ describing the effect of feature $i$ on feature $i'$. \\\n",
    "The shape of the distribution of each feature is described by the cumulative distribution function (CDF) $F_i$. Possible distributions are: \n",
    "* Gaussian $\\mathcal{N}(\\mu,\\sigma^2)$\n",
    "* Truncated Gaussian $\\mathcal{N}(\\mu,\\sigma^2,g_{min},g_{max})$\n",
    "* Uniform $\\mathcal{U}(g_{min},g_{max})$\n",
    "* Beta $\\mathcal{B}(\\alpha,\\beta)$\n",
    "* Exponential $\\mathcal{E}(\\lambda)$\n",
    "\n",
    "The Kolmogorov-Smirnov test can test the choice of distribution fit. \\\n",
    "Since the covariance is biased by choice of distribution, multivariate Gaussian copulas are used to determine inter-feature effects"
   ]
  },
  {
   "cell_type": "markdown",
   "metadata": {},
   "source": [
    "### Database modeling\n",
    "<p align=\"center\">\n",
    "<img src=\"./sdv_cpa.PNG\" width=1000 height=300/>\n",
    "</p>"
   ]
  },
  {
   "cell_type": "markdown",
   "metadata": {},
   "source": [
    "### Gaussian copula\n",
    "The probability integral transform enables any sample of random variables drawn from a continuous distribution to be expressed in terms of random variables with a standard uniform distribution, $\\mathcal{U}(0,1)$. A Gaussian copula arises from this transform as a distribution over the unit hypercube $[0,1]^d$ from a multivariate normal distribution $\\in \\ \\mathbb{R}^d$. For any correlation matrix $R \\ in \\ [-1,1]^{d \\times d}$, the Gaussian copula $C$ is\n",
    "\n",
    "$$C_{R} = \\Phi_R(\\Phi^{-1}(u_1),...,\\Phi^{-1}(u_d))$$\n",
    "\n",
    "Where $\\Phi_R$ is the joint cumulative distribution function of multivariate $\\mathcal{N}(0,R)$ and $\\Phi^{-1}$ is its inverse. The copula can be expanded: \n",
    "\n",
    "$$C_{R}(u)=\\frac{1}{\\sqrt{\\mathrm{det}(R)}}e^{-\\frac{1}{2}\\left(\\Phi^{-1}(\\vec{u})^T\\right)\\cdot(R^{-1}-I)\\left(\\Phi^{-1}(\\vec{u})\\right)}$$\n",
    "\n",
    "From the <i>Generative model</i> section, let $Y = \\Phi^{-1}(F_i(X_i))$ so that \n",
    "\n",
    "$$Y = [\\Phi^{-1}(F_0(X_0)) \\ ... \\ \\Phi^{-1}(F_n(X_n))]$$\n",
    "\n",
    "Then covariance $\\Sigma$ can be computed over the transformed values in the table"
   ]
  },
  {
   "cell_type": "markdown",
   "metadata": {},
   "source": [
    "### Sampling\n",
    "For a table $T$ with CDFs $F$ and covariance $\\Sigma$:\n",
    "* Find the Cholesky decomposition $LL^T=\\Sigma$ \n",
    "* Sample $v \\ [=] \\ n \\times 1$\n",
    "* Apply transformation $u=Lv$ in copula space\n",
    "* Return to table space $x = [F^{-1}_0(\\Phi(u_0)) \\ ... \\ F^{-1}_n(\\Phi(u_n))]$"
   ]
  },
  {
   "cell_type": "code",
   "execution_count": null,
   "metadata": {},
   "outputs": [],
   "source": [
    "T = np.append(X_all_c.reshape(X_all_c.shape[0],-1),pre_updrs_off.reshape(-1,1),axis=1)\n",
    "T = np.append(T,ledd.reshape(-1,1),axis=1)\n",
    "Kt = np.append(K,['per_change'])\n",
    "Kt = np.append(Kt,['ledd'])\n",
    "Kt = np.insert(Kt,0,['id'])\n",
    "T = np.append(T,per_change.reshape(-1,1),axis=1)\n",
    "T = np.insert(T,0,subsc,axis=1)\n",
    "for j in np.arange(T.shape[1]):\n",
    "    if np.var(T[:,j]) == 0:\n",
    "        print('Constant entries at '+Kt[j])\n",
    "T = pd.DataFrame(data=T,columns=Kt)\n",
    "T.astype({'id': 'int32'}).dtypes"
   ]
  },
  {
   "cell_type": "code",
   "execution_count": null,
   "metadata": {},
   "outputs": [],
   "source": [
    "resample = 0\n",
    "metadata = SingleTableMetadata()\n",
    "if resample == 1:\n",
    "    metadata.detect_from_dataframe(T)\n",
    "    metadata.update_column(\n",
    "        column_name='id',\n",
    "        sdtype='id')\n",
    "    metadata.set_primary_key(\n",
    "    column_name='id')\n",
    "    metadata.validate()\n",
    "    synthesizer = GaussianCopulaSynthesizer(metadata,\n",
    "                                            enforce_min_max_values=False,\n",
    "                                            enforce_rounding=True,\n",
    "                                            default_distribution='gaussian_kde')\n",
    "    synthesizer.fit(data=T)\n",
    "    Ts = synthesizer.sample(47)\n",
    "    Ts.to_pickle('Ts_df_kde') \n",
    "    Xs = Ts.to_numpy()\n",
    "    np.save('Xs_kde.npy',Xs)\n",
    "else:\n",
    "    Xs = np.load('Xs_kde.npy')\n",
    "    Ts = pd.read_pickle('Ts_df_kde')\n",
    "    T.columns = Ts.columns\n",
    "    # metadata.detect_from_dataframe(Ts)\n",
    "    # metadata.update_column(\n",
    "    #     column_name='id',\n",
    "    #     sdtype='id')\n",
    "    # metadata.set_primary_key(\n",
    "    #     column_name='id')\n",
    "    # metadata.validate()"
   ]
  },
  {
   "cell_type": "code",
   "execution_count": null,
   "metadata": {},
   "outputs": [],
   "source": [
    "Ts"
   ]
  },
  {
   "cell_type": "code",
   "execution_count": null,
   "metadata": {},
   "outputs": [],
   "source": [
    "KL = []\n",
    "for columns in Ts.columns:\n",
    "    p,q = util.make_pdfs(T[columns],Ts[columns],100)\n",
    "    kl = util.kl_divergence(p,q)\n",
    "    print(kl)"
   ]
  },
  {
   "cell_type": "code",
   "execution_count": null,
   "metadata": {},
   "outputs": [],
   "source": [
    "rewrite = 0\n",
    "if rewrite == 1:\n",
    "    for j in np.arange(1,Kt.shape[0]):\n",
    "        try:\n",
    "            fig = get_column_plot(\n",
    "                real_data=T,\n",
    "                synthetic_data=Ts,\n",
    "                column_name=Ts.columns[j],\n",
    "                metadata=metadata,\n",
    "            )\n",
    "            fig.write_image(\"./distributions/fig\"+str(j)+\".jpeg\",width=1000, height=500)\n",
    "        except:\n",
    "            print('Singular covariance matrix at feature',Kt[j])"
   ]
  },
  {
   "cell_type": "code",
   "execution_count": null,
   "metadata": {},
   "outputs": [],
   "source": [
    "fig = get_column_plot(\n",
    "    real_data=T,\n",
    "    synthetic_data=Ts,\n",
    "    column_name=Ts.columns[2],\n",
    "    metadata=metadata,\n",
    ")\n",
    "\n",
    "fig.show()"
   ]
  },
  {
   "cell_type": "code",
   "execution_count": null,
   "metadata": {},
   "outputs": [],
   "source": [
    "rerecord = 0\n",
    "if rerecord == 1:\n",
    "    image_folder = 'distributions'\n",
    "    video_name = 'dists.avi'\n",
    "\n",
    "    images = [img for img in os.listdir(image_folder) if img.endswith(\".jpeg\")]\n",
    "    frame = cv2.imread(os.path.join(image_folder, images[0]))\n",
    "    height, width, layers = frame.shape\n",
    "    video = cv2.VideoWriter(video_name, 0, 10, (width,height))\n",
    "\n",
    "    for image in images:\n",
    "        video.write(cv2.imread(os.path.join(image_folder, image)))\n",
    "\n",
    "    cv2.destroyAllWindows()\n",
    "    video.release()"
   ]
  }
 ],
 "metadata": {
  "kernelspec": {
   "display_name": "pdradenv",
   "language": "python",
   "name": "python3"
  },
  "language_info": {
   "codemirror_mode": {
    "name": "ipython",
    "version": 3
   },
   "file_extension": ".py",
   "mimetype": "text/x-python",
   "name": "python",
   "nbconvert_exporter": "python",
   "pygments_lexer": "ipython3",
   "version": "3.7.16"
  }
 },
 "nbformat": 4,
 "nbformat_minor": 2
}
